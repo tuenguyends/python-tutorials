{
 "cells": [
  {
   "cell_type": "markdown",
   "id": "14f5e99d-4606-47ae-8d98-38d7e937b2d3",
   "metadata": {},
   "source": [
    "# Introduction to Python"
   ]
  },
  {
   "cell_type": "markdown",
   "id": "7b2ca19f-7bc3-4dce-9244-2f3eb94026d2",
   "metadata": {},
   "source": [
    "## What is Python?\n",
    "\n",
    "Python is a general-purpose programming language. General-purpose simply means it can do a lot of stuff in many different fields. Here are some examples\n",
    "\n",
    "- Data science\n",
    "- Scientific computing\n",
    "- Software development\n",
    "- Web development\n",
    "- Game development\n",
    "- Graphical User Interface (GUI)\n",
    "- Embedded systems\n",
    "- And many more\n",
    "\n",
    "\n",
    "Python was created by Guido van Rossum in 1989 and released in 1991. Since then it has grown consistently and become one of the most popular programming languages. In fact, as of March 2022, it is the most popular programming language according to the [TIOBE](https://www.tiobe.com/tiobe-index/)."
   ]
  },
  {
   "cell_type": "markdown",
   "id": "04f83d20-7634-428e-ac66-5590be5bce14",
   "metadata": {},
   "source": [
    "## Who uses Python?\n",
    "\n",
    "A lot!\n",
    "\n",
    "Individuals use Python in their daily work or for personal hobbies. They are not limited to programmers or engineers but can be economists, analysts, or social sciences students/researchers.\n",
    "\n",
    "Organizations also use Python extensively in their production and operation. Tech companies, investment banks, universities, and research institutes are typical employers for those with Python skills."
   ]
  },
  {
   "cell_type": "markdown",
   "id": "0d1c74a9-7408-46a4-9995-7ed756a8e307",
   "metadata": {},
   "source": [
    "## Why Python?\n",
    "\n",
    "Because it is free, powerful, elegant, easy to learn, and in high demand."
   ]
  },
  {
   "cell_type": "markdown",
   "id": "d1fbe2a7-c164-4d7e-9f91-fe63f36fed94",
   "metadata": {},
   "source": [
    "## Python 2 or 3?\n",
    "\n",
    "The quick answer is Python 3.\n",
    "\n",
    "Python 2 has some serious issues (which I will not discuss here), and thus the Python core team just decided to abandon it and started a new version - Python 3 (which is much better). Code written in Python 2 might not work with Python 3 and vice versa. In short, Python 2 is almost dead now, so use Python 3."
   ]
  }
 ],
 "metadata": {
  "kernelspec": {
   "display_name": "Python 3 (ipykernel)",
   "language": "python",
   "name": "python3"
  },
  "language_info": {
   "codemirror_mode": {
    "name": "ipython",
    "version": 3
   },
   "file_extension": ".py",
   "mimetype": "text/x-python",
   "name": "python",
   "nbconvert_exporter": "python",
   "pygments_lexer": "ipython3",
   "version": "3.9.7"
  },
  "toc-autonumbering": true,
  "toc-showcode": false,
  "toc-showmarkdowntxt": false
 },
 "nbformat": 4,
 "nbformat_minor": 5
}
