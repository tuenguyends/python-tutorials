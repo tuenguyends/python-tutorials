{
 "cells": [
  {
   "cell_type": "markdown",
   "id": "99556b15-ce4f-49e6-a867-4332f93c0fa6",
   "metadata": {},
   "source": [
    "# Environment setup"
   ]
  },
  {
   "cell_type": "markdown",
   "id": "f30098aa-f060-4bd3-8fa1-ab1ddcc40419",
   "metadata": {},
   "source": [
    "There are several ways to start working on a Python project. You can choose to install pure Python and use its IDLE interface to write and run your code. However, a better alternative is to use Anaconda and Git Bash."
   ]
  },
  {
   "cell_type": "markdown",
   "id": "a4032a94-48de-43d6-95bd-1f6f7fb175dc",
   "metadata": {},
   "source": [
    "## Anaconda\n",
    "\n",
    "**What is Anaconda?** Anaconda is a distribution of Python and R for data science and scientific computing. The standard installation of Anaconda consists of\n",
    "\n",
    "- 250+ popular packages\n",
    "- A package manager\n",
    "- An environment manager\n",
    "- Jupyter Lab - a powerful IDE for coding\n",
    "\n",
    "**Why Anaconda?** Anaconda makes it much easier for you to work on your data science project. \n",
    "\n",
    "- Often, your project will use different packages, many of which already come with Anaconda's standard installation\n",
    "\n",
    "- You can also use Anaconda to install additional packages from a repository of 7,500+ open source packages\n",
    "\n",
    "- Anaconda's package manager will take care of all the dependencies to make sure everything is compatible with each other\n",
    "\n",
    "- You can also create multiple environments with different configurations for different projects you want."
   ]
  },
  {
   "cell_type": "markdown",
   "id": "f16ad595-3b18-430b-9acd-a6b232bd8caa",
   "metadata": {},
   "source": [
    "## Git\n",
    "**What is Git?** Git is a version control system used to track modifications to a source code repository. However, it's not the reason we install it here. We install Git to get Git Bash, a great command-line app that makes launching Jupyter Lab much easier.\n",
    "\n",
    "**Note** that only Windows users need to download and install Git. macOS and Linux have great native command-line apps already."
   ]
  },
  {
   "cell_type": "markdown",
   "id": "a908b91b-a5ce-4518-b2bd-f4fe440d2eb8",
   "metadata": {},
   "source": [
    "## Download Anaconda\n",
    "\n",
    "You can download Anaconda at https://www.anaconda.com. If the domain has changed you can use Google. \n",
    "\n",
    "Remember to choose the appropriate installer for your operating system.\n"
   ]
  },
  {
   "cell_type": "markdown",
   "id": "04423f49-3699-492f-a3a3-e00a63f55f48",
   "metadata": {},
   "source": [
    "## Install Anaconda\n",
    "When installing Anaconda, just follow the instructions but pay attention to the `Advanced installation options` stage. You should select **both checkboxes** although the first one says *not recommended* (see picture below)."
   ]
  },
  {
   "cell_type": "markdown",
   "id": "c6156e86-1767-4544-b493-ae623515a64d",
   "metadata": {},
   "source": [
    "<img src=\"../_static/img/anaconda_install.png\" width=\"450px\">"
   ]
  },
  {
   "cell_type": "markdown",
   "id": "3870fb13-73fa-4544-b57a-73dbe78b84ba",
   "metadata": {},
   "source": [
    "## Download Git\n",
    "\n",
    "You can download Git at: https://git-scm.com, and of course, use Google if the domain has changed."
   ]
  },
  {
   "cell_type": "markdown",
   "id": "293714d5-3ecd-49cf-b5ff-9778716f0a23",
   "metadata": {},
   "source": [
    "## Install Git\n",
    "\n",
    "Just follow the instructions and accept all default options. No special modification is needed."
   ]
  },
  {
   "cell_type": "markdown",
   "id": "597207ef-2c2e-4e5b-9f6a-0d290f79c9b6",
   "metadata": {},
   "source": [
    "## Double-check\n",
    "\n",
    "Type `Git Bash` into the search window, and if Git Bash is available then it was installed correctly.\n",
    "\n",
    "Hit `Enter` to open Git Bash. You will see a black window with a blinking cursor. This window is the Git Bash **terminal**.\n",
    "\n",
    "Now type `conda --version` into the terminal, and hit `Enter`. If you see something like `conda 4.12.0` printed out, then Anaconda was installed correctly."
   ]
  },
  {
   "cell_type": "markdown",
   "id": "70f57194-a12a-47f4-8c32-10e48a43bc50",
   "metadata": {},
   "source": [
    "## Create a workspace\n",
    "\n",
    "A **workspace** is just a folder/directory on your computer where you host stuff for a given project such as code files, data, output, documentation, etc. The workspace is sometimes called the **root** directory.\n",
    " \n",
    "Often, you will work on multiple projects, so it's best to have a parent folder for them, for example, `D:/ds_projects/`.\n",
    "\n",
    "\n",
    "Now go inside `D:/ds_projects/` and create a folder named `example/`, then go inside `example/` and create several sub-folders following the structure below.\n",
    "\n",
    "```\n",
    "example/\n",
    "    |____ data/\n",
    "    |____ nb/\n",
    "    |____ lib/\n",
    "    |____ out/\n",
    "    |____ docs/\n",
    "```\n",
    "\n",
    "Here, `data/` is for your data files. `nb/` is for your analytics notebooks. `lib/` is for your custom modules. `out/` is for output such as exported Excel files or graphs. `docs/` is for related documents.\n",
    "\n",
    "For simplicity, you only need the `nb/` folder in this tutorial. However, the structure suggested above is a good guideline for you when working on more complex projects in the future."
   ]
  }
 ],
 "metadata": {
  "kernelspec": {
   "display_name": "Python 3 (ipykernel)",
   "language": "python",
   "name": "python3"
  },
  "language_info": {
   "codemirror_mode": {
    "name": "ipython",
    "version": 3
   },
   "file_extension": ".py",
   "mimetype": "text/x-python",
   "name": "python",
   "nbconvert_exporter": "python",
   "pygments_lexer": "ipython3",
   "version": "3.9.7"
  }
 },
 "nbformat": 4,
 "nbformat_minor": 5
}
