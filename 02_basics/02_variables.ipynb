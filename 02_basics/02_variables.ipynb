{
 "cells": [
  {
   "cell_type": "markdown",
   "id": "eedaa7e6-ce80-4469-9ca9-2a8deac84d1f",
   "metadata": {},
   "source": [
    "# Variables and assignments"
   ]
  },
  {
   "cell_type": "markdown",
   "id": "d31fa96e-79c3-4053-811f-4c1f065ad25b",
   "metadata": {},
   "source": [
    "To be updated"
   ]
  }
 ],
 "metadata": {
  "kernelspec": {
   "display_name": "Matlab",
   "language": "matlab",
   "name": "matlab"
  },
  "language_info": {
   "codemirror_mode": "octave",
   "file_extension": ".m",
   "help_links": [
    {
     "text": "MetaKernel Magics",
     "url": "https://metakernel.readthedocs.io/en/latest/source/README.html"
    }
   ],
   "mimetype": "text/x-octave",
   "name": "matlab",
   "version": "0.16.11"
  }
 },
 "nbformat": 4,
 "nbformat_minor": 5
}
