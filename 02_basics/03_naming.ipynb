{
 "cells": [
  {
   "cell_type": "markdown",
   "id": "34d9e9ce-29c1-4690-82c6-85ab349f449a",
   "metadata": {},
   "source": [
    "# Naming rules and convention"
   ]
  },
  {
   "cell_type": "markdown",
   "id": "99a0e979-8c93-490e-a060-eb6b85cf3d41",
   "metadata": {},
   "source": [
    "To be updated"
   ]
  }
 ],
 "metadata": {
  "kernelspec": {
   "display_name": "Python 3 (ipykernel)",
   "language": "python",
   "name": "python3"
  },
  "language_info": {
   "codemirror_mode": {
    "name": "ipython",
    "version": 3
   },
   "file_extension": ".py",
   "mimetype": "text/x-python",
   "name": "python",
   "nbconvert_exporter": "python",
   "pygments_lexer": "ipython3",
   "version": "3.9.7"
  }
 },
 "nbformat": 4,
 "nbformat_minor": 5
}
