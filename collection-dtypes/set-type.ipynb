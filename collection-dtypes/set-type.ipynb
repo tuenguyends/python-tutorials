{
 "cells": [
  {
   "cell_type": "markdown",
   "id": "74907042-45c0-4c32-912c-4aa85f5b712e",
   "metadata": {},
   "source": [
    "# Set type\n",
    "Author: Tue Nguyen"
   ]
  },
  {
   "cell_type": "markdown",
   "id": "cd93ab87-8847-43a1-8be9-5eafd90e6ff1",
   "metadata": {},
   "source": [
    "## Outline\n",
    "- What is a set?\n",
    "- Create a set\n",
    "- Iterate through a set\n",
    "- Copy a set\n",
    "- Operations on sets\n",
    "- Frozen sets"
   ]
  },
  {
   "cell_type": "markdown",
   "id": "e76eaacc-6303-44d8-870e-189f65e1c995",
   "metadata": {},
   "source": [
    "## What is a set?\n",
    "- A set is an **mutable** collection of unique immutable elements\n",
    "- The set itself is mutable\n",
    "- But its elements must be immutable and unique\n",
    "- Elements of a set are not ordered\n",
    "    - We cannot use indexing or slicing as with lists\n",
    "    - There's no way to access an element of a set\n",
    "    - We can only check if a value is in a set or not"
   ]
  },
  {
   "cell_type": "markdown",
   "id": "47797cce-9adb-4af1-baf9-1403baebc926",
   "metadata": {},
   "source": [
    "## Create a set"
   ]
  },
  {
   "cell_type": "code",
   "execution_count": 1,
   "id": "16f29376-c356-4356-ae37-754a98ccb990",
   "metadata": {},
   "outputs": [
    {
     "name": "stdout",
     "output_type": "stream",
     "text": [
      "{1, 2, 3}\n",
      "<class 'set'>\n"
     ]
    }
   ],
   "source": [
    "# We create a set using {}\n",
    "s = {1, 2, 3}\n",
    "print(s)\n",
    "print(type(s))"
   ]
  },
  {
   "cell_type": "code",
   "execution_count": 4,
   "id": "de71a933-4c36-4a90-8ca8-49ee88e02b0f",
   "metadata": {},
   "outputs": [
    {
     "data": {
      "text/plain": [
       "set()"
      ]
     },
     "execution_count": 4,
     "metadata": {},
     "output_type": "execute_result"
    }
   ],
   "source": [
    "# However, we cannot create an empty set using {}\n",
    "# Because by default {} means an empty dict\n",
    "# To create an empty set we use set()\n",
    "s = set()\n",
    "s"
   ]
  },
  {
   "cell_type": "markdown",
   "id": "481c2e61-c99d-4d6e-85ca-c8d1eed8f221",
   "metadata": {},
   "source": [
    "## Conversion to sets\n",
    "We use `set()` to convert an object to a set"
   ]
  },
  {
   "cell_type": "code",
   "execution_count": 7,
   "id": "397a1e9f-1849-42e9-b10f-d70b63f4cd16",
   "metadata": {},
   "outputs": [
    {
     "data": {
      "text/plain": [
       "{1, 2, 3}"
      ]
     },
     "execution_count": 7,
     "metadata": {},
     "output_type": "execute_result"
    }
   ],
   "source": [
    "# List to set\n",
    "set([1, 2, 3])"
   ]
  },
  {
   "cell_type": "code",
   "execution_count": 8,
   "id": "314af3c2-f105-4ac6-9a14-ea5462ae6f3e",
   "metadata": {},
   "outputs": [
    {
     "data": {
      "text/plain": [
       "{1, 2, 3}"
      ]
     },
     "execution_count": 8,
     "metadata": {},
     "output_type": "execute_result"
    }
   ],
   "source": [
    "# Tuple to set\n",
    "set((1, 2, 3))"
   ]
  },
  {
   "cell_type": "code",
   "execution_count": 10,
   "id": "d7e00539-0946-45ef-a114-c089c6625030",
   "metadata": {},
   "outputs": [
    {
     "data": {
      "text/plain": [
       "{'k1', 'k2'}"
      ]
     },
     "execution_count": 10,
     "metadata": {},
     "output_type": "execute_result"
    }
   ],
   "source": [
    "# Dict to set (keep the keys)\n",
    "d = {\"k1\": \"v1\", \"k2\": \"v2\"}\n",
    "set(d)"
   ]
  },
  {
   "cell_type": "code",
   "execution_count": 11,
   "id": "ff3d81d0-d3eb-4a22-91cd-9ed7f26b0550",
   "metadata": {},
   "outputs": [
    {
     "data": {
      "text/plain": [
       "{'v1', 'v2'}"
      ]
     },
     "execution_count": 11,
     "metadata": {},
     "output_type": "execute_result"
    }
   ],
   "source": [
    "# To keep the values of the dict\n",
    "set(d.values())"
   ]
  },
  {
   "cell_type": "code",
   "execution_count": 12,
   "id": "d197d1d2-d33b-4568-9ef7-a8ef6fa97acd",
   "metadata": {},
   "outputs": [
    {
     "data": {
      "text/plain": [
       "{' ', 'a', 'g', 'h', 'i', 'n', 'r', 's', 't'}"
      ]
     },
     "execution_count": 12,
     "metadata": {},
     "output_type": "execute_result"
    }
   ],
   "source": [
    "# String to sets (auto remove duplicates)\n",
    "set(\"this is a string\")"
   ]
  },
  {
   "cell_type": "markdown",
   "id": "13fcab8c-8287-4810-b590-c241126c327b",
   "metadata": {},
   "source": [
    "## Iterate through set\n",
    "- Same as lists and tuples"
   ]
  },
  {
   "cell_type": "markdown",
   "id": "0db69dec-068d-4237-ba21-f3dda7b9f552",
   "metadata": {},
   "source": [
    "## Mutablity\n",
    "- A set is **mutable** \n",
    "- We can add, update, or delete elements"
   ]
  },
  {
   "cell_type": "markdown",
   "id": "bd554728-6613-4886-b41b-58ac9bc75fae",
   "metadata": {},
   "source": [
    "## Copy a set\n",
    "- Same as lists (there will be both shallow and deep copy)\n",
    "- However, note that elements of set are immubtable so there will be less confusion"
   ]
  },
  {
   "cell_type": "markdown",
   "id": "37a42559-b72b-4d1a-9c30-616f21900b76",
   "metadata": {},
   "source": [
    "## Operations on sets\n",
    "As a mutable type like lists, we also have two types of operations on sets\n",
    "\n",
    "- Regular operations\n",
    "- Inplace operations"
   ]
  },
  {
   "cell_type": "markdown",
   "id": "8b65a24f-483a-4696-9be8-d4416442e257",
   "metadata": {},
   "source": [
    "### Regular operations"
   ]
  },
  {
   "cell_type": "code",
   "execution_count": 18,
   "id": "08ffcc7b-58a4-4f09-8dab-ffaf88b03751",
   "metadata": {},
   "outputs": [],
   "source": [
    "# Init 2 sets\n",
    "s1 = {1, 2, 3, 4, 5}\n",
    "s2 = {0, 1, 2, 3}"
   ]
  },
  {
   "cell_type": "code",
   "execution_count": 19,
   "id": "2ed8dc55-54c5-4fde-9114-9ef861db355e",
   "metadata": {},
   "outputs": [
    {
     "data": {
      "text/plain": [
       "5"
      ]
     },
     "execution_count": 19,
     "metadata": {},
     "output_type": "execute_result"
    }
   ],
   "source": [
    "# Count number of elements\n",
    "len(s1)"
   ]
  },
  {
   "cell_type": "code",
   "execution_count": 20,
   "id": "009533a3-567a-4e65-8f10-afbde02be022",
   "metadata": {},
   "outputs": [
    {
     "data": {
      "text/plain": [
       "True"
      ]
     },
     "execution_count": 20,
     "metadata": {},
     "output_type": "execute_result"
    }
   ],
   "source": [
    "# Check membership\n",
    "2 in s1"
   ]
  },
  {
   "cell_type": "code",
   "execution_count": 21,
   "id": "e377b533-7261-4f3e-a17e-e0f2160f76fc",
   "metadata": {},
   "outputs": [
    {
     "data": {
      "text/plain": [
       "{0, 1, 2, 3, 4, 5}"
      ]
     },
     "execution_count": 21,
     "metadata": {},
     "output_type": "execute_result"
    }
   ],
   "source": [
    "# Set union\n",
    "s1 | s2"
   ]
  },
  {
   "cell_type": "code",
   "execution_count": 22,
   "id": "2a7e257c-a5bc-444c-b1e9-793ad7568a01",
   "metadata": {},
   "outputs": [
    {
     "data": {
      "text/plain": [
       "{1, 2, 3}"
      ]
     },
     "execution_count": 22,
     "metadata": {},
     "output_type": "execute_result"
    }
   ],
   "source": [
    "# Set intersection\n",
    "s1 & s2"
   ]
  },
  {
   "cell_type": "code",
   "execution_count": 23,
   "id": "60a4ea67-9690-417d-9de3-97d3b474674c",
   "metadata": {},
   "outputs": [
    {
     "data": {
      "text/plain": [
       "{4, 5}"
      ]
     },
     "execution_count": 23,
     "metadata": {},
     "output_type": "execute_result"
    }
   ],
   "source": [
    "# Set difference\n",
    "s1 - s2"
   ]
  },
  {
   "cell_type": "code",
   "execution_count": 26,
   "id": "fb832263-4370-4314-bba5-23e7e82d7ccf",
   "metadata": {},
   "outputs": [
    {
     "data": {
      "text/plain": [
       "{0, 4, 5}"
      ]
     },
     "execution_count": 26,
     "metadata": {},
     "output_type": "execute_result"
    }
   ],
   "source": [
    "# Symmetric difference\n",
    "s1 ^ s2"
   ]
  },
  {
   "cell_type": "code",
   "execution_count": 25,
   "id": "084e377c-abdf-4050-bb06-10b0ff5375c4",
   "metadata": {},
   "outputs": [
    {
     "name": "stdout",
     "output_type": "stream",
     "text": [
      "False\n",
      "True\n"
     ]
    }
   ],
   "source": [
    "# Check subset with < or <=\n",
    "print(s1 <= s2)\n",
    "print({1, 2} <= s2)"
   ]
  },
  {
   "cell_type": "markdown",
   "id": "c6c44c97-d68f-41a8-bd55-9b47f6c1d96f",
   "metadata": {},
   "source": [
    "**Remarks**\n",
    "\n",
    "- There are methods for set operations such as `s1.union(s2)`, `s1.intersection(s2)`, or `s1.issubset()`\n",
    "- However, using operators like `|`, `&`, or `<=` is shorter and more intuitive"
   ]
  },
  {
   "cell_type": "markdown",
   "id": "e7934454-1714-494a-a9e2-05924ebc5588",
   "metadata": {},
   "source": [
    "### Inplace operations"
   ]
  },
  {
   "cell_type": "code",
   "execution_count": 28,
   "id": "824e064b-5254-4de2-9df1-3bff55c98a15",
   "metadata": {},
   "outputs": [
    {
     "data": {
      "text/plain": [
       "{1, 2, 3, 4, 5}"
      ]
     },
     "execution_count": 28,
     "metadata": {},
     "output_type": "execute_result"
    }
   ],
   "source": [
    "# Init\n",
    "s = {1, 2, 3, 4, 5}\n",
    "s"
   ]
  },
  {
   "cell_type": "code",
   "execution_count": 29,
   "id": "e5615878-d02d-4583-a02b-96adf15a1480",
   "metadata": {},
   "outputs": [
    {
     "data": {
      "text/plain": [
       "{1, 2, 3, 4, 5, 10}"
      ]
     },
     "execution_count": 29,
     "metadata": {},
     "output_type": "execute_result"
    }
   ],
   "source": [
    "# Add an element (if not yet existed)\n",
    "s.add(10)\n",
    "s"
   ]
  },
  {
   "cell_type": "code",
   "execution_count": 31,
   "id": "c05b2dab-f2b5-441c-bd9b-e9e7fe999334",
   "metadata": {},
   "outputs": [
    {
     "data": {
      "text/plain": [
       "{1, 3, 4, 5, 10}"
      ]
     },
     "execution_count": 31,
     "metadata": {},
     "output_type": "execute_result"
    }
   ],
   "source": [
    "# Remove an element \n",
    "# (will raise an error if the value is not in s)\n",
    "s.remove(2)\n",
    "s"
   ]
  },
  {
   "cell_type": "code",
   "execution_count": 33,
   "id": "e3e7936d-010c-44a2-9bef-94bd1585ac5a",
   "metadata": {},
   "outputs": [
    {
     "data": {
      "text/plain": [
       "{1, 3, 4, 5, 10}"
      ]
     },
     "execution_count": 33,
     "metadata": {},
     "output_type": "execute_result"
    }
   ],
   "source": [
    "# We can use .discard for safer removal\n",
    "# If value is in s, then remove\n",
    "# If not, then do nothing (no error)\n",
    "s.discard(100)\n",
    "s"
   ]
  },
  {
   "cell_type": "code",
   "execution_count": 34,
   "id": "75e0ad32-9f6a-423e-9257-88e1f15e5761",
   "metadata": {},
   "outputs": [
    {
     "data": {
      "text/plain": [
       "{1, 2, 3, 4, 5, 10, 88, 99}"
      ]
     },
     "execution_count": 34,
     "metadata": {},
     "output_type": "execute_result"
    }
   ],
   "source": [
    "# Update a set from another set\n",
    "s.update({1, 2, 88, 99})\n",
    "s"
   ]
  },
  {
   "cell_type": "code",
   "execution_count": 35,
   "id": "a591b240-db66-4e8a-b5d3-85ff33b51b1e",
   "metadata": {},
   "outputs": [
    {
     "name": "stdout",
     "output_type": "stream",
     "text": [
      "1\n",
      "{2, 3, 4, 5, 99, 10, 88}\n"
     ]
    }
   ],
   "source": [
    "# Pop a random element from a set\n",
    "# (because sets are not ordered)\n",
    "v = s.pop()\n",
    "print(v)\n",
    "print(s)"
   ]
  },
  {
   "cell_type": "markdown",
   "id": "46597bb1-2090-4a5b-b7e7-a9f9854342f1",
   "metadata": {},
   "source": [
    "## Frozen sets\n",
    "- A frozen set is an **immutable** set\n",
    "- Think of set and frozen set like lists and tuple\n",
    "- Frozen sets have the same regular operations as sets\n",
    "- They don't have inplace operations because they are immutable"
   ]
  },
  {
   "cell_type": "code",
   "execution_count": 39,
   "id": "5aae0fb7-539e-44b5-847c-6a2d038d82d9",
   "metadata": {},
   "outputs": [
    {
     "name": "stdout",
     "output_type": "stream",
     "text": [
      "frozenset({1, 2, 3})\n",
      "<class 'frozenset'>\n"
     ]
    }
   ],
   "source": [
    "fs = frozenset([1, 2, 3])\n",
    "print(fs)\n",
    "print(type(fs))"
   ]
  },
  {
   "cell_type": "markdown",
   "id": "3aa15ca1-fa69-49d3-ad63-24007fe76290",
   "metadata": {},
   "source": [
    "## Summary\n",
    "**What is a set?**\n",
    "- A **mutable** collection of unique immutable elements\n",
    "- Elements of a set are not ordered\n",
    "\n",
    "**Create a set**\n",
    "- Using `{}` or `set()`\n",
    "\n",
    "**Iterate through a set**\n",
    "- Same as lists\n",
    "\n",
    "**Copy a set**\n",
    "- Same as lists\n",
    "\n",
    "**Operations on sets**\n",
    "- Regular operations: `len`, `in`, `|`, `&`, `-`, `^`, `<=`, `<`\n",
    "- Inplace operations: `.add()`, `.remove()`, `.discard()`, `.update()`, `.pop()`\n",
    "\n",
    "**Frozen sets**\n",
    "- Immutable versions of sets\n",
    "- Create a frozen set using `frozenset()`"
   ]
  },
  {
   "cell_type": "markdown",
   "id": "45a07621-f48b-4598-b020-18c18ced8ebd",
   "metadata": {},
   "source": [
    "## Practice\n",
    "To be updated"
   ]
  }
 ],
 "metadata": {
  "kernelspec": {
   "display_name": "Python 3 (ipykernel)",
   "language": "python",
   "name": "python3"
  },
  "language_info": {
   "codemirror_mode": {
    "name": "ipython",
    "version": 3
   },
   "file_extension": ".py",
   "mimetype": "text/x-python",
   "name": "python",
   "nbconvert_exporter": "python",
   "pygments_lexer": "ipython3",
   "version": "3.9.12"
  }
 },
 "nbformat": 4,
 "nbformat_minor": 5
}
