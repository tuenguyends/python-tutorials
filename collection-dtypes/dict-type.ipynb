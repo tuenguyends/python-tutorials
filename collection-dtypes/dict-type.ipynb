{
 "cells": [
  {
   "cell_type": "markdown",
   "id": "74907042-45c0-4c32-912c-4aa85f5b712e",
   "metadata": {},
   "source": [
    "# Dictionary type\n",
    "Author: Tue Nguyen"
   ]
  },
  {
   "cell_type": "markdown",
   "id": "cd93ab87-8847-43a1-8be9-5eafd90e6ff1",
   "metadata": {},
   "source": [
    "## Overview\n",
    "Topics covered in this lecture include\n",
    "- What is a dictionary?\n",
    "- Create a dictionary\n",
    "- Elements of a dict\n",
    "- Iterate through a dictionary\n",
    "- Copy a dictionary\n",
    "- Operations on dictionaries\n",
    "- Dict comprehensions"
   ]
  },
  {
   "cell_type": "markdown",
   "id": "e76eaacc-6303-44d8-870e-189f65e1c995",
   "metadata": {},
   "source": [
    "## What is a dictionary?\n",
    "- A dictionary (or dict) is used to store data in the form of `key: value` pairs\n",
    "- Each element of a dict is has a `key` part and a `value` part\n",
    "- Elements are accessed using `key`\n",
    "- Dicts are **mutable**\n",
    "- The keys must be unique and of an immutable type\n",
    "- However, the values can be of any types\n",
    "- For Python `<= 3.6`, dicts are not ordered\n",
    "- For Python `>= 3.7`, dicts are **insertion ordered**"
   ]
  },
  {
   "cell_type": "markdown",
   "id": "47797cce-9adb-4af1-baf9-1403baebc926",
   "metadata": {},
   "source": [
    "## Create a dict"
   ]
  },
  {
   "cell_type": "markdown",
   "id": "e3201d62-340a-4f1d-b233-0ca76dcded72",
   "metadata": {},
   "source": [
    "### Use `{}`"
   ]
  },
  {
   "cell_type": "code",
   "execution_count": 21,
   "id": "16f29376-c356-4356-ae37-754a98ccb990",
   "metadata": {},
   "outputs": [
    {
     "name": "stdout",
     "output_type": "stream",
     "text": [
      "{'name': 'John'}\n",
      "<class 'dict'>\n"
     ]
    }
   ],
   "source": [
    "# A dict with one element\n",
    "d = {\"name\": \"John\"}\n",
    "print(d)\n",
    "print(type(d))"
   ]
  },
  {
   "cell_type": "code",
   "execution_count": 22,
   "id": "de71a933-4c36-4a90-8ca8-49ee88e02b0f",
   "metadata": {},
   "outputs": [
    {
     "name": "stdout",
     "output_type": "stream",
     "text": [
      "{'name': 'John', 'age': 20, 'country': 'UK'}\n"
     ]
    }
   ],
   "source": [
    "# For a dict with multi elements\n",
    "# We can span more than 1 line for readability\n",
    "d = {\n",
    "    \"name\": \"John\",\n",
    "    \"age\": 20,\n",
    "    \"country\": \"UK\"\n",
    "}\n",
    "\n",
    "print(d)"
   ]
  },
  {
   "cell_type": "markdown",
   "id": "ddf5558d-fce1-4887-9485-0024b67c2ae3",
   "metadata": {},
   "source": [
    "### Use `dict()`"
   ]
  },
  {
   "cell_type": "code",
   "execution_count": 16,
   "id": "63bd424b-bc4c-4d07-9d25-e4f59feefcae",
   "metadata": {},
   "outputs": [
    {
     "name": "stdout",
     "output_type": "stream",
     "text": [
      "{'name': 'John', 'age': 20, 'country': 'UK'}\n"
     ]
    }
   ],
   "source": [
    "d = dict(\n",
    "    name=\"John\",\n",
    "    age=20,\n",
    "    country=\"UK\"\n",
    ")\n",
    "\n",
    "print(d)"
   ]
  },
  {
   "cell_type": "markdown",
   "id": "e918cf85-0de7-4ba9-906d-96076c0501a6",
   "metadata": {},
   "source": [
    "## Elements of a dict\n",
    "### Keys, values, and items"
   ]
  },
  {
   "cell_type": "code",
   "execution_count": 23,
   "id": "8a604313-ecc9-4e78-ab15-dcd4f7c2d340",
   "metadata": {},
   "outputs": [
    {
     "data": {
      "text/plain": [
       "{'name': 'John', 'age': 20, 'country': 'UK'}"
      ]
     },
     "execution_count": 23,
     "metadata": {},
     "output_type": "execute_result"
    }
   ],
   "source": [
    "# Recall the dict\n",
    "d"
   ]
  },
  {
   "cell_type": "code",
   "execution_count": 24,
   "id": "4ff7672d-eed2-48bf-a2a9-61fdbdb37d68",
   "metadata": {},
   "outputs": [
    {
     "data": {
      "text/plain": [
       "dict_keys(['name', 'age', 'country'])"
      ]
     },
     "execution_count": 24,
     "metadata": {},
     "output_type": "execute_result"
    }
   ],
   "source": [
    "# Get keys\n",
    "d.keys()"
   ]
  },
  {
   "cell_type": "code",
   "execution_count": 26,
   "id": "ba6f693a-3fc6-4234-afb4-c4b9c8213b27",
   "metadata": {},
   "outputs": [
    {
     "data": {
      "text/plain": [
       "dict_values(['John', 20, 'UK'])"
      ]
     },
     "execution_count": 26,
     "metadata": {},
     "output_type": "execute_result"
    }
   ],
   "source": [
    "# Get values\n",
    "d.values()"
   ]
  },
  {
   "cell_type": "code",
   "execution_count": 27,
   "id": "364cc118-0437-4c4b-9284-b45c85ca3fdc",
   "metadata": {},
   "outputs": [
    {
     "data": {
      "text/plain": [
       "dict_items([('name', 'John'), ('age', 20), ('country', 'UK')])"
      ]
     },
     "execution_count": 27,
     "metadata": {},
     "output_type": "execute_result"
    }
   ],
   "source": [
    "# View elements as a sequence of tuples\n",
    "# Keys are the first elements in the tuples\n",
    "# We usually use this when iterate through a list\n",
    "d.items()"
   ]
  },
  {
   "cell_type": "markdown",
   "id": "b72ea24c-f663-4302-805e-bb10f9af5dc9",
   "metadata": {},
   "source": [
    "### Get values by keys"
   ]
  },
  {
   "cell_type": "code",
   "execution_count": 28,
   "id": "65d491d6-e982-4652-99c2-df5ee194ec02",
   "metadata": {},
   "outputs": [
    {
     "data": {
      "text/plain": [
       "'John'"
      ]
     },
     "execution_count": 28,
     "metadata": {},
     "output_type": "execute_result"
    }
   ],
   "source": [
    "# Get value associated with name\n",
    "d[\"name\"]"
   ]
  },
  {
   "cell_type": "code",
   "execution_count": 29,
   "id": "fa35a119-28e1-4475-a36b-247380a2cfdd",
   "metadata": {},
   "outputs": [
    {
     "data": {
      "text/plain": [
       "'UK'"
      ]
     },
     "execution_count": 29,
     "metadata": {},
     "output_type": "execute_result"
    }
   ],
   "source": [
    "# Get value associated with country\n",
    "d[\"country\"]"
   ]
  },
  {
   "cell_type": "markdown",
   "id": "c08050bb-7c85-40b0-ac1f-04789cac0193",
   "metadata": {},
   "source": [
    "### Add and update elements\n",
    "We use assignment to add a new elements or update the value for an exisiting element"
   ]
  },
  {
   "cell_type": "code",
   "execution_count": 40,
   "id": "c68911c5-7c5b-4ff8-943f-a8b7c23e7a1f",
   "metadata": {},
   "outputs": [
    {
     "data": {
      "text/plain": [
       "{'name': 'John', 'age': 20}"
      ]
     },
     "execution_count": 40,
     "metadata": {},
     "output_type": "execute_result"
    }
   ],
   "source": [
    "# Init\n",
    "d = {\"name\": \"John\", \"age\": 20}\n",
    "d"
   ]
  },
  {
   "cell_type": "code",
   "execution_count": 43,
   "id": "7d29ced3-3f45-4d39-8b2a-966ce0e52fb8",
   "metadata": {},
   "outputs": [
    {
     "data": {
      "text/plain": [
       "{'name': 'John', 'age': 20, 'educ': 'BSc'}"
      ]
     },
     "execution_count": 43,
     "metadata": {},
     "output_type": "execute_result"
    }
   ],
   "source": [
    "# Add education\n",
    "d[\"educ\"] = \"BSc\"\n",
    "d"
   ]
  },
  {
   "cell_type": "code",
   "execution_count": 46,
   "id": "ce06964a-7c4a-4f21-8dc5-2f1526bf7d62",
   "metadata": {},
   "outputs": [
    {
     "data": {
      "text/plain": [
       "{'name': 'John', 'age': 20, 'educ': 'MSc'}"
      ]
     },
     "execution_count": 46,
     "metadata": {},
     "output_type": "execute_result"
    }
   ],
   "source": [
    "# Now update education to MSc\n",
    "d[\"educ\"] = \"MSc\"\n",
    "d"
   ]
  },
  {
   "cell_type": "markdown",
   "id": "34c50faf-da2d-4968-ac6e-b5dd8ed1d9a9",
   "metadata": {},
   "source": [
    "## Dict keys"
   ]
  },
  {
   "cell_type": "markdown",
   "id": "8a67e0b6-b6e0-4f44-9b95-c051ba26dc61",
   "metadata": {},
   "source": [
    "**a) Dict keys must be of immutable types**"
   ]
  },
  {
   "cell_type": "code",
   "execution_count": 32,
   "id": "3be096b8-4401-439b-a2f3-9cf27c6ae700",
   "metadata": {},
   "outputs": [
    {
     "data": {
      "text/plain": [
       "{1: True, 2: 'A'}"
      ]
     },
     "execution_count": 32,
     "metadata": {},
     "output_type": "execute_result"
    }
   ],
   "source": [
    "# Int keys\n",
    "{1: True, 2: \"A\"}"
   ]
  },
  {
   "cell_type": "code",
   "execution_count": 33,
   "id": "38300b80-79b7-4719-a6ac-b7721ea17dbf",
   "metadata": {},
   "outputs": [
    {
     "data": {
      "text/plain": [
       "{1.2: True, 5.0: 'B'}"
      ]
     },
     "execution_count": 33,
     "metadata": {},
     "output_type": "execute_result"
    }
   ],
   "source": [
    "# Float keys are possible but not recommended\n",
    "# Because computer store floats approximately\n",
    "{1.2: True, 5.: \"B\"}"
   ]
  },
  {
   "cell_type": "code",
   "execution_count": 34,
   "id": "ab2bcc72-f3bf-41d7-8788-286c2cad56ba",
   "metadata": {},
   "outputs": [
    {
     "data": {
      "text/plain": [
       "{'name': 'John', 'age': 20}"
      ]
     },
     "execution_count": 34,
     "metadata": {},
     "output_type": "execute_result"
    }
   ],
   "source": [
    "# String keys\n",
    "{\"name\": \"John\", \"age\": 20}"
   ]
  },
  {
   "cell_type": "code",
   "execution_count": 36,
   "id": "66970316-6e71-4c17-878c-8bd6b14efbac",
   "metadata": {},
   "outputs": [
    {
     "name": "stdout",
     "output_type": "stream",
     "text": [
      "19.49\n",
      "1421\n"
     ]
    }
   ],
   "source": [
    "# Tuple keys\n",
    "d = {\n",
    "    (\"US\", \"gdp\"): 19.49,\n",
    "    (\"US\", \"pop\"): 325,\n",
    "    (\"CN\", \"gdp\"): 12.24,\n",
    "    (\"CN\", \"pop\"): 1421\n",
    "}\n",
    "\n",
    "print(d[(\"US\", \"gdp\")]) # GDF of US\n",
    "print(d[(\"CN\", \"pop\")]) # Population of china"
   ]
  },
  {
   "cell_type": "markdown",
   "id": "7b5a7df1-e99d-44b5-aef9-14554c1ff134",
   "metadata": {},
   "source": [
    "**b) Dict keys must be unique**"
   ]
  },
  {
   "cell_type": "code",
   "execution_count": 39,
   "id": "d6d1f3b1-8798-478b-a717-5a0baa5818de",
   "metadata": {},
   "outputs": [
    {
     "data": {
      "text/plain": [
       "{'name': 'John', 'age': 30}"
      ]
     },
     "execution_count": 39,
     "metadata": {},
     "output_type": "execute_result"
    }
   ],
   "source": [
    "# Try to duplicate a key, only the latter is kept\n",
    "{\"name\": \"John\", \"age\": 20, \"age\": 30}"
   ]
  },
  {
   "cell_type": "markdown",
   "id": "481c2e61-c99d-4d6e-85ca-c8d1eed8f221",
   "metadata": {},
   "source": [
    "## Conversion to dicts\n",
    "We use `dict()` to convert an object to a dict"
   ]
  },
  {
   "cell_type": "code",
   "execution_count": 18,
   "id": "397a1e9f-1849-42e9-b10f-d70b63f4cd16",
   "metadata": {},
   "outputs": [
    {
     "data": {
      "text/plain": [
       "{'name': 'John', 'age': 20}"
      ]
     },
     "execution_count": 18,
     "metadata": {},
     "output_type": "execute_result"
    }
   ],
   "source": [
    "# Convert a sequence of 2-element squences\n",
    "data = [(\"name\", \"John\"), (\"age\", 20)]\n",
    "dict(data)"
   ]
  },
  {
   "cell_type": "code",
   "execution_count": 19,
   "id": "314af3c2-f105-4ac6-9a14-ea5462ae6f3e",
   "metadata": {},
   "outputs": [
    {
     "data": {
      "text/plain": [
       "{'A': 20, 'B': 30}"
      ]
     },
     "execution_count": 19,
     "metadata": {},
     "output_type": "execute_result"
    }
   ],
   "source": [
    "# Convert a zipped object to a dict\n",
    "names = [\"A\", \"B\"]\n",
    "ages = [20, 30]\n",
    "dict(zip(names, ages))"
   ]
  },
  {
   "cell_type": "markdown",
   "id": "13fcab8c-8287-4810-b590-c241126c327b",
   "metadata": {},
   "source": [
    "## Iterate through a dict"
   ]
  },
  {
   "cell_type": "code",
   "execution_count": 48,
   "id": "3bd6a1b0-e891-4c91-a1bd-43e5b173c570",
   "metadata": {},
   "outputs": [
    {
     "data": {
      "text/plain": [
       "{'name': 'John', 'age': 20, 'educ': 'MSc'}"
      ]
     },
     "execution_count": 48,
     "metadata": {},
     "output_type": "execute_result"
    }
   ],
   "source": [
    "# Init a dict\n",
    "d = {\"name\": \"John\", \"age\": 20, \"educ\": \"MSc\"}\n",
    "d"
   ]
  },
  {
   "cell_type": "markdown",
   "id": "369fd8be-7583-4a17-bbfb-c4f2806bec51",
   "metadata": {},
   "source": [
    "### Iterate through keys"
   ]
  },
  {
   "cell_type": "code",
   "execution_count": 49,
   "id": "1f1319d4-2b5e-4e55-84af-c801980079a4",
   "metadata": {},
   "outputs": [
    {
     "name": "stdout",
     "output_type": "stream",
     "text": [
      "name\n",
      "age\n",
      "educ\n"
     ]
    }
   ],
   "source": [
    "# Method 1\n",
    "for k in d:\n",
    "    print(k)"
   ]
  },
  {
   "cell_type": "code",
   "execution_count": 50,
   "id": "bedea742-2d34-409b-811a-6d470d3adeb7",
   "metadata": {},
   "outputs": [
    {
     "name": "stdout",
     "output_type": "stream",
     "text": [
      "name\n",
      "age\n",
      "educ\n"
     ]
    }
   ],
   "source": [
    "# Method 2\n",
    "for k in d.keys():\n",
    "    print(k)"
   ]
  },
  {
   "cell_type": "markdown",
   "id": "e27aa28c-7a63-4160-b1e4-f011ca8b1b74",
   "metadata": {},
   "source": [
    "### Iterate through values"
   ]
  },
  {
   "cell_type": "code",
   "execution_count": 52,
   "id": "3f43a3e1-4614-46a3-9b8b-1b05c1e2085f",
   "metadata": {},
   "outputs": [
    {
     "name": "stdout",
     "output_type": "stream",
     "text": [
      "John\n",
      "20\n",
      "MSc\n"
     ]
    }
   ],
   "source": [
    "for v in d.values():\n",
    "    print(v)"
   ]
  },
  {
   "cell_type": "markdown",
   "id": "610b673f-73b0-4413-92fd-fac0f238e2e4",
   "metadata": {},
   "source": [
    "### Iterate through both keys and values"
   ]
  },
  {
   "cell_type": "code",
   "execution_count": 53,
   "id": "847cd1be-bef4-4275-921d-3c022e7e0581",
   "metadata": {},
   "outputs": [
    {
     "name": "stdout",
     "output_type": "stream",
     "text": [
      "Key name has value John\n",
      "Key age has value 20\n",
      "Key educ has value MSc\n"
     ]
    }
   ],
   "source": [
    "# Naive way\n",
    "for k in d:\n",
    "    print(f\"Key {k} has value {d[k]}\")"
   ]
  },
  {
   "cell_type": "code",
   "execution_count": 54,
   "id": "0c91bafa-7c5c-4631-a4be-f417c11d0e82",
   "metadata": {},
   "outputs": [
    {
     "name": "stdout",
     "output_type": "stream",
     "text": [
      "Key name has value John\n",
      "Key age has value 20\n",
      "Key educ has value MSc\n"
     ]
    }
   ],
   "source": [
    "# Better way\n",
    "for k, v in d.items():\n",
    "    print(f\"Key {k} has value {v}\")"
   ]
  },
  {
   "cell_type": "markdown",
   "id": "d43e3f4d-3b28-44b7-b335-5159ce06b075",
   "metadata": {},
   "source": [
    "**What happened?**\n",
    "\n",
    "- Recall that each element of `d.items()` is 2-element tuple\n",
    "- Thus writing `k, v` in the for loop means we unpack the corresponding tuple at each iteration\n",
    "- Thus the key goes to `k` and the value goes to `v`"
   ]
  },
  {
   "cell_type": "markdown",
   "id": "0db69dec-068d-4237-ba21-f3dda7b9f552",
   "metadata": {},
   "source": [
    "## Mutablity\n",
    "- A dict is **mutable** \n",
    "- We can add, update, or delete elements"
   ]
  },
  {
   "cell_type": "markdown",
   "id": "bd554728-6613-4886-b41b-58ac9bc75fae",
   "metadata": {},
   "source": [
    "## Copy a dict\n",
    "Since the `dict` type is mutable, copying a dict has the same behavior as copying a list"
   ]
  },
  {
   "cell_type": "markdown",
   "id": "60c26a41-1502-47f2-9677-d2cb6164d12a",
   "metadata": {},
   "source": [
    "### Shallow copying"
   ]
  },
  {
   "cell_type": "code",
   "execution_count": 64,
   "id": "649cb36b-ce4a-4c16-b1a6-14b713a9a0e5",
   "metadata": {},
   "outputs": [
    {
     "name": "stdout",
     "output_type": "stream",
     "text": [
      "{'name': 'John', 'degrees': ['BSc', 'MSc']}\n",
      "2200280360640\n"
     ]
    }
   ],
   "source": [
    "# Init a dict\n",
    "d = {\"name\": \"John\", \"degrees\": [\"BSc\", \"MSc\"]}\n",
    "print(d)\n",
    "print(id(d))"
   ]
  },
  {
   "cell_type": "code",
   "execution_count": 56,
   "id": "15266047-741d-448f-975e-3826bf373dbd",
   "metadata": {},
   "outputs": [],
   "source": [
    "# Make a shallow copy\n",
    "d2 = d.copy()"
   ]
  },
  {
   "cell_type": "code",
   "execution_count": 57,
   "id": "5014ff6c-524f-4349-be18-478fd94e3aa1",
   "metadata": {},
   "outputs": [
    {
     "name": "stdout",
     "output_type": "stream",
     "text": [
      "{'name': 'John', 'degrees': ['BSc', 'MSc']}\n",
      "{'name': 'John', 'degrees': ['BSc', 'MSc']}\n",
      "True\n"
     ]
    }
   ],
   "source": [
    "# Verify d and d2 have the same values\n",
    "print(d)\n",
    "print(d2)\n",
    "print(d == d2)"
   ]
  },
  {
   "cell_type": "code",
   "execution_count": 60,
   "id": "34844c52-4d8c-4b51-a2f8-033f22332867",
   "metadata": {},
   "outputs": [
    {
     "name": "stdout",
     "output_type": "stream",
     "text": [
      "2200277478144\n",
      "2200277582976\n",
      "False\n"
     ]
    }
   ],
   "source": [
    "# But d and d2 are pointing to different objects\n",
    "print(id(d))\n",
    "print(id(d2))\n",
    "print(d is d2)"
   ]
  },
  {
   "cell_type": "code",
   "execution_count": 61,
   "id": "cddc029f-7dce-4215-8187-1e82cb620150",
   "metadata": {},
   "outputs": [
    {
     "name": "stdout",
     "output_type": "stream",
     "text": [
      "{'name': 'Jack', 'degrees': ['BSc', 'MSc']}\n",
      "{'name': 'John', 'degrees': ['BSc', 'MSc']}\n"
     ]
    }
   ],
   "source": [
    "# Changing name of d (a string - immutable) \n",
    "# will not change name of d2\n",
    "d[\"name\"] = \"Jack\"\n",
    "print(d)\n",
    "print(d2)"
   ]
  },
  {
   "cell_type": "code",
   "execution_count": 62,
   "id": "5f79c5d9-3b67-4ca7-aae4-ba968002ceaa",
   "metadata": {},
   "outputs": [
    {
     "name": "stdout",
     "output_type": "stream",
     "text": [
      "{'name': 'Jack', 'degrees': ['PhD', 'MSc']}\n",
      "{'name': 'John', 'degrees': ['PhD', 'MSc']}\n"
     ]
    }
   ],
   "source": [
    "# But modifying degrees of d (a list - mutable) \n",
    "# will also modify that of d2\n",
    "d[\"degrees\"][0] = \"PhD\"\n",
    "print(d)\n",
    "print(d2)"
   ]
  },
  {
   "cell_type": "markdown",
   "id": "4de62867-29cb-49da-9864-f267d74fb44f",
   "metadata": {},
   "source": [
    "### Deep copying\n",
    "Same as lists, we use `copy.deepcopy()`"
   ]
  },
  {
   "cell_type": "code",
   "execution_count": 65,
   "id": "77621f4b-acf9-41b4-afba-ee0c710169db",
   "metadata": {},
   "outputs": [
    {
     "data": {
      "text/plain": [
       "{'name': 'John', 'degrees': ['BSc', 'MSc']}"
      ]
     },
     "execution_count": 65,
     "metadata": {},
     "output_type": "execute_result"
    }
   ],
   "source": [
    "# Init\n",
    "d = {\"name\": \"John\", \"degrees\": [\"BSc\", \"MSc\"]}\n",
    "d"
   ]
  },
  {
   "cell_type": "code",
   "execution_count": 69,
   "id": "3127b535-dd2e-494e-ac56-df59f9e2e8d2",
   "metadata": {},
   "outputs": [],
   "source": [
    "# Import module copy\n",
    "import copy"
   ]
  },
  {
   "cell_type": "code",
   "execution_count": 70,
   "id": "a1b892fd-aa8a-452d-8d9a-8118a1a8f327",
   "metadata": {},
   "outputs": [],
   "source": [
    "# Make a deep copy\n",
    "d2 = copy.deepcopy(d)"
   ]
  },
  {
   "cell_type": "code",
   "execution_count": 73,
   "id": "55550196-56ec-4e7b-91d7-d647423534c2",
   "metadata": {},
   "outputs": [
    {
     "name": "stdout",
     "output_type": "stream",
     "text": [
      "{'name': 'John', 'degrees': ['PhD', 'MSc']}\n",
      "{'name': 'John', 'degrees': ['BSc', 'MSc']}\n"
     ]
    }
   ],
   "source": [
    "# Change degrees of d, d2 stays the same\n",
    "d[\"degrees\"][0] = \"PhD\"\n",
    "print(d)\n",
    "print(d2)"
   ]
  },
  {
   "cell_type": "markdown",
   "id": "37a42559-b72b-4d1a-9c30-616f21900b76",
   "metadata": {},
   "source": [
    "## Operations on a dict\n",
    "As a mutable type like lists, we also have two types of operations on dicts\n",
    "\n",
    "- Regular operations\n",
    "- Inplace operations"
   ]
  },
  {
   "cell_type": "markdown",
   "id": "8b65a24f-483a-4696-9be8-d4416442e257",
   "metadata": {},
   "source": [
    "### Regular operations"
   ]
  },
  {
   "cell_type": "code",
   "execution_count": 86,
   "id": "08ffcc7b-58a4-4f09-8dab-ffaf88b03751",
   "metadata": {},
   "outputs": [
    {
     "data": {
      "text/plain": [
       "{'name': 'John', 'age': 20, 'educ': 'BSc'}"
      ]
     },
     "execution_count": 86,
     "metadata": {},
     "output_type": "execute_result"
    }
   ],
   "source": [
    "# Init a dict\n",
    "d = {\"name\": \"John\", \"age\": 20, \"educ\": \"BSc\"}\n",
    "d"
   ]
  },
  {
   "cell_type": "markdown",
   "id": "fc84ac4a-0890-48a5-9099-bea43294cb38",
   "metadata": {},
   "source": [
    "**Get value by key**"
   ]
  },
  {
   "cell_type": "code",
   "execution_count": 87,
   "id": "2ed8dc55-54c5-4fde-9114-9ef861db355e",
   "metadata": {},
   "outputs": [
    {
     "data": {
      "text/plain": [
       "'John'"
      ]
     },
     "execution_count": 87,
     "metadata": {},
     "output_type": "execute_result"
    }
   ],
   "source": [
    "# Traditional way\n",
    "d[\"name\"]"
   ]
  },
  {
   "cell_type": "code",
   "execution_count": 89,
   "id": "009533a3-567a-4e65-8f10-afbde02be022",
   "metadata": {},
   "outputs": [
    {
     "name": "stdout",
     "output_type": "stream",
     "text": [
      "None\n"
     ]
    }
   ],
   "source": [
    "# However, if the key is not in d, we will get an error\n",
    "# Try d[\"weight\"]\n",
    "# To avoid an error, we can use .get\n",
    "# If the key is not in d, we will get a None back\n",
    "w = d.get(\"weight\")\n",
    "print(w)"
   ]
  },
  {
   "cell_type": "code",
   "execution_count": 90,
   "id": "46daa02e-2d30-4fc9-8100-c366b73ce38d",
   "metadata": {},
   "outputs": [
    {
     "data": {
      "text/plain": [
       "'N/A'"
      ]
     },
     "execution_count": 90,
     "metadata": {},
     "output_type": "execute_result"
    }
   ],
   "source": [
    "# If we don't like None, we can set the default value\n",
    "d.get(\"weight\", \"N/A\")"
   ]
  },
  {
   "cell_type": "markdown",
   "id": "515dc852-51b4-4379-8675-02bcd728caac",
   "metadata": {},
   "source": [
    "**Count number of elements**"
   ]
  },
  {
   "cell_type": "code",
   "execution_count": 77,
   "id": "bef29e2a-b5b7-495d-9715-a6f0ab897f43",
   "metadata": {},
   "outputs": [
    {
     "data": {
      "text/plain": [
       "3"
      ]
     },
     "execution_count": 77,
     "metadata": {},
     "output_type": "execute_result"
    }
   ],
   "source": [
    "len(d)"
   ]
  },
  {
   "cell_type": "markdown",
   "id": "39bcbd4e-4d38-457d-99c9-55185dad8cc5",
   "metadata": {},
   "source": [
    "**Member ship checking**"
   ]
  },
  {
   "cell_type": "code",
   "execution_count": 78,
   "id": "75e691dd-051c-40b4-8a2c-4f926fdf5d7c",
   "metadata": {},
   "outputs": [
    {
     "data": {
      "text/plain": [
       "True"
      ]
     },
     "execution_count": 78,
     "metadata": {},
     "output_type": "execute_result"
    }
   ],
   "source": [
    "# Check if d has a key \"age\"\n",
    "\"age\" in d"
   ]
  },
  {
   "cell_type": "code",
   "execution_count": 79,
   "id": "7352c377-20c5-4a08-8b4c-2f311e9bb209",
   "metadata": {},
   "outputs": [
    {
     "data": {
      "text/plain": [
       "False"
      ]
     },
     "execution_count": 79,
     "metadata": {},
     "output_type": "execute_result"
    }
   ],
   "source": [
    "# Check if d has a key \"address\"\n",
    "\"address\" in d"
   ]
  },
  {
   "cell_type": "code",
   "execution_count": 80,
   "id": "c7d38794-3c5b-4263-9a81-4e7a19977433",
   "metadata": {},
   "outputs": [
    {
     "data": {
      "text/plain": [
       "True"
      ]
     },
     "execution_count": 80,
     "metadata": {},
     "output_type": "execute_result"
    }
   ],
   "source": [
    "# Check if d has a value 20\n",
    "20 in d.values()"
   ]
  },
  {
   "cell_type": "markdown",
   "id": "e7934454-1714-494a-a9e2-05924ebc5588",
   "metadata": {},
   "source": [
    "### Inplace operations"
   ]
  },
  {
   "cell_type": "code",
   "execution_count": 100,
   "id": "f47acecd-ec6e-4a10-b4c7-6903ead6638d",
   "metadata": {},
   "outputs": [
    {
     "data": {
      "text/plain": [
       "{'name': 'John', 'age': 20, 'educ': 'BSc'}"
      ]
     },
     "execution_count": 100,
     "metadata": {},
     "output_type": "execute_result"
    }
   ],
   "source": [
    "# Init a dict\n",
    "d = {\"name\": \"John\", \"age\": 20, \"educ\": \"BSc\"}\n",
    "d"
   ]
  },
  {
   "cell_type": "markdown",
   "id": "216ce2b4-0076-41e8-9246-2fb42f4374c5",
   "metadata": {},
   "source": [
    "**Add or update elements**"
   ]
  },
  {
   "cell_type": "code",
   "execution_count": 101,
   "id": "98117f57-0b2d-4f68-a1aa-c274f24b169c",
   "metadata": {},
   "outputs": [
    {
     "data": {
      "text/plain": [
       "{'name': 'John', 'age': 20, 'educ': 'BSc', 'country': 'UK'}"
      ]
     },
     "execution_count": 101,
     "metadata": {},
     "output_type": "execute_result"
    }
   ],
   "source": [
    "# Add country\n",
    "d[\"country\"] = \"UK\"\n",
    "d"
   ]
  },
  {
   "cell_type": "code",
   "execution_count": 102,
   "id": "c7ee40fd-eeb1-44e0-bb5e-eeb5e46b1dba",
   "metadata": {},
   "outputs": [
    {
     "data": {
      "text/plain": [
       "{'name': 'John', 'age': 20, 'educ': 'BSc', 'country': 'US'}"
      ]
     },
     "execution_count": 102,
     "metadata": {},
     "output_type": "execute_result"
    }
   ],
   "source": [
    "# Update country to \"US\"\n",
    "d[\"country\"] = \"US\"\n",
    "d"
   ]
  },
  {
   "cell_type": "markdown",
   "id": "755d5ac8-7418-454f-8c22-e69c345b391d",
   "metadata": {},
   "source": [
    "**Delete an element**"
   ]
  },
  {
   "cell_type": "code",
   "execution_count": 103,
   "id": "f3667921-4623-4477-a32f-a6cd568fd75b",
   "metadata": {},
   "outputs": [
    {
     "data": {
      "text/plain": [
       "{'name': 'John', 'age': 20, 'educ': 'BSc'}"
      ]
     },
     "execution_count": 103,
     "metadata": {},
     "output_type": "execute_result"
    }
   ],
   "source": [
    "# Use del to delete by key\n",
    "del d[\"country\"]\n",
    "d"
   ]
  },
  {
   "cell_type": "code",
   "execution_count": 104,
   "id": "cc92814f-7cd8-4b9a-86b8-d6673e0f73fd",
   "metadata": {},
   "outputs": [
    {
     "data": {
      "text/plain": [
       "{'name': 'John', 'age': 20, 'educ': 'BSc'}"
      ]
     },
     "execution_count": 104,
     "metadata": {},
     "output_type": "execute_result"
    }
   ],
   "source": [
    "# However, if key is not in d, we will get an error\n",
    "# Try del d[\"weight\"] to see it\n",
    "# We can use an if statement to avoid this\n",
    "if \"weight\" in d:\n",
    "    del d[\"weight\"]\n",
    "d"
   ]
  },
  {
   "cell_type": "markdown",
   "id": "dd7d712d-6718-4f8e-852a-03f73961f0d2",
   "metadata": {},
   "source": [
    "**Set default**\n",
    "\n",
    "Sometimes, we are not sure if a key already exists\n",
    "\n",
    "- If it exists, we want to leave it as it is\n",
    "- If not, we want to add a new element with the key and a default value"
   ]
  },
  {
   "cell_type": "code",
   "execution_count": 116,
   "id": "7000b4b9-bcd9-4372-a233-f72ecbf38c38",
   "metadata": {},
   "outputs": [
    {
     "data": {
      "text/plain": [
       "{'name': 'John', 'age': 20, 'educ': 'BSc'}"
      ]
     },
     "execution_count": 116,
     "metadata": {},
     "output_type": "execute_result"
    }
   ],
   "source": [
    "# Init a dict\n",
    "d = {\"name\": \"John\", \"age\": 20, \"educ\": \"BSc\"}\n",
    "d"
   ]
  },
  {
   "cell_type": "code",
   "execution_count": 117,
   "id": "10c07383-627d-4ed2-96f0-267ad07765e8",
   "metadata": {},
   "outputs": [
    {
     "data": {
      "text/plain": [
       "{'name': 'John', 'age': 20, 'educ': 'BSc'}"
      ]
     },
     "execution_count": 117,
     "metadata": {},
     "output_type": "execute_result"
    }
   ],
   "source": [
    "# If key \"age\" exists, leave it as it is\n",
    "# If not, add a new element with that key and value -1\n",
    "d.setdefault(\"age\", -1)\n",
    "d"
   ]
  },
  {
   "cell_type": "code",
   "execution_count": 118,
   "id": "72144a2f-ec67-4a9e-b5ce-7ef92fc7deae",
   "metadata": {},
   "outputs": [
    {
     "data": {
      "text/plain": [
       "{'name': 'John', 'age': 20, 'educ': 'BSc', 'credits': 0}"
      ]
     },
     "execution_count": 118,
     "metadata": {},
     "output_type": "execute_result"
    }
   ],
   "source": [
    "# If key \"credits\" exists, leave it as it is\n",
    "# If not, add a new element with that key and value 0\n",
    "d.setdefault(\"credits\", 0)\n",
    "d"
   ]
  },
  {
   "cell_type": "markdown",
   "id": "16e7d058-c4de-4046-badd-a045c2b35baf",
   "metadata": {},
   "source": [
    "**Pop an element**"
   ]
  },
  {
   "cell_type": "code",
   "execution_count": 119,
   "id": "d3793a93-4954-4c7f-8e12-a0de70286a2d",
   "metadata": {},
   "outputs": [
    {
     "name": "stdout",
     "output_type": "stream",
     "text": [
      "BSc\n",
      "{'name': 'John', 'age': 20, 'credits': 0}\n"
     ]
    }
   ],
   "source": [
    "# We can pop a value by key\n",
    "# Also note that if the key is not in d, we will get an error\n",
    "educ = d.pop(\"educ\")\n",
    "print(educ)\n",
    "print(d)"
   ]
  },
  {
   "cell_type": "markdown",
   "id": "2961f152-cde3-4214-9ca0-bc4ffd469424",
   "metadata": {},
   "source": [
    "**Update a dict**"
   ]
  },
  {
   "cell_type": "code",
   "execution_count": 123,
   "id": "76a1a324-afd8-46de-83a2-2146e10b3746",
   "metadata": {},
   "outputs": [
    {
     "name": "stdout",
     "output_type": "stream",
     "text": [
      "{'name': 'John', 'age': 20}\n",
      "{'age': 22, 'educ': 'BSc'}\n"
     ]
    }
   ],
   "source": [
    "# Init 2 dict\n",
    "d = {\"name\": \"John\", \"age\": 20}\n",
    "d2 = {\"age\": 22, \"educ\": \"BSc\"}\n",
    "print(d)\n",
    "print(d2)"
   ]
  },
  {
   "cell_type": "code",
   "execution_count": 125,
   "id": "b54d8b3b-4340-45aa-871f-8a99203f3a2b",
   "metadata": {},
   "outputs": [
    {
     "data": {
      "text/plain": [
       "{'name': 'John', 'age': 22, 'educ': 'BSc'}"
      ]
     },
     "execution_count": 125,
     "metadata": {},
     "output_type": "execute_result"
    }
   ],
   "source": [
    "# Update d with info from d2\n",
    "# Key \"educ\" is new to d -> new element is created for this key\n",
    "# Key \"age\" already exists in d -> update the value for this key from d2\n",
    "d.update(d2)\n",
    "d"
   ]
  },
  {
   "cell_type": "markdown",
   "id": "e3f46466-6443-4286-92e6-343d7fa8da7f",
   "metadata": {},
   "source": [
    "## Dict comprehensions\n",
    "- Dict comprehensions are similar to list comprehensions\n",
    "- Used to quickly make a dict from an iterable\n",
    "- Syntax 1 (without filtering): `{key_expr: value_expr for item in iterable}`\n",
    "- Syntax 2 (with filtering): `{key_expr: value_expr for item in iterable if condition}`"
   ]
  },
  {
   "cell_type": "code",
   "execution_count": 126,
   "id": "169e2691-bbba-48fb-a452-5d91eb042d9a",
   "metadata": {},
   "outputs": [
    {
     "data": {
      "text/plain": [
       "{'cat': 'CAT', 'dog': 'DOG', 'cow': 'COW', 'duck': 'DUCK'}"
      ]
     },
     "execution_count": 126,
     "metadata": {},
     "output_type": "execute_result"
    }
   ],
   "source": [
    "# Make a dict from a list of words\n",
    "# Keys are words in lowercase\n",
    "# Values are words in uppercase\n",
    "words = [\"Cat\", \"Dog\", \"Cow\", \"Duck\"]\n",
    "{w.lower(): w.upper() for w in words}"
   ]
  },
  {
   "cell_type": "code",
   "execution_count": null,
   "id": "b4b86d35-39a7-4a09-ac8f-db63b8ce0710",
   "metadata": {},
   "outputs": [
    {
     "data": {
      "text/plain": [
       "{1: 'Cat', 2: 'Dog', 3: 'Cow', 4: 'Duck'}"
      ]
     },
     "execution_count": 127,
     "metadata": {},
     "output_type": "execute_result"
    }
   ],
   "source": [
    "# From list words above, make a dict\n",
    "# Keys are the position of the word\n",
    "# Value are the words themselves\n",
    "{(i+1): v for i, v in enumerate(words)}"
   ]
  },
  {
   "cell_type": "code",
   "execution_count": 128,
   "id": "c59adf19-a2cc-4d2e-9f7e-be639308c531",
   "metadata": {},
   "outputs": [
    {
     "data": {
      "text/plain": [
       "{1: 1, 2: 4, 3: 9, 4: 16, 5: 25}"
      ]
     },
     "execution_count": 128,
     "metadata": {},
     "output_type": "execute_result"
    }
   ],
   "source": [
    "# Make a dict\n",
    "# Keys are integers from 1 to 5\n",
    "# Values are squares of keys\n",
    "{v:v**2 for v in range(1, 6)}"
   ]
  },
  {
   "cell_type": "code",
   "execution_count": 130,
   "id": "f5bcdb04-757b-4891-9514-8682d0c9bc96",
   "metadata": {},
   "outputs": [
    {
     "data": {
      "text/plain": [
       "{'Cat': 3, 'Dog': 3, 'Cow': 3}"
      ]
     },
     "execution_count": 130,
     "metadata": {},
     "output_type": "execute_result"
    }
   ],
   "source": [
    "# From list words above, make a list\n",
    "# Keys are words\n",
    "# Values are the numbers of characters\n",
    "# Only keep words with <= 3 characters\n",
    "{w: len(w) for w in words if len(w) <= 3}"
   ]
  },
  {
   "cell_type": "markdown",
   "id": "c3282661-e2fc-4bf1-92df-b9117268ed5a",
   "metadata": {},
   "source": [
    "## Summary\n",
    "**What is a dictionary?**\n",
    "- Mutable object storing data in the form of `key: value` pairs\n",
    "- Each element of a dict is has a `key` part and a `value` part\n",
    "- Elements are accessed using `key`\n",
    "- The keys must be unique and of an immutable type\n",
    "- However, the values can be of any types\n",
    "- For Python `<= 3.6`, dicts are not ordered\n",
    "- For Python `>= 3.7`, dicts are insertion ordered\n",
    "\n",
    "\n",
    "**Create a dict**\n",
    "- Use `{}` or `dict()`\n",
    "\n",
    "**Iterate through a dictionary**\n",
    "- Iterate through keys: `for k in d`\n",
    "- Iterate through values: `for v in d.values()`\n",
    "- Iterate through items: `for k, v in d.items()`\n",
    "\n",
    "**Copy a dictionary**\n",
    "- Same as lists (there are both shallow and deep copying)\n",
    "\n",
    "**Operations on dicts**\n",
    "- Regular operations\n",
    "    - Get value by key: `d[\"name\"]`, `d.get(\"name\")`\n",
    "    - Count number of elements: `len(d)`\n",
    "    - Membership checking: `\"name\" in d`, `\"John\" in d.values()`\n",
    "- Inplace operations\n",
    "    - Add or update an element: `d[\"name\"] = \"Jack\"`\n",
    "    - Delete an element: `del d[\"name\"]`\n",
    "    - Set default: `d.setdefault(\"name\", \"N/A\")`\n",
    "    - Pop an element: `name = d.pop(\"name\")`\n",
    "    - Update a dict: `d.update(d2)`\n",
    "\n",
    "**Dict comprehensions**\n",
    "- Similar to list comprehensions\n",
    "- Syntax 1: `{key_expr: value_expr for item in iterable}`\n",
    "- Syntax 2: `{key_expr: value_expr for item in iterable if condition}`"
   ]
  }
 ],
 "metadata": {
  "kernelspec": {
   "display_name": "Python 3 (ipykernel)",
   "language": "python",
   "name": "python3"
  },
  "language_info": {
   "codemirror_mode": {
    "name": "ipython",
    "version": 3
   },
   "file_extension": ".py",
   "mimetype": "text/x-python",
   "name": "python",
   "nbconvert_exporter": "python",
   "pygments_lexer": "ipython3",
   "version": "3.9.12"
  }
 },
 "nbformat": 4,
 "nbformat_minor": 5
}
