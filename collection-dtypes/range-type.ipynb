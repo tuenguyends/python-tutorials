{
 "cells": [
  {
   "cell_type": "markdown",
   "id": "74907042-45c0-4c32-912c-4aa85f5b712e",
   "metadata": {},
   "source": [
    "# Range type\n",
    "Author: Tue Nguyen"
   ]
  },
  {
   "cell_type": "markdown",
   "id": "cd93ab87-8847-43a1-8be9-5eafd90e6ff1",
   "metadata": {},
   "source": [
    "## Overview\n",
    "Topics covered in this lecture include\n",
    "- What is a range?\n",
    "- Create a ranges\n",
    "- Examples with ranges\n",
    "- Why uses ranges?"
   ]
  },
  {
   "cell_type": "markdown",
   "id": "e76eaacc-6303-44d8-870e-189f65e1c995",
   "metadata": {},
   "source": [
    "## What is a range?\n",
    "- A range is an **immutable** sequence of evenly-spaced integers such as\n",
    "    - `0`, `1`, `2`, `3`, `4`, ...\n",
    "    - `2`, `4`, `6`, `8`, ...\n",
    "- We use range to quickly make a sequence of integers (often used in a `for` loop)"
   ]
  },
  {
   "cell_type": "markdown",
   "id": "47797cce-9adb-4af1-baf9-1403baebc926",
   "metadata": {},
   "source": [
    "## Create a range\n",
    "- A `range` object is created using `range()` function\n",
    "- Syntax\n",
    "    - `range(stop)`\n",
    "    - `range(start, stop)`\n",
    "    - `range(start, stop, step)`\n",
    "- The rule for `start`, `stop`, and `step` is the same as in Python slicing\n",
    "    - `start` is included\n",
    "    - `stop` is exclued\n",
    "    - `step` specifies the gap between jumps\n",
    "- A range is very similar to a tuple but\n",
    "    - It doesn't contain actual elements\n",
    "    - Each element will be generated on-the-fly when being asked\n",
    "    - This helps save memory and increase performance\n",
    "- To see the actual elements of a range we need to convert it to a list or a tuple"
   ]
  },
  {
   "cell_type": "markdown",
   "id": "c809de69-b521-407e-9e09-2aa78229816c",
   "metadata": {},
   "source": [
    "**Syntax 1: `range(stop)`**"
   ]
  },
  {
   "cell_type": "code",
   "execution_count": 9,
   "id": "16f29376-c356-4356-ae37-754a98ccb990",
   "metadata": {},
   "outputs": [
    {
     "name": "stdout",
     "output_type": "stream",
     "text": [
      "range(0, 10)\n",
      "<class 'range'>\n"
     ]
    }
   ],
   "source": [
    "# Create a range from 0 to stop-1\n",
    "r = range(10)\n",
    "print(r)\n",
    "print(type(r))"
   ]
  },
  {
   "cell_type": "code",
   "execution_count": 10,
   "id": "4b5a6ad6-1597-4e21-92c4-757f10e41f33",
   "metadata": {},
   "outputs": [
    {
     "data": {
      "text/plain": [
       "(0, 1, 2, 3, 4, 5, 6, 7, 8, 9)"
      ]
     },
     "execution_count": 10,
     "metadata": {},
     "output_type": "execute_result"
    }
   ],
   "source": [
    "# See the actual elements\n",
    "tuple(r)"
   ]
  },
  {
   "cell_type": "markdown",
   "id": "318299ba-c24a-4549-aeac-de85c142ab11",
   "metadata": {},
   "source": [
    "**Syntax 2: `range(start, stop)`**"
   ]
  },
  {
   "cell_type": "code",
   "execution_count": 12,
   "id": "de71a933-4c36-4a90-8ca8-49ee88e02b0f",
   "metadata": {},
   "outputs": [
    {
     "data": {
      "text/plain": [
       "(5, 6, 7, 8, 9, 10)"
      ]
     },
     "execution_count": 12,
     "metadata": {},
     "output_type": "execute_result"
    }
   ],
   "source": [
    "# Create a range from 5 to 10\n",
    "r = range(5, 11)\n",
    "tuple(r)"
   ]
  },
  {
   "cell_type": "markdown",
   "id": "d03e92b9-8bb2-416f-995d-004936184672",
   "metadata": {},
   "source": [
    "**Syntax 3: `range(start, stop, step)`**"
   ]
  },
  {
   "cell_type": "code",
   "execution_count": 13,
   "id": "4ff7672d-eed2-48bf-a2a9-61fdbdb37d68",
   "metadata": {},
   "outputs": [
    {
     "data": {
      "text/plain": [
       "(0, 2, 4, 6, 8, 10)"
      ]
     },
     "execution_count": 13,
     "metadata": {},
     "output_type": "execute_result"
    }
   ],
   "source": [
    "# Create a range of even integers from 0 to 10\n",
    "r = range(0, 11, 2)\n",
    "tuple(r)"
   ]
  },
  {
   "cell_type": "markdown",
   "id": "7edae177-2844-4911-a29a-a65b7c7da426",
   "metadata": {},
   "source": [
    "**Negative steps**"
   ]
  },
  {
   "cell_type": "code",
   "execution_count": 26,
   "id": "abeb6f99-ba7c-485d-893e-d82af18ce6e8",
   "metadata": {},
   "outputs": [
    {
     "data": {
      "text/plain": [
       "(5, 4, 3, 2, 1)"
      ]
     },
     "execution_count": 26,
     "metadata": {},
     "output_type": "execute_result"
    }
   ],
   "source": [
    "# When step is negative, start must > stop\n",
    "# Ex: create 5, 4, 3, 2, 1\n",
    "tuple(range(5, 0, -1))"
   ]
  },
  {
   "cell_type": "code",
   "execution_count": 23,
   "id": "5ceb80b2-3fb8-4f3c-9db2-7762fb30c9ff",
   "metadata": {},
   "outputs": [
    {
     "data": {
      "text/plain": [
       "()"
      ]
     },
     "execution_count": 23,
     "metadata": {},
     "output_type": "execute_result"
    }
   ],
   "source": [
    "# If not, we wil have an empty range\n",
    "tuple(range(0, 5, -1))"
   ]
  },
  {
   "cell_type": "markdown",
   "id": "e0a64ee2-570f-4e24-ac30-5d41dbeaca9d",
   "metadata": {},
   "source": [
    "## Examples with ranges"
   ]
  },
  {
   "cell_type": "markdown",
   "id": "d9c87f75-7afc-4453-aac2-c402128ba14f",
   "metadata": {},
   "source": [
    "### Ex 1: ranges in list comp"
   ]
  },
  {
   "cell_type": "code",
   "execution_count": 29,
   "id": "639db6b0-f442-456c-94c6-5184fb056b79",
   "metadata": {},
   "outputs": [
    {
     "data": {
      "text/plain": [
       "[0, 1, 4, 9, 16, 25, 36, 49, 64, 81, 100]"
      ]
     },
     "execution_count": 29,
     "metadata": {},
     "output_type": "execute_result"
    }
   ],
   "source": [
    "# Generate a list of squares <= 100\n",
    "[e**2 for e in range(11)]"
   ]
  },
  {
   "cell_type": "code",
   "execution_count": 31,
   "id": "d228f038-4d6a-4b07-9c28-ce23baa0b586",
   "metadata": {},
   "outputs": [
    {
     "data": {
      "text/plain": [
       "[0, 4, 16, 36, 64, 100]"
      ]
     },
     "execution_count": 31,
     "metadata": {},
     "output_type": "execute_result"
    }
   ],
   "source": [
    "# Generate a list of even squares <= 100\n",
    "[e**2 for e in range(11) if e % 2 == 0]"
   ]
  },
  {
   "cell_type": "markdown",
   "id": "08e305dc-3115-4817-96d9-9a73f62ac1d0",
   "metadata": {},
   "source": [
    "### Ex 2: ranges in `for` loops"
   ]
  },
  {
   "cell_type": "code",
   "execution_count": 32,
   "id": "e6d276d8-fb23-4434-8ee7-475b0b4fc431",
   "metadata": {},
   "outputs": [
    {
     "name": "stdout",
     "output_type": "stream",
     "text": [
      "0\n",
      "14\n",
      "28\n",
      "42\n",
      "56\n",
      "70\n",
      "84\n",
      "98\n"
     ]
    }
   ],
   "source": [
    "# Print out even numbers divisible by 7 and less than 100\n",
    "for i in range(0, 100, 2):\n",
    "    if i % 7 == 0:\n",
    "        print(i)"
   ]
  },
  {
   "cell_type": "markdown",
   "id": "dfd2c2d7-17bf-42a2-a8a5-1cc4ad5bb04c",
   "metadata": {},
   "source": [
    "## Why uses ranges?\n",
    "- First, using ranges saves typing as show in the examples above\n",
    "- Second, using ranges save memory\n",
    "    - `range(10)` doesn't produce 10 integers\n",
    "    - It is like a blueprint or instruction for Python on how to generate those integers\n",
    "    - This blueprint will yield one element at a time when being asked, for example, in each iteration of a `for` loop\n",
    "    - Thus, `range(10)` or `range(100000)` have the same (very small) size in the memory\n",
    "- Let's see an example"
   ]
  },
  {
   "cell_type": "code",
   "execution_count": 35,
   "id": "d86ba737-4ba6-4c20-acde-24288e9b4bf8",
   "metadata": {},
   "outputs": [
    {
     "data": {
      "text/plain": [
       "500000500000"
      ]
     },
     "execution_count": 35,
     "metadata": {},
     "output_type": "execute_result"
    }
   ],
   "source": [
    "# Compute the sum of first 1 million integers\n",
    "total = 0\n",
    "for i in range(1, 1000001):\n",
    "    total += i\n",
    "    \n",
    "total"
   ]
  },
  {
   "cell_type": "markdown",
   "id": "d732edee-f7cf-417e-a613-57bff5a89833",
   "metadata": {},
   "source": [
    "**Remarks**\n",
    "\n",
    "- In the above example, we iterate through a range of the first 1 million integers\n",
    "- In each iteration, the `range()` function will yield an appropriate integer through variable `i`\n",
    "- And we add `i` to `total` to accumulate the sum (Note: `total += i` is equivalent to `total = total + i`)\n",
    "- Each integer is used only once, thus it is a waste of memory if we keep a list of 1 million integers sitting there through each iteration\n",
    "- Using a range is a better solution"
   ]
  },
  {
   "cell_type": "markdown",
   "id": "d37d6da1-9511-4bd0-acaa-0c148c014abf",
   "metadata": {},
   "source": [
    "## Summary\n",
    "**What is a range?**\n",
    "- A range is an immutable sequence of evenly-spaced integers\n",
    "- We use range to quickly make a sequence of integers (often used in a `for` loop or in a comprehension)\n",
    "\n",
    "**Create a range**\n",
    "- We use `range()` to create a range\n",
    "- Syntax\n",
    "    -   `range(stop)`\n",
    "    -   `range(start, stop)`\n",
    "    -   `range(start, stop, step)`\n",
    "- A range is very similar to a tuple but it doesn't contains actual elements\n",
    "    - Instead, it is more like a blueprint or instruction for Python on how to generate integers\n",
    "    - The actual elements will be generated when being asked\n",
    "    - All ranges have the same size in memory\n",
    "\n",
    "**Why uses ranges?**\n",
    "- Save typing\n",
    "- Save the memory"
   ]
  }
 ],
 "metadata": {
  "kernelspec": {
   "display_name": "Python 3 (ipykernel)",
   "language": "python",
   "name": "python3"
  },
  "language_info": {
   "codemirror_mode": {
    "name": "ipython",
    "version": 3
   },
   "file_extension": ".py",
   "mimetype": "text/x-python",
   "name": "python",
   "nbconvert_exporter": "python",
   "pygments_lexer": "ipython3",
   "version": "3.9.12"
  }
 },
 "nbformat": 4,
 "nbformat_minor": 5
}
