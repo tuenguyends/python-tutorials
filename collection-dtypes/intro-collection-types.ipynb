{
 "cells": [
  {
   "cell_type": "markdown",
   "id": "c76cc6df-f201-45cc-bfc4-70e10a440b6e",
   "metadata": {},
   "source": [
    "# Introduction to collection types\n",
    "Author: Tue Nguyen"
   ]
  },
  {
   "cell_type": "markdown",
   "id": "f24cbccb-eec0-4f03-8f60-6e7587698c15",
   "metadata": {},
   "source": [
    "## Outline\n",
    "- Motivation for collection types\n",
    "- Hierarchy of collection types"
   ]
  },
  {
   "cell_type": "markdown",
   "id": "696c0fcf-20c9-4398-a93d-a28ac7f41820",
   "metadata": {},
   "source": [
    "## Motivation\n",
    "As you can see from previous chapters, flat types such as `int` or `float` only allow a single element. What if we want to store the prices of, says, 100 products?\n",
    "- We need 100 variables, from `product_1` to `product_100`\n",
    "- This is an ugly solution, and it's also not optimal\n",
    "- What if we have 20 more products next week? \n",
    "- We will need 20 more variables\n",
    "- And this might break some other programs or analyses that were designed to deal with the original 100 variables only\n",
    "\n",
    "We need some more flexible data structures that can handle a **collection** of elements under the same name such as a list or a dictionary\n",
    "- We will learn about these data structures in detail in the next chapters\n",
    "- For now, just take a look at some simple examples to see the benefits that a list could bring \n",
    "- Don't try to understand the technical details at the moment"
   ]
  },
  {
   "cell_type": "code",
   "execution_count": 3,
   "id": "7a758af0-9c71-4bf0-9a26-658849769713",
   "metadata": {},
   "outputs": [],
   "source": [
    "# Init a list with 5 elements to store prices of 5 products\n",
    "products = [100, 200, 50, 120, 80]"
   ]
  },
  {
   "cell_type": "code",
   "execution_count": 4,
   "id": "8e51f7fd-fb6b-4299-804f-7780e2557a8e",
   "metadata": {},
   "outputs": [
    {
     "data": {
      "text/plain": [
       "[100, 200, 50, 120, 80]"
      ]
     },
     "execution_count": 4,
     "metadata": {},
     "output_type": "execute_result"
    }
   ],
   "source": [
    "# View all elements\n",
    "products"
   ]
  },
  {
   "cell_type": "code",
   "execution_count": 5,
   "id": "d075a7e9-4413-42bb-967a-0ac4b98beb51",
   "metadata": {},
   "outputs": [
    {
     "data": {
      "text/plain": [
       "100"
      ]
     },
     "execution_count": 5,
     "metadata": {},
     "output_type": "execute_result"
    }
   ],
   "source": [
    "# Get the first element\n",
    "products[0]"
   ]
  },
  {
   "cell_type": "code",
   "execution_count": 14,
   "id": "d0d47119-e853-4cca-8e31-5dcedcb75eb4",
   "metadata": {},
   "outputs": [
    {
     "data": {
      "text/plain": [
       "50"
      ]
     },
     "execution_count": 14,
     "metadata": {},
     "output_type": "execute_result"
    }
   ],
   "source": [
    "# Get the third element\n",
    "products[2]"
   ]
  },
  {
   "cell_type": "code",
   "execution_count": 6,
   "id": "6a38b681-8334-493e-9b5a-7d41d76114ee",
   "metadata": {},
   "outputs": [
    {
     "data": {
      "text/plain": [
       "80"
      ]
     },
     "execution_count": 6,
     "metadata": {},
     "output_type": "execute_result"
    }
   ],
   "source": [
    "# Get the last element\n",
    "products[-1]"
   ]
  },
  {
   "cell_type": "code",
   "execution_count": 7,
   "id": "36e6da2c-e553-4f25-a36f-24ae50eb900c",
   "metadata": {},
   "outputs": [
    {
     "data": {
      "text/plain": [
       "[105.0, 210.0, 52.5, 126.0, 84.0]"
      ]
     },
     "execution_count": 7,
     "metadata": {},
     "output_type": "execute_result"
    }
   ],
   "source": [
    "# Increase prices of all product by 5% \n",
    "# to account for the inflation\n",
    "[1.05*x for x in products]"
   ]
  },
  {
   "cell_type": "code",
   "execution_count": 8,
   "id": "1bfd31ff-7b27-434c-853b-e82972f283e1",
   "metadata": {},
   "outputs": [
    {
     "data": {
      "text/plain": [
       "[100, 200, 120]"
      ]
     },
     "execution_count": 8,
     "metadata": {},
     "output_type": "execute_result"
    }
   ],
   "source": [
    "# Extract prices >= 100 only\n",
    "[x for x in products if x >= 100]"
   ]
  },
  {
   "cell_type": "code",
   "execution_count": 9,
   "id": "6660c42e-6d8d-47b2-8827-c0ec65116fe0",
   "metadata": {},
   "outputs": [
    {
     "name": "stdout",
     "output_type": "stream",
     "text": [
      "[100, 200, 50, 120, 80, 25, 75]\n"
     ]
    }
   ],
   "source": [
    "# Add to more prices to the list\n",
    "products.extend([25, 75])\n",
    "print(products)"
   ]
  },
  {
   "cell_type": "markdown",
   "id": "bb21a4bd-ae13-433c-bb3d-6a74ca77a4e8",
   "metadata": {},
   "source": [
    "Or remove some element"
   ]
  },
  {
   "cell_type": "code",
   "execution_count": 10,
   "id": "e12ea4b6-d250-4afa-8eb8-f9586133ec57",
   "metadata": {},
   "outputs": [
    {
     "name": "stdout",
     "output_type": "stream",
     "text": [
      "[100, 200, 50, 120, 80, 25]\n"
     ]
    }
   ],
   "source": [
    "# Remove price with value 75\n",
    "products.remove(75)\n",
    "print(products)"
   ]
  },
  {
   "cell_type": "markdown",
   "id": "b216076c-ee93-41fd-8e2f-207cef861ddc",
   "metadata": {},
   "source": [
    "## Hierarchy of collection types\n",
    "Collection types can be divided further into 3 groups: sequences, mappings, and sets as shown below\n",
    "\n",
    "### Sequences\n",
    "- A sequence is a collection of elements sharing the same name\n",
    "- Each element can be accessed using the sequence name and the element's position (or index)\n",
    "- Python starts indexing at `0`\n",
    "- Thus, if a sequence has `N` elements, then the elements are indexed by `0, 1, ..., N-1`\n",
    "- Common built-in sequence types include\n",
    "    - `list`\n",
    "    - `tuple`\n",
    "    - `range`\n",
    "    - `str`\n",
    "    \n",
    "### Mappings\n",
    "- Currently, Python has only one data type in the this group\n",
    "- It is `dict` (or dictionary type)\n",
    "- A `dict` is a collection with each element being a pair of `key-value`\n",
    "- Example: `user = {\"name\": \"John\", \"age\": 20}`\n",
    "- There is no intrinsic order in a mapping\n",
    "- We access an element of a dictionary using the corresponding `key`. Ex: `user[\"name\"]`\n",
    "\n",
    "    \n",
    "### Sets\n",
    "- A set in Python is pretty much the same as in mathematics\n",
    "- It is a collection of unique elements and has no intrinsic order\n",
    "- There is no way to access an element of a set\n",
    "- We can only check if a value is in a set or not\n",
    "- There is two types of sets in Python\n",
    "    - `set`\n",
    "    - `frozenset`"
   ]
  }
 ],
 "metadata": {
  "kernelspec": {
   "display_name": "Python 3 (ipykernel)",
   "language": "python",
   "name": "python3"
  },
  "language_info": {
   "codemirror_mode": {
    "name": "ipython",
    "version": 3
   },
   "file_extension": ".py",
   "mimetype": "text/x-python",
   "name": "python",
   "nbconvert_exporter": "python",
   "pygments_lexer": "ipython3",
   "version": "3.9.12"
  }
 },
 "nbformat": 4,
 "nbformat_minor": 5
}
