{
 "cells": [
  {
   "cell_type": "markdown",
   "id": "597207ef-2c2e-4e5b-9f6a-0d290f79c9b6",
   "metadata": {},
   "source": [
    "## Double-check installation\n",
    "\n",
    "Type `Git Bash` into the search window, and if Git Bash is available then it was installed correctly.\n",
    "\n",
    "Hit `Enter` to open Git Bash. You will see a black window with a blinking cursor. This window is the Git Bash **terminal**.\n",
    "\n",
    "Now type `conda --version` into the terminal, and hit `Enter`. If you see something like `conda 4.12.0` printed out, then Anaconda was installed correctly."
   ]
  }
 ],
 "metadata": {
  "kernelspec": {
   "display_name": "Python 3 (ipykernel)",
   "language": "python",
   "name": "python3"
  },
  "language_info": {
   "codemirror_mode": {
    "name": "ipython",
    "version": 3
   },
   "file_extension": ".py",
   "mimetype": "text/x-python",
   "name": "python",
   "nbconvert_exporter": "python",
   "pygments_lexer": "ipython3",
   "version": "3.9.7"
  }
 },
 "nbformat": 4,
 "nbformat_minor": 5
}
