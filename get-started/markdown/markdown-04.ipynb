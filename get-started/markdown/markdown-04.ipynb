{
 "cells": [
  {
   "cell_type": "markdown",
   "id": "4c6ff11a-a52a-4683-b403-405555b15655",
   "metadata": {},
   "source": [
    "# Summary\n",
    "\n",
    "The following summarizes all the Markdown syntax you need to know."
   ]
  },
  {
   "cell_type": "markdown",
   "id": "eb7aa6d0-95c7-4bdd-bf1d-7e64b3cafa2a",
   "metadata": {},
   "source": [
    "**Headings**\n",
    "\n",
    "```\n",
    "# Level 1\n",
    "## Level 2\n",
    "### Level 3\n",
    "#### Level 4\n",
    "##### Level 5\n",
    "###### Level 6\n",
    "```"
   ]
  },
  {
   "cell_type": "markdown",
   "id": "ea2c88f7-37f4-485d-b5c5-e080345187d8",
   "metadata": {},
   "source": [
    "**Emphasis**\n",
    "\n",
    "```\n",
    "Bold: **bold**\n",
    "Italic: *italic*\n",
    "Bold and italic: ***Bold and italic***\n",
    "Strike through: ~~Strike through~~\n",
    "```"
   ]
  },
  {
   "cell_type": "markdown",
   "id": "0b168e0f-c905-4ab7-bbdb-de9ef398b998",
   "metadata": {},
   "source": [
    "**Unordered lists**\n",
    "\n",
    "```\n",
    "- item 1\n",
    "- item 2\n",
    "- item 3\n",
    "```"
   ]
  },
  {
   "cell_type": "markdown",
   "id": "f8f06674-272f-475d-a8f7-51f1de7bfc5c",
   "metadata": {},
   "source": [
    "**Ordered lists**\n",
    "\n",
    "```\n",
    "1. item 1\n",
    "1. item 2\n",
    "1. item 3\n",
    "```"
   ]
  },
  {
   "cell_type": "markdown",
   "id": "a0fef082-0a21-475e-81a1-48ad3efef808",
   "metadata": {},
   "source": [
    "**Nested lists**\n",
    "\n",
    "```\n",
    "- item 1\n",
    "    - sub-item 1.1\n",
    "    - sub-item 1.2\n",
    "- item 2\n",
    "    - sub-item 2.1\n",
    "    - sub-item 2.2\n",
    "```"
   ]
  },
  {
   "cell_type": "markdown",
   "id": "ba23d78d-432a-4cca-878d-f5fcfa724aee",
   "metadata": {},
   "source": [
    "**Mixed nested lists**\n",
    "\n",
    "```\n",
    "1. item 1\n",
    "    - sub-item 1.1\n",
    "    - sub-item 1.2\n",
    "1. item 2\n",
    "    - sub-item 2.1\n",
    "    - sub-item 2.2\n",
    "```"
   ]
  },
  {
   "cell_type": "markdown",
   "id": "739546d5-de29-4f3a-a4f4-959410ff2fbd",
   "metadata": {},
   "source": [
    "**Inline code**\n",
    "\n",
    "- Numbers: `` `42` ``\n",
    "- Variable names: `` `profit` `` \n",
    "- Expressions: `` `y = 3*x + 1` ``"
   ]
  },
  {
   "cell_type": "markdown",
   "id": "3ec2fae6-c1b5-47be-acd4-8d6a3e7f75bd",
   "metadata": {},
   "source": [
    "**Block code**\n",
    "\n",
    "````\n",
    "```python\n",
    "def say_hi(name):\n",
    "    print(f\"Hello {name}\")\n",
    "    print(\"Have a good day\")\n",
    "```\n",
    "````"
   ]
  },
  {
   "cell_type": "markdown",
   "id": "e087ddf8-d6d1-4cbc-8fab-171b2563d0a0",
   "metadata": {},
   "source": [
    "**Inline Latex**\n",
    "\n",
    "```\n",
    "$E = mc^2$\n",
    "```"
   ]
  },
  {
   "cell_type": "markdown",
   "id": "9841e9b5-d73f-4da7-bf4b-e350b3a7db9d",
   "metadata": {},
   "source": [
    "**Block Latex**\n",
    "\n",
    "```\n",
    "$$\n",
    "M = \\begin{bmatrix}a_1 & b_1\\\\\n",
    "a_2 & b_2 \\\\\n",
    "a_3 & b_3\n",
    "\\end{bmatrix}\n",
    "$$\n",
    "\n",
    "```"
   ]
  },
  {
   "cell_type": "markdown",
   "id": "19432fd7-0166-415a-831c-cc76cc71b815",
   "metadata": {},
   "source": [
    "**Links**\n",
    "\n",
    "```\n",
    "[Google](https://www.google.com)\n",
    "```"
   ]
  },
  {
   "cell_type": "markdown",
   "id": "6ceab13f-f061-4f66-a879-e174b8756351",
   "metadata": {},
   "source": [
    "**Single-paragraph quotes**\n",
    "\n",
    "```\n",
    "> This is a quote\n",
    "```\n",
    "\n",
    "**Multi-paragraph quotes**\n",
    "\n",
    "```\n",
    "> This is the first paragraph\n",
    ">\n",
    "> This is the second paragraph\n",
    "```"
   ]
  },
  {
   "cell_type": "markdown",
   "id": "bc73f1c5-b216-45d7-9ea6-e79dd61d3179",
   "metadata": {},
   "source": [
    "**Images**\n",
    "\n",
    "```\n",
    "![Caption](path_to_the_image)\n",
    "```"
   ]
  },
  {
   "cell_type": "markdown",
   "id": "f2529647-ef88-42f0-8b0d-fe6abdac3800",
   "metadata": {},
   "source": [
    "**Tables**\n",
    "\n",
    "```\n",
    "| id | name       | email            |\n",
    "|----|------------|------------------|\n",
    "| 1  | John Doe   | john@gmail.com   |\n",
    "| 2  | Jane Smith | jane@hotmail.com |\n",
    "| 3  | Nam Tran   | nam@yahoo.com    |\n",
    "```"
   ]
  },
  {
   "cell_type": "markdown",
   "id": "76c13be0-0cea-4545-adf8-e6461173bc0d",
   "metadata": {},
   "source": [
    "**Emails**\n",
    "\n",
    "```\n",
    "<pythonisfun@example.com>\n",
    "```"
   ]
  },
  {
   "cell_type": "markdown",
   "id": "8611a502-645c-4433-a8eb-75aa129b8115",
   "metadata": {},
   "source": [
    "**HTML**\n",
    "\n",
    "```\n",
    "<div>\n",
    "    <p>This is a paragraph</p>\n",
    "    <p>Next one will be an unordered list</p>\n",
    "    <ul>\n",
    "        <li>item 1</li>\n",
    "        <li><b>item 1 in bold</b></li>\n",
    "        <li><span style=\"color: red;\">item 3 in red</span></li>\n",
    "    </ul>\n",
    "</div>\n",
    "```"
   ]
  },
  {
   "cell_type": "markdown",
   "id": "9cbbac81-5228-49a0-9410-05a16cde8dbf",
   "metadata": {},
   "source": [
    "**Horizontal lines**\n",
    "\n",
    "```\n",
    "---\n",
    "```"
   ]
  },
  {
   "cell_type": "markdown",
   "id": "00781ef1-5c54-4a44-9615-05387e6ac7db",
   "metadata": {},
   "source": [
    "**Footnotes**\n",
    "\n",
    "```\n",
    "This line will have a footnote [^1]\n",
    "[^1]: here is the footnote\n",
    "```"
   ]
  }
 ],
 "metadata": {
  "kernelspec": {
   "display_name": "Python 3 (ipykernel)",
   "language": "python",
   "name": "python3"
  },
  "language_info": {
   "codemirror_mode": {
    "name": "ipython",
    "version": 3
   },
   "file_extension": ".py",
   "mimetype": "text/x-python",
   "name": "python",
   "nbconvert_exporter": "python",
   "pygments_lexer": "ipython3",
   "version": "3.9.7"
  }
 },
 "nbformat": 4,
 "nbformat_minor": 5
}
