{
 "cells": [
  {
   "cell_type": "markdown",
   "id": "9c1b74d4-2fdc-47b5-a0d9-ef74d86ccff6",
   "metadata": {},
   "source": [
    "# Python's basic syntax"
   ]
  },
  {
   "cell_type": "markdown",
   "id": "06e16506",
   "metadata": {},
   "source": [
    "![](../img/get_started/python_code_2.png)"
   ]
  },
  {
   "cell_type": "markdown",
   "id": "e1bdf761",
   "metadata": {},
   "source": [
    "This tutorial aims to provide just some very basic syntax so that you can **get started immediately**. It's like when you first learn a new language (says Spanish), you don't dive into learning grammar right away. Instead, you learn some basic **vocabulary** and **simple sentences**. This lesson serves such a purpose. In the next lessons, you will learn Python in a **more systematic way**."
   ]
  },
  {
   "cell_type": "markdown",
   "id": "b79fd688-4542-45b0-92fc-88eaa4412d61",
   "metadata": {},
   "source": [
    "## Python as a calculator\n",
    "\n",
    "You can use Python as a calculator to compute math expressions, for example"
   ]
  },
  {
   "cell_type": "markdown",
   "id": "c2b76833",
   "metadata": {},
   "source": [
    "Addition"
   ]
  },
  {
   "cell_type": "code",
   "execution_count": 1,
   "id": "62c25e80-29d0-40e6-9888-bdec49b64152",
   "metadata": {},
   "outputs": [
    {
     "data": {
      "text/plain": [
       "5"
      ]
     },
     "execution_count": 1,
     "metadata": {},
     "output_type": "execute_result"
    }
   ],
   "source": [
    "2 + 3"
   ]
  },
  {
   "cell_type": "markdown",
   "id": "3094fcbf",
   "metadata": {},
   "source": [
    "Subtraction"
   ]
  },
  {
   "cell_type": "code",
   "execution_count": 2,
   "id": "76023140-f3ba-488c-aad0-1dfa82f41da4",
   "metadata": {},
   "outputs": [
    {
     "data": {
      "text/plain": [
       "-1"
      ]
     },
     "execution_count": 2,
     "metadata": {},
     "output_type": "execute_result"
    }
   ],
   "source": [
    "2 - 3"
   ]
  },
  {
   "cell_type": "markdown",
   "id": "57d95a80",
   "metadata": {},
   "source": [
    "Multiplication"
   ]
  },
  {
   "cell_type": "code",
   "execution_count": 3,
   "id": "760fd0af-f02a-4384-abcc-ec1b1d504de8",
   "metadata": {},
   "outputs": [
    {
     "data": {
      "text/plain": [
       "6"
      ]
     },
     "execution_count": 3,
     "metadata": {},
     "output_type": "execute_result"
    }
   ],
   "source": [
    "2 * 3"
   ]
  },
  {
   "cell_type": "markdown",
   "id": "2ddd39f6",
   "metadata": {},
   "source": [
    "Division"
   ]
  },
  {
   "cell_type": "code",
   "execution_count": 4,
   "id": "a1e6461d-664b-4285-8de1-038ff52e0d66",
   "metadata": {},
   "outputs": [
    {
     "data": {
      "text/plain": [
       "0.6666666666666666"
      ]
     },
     "execution_count": 4,
     "metadata": {},
     "output_type": "execute_result"
    }
   ],
   "source": [
    "2 / 3"
   ]
  },
  {
   "cell_type": "markdown",
   "id": "1d32cddf",
   "metadata": {},
   "source": [
    "Integer division"
   ]
  },
  {
   "cell_type": "code",
   "execution_count": 5,
   "id": "cbddc11b-f1dc-4c19-9dac-0cc79dd7781b",
   "metadata": {},
   "outputs": [
    {
     "data": {
      "text/plain": [
       "0"
      ]
     },
     "execution_count": 5,
     "metadata": {},
     "output_type": "execute_result"
    }
   ],
   "source": [
    "2 // 3"
   ]
  },
  {
   "cell_type": "markdown",
   "id": "c90dab36",
   "metadata": {},
   "source": [
    "Modulus (get the remainder)"
   ]
  },
  {
   "cell_type": "code",
   "execution_count": 6,
   "id": "df6e002f",
   "metadata": {},
   "outputs": [
    {
     "data": {
      "text/plain": [
       "2"
      ]
     },
     "execution_count": 6,
     "metadata": {},
     "output_type": "execute_result"
    }
   ],
   "source": [
    "2 % 3"
   ]
  },
  {
   "cell_type": "markdown",
   "id": "8fd32435",
   "metadata": {},
   "source": [
    "Exponential (use `**` not `^`)"
   ]
  },
  {
   "cell_type": "code",
   "execution_count": 7,
   "id": "83a5a9c6",
   "metadata": {},
   "outputs": [
    {
     "data": {
      "text/plain": [
       "8"
      ]
     },
     "execution_count": 7,
     "metadata": {},
     "output_type": "execute_result"
    }
   ],
   "source": [
    "2**3"
   ]
  },
  {
   "cell_type": "markdown",
   "id": "0c4f54ae",
   "metadata": {},
   "source": [
    "More complicated expressions"
   ]
  },
  {
   "cell_type": "code",
   "execution_count": 8,
   "id": "74800572",
   "metadata": {},
   "outputs": [
    {
     "data": {
      "text/plain": [
       "2653.2977051444223"
      ]
     },
     "execution_count": 8,
     "metadata": {},
     "output_type": "execute_result"
    }
   ],
   "source": [
    "1000 * (1 + 0.05)**20"
   ]
  },
  {
   "cell_type": "markdown",
   "id": "f3253228-4782-4644-ab1c-57a874734d86",
   "metadata": {},
   "source": [
    "## Printing"
   ]
  },
  {
   "cell_type": "markdown",
   "id": "028eab09-5fe2-495a-9092-8ddb82e17c1b",
   "metadata": {},
   "source": [
    "You can use `print()` **function** to print out values associated with a **literal**, a **variable**, or an **expression**.\n",
    "\n",
    "- **Functions**: roughly speaking, a function takes some input (inside the parentheses), does something with the input, and spits out some output. Here, print takes in a string or an expression, evaluates it, and prints the evaluated value\n",
    "\n",
    "- **Literals**: A literal is a fixed/constant value. When you see it, it is *literally* the value it represents. No additional conversion is needed, for example, `2`, `\"Hello\"`, `True`, etc.\n",
    "\n",
    "- **Variables**: you will learn variables in greater depth in the next tutorial. For now, just accept that a variable is a *nickname* associated with some value.\n",
    "\n",
    "- **Expressions**: an expression is anything that can be evaluated as a value, for example `2 + 5`, `(15 + 7) / 2`"
   ]
  },
  {
   "cell_type": "markdown",
   "id": "cff05321",
   "metadata": {},
   "source": [
    "Print string literals (note, you need to wrap strings in quotes, either single or double quotes)"
   ]
  },
  {
   "cell_type": "code",
   "execution_count": 9,
   "id": "2ddd3482-83f1-485d-bdc0-191d174cea7e",
   "metadata": {},
   "outputs": [
    {
     "name": "stdout",
     "output_type": "stream",
     "text": [
      "Hello\n",
      "Nice to meet you\n"
     ]
    }
   ],
   "source": [
    "print(\"Hello\")\n",
    "print('Nice to meet you')"
   ]
  },
  {
   "cell_type": "markdown",
   "id": "887f4a83",
   "metadata": {},
   "source": [
    "Print variables"
   ]
  },
  {
   "cell_type": "code",
   "execution_count": 10,
   "id": "38c21d9a",
   "metadata": {},
   "outputs": [
    {
     "name": "stdout",
     "output_type": "stream",
     "text": [
      "5\n"
     ]
    }
   ],
   "source": [
    "x = 2 + 3\n",
    "print(x)"
   ]
  },
  {
   "cell_type": "markdown",
   "id": "f7946df9",
   "metadata": {},
   "source": [
    "Print expressions"
   ]
  },
  {
   "cell_type": "code",
   "execution_count": 11,
   "id": "9e75abf8-4c84-4b1d-882d-fd251fad913c",
   "metadata": {},
   "outputs": [
    {
     "name": "stdout",
     "output_type": "stream",
     "text": [
      "12\n"
     ]
    }
   ],
   "source": [
    "print(2**3 + 4)"
   ]
  },
  {
   "cell_type": "markdown",
   "id": "b189408e-afcc-4004-bc2f-9279b905cd77",
   "metadata": {},
   "source": [
    "## Comments\n",
    "\n",
    "Comments are used to document your code so that other people can understand what you are doing (if your code is not so obvious). \"Other people\" also include \"future you\" because it is not common that you will forget what you have done after a few weeks (even days). \n",
    "\n",
    "Comments are for *human-only* and are ignored by the interpreter. In Python, a comment starts with `#`"
   ]
  },
  {
   "cell_type": "code",
   "execution_count": 12,
   "id": "135c158f-ebb2-4cf7-a3a8-e5d55bc15bf2",
   "metadata": {},
   "outputs": [],
   "source": [
    "# This is a single-line comment"
   ]
  },
  {
   "cell_type": "code",
   "execution_count": 13,
   "id": "9cd09ce1-9574-4d0b-b51e-5f0ee69fc417",
   "metadata": {},
   "outputs": [],
   "source": [
    "# This is also a comments\n",
    "# but it spans\n",
    "# on multiple lines"
   ]
  },
  {
   "cell_type": "markdown",
   "id": "6c0ac5c7-3987-4859-80cd-cda47ef96c28",
   "metadata": {},
   "source": [
    "## Statements\n",
    "A statement is a **complete instruction** that Python can execute. It is like a **full-sentence** in English. Each statement *normally* sits on one line, and you don't need to end a statement with a semi-colon `;` as in some other language such as `C/C++`.\n",
    "\n",
    "The code block below has three statements. The first and second are two **assignments**, and the third is a print statement."
   ]
  },
  {
   "cell_type": "code",
   "execution_count": 14,
   "id": "8a1f7298-18ab-4ae4-abc8-a04744507d4e",
   "metadata": {},
   "outputs": [
    {
     "name": "stdout",
     "output_type": "stream",
     "text": [
      "25\n"
     ]
    }
   ],
   "source": [
    "x = 2 + 3\n",
    "y = x**2\n",
    "print(y)"
   ]
  },
  {
   "cell_type": "markdown",
   "id": "f46c4da3-4034-4b0a-b99a-2b66445caf61",
   "metadata": {},
   "source": [
    "We can also use `;` to write multiple statements on one line as in the example below"
   ]
  },
  {
   "cell_type": "code",
   "execution_count": 15,
   "id": "b02f4e44-d2e5-454e-a5e1-3ac9be65f469",
   "metadata": {},
   "outputs": [
    {
     "name": "stdout",
     "output_type": "stream",
     "text": [
      "18\n"
     ]
    }
   ],
   "source": [
    "x = 5; y = 6; z = 7\n",
    "print(x + y + z)"
   ]
  },
  {
   "cell_type": "markdown",
   "id": "9badca7d-87d8-4e23-9716-3ed6efeda1c6",
   "metadata": {},
   "source": [
    "However, this practice is **discouraged** because it reduces **readability**. It's best to keep each statement on its own line as shown below (we don't have to pay for the space anyway)"
   ]
  },
  {
   "cell_type": "code",
   "execution_count": 16,
   "id": "6048b72a-ae66-4c83-8a34-4b360463d048",
   "metadata": {},
   "outputs": [
    {
     "name": "stdout",
     "output_type": "stream",
     "text": [
      "18\n"
     ]
    }
   ],
   "source": [
    "x = 5\n",
    "y = 6\n",
    "z = 7\n",
    "\n",
    "print(x + y + z)"
   ]
  },
  {
   "cell_type": "markdown",
   "id": "4c622e15-d71b-44e4-824f-2cf50b068bb3",
   "metadata": {},
   "source": [
    "## Line continuation\n",
    "\n",
    "On some occasions, you might have to write a complex statement, and keeping everything in one line make it very ugly and hard to read. If so, you can break it into multiple (shorter) lines by putting a backslash `\\` at the end of each line. This backslash indicates that the statement will continue to the next line. For example"
   ]
  },
  {
   "cell_type": "code",
   "execution_count": 17,
   "id": "f510657f-faef-4b42-9dc2-afff54a88c06",
   "metadata": {},
   "outputs": [
    {
     "name": "stdout",
     "output_type": "stream",
     "text": [
      "45\n"
     ]
    }
   ],
   "source": [
    "x = 1 + 2 + 3 +\\\n",
    "    4 + 5 + 6 +\\\n",
    "    7 + 8 + 9\n",
    "\n",
    "print(x)"
   ]
  },
  {
   "cell_type": "markdown",
   "id": "36b07946-d052-4e5e-b20e-6d9cdf03f1e2",
   "metadata": {},
   "source": [
    "Another approach is to wrap it multi-line statement inside parentheses"
   ]
  },
  {
   "cell_type": "code",
   "execution_count": 18,
   "id": "edc96f26-d97c-464d-acaf-c5eab798ceff",
   "metadata": {},
   "outputs": [
    {
     "name": "stdout",
     "output_type": "stream",
     "text": [
      "45\n"
     ]
    }
   ],
   "source": [
    "x = (1 + 2 + 3 +\n",
    "    4 + 5 + 6 +\n",
    "    7 + 8 + 9)\n",
    "\n",
    "print(x)"
   ]
  },
  {
   "cell_type": "markdown",
   "id": "8f6bb669-76a7-43ad-a696-bccaf936896a",
   "metadata": {},
   "source": [
    "## White spaces\n",
    "\n",
    "White spaces include spaces, tabs, newlines, and blank lines. Often, whitespaces are ignored by the interpreter."
   ]
  },
  {
   "cell_type": "markdown",
   "id": "ec0ef653",
   "metadata": {},
   "source": [
    "Example 1: extra spaces don't count"
   ]
  },
  {
   "cell_type": "code",
   "execution_count": 19,
   "id": "e78b17a8-a819-40a5-a4d3-921db72bc28a",
   "metadata": {},
   "outputs": [
    {
     "name": "stdout",
     "output_type": "stream",
     "text": [
      "5\n",
      "5\n",
      "5\n"
     ]
    }
   ],
   "source": [
    "print(2+3)\n",
    "print(2 + 3)\n",
    "print(    2 +     3)"
   ]
  },
  {
   "cell_type": "markdown",
   "id": "3f41b6f3-9c15-4e60-a88d-fa7f9bde222c",
   "metadata": {},
   "source": [
    "As you can see, all three statements print out the same result. However, among them, the second line is considered to follow **best practices** (more on **coding style guide** in future lessons)"
   ]
  },
  {
   "cell_type": "markdown",
   "id": "00929b63-de78-4563-9221-a3926ee72e51",
   "metadata": {},
   "source": [
    "Example 2: new lines and blank lines don't count either"
   ]
  },
  {
   "cell_type": "code",
   "execution_count": 20,
   "id": "46ca6bc3-df3d-4739-9c17-c6a0e104e5f8",
   "metadata": {},
   "outputs": [
    {
     "name": "stdout",
     "output_type": "stream",
     "text": [
      "14\n"
     ]
    }
   ],
   "source": [
    "# Snippet 1\n",
    "x = 2 + 3\n",
    "\n",
    "\n",
    "y = 4 + 5\n",
    "\n",
    "print(x + y)"
   ]
  },
  {
   "cell_type": "code",
   "execution_count": 21,
   "id": "971be5bf-cd88-4113-a409-658dcaae3747",
   "metadata": {},
   "outputs": [
    {
     "name": "stdout",
     "output_type": "stream",
     "text": [
      "14"
     ]
    },
    {
     "name": "stdout",
     "output_type": "stream",
     "text": [
      "\n"
     ]
    }
   ],
   "source": [
    "# Snippet 2\n",
    "x = 2 + 3\n",
    "y = 4 + 5\n",
    "print(x + y)"
   ]
  },
  {
   "cell_type": "markdown",
   "id": "086e39b8",
   "metadata": {},
   "source": [
    "Again, snippet 2 is better than snippet 1 in terms of coding style."
   ]
  },
  {
   "cell_type": "markdown",
   "id": "9d09f411-3b7f-4ed2-b356-12980660faab",
   "metadata": {},
   "source": [
    "## Indentation\n",
    "\n",
    "Indentation means the spaces at the beginning of each line. Unlike other languages, **indentation does matter** in Python. Python uses indentation to indicate a code block (similar to the use of curly brackets `{}` in other languages), and thus need to use properly.\n",
    "\n",
    "You can try to run two following snippets in your notebook and observe what happens.\n",
    "\n",
    "Snippet 1\n",
    "\n",
    "```python\n",
    "age = 30\n",
    "\n",
    "if age >= 21:\n",
    "    print(\"Congrats! You can buy vodka\")\n",
    "```\n",
    "\n",
    "And snippet 2\n",
    "```python\n",
    "age = 30\n",
    "\n",
    "if age >= 21:\n",
    "print(\"Congrats! You can buy vodka\")\n",
    "```\n",
    "\n",
    "You will learn about indentation later. For now, if there is no reason, never indent your code."
   ]
  }
 ],
 "metadata": {
  "kernelspec": {
   "display_name": "Python 3 (ipykernel)",
   "language": "python",
   "name": "python3"
  },
  "language_info": {
   "codemirror_mode": {
    "name": "ipython",
    "version": 3
   },
   "file_extension": ".py",
   "mimetype": "text/x-python",
   "name": "python",
   "nbconvert_exporter": "python",
   "pygments_lexer": "ipython3",
   "version": "3.9.7"
  }
 },
 "nbformat": 4,
 "nbformat_minor": 5
}