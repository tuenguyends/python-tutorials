{
 "cells": [
  {
   "cell_type": "markdown",
   "id": "b22c0056-b1d5-4f16-b177-0334ae5b4d47",
   "metadata": {},
   "source": [
    "# Start your first project with Jupyter Lab\n",
    "\n",
    "Best practices for starting a data science project with Jupyter Lab"
   ]
  },
  {
   "cell_type": "markdown",
   "id": "0fd8f187",
   "metadata": {},
   "source": [
    "![](../img/get_started/jlab_interface_1.png)"
   ]
  },
  {
   "cell_type": "markdown",
   "id": "d1fb4a82-d249-462b-b0a9-d4ec8ac46873",
   "metadata": {},
   "source": [
    "## What is Jupyter Lab?"
   ]
  },
  {
   "cell_type": "markdown",
   "id": "a6bab8df-b276-4dd8-b43f-25447ec9ef73",
   "metadata": {},
   "source": [
    "Jupyter Lab is an integrated development environment (IDE) commonly used for interactive coding with languages such as Python, R, and Julia. In fact, **Jupyter** is an acronym for **Ju**lia-**Py**thon-**R**. You can also you Jupyter Lab with other scripting languages such as Matlab or Octave.\n",
    "\n",
    "**What is an IDE?** An IDE is simply a text editor with some features that make coding easier and more efficient such as\n",
    "\n",
    "- Syntax highlighting\n",
    "- File organization/navigation\n",
    "- Code execution\n",
    "- Integrated terminal\n",
    "- Debugger\n",
    "\n",
    "Jupyter Lab is the next generation of **Jupyter Notebook** (the older version). Besides full support for Jupyter Notebook, JLab provides much more features and enhancements that boost your **productivity** and **enjoyment** while coding.\n",
    "\n",
    "You don't need to install Jupyter Lab because it comes with Anaconda's standard installation, which you already installed in the previous tutorial.\n",
    "\n",
    "Jupyter Lab is not the only IDE for Python, but in my opinion, it is the best for data-related tasks. Other common IDEs include\n",
    "\n",
    "- Pycharm\n",
    "- Spyder\n",
    "- Visual Studio Code\n",
    "- Zeppelin"
   ]
  },
  {
   "cell_type": "markdown",
   "id": "5d9496bc-bd18-46cc-8f62-41490636d4d3",
   "metadata": {},
   "source": [
    "## Create a workspace\n",
    "\n",
    "The first thing to do when starting a Python project is to set up a **workspace** for that project. A workspace is just a **folder** (or directory) on your computer where you host the code files, data, and related stuff. It is sometimes called the **root directory**.\n",
    "\n",
    "You might be working on multiple projects, so it's best to have a parent folder for them. For example, in my laptop, the super-folder for data science projects is located at `D:/ds_projects`.\n",
    "\n",
    "Inside `D:/ds_projects`, create a folder for your first project and name it `example`. For your future projects, you should use meaningful names. Then go into `example` and create sub-folders following the structure below\n",
    "\n",
    "```\n",
    "example/\n",
    "    |____ data/\n",
    "    |____ nb/\n",
    "    |____ lib/\n",
    "    |____ out/\n",
    "    |____ docs/\n",
    "```\n",
    "\n",
    "`data/` is for your data files. `nb/` is for your analytics notebooks. `lib/` is for your custom modules. `out/` is for output such as exported Excel files or graphs. `docs/` is for related documents.\n",
    "\n",
    "To keep things simple, for this tutorial, you only need `nb/` folder. The structure suggested above is a **guideline** for you when working on more complex projects in the future.\n",
    "\n",
    "Inside `example`, right-click and choose `Git Bash Here` (now you know why we installed `Git`). For macOS users, when right-clicking, you will see an option `Terminal at folder` under `Services` menu, which serves the same purpose - to launch a terminal at the current folder."
   ]
  },
  {
   "cell_type": "markdown",
   "id": "3f7ec560-6435-487d-8fa2-f642eaa5a561",
   "metadata": {},
   "source": [
    "![](../img/get_started/git_bash_here.png)"
   ]
  },
  {
   "cell_type": "markdown",
   "id": "b472f5c0-ee0e-4d3a-bb00-ae0aa145c57b",
   "metadata": {},
   "source": [
    "Type in the terminal `jupyter lab` and hit `Enter`. Jupyter Lab will be launched via a new tab of your default browser. For a better experience, I recommend you use a modern browser such as Chrome or Microsoft Edge as your default browser."
   ]
  },
  {
   "cell_type": "markdown",
   "id": "ed2a6600-b4fc-4e2c-a10d-03657723fe71",
   "metadata": {},
   "source": [
    "## Jupyter Lab's interface\n",
    "\n",
    "You can find very detailed and up-to-date tutorials on how to use Jupyter Lab [here](https://jupyterlab.readthedocs.io/en/stable/user/interface.html)."
   ]
  },
  {
   "cell_type": "markdown",
   "id": "b0174721-f1f0-4e0e-95cd-f61436d61c6d",
   "metadata": {},
   "source": [
    "![Jupyter Lab interface](../img/get_started/jlab_interface.png)"
   ]
  },
  {
   "cell_type": "markdown",
   "id": "9b36bc34-efcc-47aa-922e-e323154bcfbf",
   "metadata": {},
   "source": [
    "## Create your first notebook"
   ]
  },
  {
   "cell_type": "markdown",
   "id": "fc5507f4-bde6-4bfa-b87c-b42434b850d9",
   "metadata": {},
   "source": [
    "Your project can contain only a single **notebook** or a collection of notebooks, depending on the complexity of your analysis. Each notebook is a piece of analysis that contains code and explanatory text.\n",
    "\n",
    "Now use the navigation panel on the left to go inside `nb/` subfolder. When inside `nb/`, click the big blue button with a plus sign, and on the **launcher panel** on the right, choose `Python 3 (ipykernel)` (see below picture)"
   ]
  },
  {
   "cell_type": "markdown",
   "id": "f015f13d-bbd4-4bf8-9b5e-d2a84bd9172a",
   "metadata": {},
   "source": [
    "![](../img/get_started/new_notebook.png)"
   ]
  },
  {
   "cell_type": "markdown",
   "id": "05972721-451c-4052-a550-01593ec2ab3a",
   "metadata": {},
   "source": [
    "Right-click on the file name in the left panel and rename it to `first_analysis` (see below picture)"
   ]
  },
  {
   "cell_type": "markdown",
   "id": "134ae0b1-69b5-46a9-b815-7ab98efe2db2",
   "metadata": {},
   "source": [
    "![](../img/get_started/first_analysis.png)"
   ]
  },
  {
   "cell_type": "markdown",
   "id": "e37cf7a6-fb9a-4bd4-bfc8-9b3db2abad96",
   "metadata": {},
   "source": [
    "## Components of a notebook\n",
    "\n",
    "A **notebook** consists of editable **cells** (meaning you can write into those cells). The main reason for breaking our code into multiple cells is better management - easier to maintain and debug.\n",
    "\n",
    "\n",
    "There are two types of cells **Code** cells and **Markdown** cells\n",
    "\n",
    "- Code cells: used for writing Python code, thus what you write must conform to Python syntax. If not, you will get an error when the cell is executed.\n",
    "\n",
    "- Markdown cells: used for writing explanatory text (like what you are reading now). You can write whatever you want, there will be no error.\n",
    "\n",
    "**Markdown** specifies a simple set of rules that allow you to format your text similar to what you do with Microsoft Word (but much more limited)\n",
    "\n",
    "- Headings (h1, h2, ..., h6)\n",
    "- Bullet points\n",
    "- **Bold text**\n",
    "- *Italic text*\n",
    "- `code fences`\n",
    "- Math formula $E = mc^2$\n",
    "- And many more\n",
    "\n",
    "By default, a new cell will be a Code cell. To convert a cell to a Markdown cell, use `Esc + M`. To convert it back to a Code cell, use `Esc + Y`. You will learn more about Markdown in the next tutorial."
   ]
  },
  {
   "cell_type": "markdown",
   "id": "249376b3-c615-4e4f-a5e7-e676c3b7b5ea",
   "metadata": {},
   "source": [
    "## Run a cell\n",
    "\n",
    "When you finish writing, you need to **run** or **execute** it to tell Jupyter Lab to process and render what you write\n",
    "\n",
    "- The processing of a **Code** cell will call Python to evaluate the code you wrote and display the output (if any) or errors (if you did something wrong).\n",
    "\n",
    "- The processing of a **Markdown** cell just renders the text according to Markdown's rules. There will be no error.\n",
    "\n",
    "\n",
    "There are three ways to run a cell, and they are the same for both Code cells and Markdown cells\n",
    "\n",
    "1. `Ctrl + Enter`: run the current cell and stay at that cell\n",
    "1. `Shift + Enter`: run the current cell and move to the next cell\n",
    "1. `Alt + Enter`: run the current cell, then insert a new cell below and move to that cell"
   ]
  },
  {
   "cell_type": "markdown",
   "id": "b3852824-4a03-483f-a38a-ac12a38941ec",
   "metadata": {},
   "source": [
    "**Example 1**: run a code cell"
   ]
  },
  {
   "cell_type": "code",
   "execution_count": 1,
   "id": "e14b330b-263b-492a-8e8f-e1e0172cc67f",
   "metadata": {},
   "outputs": [
    {
     "name": "stdout",
     "output_type": "stream",
     "text": [
      "Hello. How are you?\n",
      "5\n"
     ]
    }
   ],
   "source": [
    "print(\"Hello. How are you?\")\n",
    "print(2 + 3)"
   ]
  },
  {
   "cell_type": "markdown",
   "id": "50f64979-4d7c-42d7-b303-b02db0e6a419",
   "metadata": {},
   "source": [
    "**Example 2**: run a Markdown cell with the following content\n",
    "\n",
    "```\n",
    "- item 1\n",
    "- **item 3**\n",
    "- *item 4*\n",
    "- $y = \\frac{1}{2}\\int e^{2x}dx$\n",
    "```"
   ]
  },
  {
   "cell_type": "markdown",
   "id": "54e33fca-0ea5-4e91-9974-f9f1dfd5f8e4",
   "metadata": {},
   "source": [
    "Here is what you will see\n",
    "\n",
    "- item 1\n",
    "- **item 3**\n",
    "- *item 4*\n",
    "- $y = \\frac{1}{2}\\int e^{2x}dx$"
   ]
  },
  {
   "cell_type": "markdown",
   "id": "add35b55-3fe8-4682-a4b0-da907cd8784d",
   "metadata": {},
   "source": [
    "## Command vs. editing mode\n",
    "\n",
    "There are two working modes in a notebook - **command** mode and **editing** mode. You are in the **editing** mode when you are typing something inside a cell, and what you do is mostly just **writing**. In contrast, when in **command mode** you perform actions on the whole cell (and potentially on multiple cells) such as\n",
    "\n",
    "- Delete, copy, cut a cell\n",
    "- Paste a cell below another cell\n",
    "- Add a cell above or below another cell\n",
    "\n",
    "To activate the command mode, you hit `Esc` and then press another key to perform an action you wish. For example, `Esc + A` will add a new cell above the current cell (see the next section for a complete list of actions)\n",
    "\n",
    "To activate the editing mode on a cell, you simple double-click on that cell and start typing."
   ]
  },
  {
   "cell_type": "markdown",
   "id": "5e172b60-7d40-4196-a7c9-85af904c7e7d",
   "metadata": {},
   "source": [
    "## Useful shortcuts in command mode\n",
    "\n",
    "The following are common keyboard shortcuts to work on a notebook in the command mode. Of course, there are equivalent GUI options that allow you to accomplish them with your mouse, but I highly recommend using shortcuts because they will allow you to code **a lot faster**.\n",
    "\n",
    "- Add a cell **Above** the current cell: `Esc + A`\n",
    "- Add a cell **Below** the current cell: `Esc + B`\n",
    "- **Delete** the current cell: `Esc + DD`\n",
    "- **Copy** the current cell: `Esc + C`\n",
    "- **Cut** the current cell: `Esc + X`\n",
    "- **Paste** a cell in the clipboard *below* the current cell: `Esc + V`\n",
    "- **Undo** last action: `Esc + Z`\n",
    "- Convert a cell to a **Markdown** cell: `Esc + M`\n",
    "- Convert a cell to a **Code** cell: `Esc + Y`"
   ]
  },
  {
   "cell_type": "markdown",
   "id": "fbbef803-66cd-476d-a807-3eb12101b155",
   "metadata": {},
   "source": [
    "## Practice\n",
    "\n",
    "As I mentioned in the first tutorial when introducing this series, the only way to master any skill is through practice. Thus, here are some exercises to help you internalize what you have learned. They are very simple and won't take much time. There might be some activities that I did not cover in the main text, but you can figure out how to accomplish them easily."
   ]
  },
  {
   "cell_type": "markdown",
   "id": "acde54e1-7dc1-4c76-8a0f-2afb9078063b",
   "metadata": {},
   "source": [
    "### Ex 1\n",
    "\n",
    "1. Create a folder named `test/` on your computer\n",
    "1. Launch Jupyter Lab inside `test/`\n",
    "1. Create three sub-folders and rename them `data/`, `nb/`, and `/docs` (Hint: using the left panel)\n",
    "1. Go inside `data/` and upload a random file (Hint: using the left panel)\n",
    "1. Go inside `nb/`, create a new notebook and rename it to `analysis.ipynb`\n",
    "1. Go inside `docs/`, create a new text file and rename it to `manual.txt`"
   ]
  },
  {
   "cell_type": "markdown",
   "id": "ded3d6fd-2f22-4a7e-bc8d-1a2d6e2fc634",
   "metadata": {},
   "source": [
    "### Ex 2\n",
    "\n",
    "Open `analysis.ipynb` in Ex 1 and do the following\n",
    "\n",
    "1. Add a Markdown cell with the content `Monthly analysis`\n",
    "    \n",
    "1. Add a Code cell with the following content and run it. What output do you see?\n",
    "\n",
    "```python\n",
    "store_1_sales = 5000\n",
    "store_2_sales = 7000\n",
    "total_sales = store_1_sales + store_2_sales\n",
    "print(f\"Total sales:  {total_sales}\")\n",
    "```\n",
    "\n",
    "1. Add a Markdown cell and write some random text\n",
    "\n",
    "1. Copy the above Markdown cell and paste it right below the first cell\n",
    "\n",
    "1. Delete the cell you have just pasted\n",
    "\n",
    "1. Undo the deletion\n",
    "\n",
    "1. Convert the code cell in step 2 into a Markdown cell and execute it. What do you see?\n",
    "\n",
    "1. Convert it back to a code cell and execute it. What do you see?\n",
    "\n",
    "1. Notice on the top-right corner, do you see something like `Python 3 (ipykernel)`. If yes, it means you are in an active session and Python is still running under the hood. No more action is needed for this task.\n",
    "\n",
    "1. Now shut down the kernel for this notebook (but do not close it). Do you see something like `No Kernel`?  If yes, it means the kernel is dead and Python is not running. (Hint: do you see a button with a square inside a circle on the left side of Jupyter Lab?)\n",
    "\n",
    "1. Add a code cell at the end of the notebook and run the following statement `print(\"Kernel is dead\")`. What do you see?\n",
    "\n",
    "1. Now reactivate the kernel. Do you see a green dot on the left of the file name and the top-right corner is back to `Python 3 (ipykernel)`? If yes, it means the kernel is up and running. (Hint: `Menu > Kernel > Restart Kernel)`\n",
    "\n",
    "1. Now re-run the code cell in step 9. Does it work now?\n",
    "\n",
    "1. Scroll to the end of the notebook, add 10 blank code cells. How to make it fast? (Hint: `Esc` then hit (fast) `B` ten times)\n",
    "\n",
    "1. Now delete all the blank cells you have just added. How to make this fast? (Hint: click on the first cell, hold the `Shift` key, then click the last blank cell while still holding `Shift`. You will see all the cells are highlighted. Now hit `Esc + DD`)\n",
    "\n",
    "1. Undo the deletion"
   ]
  }
 ],
 "metadata": {
  "kernelspec": {
   "display_name": "Python 3 (ipykernel)",
   "language": "python",
   "name": "python3"
  },
  "language_info": {
   "codemirror_mode": {
    "name": "ipython",
    "version": 3
   },
   "file_extension": ".py",
   "mimetype": "text/x-python",
   "name": "python",
   "nbconvert_exporter": "python",
   "pygments_lexer": "ipython3",
   "version": "3.9.7"
  },
  "toc-autonumbering": true
 },
 "nbformat": 4,
 "nbformat_minor": 5
}