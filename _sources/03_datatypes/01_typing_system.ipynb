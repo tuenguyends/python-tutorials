{
 "cells": [
  {
   "cell_type": "markdown",
   "id": "4f82b6c0-d5c0-4fb7-b982-c0e521e65546",
   "metadata": {},
   "source": [
    "# Python's typing system"
   ]
  },
  {
   "cell_type": "markdown",
   "id": "4d6b660e-dd30-48c1-8314-064198d4991c",
   "metadata": {},
   "source": [
    "To be updated"
   ]
  }
 ],
 "metadata": {
  "kernelspec": {
   "display_name": "Python 3 (ipykernel)",
   "language": "python",
   "name": "python3"
  },
  "language_info": {
   "codemirror_mode": {
    "name": "ipython",
    "version": 3
   },
   "file_extension": ".py",
   "mimetype": "text/x-python",
   "name": "python",
   "nbconvert_exporter": "python",
   "pygments_lexer": "ipython3",
   "version": "3.9.7"
  }
 },
 "nbformat": 4,
 "nbformat_minor": 5
}
