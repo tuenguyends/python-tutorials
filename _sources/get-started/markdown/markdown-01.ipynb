{
 "cells": [
  {
   "cell_type": "markdown",
   "id": "abdf17bc-04fb-410c-925c-c2a1d9240e26",
   "metadata": {},
   "source": [
    "# Overview"
   ]
  },
  {
   "cell_type": "markdown",
   "id": "cbf638ae-5c4e-4019-a22c-431ebe9275fa",
   "metadata": {},
   "source": [
    "## What is Markdown?\n",
    "\n",
    "Markdown is a lightweight markup language that allows you to add formatting elements to plaintext text documents such as\n",
    "\n",
    "- Headings\n",
    "- Bold, italic\n",
    "- Ordered/unordered lists\n",
    "- Links\n",
    "- Images\n",
    "    \n",
    "Markdown is extremely useful not only for technical writing but for any kind of writing in general.\n",
    "\n",
    "## Why use Markdown?\n",
    "\n",
    "**Versatility**. Markdown can be used for many purposes such as\n",
    "\n",
    "- Technical documentation (as this tutorial)\n",
    "- Notes and books\n",
    "- Static web pages\n",
    "\n",
    "**Minimal distraction**. Compared to rich-text text processors such as Microsoft Word or Libre Writer, Markdown offers much fewer features. However, this turns out to be its main advantage. By restricting you to a small set of formatting options, Markdown forces you to focus on writing good content rather than spending time tweaking the appearances such as themes, fonts, colors, and other kinds of formatting.\n",
    "\n",
    "**Portability**. Unlike a Word file (`.docx`), a Markdown file is just a simple plain text file and thus can be opened by any text editors such as Notepad++, Sublime Text, Atom, or Visual Studio Code. You won't have to worry when migrating your files to different operating systems or cloud services because you can always access their contents.\n",
    "\n",
    "**Easy integration**. If you plan to be a data analyst/scientist/researcher, technical documentation is part of your daily work. Markdown makes your life much easier by allowing you to mix your technical notes and executable code in the same place. \n",
    "\n",
    "**Easy conversion**. You can easily convert a Markdown file to different formats such as PDF and HTML."
   ]
  }
 ],
 "metadata": {
  "kernelspec": {
   "display_name": "Python 3 (ipykernel)",
   "language": "python",
   "name": "python3"
  },
  "language_info": {
   "codemirror_mode": {
    "name": "ipython",
    "version": 3
   },
   "file_extension": ".py",
   "mimetype": "text/x-python",
   "name": "python",
   "nbconvert_exporter": "python",
   "pygments_lexer": "ipython3",
   "version": "3.9.7"
  }
 },
 "nbformat": 4,
 "nbformat_minor": 5
}
