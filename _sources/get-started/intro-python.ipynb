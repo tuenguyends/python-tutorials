{
 "cells": [
  {
   "cell_type": "markdown",
   "id": "d139f910-11ad-49b1-8a3b-420c1eaa02d5",
   "metadata": {},
   "source": [
    "# Introduction to Python\n",
    "Author: Tue Nguyen"
   ]
  },
  {
   "cell_type": "markdown",
   "id": "89b78770-92d4-4785-bf1c-e23ee78d9274",
   "metadata": {},
   "source": [
    "## Outline\n",
    "- What is Python?\n",
    "- History of Python\n",
    "- Who uses Python?\n",
    "- Python 2 vs. 3"
   ]
  },
  {
   "cell_type": "markdown",
   "id": "01c3e3d4-329f-412b-8283-35f26f3001f6",
   "metadata": {},
   "source": [
    "## What is Python?\n",
    "Python is a general-purpose programming language. General-purpose simply means it can do a lot of stuff in many different fields. Here are some examples\n",
    "\n",
    "- Data science\n",
    "- Scientific computing\n",
    "- Software development\n",
    "- Web development\n",
    "- Game development\n",
    "- Graphical User Interface (GUI)\n",
    "- Embedded systems\n",
    "- And many more"
   ]
  },
  {
   "cell_type": "markdown",
   "id": "1016525f-2919-4efa-aa32-088a50fc02b6",
   "metadata": {},
   "source": [
    "## History of Python\n",
    "Here is a very brief history of Python\n",
    "\n",
    "- Python was created by Guido van Rossum in 1989 as a toy probject\n",
    "- Guido then used Python in a project at his workplace\n",
    "- Python was received good feedback from Guido's colleagues\n",
    "- Thus, he decided to make Python open source\n",
    "- First released in 1991\n",
    "- Since then Python has grown consistently and become one of the most popular programming languages\n",
    "- As of May 2022, it is the most popular programming language according to the [TIOBE](https://www.tiobe.com/tiobe-index/)"
   ]
  },
  {
   "cell_type": "markdown",
   "id": "4b298f30-46b4-4781-a749-826053f4f83f",
   "metadata": {},
   "source": [
    "## Who uses Python?\n",
    "A lot!\n",
    "\n",
    "- **Individiuals:** programmers, engineers, economists, analysts, or social sciences students/researchers\n",
    "- **Organizations:** tech companies, investment banks, universities, and research institutes"
   ]
  },
  {
   "cell_type": "markdown",
   "id": "194c0630-6856-410d-a62d-99a14158ab66",
   "metadata": {},
   "source": [
    "## Python 2 or 3?\n",
    "The quick answer is Python 3\n",
    "\n",
    "- Python 2 has some serious issues (which I will not discuss here)\n",
    "- Thus the Python core team just started a completely new version - Python 3\n",
    "- Code written in Python 2 might not work with Python 3 and vice versa\n",
    "- Python 2 was officially sunset on 1/1/2020 (no more improvement)\n",
    "- In short, Python 2 is almost dead now, so use Python 3"
   ]
  },
  {
   "cell_type": "markdown",
   "id": "a4626d07-d8c5-403d-b1e7-aabb6489edc5",
   "metadata": {},
   "source": [
    "## Summary\n",
    "- Python is a general-purpose programming language that can handle many classes of problems such as data science, software dev, web dev, etc.\n",
    "- Python was created by Guido van Rossum in 1989 and was first released in 1991\n",
    "- As of May 2022, Python is the most popular language according to TIOBE\n",
    "- Python is used by many professionals and organizations\n",
    "- Python 2 is outdated, use Python 3"
   ]
  }
 ],
 "metadata": {
  "kernelspec": {
   "display_name": "Python 3 (ipykernel)",
   "language": "python",
   "name": "python3"
  },
  "language_info": {
   "codemirror_mode": {
    "name": "ipython",
    "version": 3
   },
   "file_extension": ".py",
   "mimetype": "text/x-python",
   "name": "python",
   "nbconvert_exporter": "python",
   "pygments_lexer": "ipython3",
   "version": "3.9.12"
  }
 },
 "nbformat": 4,
 "nbformat_minor": 5
}
