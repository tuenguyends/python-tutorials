{
 "cells": [
  {
   "cell_type": "markdown",
   "id": "5231040f-b2ab-4868-bf78-e70079f1839f",
   "metadata": {},
   "source": [
    "# Practice"
   ]
  },
  {
   "cell_type": "markdown",
   "id": "fbbef803-66cd-476d-a807-3eb12101b155",
   "metadata": {},
   "source": [
    "The only way to master any skill is through practice. Thus, here are some exercises to help you internalize what you have learned. \n",
    "\n",
    "They are very simple and won't take much time. There might be some activities that I did not cover in the main text, but you can figure out how to accomplish them easily."
   ]
  },
  {
   "cell_type": "markdown",
   "id": "acde54e1-7dc1-4c76-8a0f-2afb9078063b",
   "metadata": {},
   "source": [
    "## Ex 1\n",
    "\n",
    "1. Create a folder named `test/` on your computer\n",
    "1. Launch Jupyter Lab inside `test/`\n",
    "1. Create three sub-folders and rename them `data/`, `nb/`, and `/docs` (Hint: use the left panel)\n",
    "1. Go inside `data/` and upload a random file (Hint: use the left panel)\n",
    "1. Go inside `nb/`, create a new notebook and rename it to `analysis.ipynb`\n",
    "1. Go inside `docs/`, create a new text file and rename it to `manual.txt`"
   ]
  },
  {
   "cell_type": "markdown",
   "id": "ded3d6fd-2f22-4a7e-bc8d-1a2d6e2fc634",
   "metadata": {},
   "source": [
    "## Ex 2\n",
    "\n",
    "Open `analysis.ipynb` in Ex 1 and do the following\n",
    "\n",
    "1. Add a Markdown cell with the content `Monthly analysis`\n",
    "    \n",
    "1. Add a Code cell with the following content and run it. What output do you see?\n",
    "\n",
    "    ```python\n",
    "    store_1_sales = 5000\n",
    "    store_2_sales = 7000\n",
    "    total_sales = store_1_sales + store_2_sales\n",
    "    print(f\"Total sales:  {total_sales}\")\n",
    "    ```\n",
    "\n",
    "1. Add a Markdown cell and write some random text\n",
    "\n",
    "1. Copy the above Markdown cell and paste it right below the first cell\n",
    "\n",
    "1. Delete the cell you have just pasted\n",
    "\n",
    "1. Undo the deletion\n",
    "\n",
    "1. Convert the code cell in step 2 into a Markdown cell and execute it. What do you see?\n",
    "\n",
    "1. Convert it back to a code cell and execute it. What do you see?\n",
    "\n",
    "1. Notice on the top-right corner, do you see something like `Python 3 (ipykernel)`. If yes, it means you are in an active session and Python is still running under the hood. No more action is needed for this task.\n",
    "\n",
    "1. Now shut down the kernel for this notebook (but do not close it). Do you see something like `No Kernel`?  If yes, it means the kernel is dead and Python is not running. (Hint: do you see a button with a square inside a circle on the left side of Jupyter Lab?)\n",
    "\n",
    "1. Add a code cell at the end of the notebook and run the following statement `print(\"Kernel is dead\")`. What do you see?\n",
    "\n",
    "1. Now reactivate the kernel. Do you see a green dot on the left of the file name and the top-right corner is back to `Python 3 (ipykernel)`? If yes, it means the kernel is up and running. (Hint: `Menu > Kernel > Restart Kernel)`\n",
    "\n",
    "1. Now re-run the code cell in step 9. Does it work now?\n",
    "\n",
    "1. Scroll to the end of the notebook, add 10 blank code cells. How to make it fast? (Hint: `Esc` then hit (fast) `B` ten times)\n",
    "\n",
    "1. Now delete all the blank cells you have just added. How to make this fast? (Hint: click on the first cell, hold the `Shift` key, then click the last blank cell while still holding `Shift`. You will see all the cells are highlighted. Now hit `Esc + DD`)\n",
    "\n",
    "1. Undo the deletion"
   ]
  }
 ],
 "metadata": {
  "kernelspec": {
   "display_name": "Python 3 (ipykernel)",
   "language": "python",
   "name": "python3"
  },
  "language_info": {
   "codemirror_mode": {
    "name": "ipython",
    "version": 3
   },
   "file_extension": ".py",
   "mimetype": "text/x-python",
   "name": "python",
   "nbconvert_exporter": "python",
   "pygments_lexer": "ipython3",
   "version": "3.9.7"
  },
  "toc-autonumbering": true
 },
 "nbformat": 4,
 "nbformat_minor": 5
}
