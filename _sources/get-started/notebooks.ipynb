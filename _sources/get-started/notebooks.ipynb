{
 "cells": [
  {
   "cell_type": "markdown",
   "id": "0041197b-1283-4e0f-93f7-858776d143da",
   "metadata": {},
   "source": [
    "# Working with a notebook\n",
    "Author: Tue Nguyen"
   ]
  },
  {
   "cell_type": "markdown",
   "id": "4ebe8b7a-b2f3-4b9c-81b5-31a413497af7",
   "metadata": {},
   "source": [
    "## Outline\n",
    "- Components of a notebook\n",
    "- Code vs. Markdown cells\n",
    "- How to run a cells\n",
    "- What is Markdown?\n",
    "- Different working modes: command vs. editing modes\n",
    "- Shortcuts in command modes"
   ]
  },
  {
   "cell_type": "markdown",
   "id": "2beb1e74-37a4-48a6-aa9f-78692b70090f",
   "metadata": {},
   "source": [
    "## Notebook cells\n",
    "- A notebook consists of editable cells (meaning that you can write into those cells)\n",
    "- The reason for breaking our code into multiple cells is for better management: easier to maintain and debug\n",
    "- There two types of cells: Code cells and Markdown cells"
   ]
  },
  {
   "cell_type": "markdown",
   "id": "c61be832-42cf-4a4c-809e-b4e915af57bb",
   "metadata": {},
   "source": [
    "### Code cell\n",
    "- Used for writing Python code\n",
    "- Thus what you write must conform to Python syntax\n",
    "- If not, you will get an error when the cell is executed\n",
    "- By default, a newly created cell will be a Code cell\n",
    "- Convert a cell to a code cell: `Esc + Y`"
   ]
  },
  {
   "cell_type": "markdown",
   "id": "46bfd56f-3f2b-4e8b-aca8-08a7e1604718",
   "metadata": {},
   "source": [
    "### Markdown cells\n",
    "- Used for writing explanatory text (like what you are reading now)\n",
    "- You can write whatever you want, there will be no error\n",
    "- Convert a cell to a Markdown cell: `Esc + M`"
   ]
  },
  {
   "cell_type": "markdown",
   "id": "b2494c1e-2153-40db-9b6f-2009b42b5fbd",
   "metadata": {},
   "source": [
    "### Run a cell\n",
    "We have three ways to run a cell (same for both code and Markdown cells)\n",
    "- `Ctrl + Enter`: run and stay at the current cell\n",
    "- `Shift + Enter`: run the current cell then move to the next\n",
    "- `Alt + Enter`: run the current cell and insert a new cell below\n",
    "\n",
    "Try some examples\n",
    "\n",
    "Ex 1: copy the following text to a code cell and run\n",
    "```python\n",
    "print(\"Hello. How are you?\")\n",
    "print(2 + 3)\n",
    "```\n",
    "\n",
    "Ex 2: repeat Ex 1 with a Markdown cell\n",
    "\n",
    "Ex 3: copy the following text to a Markdown cell and run\n",
    "```text\n",
    "- item 1\n",
    "- **item 3**\n",
    "- *item 4*\n",
    "- $y = \\frac{1}{2}\\int e^{2x}dx$\n",
    "```"
   ]
  },
  {
   "cell_type": "markdown",
   "id": "3b067510-91a5-4387-87d3-615757ca50cf",
   "metadata": {},
   "source": [
    "## Markdown\n",
    "Markdown (will learn later) specifies a simple set of rules that allow you to format your text similar to what you do with Microsoft Word (but much more limited), for example\n",
    "\n",
    "- Headings\n",
    "- Bullet points\n",
    "- **Bold text**\n",
    "- *Italic text*\n",
    "- ***Bold and italic text***\n",
    "- `code fences`\n",
    "- Math formula: $E = mc^2$ "
   ]
  },
  {
   "cell_type": "markdown",
   "id": "9443f931-b6fa-429c-8f58-4a7b237f0b2d",
   "metadata": {},
   "source": [
    "## Command vs. editing modes\n",
    "- There are 2 modes when working with a notebook: editing and command.\n",
    "- Editing mode: you are in the editing mode when you are typing something inside a cell, and what you do is mostly just writing.\n",
    "- Command mode: you are in the command mode when you perform actions on the whole cell (and potentially on multiple cells) such as\n",
    "    - Delete, copy, cut a cell\n",
    "    - Paste a cell below another cell\n",
    "    - Add a cell above or below another cell\n",
    "- To activate the command mode, you hit `Esc` and then press another key to perform an action you wish. Ex:\n",
    "   - `Esc + A` will add a new cell ABOVE the current cell\n",
    "   - `Esc + B` will add a new cell BELOW the current cell\n",
    "- To activate the editing mode on a cell, you simply double-click on that cell and start typing"
   ]
  },
  {
   "cell_type": "markdown",
   "id": "85f2ad80-171d-4769-8af0-4acab841a016",
   "metadata": {},
   "source": [
    "## Shortcuts in command mode\n",
    "\n",
    "- I recommend using shortcut keys while coding\n",
    "- Because itis faster and less tedious\n",
    "- You can also use GUI options with your mouse to accomplish the same things\n",
    "- Here are some common shortcuts\n",
    "    - Add a cell **Above** the current cell: `Esc + A`\n",
    "    - Add a cell **Below** the current cell: `Esc + B`\n",
    "    - **Delete** the current cell: `Esc + DD`\n",
    "    - **Copy** the current cell: `Esc + C`\n",
    "    - **Cut** the current cell: `Esc + X`\n",
    "    - **Paste** a cell in the clipboard *below* the current cell: `Esc + V`\n",
    "    - **Undo** last action: `Esc + Z`\n",
    "    - Convert a cell to a **Markdown** cell: `Esc + M`\n",
    "    - Convert a cell to a **Code** cell: `Esc + Y`"
   ]
  },
  {
   "cell_type": "markdown",
   "id": "709e5778-d972-4a74-9bf7-7dc4a90f9ba2",
   "metadata": {},
   "source": [
    "## Practice"
   ]
  },
  {
   "cell_type": "markdown",
   "id": "d152bcc2-1119-4ba4-b7fa-fa6959fb32cd",
   "metadata": {},
   "source": [
    "### Exercise 1\n",
    "1. Create a notebook and name it `analysis.ipynb`\n",
    "1. Add a Markdown cell with the content `Monthly analysis`\n",
    "1. Add a Code cell with the following content and run it. What output do you see?\n",
    "```python\n",
    "store_1_sales = 5000\n",
    "store_2_sales = 7000\n",
    "total_sales = store_1_sales + store_2_sales\n",
    "print(f\"Total sales:  {total_sales}\")\n",
    "```\n",
    "1. Add a Markdown cell and write some random text\n",
    "1. Copy the above Markdown cell and paste it right below the first cell\n",
    "1. Delete the cell you have just pasted\n",
    "1. Undo the deletion\n",
    "1. Convert the code cell in step 2 into a Markdown cell and execute it. What do you see?\n",
    "1. Convert it back to a code cell and execute it. What do you see?\n",
    "1. Notice on the top-right corner, do you see something like `Python 3 (ipykernel)`. If yes, it means you are in an active session and Python is still running under the hood. No more action is needed for this task.\n",
    "1. Now shut down the kernel for this notebook (but do not close it). Do you see something like `No Kernel`?  If yes, it means the kernel is dead and Python is not running. (Hint: do you see a button with a square inside a circle on the left side of Jupyter Lab?)\n",
    "1. Re-run the code in step 3. What do you see?\n",
    "1. Now reactivate the kernel. Do you see a green dot on the left of the file name and the top-right corner is back to `Python 3 (ipykernel)`? If yes, it means the kernel is up and running. (Hint: `Menu > Kernel > Restart Kernel)`\n",
    "1. Now re-run the code cell in step 3. Does it work now?\n",
    "1. Scroll to the end of the notebook, add 10 blank code cells. How to make it fast? (Hint: `Esc` then hit (fast) `B` ten times)\n",
    "1. Now delete all the blank cells you have just added. How to make this fast? (Hint: click on the first cell, hold the `Shift` key, then click the last blank cell while still holding `Shift`. You will see all the cells are highlighted. Now hit `Esc + DD`)\n",
    "1. Undo the deletion"
   ]
  }
 ],
 "metadata": {
  "kernelspec": {
   "display_name": "Python 3 (ipykernel)",
   "language": "python",
   "name": "python3"
  },
  "language_info": {
   "codemirror_mode": {
    "name": "ipython",
    "version": 3
   },
   "file_extension": ".py",
   "mimetype": "text/x-python",
   "name": "python",
   "nbconvert_exporter": "python",
   "pygments_lexer": "ipython3",
   "version": "3.9.12"
  }
 },
 "nbformat": 4,
 "nbformat_minor": 5
}
