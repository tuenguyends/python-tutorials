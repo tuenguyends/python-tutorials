{
 "cells": [
  {
   "cell_type": "markdown",
   "id": "0ffb154a-0b64-4391-b255-efb4a8de9c1e",
   "metadata": {},
   "source": [
    "# Introduction to Markdown\n",
    "Author: Tue Nguyen"
   ]
  },
  {
   "cell_type": "markdown",
   "id": "ccc334f5-9393-4c73-88b6-8de6bbf08841",
   "metadata": {},
   "source": [
    "## Outline\n",
    "- What is Markdown?\n",
    "- Why use Markdown?\n",
    "- Basic Markdown syntax\n",
    "- Advanced Markdown syntax"
   ]
  },
  {
   "cell_type": "markdown",
   "id": "8c1bddf5-f24e-46fd-9460-830cf46568a5",
   "metadata": {},
   "source": [
    "## What is Markdown?\n",
    "Markdown is a lightweight markup language that allows you to add formatting elements to plaintext such as\n",
    "\n",
    "- Headings\n",
    "- Bold, italic\n",
    "- Ordered/unordered lists\n",
    "- Links\n",
    "- Images"
   ]
  },
  {
   "cell_type": "markdown",
   "id": "d3e7ef0b-1681-4fd3-8fbc-e4cb4a9dd0d1",
   "metadata": {},
   "source": [
    "## Why use Markdown?\n",
    "\n",
    "### Versatility\n",
    "Markdown can be used for many purposes such as\n",
    "- Technical documentation (as this tutorial)\n",
    "- Notes and books\n",
    "- Static web pages\n",
    "\n",
    "### Minimal distraction\n",
    "Compared to rich-text text processors such as Microsoft Word, Markdown offers much fewer features. However, this turns out to be its main advantage. By restricting you to a small set of formatting options, Markdown forces you to \n",
    "- Focus on writing good content \n",
    "- Rather than spending time tweaking the appearances such as themes, fonts, colors, etc\n",
    "\n",
    "### Portability\n",
    "Unlike a Word file (`.docx`), a Markdown file is just a simple plain text file. Thus,\n",
    "\n",
    "- It can opened a many free text editors such as Notepad++, Sublime Text, Atom, or VS code\n",
    "- You won't have to worry when migrating your files to different operating systems or cloud services because you can always access their contents\n",
    "\n",
    "### Easy integration\n",
    "If you plan to be a data analyst/scientist/researcher, technical documentation is part of your daily work. Markdown makes your life much easier by allowing you to mix your technical notes and executable code in the same place\n",
    "\n",
    "### Easy conversion\n",
    "You can easily convert a Markdown file to different formats such as PDF and HTML"
   ]
  },
  {
   "cell_type": "markdown",
   "id": "05447dcf-e33b-4ea3-89e7-f3abb1a71601",
   "metadata": {},
   "source": [
    "## Basic Markdown syntax"
   ]
  },
  {
   "cell_type": "markdown",
   "id": "b9fd3958-7672-4a64-b12f-8685f1eddee4",
   "metadata": {},
   "source": [
    "### Headings\n",
    "\n",
    "- Headings are used to organize contents into sections\n",
    "- There are 6 levels from `h1` to `h6`\n",
    "    - `h1`: biggest\n",
    "    - `h6`: smallest \n",
    "- There should be only one `h1` heading in your whole file, which is the title of the document\n",
    "- Other sections will begin with a `h2` heading\n",
    "- You should never use beyond `h3` because nesting your contents too deep make it hard to follow\n",
    "- A heading starts with `#`, and the number of `#` indicates the heading level\n",
    "\n",
    "Try the following in your notebook\n",
    "\n",
    "```\n",
    "# Level 1\n",
    "## Level 2\n",
    "### Level 3\n",
    "#### Level 4\n",
    "##### Level 5\n",
    "###### Level 6\n",
    "```"
   ]
  },
  {
   "cell_type": "markdown",
   "id": "521b4275-94c1-4577-ade9-7a90d3c73cd3",
   "metadata": {},
   "source": [
    "### Paragraphs\n",
    "\n",
    "- Two paragraphs are separated by a blank line\n",
    "- One common mistake is just using `Enter` and start writing the new paragraph\n",
    "- It will not work, you must add a blank line between graphs\n",
    "\n",
    "Ex 1: wrong way to make a paragraph\n",
    "```\n",
    "Paragraph 1\n",
    "Paragraph 2\n",
    "```\n",
    "\n",
    "Ex 2: correct way to make a paragraph\n",
    "```\n",
    "Paragraph 1\n",
    "\n",
    "Paragraph 2\n",
    "```"
   ]
  },
  {
   "cell_type": "markdown",
   "id": "18073552-d524-4655-8c7c-029a5d7b0e6c",
   "metadata": {},
   "source": [
    "### Lists\n",
    "A list can be an unordered, ordered, or mixed list\n",
    "\n",
    "**a) Unordered lists**\n",
    "- Items in an unordered list start with a bullet point\n",
    "- To make an unordered list, place `-` followed by a space before each item of the list\n",
    "\n",
    "Ex\n",
    "\n",
    "```\n",
    "- item 1\n",
    "- item 2\n",
    "- item 3\n",
    "```\n",
    "\n",
    "You will see something like this\n",
    "\n",
    "- item 1\n",
    "- item 2\n",
    "- item 3\n",
    "\n",
    "**b) Ordered list**\n",
    "\n",
    "- To make an ordered list, place `1.` followed by a space before each item of the list\n",
    "- You don't need to manually increase the number, it will be done automatically\n",
    "- This is very convenient because you won't have to update the numbering when inserting new items\n",
    "\n",
    "Ex\n",
    "\n",
    "```\n",
    "1. item 1\n",
    "1. item 2\n",
    "1. item 3\n",
    "```\n",
    "\n",
    "You will see\n",
    "\n",
    "1. item 1\n",
    "1. item 2\n",
    "1. item 3\n",
    "\n",
    "**c) Nested lists**\n",
    "\n",
    "- Lists can also be nested on multiple levels\n",
    "- However, try to keep it shallow (no more than 3 levels)\n",
    "\n",
    "Ex 1: two-level unordered list\n",
    "```\n",
    "- item 1\n",
    "    - sub-item 1.1\n",
    "    - sub-item 1.2\n",
    "- item 2\n",
    "    - sub-item 2.1\n",
    "    - sub-item 2.2\n",
    "```\n",
    "    \n",
    "    \n",
    "Ex 2: two-level ordered list\n",
    "```\n",
    "1. item 1\n",
    "    1. sub-item 1.1\n",
    "    1. sub-item 1.2\n",
    "1. item 2\n",
    "    1. sub-item 2.1\n",
    "    1. sub-item 2.2\n",
    "```\n",
    "\n",
    "**d) Mixed nested lists**\n",
    "\n",
    "- For nested lists, you can mix ordered and unordered styles together\n",
    "- However, the items of the same level have the same type\n",
    "\n",
    "Try this in your notebook\n",
    "```\n",
    "1. item 1\n",
    "    - sub-item 1.1\n",
    "    - sub-item 1.2\n",
    "1. item 2\n",
    "    - sub-item 2.1\n",
    "    - sub-item 2.2\n",
    "```"
   ]
  },
  {
   "cell_type": "markdown",
   "id": "380d22df-f0d3-44d2-9f46-93749bb242a9",
   "metadata": {},
   "source": [
    "### Emphasis\n",
    "- `**Make bold**` will **Make bold**\n",
    "- `*Make italic*` will *Make italic*\n",
    "- `***Make bold and italic***` will ***Make bold and italic***"
   ]
  },
  {
   "cell_type": "markdown",
   "id": "eaf2f476-7d97-4854-be4a-d366b1285e75",
   "metadata": {},
   "source": [
    "### Code fences\n",
    "- Code fences are used to emphasize texts that should be understood as a coding element \n",
    "- Ex: variable name, an expression, or a whole code block\n",
    "- There are two types of code fences: inline and block.\n",
    "\n",
    "**a) Inline code fences**\n",
    "\n",
    "- Inline code fences are used for *short elements*\n",
    "- Ex: a number, a variable name, or an expression\n",
    "- These elements stay in the line with normal texts (thus the name *inline*)\n",
    "- To use the inline code format, wrap your code in a pair of single backticks `` ` ``\n",
    "\n",
    "Ex\n",
    "\n",
    "- Numbers: `` `42` `` renders `42`\n",
    "- Variable names: `` `profit` `` renders `profit`\n",
    "- Expressions: `` `y = 3*x + 1` `` renders `y = 3*x + 1`\n",
    "\n",
    "**b) Block code fences**\n",
    "\n",
    "- Block code fences are used for a block of code, which normally spans more than one line\n",
    "- To use block style, wrap your code in a pair of triple backticks `` ``` ``\n",
    "- You can specify the language to take advantage of syntax highlighting\n",
    "\n",
    "Ex\n",
    "````\n",
    "```python\n",
    "def say_hi(name):\n",
    "    print(f\"Hello {name}\")\n",
    "    print(\"Have a good day\")\n",
    "```\n",
    "````\n",
    "\n",
    "You will see\n",
    "```python\n",
    "def say_hi(name):\n",
    "    print(f\"Hello {name}\")\n",
    "    print(\"Have a good day\")\n",
    "```"
   ]
  },
  {
   "cell_type": "markdown",
   "id": "f25be6ff-1935-4fdc-92b9-1c189e83692d",
   "metadata": {},
   "source": [
    "### Latex\n",
    "- Markdown supports Latex syntax so you can type math formulas easily\n",
    "- Similar to code fences, there are inline (use `$`) and block (`$$`) math formulas\n",
    "\n",
    "**a) Inline Latex**\n",
    "Try this\n",
    "```\n",
    "The probability mass function for a binomial distribution is given by $f(x) = {n \\choose x} p^{x} (1-p)^{n-x}$ \n",
    "```\n",
    "\n",
    "You will see\n",
    "\n",
    "The probability mass function for a binomial distribution is given by $f(x) = {n \\choose x} p^{x} (1-p)^{n-x}$ \n",
    "\n",
    "**b) Block Latex**\n",
    "\n",
    "Try this\n",
    "```\n",
    "$$\n",
    "M = \\begin{bmatrix}a_1 & b_1\\\\\n",
    "a_2 & b_2 \\\\\n",
    "a_3 & b_3\n",
    "\\end{bmatrix}\n",
    "$$\n",
    "```\n",
    "\n",
    "You will see\n",
    "\n",
    "$$\n",
    "M = \\begin{bmatrix}a_1 & b_1\\\\\n",
    "a_2 & b_2 \\\\\n",
    "a_3 & b_3\n",
    "\\end{bmatrix}\n",
    "$$"
   ]
  },
  {
   "cell_type": "markdown",
   "id": "ca9f9d9c-1297-4f9e-a411-a314e9c99deb",
   "metadata": {},
   "source": [
    "### Links\n",
    "Try this\n",
    "\n",
    "```text\n",
    "If something you don't not know, use [Google](https://www.google.com)\n",
    "```\n",
    "\n",
    "You will see\n",
    "\n",
    "If some thing you don't know, use [Google](https://www.google.com)"
   ]
  },
  {
   "cell_type": "markdown",
   "id": "5dc309d0-5674-4d63-8158-5790f27c8a12",
   "metadata": {},
   "source": [
    "### Advice\n",
    "\n",
    "- The syntax introduced so far is enough for you to have a nice-looking notebook\n",
    "- I rarely use any Markdown features beyond this level. \n",
    "- Remember, the most important thing is the quality of your analysis\n",
    "- Don't bother too much with fancy formatting"
   ]
  },
  {
   "cell_type": "markdown",
   "id": "08d72e54-63aa-4127-a170-9e740f6c2e7e",
   "metadata": {},
   "source": [
    "## Advanced Markdown syntax"
   ]
  },
  {
   "cell_type": "markdown",
   "id": "434d5e03-539b-48ce-bdf8-8cdf93bdd526",
   "metadata": {},
   "source": [
    "### Blockquotes\n",
    "\n",
    "- Block quotes are used for quotes or excerpts\n",
    "- You start a blockquote with `>`\n",
    "- For multi-paragraph block quotes, add a blank line between paragraphs and remember to start every line with `>` as in the following example\n",
    "\n",
    "Ex 1: single paragraph quotes\n",
    "```\n",
    "> My advice to you is to get married: if you find a good wife you’ll be happy; if not, you’ll become a philosopher (Socrates)\n",
    "```\n",
    "\n",
    "You will see\n",
    "\n",
    "> My advice to you is to get married: if you find a good wife you’ll be happy; if not, you’ll become a philosopher (Socrates)\n",
    "    \n",
    "\n",
    "Ex 2: multi-paragraph quotes\n",
    "```\n",
    "> My advice to you is to get married: if you find a good wife you’ll be happy; if not, you’ll become a philosopher (Socrates)\n",
    ">\n",
    "> Behind every great man is a woman rolling her eyes (Jim Carrey)\n",
    "```\n",
    "\n",
    "You will see\n",
    "> My advice to you is to get married: if you find a good wife you’ll be happy; if not, you’ll become a philosopher (Socrates)\n",
    ">\n",
    "> Behind every great man is a woman rolling her eyes (Jim Carrey)"
   ]
  },
  {
   "cell_type": "markdown",
   "id": "d4c6ecbf-8b0e-4cca-bdf2-52da7989aed9",
   "metadata": {},
   "source": [
    "### Images\n",
    "\n",
    "- To insert an image, use the following syntax `![Caption](path_to_the_image)`\n",
    "- You can use an absolute or a relative path \n",
    "\n",
    "Ex\n",
    "```\n",
    "![Python logo](https://upload.wikimedia.org/wikipedia/commons/thumb/c/c3/Python-logo-notext.svg/242px-Python-logo-notext.svg.png)\n",
    "```\n",
    "\n",
    "You will see\n",
    "![Python logo](https://upload.wikimedia.org/wikipedia/commons/thumb/c/c3/Python-logo-notext.svg/242px-Python-logo-notext.svg.png)"
   ]
  },
  {
   "cell_type": "markdown",
   "id": "eaa177de-80d8-4ed9-aeee-149b4f6b34c7",
   "metadata": {},
   "source": [
    "### Tables\n",
    "Try this\n",
    "```\n",
    "| id | name       | email            |\n",
    "|----|------------|------------------|\n",
    "| 1  | John Doe   | john@gmail.com   |\n",
    "| 2  | Jane Smith | jane@hotmail.com |\n",
    "| 3  | Nam Tran   | nam@yahoo.com    |\n",
    "```\n",
    "\n",
    "You will see\n",
    "\n",
    "| id | name       | email            |\n",
    "|----|------------|------------------|\n",
    "| 1  | John Doe   | john@gmail.com   |\n",
    "| 2  | Jane Smith | jane@hotmail.com |\n",
    "| 3  | Nam Nguyen | nam@yahoo.com    |\n",
    "\n",
    "\n",
    "However, my advice is not to type tables by yourself. Go to some website that offers a free Markdown table generator such as this one https://www.tablesgenerator.com/markdown_tables"
   ]
  },
  {
   "cell_type": "markdown",
   "id": "f2e75e76-3ace-402a-9ec4-10f262ec0865",
   "metadata": {},
   "source": [
    "### Emails\n",
    "- Put your email inside `<>` to generate a like to your email\n",
    "- When someone clicks on the link, the default email app will be launched\n",
    "\n",
    "Ex\n",
    "```\n",
    "<pythonisfun@example.com>\n",
    "\n",
    "```\n",
    "\n",
    "You will see\n",
    "\n",
    "<pythonisfun@example.com>"
   ]
  },
  {
   "cell_type": "markdown",
   "id": "f3fec0a4-9030-425c-a5b3-9685ccc9444a",
   "metadata": {
    "tags": []
   },
   "source": [
    "### HTML\n",
    "You can also use HTML tags inside a Markdown file, and they will be parsed according to HTML rules\n",
    "\n",
    "Ex\n",
    "```html\n",
    "<div>\n",
    "    <p>This is a paragraph</p>\n",
    "    <p>Next one will be an unordered list</p>\n",
    "    <ul>\n",
    "        <li>item 1</li>\n",
    "        <li><b>item 2 in bold</b></li>\n",
    "        <li><span style=\"color: red;\">item 3 in red</span></li>\n",
    "    </ul>\n",
    "</div>\n",
    "```\n",
    "\n",
    "You will see\n",
    "\n",
    "<div>\n",
    "    <p>This is a paragraph</p>\n",
    "    <p>Next one will be an unordered list</p>\n",
    "    <ul>\n",
    "        <li>item 1</li>\n",
    "        <li><b>item 2 in bold</b></li>\n",
    "        <li><span style=\"color: red;\">item 3 in red</span></li>\n",
    "    </ul>\n",
    "</div>"
   ]
  },
  {
   "cell_type": "markdown",
   "id": "b6d5b487-510e-4382-b7f2-6106170faafc",
   "metadata": {},
   "source": [
    "##  Summary"
   ]
  },
  {
   "cell_type": "markdown",
   "id": "3cb5aa32-2e7b-4ec0-b14e-0442778413d2",
   "metadata": {},
   "source": [
    "**Headings**\n",
    "\n",
    "```\n",
    "# Level 1\n",
    "## Level 2\n",
    "### Level 3\n",
    "#### Level 4\n",
    "##### Level 5\n",
    "###### Level 6\n",
    "```"
   ]
  },
  {
   "cell_type": "markdown",
   "id": "42ac9b1b-2c55-4f5b-9bb1-986c64e47c81",
   "metadata": {},
   "source": [
    "**Emphasis**\n",
    "\n",
    "```\n",
    "Bold: **bold**\n",
    "Italic: *italic*\n",
    "Bold and italic: ***Bold and italic***\n",
    "Strike through: ~~Strike through~~\n",
    "```"
   ]
  },
  {
   "cell_type": "markdown",
   "id": "5e2d40d8-16e7-4107-848a-41506e32bb7d",
   "metadata": {},
   "source": [
    "**Unordered lists**\n",
    "\n",
    "```\n",
    "- item 1\n",
    "- item 2\n",
    "- item 3\n",
    "```"
   ]
  },
  {
   "cell_type": "markdown",
   "id": "138fc89e-c080-4974-9a1f-7d77b9ca5035",
   "metadata": {},
   "source": [
    "**Ordered lists**\n",
    "\n",
    "```\n",
    "1. item 1\n",
    "1. item 2\n",
    "1. item 3\n",
    "```"
   ]
  },
  {
   "cell_type": "markdown",
   "id": "7109caae-d890-492f-a5ab-91a773335d78",
   "metadata": {},
   "source": [
    "**Nested lists**\n",
    "\n",
    "```\n",
    "- item 1\n",
    "    - sub-item 1.1\n",
    "    - sub-item 1.2\n",
    "- item 2\n",
    "    - sub-item 2.1\n",
    "    - sub-item 2.2\n",
    "```"
   ]
  },
  {
   "cell_type": "markdown",
   "id": "6749ba19-d1c4-4485-801d-4b1f6c177249",
   "metadata": {},
   "source": [
    "**Mixed nested lists**\n",
    "\n",
    "```\n",
    "1. item 1\n",
    "    - sub-item 1.1\n",
    "    - sub-item 1.2\n",
    "1. item 2\n",
    "    - sub-item 2.1\n",
    "    - sub-item 2.2\n",
    "```"
   ]
  },
  {
   "cell_type": "markdown",
   "id": "07451e64-1371-4033-9aa5-5e15baaa8389",
   "metadata": {},
   "source": [
    "**Inline code**\n",
    "\n",
    "- Numbers: `` `42` ``\n",
    "- Variable names: `` `profit` `` \n",
    "- Expressions: `` `y = 3*x + 1` ``"
   ]
  },
  {
   "cell_type": "markdown",
   "id": "46312cef-17fe-417e-a57f-4e639abde149",
   "metadata": {},
   "source": [
    "**Block code**\n",
    "\n",
    "````\n",
    "```python\n",
    "def say_hi(name):\n",
    "    print(f\"Hello {name}\")\n",
    "    print(\"Have a good day\")\n",
    "```\n",
    "````"
   ]
  },
  {
   "cell_type": "markdown",
   "id": "b6a73ce3-d64d-4b95-aedb-79ef2dcd8f01",
   "metadata": {},
   "source": [
    "**Inline Latex**\n",
    "\n",
    "```\n",
    "$E = mc^2$\n",
    "```"
   ]
  },
  {
   "cell_type": "markdown",
   "id": "7468b58e-aaf5-4bf9-af84-ed499a02c76b",
   "metadata": {},
   "source": [
    "**Block Latex**\n",
    "\n",
    "```\n",
    "$$\n",
    "M = \\begin{bmatrix}a_1 & b_1\\\\\n",
    "a_2 & b_2 \\\\\n",
    "a_3 & b_3\n",
    "\\end{bmatrix}\n",
    "$$\n",
    "\n",
    "```"
   ]
  },
  {
   "cell_type": "markdown",
   "id": "40b62cfa-130d-4fa4-b982-52093a4f3edc",
   "metadata": {},
   "source": [
    "**Links**\n",
    "\n",
    "```\n",
    "[Google](https://www.google.com)\n",
    "```"
   ]
  },
  {
   "cell_type": "markdown",
   "id": "c951c211-d434-4a61-80c5-408d424162c1",
   "metadata": {},
   "source": [
    "**Single-paragraph quotes**\n",
    "\n",
    "```\n",
    "> This is a quote\n",
    "```\n",
    "\n",
    "**Multi-paragraph quotes**\n",
    "\n",
    "```\n",
    "> This is the first paragraph\n",
    ">\n",
    "> This is the second paragraph\n",
    "```"
   ]
  },
  {
   "cell_type": "markdown",
   "id": "0bf96b25-336d-41c7-bb70-a480624b453f",
   "metadata": {},
   "source": [
    "**Images**\n",
    "\n",
    "```\n",
    "![Caption](path_to_the_image)\n",
    "```"
   ]
  },
  {
   "cell_type": "markdown",
   "id": "45ef33f5-8732-4978-8cf3-c9899dc39216",
   "metadata": {},
   "source": [
    "**Tables**\n",
    "\n",
    "```\n",
    "| id | name       | email            |\n",
    "|----|------------|------------------|\n",
    "| 1  | John Doe   | john@gmail.com   |\n",
    "| 2  | Jane Smith | jane@hotmail.com |\n",
    "| 3  | Nam Tran   | nam@yahoo.com    |\n",
    "```"
   ]
  },
  {
   "cell_type": "markdown",
   "id": "d6a8b979-d7a3-419d-b055-7bd262a8fea4",
   "metadata": {},
   "source": [
    "**Emails**\n",
    "\n",
    "```\n",
    "<pythonisfun@example.com>\n",
    "```"
   ]
  },
  {
   "cell_type": "markdown",
   "id": "38e9101a-baa0-460e-af72-5be0e42f4872",
   "metadata": {},
   "source": [
    "**HTML**\n",
    "\n",
    "```\n",
    "<div>\n",
    "    <p>This is a paragraph</p>\n",
    "    <p>Next one will be an unordered list</p>\n",
    "    <ul>\n",
    "        <li>item 1</li>\n",
    "        <li><b>item 2 in bold</b></li>\n",
    "        <li><span style=\"color: red;\">item 3 in red</span></li>\n",
    "    </ul>\n",
    "</div>\n",
    "```"
   ]
  }
 ],
 "metadata": {
  "kernelspec": {
   "display_name": "Python 3 (ipykernel)",
   "language": "python",
   "name": "python3"
  },
  "language_info": {
   "codemirror_mode": {
    "name": "ipython",
    "version": 3
   },
   "file_extension": ".py",
   "mimetype": "text/x-python",
   "name": "python",
   "nbconvert_exporter": "python",
   "pygments_lexer": "ipython3",
   "version": "3.9.12"
  }
 },
 "nbformat": 4,
 "nbformat_minor": 5
}
