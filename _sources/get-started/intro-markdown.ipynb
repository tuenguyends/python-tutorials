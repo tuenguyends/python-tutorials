{
 "cells": [
  {
   "cell_type": "markdown",
   "id": "abdf17bc-04fb-410c-925c-c2a1d9240e26",
   "metadata": {},
   "source": [
    "# Introduction to Markdown"
   ]
  },
  {
   "cell_type": "markdown",
   "id": "cbf638ae-5c4e-4019-a22c-431ebe9275fa",
   "metadata": {},
   "source": [
    "## What is Markdown?\n",
    "\n",
    "Markdown is a lightweight markup language that allows you to add formatting elements to plaintext text documents such as\n",
    "\n",
    "- Headings\n",
    "- Bold, italic\n",
    "- Ordered/unordered lists\n",
    "- Links\n",
    "- Images\n",
    "    \n",
    "Markdown is extremely useful not only for technical writing but for any kind of writing in general.\n",
    "\n",
    "## Why use Markdown?\n",
    "\n",
    "**Versatility**. Markdown can be used for many purposes such as\n",
    "\n",
    "- Technical documentation (as this tutorial)\n",
    "- Notes and books\n",
    "- Static web pages\n",
    "\n",
    "**Minimal distraction**. Compared to rich-text text processors such as Microsoft Word or Libre Writer, Markdown offers much fewer features. However, this turns out to be its main advantage. By restricting you to a small set of formatting options, Markdown forces you to focus on writing good content rather than spending time tweaking the appearances such as themes, fonts, colors, and other kinds of formatting.\n",
    "\n",
    "**Portability**. Unlike a Word file (`.docx`), a Markdown file is just a simple plain text file and thus can be opened by any text editors such as Notepad++, Sublime Text, Atom, or Visual Studio Code. You won't have to worry when migrating your files to different operating systems or cloud services because you can always access their contents.\n",
    "\n",
    "**Easy integration**. If you plan to be a data analyst/scientist/researcher, technical documentation is part of your daily work. Markdown makes your life much easier by allowing you to mix your technical notes and executable code in the same place. \n",
    "\n",
    "**Easy conversion**. You can easily convert a Markdown file to different formats such as PDF and HTML."
   ]
  },
  {
   "cell_type": "markdown",
   "id": "5ec042da-deb8-40ef-a356-d45cc2b6e3f9",
   "metadata": {
    "tags": [],
    "toc-hr-collapsed": true
   },
   "source": [
    "## Basic Markdown syntax\n",
    "\n",
    "This section introduces the basic Markdown syntax that is most commonly used in technical documentation. For more advanced syntax, see the next section."
   ]
  },
  {
   "cell_type": "markdown",
   "id": "1ba50da3-524f-46eb-bd22-8263e95c7819",
   "metadata": {
    "tags": [],
    "toc-hr-collapsed": true
   },
   "source": [
    "### Headings\n",
    "\n",
    "Headings are used to organize contents into sections. There are 6 levels from `h1` to `h6` with `h1` being the biggest and `h6` being the smallest. \n",
    "\n",
    "There should be only one `h1` heading in your whole file, which is the title of the document. Other sections will begin with `h2` headings.\n",
    "\n",
    "Although Markdown allows up to 6 levels, you should never use beyond `h3`. Nesting your contents too deep make it hard to follow, thus keep your contents as flat as possible. This is also one of the guiding principles of Zen of Python: \"Flat is better than nested\". I personally usually use `h1` and `h2` only.\n",
    "\n",
    "A heading starts with `#`. The number of `#` indicates the heading level, for example\n",
    "\n",
    "```\n",
    "# Level 1\n",
    "## Level 2\n",
    "### Level 3\n",
    "#### Level 4\n",
    "##### Level 5\n",
    "###### Level 6\n",
    "```\n",
    "\n",
    "Open a notebook and try it yourself on a Markdown cell."
   ]
  },
  {
   "cell_type": "markdown",
   "id": "f2b301fe-d700-4ffb-9596-20cd55babc41",
   "metadata": {},
   "source": [
    "### Paragraphs\n",
    "\n",
    "Two paragraphs are separated by a blank line. One common mistake is just using `Enter` and start writing the new paragraph. It will not work, you must add a blank line between graphs.\n",
    "\n",
    "Here is the wrong way\n",
    "\n",
    "```\n",
    "Paragraph 1\n",
    "Paragraph 2\n",
    "```\n",
    "  \n",
    "The correct way should be\n",
    "\n",
    "```\n",
    "Paragraph 1\n",
    "\n",
    "Paragraph 2\n",
    "```\n",
    "\n",
    "Try it yourself in a notebook to see the difference."
   ]
  },
  {
   "cell_type": "markdown",
   "id": "d04a0460-bd66-47f1-98cc-b5d695f81a3f",
   "metadata": {},
   "source": [
    "### Lists\n",
    "\n",
    "There are two types of lists: unordered and ordered. Remember to add a blank line before starting a list.\n",
    "\n",
    "To make an unordered list, place `-` followed by a space before each item of the list, for example\n",
    "\n",
    "Example \n",
    "\n",
    "```\n",
    "- item 1\n",
    "- item 2\n",
    "- item 3\n",
    "```\n",
    "\n",
    "You will see something like this\n",
    "\n",
    "- item 1\n",
    "- item 2\n",
    "- item 3\n",
    "\n",
    "To make an ordered list, place `1.` followed by a space before each item of the list. You don't need to manually increase the number, it will be done automatically. This is very convenient because if you want to insert a new item into the list, you won't have to update the numbers for the items that follow it.\n",
    "\n",
    "Example\n",
    "\n",
    "```\n",
    "1. item 1\n",
    "1. item 2\n",
    "1. item 3\n",
    "```\n",
    "\n",
    "You will see something like this\n",
    "\n",
    "1. item 1\n",
    "1. item 2\n",
    "1. item 3\n",
    "\n",
    "Lists can also be nested on multiple levels. However, try to keep it shallow (two levels at most)\n",
    "\n",
    "Example of a two-level unordered list\n",
    "\n",
    "```\n",
    "- item 1\n",
    "    - sub-item 1.1\n",
    "    - sub-item 1.2\n",
    "- item 2\n",
    "    - sub-item 2.1\n",
    "    - sub-item 2.2\n",
    "```\n",
    "    \n",
    "    \n",
    "Example of a two-level ordered list\n",
    "\n",
    "```\n",
    "1. item 1\n",
    "    1. sub-item 1.1\n",
    "    1. sub-item 1.2\n",
    "1. item 2\n",
    "    1. sub-item 2.1\n",
    "    1. sub-item 2.2\n",
    "```\n",
    "    \n",
    "For nested lists, you can mix ordered and unordered styles together as long as the items of the same level have the same type\n",
    "\n",
    "Example of a two-level mixed list\n",
    "\n",
    "```\n",
    "1. item 1\n",
    "    - sub-item 1.1\n",
    "    - sub-item 1.2\n",
    "1. item 2\n",
    "    - sub-item 2.1\n",
    "    - sub-item 2.2\n",
    "```\n",
    "    \n",
    "Try all of these examples in your notebook."
   ]
  },
  {
   "cell_type": "markdown",
   "id": "df202561-feaa-4434-8fca-a875442d1526",
   "metadata": {},
   "source": [
    "### Emphasis\n",
    "\n",
    "This one is straightforward\n",
    "\n",
    "- `**Make bold**` will **Make bold**\n",
    "- `*Make italic*` will *Make italic*\n",
    "- `***Make bold and italic***` will ***Make bold and italic***"
   ]
  },
  {
   "cell_type": "markdown",
   "id": "f3c559df-d138-42b2-9bac-5e52bde9f435",
   "metadata": {},
   "source": [
    "### Code fences\n",
    "\n",
    "Code fences are used to emphasize texts that should be understood as a coding element such as a variable name, an expression, or a whole code block.\n",
    "\n",
    "There are two types of code fences: inline and block.\n",
    "\n",
    "The inline format is used for *short elements* such as a number, a variable name, or an expression. These elements stay in the line with normal texts (thus the name *inline*). To use the inline code format, wrap your code in a pair of single backticks `` ` ``\n",
    "\n",
    "Example of inline code\n",
    "\n",
    "- Numbers: `` `42` `` renders `42`\n",
    "- Variable names: `` `profit` `` renders `profit`\n",
    "- Expressions: `` `y = 3*x + 1` `` renders `y = 3*x + 1`\n",
    "\n",
    "In contrast, the block style is for a block of code, which normally spans more than one line. To use block style, wrap your code in a pair of triple backticks `` ``` ``. You can specify the language to take advantage of syntax highlighting.\n",
    "\n",
    "Example of a Python code block\n",
    "\n",
    "````\n",
    "```python\n",
    "def say_hi(name):\n",
    "    print(f\"Hello {name}\")\n",
    "    print(\"Have a good day\")\n",
    "```\n",
    "````\n",
    "\n",
    "will look like this\n",
    "\n",
    "```python\n",
    "def say_hi(name):\n",
    "    print(f\"Hello {name}\")\n",
    "    print(\"Have a good day\")\n",
    "```"
   ]
  },
  {
   "cell_type": "markdown",
   "id": "1d13c69a-aaac-4b54-8f41-72eafeb26f83",
   "metadata": {},
   "source": [
    "### Latex\n",
    "\n",
    "Markdown supports Latex syntax so you can type math formulas easily. Similar to code fences, there are inline (use `$`) and block (`$$`) math formulas.\n",
    "\n",
    "Inline latex\n",
    "\n",
    "```\n",
    "The probability mass function for a binomial distribution is given by $f(x) = {n \\choose x} p^{x} (1-p)^{n-x}$ \n",
    "```\n",
    "\n",
    "The probability mass function for a binomial distribution is given by $f(x) = {n \\choose x} p^{x} (1-p)^{n-x}$ \n",
    "\n",
    "Block latex\n",
    "\n",
    "```\n",
    "$$\n",
    "M = \\begin{bmatrix}a_1 & b_1\\\\\n",
    "a_2 & b_2 \\\\\n",
    "a_3 & b_3\n",
    "\\end{bmatrix}\n",
    "$$\n",
    "```\n",
    "\n",
    "$$\n",
    "M = \\begin{bmatrix}a_1 & b_1\\\\\n",
    "a_2 & b_2 \\\\\n",
    "a_3 & b_3\n",
    "\\end{bmatrix}\n",
    "$$\n",
    "\n",
    "Try these examples yourself."
   ]
  },
  {
   "cell_type": "markdown",
   "id": "3cc87894-bbea-445e-afb5-d672f486a60d",
   "metadata": {},
   "source": [
    "### Links\n",
    "\n",
    "Here is how to embed a link in your text\n",
    "\n",
    "```\n",
    "If something you don't know, use [Google](https://www.google.com)\n",
    "```\n",
    "\n",
    "and the result will be like this\n",
    "\n",
    "If some thing you don't know, use [Google](https://www.google.com)"
   ]
  },
  {
   "cell_type": "markdown",
   "id": "6e157bd3-3d35-45c8-bca9-b4d900051257",
   "metadata": {},
   "source": [
    "### Advice\n",
    "\n",
    "The syntax introduced so far is enough for you to have a nice-looking notebook. I rarely use any Markdown features beyond this level. \n",
    "\n",
    "Remember, the most important thing is the quality of your analysis. Don't bother too much with fancy formatting. \n",
    "\n",
    "However, on some occasions, you might need a bit of fanciness. If so, then read the next section."
   ]
  },
  {
   "cell_type": "markdown",
   "id": "0a655c68-d018-4aa6-8a79-167b14935d6f",
   "metadata": {
    "tags": [],
    "toc-hr-collapsed": true
   },
   "source": [
    "## Advanced Markdown syntax"
   ]
  },
  {
   "cell_type": "markdown",
   "id": "01a9fc97-660e-48f0-858d-5bb407424a42",
   "metadata": {},
   "source": [
    "### Blockquotes\n",
    "\n",
    "As the name suggests, block quotes are used for quotes or excerpts. You start a blockquote with `>`, for example\n",
    "\n",
    "```\n",
    "> My advice to you is to get married: if you find a good wife you’ll be happy; if not, you’ll become a philosopher (Socrates)\n",
    "```\n",
    "\n",
    "will look like this\n",
    "\n",
    "> My advice to you is to get married: if you find a good wife you’ll be happy; if not, you’ll become a philosopher (Socrates)\n",
    "    \n",
    "    \n",
    "For multi-paragraph block quotes, add a blank line between paragraphs and remember to start every line with `>` as in the following example\n",
    "\n",
    "```\n",
    "> My advice to you is to get married: if you find a good wife you’ll be happy; if not, you’ll become a philosopher (Socrates)\n",
    ">\n",
    "> Behind every great man is a woman rolling her eyes (Jim Carrey)\n",
    "```\n",
    "\n",
    "will look like this\n",
    "\n",
    "> My advice to you is to get married: if you find a good wife you’ll be happy; if not, you’ll become a philosopher (Socrates)\n",
    ">\n",
    "> Behind every great man is a woman rolling her eyes (Jim Carrey)"
   ]
  },
  {
   "cell_type": "markdown",
   "id": "96c212e9-aa4c-4824-a0ee-60519d21fe57",
   "metadata": {
    "tags": []
   },
   "source": [
    "### Images\n",
    "\n",
    "To insert an image, use the following syntax `![Caption](path_to_the_image)`. You can use an absolute or a relative path. \n",
    "\n",
    "Example\n",
    "\n",
    "```\n",
    "![Python logo](https://upload.wikimedia.org/wikipedia/commons/thumb/c/c3/Python-logo-notext.svg/242px-Python-logo-notext.svg.png)\n",
    "```\n",
    "will insert and display the following photo\n",
    "\n",
    "![Python logo](https://upload.wikimedia.org/wikipedia/commons/thumb/c/c3/Python-logo-notext.svg/242px-Python-logo-notext.svg.png)\n"
   ]
  },
  {
   "cell_type": "markdown",
   "id": "9cdb2c8b-a683-42dd-82e4-500b3b450be4",
   "metadata": {},
   "source": [
    "### Tables\n",
    "\n",
    "Here is an example of a table\n",
    "\n",
    "\n",
    "```\n",
    "| id | name       | email            |\n",
    "|----|------------|------------------|\n",
    "| 1  | John Doe   | john@gmail.com   |\n",
    "| 2  | Jane Smith | jane@hotmail.com |\n",
    "| 3  | Nam Tran   | nam@yahoo.com    |\n",
    "```\n",
    "\n",
    "\n",
    "| id | name       | email            |\n",
    "|----|------------|------------------|\n",
    "| 1  | John Doe   | john@gmail.com   |\n",
    "| 2  | Jane Smith | jane@hotmail.com |\n",
    "| 3  | Nam Nguyen | nam@yahoo.com    |\n",
    "\n",
    "However, my advice is not to type tables by yourself. Go to some website that offers a free Markdown table generator such as this one https://www.tablesgenerator.com/markdown_tables"
   ]
  },
  {
   "cell_type": "markdown",
   "id": "cc1565ba-c4a4-40ea-9382-bdae1ad8ae2f",
   "metadata": {},
   "source": [
    "### Emails\n",
    "\n",
    "Put your email inside `<>` and when someone clicks on the link, the default email app will be launched. \n",
    "\n",
    "Example\n",
    "\n",
    "```\n",
    "<pythonisfun@example.com>\n",
    "\n",
    "```\n",
    "\n",
    "will become this\n",
    "\n",
    "<pythonisfun@example.com>"
   ]
  },
  {
   "cell_type": "markdown",
   "id": "cd32aeb8-08e7-43a1-bb44-f4138b231eb4",
   "metadata": {},
   "source": [
    "### HTML\n",
    "\n",
    "You can also use HTML tags inside a Markdown file, and they will be parsed according to HTML rules\n",
    "\n",
    "Try the following example in your notebook\n",
    "\n",
    "```html\n",
    "<div>\n",
    "    <p>This is a paragraph</p>\n",
    "    <p>Next one will be an unordered list</p>\n",
    "    <ul>\n",
    "        <li>item 1</li>\n",
    "        <li><b>item 1 in bold</b></li>\n",
    "        <li><span style=\"color: red;\">item 3 in red</span></li>\n",
    "    </ul>\n",
    "</div>\n",
    "```"
   ]
  },
  {
   "cell_type": "markdown",
   "id": "4c6ff11a-a52a-4683-b403-405555b15655",
   "metadata": {},
   "source": [
    "## Summary\n",
    "\n",
    "The following summarizes all the Markdown syntax you need to know."
   ]
  },
  {
   "cell_type": "markdown",
   "id": "eb7aa6d0-95c7-4bdd-bf1d-7e64b3cafa2a",
   "metadata": {},
   "source": [
    "**Headings**\n",
    "\n",
    "```\n",
    "# Level 1\n",
    "## Level 2\n",
    "### Level 3\n",
    "#### Level 4\n",
    "##### Level 5\n",
    "###### Level 6\n",
    "```"
   ]
  },
  {
   "cell_type": "markdown",
   "id": "ea2c88f7-37f4-485d-b5c5-e080345187d8",
   "metadata": {},
   "source": [
    "**Emphasis**\n",
    "\n",
    "```\n",
    "Bold: **bold**\n",
    "Italic: *italic*\n",
    "Bold and italic: ***Bold and italic***\n",
    "Strike through: ~~Strike through~~\n",
    "```"
   ]
  },
  {
   "cell_type": "markdown",
   "id": "0b168e0f-c905-4ab7-bbdb-de9ef398b998",
   "metadata": {},
   "source": [
    "**Unordered lists**\n",
    "\n",
    "```\n",
    "- item 1\n",
    "- item 2\n",
    "- item 3\n",
    "```"
   ]
  },
  {
   "cell_type": "markdown",
   "id": "f8f06674-272f-475d-a8f7-51f1de7bfc5c",
   "metadata": {},
   "source": [
    "**Ordered lists**\n",
    "\n",
    "```\n",
    "1. item 1\n",
    "1. item 2\n",
    "1. item 3\n",
    "```"
   ]
  },
  {
   "cell_type": "markdown",
   "id": "a0fef082-0a21-475e-81a1-48ad3efef808",
   "metadata": {},
   "source": [
    "**Nested lists**\n",
    "\n",
    "```\n",
    "- item 1\n",
    "    - sub-item 1.1\n",
    "    - sub-item 1.2\n",
    "- item 2\n",
    "    - sub-item 2.1\n",
    "    - sub-item 2.2\n",
    "```"
   ]
  },
  {
   "cell_type": "markdown",
   "id": "ba23d78d-432a-4cca-878d-f5fcfa724aee",
   "metadata": {},
   "source": [
    "**Mixed nested lists**\n",
    "\n",
    "```\n",
    "1. item 1\n",
    "    - sub-item 1.1\n",
    "    - sub-item 1.2\n",
    "1. item 2\n",
    "    - sub-item 2.1\n",
    "    - sub-item 2.2\n",
    "```"
   ]
  },
  {
   "cell_type": "markdown",
   "id": "739546d5-de29-4f3a-a4f4-959410ff2fbd",
   "metadata": {},
   "source": [
    "**Inline code**\n",
    "\n",
    "- Numbers: `` `42` ``\n",
    "- Variable names: `` `profit` `` \n",
    "- Expressions: `` `y = 3*x + 1` ``"
   ]
  },
  {
   "cell_type": "markdown",
   "id": "3ec2fae6-c1b5-47be-acd4-8d6a3e7f75bd",
   "metadata": {},
   "source": [
    "**Block code**\n",
    "\n",
    "````\n",
    "```python\n",
    "def say_hi(name):\n",
    "    print(f\"Hello {name}\")\n",
    "    print(\"Have a good day\")\n",
    "```\n",
    "````"
   ]
  },
  {
   "cell_type": "markdown",
   "id": "e087ddf8-d6d1-4cbc-8fab-171b2563d0a0",
   "metadata": {},
   "source": [
    "**Inline Latex**\n",
    "\n",
    "```\n",
    "$E = mc^2$\n",
    "```"
   ]
  },
  {
   "cell_type": "markdown",
   "id": "9841e9b5-d73f-4da7-bf4b-e350b3a7db9d",
   "metadata": {},
   "source": [
    "**Block Latex**\n",
    "\n",
    "```\n",
    "$$\n",
    "M = \\begin{bmatrix}a_1 & b_1\\\\\n",
    "a_2 & b_2 \\\\\n",
    "a_3 & b_3\n",
    "\\end{bmatrix}\n",
    "$$\n",
    "\n",
    "```"
   ]
  },
  {
   "cell_type": "markdown",
   "id": "19432fd7-0166-415a-831c-cc76cc71b815",
   "metadata": {},
   "source": [
    "**Links**\n",
    "\n",
    "```\n",
    "[Google](https://www.google.com)\n",
    "```"
   ]
  },
  {
   "cell_type": "markdown",
   "id": "6ceab13f-f061-4f66-a879-e174b8756351",
   "metadata": {},
   "source": [
    "**Single-paragraph quotes**\n",
    "\n",
    "```\n",
    "> This is a quote\n",
    "```\n",
    "\n",
    "**Multi-paragraph quotes**\n",
    "\n",
    "```\n",
    "> This is the first paragraph\n",
    ">\n",
    "> This is the second paragraph\n",
    "```"
   ]
  },
  {
   "cell_type": "markdown",
   "id": "bc73f1c5-b216-45d7-9ea6-e79dd61d3179",
   "metadata": {},
   "source": [
    "**Images**\n",
    "\n",
    "```\n",
    "![Caption](path_to_the_image)\n",
    "```"
   ]
  },
  {
   "cell_type": "markdown",
   "id": "f2529647-ef88-42f0-8b0d-fe6abdac3800",
   "metadata": {},
   "source": [
    "**Tables**\n",
    "\n",
    "```\n",
    "| id | name       | email            |\n",
    "|----|------------|------------------|\n",
    "| 1  | John Doe   | john@gmail.com   |\n",
    "| 2  | Jane Smith | jane@hotmail.com |\n",
    "| 3  | Nam Tran   | nam@yahoo.com    |\n",
    "```"
   ]
  },
  {
   "cell_type": "markdown",
   "id": "76c13be0-0cea-4545-adf8-e6461173bc0d",
   "metadata": {},
   "source": [
    "**Emails**\n",
    "\n",
    "```\n",
    "<pythonisfun@example.com>\n",
    "```"
   ]
  },
  {
   "cell_type": "markdown",
   "id": "8611a502-645c-4433-a8eb-75aa129b8115",
   "metadata": {},
   "source": [
    "**HTML**\n",
    "\n",
    "```\n",
    "<div>\n",
    "    <p>This is a paragraph</p>\n",
    "    <p>Next one will be an unordered list</p>\n",
    "    <ul>\n",
    "        <li>item 1</li>\n",
    "        <li><b>item 1 in bold</b></li>\n",
    "        <li><span style=\"color: red;\">item 3 in red</span></li>\n",
    "    </ul>\n",
    "</div>\n",
    "```"
   ]
  },
  {
   "cell_type": "markdown",
   "id": "9cbbac81-5228-49a0-9410-05a16cde8dbf",
   "metadata": {},
   "source": [
    "**Horizontal lines**\n",
    "\n",
    "```\n",
    "---\n",
    "```"
   ]
  },
  {
   "cell_type": "markdown",
   "id": "00781ef1-5c54-4a44-9615-05387e6ac7db",
   "metadata": {},
   "source": [
    "**Footnotes**\n",
    "\n",
    "```\n",
    "This line will have a footnote [^1]\n",
    "[^1]: here is the footnote\n",
    "```"
   ]
  }
 ],
 "metadata": {
  "kernelspec": {
   "display_name": "Python 3 (ipykernel)",
   "language": "python",
   "name": "python3"
  },
  "language_info": {
   "codemirror_mode": {
    "name": "ipython",
    "version": 3
   },
   "file_extension": ".py",
   "mimetype": "text/x-python",
   "name": "python",
   "nbconvert_exporter": "python",
   "pygments_lexer": "ipython3",
   "version": "3.9.7"
  }
 },
 "nbformat": 4,
 "nbformat_minor": 5
}
