{
 "cells": [
  {
   "cell_type": "markdown",
   "id": "b22c0056-b1d5-4f16-b177-0334ae5b4d47",
   "metadata": {},
   "source": [
    "# Introduction to Jupyter Lab"
   ]
  },
  {
   "cell_type": "markdown",
   "id": "d1fb4a82-d249-462b-b0a9-d4ec8ac46873",
   "metadata": {},
   "source": [
    "## What is Jupyter Lab?\n",
    "\n",
    "Jupyter Lab is an integrated development environment (IDE) commonly used for interactive coding with languages such as Python, R, and Julia. In fact, **Jupyter** is an acronym for **Ju**lia-**Py**thon-**R**. You can also you Jupyter Lab with other scripting languages such as Matlab or Octave.\n",
    "\n",
    "**What is an IDE?** An IDE is simply a text editor with some features that make coding easier and more efficient such as\n",
    "\n",
    "- Syntax highlighting\n",
    "- File organization/navigation\n",
    "- Code execution\n",
    "- Integrated terminal\n",
    "- Debugger\n",
    "\n",
    "Jupyter Lab is the next generation of Jupyter Notebook (the older version). Besides full support for Jupyter Notebook, Jupyter Lab offers a better GUI and many more features/enhancements that boost your productivity."
   ]
  },
  {
   "cell_type": "markdown",
   "id": "d3279875-aaed-4fe4-a43b-16bc064ba4e3",
   "metadata": {},
   "source": [
    "## Other IDEs\n",
    "\n",
    "Jupyter Lab is not the only IDE for Python, but in my opinion, it is the best for data-related tasks. Other popular IDEs include\n",
    "\n",
    "- Pycharm\n",
    "- Spyder\n",
    "- Visual Studio Code\n",
    "- Zeppelin"
   ]
  },
  {
   "cell_type": "markdown",
   "id": "76b66d98-ea24-4f91-a362-7c0cf032ef22",
   "metadata": {},
   "source": [
    "## Installation\n",
    "\n",
    "You don't need to install Jupyter Lab because it comes with Anaconda's standard installation, which you already installed in the previous chapter."
   ]
  },
  {
   "cell_type": "markdown",
   "id": "c227b5a1-3a08-495b-9b73-aceda1862ef1",
   "metadata": {},
   "source": [
    "## Start Jupyter Lab\n",
    "\n",
    "Now you can launch Jupyter lab and start coding. First, go inside the root folder of your project, right-click on a blank space, and choose `Git Bash Here`.\n",
    "\n",
    "A Git Bash terminal opens (this is why we installed Git in the previous chapter). Type the following command and hit `Enter`\n",
    "\n",
    "```bash\n",
    "jupyter lab\n",
    "```\n",
    "\n",
    "Jupyter Lab will be launched via a new tab on your default browser. For a better experience, I recommend you set a modern browser such as Chrome or Microsoft Edge as your default browser.\n",
    "\n",
    "The picture below shows an example of using Jupyter Lab for a Python project."
   ]
  },
  {
   "cell_type": "markdown",
   "id": "b0174721-f1f0-4e0e-95cd-f61436d61c6d",
   "metadata": {},
   "source": [
    "![Jupyter Lab interface](../_static/img/jlab_interface.png)"
   ]
  },
  {
   "cell_type": "markdown",
   "id": "9b36bc34-efcc-47aa-922e-e323154bcfbf",
   "metadata": {},
   "source": [
    "## Create your first notebook\n",
    "\n",
    "Your project can contain only a single notebook or a collection of notebooks, depending on the complexity of your analysis. \n",
    "\n",
    "Each notebook is a piece of analysis that contains code and explanatory text. As you can see in the left panel in the picture above, there are 6 notebooks (files with extensions `.ipynb`)\n",
    "\n",
    "Now, right-click the big rectangle button with a plus sign on the left panel. A launcher panel will appear on the right listing several options that allow you to create a new notebook, text file, or terminal. \n",
    "\n",
    "To create a new notebook, choose `Python 3 (ipykernel)` as shown in the picture below."
   ]
  },
  {
   "cell_type": "markdown",
   "id": "f015f13d-bbd4-4bf8-9b5e-d2a84bd9172a",
   "metadata": {},
   "source": [
    "<img src=\"../_static/img/new_nb.png\" width=\"500px\">"
   ]
  },
  {
   "cell_type": "markdown",
   "id": "05972721-451c-4052-a550-01593ec2ab3a",
   "metadata": {},
   "source": [
    "Right-click on the file name and rename it to `first_analysis.ipynb`"
   ]
  },
  {
   "cell_type": "markdown",
   "id": "e37cf7a6-fb9a-4bd4-bfc8-9b3db2abad96",
   "metadata": {},
   "source": [
    "## Components of a notebook\n",
    "\n",
    "A notebook consists of editable cells (meaning that you can write into those cells). \n",
    "\n",
    "The reason for breaking our code into multiple cells is for better management: easier to maintain and debug.\n",
    "\n",
    "\n",
    "There are two types of cells in a notebook\n",
    "\n",
    "- Code cells: used for writing Python code, thus what you write must conform to Python syntax. If not, you will get an error when the cell is executed.\n",
    "\n",
    "- Markdown cells: used for writing explanatory text (like what you are reading now). You can write whatever you want, there will be no error.\n",
    "\n",
    "\n",
    "**Markdown** (will be discussed in the next chapter) specifies a simple set of rules that allow you to format your text similar to what you do with Microsoft Word (but much more limited), for example\n",
    "\n",
    "- Headings\n",
    "- Bullet points\n",
    "- **Bold text**\n",
    "- *Italic text*\n",
    "- `code fences`\n",
    "- Math formula $E = mc^2$\n",
    "\n",
    "By default, a newly created cell will be a code cell. \n",
    "\n",
    "- To convert a cell to a Markdown cell, use `Esc + M`. \n",
    "- To convert it back to a Code cell, use `Esc + Y`. "
   ]
  },
  {
   "cell_type": "markdown",
   "id": "249376b3-c615-4e4f-a5e7-e676c3b7b5ea",
   "metadata": {},
   "source": [
    "## Run a cell\n",
    "\n",
    "When you finish writing, you need to run or execute it to tell Jupyter Lab to process and render what you write.\n",
    "\n",
    "- For a code cell: Jupyter Lab calls Python to evaluate and run your code. You might get an error if you did something wrong.\n",
    "\n",
    "- For a Markdown cell: Python just renders the text according to Markdown's rules. There will be no error.\n",
    "\n",
    "\n",
    "There are three ways to run a cell, and they are the same for both code cells and Markdown cells\n",
    "\n",
    "- `Ctrl + Enter`: run the current cell and stay at that cell\n",
    "- `Shift + Enter`: run the current cell and move to the next cell\n",
    "- `Alt + Enter`: run the current cell, then insert a new cell below and move to that cell"
   ]
  },
  {
   "cell_type": "markdown",
   "id": "b3852824-4a03-483f-a38a-ac12a38941ec",
   "metadata": {},
   "source": [
    "Example 1: run a code cell"
   ]
  },
  {
   "cell_type": "code",
   "execution_count": 1,
   "id": "e14b330b-263b-492a-8e8f-e1e0172cc67f",
   "metadata": {},
   "outputs": [
    {
     "name": "stdout",
     "output_type": "stream",
     "text": [
      "Hello. How are you?\n",
      "5\n"
     ]
    }
   ],
   "source": [
    "print(\"Hello. How are you?\")\n",
    "print(2 + 3)"
   ]
  },
  {
   "cell_type": "markdown",
   "id": "50f64979-4d7c-42d7-b303-b02db0e6a419",
   "metadata": {},
   "source": [
    "Example 2: run a Markdown cell with the following content\n",
    "\n",
    "```\n",
    "- item 1\n",
    "- **item 3**\n",
    "- *item 4*\n",
    "- $y = \\frac{1}{2}\\int e^{2x}dx$\n",
    "```"
   ]
  },
  {
   "cell_type": "markdown",
   "id": "54e33fca-0ea5-4e91-9974-f9f1dfd5f8e4",
   "metadata": {},
   "source": [
    "Here is what you will see\n",
    "\n",
    "- item 1\n",
    "- **item 3**\n",
    "- *item 4*\n",
    "- $y = \\frac{1}{2}\\int e^{2x}dx$"
   ]
  },
  {
   "cell_type": "markdown",
   "id": "add35b55-3fe8-4682-a4b0-da907cd8784d",
   "metadata": {},
   "source": [
    "## Command vs. editing mode\n",
    "\n",
    "There are two modes when working with a notebook: editing and command.\n",
    "\n",
    "Editing mode: you are in the editing mode when you are typing something inside a cell, and what you do is mostly just writing. \n",
    "\n",
    "Command mode: you are in the command mode when you perform actions on the whole cell (and potentially on multiple cells) such as\n",
    "\n",
    "- Delete, copy, cut a cell\n",
    "- Paste a cell below another cell\n",
    "- Add a cell above or below another cell\n",
    "\n",
    "To activate the command mode, you hit `Esc` and then press another key to perform an action you wish. For example, `Esc + A` will add a new cell above the current cell (see the next section for a complete list of actions)\n",
    "\n",
    "To activate the editing mode on a cell, you simply double-click on that cell and start typing."
   ]
  },
  {
   "cell_type": "markdown",
   "id": "5e172b60-7d40-4196-a7c9-85af904c7e7d",
   "metadata": {},
   "source": [
    "## Shortcuts in command mode\n",
    "\n",
    "The following are common keyboard shortcuts to work on a notebook in the command mode. There are equivalent GUI options that allow you to accomplish the same things with your mouse. However, I highly recommend using shortcuts because they will allow you to code a lot faster.\n",
    "\n",
    "- Add a cell **Above** the current cell: `Esc + A`\n",
    "- Add a cell **Below** the current cell: `Esc + B`\n",
    "- **Delete** the current cell: `Esc + DD`\n",
    "- **Copy** the current cell: `Esc + C`\n",
    "- **Cut** the current cell: `Esc + X`\n",
    "- **Paste** a cell in the clipboard *below* the current cell: `Esc + V`\n",
    "- **Undo** last action: `Esc + Z`\n",
    "- Convert a cell to a **Markdown** cell: `Esc + M`\n",
    "- Convert a cell to a **Code** cell: `Esc + Y`"
   ]
  },
  {
   "cell_type": "markdown",
   "id": "fbbef803-66cd-476d-a807-3eb12101b155",
   "metadata": {},
   "source": [
    "## Practice\n",
    "\n",
    "The only way to master any skill is through practice. Thus, here are some exercises to help you internalize what you have learned. \n",
    "\n",
    "They are very simple and won't take much time. There might be some activities that I did not cover in the main text, but you can figure out how to accomplish them easily."
   ]
  },
  {
   "cell_type": "markdown",
   "id": "acde54e1-7dc1-4c76-8a0f-2afb9078063b",
   "metadata": {},
   "source": [
    "### Ex 1\n",
    "\n",
    "1. Create a folder named `test/` on your computer\n",
    "1. Launch Jupyter Lab inside `test/`\n",
    "1. Create three sub-folders and rename them `data/`, `nb/`, and `/docs` (Hint: use the left panel)\n",
    "1. Go inside `data/` and upload a random file (Hint: use the left panel)\n",
    "1. Go inside `nb/`, create a new notebook and rename it to `analysis.ipynb`\n",
    "1. Go inside `docs/`, create a new text file and rename it to `manual.txt`"
   ]
  },
  {
   "cell_type": "markdown",
   "id": "ded3d6fd-2f22-4a7e-bc8d-1a2d6e2fc634",
   "metadata": {},
   "source": [
    "### Ex 2\n",
    "\n",
    "Open `analysis.ipynb` in Ex 1 and do the following\n",
    "\n",
    "1. Add a Markdown cell with the content `Monthly analysis`\n",
    "    \n",
    "1. Add a Code cell with the following content and run it. What output do you see?\n",
    "\n",
    "    ```python\n",
    "    store_1_sales = 5000\n",
    "    store_2_sales = 7000\n",
    "    total_sales = store_1_sales + store_2_sales\n",
    "    print(f\"Total sales:  {total_sales}\")\n",
    "    ```\n",
    "\n",
    "1. Add a Markdown cell and write some random text\n",
    "\n",
    "1. Copy the above Markdown cell and paste it right below the first cell\n",
    "\n",
    "1. Delete the cell you have just pasted\n",
    "\n",
    "1. Undo the deletion\n",
    "\n",
    "1. Convert the code cell in step 2 into a Markdown cell and execute it. What do you see?\n",
    "\n",
    "1. Convert it back to a code cell and execute it. What do you see?\n",
    "\n",
    "1. Notice on the top-right corner, do you see something like `Python 3 (ipykernel)`. If yes, it means you are in an active session and Python is still running under the hood. No more action is needed for this task.\n",
    "\n",
    "1. Now shut down the kernel for this notebook (but do not close it). Do you see something like `No Kernel`?  If yes, it means the kernel is dead and Python is not running. (Hint: do you see a button with a square inside a circle on the left side of Jupyter Lab?)\n",
    "\n",
    "1. Add a code cell at the end of the notebook and run the following statement `print(\"Kernel is dead\")`. What do you see?\n",
    "\n",
    "1. Now reactivate the kernel. Do you see a green dot on the left of the file name and the top-right corner is back to `Python 3 (ipykernel)`? If yes, it means the kernel is up and running. (Hint: `Menu > Kernel > Restart Kernel)`\n",
    "\n",
    "1. Now re-run the code cell in step 9. Does it work now?\n",
    "\n",
    "1. Scroll to the end of the notebook, add 10 blank code cells. How to make it fast? (Hint: `Esc` then hit (fast) `B` ten times)\n",
    "\n",
    "1. Now delete all the blank cells you have just added. How to make this fast? (Hint: click on the first cell, hold the `Shift` key, then click the last blank cell while still holding `Shift`. You will see all the cells are highlighted. Now hit `Esc + DD`)\n",
    "\n",
    "1. Undo the deletion"
   ]
  }
 ],
 "metadata": {
  "kernelspec": {
   "display_name": "Python 3 (ipykernel)",
   "language": "python",
   "name": "python3"
  },
  "language_info": {
   "codemirror_mode": {
    "name": "ipython",
    "version": 3
   },
   "file_extension": ".py",
   "mimetype": "text/x-python",
   "name": "python",
   "nbconvert_exporter": "python",
   "pygments_lexer": "ipython3",
   "version": "3.9.7"
  },
  "toc-autonumbering": true
 },
 "nbformat": 4,
 "nbformat_minor": 5
}
