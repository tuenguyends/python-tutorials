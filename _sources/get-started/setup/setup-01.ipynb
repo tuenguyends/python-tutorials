{
 "cells": [
  {
   "cell_type": "markdown",
   "id": "a4032a94-48de-43d6-95bd-1f6f7fb175dc",
   "metadata": {},
   "source": [
    "# Anaconda"
   ]
  },
  {
   "cell_type": "markdown",
   "id": "9883bceb-1af6-40d9-bfac-4c771297bbfb",
   "metadata": {},
   "source": [
    "## What is Anaconda?\n",
    "\n",
    "Anaconda is a distribution of Python and R for data science and scientific computing. The standard installation of Anaconda consists of\n",
    "\n",
    "- 250+ popular packages\n",
    "- A package manager\n",
    "- An environment manager\n",
    "- Jupyter Lab - a powerful IDE for coding"
   ]
  },
  {
   "cell_type": "markdown",
   "id": "051f1bbe-cd3b-494c-8cd7-c38a70dd036e",
   "metadata": {},
   "source": [
    "## Why Anaconda?\n",
    "\n",
    "Anaconda makes it much easier for you to work on your data science project. \n",
    "\n",
    "- Often, your project will use different packages, many of which already come with Anaconda's standard installation\n",
    "\n",
    "- You can also use Anaconda to install additional packages from a repository of 7,500+ open source packages\n",
    "\n",
    "- Anaconda's package manager will take care of all the dependencies to make sure everything is compatible with each other\n",
    "\n",
    "- You can also create multiple environments with different configurations for different projects you want."
   ]
  },
  {
   "cell_type": "markdown",
   "id": "a908b91b-a5ce-4518-b2bd-f4fe440d2eb8",
   "metadata": {},
   "source": [
    "## Download Anaconda\n",
    "\n",
    "You can download Anaconda at https://www.anaconda.com. If the domain has changed you can use Google. \n",
    "\n",
    "Remember to choose the appropriate installer for your operating system.\n"
   ]
  },
  {
   "cell_type": "markdown",
   "id": "04423f49-3699-492f-a3a3-e00a63f55f48",
   "metadata": {},
   "source": [
    "## Install Anaconda\n",
    "When installing Anaconda, just follow the instructions but pay attention to the `Advanced installation options` stage. You should select **both checkboxes** although the first one says *not recommended* (see picture below)."
   ]
  },
  {
   "cell_type": "markdown",
   "id": "c6156e86-1767-4544-b493-ae623515a64d",
   "metadata": {},
   "source": [
    "<img src=\"../../_static/img/install_anaconda.png\" width=\"450px\">"
   ]
  }
 ],
 "metadata": {
  "kernelspec": {
   "display_name": "Python 3 (ipykernel)",
   "language": "python",
   "name": "python3"
  },
  "language_info": {
   "codemirror_mode": {
    "name": "ipython",
    "version": 3
   },
   "file_extension": ".py",
   "mimetype": "text/x-python",
   "name": "python",
   "nbconvert_exporter": "python",
   "pygments_lexer": "ipython3",
   "version": "3.9.7"
  }
 },
 "nbformat": 4,
 "nbformat_minor": 5
}
