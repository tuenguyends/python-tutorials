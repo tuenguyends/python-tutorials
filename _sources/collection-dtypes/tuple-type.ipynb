{
 "cells": [
  {
   "cell_type": "markdown",
   "id": "74907042-45c0-4c32-912c-4aa85f5b712e",
   "metadata": {},
   "source": [
    "# Tuple type\n",
    "Author: Tue Nguyen"
   ]
  },
  {
   "cell_type": "markdown",
   "id": "cd93ab87-8847-43a1-8be9-5eafd90e6ff1",
   "metadata": {},
   "source": [
    "## Overview\n",
    "Topics covered in this lecture include\n",
    "- What is a tuple?\n",
    "- Create a tuple\n",
    "- Index a tuple\n",
    "- Slice a tuple\n",
    "- Nested tuple\n",
    "- Iterate through a tuple\n",
    "- Copy a tuple\n",
    "- Operations on a tuple\n",
    "- Unpack a tuple\n",
    "- Tuple comprehensions"
   ]
  },
  {
   "cell_type": "markdown",
   "id": "e76eaacc-6303-44d8-870e-189f65e1c995",
   "metadata": {},
   "source": [
    "## What is a tuple?\n",
    "- The tuple type is identical to the list type, except that it is **immutable**"
   ]
  },
  {
   "cell_type": "markdown",
   "id": "47797cce-9adb-4af1-baf9-1403baebc926",
   "metadata": {},
   "source": [
    "## Create a tuple\n",
    "- To create a list we use `()` \n",
    "- Elements are separated by commas `,`"
   ]
  },
  {
   "cell_type": "code",
   "execution_count": 1,
   "id": "16f29376-c356-4356-ae37-754a98ccb990",
   "metadata": {},
   "outputs": [
    {
     "name": "stdout",
     "output_type": "stream",
     "text": [
      "(1, 2, 3, 4)\n",
      "<class 'tuple'>\n"
     ]
    }
   ],
   "source": [
    "# Init a tuple\n",
    "x = (1, 2, 3, 4)\n",
    "\n",
    "# Print value and type\n",
    "print(x)\n",
    "print(type(x))"
   ]
  },
  {
   "cell_type": "code",
   "execution_count": 7,
   "id": "de71a933-4c36-4a90-8ca8-49ee88e02b0f",
   "metadata": {},
   "outputs": [
    {
     "name": "stdout",
     "output_type": "stream",
     "text": [
      "(1,)\n",
      "<class 'tuple'>\n"
     ]
    }
   ],
   "source": [
    "# If a tuple has only one element\n",
    "# we need to provide an extra comma \n",
    "x = (1,)\n",
    "print(x)\n",
    "print(type(x))"
   ]
  },
  {
   "cell_type": "code",
   "execution_count": 8,
   "id": "4ff7672d-eed2-48bf-a2a9-61fdbdb37d68",
   "metadata": {},
   "outputs": [
    {
     "name": "stdout",
     "output_type": "stream",
     "text": [
      "1\n",
      "<class 'int'>\n"
     ]
    }
   ],
   "source": [
    "# without this extra comma, \n",
    "# Python will interpret the RHS as number 1\n",
    "x = (1)\n",
    "print(x)\n",
    "print(type(x))"
   ]
  },
  {
   "cell_type": "code",
   "execution_count": 9,
   "id": "ba6f693a-3fc6-4234-afb4-c4b9c8213b27",
   "metadata": {},
   "outputs": [
    {
     "name": "stdout",
     "output_type": "stream",
     "text": [
      "(1, 2, 3)\n",
      "<class 'tuple'>\n"
     ]
    }
   ],
   "source": [
    "# We can omit the parentheses\n",
    "x = 1, 2, 3\n",
    "print(x)\n",
    "print(type(x))"
   ]
  },
  {
   "cell_type": "code",
   "execution_count": 11,
   "id": "6212f671-67f6-4442-9e60-96d920fa1e22",
   "metadata": {},
   "outputs": [
    {
     "name": "stdout",
     "output_type": "stream",
     "text": [
      "(None, True, 10, 20.5, 'ABC', [1, 2], (3, 4))\n",
      "<class 'tuple'>\n"
     ]
    }
   ],
   "source": [
    "# A  can hold elements of different types\n",
    "# including lists and tuple\n",
    "x = (None, True, 10, 20.5, \"ABC\", [1, 2], (3, 4))\n",
    "print(x)\n",
    "print(type(x))"
   ]
  },
  {
   "cell_type": "code",
   "execution_count": 14,
   "id": "364cc118-0437-4c4b-9284-b45c85ca3fdc",
   "metadata": {},
   "outputs": [
    {
     "name": "stdout",
     "output_type": "stream",
     "text": [
      "('Apple', 'Banana', 'Orange', 'Peach', 'Guava', 'Watermelon', 'Pineapple')\n",
      "<class 'tuple'>\n"
     ]
    }
   ],
   "source": [
    "# If there are too much elements\n",
    "# You can arrange the elements in multiple lines\n",
    "x = (\"Apple\", \"Banana\", \"Orange\", \"Peach\",\n",
    "     \"Guava\", \"Watermelon\", \"Pineapple\")\n",
    "\n",
    "print(x)\n",
    "print(type(x))"
   ]
  },
  {
   "cell_type": "markdown",
   "id": "c64c7a55-1cea-47ba-a911-423d1d140aaf",
   "metadata": {},
   "source": [
    "## Index a tuple\n",
    "- Same as indexing a list\n",
    "- However, since a tuple is immutable, we don't have indexing (write)"
   ]
  },
  {
   "cell_type": "code",
   "execution_count": 15,
   "id": "e4f968bb-9039-4981-a5f3-718ece97ebc4",
   "metadata": {},
   "outputs": [
    {
     "data": {
      "text/plain": [
       "(1, 2, 3, 4, 5)"
      ]
     },
     "execution_count": 15,
     "metadata": {},
     "output_type": "execute_result"
    }
   ],
   "source": [
    "# Init a tuple\n",
    "x = (1, 2, 3, 4, 5)\n",
    "x"
   ]
  },
  {
   "cell_type": "code",
   "execution_count": 16,
   "id": "2fc9c675-84cf-498e-a605-1bac7937d7df",
   "metadata": {},
   "outputs": [
    {
     "data": {
      "text/plain": [
       "1"
      ]
     },
     "execution_count": 16,
     "metadata": {},
     "output_type": "execute_result"
    }
   ],
   "source": [
    "# Get the first element\n",
    "x[0]"
   ]
  },
  {
   "cell_type": "code",
   "execution_count": 17,
   "id": "40f54328-e32f-4c53-af9f-26e73db1b863",
   "metadata": {},
   "outputs": [
    {
     "data": {
      "text/plain": [
       "3"
      ]
     },
     "execution_count": 17,
     "metadata": {},
     "output_type": "execute_result"
    }
   ],
   "source": [
    "# Get the third element\n",
    "x[2]"
   ]
  },
  {
   "cell_type": "code",
   "execution_count": 18,
   "id": "8a86b597-50e3-4959-a18f-c59fbd6e9822",
   "metadata": {},
   "outputs": [
    {
     "data": {
      "text/plain": [
       "5"
      ]
     },
     "execution_count": 18,
     "metadata": {},
     "output_type": "execute_result"
    }
   ],
   "source": [
    "# Get the last element\n",
    "x[-1]"
   ]
  },
  {
   "cell_type": "markdown",
   "id": "be5fe2a6-01a4-4683-98f9-df6d51a96e55",
   "metadata": {},
   "source": [
    "## Slice a tuple\n",
    "- Same as slicing a list (but return a tuple)\n",
    "- We also don't have slicing (write)"
   ]
  },
  {
   "cell_type": "code",
   "execution_count": 19,
   "id": "6e482ffc-1f29-4bca-98f4-25cfa635c689",
   "metadata": {},
   "outputs": [
    {
     "data": {
      "text/plain": [
       "(1, 2, 3, 4, 5)"
      ]
     },
     "execution_count": 19,
     "metadata": {},
     "output_type": "execute_result"
    }
   ],
   "source": [
    "# Init a tuple\n",
    "x = (1, 2, 3, 4, 5)\n",
    "x"
   ]
  },
  {
   "cell_type": "code",
   "execution_count": 20,
   "id": "2b154ca7-290f-45f3-8b2d-12f2eff06154",
   "metadata": {},
   "outputs": [
    {
     "data": {
      "text/plain": [
       "(1, 2, 3)"
      ]
     },
     "execution_count": 20,
     "metadata": {},
     "output_type": "execute_result"
    }
   ],
   "source": [
    "# First 3 elements\n",
    "x[:3]"
   ]
  },
  {
   "cell_type": "code",
   "execution_count": 21,
   "id": "386f96ba-2ec3-4aa5-8cae-ad1a50f6d581",
   "metadata": {},
   "outputs": [
    {
     "data": {
      "text/plain": [
       "(3, 4, 5)"
      ]
     },
     "execution_count": 21,
     "metadata": {},
     "output_type": "execute_result"
    }
   ],
   "source": [
    "# Last 3 elements\n",
    "x[-3:]"
   ]
  },
  {
   "cell_type": "code",
   "execution_count": 22,
   "id": "9534d740-8bd1-41bf-be42-d5065ac35cca",
   "metadata": {},
   "outputs": [
    {
     "data": {
      "text/plain": [
       "(1, 3, 5)"
      ]
     },
     "execution_count": 22,
     "metadata": {},
     "output_type": "execute_result"
    }
   ],
   "source": [
    "# From beginning to end \n",
    "# but skip one between each jump\n",
    "x[::2]"
   ]
  },
  {
   "cell_type": "code",
   "execution_count": 23,
   "id": "d14102d0-d430-4583-95f1-dca0cb828cbf",
   "metadata": {},
   "outputs": [
    {
     "data": {
      "text/plain": [
       "(2, 3, 4, 5)"
      ]
     },
     "execution_count": 23,
     "metadata": {},
     "output_type": "execute_result"
    }
   ],
   "source": [
    "# No out-of-range error for slicing\n",
    "x[1:1000]"
   ]
  },
  {
   "cell_type": "markdown",
   "id": "37a341c8-1f53-47b3-8afc-93f2db87f30a",
   "metadata": {},
   "source": [
    "## Nested tuples\n",
    "- Same as lists, a tuple can contains other iterables including lists and tuples"
   ]
  },
  {
   "cell_type": "code",
   "execution_count": 24,
   "id": "ba881a5e-8d3b-41d4-95dc-33a01badc87c",
   "metadata": {},
   "outputs": [
    {
     "name": "stdout",
     "output_type": "stream",
     "text": [
      "(1, 2, (3, 4), [5, 6])\n"
     ]
    }
   ],
   "source": [
    "# Init\n",
    "x = (1, 2, (3, 4), [5, 6])\n",
    "print(x)"
   ]
  },
  {
   "cell_type": "code",
   "execution_count": 25,
   "id": "bfab6879-2fe4-4383-bc45-3f79be7ddbb7",
   "metadata": {},
   "outputs": [
    {
     "data": {
      "text/plain": [
       "(3, 4)"
      ]
     },
     "execution_count": 25,
     "metadata": {},
     "output_type": "execute_result"
    }
   ],
   "source": [
    "# Access the inner tuple\n",
    "x[2]"
   ]
  },
  {
   "cell_type": "code",
   "execution_count": 26,
   "id": "86a8d053-b111-42c3-a887-a1715e11a5ef",
   "metadata": {},
   "outputs": [
    {
     "data": {
      "text/plain": [
       "3"
      ]
     },
     "execution_count": 26,
     "metadata": {},
     "output_type": "execute_result"
    }
   ],
   "source": [
    "# Access the first element of inner tuple\n",
    "x[2][0]"
   ]
  },
  {
   "cell_type": "code",
   "execution_count": 27,
   "id": "de18c81c-6890-415f-bbdf-a3aeb0309746",
   "metadata": {},
   "outputs": [
    {
     "data": {
      "text/plain": [
       "[5, 6]"
      ]
     },
     "execution_count": 27,
     "metadata": {},
     "output_type": "execute_result"
    }
   ],
   "source": [
    "# Access the inner list\n",
    "x[-1]"
   ]
  },
  {
   "cell_type": "code",
   "execution_count": 28,
   "id": "16f6c90f-21c7-4680-9897-e8801372d27e",
   "metadata": {},
   "outputs": [
    {
     "data": {
      "text/plain": [
       "6"
      ]
     },
     "execution_count": 28,
     "metadata": {},
     "output_type": "execute_result"
    }
   ],
   "source": [
    "# Access the last element of inner list\n",
    "x[-1][-1]"
   ]
  },
  {
   "cell_type": "markdown",
   "id": "13fcab8c-8287-4810-b590-c241126c327b",
   "metadata": {},
   "source": [
    "## Iterate through a tuple\n",
    "- Same as lists, we can use a `for` loop"
   ]
  },
  {
   "cell_type": "code",
   "execution_count": 29,
   "id": "3bd6a1b0-e891-4c91-a1bd-43e5b173c570",
   "metadata": {},
   "outputs": [
    {
     "data": {
      "text/plain": [
       "(1, 2, 3, 4, 5)"
      ]
     },
     "execution_count": 29,
     "metadata": {},
     "output_type": "execute_result"
    }
   ],
   "source": [
    "# Init a tuple\n",
    "x = (1, 2, 3, 4, 5)\n"
   ]
  },
  {
   "cell_type": "code",
   "execution_count": 30,
   "id": "efde035a-7163-4eb3-adec-3c52e5cf27da",
   "metadata": {},
   "outputs": [
    {
     "name": "stdout",
     "output_type": "stream",
     "text": [
      "1\n",
      "4\n",
      "9\n",
      "16\n",
      "25\n"
     ]
    }
   ],
   "source": [
    "# Print out squares of elements\n",
    "for e in x:\n",
    "    print(e**2)"
   ]
  },
  {
   "cell_type": "markdown",
   "id": "0db69dec-068d-4237-ba21-f3dda7b9f552",
   "metadata": {},
   "source": [
    "## Mutablity\n",
    "- A tuple is immutable, meaning that we cannot change it\n",
    "- Each element hold a reference to an object, and that reference stays the same forever\n",
    "- However, if one of the element is of mutable type, then we can still modify that mutable object\n",
    "- Let's consider some examples"
   ]
  },
  {
   "cell_type": "code",
   "execution_count": 56,
   "id": "02e89a81-1444-419e-b657-d0059af4f1c4",
   "metadata": {},
   "outputs": [
    {
     "name": "stdout",
     "output_type": "stream",
     "text": [
      "(1, 2, [3, 4])\n",
      "<class 'tuple'>\n"
     ]
    }
   ],
   "source": [
    "# Init\n",
    "x = (1, 2, [3, 4])\n",
    "print(x)\n",
    "print(type(x))"
   ]
  },
  {
   "cell_type": "code",
   "execution_count": 57,
   "id": "cd414af0-b897-4a9d-9de4-565b98a6e042",
   "metadata": {},
   "outputs": [
    {
     "data": {
      "text/plain": [
       "[2400309963056, 2400309963088, 2400424707648]"
      ]
     },
     "execution_count": 57,
     "metadata": {},
     "output_type": "execute_result"
    }
   ],
   "source": [
    "# This tuple holds three elements pointing to 3 objects\n",
    "# with the following IDs\n",
    "[id(e) for e in x]"
   ]
  },
  {
   "cell_type": "code",
   "execution_count": 58,
   "id": "8fbd0d01-b97f-49eb-8678-26656272752f",
   "metadata": {},
   "outputs": [],
   "source": [
    "# If you try to modify an element through an assignment \n",
    "# you will get an error\n",
    "# Try with x[0] = \"A\" or x[-1] = \"A\""
   ]
  },
  {
   "cell_type": "code",
   "execution_count": 59,
   "id": "fc343579-4155-4703-b250-ab05fbdd525c",
   "metadata": {},
   "outputs": [
    {
     "data": {
      "text/plain": [
       "[3, 4]"
      ]
     },
     "execution_count": 59,
     "metadata": {},
     "output_type": "execute_result"
    }
   ],
   "source": [
    "# Notice that the last element of x is a list\n",
    "x[-1]"
   ]
  },
  {
   "cell_type": "code",
   "execution_count": 51,
   "id": "7796c2c8-5cbe-482f-b0eb-de5fc5c98213",
   "metadata": {},
   "outputs": [],
   "source": [
    "# A list is mutable, thus we can modify this list\n",
    "# Ex: replace the first element of this list with \"A\"\n",
    "x[-1][0] = \"A\""
   ]
  },
  {
   "cell_type": "code",
   "execution_count": 60,
   "id": "f7eb9353-7db5-47fc-a9c7-c7ce2ba37323",
   "metadata": {},
   "outputs": [
    {
     "data": {
      "text/plain": [
       "(1, 2, [3, 4])"
      ]
     },
     "execution_count": 60,
     "metadata": {},
     "output_type": "execute_result"
    }
   ],
   "source": [
    "# We see the change has been saved\n",
    "x"
   ]
  },
  {
   "cell_type": "code",
   "execution_count": 61,
   "id": "f57f7721-002e-4456-b938-ad3dd107614f",
   "metadata": {},
   "outputs": [
    {
     "data": {
      "text/plain": [
       "[2400309963056, 2400309963088, 2400424707648]"
      ]
     },
     "execution_count": 61,
     "metadata": {},
     "output_type": "execute_result"
    }
   ],
   "source": [
    "# But it doesn't mean the tuple changes\n",
    "# The tuple still holding the same references as before\n",
    "[id(e) for e in x]"
   ]
  },
  {
   "cell_type": "markdown",
   "id": "bd554728-6613-4886-b41b-58ac9bc75fae",
   "metadata": {},
   "source": [
    "## Copy a tuple"
   ]
  },
  {
   "cell_type": "markdown",
   "id": "60c26a41-1502-47f2-9677-d2cb6164d12a",
   "metadata": {},
   "source": [
    "### Shallow copying\n",
    "- There's no way to make a shallow copy of a tuple\n",
    "- A tuple doesn't have method `.copy()`\n",
    "- If you use `y = x[:]` or `y = tuple(x)`, it's aliasing, NOT copying"
   ]
  },
  {
   "cell_type": "code",
   "execution_count": 33,
   "id": "649cb36b-ce4a-4c16-b1a6-14b713a9a0e5",
   "metadata": {},
   "outputs": [
    {
     "name": "stdout",
     "output_type": "stream",
     "text": [
      "(1, 2, [3, 4])\n",
      "2400425012864\n"
     ]
    }
   ],
   "source": [
    "# Init a tuple\n",
    "x = (1, 2, [3, 4])\n",
    "print(x)\n",
    "print(id(x))"
   ]
  },
  {
   "cell_type": "code",
   "execution_count": 41,
   "id": "15266047-741d-448f-975e-3826bf373dbd",
   "metadata": {},
   "outputs": [
    {
     "name": "stdout",
     "output_type": "stream",
     "text": [
      "2400425012864\n",
      "2400425012864\n",
      "True\n"
     ]
    }
   ],
   "source": [
    "# Try with y = x[:]\n",
    "y = x[:]\n",
    "print(id(x))\n",
    "print(id(y))\n",
    "print(x is y)"
   ]
  },
  {
   "cell_type": "code",
   "execution_count": 42,
   "id": "5014ff6c-524f-4349-be18-478fd94e3aa1",
   "metadata": {},
   "outputs": [
    {
     "name": "stdout",
     "output_type": "stream",
     "text": [
      "2400425012864\n",
      "2400425012864\n",
      "True\n"
     ]
    }
   ],
   "source": [
    "# Try with y = tuple(x)\n",
    "y = x[:]\n",
    "print(id(x))\n",
    "print(id(y))\n",
    "print(x is y)"
   ]
  },
  {
   "cell_type": "markdown",
   "id": "4de62867-29cb-49da-9864-f267d74fb44f",
   "metadata": {},
   "source": [
    "### Deep copying\n",
    "Same as lists, we use `copy.deepcopy()`"
   ]
  },
  {
   "cell_type": "code",
   "execution_count": 63,
   "id": "77621f4b-acf9-41b4-afba-ee0c710169db",
   "metadata": {},
   "outputs": [
    {
     "name": "stdout",
     "output_type": "stream",
     "text": [
      "(1, 2, [3, 4])\n",
      "<class 'tuple'>\n",
      "2400396599936\n"
     ]
    }
   ],
   "source": [
    "# Init \n",
    "x = (1, 2, [3, 4])\n",
    "print(x)\n",
    "print(type(x))\n",
    "print(id(x))"
   ]
  },
  {
   "cell_type": "code",
   "execution_count": 64,
   "id": "5fd9519b-d99a-4e29-9d3c-39c1a30952dc",
   "metadata": {},
   "outputs": [],
   "source": [
    "# Import module copy\n",
    "import copy"
   ]
  },
  {
   "cell_type": "code",
   "execution_count": 65,
   "id": "a1b892fd-aa8a-452d-8d9a-8118a1a8f327",
   "metadata": {},
   "outputs": [],
   "source": [
    "# Make a deep copy\n",
    "y = copy.deepcopy(x)"
   ]
  },
  {
   "cell_type": "code",
   "execution_count": 66,
   "id": "830b7f97-3ceb-41d3-85d9-0afaa047c9ce",
   "metadata": {},
   "outputs": [
    {
     "name": "stdout",
     "output_type": "stream",
     "text": [
      "(1, 2, [3, 4])\n",
      "(1, 2, [3, 4])\n"
     ]
    }
   ],
   "source": [
    "# Verify that x and y have the same values\n",
    "print(x)\n",
    "print(y)"
   ]
  },
  {
   "cell_type": "code",
   "execution_count": 67,
   "id": "2d8e8498-5bf9-4741-b3ba-5fc9c7587f3a",
   "metadata": {},
   "outputs": [
    {
     "name": "stdout",
     "output_type": "stream",
     "text": [
      "2400396599936\n",
      "2400424971328\n",
      "False\n"
     ]
    }
   ],
   "source": [
    "# But they are different object\n",
    "print(id(x))\n",
    "print(id(y))\n",
    "print(x is y)"
   ]
  },
  {
   "cell_type": "code",
   "execution_count": 68,
   "id": "55550196-56ec-4e7b-91d7-d647423534c2",
   "metadata": {},
   "outputs": [],
   "source": [
    "# Now change 1st element of last element of x to False\n",
    "x[-1][0] = False"
   ]
  },
  {
   "cell_type": "code",
   "execution_count": 69,
   "id": "5552cf29-7602-4541-aacd-037395cae39f",
   "metadata": {},
   "outputs": [
    {
     "name": "stdout",
     "output_type": "stream",
     "text": [
      "(1, 2, [False, 4])\n",
      "(1, 2, [3, 4])\n"
     ]
    }
   ],
   "source": [
    "# We see that only x changes, y stays the same\n",
    "print(x)\n",
    "print(y)"
   ]
  },
  {
   "cell_type": "markdown",
   "id": "37a42559-b72b-4d1a-9c30-616f21900b76",
   "metadata": {},
   "source": [
    "## Operations on a tuple\n",
    "- Since tuples are immutale, we don't have **inplace operations**\n",
    "- Other regular operations are the same as lists"
   ]
  },
  {
   "cell_type": "markdown",
   "id": "f232cbdf-ff0a-4b6c-aee7-4ed80fbe0d25",
   "metadata": {},
   "source": [
    "## Unpack a tuple\n",
    "Same as lists"
   ]
  },
  {
   "cell_type": "code",
   "execution_count": 70,
   "id": "2c323dd7-e872-4ba2-8596-5c0731f37991",
   "metadata": {},
   "outputs": [
    {
     "data": {
      "text/plain": [
       "(2022, 4, 1)"
      ]
     },
     "execution_count": 70,
     "metadata": {},
     "output_type": "execute_result"
    }
   ],
   "source": [
    "# Init a tuple\n",
    "my_date = (2022, 4, 1)\n",
    "my_date"
   ]
  },
  {
   "cell_type": "code",
   "execution_count": 74,
   "id": "05aa0d27-9438-4e54-a2a8-09e28cd6f819",
   "metadata": {},
   "outputs": [
    {
     "name": "stdout",
     "output_type": "stream",
     "text": [
      "2022 4 1\n"
     ]
    }
   ],
   "source": [
    "# Unpack all\n",
    "y, m, d = my_date\n",
    "print(y, m, d)"
   ]
  },
  {
   "cell_type": "code",
   "execution_count": 75,
   "id": "43087fa7-2fdb-4b60-a63f-e722eb444c23",
   "metadata": {},
   "outputs": [
    {
     "name": "stdout",
     "output_type": "stream",
     "text": [
      "4 1\n"
     ]
    }
   ],
   "source": [
    "# Get date, month only\n",
    "_, m, d = my_date\n",
    "print(m, d)"
   ]
  },
  {
   "cell_type": "code",
   "execution_count": 77,
   "id": "b38c4814-f5f1-43a3-864d-74f0c4e57a1a",
   "metadata": {},
   "outputs": [
    {
     "name": "stdout",
     "output_type": "stream",
     "text": [
      "2022\n"
     ]
    }
   ],
   "source": [
    "# Get year only\n",
    "y, *_ = my_date\n",
    "print(y)"
   ]
  },
  {
   "cell_type": "code",
   "execution_count": 78,
   "id": "4f1207f7-2a80-4980-8756-16a4563d1de2",
   "metadata": {},
   "outputs": [
    {
     "name": "stdout",
     "output_type": "stream",
     "text": [
      "1\n"
     ]
    }
   ],
   "source": [
    "# Get date only\n",
    "*_, d = my_date\n",
    "print(d)"
   ]
  },
  {
   "cell_type": "markdown",
   "id": "e3f46466-6443-4286-92e6-343d7fa8da7f",
   "metadata": {},
   "source": [
    "## Tuple comprehensions\n",
    "- Same as list comprehensions\n",
    "- But the result will be a generator (for better performance)\n",
    "- We will learn about generators later"
   ]
  },
  {
   "cell_type": "code",
   "execution_count": 80,
   "id": "169e2691-bbba-48fb-a452-5d91eb042d9a",
   "metadata": {},
   "outputs": [
    {
     "data": {
      "text/plain": [
       "(1, 2, 5, -1, 4, 0, 7, -3, -2)"
      ]
     },
     "execution_count": 80,
     "metadata": {},
     "output_type": "execute_result"
    }
   ],
   "source": [
    "# Int\n",
    "x = (1, 2, 5, -1, 4, 0, 7, -3, -2)\n",
    "x"
   ]
  },
  {
   "cell_type": "code",
   "execution_count": 81,
   "id": "b4b86d35-39a7-4a09-ac8f-db63b8ce0710",
   "metadata": {},
   "outputs": [
    {
     "data": {
      "text/plain": [
       "<generator object <genexpr> at 0x0000022EE47A2660>"
      ]
     },
     "execution_count": 81,
     "metadata": {},
     "output_type": "execute_result"
    }
   ],
   "source": [
    "# Get squares of elements of x\n",
    "(e**2 for e in x)"
   ]
  },
  {
   "cell_type": "code",
   "execution_count": 84,
   "id": "c59adf19-a2cc-4d2e-9f7e-be639308c531",
   "metadata": {},
   "outputs": [
    {
     "data": {
      "text/plain": [
       "(1, 4, 25, 1, 16, 0, 49, 9, 4)"
      ]
     },
     "execution_count": 84,
     "metadata": {},
     "output_type": "execute_result"
    }
   ],
   "source": [
    "# We can use typecasting to convert it into a tuple\n",
    "tuple(e**2 for e in x)"
   ]
  },
  {
   "cell_type": "code",
   "execution_count": 86,
   "id": "e46907e5-51f4-48ee-a749-bd482a232186",
   "metadata": {},
   "outputs": [
    {
     "data": {
      "text/plain": [
       "(1, 5, -1, 7, -3)"
      ]
     },
     "execution_count": 86,
     "metadata": {},
     "output_type": "execute_result"
    }
   ],
   "source": [
    "# Get odd numbers only\n",
    "tuple(e for e in x if e % 2 != 0)"
   ]
  },
  {
   "cell_type": "code",
   "execution_count": 88,
   "id": "29fccc9b-23b4-44d1-92a4-32129371260a",
   "metadata": {},
   "outputs": [
    {
     "data": {
      "text/plain": [
       "(2, 4, 0)"
      ]
     },
     "execution_count": 88,
     "metadata": {},
     "output_type": "execute_result"
    }
   ],
   "source": [
    "# Get even and non-negative numbers only\n",
    "tuple(e for e in x if (e % 2 == 0) and (e >= 0))"
   ]
  },
  {
   "cell_type": "markdown",
   "id": "3ee41035-6afe-4d64-92f0-b69d44ecf3c8",
   "metadata": {},
   "source": [
    "## Summary\n",
    "\n",
    "**What is a list?**\n",
    "- An immutable sequence\n",
    "- Same as a list, except immutable\n",
    "\n",
    "**Create a tuple**\n",
    "- Method 1: `x = (1, 2, 3)`\n",
    "- Method 2: `x = 1, 2, 3`\n",
    "- For tuple of one element: `x = 1,` or `x = (1,)`\n",
    "\n",
    "**Index a tuple**\n",
    "- Same as lists\n",
    "- No indexing (write) operations\n",
    "\n",
    "**Slice a tuple**\n",
    "- Same as lists\n",
    "- No slicing (write) operations\n",
    "\n",
    "**Nested tuple**\n",
    "- Same as lists, a tuple can contains other iterables including lists and tuples\n",
    "\n",
    "**Iterate through a tuple**\n",
    "- Same as lists\n",
    "\n",
    "**Mutability**\n",
    "- A tuple is immutable, meaning that we cannot change it\n",
    "- Each element hold a reference to an object, and that reference stays the same forever\n",
    "- However, if one of the element is of mutable type, then we can still modify that mutable object\n",
    "\n",
    "**Copy a tuple**\n",
    "- No way to perform shallow copying on a tuple\n",
    "    - Tuples don't have `.copy()` method\n",
    "    - `y = x[:]` and `y = tuple(x)` is aliasing, not copying\n",
    "- Deep copying is the same as with lists\n",
    "\n",
    "**Operations on a tuple**\n",
    "- No inplace operations\n",
    "- Regular operations are the same as lists\n",
    "\n",
    "**Unpack a tuple**\n",
    "- Same as lists\n",
    "\n",
    "**Tuple comprehensions**\n",
    "- Same as lists, except that a generator will be returned"
   ]
  }
 ],
 "metadata": {
  "kernelspec": {
   "display_name": "Python 3 (ipykernel)",
   "language": "python",
   "name": "python3"
  },
  "language_info": {
   "codemirror_mode": {
    "name": "ipython",
    "version": 3
   },
   "file_extension": ".py",
   "mimetype": "text/x-python",
   "name": "python",
   "nbconvert_exporter": "python",
   "pygments_lexer": "ipython3",
   "version": "3.9.12"
  }
 },
 "nbformat": 4,
 "nbformat_minor": 5
}
