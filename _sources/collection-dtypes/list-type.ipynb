{
 "cells": [
  {
   "cell_type": "markdown",
   "id": "74907042-45c0-4c32-912c-4aa85f5b712e",
   "metadata": {},
   "source": [
    "# List type\n",
    "Author: Tue Nguyen"
   ]
  },
  {
   "cell_type": "markdown",
   "id": "cd93ab87-8847-43a1-8be9-5eafd90e6ff1",
   "metadata": {},
   "source": [
    "## Overview\n",
    "Topics covered in this lecture include\n",
    "- What is a list?\n",
    "- Create a list\n",
    "- Index a list: read & write\n",
    "- Slice a list: read & write\n",
    "- Nested lists\n",
    "- Iterate through a list\n",
    "- Mutability\n",
    "- Copy a list\n",
    "- Operations on a list\n",
    "- Unpack a list\n",
    "- List comprehensions"
   ]
  },
  {
   "cell_type": "markdown",
   "id": "e76eaacc-6303-44d8-870e-189f65e1c995",
   "metadata": {},
   "source": [
    "## What is a list?\n",
    "- The list type is one the 4 sequence types that we will learn in this series\n",
    "- Each element can be accessed using the list name and the element's index\n",
    "- Python start indexing from `0`\n",
    "- Negative index means counting from right to left\n",
    "- Lists are **mutable** meaning that they can change after created"
   ]
  },
  {
   "cell_type": "markdown",
   "id": "47797cce-9adb-4af1-baf9-1403baebc926",
   "metadata": {},
   "source": [
    "## Create a list\n",
    "- To create a list we use `[]` \n",
    "- Elements are separated by commas `,`"
   ]
  },
  {
   "cell_type": "code",
   "execution_count": 1,
   "id": "16f29376-c356-4356-ae37-754a98ccb990",
   "metadata": {},
   "outputs": [
    {
     "name": "stdout",
     "output_type": "stream",
     "text": [
      "[1, 2, 3, 4]\n",
      "<class 'list'>\n"
     ]
    }
   ],
   "source": [
    "# Init a list\n",
    "x = [1, 2, 3, 4]\n",
    "\n",
    "# Print value and type\n",
    "print(x)\n",
    "print(type(x))"
   ]
  },
  {
   "cell_type": "code",
   "execution_count": 2,
   "id": "6212f671-67f6-4442-9e60-96d920fa1e22",
   "metadata": {},
   "outputs": [
    {
     "name": "stdout",
     "output_type": "stream",
     "text": [
      "[None, True, 10, 20.5, 'ABC', [1, 2]]\n",
      "<class 'list'>\n"
     ]
    }
   ],
   "source": [
    "# A list can hold elements of different types\n",
    "# including lists\n",
    "x = [None, True, 10, 20.5, \"ABC\", [1, 2]]\n",
    "print(x)\n",
    "print(type(x))"
   ]
  },
  {
   "cell_type": "code",
   "execution_count": 3,
   "id": "364cc118-0437-4c4b-9284-b45c85ca3fdc",
   "metadata": {},
   "outputs": [
    {
     "name": "stdout",
     "output_type": "stream",
     "text": [
      "['Apple', 'Banana', 'Orange', 'Peach', 'Guava', 'Watermelon', 'Pineapple']\n",
      "<class 'list'>\n"
     ]
    }
   ],
   "source": [
    "# If there are too much elements\n",
    "# You can arrange the elements in multiple lines\n",
    "x = [\"Apple\", \"Banana\", \"Orange\", \"Peach\",\n",
    "    \"Guava\", \"Watermelon\", \"Pineapple\"]\n",
    "\n",
    "print(x)\n",
    "print(type(x))"
   ]
  },
  {
   "cell_type": "markdown",
   "id": "c64c7a55-1cea-47ba-a911-423d1d140aaf",
   "metadata": {},
   "source": [
    "## Index a list\n",
    "- Indexing a list means accessing **one single element** of a list\n",
    "- There are two type of indexing\n",
    "    - Indexing (read): access an element, read its value, but does not modify it\n",
    "    - Indexing (write): access an element, then modify it\n",
    "\n",
    "### Indexing (read)"
   ]
  },
  {
   "cell_type": "code",
   "execution_count": 4,
   "id": "e4f968bb-9039-4981-a5f3-718ece97ebc4",
   "metadata": {},
   "outputs": [
    {
     "data": {
      "text/plain": [
       "[1, 2, 3, 4, 5]"
      ]
     },
     "execution_count": 4,
     "metadata": {},
     "output_type": "execute_result"
    }
   ],
   "source": [
    "# Init a list\n",
    "x = [1, 2, 3, 4, 5]\n",
    "x"
   ]
  },
  {
   "cell_type": "code",
   "execution_count": 5,
   "id": "2fc9c675-84cf-498e-a605-1bac7937d7df",
   "metadata": {},
   "outputs": [
    {
     "data": {
      "text/plain": [
       "1"
      ]
     },
     "execution_count": 5,
     "metadata": {},
     "output_type": "execute_result"
    }
   ],
   "source": [
    "# Get the first element\n",
    "x[0]"
   ]
  },
  {
   "cell_type": "code",
   "execution_count": 6,
   "id": "40f54328-e32f-4c53-af9f-26e73db1b863",
   "metadata": {},
   "outputs": [
    {
     "data": {
      "text/plain": [
       "3"
      ]
     },
     "execution_count": 6,
     "metadata": {},
     "output_type": "execute_result"
    }
   ],
   "source": [
    "# Get the third element\n",
    "x[2]"
   ]
  },
  {
   "cell_type": "code",
   "execution_count": 7,
   "id": "8a86b597-50e3-4959-a18f-c59fbd6e9822",
   "metadata": {},
   "outputs": [
    {
     "data": {
      "text/plain": [
       "5"
      ]
     },
     "execution_count": 7,
     "metadata": {},
     "output_type": "execute_result"
    }
   ],
   "source": [
    "# Get the last element\n",
    "x[-1]"
   ]
  },
  {
   "cell_type": "code",
   "execution_count": 8,
   "id": "0fca43d1-971e-4aa3-a6d5-5d3f1f8bef27",
   "metadata": {},
   "outputs": [
    {
     "data": {
      "text/plain": [
       "4"
      ]
     },
     "execution_count": 8,
     "metadata": {},
     "output_type": "execute_result"
    }
   ],
   "source": [
    "# Get the second to last element\n",
    "x[-2]"
   ]
  },
  {
   "cell_type": "code",
   "execution_count": 9,
   "id": "83e528ad-bd6f-4a9d-9b5d-513858dd142b",
   "metadata": {},
   "outputs": [],
   "source": [
    "# If you index beyond beyond the range of a list\n",
    "# you will get an error: list index out of range\n",
    "# Try x[100] to see it"
   ]
  },
  {
   "cell_type": "markdown",
   "id": "6eb20e3b-bb58-4b72-90c5-91d7f7423b24",
   "metadata": {},
   "source": [
    "### Indexing (write)"
   ]
  },
  {
   "cell_type": "code",
   "execution_count": 10,
   "id": "ffa72398-795a-42be-a788-61b1d93569c3",
   "metadata": {},
   "outputs": [
    {
     "data": {
      "text/plain": [
       "[1, 2, 3, 4, 5]"
      ]
     },
     "execution_count": 10,
     "metadata": {},
     "output_type": "execute_result"
    }
   ],
   "source": [
    "# Init a list\n",
    "x = [1, 2, 3, 4, 5]\n",
    "x"
   ]
  },
  {
   "cell_type": "code",
   "execution_count": 11,
   "id": "9dd0c9c3-420d-4de4-b162-da2710dab846",
   "metadata": {},
   "outputs": [
    {
     "data": {
      "text/plain": [
       "[1, 2, 99, 4, 5]"
      ]
     },
     "execution_count": 11,
     "metadata": {},
     "output_type": "execute_result"
    }
   ],
   "source": [
    "# Change the third element to 99\n",
    "x[2] = 99\n",
    "x"
   ]
  },
  {
   "cell_type": "code",
   "execution_count": 12,
   "id": "5b4bef30-2c19-4a5f-8f5d-fb6e2c7c0fc0",
   "metadata": {},
   "outputs": [
    {
     "data": {
      "text/plain": [
       "[1, 2, 99, 4, 'Hello']"
      ]
     },
     "execution_count": 12,
     "metadata": {},
     "output_type": "execute_result"
    }
   ],
   "source": [
    "# Change the last element to \"Hello\"\n",
    "x[-1] = \"Hello\"\n",
    "x"
   ]
  },
  {
   "cell_type": "code",
   "execution_count": 13,
   "id": "818c821b-f3fd-4c6a-a606-237b5473898b",
   "metadata": {},
   "outputs": [
    {
     "data": {
      "text/plain": [
       "[2, 99, 4, 'Hello']"
      ]
     },
     "execution_count": 13,
     "metadata": {},
     "output_type": "execute_result"
    }
   ],
   "source": [
    "# Delete first element\n",
    "# Deletion is considered an indexing (write) because\n",
    "# we accesss the element using index, then modify (delete) it \n",
    "del x[0]\n",
    "x"
   ]
  },
  {
   "cell_type": "code",
   "execution_count": 14,
   "id": "98867743-fdcc-4875-bbd6-1f74460081d1",
   "metadata": {},
   "outputs": [
    {
     "data": {
      "text/plain": [
       "[99, 'Hello']"
      ]
     },
     "execution_count": 14,
     "metadata": {},
     "output_type": "execute_result"
    }
   ],
   "source": [
    "# Be careful when using del to delete multiple elements \n",
    "# because after each del, the list is shorter by one element\n",
    "# so you need to adjust the counting accordingly\n",
    "# Let's see this example\n",
    "del x[0], x[1]\n",
    "x"
   ]
  },
  {
   "cell_type": "markdown",
   "id": "be5fe2a6-01a4-4683-98f9-df6d51a96e55",
   "metadata": {},
   "source": [
    "## Slice a list\n",
    "- Indexing is accessing one single element at a time\n",
    "- Slicing accesses a bunch of elements (called a **slice**) simultaneously\n",
    "- As indexing, there are also 2 types of slicing\n",
    "    - Slicing (read): access a slice, but does not modify it\n",
    "    - Slicing (write): access a slice, then modify it"
   ]
  },
  {
   "cell_type": "markdown",
   "id": "f3e7a8d8-1901-484f-b3de-a43079615993",
   "metadata": {},
   "source": [
    "### Slicing (read)\n",
    "- To slice a list, we use the following syntax: `x[start:stop:step]`\n",
    "    - `x`: the name of the list\n",
    "    - `start`: starting position (will be **included** in the result)\n",
    "    - `stop`: ending position (will be **excluded** from the result)\n",
    "    - `step`: number of elements between each jump\n",
    "- In many cases, we want a consecutive slice (`step = 1`). If so, we can use `x[start:stop]` instead\n",
    "- Slicing a list is a bit tricky, but you will get used to it through practice"
   ]
  },
  {
   "cell_type": "code",
   "execution_count": 15,
   "id": "6e482ffc-1f29-4bca-98f4-25cfa635c689",
   "metadata": {},
   "outputs": [
    {
     "data": {
      "text/plain": [
       "[1, 2, 3, 4, 5]"
      ]
     },
     "execution_count": 15,
     "metadata": {},
     "output_type": "execute_result"
    }
   ],
   "source": [
    "# Init a list\n",
    "x = [1, 2, 3, 4, 5]\n",
    "x"
   ]
  },
  {
   "cell_type": "code",
   "execution_count": 16,
   "id": "2b154ca7-290f-45f3-8b2d-12f2eff06154",
   "metadata": {},
   "outputs": [
    {
     "data": {
      "text/plain": [
       "[1, 2, 3]"
      ]
     },
     "execution_count": 16,
     "metadata": {},
     "output_type": "execute_result"
    }
   ],
   "source": [
    "# Slice from the 1st to 3rd element\n",
    "# Remember start is included, stop is NOT included\n",
    "# and Python starts indexing at 0\n",
    "x[0:3:1]"
   ]
  },
  {
   "cell_type": "code",
   "execution_count": 17,
   "id": "386f96ba-2ec3-4aa5-8cae-ad1a50f6d581",
   "metadata": {},
   "outputs": [
    {
     "data": {
      "text/plain": [
       "[1, 2, 3]"
      ]
     },
     "execution_count": 17,
     "metadata": {},
     "output_type": "execute_result"
    }
   ],
   "source": [
    "# We can omit step when step = 1\n",
    "x[0:3]"
   ]
  },
  {
   "cell_type": "code",
   "execution_count": 18,
   "id": "c0e83fec-d663-426e-8c7d-d0123dd93001",
   "metadata": {},
   "outputs": [
    {
     "data": {
      "text/plain": [
       "[1, 2, 3]"
      ]
     },
     "execution_count": 18,
     "metadata": {},
     "output_type": "execute_result"
    }
   ],
   "source": [
    "# If we starts from the beginning of the list\n",
    "# we can omit the start\n",
    "x[:3]"
   ]
  },
  {
   "cell_type": "code",
   "execution_count": 19,
   "id": "9754124b-4f68-41cd-a317-b2f50972af89",
   "metadata": {},
   "outputs": [
    {
     "data": {
      "text/plain": [
       "[2, 3]"
      ]
     },
     "execution_count": 19,
     "metadata": {},
     "output_type": "execute_result"
    }
   ],
   "source": [
    "# Slice from 2nd to 3rd\n",
    "x[1:3]"
   ]
  },
  {
   "cell_type": "code",
   "execution_count": 20,
   "id": "e62a4b9c-9523-4f90-8d7e-33ea52679530",
   "metadata": {},
   "outputs": [
    {
     "data": {
      "text/plain": [
       "[2, 3, 4, 5]"
      ]
     },
     "execution_count": 20,
     "metadata": {},
     "output_type": "execute_result"
    }
   ],
   "source": [
    "# Slice from 2nd to last\n",
    "# The last element has index = 4\n",
    "# Thus we have to set stop = 5 \n",
    "# because stop is NOT included\n",
    "x[1:5]"
   ]
  },
  {
   "cell_type": "code",
   "execution_count": 21,
   "id": "c5a97ed4-cd1b-4361-a178-83b210d92d01",
   "metadata": {},
   "outputs": [
    {
     "data": {
      "text/plain": [
       "[2, 3, 4, 5]"
      ]
     },
     "execution_count": 21,
     "metadata": {},
     "output_type": "execute_result"
    }
   ],
   "source": [
    "# However, if we slice to the end of the list\n",
    "# we can omit stop\n",
    "# So better way is\n",
    "x[1:]"
   ]
  },
  {
   "cell_type": "code",
   "execution_count": 22,
   "id": "ecdc6ede-01c1-4c9c-a53f-1367e963ee9a",
   "metadata": {},
   "outputs": [
    {
     "data": {
      "text/plain": [
       "[1, 2, 3, 4, 5]"
      ]
     },
     "execution_count": 22,
     "metadata": {},
     "output_type": "execute_result"
    }
   ],
   "source": [
    "# We can slice from the 1st to last element\n",
    "# to make a shallow copy of x \n",
    "# (more on shallow copy later)\n",
    "x[:]"
   ]
  },
  {
   "cell_type": "code",
   "execution_count": 23,
   "id": "9534d740-8bd1-41bf-be42-d5065ac35cca",
   "metadata": {},
   "outputs": [
    {
     "data": {
      "text/plain": [
       "[1, 3, 5]"
      ]
     },
     "execution_count": 23,
     "metadata": {},
     "output_type": "execute_result"
    }
   ],
   "source": [
    "# Slice from 1st to last\n",
    "# But skip 1 element at a time\n",
    "x[::2]"
   ]
  },
  {
   "cell_type": "code",
   "execution_count": 24,
   "id": "d6546945-8448-40dd-8104-1f1c29137e76",
   "metadata": {},
   "outputs": [
    {
     "data": {
      "text/plain": [
       "[1, 4]"
      ]
     },
     "execution_count": 24,
     "metadata": {},
     "output_type": "execute_result"
    }
   ],
   "source": [
    "# Skip 2 elements at a time\n",
    "x[::3]"
   ]
  },
  {
   "cell_type": "code",
   "execution_count": 25,
   "id": "d14102d0-d430-4583-95f1-dca0cb828cbf",
   "metadata": {},
   "outputs": [
    {
     "data": {
      "text/plain": [
       "[2, 3, 4, 5]"
      ]
     },
     "execution_count": 25,
     "metadata": {},
     "output_type": "execute_result"
    }
   ],
   "source": [
    "# If we index beyond the range of a list\n",
    "# we won't get out-of-range error \n",
    "# Python will slice until the end of the list\n",
    "x[1:1000]"
   ]
  },
  {
   "cell_type": "code",
   "execution_count": 26,
   "id": "77688ed2-69ee-406d-98dc-8b498b9ce780",
   "metadata": {},
   "outputs": [
    {
     "data": {
      "text/plain": [
       "[4, 3, 2]"
      ]
     },
     "execution_count": 26,
     "metadata": {},
     "output_type": "execute_result"
    }
   ],
   "source": [
    "# How to slice from right to left\n",
    "# We can use a negative step to do this\n",
    "# But it might involve some ugly counting\n",
    "# Thus, the better way is to slice from left to right as usual\n",
    "# then reverse it using reverse()\n",
    "# reverse() returns an iterator, not a list\n",
    "# To get a list back, we perform typecasting using list()\n",
    "# Ex: get 4th, 3rd, 2nd elements in that order\n",
    "list(reversed(x[1:4]))"
   ]
  },
  {
   "cell_type": "code",
   "execution_count": 27,
   "id": "fc844429-1803-4973-924b-49cd107cca45",
   "metadata": {},
   "outputs": [
    {
     "data": {
      "text/plain": [
       "[4, 3, 2]"
      ]
     },
     "execution_count": 27,
     "metadata": {},
     "output_type": "execute_result"
    }
   ],
   "source": [
    "# If we don't use reverse, then the  solution is\n",
    "x[3:0:-1]"
   ]
  },
  {
   "cell_type": "code",
   "execution_count": 28,
   "id": "a2376dc7-df65-42bb-869c-c966a0331b4a",
   "metadata": {},
   "outputs": [
    {
     "data": {
      "text/plain": [
       "list_reverseiterator"
      ]
     },
     "execution_count": 28,
     "metadata": {},
     "output_type": "execute_result"
    }
   ],
   "source": [
    "type(reversed(x[1:4]))"
   ]
  },
  {
   "cell_type": "code",
   "execution_count": 29,
   "id": "7b6e4674-df91-4d46-84b0-23608e77819c",
   "metadata": {},
   "outputs": [
    {
     "name": "stdout",
     "output_type": "stream",
     "text": [
      "1\n",
      "[1]\n"
     ]
    }
   ],
   "source": [
    "# We also need to distinguish between indexing and slicing\n",
    "# even when we there is only one element in the slice\n",
    "# - Indexing returns an element of the list\n",
    "# - Slicing returns part of the list, so a slice is a list\n",
    "# Let's see the example below\n",
    "print(x[0])\n",
    "print(x[:1])"
   ]
  },
  {
   "cell_type": "markdown",
   "id": "6ac3fdd7-c318-4ba0-9a02-7439d1bf5108",
   "metadata": {},
   "source": [
    "### Slicing (write)"
   ]
  },
  {
   "cell_type": "code",
   "execution_count": 30,
   "id": "1509a996-16f1-40e7-ad9b-aaa9bc9efa00",
   "metadata": {},
   "outputs": [
    {
     "data": {
      "text/plain": [
       "[1, 2, 3, 4, 5]"
      ]
     },
     "execution_count": 30,
     "metadata": {},
     "output_type": "execute_result"
    }
   ],
   "source": [
    "# Init a list\n",
    "x = [1, 2, 3, 4, 5]\n",
    "x"
   ]
  },
  {
   "cell_type": "code",
   "execution_count": 31,
   "id": "ab66e146-db91-4ff2-995e-87ae0cf88579",
   "metadata": {},
   "outputs": [
    {
     "data": {
      "text/plain": [
       "[100, 200, 300, 4, 5]"
      ]
     },
     "execution_count": 31,
     "metadata": {},
     "output_type": "execute_result"
    }
   ],
   "source": [
    "# Replace 3 first elements with 100, 200, 300\n",
    "x[:3] = [100, 200, 300]\n",
    "x"
   ]
  },
  {
   "cell_type": "code",
   "execution_count": 32,
   "id": "ec387357-3911-412f-b2b1-9d5704b77679",
   "metadata": {},
   "outputs": [],
   "source": [
    "# If the value on the RHS is longer/shorter than the slice\n",
    "# the list will automatically expand/shrink accordingly"
   ]
  },
  {
   "cell_type": "code",
   "execution_count": 33,
   "id": "0f29f094-b1be-43dd-b671-9c4956695a0a",
   "metadata": {},
   "outputs": [
    {
     "data": {
      "text/plain": [
       "[98, 99, 4, 5]"
      ]
     },
     "execution_count": 33,
     "metadata": {},
     "output_type": "execute_result"
    }
   ],
   "source": [
    "# Ex 1: replace the first 3 elements to 99, 98\n",
    "x[:3] = [98, 99]\n",
    "x"
   ]
  },
  {
   "cell_type": "code",
   "execution_count": 34,
   "id": "32ea47cd-9370-43c6-bd0b-cec03ba420ba",
   "metadata": {},
   "outputs": [
    {
     "data": {
      "text/plain": [
       "[98, 99, 'A', 'B', 'C']"
      ]
     },
     "execution_count": 34,
     "metadata": {},
     "output_type": "execute_result"
    }
   ],
   "source": [
    "# Ex 2: replace the last 2 elements with \"A\", \"B\", and \"C\"\n",
    "x[-2:] = [\"A\", \"B\", \"C\"]\n",
    "x"
   ]
  },
  {
   "cell_type": "code",
   "execution_count": 35,
   "id": "1493fea6-318d-47fb-bb47-f478f251b307",
   "metadata": {},
   "outputs": [
    {
     "data": {
      "text/plain": [
       "[98, 'B', 'C']"
      ]
     },
     "execution_count": 35,
     "metadata": {},
     "output_type": "execute_result"
    }
   ],
   "source": [
    "# We can also delete a slice using del\n",
    "# Ex: delete 2nd and 3rd elements\n",
    "del x[1:3]\n",
    "x"
   ]
  },
  {
   "cell_type": "markdown",
   "id": "37a341c8-1f53-47b3-8afc-93f2db87f30a",
   "metadata": {},
   "source": [
    "## Nested lists"
   ]
  },
  {
   "cell_type": "code",
   "execution_count": 36,
   "id": "ba881a5e-8d3b-41d4-95dc-33a01badc87c",
   "metadata": {},
   "outputs": [
    {
     "name": "stdout",
     "output_type": "stream",
     "text": [
      "[1, 2, ['A', 'B', 'C', 'D']]\n"
     ]
    }
   ],
   "source": [
    "# A list who contains another list is a nested list\n",
    "x = [1, 2, [\"A\", \"B\", \"C\", \"D\"]]\n",
    "print(x)"
   ]
  },
  {
   "cell_type": "code",
   "execution_count": 37,
   "id": "bfab6879-2fe4-4383-bc45-3f79be7ddbb7",
   "metadata": {},
   "outputs": [
    {
     "data": {
      "text/plain": [
       "['A', 'B', 'C', 'D']"
      ]
     },
     "execution_count": 37,
     "metadata": {},
     "output_type": "execute_result"
    }
   ],
   "source": [
    "# The inner list is just a regular element of the outer list\n",
    "# and can be acccessed by indexing\n",
    "x[-1]"
   ]
  },
  {
   "cell_type": "code",
   "execution_count": 38,
   "id": "86a8d053-b111-42c3-a887-a1715e11a5ef",
   "metadata": {},
   "outputs": [
    {
     "data": {
      "text/plain": [
       "'A'"
      ]
     },
     "execution_count": 38,
     "metadata": {},
     "output_type": "execute_result"
    }
   ],
   "source": [
    "# Since the inner list is a list itself\n",
    "# we can perform indexing and slicing as usual\n",
    "# such as get the 1st element\n",
    "x[-1][0]"
   ]
  },
  {
   "cell_type": "code",
   "execution_count": 39,
   "id": "de18c81c-6890-415f-bbdf-a3aeb0309746",
   "metadata": {},
   "outputs": [
    {
     "data": {
      "text/plain": [
       "'D'"
      ]
     },
     "execution_count": 39,
     "metadata": {},
     "output_type": "execute_result"
    }
   ],
   "source": [
    "# Get last element\n",
    "x[-1][-1]"
   ]
  },
  {
   "cell_type": "code",
   "execution_count": 40,
   "id": "16f6c90f-21c7-4680-9897-e8801372d27e",
   "metadata": {},
   "outputs": [
    {
     "data": {
      "text/plain": [
       "['A', 'B', 'C']"
      ]
     },
     "execution_count": 40,
     "metadata": {},
     "output_type": "execute_result"
    }
   ],
   "source": [
    "# Get first 3 elements\n",
    "x[-1][:3]"
   ]
  },
  {
   "cell_type": "code",
   "execution_count": 41,
   "id": "3e20eb30-d534-47ef-aeef-d9c7b50d8c5b",
   "metadata": {},
   "outputs": [
    {
     "data": {
      "text/plain": [
       "[1, 2, ['A', 'Haha', 'C', 'D']]"
      ]
     },
     "execution_count": 41,
     "metadata": {},
     "output_type": "execute_result"
    }
   ],
   "source": [
    "# Overwrite 2nd element with \"Haha\"\n",
    "x[-1][1] = \"Haha\"\n",
    "x"
   ]
  },
  {
   "cell_type": "markdown",
   "id": "13fcab8c-8287-4810-b590-c241126c327b",
   "metadata": {},
   "source": [
    "## Iterate through a list\n",
    "\n",
    "### The `for` loop\n",
    "- We use a `for` loop to iterate through the elements of a list\n",
    "- Each time we visit an element is call an **iteration**\n",
    "- Collection types such as `list`, `tuple`, `set` are called **iterable** because we can iterate through their elements\n",
    "- The `for` loop will be discussed in detail in the \"Control flows\" section"
   ]
  },
  {
   "cell_type": "code",
   "execution_count": 42,
   "id": "3bd6a1b0-e891-4c91-a1bd-43e5b173c570",
   "metadata": {},
   "outputs": [
    {
     "data": {
      "text/plain": [
       "[1, 2, 3, 4, 5]"
      ]
     },
     "execution_count": 42,
     "metadata": {},
     "output_type": "execute_result"
    }
   ],
   "source": [
    "# Init a list\n",
    "x = [1, 2, 3, 4, 5]\n",
    "x"
   ]
  },
  {
   "cell_type": "code",
   "execution_count": 43,
   "id": "efde035a-7163-4eb3-adec-3c52e5cf27da",
   "metadata": {},
   "outputs": [
    {
     "name": "stdout",
     "output_type": "stream",
     "text": [
      "1\n",
      "4\n",
      "9\n",
      "16\n",
      "25\n"
     ]
    }
   ],
   "source": [
    "# Iterate through each element and print out its squares\n",
    "for e in x:\n",
    "    print(e**2)"
   ]
  },
  {
   "cell_type": "markdown",
   "id": "0d065fde-e7a4-4a38-85ee-1a7e4942fbc7",
   "metadata": {},
   "source": [
    "**What happened?**\n",
    "- In the first iteration, `e` was assigned the first element of `x`, which was `1` \n",
    "- Thus, `e**2` produced `1`\n",
    "- After this iteration, Python noticed that it had NOT reached the end of the list, so it move to the next iteration\n",
    "- This time, `e` was assigned the second element of `x`, which was `2`\n",
    "- Thus, `e**2` produced `4`\n",
    "- This logic happened again and again until Python finished the fifth iteration\n",
    "- This time, Python noticed that it already reached the end of the list, and the loop ended"
   ]
  },
  {
   "cell_type": "markdown",
   "id": "9a83853b-866e-4671-b7ba-24649c759ade",
   "metadata": {},
   "source": [
    "### Notes on indentation\n",
    "- Notice the **indentation** in the above example\n",
    "- `print(e**2)` is **indented in** (indented to the right) one TAB\n",
    "- This indentation indicates that the indented block of code lie **inside** (NOT parallel to) the `for` loop\n",
    "- Thus, it will be executed in each iteration\n",
    "- Let's consider two examples"
   ]
  },
  {
   "cell_type": "code",
   "execution_count": 44,
   "id": "47a3db72-0b19-4cb0-a07b-712a82beb278",
   "metadata": {},
   "outputs": [
    {
     "name": "stdout",
     "output_type": "stream",
     "text": [
      "1\n",
      "4\n",
      "9\n",
      "16\n",
      "25\n"
     ]
    }
   ],
   "source": [
    "# Ex 1\n",
    "# In this example, both the assignment and print statement\n",
    "# are indented in (inside the for loop)\n",
    "# Thus, both statements are executed 5 times\n",
    "# we can see that 5 outputs are printed out\n",
    "for e in x:\n",
    "    squared = e**2\n",
    "    print(squared)"
   ]
  },
  {
   "cell_type": "code",
   "execution_count": 45,
   "id": "6b0f1dd4-2f1b-4c77-8bb6-db932b10497d",
   "metadata": {},
   "outputs": [
    {
     "name": "stdout",
     "output_type": "stream",
     "text": [
      "25\n"
     ]
    }
   ],
   "source": [
    "# Ex 2\n",
    "# In this example, only the assignment is indented in\n",
    "# so the assignment is executed 5 times\n",
    "# However, the print statement is not inside the for loop\n",
    "# but it lies parallel to the for loop\n",
    "# Thus, it is executed only when the for loop ends\n",
    "# At this stage, variable squared has the value 25\n",
    "# and you see this value 25 being printed out only once\n",
    "for e in x:\n",
    "    squared = e**2\n",
    "print(squared)"
   ]
  },
  {
   "cell_type": "markdown",
   "id": "4d4ecce4-e6b7-48cf-9a97-44d77eafab9d",
   "metadata": {},
   "source": [
    "### Notes on the temporary variable `e`\n",
    "- You should think of variable `e` in the above example as an temporary variable to get access to each element of the list `x`\n",
    "- Thus, you can use whatever name you want such as `i`, `j`, or `element`\n",
    "- However, remember to use the same name both in the `for` statement and within the for loop"
   ]
  },
  {
   "cell_type": "code",
   "execution_count": 46,
   "id": "2a0ba480-6d16-45d3-916c-5fec4bdd60f0",
   "metadata": {},
   "outputs": [
    {
     "name": "stdout",
     "output_type": "stream",
     "text": [
      "25\n",
      "25\n",
      "25\n",
      "25\n",
      "25\n"
     ]
    }
   ],
   "source": [
    "# Ex 1\n",
    "for i in x:\n",
    "    print(e**2)"
   ]
  },
  {
   "cell_type": "markdown",
   "id": "99e1ae46-3988-41a3-bdf8-e894fa04d831",
   "metadata": {},
   "source": [
    "**What happened?**\n",
    "- Here, Python iterated through all the element of `x`\n",
    "- In each iteration, `i` indeed took the value of the corresponding element of `x`\n",
    "- However, we mistakenly use `e**2` instead of `i**2` in `print()`\n",
    "- From the last example, we know that `e` took the value `5`\n",
    "- That 's why we see `25` being printed 5 times "
   ]
  },
  {
   "cell_type": "code",
   "execution_count": 47,
   "id": "77ad8b6f-e34f-4414-8a31-74acb4758786",
   "metadata": {},
   "outputs": [
    {
     "name": "stdout",
     "output_type": "stream",
     "text": [
      "1\n",
      "4\n",
      "9\n",
      "16\n",
      "25\n"
     ]
    }
   ],
   "source": [
    "# Ex 2\n",
    "# Now, change e in print() to i\n",
    "# We see everything works correctly\n",
    "for i in x:\n",
    "    print(i**2)"
   ]
  },
  {
   "cell_type": "markdown",
   "id": "669fd6c7-87f8-47d8-9a08-3bc3a0b0615a",
   "metadata": {},
   "source": [
    "### More examples with the `for` loop"
   ]
  },
  {
   "cell_type": "markdown",
   "id": "540b27dc-f366-4161-aa4f-a79e2c94a2d2",
   "metadata": {},
   "source": [
    "**Ex 1: print out the following text**\n",
    "\n",
    "```text\n",
    "1 squared = 1\n",
    "2 squared = 4\n",
    "...\n",
    "10 squared = 100\n",
    "```"
   ]
  },
  {
   "cell_type": "code",
   "execution_count": 48,
   "id": "a7bdd9d7-ca38-46f2-9c48-1dcec05e2929",
   "metadata": {},
   "outputs": [
    {
     "name": "stdout",
     "output_type": "stream",
     "text": [
      "1 squared = 1\n",
      "2 squared = 4\n",
      "3 squared = 9\n",
      "4 squared = 16\n",
      "5 squared = 25\n",
      "6 squared = 36\n",
      "7 squared = 49\n",
      "8 squared = 64\n",
      "9 squared = 81\n",
      "10 squared = 100\n"
     ]
    }
   ],
   "source": [
    "# Solution\n",
    "x = [1, 2, 3, 4, 5, 6, 7, 8, 9, 10]\n",
    "\n",
    "for e in x:\n",
    "    print(f\"{e} squared = {e**2}\")"
   ]
  },
  {
   "cell_type": "markdown",
   "id": "04a70498-f51e-4611-a731-8a737998a779",
   "metadata": {},
   "source": [
    "**Ex 2: filtering values**\n",
    "\n",
    "Create a list `x = [1, 2, -7, 8, -9, -4, 10, 30]` and then\n",
    "- Print out only positive values of x\n",
    "- Print out only even values of x\n",
    "- Print out only positive and even values of x"
   ]
  },
  {
   "cell_type": "code",
   "execution_count": 49,
   "id": "79a483e9-4009-4a38-9d3d-23330ee0f43d",
   "metadata": {},
   "outputs": [],
   "source": [
    "# Init a list\n",
    "x = [1, 2, -7, 8, -9, -4, 10, 30]"
   ]
  },
  {
   "cell_type": "code",
   "execution_count": 50,
   "id": "69d2a524-add0-47b5-a0a3-faaeb80e3d97",
   "metadata": {},
   "outputs": [
    {
     "name": "stdout",
     "output_type": "stream",
     "text": [
      "1\n",
      "2\n",
      "8\n",
      "10\n",
      "30\n"
     ]
    }
   ],
   "source": [
    "# Print out positive values\n",
    "for e in x:\n",
    "    if e > 0:\n",
    "        print(e)"
   ]
  },
  {
   "cell_type": "code",
   "execution_count": 51,
   "id": "ae5e946b-8ebf-4081-b630-9611bdebec4c",
   "metadata": {},
   "outputs": [
    {
     "name": "stdout",
     "output_type": "stream",
     "text": [
      "2\n",
      "8\n",
      "-4\n",
      "10\n",
      "30\n"
     ]
    }
   ],
   "source": [
    "# Print out even values\n",
    "for e in x:\n",
    "    if e % 2 == 0:\n",
    "        print(e)"
   ]
  },
  {
   "cell_type": "code",
   "execution_count": 52,
   "id": "2deaad5e-7af1-4e24-9a06-429b3c23163c",
   "metadata": {},
   "outputs": [
    {
     "name": "stdout",
     "output_type": "stream",
     "text": [
      "2\n",
      "8\n",
      "10\n",
      "30\n"
     ]
    }
   ],
   "source": [
    "# Print out positive and even values\n",
    "for e in x:\n",
    "    if (e > 0) and (e % 2 == 0):\n",
    "        print(e)"
   ]
  },
  {
   "cell_type": "markdown",
   "id": "f2d68d2e-75a5-49b0-92db-d307797a06fe",
   "metadata": {},
   "source": [
    "**Ex 3: counting**\n",
    "\n",
    "Count the number of students who passed the exam from the list of scores `[1, 2, 7, 9, 10, 10, 3, 4, 8]` (assume that passing mean score `>=4`)"
   ]
  },
  {
   "cell_type": "code",
   "execution_count": 53,
   "id": "64c27296-50af-4d2c-9296-a8aef293cbe0",
   "metadata": {},
   "outputs": [
    {
     "data": {
      "text/plain": [
       "6"
      ]
     },
     "execution_count": 53,
     "metadata": {},
     "output_type": "execute_result"
    }
   ],
   "source": [
    "# Init scores\n",
    "scores = [1, 2, 7, 9, 10, 10, 3, 4, 8]\n",
    "\n",
    "# Init the number of students who passed\n",
    "num_passed = 0\n",
    "\n",
    "# Iterate through every score\n",
    "for s in scores:\n",
    "    if s >= 4:\n",
    "        # If we find a pass, then increase num_passed by 1\n",
    "        num_passed = num_passed + 1\n",
    "        \n",
    "# After the loop is done,\n",
    "# let's check how many passes we have counted\n",
    "num_passed"
   ]
  },
  {
   "cell_type": "markdown",
   "id": "d09ad804-4a7c-4cca-bef7-4ca7cc638539",
   "metadata": {},
   "source": [
    "## Mutability\n",
    "\n",
    "- Lists are called **mutable**, meaning that we can change (mutate) aftrer created\n",
    "- The opposite of mutable is **immutable**\n",
    "- And all the flat types we have learned so far are immutable"
   ]
  },
  {
   "cell_type": "markdown",
   "id": "6f7df1ad-db4e-4112-86dd-4b35ae18e023",
   "metadata": {},
   "source": [
    "### Remark 1\n",
    "- Mutability is a property of an object, not of a variable\n",
    "- When an object is created, it has a data type that stays with it forever\n",
    "- That data type specifies whether the object is mutable or immutable\n",
    "- A variable is just a label\n",
    "    - We can paste the label on an immutable object\n",
    "    - But we can then take the label away and paste it on a mutable object\n",
    "    - Thus, when we say `x` is mutable, the correct interpretation should be that \"the object that `x` is currently referring to is mutable\"\n",
    "- Let's consider some example"
   ]
  },
  {
   "cell_type": "code",
   "execution_count": 54,
   "id": "2aee9964-a3f9-44de-af7f-827c03b63757",
   "metadata": {},
   "outputs": [
    {
     "data": {
      "text/plain": [
       "2551759464880"
      ]
     },
     "execution_count": 54,
     "metadata": {},
     "output_type": "execute_result"
    }
   ],
   "source": [
    "# Python evaluates the RHS and comes up with 5 (an int)\n",
    "# Since int type is immutable, the object holding 5 is mutable\n",
    "# We don't say variable x is mutable\n",
    "x = 5\n",
    "\n",
    "# This is the ID of the object that x is pointing to\n",
    "id(x)"
   ]
  },
  {
   "cell_type": "code",
   "execution_count": 55,
   "id": "17203ed5-d3a1-4b6f-accc-17b2c95cc2ac",
   "metadata": {},
   "outputs": [
    {
     "data": {
      "text/plain": [
       "2551759465040"
      ]
     },
     "execution_count": 55,
     "metadata": {},
     "output_type": "execute_result"
    }
   ],
   "source": [
    "# What if we re-assign x to another int?\n",
    "# Python will create a different object\n",
    "# and the old object (with ID obove) will be destroyed\n",
    "x = 10\n",
    "\n",
    "# You see x is pointing to another object with different ID\n",
    "# So in fact, we did NOT replace value 5 in the old object with 10\n",
    "# What we did is changing the location that x pointed to\n",
    "# Thus, because we can change value of x from 5 to 10 doesn't make x mutable\n",
    "# Remember, mutability is a property of an OBJECT, not of a variable\n",
    "id(x)"
   ]
  },
  {
   "cell_type": "code",
   "execution_count": 56,
   "id": "07caf4c7-4f88-4cf7-8605-90fb74ddc3ee",
   "metadata": {},
   "outputs": [
    {
     "data": {
      "text/plain": [
       "2551845468800"
      ]
     },
     "execution_count": 56,
     "metadata": {},
     "output_type": "execute_result"
    }
   ],
   "source": [
    "# Now re-assign x to a list\n",
    "# Python evaluates the RHS and sees a list\n",
    "# then an mutable object of type list is created\n",
    "x = [1, 2, 3]\n",
    "\n",
    "# Here is the ID of that object\n",
    "id(x)"
   ]
  },
  {
   "cell_type": "code",
   "execution_count": 57,
   "id": "c837cdff-970e-4902-bdf0-9337c5cce28c",
   "metadata": {},
   "outputs": [
    {
     "name": "stdout",
     "output_type": "stream",
     "text": [
      "[99, 2, 3]\n",
      "2551845468800\n"
     ]
    }
   ],
   "source": [
    "# Now, replace the 1st element with 99\n",
    "x[0] = 99\n",
    "\n",
    "# You see that the list content has changed\n",
    "# but the ID stays the same\n",
    "# This is what we meant when saying a list is mutable\n",
    "print(x)\n",
    "print(id(x))"
   ]
  },
  {
   "cell_type": "code",
   "execution_count": 58,
   "id": "33a9c496-6613-491b-9702-359e288fe18b",
   "metadata": {},
   "outputs": [
    {
     "name": "stdout",
     "output_type": "stream",
     "text": [
      "[99, 2, 3, 'A']\n",
      "2551845468800\n"
     ]
    }
   ],
   "source": [
    "# Now, append a new element to a list\n",
    "x.append(\"A\")\n",
    "\n",
    "# The object still stays the same, only its content change\n",
    "print(x)\n",
    "print(id(x))"
   ]
  },
  {
   "cell_type": "markdown",
   "id": "0ee8d1f2-4a45-4515-980c-fe58dcb1fd00",
   "metadata": {},
   "source": [
    "### Remark 2\n",
    "- A mutable object is a box that can change what it stores inside\n",
    "- An immutable object is a box that is fixed: once created, it stays the same until being destroyed by the garbage collector\n",
    "- An object of flat types such as `bool`, `int`, or `float` is immutable\n",
    "    - Once created, it holds the initial value until it dies\n",
    "    - We can do things like `.append()` or `x[0] = <new_value>` as we saw with a list"
   ]
  },
  {
   "cell_type": "markdown",
   "id": "5fdf6160-7ef4-42f0-9712-a548d1dd1c5e",
   "metadata": {},
   "source": [
    "### Remark 3\n",
    "**Question**\n",
    "\n",
    "- Mutable types are more flexible, so why do we need immutable types?\n",
    "- Why don't we mark `int` or `float` mutable?\n",
    "\n",
    "**Answer**\n",
    "- Immutable offers some advantages\n",
    "    - Readability\n",
    "    - Performance\n",
    "    - Security\n",
    "- Readability\n",
    "    - When we see a float or tuple, we are confident that its value stays the same forever\n",
    "    - But when we see a list, it's harder to reason about its content because it might change at different stages\n",
    "    - So we need to pay more attention to all possible scenarios to make sure our program will work as expected\n",
    "- Performance\n",
    "    - Sometimes using immutable objects make computation faster\n",
    "    - It is because the program know in advance what is inside the box\n",
    "    - When dealing with mutable objects, some checking might be needed to see if the content in the box is allowed for the computation\n",
    "    - The overhead from this checking procedure might hurt run-time performance\n",
    "- Security\n",
    "    - In many cases, we know for sure that they never change during the life cycle of a program (Ex: constants)\n",
    "    - Using immutable types prevent these constants from being modified either accidentally or intentionally\n",
    "    - Or when passing a list to a function, we might worry that the function will modify the original list and, this might cause unwanted effect when the list is used elsewhere later\n",
    "    - So without looking at the whole code of the function, we will never be sure\n",
    "    - But if we pass a float or a tuple to a function, we are completely safe\n",
    "- For a more technical discussion, see [here](https://www.quora.com/Why-is-immutability-so-important-in-software-development/answer/Yassine-Alouini?ch=10&oid=49223480&share=22c9a5eb&srid=7GHi&target_type=answer)"
   ]
  },
  {
   "cell_type": "markdown",
   "id": "bd554728-6613-4886-b41b-58ac9bc75fae",
   "metadata": {},
   "source": [
    "## Copy a list"
   ]
  },
  {
   "cell_type": "markdown",
   "id": "c6931871-d5b4-4efc-9730-2b221d6ab091",
   "metadata": {},
   "source": [
    "### Aliasing"
   ]
  },
  {
   "cell_type": "code",
   "execution_count": 59,
   "id": "f96042e1-7687-42bd-a453-071e988e2851",
   "metadata": {},
   "outputs": [
    {
     "name": "stdout",
     "output_type": "stream",
     "text": [
      "[1, 2, 3]\n",
      "2551863315648\n"
     ]
    }
   ],
   "source": [
    "# Init a list\n",
    "x = [1, 2, 3]\n",
    "\n",
    "# See the value and ID\n",
    "print(x)\n",
    "print(id(x))"
   ]
  },
  {
   "cell_type": "code",
   "execution_count": 60,
   "id": "7d297921-083b-45cd-9197-8d210da25f64",
   "metadata": {},
   "outputs": [],
   "source": [
    "# Now perform the assignment y = x\n",
    "# Many think we are COPYING x to y\n",
    "# But it is NOT true\n",
    "y = x"
   ]
  },
  {
   "cell_type": "code",
   "execution_count": 61,
   "id": "e5de08ab-3ff2-48ea-876d-a3e22a6a53a3",
   "metadata": {},
   "outputs": [
    {
     "name": "stdout",
     "output_type": "stream",
     "text": [
      "2551863315648\n",
      "2551863315648\n",
      "True\n"
     ]
    }
   ],
   "source": [
    "# We already knew that the above assignment won't create a new object\n",
    "# After the assignment, both x and y are poiting to the same object\n",
    "# Thus, y is consider an ALIAS (or a nickname of x)\n",
    "# There is no copying here\n",
    "print(id(x))\n",
    "print(id(y))\n",
    "print(x is y)"
   ]
  },
  {
   "cell_type": "code",
   "execution_count": 62,
   "id": "e1eb0203-d272-48c3-a77c-84ea49e0c6d7",
   "metadata": {},
   "outputs": [],
   "source": [
    "# Let's try to change 1st element of x to 99\n",
    "x[0] = 99"
   ]
  },
  {
   "cell_type": "code",
   "execution_count": 63,
   "id": "87553a6b-84e9-437a-b763-9b4e799eacd1",
   "metadata": {},
   "outputs": [
    {
     "name": "stdout",
     "output_type": "stream",
     "text": [
      "[99, 2, 3]\n",
      "[99, 2, 3]\n"
     ]
    }
   ],
   "source": [
    "# We see the change is reflected in both x and y\n",
    "print(x)\n",
    "print(y)"
   ]
  },
  {
   "cell_type": "markdown",
   "id": "60c26a41-1502-47f2-9677-d2cb6164d12a",
   "metadata": {},
   "source": [
    "### Shallow copying"
   ]
  },
  {
   "cell_type": "code",
   "execution_count": 64,
   "id": "649cb36b-ce4a-4c16-b1a6-14b713a9a0e5",
   "metadata": {},
   "outputs": [
    {
     "name": "stdout",
     "output_type": "stream",
     "text": [
      "[1, 2, [88, 99]]\n",
      "2551863374528\n"
     ]
    }
   ],
   "source": [
    "# Init a list\n",
    "x = [1, 2, [88, 99]]\n",
    "\n",
    "# Print values and ID\n",
    "print(x)\n",
    "print(id(x))"
   ]
  },
  {
   "cell_type": "code",
   "execution_count": 65,
   "id": "15266047-741d-448f-975e-3826bf373dbd",
   "metadata": {},
   "outputs": [],
   "source": [
    "# Make a shallow copy using method .copy\n",
    "y = x.copy()"
   ]
  },
  {
   "cell_type": "code",
   "execution_count": 66,
   "id": "5014ff6c-524f-4349-be18-478fd94e3aa1",
   "metadata": {},
   "outputs": [
    {
     "name": "stdout",
     "output_type": "stream",
     "text": [
      "[1, 2, [88, 99]]\n",
      "[1, 2, [88, 99]]\n"
     ]
    }
   ],
   "source": [
    "# Verify x and y hold the same values\n",
    "print(x)\n",
    "print(y)"
   ]
  },
  {
   "cell_type": "code",
   "execution_count": 67,
   "id": "3c608228-50d3-4aa2-9d23-b444a33e71fc",
   "metadata": {},
   "outputs": [
    {
     "name": "stdout",
     "output_type": "stream",
     "text": [
      "2551863374528\n",
      "2551863338176\n",
      "False\n"
     ]
    }
   ],
   "source": [
    "# But they are pointing to different objects\n",
    "print(id(x))\n",
    "print(id(y))\n",
    "print(x is y)"
   ]
  },
  {
   "cell_type": "code",
   "execution_count": 68,
   "id": "06a1d35c-19b7-4a85-8f17-07743653f0be",
   "metadata": {},
   "outputs": [
    {
     "name": "stdout",
     "output_type": "stream",
     "text": [
      "[True, 2, [88, 99]]\n",
      "[1, 2, [88, 99]]\n"
     ]
    }
   ],
   "source": [
    "# EXAMPLE 1\n",
    "# Now try to change the 1st element of x\n",
    "x[0] = True\n",
    "\n",
    "# We see that only x change, y stays the same\n",
    "print(x)\n",
    "print(y)"
   ]
  },
  {
   "cell_type": "code",
   "execution_count": 69,
   "id": "77fbc135-a419-47b2-9b69-e24b432d62b0",
   "metadata": {},
   "outputs": [
    {
     "name": "stdout",
     "output_type": "stream",
     "text": [
      "[True, 2, [False, 99]]\n",
      "[1, 2, [False, 99]]\n"
     ]
    }
   ],
   "source": [
    "# EXAMPLE 2\n",
    "# Now notice the last element of x is a list\n",
    "# Try to change the 1st element of this list through x\n",
    "x[-1][0] = False\n",
    "\n",
    "# We see the change is reflected in both x and y\n",
    "print(x)\n",
    "print(y)"
   ]
  },
  {
   "cell_type": "code",
   "execution_count": 70,
   "id": "db268294-13e7-430c-8935-a259b8eb79c4",
   "metadata": {},
   "outputs": [
    {
     "name": "stdout",
     "output_type": "stream",
     "text": [
      "[True, 2, 'Apple']\n",
      "[1, 2, [False, 99]]\n"
     ]
    }
   ],
   "source": [
    "# EXAMPLE 3\n",
    "# Now replace the last element of x with \"Apple\"\n",
    "x[-1] = \"Apple\"\n",
    "\n",
    "# We see that the change is reflected in x only\n",
    "print(x)\n",
    "print(y)"
   ]
  },
  {
   "cell_type": "markdown",
   "id": "9a4d6c52-4682-48cc-9a67-4794f30a24f7",
   "metadata": {},
   "source": [
    "**What happened?**\n",
    "- When we perform `x = [1, 2, [88, 99]]`\n",
    "    - First Python creates 3 objects \n",
    "        - Object `A1` of type `int` to hold value `1`\n",
    "        - Object `A2` of type `int` to hold value `2`\n",
    "        - Object `A3` of type `list` to hold value `[88, 99]`\n",
    "    - Then Python creates another object `A` of type `list` to hold **references** to `A1`, `A2`, and `A3`\n",
    "    - Thus, each element of `x` is in fact a reference to an object, not value `1`, `2`, or `[88, 99]`\n",
    "- When we run `x[0]`, we get `1` because Python looks at `x[0]` and sees a reference to `A1`, then Python finds the box `A1`, opens it, and returns the value inside, which is `1`\n",
    "- When we perform `y = x.copy()`, Python creates another object, says `B`, and copies over all elements of `A` (the object that `x` is pointing to) to `B`, then Python points `y` to `B`\n",
    "- Thus `y` and `x` now contain the same references to `A1`, `A2`, `A3`\n",
    "- Notice that `A1` and `A2` are `int` objects and thus immutable\n",
    "- However, `A3` is a `list` object and thus mutable\n",
    "\n",
    "In EXAMPLE 1: we perform `x[0] = True`\n",
    "- An object is created, says `A1b`, to hold the value `True`\n",
    "- Then Python deletes the binding between `x[0]` with `A1` (holding value `1`) and establishes a new binding between `x[0]` and `A1b` (holding value `True`)\n",
    "- Thus, `print(x)` gives us `[True, 2, [88, 99]]`\n",
    "- However, `y[0]` is still referring to the box `A1`, and thus `A1` is not destroyed by the garbage collector\n",
    "- And print `print(y)` gives us `[1, 2, [88, 99]]`\n",
    "\n",
    "In EXAMPLE 2: we perform `x[-1][0] = False`\n",
    "- `x[-1]` gives the reference to the box `A3`\n",
    "- This box is also a list itself, so it contains references to 2 other objects holding `88` and `99`\n",
    "- Thus `x[-1][0]` gives us the reference to the object holding `88`\n",
    "- And `x[-1][0] = False` updates the first element of `A3`, pointing it to a new object holding `False`\n",
    "- So `A3` itself doesn't change, but only its first element changes\n",
    "- Since both `x[-1]` and `y[-1]` are still pointing to `A3`, we can see the change is reflected in both `x` and `y`\n",
    "\n",
    "In EXAMPLE 3: we perform `x[-1] = \"Apple\"`\n",
    "- Python creates a new object, says `A3b`, to hold `\"Apple\"`\n",
    "- Then it deletes the binding between `x[-1]` and `A3` and establishes a new binding between `x[-1]` and `A3b`\n",
    "- `A3` is not destroyed because `y[-1]` is still pointing to it\n",
    "- Thus, `x` now holds the references to `A1b`, `A2`, `A3b` (with the corresponding values `True`, `2`, `\"Apple\"`)\n",
    "- And `y` now holds the references to `A1`, `A2`, `A3` (with the corresponding values `1`, `2`, `[False, 99]`)"
   ]
  },
  {
   "cell_type": "markdown",
   "id": "f4970e16-76f6-4400-8da1-49d058fddca8",
   "metadata": {},
   "source": [
    "**Remarks**\n",
    "- Since `x.copy()` only copies the references to the underlying objects, it is called **shallow copying**\n",
    "- There are three ways to make a shallow copy\n",
    "    - `y = x.copy()`\n",
    "    - `y = x[:]`\n",
    "    - `y = list(x)`"
   ]
  },
  {
   "cell_type": "markdown",
   "id": "4de62867-29cb-49da-9864-f267d74fb44f",
   "metadata": {},
   "source": [
    "### Deep copying\n",
    "We use deep copy when we want to make a copy that is completely irrelevant to the original object"
   ]
  },
  {
   "cell_type": "code",
   "execution_count": 71,
   "id": "77621f4b-acf9-41b4-afba-ee0c710169db",
   "metadata": {},
   "outputs": [
    {
     "name": "stdout",
     "output_type": "stream",
     "text": [
      "[1, 2, [88, 99]]\n",
      "2551863390912\n"
     ]
    }
   ],
   "source": [
    "# Init a list\n",
    "x = [1, 2, [88, 99]]\n",
    "print(x)\n",
    "print(id(x))"
   ]
  },
  {
   "cell_type": "code",
   "execution_count": 72,
   "id": "5fd9519b-d99a-4e29-9d3c-39c1a30952dc",
   "metadata": {},
   "outputs": [],
   "source": [
    "# We have to import module copy\n",
    "import copy"
   ]
  },
  {
   "cell_type": "code",
   "execution_count": 73,
   "id": "a1b892fd-aa8a-452d-8d9a-8118a1a8f327",
   "metadata": {},
   "outputs": [],
   "source": [
    "# Now make a deep copy\n",
    "y = copy.deepcopy(x)"
   ]
  },
  {
   "cell_type": "code",
   "execution_count": 74,
   "id": "830b7f97-3ceb-41d3-85d9-0afaa047c9ce",
   "metadata": {},
   "outputs": [
    {
     "name": "stdout",
     "output_type": "stream",
     "text": [
      "[1, 2, [88, 99]]\n",
      "[1, 2, [88, 99]]\n"
     ]
    }
   ],
   "source": [
    "# Verify that x and y have the same values\n",
    "print(x)\n",
    "print(y)"
   ]
  },
  {
   "cell_type": "code",
   "execution_count": 75,
   "id": "2d8e8498-5bf9-4741-b3ba-5fc9c7587f3a",
   "metadata": {},
   "outputs": [
    {
     "name": "stdout",
     "output_type": "stream",
     "text": [
      "2551863390912\n",
      "2551863369472\n",
      "False\n"
     ]
    }
   ],
   "source": [
    "# But they are different object\n",
    "print(id(x))\n",
    "print(id(y))\n",
    "print(x is y)"
   ]
  },
  {
   "cell_type": "code",
   "execution_count": 76,
   "id": "55550196-56ec-4e7b-91d7-d647423534c2",
   "metadata": {},
   "outputs": [],
   "source": [
    "# Now change 1st element of last element of x to False\n",
    "x[-1][0] = False"
   ]
  },
  {
   "cell_type": "code",
   "execution_count": 77,
   "id": "5552cf29-7602-4541-aacd-037395cae39f",
   "metadata": {},
   "outputs": [
    {
     "name": "stdout",
     "output_type": "stream",
     "text": [
      "[1, 2, [False, 99]]\n",
      "[1, 2, [88, 99]]\n"
     ]
    }
   ],
   "source": [
    "# We see that only x changes, y stays the same\n",
    "print(x)\n",
    "print(y)"
   ]
  },
  {
   "cell_type": "code",
   "execution_count": null,
   "id": "6575b5a0-9f4d-427b-8174-50e6a9e26307",
   "metadata": {},
   "outputs": [
    {
     "name": "stdout",
     "output_type": "stream",
     "text": [
      "[1, 2, [False, 99]]\n",
      "[1, 2, [88, 99]]\n"
     ]
    }
   ],
   "source": [
    "# Confirm change is made on y only\n",
    "print(x)\n",
    "print(y)"
   ]
  },
  {
   "cell_type": "markdown",
   "id": "edc20f00-27e0-4b5d-9f62-1e617261546c",
   "metadata": {},
   "source": [
    "**What happened?**\n",
    "- When we run `x = [1, 2, [88, 99]]`, 3 objects `A1`, `A2`, `A3` are created to hold `1`, `2`, and `[88, 99]`\n",
    "- Then another object `A` is created to hold the references to `A1`, `A2`, and `A3`\n",
    "- When we run `y = copy.deepcopy(x)`, Python create 3 new object `B1`, `B2`, `B3` and then copy over the values inside `A1`, `A2`, `A3` to `B1`, `B2`, and `B3`\n",
    "- Then Python creates a new object `B` to hold the references to `B1`, `B2`, and `B3`\n",
    "- Thus, now `x` and `y` are completely irrelevant"
   ]
  },
  {
   "cell_type": "markdown",
   "id": "2df0c60e-d607-4553-af3c-03a54c9118ad",
   "metadata": {},
   "source": [
    "**Remarks**\n",
    "- Why don't we just use deep copy every time?\n",
    "- Because deep copy takes more time and space\n",
    "    - A reference is just an address to a memory slot\n",
    "    - So it is much smaller in size compared to the actual value being stored in that memory address\n",
    "    - Thus copying a reference (shallow) is much faster and takes up much less space than copying the actual value (deep)"
   ]
  },
  {
   "cell_type": "markdown",
   "id": "37a42559-b72b-4d1a-9c30-616f21900b76",
   "metadata": {},
   "source": [
    "## Operations on a list\n",
    "We distinguish between two types of operations on a list\n",
    "- **Regular operations:** those that don't change the list\n",
    "- **Inplace operations:** those that change the list"
   ]
  },
  {
   "cell_type": "markdown",
   "id": "df183231-503b-4751-ae07-b4bbb189e50d",
   "metadata": {},
   "source": [
    "### Regular operations"
   ]
  },
  {
   "cell_type": "code",
   "execution_count": 79,
   "id": "7c3377d2-964e-4bdb-8a09-9e0439332c3e",
   "metadata": {},
   "outputs": [
    {
     "name": "stdout",
     "output_type": "stream",
     "text": [
      "[2, 7, -3, 11.5, True, 2]\n",
      "['A', 1, 58.5, 94, [12, 20]]\n"
     ]
    }
   ],
   "source": [
    "# Init 2 lists\n",
    "x = [2, 7, -3, 11.5, True, 2]\n",
    "y = [\"A\", 1, 58.5, 94, [12, 20]]\n",
    "\n",
    "print(x)\n",
    "print(y)"
   ]
  },
  {
   "cell_type": "markdown",
   "id": "425c9f87-9191-417d-8419-98d08fc53d19",
   "metadata": {},
   "source": [
    "**Index and slice**"
   ]
  },
  {
   "cell_type": "code",
   "execution_count": 80,
   "id": "edf9bd59-cb93-4c34-bc37-de225dbf274f",
   "metadata": {},
   "outputs": [
    {
     "data": {
      "text/plain": [
       "2"
      ]
     },
     "execution_count": 80,
     "metadata": {},
     "output_type": "execute_result"
    }
   ],
   "source": [
    "# Index the 1st elements\n",
    "x[0]"
   ]
  },
  {
   "cell_type": "code",
   "execution_count": 81,
   "id": "bda555f8-4fae-46fc-8b9c-7a82bf6a42c3",
   "metadata": {},
   "outputs": [
    {
     "data": {
      "text/plain": [
       "[2, 7, -3]"
      ]
     },
     "execution_count": 81,
     "metadata": {},
     "output_type": "execute_result"
    }
   ],
   "source": [
    "# Slice first 3 elements\n",
    "x[:3]"
   ]
  },
  {
   "cell_type": "markdown",
   "id": "13efd9d5-596b-48dd-b850-01357a23b8c9",
   "metadata": {},
   "source": [
    "**Get number of elements**"
   ]
  },
  {
   "cell_type": "code",
   "execution_count": 82,
   "id": "b31afd6a-eccc-41ac-a639-1cdbae349a38",
   "metadata": {},
   "outputs": [
    {
     "data": {
      "text/plain": [
       "6"
      ]
     },
     "execution_count": 82,
     "metadata": {},
     "output_type": "execute_result"
    }
   ],
   "source": [
    "len(x)"
   ]
  },
  {
   "cell_type": "markdown",
   "id": "03dac971-d7f9-44a0-90e9-76772682b02c",
   "metadata": {},
   "source": [
    "**Membership checking**"
   ]
  },
  {
   "cell_type": "code",
   "execution_count": 83,
   "id": "939cec97-8c48-4b8f-8b0f-7ed60e21e73d",
   "metadata": {},
   "outputs": [
    {
     "data": {
      "text/plain": [
       "True"
      ]
     },
     "execution_count": 83,
     "metadata": {},
     "output_type": "execute_result"
    }
   ],
   "source": [
    "# Is 2 in x?\n",
    "2 in x"
   ]
  },
  {
   "cell_type": "code",
   "execution_count": 84,
   "id": "bd01da7a-1c4b-4d7f-8edf-b6175c823d3f",
   "metadata": {},
   "outputs": [
    {
     "data": {
      "text/plain": [
       "False"
      ]
     },
     "execution_count": 84,
     "metadata": {},
     "output_type": "execute_result"
    }
   ],
   "source": [
    "# Is 'A' in x?\n",
    "\"A\" in x"
   ]
  },
  {
   "cell_type": "markdown",
   "id": "90e9dd72-0753-4491-96f9-5b619c722579",
   "metadata": {},
   "source": [
    "**Count number of occurrences**"
   ]
  },
  {
   "cell_type": "code",
   "execution_count": 85,
   "id": "43fe8fca-357b-424e-86bc-4f7708a7dffc",
   "metadata": {},
   "outputs": [
    {
     "data": {
      "text/plain": [
       "2"
      ]
     },
     "execution_count": 85,
     "metadata": {},
     "output_type": "execute_result"
    }
   ],
   "source": [
    "# How many 2 in x?\n",
    "x.count(2)"
   ]
  },
  {
   "cell_type": "code",
   "execution_count": 86,
   "id": "f21260a0-fcb3-45d2-a582-a1d6f8351f84",
   "metadata": {},
   "outputs": [
    {
     "data": {
      "text/plain": [
       "0"
      ]
     },
     "execution_count": 86,
     "metadata": {},
     "output_type": "execute_result"
    }
   ],
   "source": [
    "# How many 2 in y\n",
    "y.count(2)"
   ]
  },
  {
   "cell_type": "markdown",
   "id": "c4da146a-01cc-439c-9edc-759c120f6ec2",
   "metadata": {},
   "source": [
    "**Concatenate 2 lists**"
   ]
  },
  {
   "cell_type": "code",
   "execution_count": 87,
   "id": "2bfcbf56-a5d9-4760-bf3a-ce92c0e7985b",
   "metadata": {},
   "outputs": [
    {
     "data": {
      "text/plain": [
       "[2, 7, -3, 11.5, True, 2, 'A', 1, 58.5, 94, [12, 20]]"
      ]
     },
     "execution_count": 87,
     "metadata": {},
     "output_type": "execute_result"
    }
   ],
   "source": [
    "# Concat 2 lists returns a new list\n",
    "# whose elements are from x and y\n",
    "x + y"
   ]
  },
  {
   "cell_type": "code",
   "execution_count": 88,
   "id": "2a1ba664-6310-4d28-bc37-8b438ab86c87",
   "metadata": {},
   "outputs": [
    {
     "name": "stdout",
     "output_type": "stream",
     "text": [
      "[2, 7, -3, 11.5, True, 2]\n",
      "['A', 1, 58.5, 94, [12, 20]]\n"
     ]
    }
   ],
   "source": [
    "# However, this concatenation just return the combination\n",
    "# the original lists do not change\n",
    "print(x)\n",
    "print(y)"
   ]
  },
  {
   "cell_type": "code",
   "execution_count": 89,
   "id": "9dc46012-f58b-4137-a9da-39a0abb2563b",
   "metadata": {},
   "outputs": [
    {
     "name": "stdout",
     "output_type": "stream",
     "text": [
      "[2, 7, -3, 11.5, True, 2, 'A', 1, 58.5, 94, [12, 20]]\n"
     ]
    }
   ],
   "source": [
    "# If you want to save the result\n",
    "# you need to assign it to a new variable\n",
    "z = x + y\n",
    "print(z)"
   ]
  },
  {
   "cell_type": "markdown",
   "id": "e4c0ca7d-2e80-442b-9781-136eda760afc",
   "metadata": {},
   "source": [
    "**Replicate a list**"
   ]
  },
  {
   "cell_type": "code",
   "execution_count": 90,
   "id": "3b61c8f5-9d4e-4c1b-81f7-50337ee73e62",
   "metadata": {},
   "outputs": [
    {
     "data": {
      "text/plain": [
       "[2, 7, -3, 11.5, True, 2, 2, 7, -3, 11.5, True, 2]"
      ]
     },
     "execution_count": 90,
     "metadata": {},
     "output_type": "execute_result"
    }
   ],
   "source": [
    "# Replicate twice\n",
    "x * 2"
   ]
  },
  {
   "cell_type": "code",
   "execution_count": 91,
   "id": "c8af4751-7a25-4fa4-86d0-9c229324c9b5",
   "metadata": {},
   "outputs": [
    {
     "data": {
      "text/plain": [
       "[0, 0, 0, 0, 0, 0, 0, 0, 0, 0]"
      ]
     },
     "execution_count": 91,
     "metadata": {},
     "output_type": "execute_result"
    }
   ],
   "source": [
    "# Quickly make a list of 10 zeros\n",
    "[0] * 10"
   ]
  },
  {
   "cell_type": "markdown",
   "id": "8c13055b-34c2-49ad-8956-5da31848f11c",
   "metadata": {},
   "source": [
    "**Sort a list**\n",
    "- We can only sort a list if its element are comparable\n",
    "- Ex: all elements are numbers or all elements are strings"
   ]
  },
  {
   "cell_type": "code",
   "execution_count": 93,
   "id": "af8dc72e-3d20-4833-b04a-b1123e77b152",
   "metadata": {},
   "outputs": [
    {
     "data": {
      "text/plain": [
       "[-3, True, 2, 2, 7, 11.5]"
      ]
     },
     "execution_count": 93,
     "metadata": {},
     "output_type": "execute_result"
    }
   ],
   "source": [
    "# x only contains int, float, and bool (sub-type of int)\n",
    "# So x is sortable\n",
    "# Try to sort x in ascending order\n",
    "sorted(x)"
   ]
  },
  {
   "cell_type": "code",
   "execution_count": 94,
   "id": "05931a13-13a1-4243-b939-0f11e380500b",
   "metadata": {},
   "outputs": [
    {
     "data": {
      "text/plain": [
       "[11.5, 7, 2, 2, True, -3]"
      ]
     },
     "execution_count": 94,
     "metadata": {},
     "output_type": "execute_result"
    }
   ],
   "source": [
    "# Sort x in descending order\n",
    "sorted(x, reverse=True)"
   ]
  },
  {
   "cell_type": "code",
   "execution_count": 95,
   "id": "48fd9ee7-48d8-4b0e-99ad-76f25374384a",
   "metadata": {},
   "outputs": [
    {
     "data": {
      "text/plain": [
       "[2, 7, -3, 11.5, True, 2]"
      ]
     },
     "execution_count": 95,
     "metadata": {},
     "output_type": "execute_result"
    }
   ],
   "source": [
    "# As previously, this operation just returned sorted values\n",
    "# It doesn't change the original list (x stays the same)\n",
    "x"
   ]
  },
  {
   "cell_type": "code",
   "execution_count": 96,
   "id": "14948985-9ddb-4650-9a0d-2aa4e89b72a6",
   "metadata": {},
   "outputs": [
    {
     "name": "stdout",
     "output_type": "stream",
     "text": [
      "[2, 7, -3, 11.5, True, 2]\n",
      "[-3, True, 2, 2, 7, 11.5]\n"
     ]
    }
   ],
   "source": [
    "# If you want to save the result, you might need an assignment\n",
    "z = sorted(x)\n",
    "print(x)\n",
    "print(z)"
   ]
  },
  {
   "cell_type": "code",
   "execution_count": 97,
   "id": "88a4e4a3-4c95-41ab-abac-71c824959a2d",
   "metadata": {},
   "outputs": [
    {
     "data": {
      "text/plain": [
       "['BELLE', 'BOB', 'JACK', 'JOHN', 'TIMON']"
      ]
     },
     "execution_count": 97,
     "metadata": {},
     "output_type": "execute_result"
    }
   ],
   "source": [
    "# We can sort a list of strings\n",
    "sorted([\"BOB\", \"JACK\", \"JOHN\", \"BELLE\", \"TIMON\"])"
   ]
  },
  {
   "cell_type": "code",
   "execution_count": 98,
   "id": "10916e67-d246-4e31-a773-ec123b19dd4b",
   "metadata": {},
   "outputs": [],
   "source": [
    "# But we cannot sorted a list whose elements are not comparable\n",
    "# Try with [1, 2, \"A\"] or [1, 2, [88, 99]]"
   ]
  },
  {
   "cell_type": "markdown",
   "id": "c59ff3b3-1cfe-4ce4-8146-a45c242b7bcb",
   "metadata": {},
   "source": [
    "**Reverse a list**"
   ]
  },
  {
   "cell_type": "code",
   "execution_count": 99,
   "id": "190abb4e-5d50-4dce-808c-1ba27cec2810",
   "metadata": {},
   "outputs": [
    {
     "data": {
      "text/plain": [
       "[2, 7, -3, 11.5, True, 2]"
      ]
     },
     "execution_count": 99,
     "metadata": {},
     "output_type": "execute_result"
    }
   ],
   "source": [
    "# Recall x\n",
    "x"
   ]
  },
  {
   "cell_type": "code",
   "execution_count": 100,
   "id": "f36c7e38-bc40-4189-a3fe-48e21dd654ed",
   "metadata": {},
   "outputs": [
    {
     "data": {
      "text/plain": [
       "<list_reverseiterator at 0x25226ebe190>"
      ]
     },
     "execution_count": 100,
     "metadata": {},
     "output_type": "execute_result"
    }
   ],
   "source": [
    "# We use reversed() function to reverse a list\n",
    "# However, it will return a iterator for better performance\n",
    "reversed(x)"
   ]
  },
  {
   "cell_type": "code",
   "execution_count": 101,
   "id": "05bdcfbe-8f33-4e1d-8c73-01a45eed0118",
   "metadata": {},
   "outputs": [
    {
     "data": {
      "text/plain": [
       "[2, True, 11.5, -3, 7, 2]"
      ]
     },
     "execution_count": 101,
     "metadata": {},
     "output_type": "execute_result"
    }
   ],
   "source": [
    "# We will learn about iterator later\n",
    "# For now just use typecasting to get back a list\n",
    "list(reversed(x))"
   ]
  },
  {
   "cell_type": "markdown",
   "id": "3452c5ec-b0a4-408c-9118-b4c451c3ca43",
   "metadata": {},
   "source": [
    "**Get the index of the first occurence**"
   ]
  },
  {
   "cell_type": "code",
   "execution_count": 102,
   "id": "efc548d0-87c4-4e47-a617-625bb58e3a94",
   "metadata": {},
   "outputs": [
    {
     "data": {
      "text/plain": [
       "[2, 7, -3, 11.5, True, 2]"
      ]
     },
     "execution_count": 102,
     "metadata": {},
     "output_type": "execute_result"
    }
   ],
   "source": [
    "# Recall x, we see that 2 appears 2 times in x\n",
    "# First occurence at index 0\n",
    "# Second occurence at index 5\n",
    "x"
   ]
  },
  {
   "cell_type": "code",
   "execution_count": 103,
   "id": "aee2bd32-6313-4596-9d1c-2cc082fd6bd7",
   "metadata": {},
   "outputs": [
    {
     "data": {
      "text/plain": [
       "0"
      ]
     },
     "execution_count": 103,
     "metadata": {},
     "output_type": "execute_result"
    }
   ],
   "source": [
    "# Get index of 1st occurence of 2 in x\n",
    "x.index(2)"
   ]
  },
  {
   "cell_type": "code",
   "execution_count": 104,
   "id": "6bc5f13e-1779-465a-8ea3-877c1d753db5",
   "metadata": {},
   "outputs": [
    {
     "data": {
      "text/plain": [
       "4"
      ]
     },
     "execution_count": 104,
     "metadata": {},
     "output_type": "execute_result"
    }
   ],
   "source": [
    "# Get index of 1st occurence of True in x\n",
    "x.index(True)"
   ]
  },
  {
   "cell_type": "code",
   "execution_count": 105,
   "id": "fc9412f3-94e0-43bb-8cd1-f18e1229cfc9",
   "metadata": {},
   "outputs": [],
   "source": [
    "# However, you will get an error if the value is not in x\n",
    "# Try with x.index(1000)"
   ]
  },
  {
   "cell_type": "markdown",
   "id": "f0c8e3a5-03f7-479e-9f84-f1b394be010f",
   "metadata": {},
   "source": [
    "### Inplace operations\n",
    "- These operations make some change to a list and the change is saved to the original list\n",
    "- After that, a `None` is usually returned to indicate that the action is done correctly"
   ]
  },
  {
   "cell_type": "markdown",
   "id": "cc809cb4-2294-4aec-93be-98d66eb6f95a",
   "metadata": {},
   "source": [
    "**Sort a list**"
   ]
  },
  {
   "cell_type": "code",
   "execution_count": 106,
   "id": "80d34ec1-853a-486d-876b-e53cca5b7ea4",
   "metadata": {},
   "outputs": [
    {
     "data": {
      "text/plain": [
       "[2, 7, -3, 11.5, 2, True]"
      ]
     },
     "execution_count": 106,
     "metadata": {},
     "output_type": "execute_result"
    }
   ],
   "source": [
    "# Init a list\n",
    "x = [2, 7, -3, 11.5, 2, True]\n",
    "x"
   ]
  },
  {
   "cell_type": "code",
   "execution_count": 107,
   "id": "4a8abcb1-0d56-4002-85a0-0b3f97fe085c",
   "metadata": {},
   "outputs": [],
   "source": [
    "# We use x.sort() to sort a list in ascending order\n",
    "# and save this change to x instead of returning a sorted version\n",
    "# A None is returned, but you cannot see it printed out\n",
    "x.sort()"
   ]
  },
  {
   "cell_type": "code",
   "execution_count": 108,
   "id": "e19436b5-26fc-4606-b8f8-646a6b47d77f",
   "metadata": {},
   "outputs": [
    {
     "data": {
      "text/plain": [
       "[-3, True, 2, 2, 7, 11.5]"
      ]
     },
     "execution_count": 108,
     "metadata": {},
     "output_type": "execute_result"
    }
   ],
   "source": [
    "# Now verify that the change is saved to the original list\n",
    "x"
   ]
  },
  {
   "cell_type": "code",
   "execution_count": 109,
   "id": "8d0e644b-57ee-43d0-9b70-b66b61032fc7",
   "metadata": {},
   "outputs": [
    {
     "name": "stdout",
     "output_type": "stream",
     "text": [
      "None\n"
     ]
    }
   ],
   "source": [
    "# To see a None is returned, to assign x.sort() to a variable\n",
    "z = x.sort()\n",
    "print(z)"
   ]
  },
  {
   "cell_type": "code",
   "execution_count": 110,
   "id": "dac76e6a-e9f9-4963-a751-a4c3daf61bd7",
   "metadata": {},
   "outputs": [
    {
     "data": {
      "text/plain": [
       "[11.5, 7, 2, 2, True, -3]"
      ]
     },
     "execution_count": 110,
     "metadata": {},
     "output_type": "execute_result"
    }
   ],
   "source": [
    "# You can also sort x in descending order\n",
    "x.sort(reverse=True)\n",
    "x"
   ]
  },
  {
   "cell_type": "markdown",
   "id": "dc429e09-1edf-4d36-9de2-06b87d256870",
   "metadata": {},
   "source": [
    "Note: if you want to sort a list `x` and the use the name `x` for the sorted version (meaning you don't care about the original version anymore) then you can use\n",
    "- `x.sort()`\n",
    "- Or `x = sorted(x)`\n",
    "- But not `x = x.sort()` because you will get `None`"
   ]
  },
  {
   "cell_type": "markdown",
   "id": "9b0bb3e6-60c2-4812-97a4-433184722640",
   "metadata": {},
   "source": [
    "**Reverse a list**"
   ]
  },
  {
   "cell_type": "code",
   "execution_count": 111,
   "id": "32aa0500-3516-4f28-9db5-58673fba528c",
   "metadata": {},
   "outputs": [
    {
     "data": {
      "text/plain": [
       "[2, 7, -3, 11.5, 2, True]"
      ]
     },
     "execution_count": 111,
     "metadata": {},
     "output_type": "execute_result"
    }
   ],
   "source": [
    "# Init\n",
    "x = [2, 7, -3, 11.5, 2, True]\n",
    "x"
   ]
  },
  {
   "cell_type": "code",
   "execution_count": 112,
   "id": "840ab48f-75b0-486e-8f0e-d0911f66e11e",
   "metadata": {},
   "outputs": [
    {
     "data": {
      "text/plain": [
       "[True, 2, 11.5, -3, 7, 2]"
      ]
     },
     "execution_count": 112,
     "metadata": {},
     "output_type": "execute_result"
    }
   ],
   "source": [
    "# Reverse\n",
    "x.reverse()\n",
    "x"
   ]
  },
  {
   "cell_type": "markdown",
   "id": "b5f25a06-128a-4fd4-8585-55f5e6867956",
   "metadata": {},
   "source": [
    "**Add one element to a list**"
   ]
  },
  {
   "cell_type": "code",
   "execution_count": 113,
   "id": "e991348d-a818-4957-83a4-2eeaa9dcb802",
   "metadata": {},
   "outputs": [
    {
     "data": {
      "text/plain": [
       "[2, 7, -3, 11.5, 2, True]"
      ]
     },
     "execution_count": 113,
     "metadata": {},
     "output_type": "execute_result"
    }
   ],
   "source": [
    "# Init\n",
    "x = [2, 7, -3, 11.5, 2, True]\n",
    "x"
   ]
  },
  {
   "cell_type": "code",
   "execution_count": 114,
   "id": "3d0e088a-9af5-4156-a83c-4dc73a507147",
   "metadata": {},
   "outputs": [
    {
     "data": {
      "text/plain": [
       "[2, 7, -3, 11.5, 2, True, 99]"
      ]
     },
     "execution_count": 114,
     "metadata": {},
     "output_type": "execute_result"
    }
   ],
   "source": [
    "# Append 99 to x\n",
    "x.append(99)\n",
    "x"
   ]
  },
  {
   "cell_type": "markdown",
   "id": "7666b7d5-259e-4ae6-a80c-91a2a82039eb",
   "metadata": {},
   "source": [
    "**Add multiple elements to a list**"
   ]
  },
  {
   "cell_type": "code",
   "execution_count": 115,
   "id": "c5bdbb56-8d67-461c-be16-feaa6acac432",
   "metadata": {},
   "outputs": [
    {
     "data": {
      "text/plain": [
       "[2, 7, -3, 11.5, 2, True]"
      ]
     },
     "execution_count": 115,
     "metadata": {},
     "output_type": "execute_result"
    }
   ],
   "source": [
    "# Init\n",
    "x = [2, 7, -3, 11.5, 2, True]\n",
    "x"
   ]
  },
  {
   "cell_type": "code",
   "execution_count": 116,
   "id": "df341ea2-0943-4d77-a901-49eff1d3d7d9",
   "metadata": {},
   "outputs": [
    {
     "data": {
      "text/plain": [
       "[2, 7, -3, 11.5, 2, True, 'A', 'B']"
      ]
     },
     "execution_count": 116,
     "metadata": {},
     "output_type": "execute_result"
    }
   ],
   "source": [
    "# Add 3 elements to x\n",
    "x.extend([\"A\", \"B\"])\n",
    "x"
   ]
  },
  {
   "cell_type": "code",
   "execution_count": 117,
   "id": "e210d3d5-4a86-4294-becf-4cbc1acf3860",
   "metadata": {},
   "outputs": [
    {
     "data": {
      "text/plain": [
       "[2, 7, -3, 11.5, 2, True, 'A', 'B', ['A', 'B']]"
      ]
     },
     "execution_count": 117,
     "metadata": {},
     "output_type": "execute_result"
    }
   ],
   "source": [
    "# Note that if we use append in this case\n",
    "# [\"A\", \"B\"] will be added as a single element\n",
    "x.append([\"A\", \"B\"])\n",
    "x"
   ]
  },
  {
   "cell_type": "markdown",
   "id": "34634fce-49a4-4eff-be52-9b0f5e4240a7",
   "metadata": {},
   "source": [
    "**Insert an element**"
   ]
  },
  {
   "cell_type": "code",
   "execution_count": 118,
   "id": "529ef702-da1f-491d-bca6-99bb24c93928",
   "metadata": {},
   "outputs": [
    {
     "data": {
      "text/plain": [
       "[2, 7, -3, 11.5, 2, True]"
      ]
     },
     "execution_count": 118,
     "metadata": {},
     "output_type": "execute_result"
    }
   ],
   "source": [
    "# Init\n",
    "x = [2, 7, -3, 11.5, 2, True]\n",
    "x"
   ]
  },
  {
   "cell_type": "code",
   "execution_count": 119,
   "id": "5177970a-507f-4075-8d0b-5cb0d6ae4089",
   "metadata": {},
   "outputs": [
    {
     "data": {
      "text/plain": [
       "\u001b[1;31mSignature:\u001b[0m \u001b[0mx\u001b[0m\u001b[1;33m.\u001b[0m\u001b[0minsert\u001b[0m\u001b[1;33m(\u001b[0m\u001b[0mindex\u001b[0m\u001b[1;33m,\u001b[0m \u001b[0mobject\u001b[0m\u001b[1;33m,\u001b[0m \u001b[1;33m/\u001b[0m\u001b[1;33m)\u001b[0m\u001b[1;33m\u001b[0m\u001b[1;33m\u001b[0m\u001b[0m\n",
       "\u001b[1;31mDocstring:\u001b[0m Insert object before index.\n",
       "\u001b[1;31mType:\u001b[0m      builtin_function_or_method\n"
      ]
     },
     "metadata": {},
     "output_type": "display_data"
    }
   ],
   "source": [
    "# Read the documentation for .insert()\n",
    "?x.insert"
   ]
  },
  {
   "cell_type": "code",
   "execution_count": 120,
   "id": "9910f25e-9971-42a9-a1eb-040456f04dcf",
   "metadata": {},
   "outputs": [
    {
     "data": {
      "text/plain": [
       "['A', 2, 7, -3, 11.5, 2, True]"
      ]
     },
     "execution_count": 120,
     "metadata": {},
     "output_type": "execute_result"
    }
   ],
   "source": [
    "# Now insert \"A\" to the first position\n",
    "x.insert(0, \"A\")\n",
    "x"
   ]
  },
  {
   "cell_type": "code",
   "execution_count": 121,
   "id": "513cba00-efde-4f7f-b1fe-27e324bdae15",
   "metadata": {},
   "outputs": [
    {
     "data": {
      "text/plain": [
       "['A', 2, 'B', 7, -3, 11.5, 2, True]"
      ]
     },
     "execution_count": 121,
     "metadata": {},
     "output_type": "execute_result"
    }
   ],
   "source": [
    "# Insert \"B\" to the 3rd position\n",
    "x.insert(2, \"B\")\n",
    "x"
   ]
  },
  {
   "cell_type": "markdown",
   "id": "e36e44b1-80da-42b7-bf62-7ba97b81af58",
   "metadata": {},
   "source": [
    "**Remove an element**"
   ]
  },
  {
   "cell_type": "code",
   "execution_count": 122,
   "id": "501bd4ad-c178-45ae-9256-5b6007f7aad9",
   "metadata": {},
   "outputs": [
    {
     "data": {
      "text/plain": [
       "[2, 7, -3, 11.5, 2, True]"
      ]
     },
     "execution_count": 122,
     "metadata": {},
     "output_type": "execute_result"
    }
   ],
   "source": [
    "# Init\n",
    "x = [2, 7, -3, 11.5, 2, True]\n",
    "x"
   ]
  },
  {
   "cell_type": "code",
   "execution_count": 123,
   "id": "b6cb7f15-42eb-4d8e-bc03-343b77e1be46",
   "metadata": {},
   "outputs": [
    {
     "data": {
      "text/plain": [
       "[7, -3, 11.5, 2, True]"
      ]
     },
     "execution_count": 123,
     "metadata": {},
     "output_type": "execute_result"
    }
   ],
   "source": [
    "# We can remove by value\n",
    "# Remove value 2 (only first occurence is removed)\n",
    "x.remove(2)\n",
    "x"
   ]
  },
  {
   "cell_type": "code",
   "execution_count": 124,
   "id": "fd41f8e1-da16-4b57-a278-dbae3fe491a2",
   "metadata": {},
   "outputs": [],
   "source": [
    "# If the value is not in x, we will get an error\n",
    "# Try with x.remove(1000)\n",
    "# To avoid the error, use if\n",
    "if 1000 in x:\n",
    "    x.remove(1000)"
   ]
  },
  {
   "cell_type": "code",
   "execution_count": 125,
   "id": "53df5ed3-fede-4cda-a86c-d67c8c190fa4",
   "metadata": {},
   "outputs": [
    {
     "data": {
      "text/plain": [
       "[7, 11.5, 2, True]"
      ]
     },
     "execution_count": 125,
     "metadata": {},
     "output_type": "execute_result"
    }
   ],
   "source": [
    "# We can also remove an element by position using del\n",
    "# Ex: remove the second element\n",
    "del x[1]\n",
    "x"
   ]
  },
  {
   "cell_type": "markdown",
   "id": "c8016fa0-f085-473d-8b34-14d6ebdf5420",
   "metadata": {},
   "source": [
    "**Pop out an element and delete that element from the list**"
   ]
  },
  {
   "cell_type": "code",
   "execution_count": 126,
   "id": "b9666231-8c29-49e4-ae94-79bee7b5c428",
   "metadata": {},
   "outputs": [
    {
     "data": {
      "text/plain": [
       "[2, 7, -3, 11.5, 2, True]"
      ]
     },
     "execution_count": 126,
     "metadata": {},
     "output_type": "execute_result"
    }
   ],
   "source": [
    "# Init\n",
    "x = [2, 7, -3, 11.5, 2, True]\n",
    "x"
   ]
  },
  {
   "cell_type": "code",
   "execution_count": 127,
   "id": "de36c4b0-3eb6-4419-8ca9-d3804e4c05c9",
   "metadata": {},
   "outputs": [
    {
     "data": {
      "text/plain": [
       "\u001b[1;31mSignature:\u001b[0m \u001b[0mx\u001b[0m\u001b[1;33m.\u001b[0m\u001b[0mpop\u001b[0m\u001b[1;33m(\u001b[0m\u001b[0mindex\u001b[0m\u001b[1;33m=\u001b[0m\u001b[1;33m-\u001b[0m\u001b[1;36m1\u001b[0m\u001b[1;33m,\u001b[0m \u001b[1;33m/\u001b[0m\u001b[1;33m)\u001b[0m\u001b[1;33m\u001b[0m\u001b[1;33m\u001b[0m\u001b[0m\n",
       "\u001b[1;31mDocstring:\u001b[0m\n",
       "Remove and return item at index (default last).\n",
       "\n",
       "Raises IndexError if list is empty or index is out of range.\n",
       "\u001b[1;31mType:\u001b[0m      builtin_function_or_method\n"
      ]
     },
     "metadata": {},
     "output_type": "display_data"
    }
   ],
   "source": [
    "# See the documentation for x.pop\n",
    "?x.pop"
   ]
  },
  {
   "cell_type": "code",
   "execution_count": 128,
   "id": "002313b8-8ab0-4a9a-af99-c11f9d229316",
   "metadata": {},
   "outputs": [
    {
     "name": "stdout",
     "output_type": "stream",
     "text": [
      "[2, 7, -3, 11.5, 2]\n",
      "True\n"
     ]
    }
   ],
   "source": [
    "# Pop the last element, save it to variable z\n",
    "z = x.pop()\n",
    "print(x)\n",
    "print(z)"
   ]
  },
  {
   "cell_type": "code",
   "execution_count": 129,
   "id": "9dd55159-69ba-4f5a-b6a0-a6b625c4a698",
   "metadata": {},
   "outputs": [
    {
     "name": "stdout",
     "output_type": "stream",
     "text": [
      "[7, -3, 11.5, 2]\n",
      "2\n"
     ]
    }
   ],
   "source": [
    "# Pop the 1st element, save it to variable z\n",
    "z = x.pop(0)\n",
    "print(x)\n",
    "print(z)"
   ]
  },
  {
   "cell_type": "code",
   "execution_count": 130,
   "id": "8538e1c3-ab81-42f2-a495-a157dc102081",
   "metadata": {},
   "outputs": [
    {
     "name": "stdout",
     "output_type": "stream",
     "text": [
      "[7, 11.5, 2]\n",
      "-3\n"
     ]
    }
   ],
   "source": [
    "# Pop the 2nd element, save it to variable z\n",
    "z = x.pop(1)\n",
    "print(x)\n",
    "print(z)"
   ]
  },
  {
   "cell_type": "markdown",
   "id": "aab7408f-c3e1-4e6b-ae55-e61ad2559fd9",
   "metadata": {},
   "source": [
    "**Clear all elements**"
   ]
  },
  {
   "cell_type": "code",
   "execution_count": 131,
   "id": "a95e345e-6407-4e6e-a15d-060361800393",
   "metadata": {},
   "outputs": [
    {
     "name": "stdout",
     "output_type": "stream",
     "text": [
      "[2, 7, -3, 11.5, 2, True]\n",
      "2551862957952\n"
     ]
    }
   ],
   "source": [
    "# Init\n",
    "x = [2, 7, -3, 11.5, 2, True]\n",
    "print(x)\n",
    "print(id(x))"
   ]
  },
  {
   "cell_type": "code",
   "execution_count": 132,
   "id": "16bddb36-ff9e-441c-9056-003ae5481b6d",
   "metadata": {},
   "outputs": [
    {
     "name": "stdout",
     "output_type": "stream",
     "text": [
      "[]\n",
      "2551862957952\n"
     ]
    }
   ],
   "source": [
    "# x.clear() will remove all elements\n",
    "# but the object is still the old one (same ID)\n",
    "x.clear()\n",
    "print(x)\n",
    "print(id(x))"
   ]
  },
  {
   "cell_type": "code",
   "execution_count": 133,
   "id": "b93a0371-90d8-49e8-ae36-ef7370b885d4",
   "metadata": {},
   "outputs": [
    {
     "name": "stdout",
     "output_type": "stream",
     "text": [
      "2551846074496\n"
     ]
    }
   ],
   "source": [
    "# It is different from x = []\n",
    "# Assignment to [] create a new object \n",
    "# and we re-paste the label x on the new object\n",
    "x = []\n",
    "print(id(x))"
   ]
  },
  {
   "cell_type": "markdown",
   "id": "f232cbdf-ff0a-4b6c-aee7-4ed80fbe0d25",
   "metadata": {},
   "source": [
    "## Unpack a list\n"
   ]
  },
  {
   "cell_type": "code",
   "execution_count": 134,
   "id": "2c323dd7-e872-4ba2-8596-5c0731f37991",
   "metadata": {},
   "outputs": [
    {
     "data": {
      "text/plain": [
       "[2022, 4, 1]"
      ]
     },
     "execution_count": 134,
     "metadata": {},
     "output_type": "execute_result"
    }
   ],
   "source": [
    "# Suppose we have a list that contain information about date\n",
    "my_date = [2022, 4, 1]\n",
    "my_date"
   ]
  },
  {
   "cell_type": "code",
   "execution_count": 135,
   "id": "08bbb562-3510-40bd-8284-531ac4fc1535",
   "metadata": {},
   "outputs": [],
   "source": [
    "# We want to extract year, month, date to 3 separate variables\n",
    "# The traditional way\n",
    "y = my_date[0]\n",
    "m = my_date[1]\n",
    "d = my_date[2]"
   ]
  },
  {
   "cell_type": "code",
   "execution_count": 136,
   "id": "05aa0d27-9438-4e54-a2a8-09e28cd6f819",
   "metadata": {},
   "outputs": [],
   "source": [
    "# However, we have a better alternative\n",
    "y, m, d = my_date"
   ]
  },
  {
   "cell_type": "code",
   "execution_count": 137,
   "id": "24b548c3-3f3c-4bad-9456-23683d8e1e58",
   "metadata": {},
   "outputs": [
    {
     "name": "stdout",
     "output_type": "stream",
     "text": [
      "2022\n",
      "4\n",
      "1\n"
     ]
    }
   ],
   "source": [
    "# Verify that it works\n",
    "print(y)\n",
    "print(m)\n",
    "print(d)"
   ]
  },
  {
   "cell_type": "markdown",
   "id": "96b9fb7c-d8b5-48cd-9fd2-2c3854706ed1",
   "metadata": {},
   "source": [
    "- Sometimes we want to extract some elements and ignore the others\n",
    "- We can use `_` for the unwanted variables so that we don’t have to waste time thinking names for them"
   ]
  },
  {
   "cell_type": "code",
   "execution_count": 138,
   "id": "43087fa7-2fdb-4b60-a63f-e722eb444c23",
   "metadata": {},
   "outputs": [
    {
     "name": "stdout",
     "output_type": "stream",
     "text": [
      "4\n",
      "1\n"
     ]
    }
   ],
   "source": [
    "# Get date, month only\n",
    "_, m, d = my_date\n",
    "print(m)\n",
    "print(d)"
   ]
  },
  {
   "cell_type": "code",
   "execution_count": 139,
   "id": "c0b08e43-0758-41d5-be2c-2ad8a748919a",
   "metadata": {},
   "outputs": [
    {
     "name": "stdout",
     "output_type": "stream",
     "text": [
      "2022\n"
     ]
    }
   ],
   "source": [
    "# _ is actually a valid variable name\n",
    "# That's why the above statement work\n",
    "# Try to print it out and you wil get the year\n",
    "print(_)"
   ]
  },
  {
   "cell_type": "code",
   "execution_count": 140,
   "id": "bec4dddf-700c-471c-be8e-a49f091bb53d",
   "metadata": {},
   "outputs": [
    {
     "name": "stdout",
     "output_type": "stream",
     "text": [
      "2022\n"
     ]
    }
   ],
   "source": [
    "# Thus, if you dont want to use _\n",
    "# You can use other names instead such as xxx\n",
    "# However, _ is a widely accepted convention\n",
    "# because it is so intutive\n",
    "xxx, m, d = my_date\n",
    "print(xxx)"
   ]
  },
  {
   "cell_type": "code",
   "execution_count": 141,
   "id": "bd300170-03ba-4ff2-819b-55dae3f7e0cb",
   "metadata": {},
   "outputs": [
    {
     "name": "stdout",
     "output_type": "stream",
     "text": [
      "2022\n"
     ]
    }
   ],
   "source": [
    "# What if we want to get the year only?\n",
    "y, _, _ = my_date\n",
    "print(y)"
   ]
  },
  {
   "cell_type": "code",
   "execution_count": 142,
   "id": "b38c4814-f5f1-43a3-864d-74f0c4e57a1a",
   "metadata": {},
   "outputs": [
    {
     "name": "stdout",
     "output_type": "stream",
     "text": [
      "2022\n"
     ]
    }
   ],
   "source": [
    "# However, better way to ignore the rest is to used *_\n",
    "# Ex: get year and ignore others\n",
    "y, *_ = my_date\n",
    "print(y)"
   ]
  },
  {
   "cell_type": "code",
   "execution_count": 143,
   "id": "65876fd6-7bc0-470f-b3c7-28a85b451d0a",
   "metadata": {},
   "outputs": [
    {
     "name": "stdout",
     "output_type": "stream",
     "text": [
      "[4, 1]\n"
     ]
    }
   ],
   "source": [
    "# The above statement unpacks first element of my_date into y\n",
    "# and throws the rest as a list to _\n",
    "# Let's verify it\n",
    "print(_)"
   ]
  },
  {
   "cell_type": "code",
   "execution_count": 144,
   "id": "4f1207f7-2a80-4980-8756-16a4563d1de2",
   "metadata": {},
   "outputs": [
    {
     "name": "stdout",
     "output_type": "stream",
     "text": [
      "1\n",
      "[2022, 4]\n"
     ]
    }
   ],
   "source": [
    "# What if we care only about the date\n",
    "*_, d = my_date\n",
    "print(d)\n",
    "print(_)"
   ]
  },
  {
   "cell_type": "markdown",
   "id": "e3f46466-6443-4286-92e6-343d7fa8da7f",
   "metadata": {},
   "source": [
    "## List comprehensions\n",
    "- List comprehension is a short way to create a new list from an existing iterable\n",
    "- The traditional way is to use a `for` loop\n",
    "- Syntax\n",
    "    - Without filtering: `[expression for elem in a_list]`\n",
    "    - With filtering: `[expression for elem in a_list if condition]`"
   ]
  },
  {
   "cell_type": "markdown",
   "id": "958926aa-405f-4adf-b45c-c74462a1b4d6",
   "metadata": {},
   "source": [
    "### Ex 1: generate squares\n",
    "Now we want to generate a list of squares of elements from `x`"
   ]
  },
  {
   "cell_type": "code",
   "execution_count": 145,
   "id": "d3e5c174-8c47-4649-b900-7a91f518c07a",
   "metadata": {},
   "outputs": [
    {
     "data": {
      "text/plain": [
       "[1, 2, 3, 4, 5]"
      ]
     },
     "execution_count": 145,
     "metadata": {},
     "output_type": "execute_result"
    }
   ],
   "source": [
    "# Init a list \n",
    "x = [1, 2, 3, 4, 5]\n",
    "x"
   ]
  },
  {
   "cell_type": "code",
   "execution_count": 146,
   "id": "bf389b71-c6cf-400c-ab73-555050efac3b",
   "metadata": {},
   "outputs": [
    {
     "data": {
      "text/plain": [
       "[1, 4, 9, 16, 25]"
      ]
     },
     "execution_count": 146,
     "metadata": {},
     "output_type": "execute_result"
    }
   ],
   "source": [
    "# Use for loop\n",
    "squares = []\n",
    "for i in x:\n",
    "    squares.append(i**2)\n",
    "\n",
    "squares"
   ]
  },
  {
   "cell_type": "code",
   "execution_count": 147,
   "id": "38718f56-2919-4cda-896e-73ec813af3cc",
   "metadata": {},
   "outputs": [
    {
     "data": {
      "text/plain": [
       "[1, 4, 9, 16, 25]"
      ]
     },
     "execution_count": 147,
     "metadata": {},
     "output_type": "execute_result"
    }
   ],
   "source": [
    "# Use list comp\n",
    "squares = [i**2 for i in x]\n",
    "squares"
   ]
  },
  {
   "cell_type": "markdown",
   "id": "2cb6d060-c814-41e9-8b3a-38b84b34c59d",
   "metadata": {},
   "source": [
    "### Ex 2: Get positive numbers\n",
    "Now we want to get a list of positive of elements from `x`"
   ]
  },
  {
   "cell_type": "code",
   "execution_count": 148,
   "id": "528eeb45-ae8e-4534-bba9-85af11591b3f",
   "metadata": {},
   "outputs": [
    {
     "data": {
      "text/plain": [
       "[1, -2, 0, 7, 9, 11, 20, -3, 8]"
      ]
     },
     "execution_count": 148,
     "metadata": {},
     "output_type": "execute_result"
    }
   ],
   "source": [
    "# Init a list \n",
    "x = [1, -2, 0, 7, 9, 11, 20, -3, 8]\n",
    "x"
   ]
  },
  {
   "cell_type": "code",
   "execution_count": 149,
   "id": "e4a5ed33-50e4-4f12-8ebb-c70acd5efc6b",
   "metadata": {},
   "outputs": [
    {
     "data": {
      "text/plain": [
       "[1, 7, 9, 11, 20, 8]"
      ]
     },
     "execution_count": 149,
     "metadata": {},
     "output_type": "execute_result"
    }
   ],
   "source": [
    "# Use for loop\n",
    "pos_numbers = []\n",
    "for i in x:\n",
    "    if i > 0:\n",
    "        pos_numbers.append(i)\n",
    "        \n",
    "pos_numbers"
   ]
  },
  {
   "cell_type": "code",
   "execution_count": 150,
   "id": "63b5ed8c-a04b-4d22-bfe8-1b61c0ed690f",
   "metadata": {},
   "outputs": [
    {
     "data": {
      "text/plain": [
       "[1, 7, 9, 11, 20, 8]"
      ]
     },
     "execution_count": 150,
     "metadata": {},
     "output_type": "execute_result"
    }
   ],
   "source": [
    "# Use list comp\n",
    "pos_numbers = [i for i in x if i > 0]\n",
    "pos_numbers"
   ]
  },
  {
   "cell_type": "markdown",
   "id": "435fec22-f7f0-4304-8ee7-31aa3e924b60",
   "metadata": {},
   "source": [
    "### Ex 3: remove bad customers\n",
    "We want to keeps those who are not in the blacklist"
   ]
  },
  {
   "cell_type": "code",
   "execution_count": 151,
   "id": "bb8ae89c-90ef-4775-9795-33736b0fb68f",
   "metadata": {},
   "outputs": [],
   "source": [
    "# Init 2 lists\n",
    "new_cust = [\"John\", \"Jack\", \"Mary\", \"Belle\", \"Tom\", \"Ricky\"]\n",
    "bad_cust = [\"Mary\", \"Ricky\"]"
   ]
  },
  {
   "cell_type": "code",
   "execution_count": 152,
   "id": "7af0dc87-429b-4513-889b-c887f7d20fbf",
   "metadata": {},
   "outputs": [
    {
     "data": {
      "text/plain": [
       "['John', 'Jack', 'Belle', 'Tom']"
      ]
     },
     "execution_count": 152,
     "metadata": {},
     "output_type": "execute_result"
    }
   ],
   "source": [
    "# Use for loop\n",
    "good_cust = []\n",
    "for cust in new_cust:\n",
    "    if cust not in bad_cust:\n",
    "        good_cust.append(cust)\n",
    "        \n",
    "good_cust"
   ]
  },
  {
   "cell_type": "code",
   "execution_count": 153,
   "id": "5cbf456f-4d41-46ac-842d-8f5b1413dabf",
   "metadata": {},
   "outputs": [
    {
     "data": {
      "text/plain": [
       "['John', 'Jack', 'Belle', 'Tom']"
      ]
     },
     "execution_count": 153,
     "metadata": {},
     "output_type": "execute_result"
    }
   ],
   "source": [
    "# Use list comp\n",
    "good_cust = [cust for cust in new_cust if cust not in bad_cust]\n",
    "good_cust"
   ]
  },
  {
   "cell_type": "markdown",
   "id": "3ee41035-6afe-4d64-92f0-b69d44ecf3c8",
   "metadata": {},
   "source": [
    "## Summary\n",
    "\n",
    "**What is a list?**\n",
    "- A mutable sequence\n",
    "\n",
    "**Create a list**\n",
    "- Using `[]`. Ex: `x = [1, 2, 3]`\n",
    "\n",
    "**Index a list**\n",
    "- Indexing means accessing one single element at a time\n",
    "- Python starts indexing at `0`\n",
    "- Negative index means counting from the right\n",
    "- Indexing (read): access an element, read its value but do not modify it\n",
    "    - `x[0]`: read 1st element\n",
    "    - `x[2]`: read 3rd element\n",
    "    - `x[-1]`: read the last element\n",
    "    - `x[-2]`: read second to last element\n",
    "- Indexing (write): access an element, then modify it\n",
    "    - `x[0] = 1`: overwrite 1st element with `1`\n",
    "    - `x[-1] = 8`: overwrite last element with `8`\n",
    "    - `del x[2]`: delete 3rd element\n",
    "- Will get an out-of-range error if we index beyond the range of the list\n",
    "\n",
    "**Slice a list**\n",
    "- Slicing means accessing a bunch of elements (called a **slice**) simultaneously\n",
    "- Syntax\n",
    "    - `x[start:stop:step]`: most general one\n",
    "    - `x[start:stop]`: if step  = 1\n",
    "    - `x[start:]`: if step = 1 and slice until the end of `x`\n",
    "    - `x[:stop]`: if step = 1 and slice from the beginning of `x`\n",
    "- Note that `start` is included but `stop` is NOT included\n",
    "- Slicing (read): access a slice, but does not modify it\n",
    "    - `x[:3]`: slice first 3 elements\n",
    "    - `x[3:]`: slice from 4th element to the end\n",
    "    - `x[-3:]`: slice last 3 elements\n",
    "    - `x[1:5]`: slice from 2nd to 5th elements\n",
    "    - `x[:]`: slice the whole list (equivalent to `x.copy()`)\n",
    "    - `x[::2]`: slice from the beginning to end but skip 1 element between each jump\n",
    "- Slicing (write)\n",
    "    - `x[:3] = [1, 2, 3]`: replace first 3 elements by 3 elements `1`, `2`, and `3`\n",
    "    - `x[:3] = [1, 2]`: replace first 3 elements by only 2 elements `1`, `2` (the list will automatically shrinks)\n",
    "    - `x[:3] = [1, 2, 3, 4]`: replace first 3 elements by 4 elements `1`, `2`, `3`, and `4` (the list will automatically expand)\n",
    "    - `del x[1:3]`: delete 2nd and 3rd elements\n",
    "\n",
    "**Nested lists**\n",
    "- A list who contains another list is a nested list\n",
    "- Ex: `x = [1, 2, [\"A\", \"B\", \"C\", \"D\"]]`\n",
    "- Access the inner list: `x[-1]`\n",
    "- Access the first element of the inner list: `x[-1][0]`\n",
    "- Access the last element of the inner list: `x[-1][-1]`\n",
    "- Slice first 3 elements of the inner list: `x[-1][:3]`\n",
    "\n",
    "**Iterate through a list**\n",
    "-   We use a `for` loop to iterate through the elements of a list\n",
    "-   Each time we visit an element is called an **iteration**\n",
    "-   Collection types such as `list`, `tuple`, and `set` are called **iterable** because we can iterate through their elements\n",
    "- After `:` of the `for` statement, we need to indent in (TAB)\n",
    "    - Statement inside the `for` loop will be evaluated in every iteration\n",
    "    - Statement parallel to the `for` loop is considered outside the for loop\n",
    "\n",
    "**Mutability**\n",
    "- Mutability is a property of an object, not of a variable\n",
    "- A variable name is just a label pasted on an object\n",
    "    - We can take the label from one object and re-paste it on another object\n",
    "    - Thus, we never say a variable is mutable or immutable\n",
    "    - We can only say about mutability when talking about objects and data types\n",
    "- The data type of an object is determined when the object is created and stays with the object forever\n",
    "- An object can be mutable or immutable, depending on its data type\n",
    "    - Examples of mutable types: `list`, `dict`, `set`\n",
    "    - Examples of immutable types: `bool`, `float`, `str`, `tuple`, `frozenset`\n",
    "- A mutable object is a box that can change what it stores inside\n",
    "- An immutable object is a box that is fixed: once created, it stays the same until being destroyed by the garbage collector\n",
    "- Pros and cons\n",
    "    - Mutable types\n",
    "        - Pros: flexible\n",
    "        - Cons: less readable, insecure, sometimes slow\n",
    "    - Immutable:\n",
    "        - Pros: more readable, secure, and often faster\n",
    "        - Cons: less flexible\n",
    "\n",
    "**Copy a list**\n",
    "- For this section, to avoid lengthy wording\n",
    "    - When I say `x`, it means the variable\n",
    "    - When I say `x_obj`, it means the objects that `x` is pointing to\n",
    "- Suppose `x` is a list\n",
    "- Aliasing: `y = x`\n",
    "    - This is NOT copying\n",
    "    - `x` and `y` now are pointing to the same object\n",
    "- Shallow copying\n",
    "    - Three ways\n",
    "        - `y = x.copy()`\n",
    "        - `y = x[:]`\n",
    "        - `y = list(x)`\n",
    "    - Only the references of elements of `x_obj` is copied to `y_obj`\n",
    "    - So if `x_obj` contains a mutable element, and we change that element through `x`, the change will be reflected in both `x` and `y`\n",
    "- Deep copying\n",
    "    - We have to import the module `copy` \n",
    "    - Then run `y = copy.deepcopy(x)`\n",
    "    - The above statement will NOT copy the references\n",
    "    - It uses the references to look for the actual values in the memory, then creates objects to hold those copied values\n",
    "    - Thus, `y_obj` now contains the references to the new objects\n",
    "    - And `x_obj` and `y_obj` is completely irrelevant\n",
    "- Pros and cons\n",
    "    - Shallow copying is faster and takes less memory\n",
    "    - But deep copying avoids unwanted effects from mutability\n",
    "\n",
    "**Operations on a list**\n",
    "- Two types of operations on a list\n",
    "    -   Regular operations: those that don't change the list\n",
    "    -   Inplace operations: those that change the list\n",
    "- Regular operations\n",
    "    - Index (read), slice (read)\n",
    "    - Get number of element: `len(x)`\n",
    "    - Check membership: `\"A\" in x`\n",
    "    - Count number of occurrences: `x.count(\"A\")`\n",
    "    - Concat 2 list: `x + y`\n",
    "    - Replicate a list: `x * 3`\n",
    "    - Sort a list: `sorted(x)`\n",
    "    - Reverse a list: `reversed(x)`\n",
    "    - Get index of first occurrence: `x.index(\"A\")`\n",
    "- Inplace operations\n",
    "    - Sort a list: `x.sort()`\n",
    "    - Reverse a list: `x.reverse()`\n",
    "    - Append: `x.append(\"A\")`\n",
    "    - Extend: `x.extend([\"A\", \"B\"])`\n",
    "    - Insert an element: `x.insert(0, \"A\")`\n",
    "    - Remove an element by value: `x.remove(\"A\")`\n",
    "    - Remove an element by index: `del x[1]`\n",
    "    - Pop out an element: `val = x.pop(0)`\n",
    "    - Clear a list: `x.clear()`\n",
    "\n",
    "**Unpack a list**\n",
    "- Suppose `my_date = [2022, 4, 1]`\n",
    "- Unpack all: `y, m, d = my_date`\n",
    "- Get year and month only: `y, m, _ = my_date`\n",
    "- Get year only: `y, *_ = my_date`\n",
    "- Get date only: `*_, d = my_date`\n",
    "\n",
    "**List comprehensions**\n",
    "-  Short way to create a new list from an existing iterable without using a loop\n",
    "- Syntax 1 (without filtering): `[expr for elem in a_list]`\n",
    "- Syntax 2 (with filtering): `[expr for elem in a_list if condition]`"
   ]
  }
 ],
 "metadata": {
  "kernelspec": {
   "display_name": "Python 3 (ipykernel)",
   "language": "python",
   "name": "python3"
  },
  "language_info": {
   "codemirror_mode": {
    "name": "ipython",
    "version": 3
   },
   "file_extension": ".py",
   "mimetype": "text/x-python",
   "name": "python",
   "nbconvert_exporter": "python",
   "pygments_lexer": "ipython3",
   "version": "3.9.12"
  }
 },
 "nbformat": 4,
 "nbformat_minor": 5
}
