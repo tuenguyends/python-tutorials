{
 "cells": [
  {
   "cell_type": "markdown",
   "id": "74907042-45c0-4c32-912c-4aa85f5b712e",
   "metadata": {},
   "source": [
    "# String type\n",
    "Author: Tue Nguyen"
   ]
  },
  {
   "cell_type": "markdown",
   "id": "cd93ab87-8847-43a1-8be9-5eafd90e6ff1",
   "metadata": {},
   "source": [
    "## Overview\n",
    "Topics covered in this lecture include\n",
    "- What is a string?\n",
    "- Create a string\n",
    "- Index a string\n",
    "- Slice a string\n",
    "- Iterate through a string\n",
    "- Conversion to string\n",
    "- Mutability\n",
    "- Operations on a string"
   ]
  },
  {
   "cell_type": "markdown",
   "id": "e76eaacc-6303-44d8-870e-189f65e1c995",
   "metadata": {},
   "source": [
    "## What is a string?\n",
    "- A string is an **immutable** sequence of Unicode characters\n",
    "- Python does NOT distinguish between characters and strings\n",
    "    - There is only the string type, not character type\n",
    "    - A single character is a string of length 1\n",
    "    - Examples of strings: `\"Hello\"`, `\"A\"`, `\"Good morning\"`"
   ]
  },
  {
   "cell_type": "markdown",
   "id": "47797cce-9adb-4af1-baf9-1403baebc926",
   "metadata": {},
   "source": [
    "## Create a string\n",
    "- We can create a string using `'` or `\"`\n",
    "- There's no difference beween using `'` and using `\"`\n",
    "- When we want to preserve new-line characters, we can use triple quotes"
   ]
  },
  {
   "cell_type": "markdown",
   "id": "67da3c28-cccd-400a-a388-595c9b8cb11e",
   "metadata": {},
   "source": [
    "**Ex 1: using single quotes**"
   ]
  },
  {
   "cell_type": "code",
   "execution_count": 1,
   "id": "16f29376-c356-4356-ae37-754a98ccb990",
   "metadata": {},
   "outputs": [
    {
     "name": "stdout",
     "output_type": "stream",
     "text": [
      "Hello\n",
      "<class 'str'>\n"
     ]
    }
   ],
   "source": [
    "s = 'Hello'\n",
    "print(s)\n",
    "print(type(s))"
   ]
  },
  {
   "cell_type": "markdown",
   "id": "f22f2b96-df79-440d-9c96-ebdf1da44a25",
   "metadata": {},
   "source": [
    "**Ex 2: using double quotes**"
   ]
  },
  {
   "cell_type": "code",
   "execution_count": 2,
   "id": "4ff7672d-eed2-48bf-a2a9-61fdbdb37d68",
   "metadata": {},
   "outputs": [
    {
     "name": "stdout",
     "output_type": "stream",
     "text": [
      "Hello\n",
      "<class 'str'>\n"
     ]
    }
   ],
   "source": [
    "s = \"Hello\"\n",
    "print(s)\n",
    "print(type(s))"
   ]
  },
  {
   "cell_type": "markdown",
   "id": "c99b455a-d01b-4946-9efb-56983d54be48",
   "metadata": {},
   "source": [
    "**Ex 3: single vs. double quotes**"
   ]
  },
  {
   "cell_type": "code",
   "execution_count": 12,
   "id": "ae7fc6ed-b7d3-40aa-9814-7f6bbac4f424",
   "metadata": {},
   "outputs": [
    {
     "name": "stdout",
     "output_type": "stream",
     "text": [
      "He said: \"I am handsome\"\n"
     ]
    }
   ],
   "source": [
    "# Use single quotes when your text contains double quotes\n",
    "text = 'He said: \"I am handsome\"'\n",
    "print(text)"
   ]
  },
  {
   "cell_type": "code",
   "execution_count": 13,
   "id": "6009d39d-6b16-49d1-a5f3-43440be0bb8a",
   "metadata": {},
   "outputs": [
    {
     "name": "stdout",
     "output_type": "stream",
     "text": [
      "I have a bachelor's degree\n"
     ]
    }
   ],
   "source": [
    "# Use double quotes when your text contains single quotes\n",
    "text = \"I have a bachelor's degree\"\n",
    "print(text)"
   ]
  },
  {
   "cell_type": "markdown",
   "id": "80e7ee32-e6a1-40e8-ae2c-93f8b55fcb08",
   "metadata": {},
   "source": [
    "**Ex 4: Python is case-sensitive**"
   ]
  },
  {
   "cell_type": "code",
   "execution_count": 4,
   "id": "e7a19e9f-c731-4b1c-81f4-4100ebe0ff9e",
   "metadata": {},
   "outputs": [
    {
     "data": {
      "text/plain": [
       "False"
      ]
     },
     "execution_count": 4,
     "metadata": {},
     "output_type": "execute_result"
    }
   ],
   "source": [
    "\"Hello\" == \"HELLO\""
   ]
  },
  {
   "cell_type": "markdown",
   "id": "ff200ec3-4424-4852-9a49-875dcccb63e9",
   "metadata": {},
   "source": [
    "**Ex 5: triple quotes**"
   ]
  },
  {
   "cell_type": "code",
   "execution_count": 8,
   "id": "6dea258f-958e-4bb5-b135-2c99eb333f1d",
   "metadata": {},
   "outputs": [
    {
     "name": "stdout",
     "output_type": "stream",
     "text": [
      "This is the first line\n",
      "This is the second ine\n"
     ]
    }
   ],
   "source": [
    "# Use triple double quotes when you want a multi-line text\n",
    "text = \"\"\"This is the first line\n",
    "This is the second ine\"\"\"\n",
    "\n",
    "print(text)"
   ]
  },
  {
   "cell_type": "code",
   "execution_count": 10,
   "id": "d3203254-5308-44cd-a691-089887895eed",
   "metadata": {},
   "outputs": [
    {
     "name": "stdout",
     "output_type": "stream",
     "text": [
      "   Line 1\n",
      "    Line 2\n",
      "Line 3\n"
     ]
    }
   ],
   "source": [
    "# Triple quote preserve any kinds of white spaces\n",
    "text = \"\"\"   Line 1\n",
    "    Line 2\n",
    "Line 3\"\"\"\n",
    "\n",
    "print(text)"
   ]
  },
  {
   "cell_type": "code",
   "execution_count": 11,
   "id": "07e22a86-95aa-4e8c-8b87-255519f2f483",
   "metadata": {},
   "outputs": [
    {
     "name": "stdout",
     "output_type": "stream",
     "text": [
      "Line 1\n",
      "Line 2\n"
     ]
    }
   ],
   "source": [
    "# You can also use triple single quotes\n",
    "text = '''Line 1\n",
    "Line 2'''\n",
    "\n",
    "print(text)"
   ]
  },
  {
   "cell_type": "code",
   "execution_count": 16,
   "id": "ac27074b-ccb2-4d6c-b7d8-6c6506cba5c3",
   "metadata": {},
   "outputs": [
    {
     "name": "stdout",
     "output_type": "stream",
     "text": [
      "\n",
      "select\n",
      "    name,\n",
      "    address,\n",
      "    email\n",
      "    from employee\n",
      "where \n",
      "    (salary >= 50000)\n",
      "    and (country = 'UK')\n",
      "\n"
     ]
    }
   ],
   "source": [
    "# Triple quotes are very convenient when you write SQL queries\n",
    "q = \"\"\"\n",
    "select\n",
    "    name,\n",
    "    address,\n",
    "    email\n",
    "    from employee\n",
    "where \n",
    "    (salary >= 50000)\n",
    "    and (country = 'UK')\n",
    "\"\"\"\n",
    "print(q)"
   ]
  },
  {
   "cell_type": "markdown",
   "id": "e284a62e-5e8d-4aa9-8187-01b485f16d8e",
   "metadata": {},
   "source": [
    "**Ex 6: all quotes are the same**"
   ]
  },
  {
   "cell_type": "code",
   "execution_count": 17,
   "id": "a0c55423-bd31-4329-9d4f-f67620b20eb4",
   "metadata": {},
   "outputs": [
    {
     "name": "stdout",
     "output_type": "stream",
     "text": [
      "True\n",
      "True\n",
      "True\n"
     ]
    }
   ],
   "source": [
    "print(\"hello\" == 'hello')\n",
    "print(\"hello\" == '''hello''')\n",
    "print(\"hello\" == \"\"\"hello\"\"\")"
   ]
  },
  {
   "cell_type": "markdown",
   "id": "c64c7a55-1cea-47ba-a911-423d1d140aaf",
   "metadata": {},
   "source": [
    "## Index a string\n",
    "- Same as lists and tuples\n",
    "- Note that each character in the string is like an element of a tuple"
   ]
  },
  {
   "cell_type": "code",
   "execution_count": 18,
   "id": "e7497784-2b4c-4337-98be-082a960a3891",
   "metadata": {},
   "outputs": [
    {
     "data": {
      "text/plain": [
       "'Hello world'"
      ]
     },
     "execution_count": 18,
     "metadata": {},
     "output_type": "execute_result"
    }
   ],
   "source": [
    "# Init\n",
    "s = \"Hello world\"\n",
    "s"
   ]
  },
  {
   "cell_type": "code",
   "execution_count": 19,
   "id": "e4f968bb-9039-4981-a5f3-718ece97ebc4",
   "metadata": {},
   "outputs": [
    {
     "data": {
      "text/plain": [
       "'H'"
      ]
     },
     "execution_count": 19,
     "metadata": {},
     "output_type": "execute_result"
    }
   ],
   "source": [
    "# First character\n",
    "s[0]"
   ]
  },
  {
   "cell_type": "code",
   "execution_count": 20,
   "id": "2fc9c675-84cf-498e-a605-1bac7937d7df",
   "metadata": {},
   "outputs": [
    {
     "data": {
      "text/plain": [
       "'d'"
      ]
     },
     "execution_count": 20,
     "metadata": {},
     "output_type": "execute_result"
    }
   ],
   "source": [
    "# Last character\n",
    "s[-1]"
   ]
  },
  {
   "cell_type": "code",
   "execution_count": 21,
   "id": "40f54328-e32f-4c53-af9f-26e73db1b863",
   "metadata": {},
   "outputs": [
    {
     "data": {
      "text/plain": [
       "'o'"
      ]
     },
     "execution_count": 21,
     "metadata": {},
     "output_type": "execute_result"
    }
   ],
   "source": [
    "# Fifth character\n",
    "s[4]"
   ]
  },
  {
   "cell_type": "markdown",
   "id": "be5fe2a6-01a4-4683-98f9-df6d51a96e55",
   "metadata": {},
   "source": [
    "## Slice a string\n",
    "- Same as lists and tuple\n",
    "- However, there is one exception\n",
    "    - For a list, a slice containing a single element is a list and it is different from that element\n",
    "    - For a string, a slice containing a single character is the same as that character"
   ]
  },
  {
   "cell_type": "code",
   "execution_count": 22,
   "id": "6e482ffc-1f29-4bca-98f4-25cfa635c689",
   "metadata": {},
   "outputs": [
    {
     "name": "stdout",
     "output_type": "stream",
     "text": [
      "1\n",
      "[1]\n",
      "False\n"
     ]
    }
   ],
   "source": [
    "# For a list\n",
    "# A slice containing a single element != that element\n",
    "x = [1, 2, 3]\n",
    "print(x[0])\n",
    "print(x[:1])\n",
    "print(x[0] == x[:1])"
   ]
  },
  {
   "cell_type": "code",
   "execution_count": 23,
   "id": "2b154ca7-290f-45f3-8b2d-12f2eff06154",
   "metadata": {},
   "outputs": [
    {
     "name": "stdout",
     "output_type": "stream",
     "text": [
      "H\n",
      "H\n",
      "True\n"
     ]
    }
   ],
   "source": [
    "# For a string\n",
    "# A slice containing a single character == that character\n",
    "s = \"Hello\"\n",
    "print(s[0])\n",
    "print(s[:1])\n",
    "print(s[0] == s[:1])"
   ]
  },
  {
   "cell_type": "markdown",
   "id": "13fcab8c-8287-4810-b590-c241126c327b",
   "metadata": {},
   "source": [
    "## Iterate through a string\n",
    "- Same as lists and tuples"
   ]
  },
  {
   "cell_type": "code",
   "execution_count": 24,
   "id": "3bd6a1b0-e891-4c91-a1bd-43e5b173c570",
   "metadata": {},
   "outputs": [],
   "source": [
    "# Init\n",
    "s = \"Hello\""
   ]
  },
  {
   "cell_type": "code",
   "execution_count": 25,
   "id": "efde035a-7163-4eb3-adec-3c52e5cf27da",
   "metadata": {},
   "outputs": [
    {
     "name": "stdout",
     "output_type": "stream",
     "text": [
      "H\n",
      "e\n",
      "l\n",
      "l\n",
      "o\n"
     ]
    }
   ],
   "source": [
    "# Iterate through each character and print it out\n",
    "for c in  s:\n",
    "    print(c)"
   ]
  },
  {
   "cell_type": "markdown",
   "id": "1dabcd52-81b1-4e9e-98c0-a179b0d056b0",
   "metadata": {},
   "source": [
    "## Conversion to strings\n",
    "We use `str()` to cast an object to a string"
   ]
  },
  {
   "cell_type": "code",
   "execution_count": 171,
   "id": "26fb34e5-38f0-490c-a8d7-688137c16530",
   "metadata": {},
   "outputs": [
    {
     "data": {
      "text/plain": [
       "'True'"
      ]
     },
     "execution_count": 171,
     "metadata": {},
     "output_type": "execute_result"
    }
   ],
   "source": [
    "# Bool to str\n",
    "str(True)"
   ]
  },
  {
   "cell_type": "code",
   "execution_count": 170,
   "id": "79330b23-581b-40b7-8833-3073039bc751",
   "metadata": {},
   "outputs": [
    {
     "data": {
      "text/plain": [
       "'100'"
      ]
     },
     "execution_count": 170,
     "metadata": {},
     "output_type": "execute_result"
    }
   ],
   "source": [
    "# Int to str\n",
    "str(100)"
   ]
  },
  {
   "cell_type": "code",
   "execution_count": 174,
   "id": "9516a4f0-b464-462b-8fe2-80f2c8048fab",
   "metadata": {},
   "outputs": [
    {
     "data": {
      "text/plain": [
       "'123.45'"
      ]
     },
     "execution_count": 174,
     "metadata": {},
     "output_type": "execute_result"
    }
   ],
   "source": [
    "# Float to str\n",
    "str(123.45)"
   ]
  },
  {
   "cell_type": "code",
   "execution_count": 180,
   "id": "0226f8dc-30a5-47a0-a45c-38f2e55dfb21",
   "metadata": {},
   "outputs": [
    {
     "data": {
      "text/plain": [
       "'[1, 2, 3]'"
      ]
     },
     "execution_count": 180,
     "metadata": {},
     "output_type": "execute_result"
    }
   ],
   "source": [
    "# List to str\n",
    "str([1, 2, 3])"
   ]
  },
  {
   "cell_type": "code",
   "execution_count": 177,
   "id": "de4943b4-1f04-450f-9451-5fdd5e9516a4",
   "metadata": {},
   "outputs": [
    {
     "data": {
      "text/plain": [
       "'(1, 2, 3)'"
      ]
     },
     "execution_count": 177,
     "metadata": {},
     "output_type": "execute_result"
    }
   ],
   "source": [
    "# Tuple to string\n",
    "str((1, 2, 3))"
   ]
  },
  {
   "cell_type": "markdown",
   "id": "0db69dec-068d-4237-ba21-f3dda7b9f552",
   "metadata": {},
   "source": [
    "## Mutablity\n",
    "- A string is **immutable**, meaning that we cannot change it\n",
    "- Try `s[0] = \"A\"` to see the error"
   ]
  },
  {
   "cell_type": "markdown",
   "id": "bd554728-6613-4886-b41b-58ac9bc75fae",
   "metadata": {},
   "source": [
    "## Copy a string"
   ]
  },
  {
   "cell_type": "markdown",
   "id": "60c26a41-1502-47f2-9677-d2cb6164d12a",
   "metadata": {},
   "source": [
    "### Shallow copying\n",
    "- Same as tuples, there is no way to make a shallow copy of a string\n",
    "- `t = s[:]` will result to an aliasing\n",
    "- To make a copy of a string `s`, Simply use `t = s`\n",
    "- Although `s` and `t` are pointing to the same object, we will not have to worry that changing `s` might change `t` because it's impposible to change the string or its elements once created  "
   ]
  },
  {
   "cell_type": "markdown",
   "id": "c7bea0ea-4959-4301-9e8c-1335abcf4ca1",
   "metadata": {},
   "source": [
    "### Deep copying\n",
    "- Deepcopying for string are unnecessary"
   ]
  },
  {
   "cell_type": "markdown",
   "id": "3877c87e-7caf-468f-9351-3936da124b33",
   "metadata": {},
   "source": [
    "## Order of characters\n",
    "- Each character is encoded by one integer\n",
    "- So comparing characters are in fact comparing their underlying integer codes\n",
    "- This might cause some confusion for beginners\n",
    "    - Letters `A-Z` are encoded with integers from `65-90`\n",
    "    - Letters `a-Z` are encoded with integers from `97-122`\n",
    "    - Thus `A < B` but `a > B`\n",
    "    - Therefore, when comparing strings, we first need to convert them to the same case (lower or upper)"
   ]
  },
  {
   "cell_type": "code",
   "execution_count": 52,
   "id": "e75832ef-8a79-455a-8896-4b534be997d5",
   "metadata": {},
   "outputs": [
    {
     "name": "stdout",
     "output_type": "stream",
     "text": [
      "65\n",
      "90\n",
      "97\n",
      "122\n"
     ]
    }
   ],
   "source": [
    "# Check the underlying code using ord()\n",
    "print(ord(\"A\")) # 65\n",
    "print(ord(\"Z\")) # 90\n",
    "print(ord(\"a\")) # 97\n",
    "print(ord(\"z\")) # 122"
   ]
  },
  {
   "cell_type": "code",
   "execution_count": 53,
   "id": "8f2bee53-e2ab-4309-a630-2325a06b58c4",
   "metadata": {},
   "outputs": [
    {
     "name": "stdout",
     "output_type": "stream",
     "text": [
      "False\n",
      "True\n",
      "True\n"
     ]
    }
   ],
   "source": [
    "# Compare strings\n",
    "print(\"BOB\" < \"BILL\") # False because O > I\n",
    "print(\"MARK\" < \"MARY\") # True because K < Y\n",
    "print(\"Happy\" < \"beautiful\") # Because H < b (not B)"
   ]
  },
  {
   "cell_type": "code",
   "execution_count": 65,
   "id": "69358a42-f3d7-4f9c-9b05-de19371d3367",
   "metadata": {},
   "outputs": [
    {
     "name": "stdout",
     "output_type": "stream",
     "text": [
      "A\n",
      "P\n",
      "ߐ\n"
     ]
    }
   ],
   "source": [
    "# You can use chr() to get the Unicode character for a given integer\n",
    "print(chr(65)) # Letter A\n",
    "print(chr(80)) # Letter P\n",
    "print(chr(2000)) # Some weird character"
   ]
  },
  {
   "cell_type": "markdown",
   "id": "37a42559-b72b-4d1a-9c30-616f21900b76",
   "metadata": {},
   "source": [
    "## Operations on a string\n",
    "- We have all regular operations for an immutable sequence like for a tuple\n",
    "- Besides, we will have special operations for Unicode strings"
   ]
  },
  {
   "cell_type": "markdown",
   "id": "3c2f7697-23c0-4631-804c-63f81ab12046",
   "metadata": {},
   "source": [
    "### Regular operations\n",
    "I will not repeat all but just some examples"
   ]
  },
  {
   "cell_type": "code",
   "execution_count": 32,
   "id": "12aa0374-d624-45e5-8c49-9350034ecfdc",
   "metadata": {},
   "outputs": [
    {
     "data": {
      "text/plain": [
       "'Hello'"
      ]
     },
     "execution_count": 32,
     "metadata": {},
     "output_type": "execute_result"
    }
   ],
   "source": [
    "# Init\n",
    "s = \"Hello\"\n",
    "s"
   ]
  },
  {
   "cell_type": "code",
   "execution_count": 33,
   "id": "17775200-6dbd-405e-b129-c391dbd8a792",
   "metadata": {},
   "outputs": [
    {
     "data": {
      "text/plain": [
       "5"
      ]
     },
     "execution_count": 33,
     "metadata": {},
     "output_type": "execute_result"
    }
   ],
   "source": [
    "# Count numer of characters\n",
    "len(s)"
   ]
  },
  {
   "cell_type": "code",
   "execution_count": 35,
   "id": "c1d20fe9-a33e-48d2-ad05-28b7d9c9c064",
   "metadata": {},
   "outputs": [
    {
     "data": {
      "text/plain": [
       "False"
      ]
     },
     "execution_count": 35,
     "metadata": {},
     "output_type": "execute_result"
    }
   ],
   "source": [
    "# Check if 'h' in s (remember Python is case-sensitive)\n",
    "'h' in s"
   ]
  },
  {
   "cell_type": "code",
   "execution_count": 34,
   "id": "c6928e42-9a09-461b-aeca-0fa1fb8e76d2",
   "metadata": {},
   "outputs": [
    {
     "data": {
      "text/plain": [
       "True"
      ]
     },
     "execution_count": 34,
     "metadata": {},
     "output_type": "execute_result"
    }
   ],
   "source": [
    "# Check if \"H\" in s\n",
    "\"H\" in s"
   ]
  },
  {
   "cell_type": "code",
   "execution_count": 37,
   "id": "b32f57ef-ac00-43d8-8674-e852927125f8",
   "metadata": {},
   "outputs": [
    {
     "data": {
      "text/plain": [
       "2"
      ]
     },
     "execution_count": 37,
     "metadata": {},
     "output_type": "execute_result"
    }
   ],
   "source": [
    "# Count number of occurrences of \"l\"\n",
    "s.count(\"l\")"
   ]
  },
  {
   "cell_type": "code",
   "execution_count": 36,
   "id": "94c09447-c772-4a44-86d6-f042e3d10377",
   "metadata": {},
   "outputs": [
    {
     "data": {
      "text/plain": [
       "'Hello world'"
      ]
     },
     "execution_count": 36,
     "metadata": {},
     "output_type": "execute_result"
    }
   ],
   "source": [
    "# Concat 2 strings\n",
    "\"Hello \" + \"world\""
   ]
  },
  {
   "cell_type": "code",
   "execution_count": 68,
   "id": "449e7279-c6d3-4bdf-b057-9cce443d028f",
   "metadata": {},
   "outputs": [
    {
     "name": "stdout",
     "output_type": "stream",
     "text": [
      "['W', 'd', 'l', 'o', 'r']\n",
      "['d', 'l', 'o', 'r', 'w']\n"
     ]
    }
   ],
   "source": [
    "# Sort a string with sorted()\n",
    "# Note that sorted takes an iterable and returns a list\n",
    "# no matter the input is a list, tuple, or string\n",
    "# Thus, you always get a list back\n",
    "print(sorted(\"World\"))\n",
    "print(sorted(\"world\"))"
   ]
  },
  {
   "cell_type": "markdown",
   "id": "9673f840-c2eb-4b98-8a2f-a84cf9b909f0",
   "metadata": {},
   "source": [
    "### Special string operations\n",
    "We can divide special string operations into the following groups\n",
    "- Group 1: case checking\n",
    "- Group 2: case transformations\n",
    "- Group 3: substring checking\n",
    "- Group 4: white space handling\n",
    "- Group 5: string padding\n",
    "- Group 6: string splitting & joining\n",
    "- Group 7: searching and replacing\n",
    "\n",
    "Further readings\n",
    "- For the full reference, visit https://docs.python.org/3/library/stdtypes.html#string-methods\n",
    "- For advanced string processing, check `re` module https://docs.python.org/3/library/re.html"
   ]
  },
  {
   "cell_type": "markdown",
   "id": "9b525258-c461-43ac-8330-3aa901582e70",
   "metadata": {},
   "source": [
    "#### Group 1: case checking\n",
    "- First we need to distinguish between **cased** and **non-cased** characters\n",
    "- Cased characters \n",
    "    - They are letters in a language such as English, Vietnamese, or Italian\n",
    "    - They have uppercase and lowercase forms. Ex: `o-O`, `a-A`, `ê-Ê`\n",
    "- Non-cased characters\n",
    "    - They are the rest\n",
    "    - And they have only form. Ex: `0`, `1`, `.`, `?`, `-`"
   ]
  },
  {
   "cell_type": "markdown",
   "id": "c3d70c5b-6691-402c-b5de-26307a9c70c6",
   "metadata": {},
   "source": [
    "**a) Check if ALL cased-characters in a string is in lowercase**\n",
    "\n",
    "- Returns `True` if there is at least one cased chatacter and all cased characters are in lowercase\n",
    "- Return `False` otherwise\n",
    "- You can read the documentation using `?str.islower`"
   ]
  },
  {
   "cell_type": "code",
   "execution_count": 86,
   "id": "c4e90834-737a-4d0a-91f8-66a672461a43",
   "metadata": {},
   "outputs": [
    {
     "data": {
      "text/plain": [
       "\u001b[1;31mSignature:\u001b[0m \u001b[0mstr\u001b[0m\u001b[1;33m.\u001b[0m\u001b[0mislower\u001b[0m\u001b[1;33m(\u001b[0m\u001b[0mself\u001b[0m\u001b[1;33m,\u001b[0m \u001b[1;33m/\u001b[0m\u001b[1;33m)\u001b[0m\u001b[1;33m\u001b[0m\u001b[1;33m\u001b[0m\u001b[0m\n",
       "\u001b[1;31mDocstring:\u001b[0m\n",
       "Return True if the string is a lowercase string, False otherwise.\n",
       "\n",
       "A string is lowercase if all cased characters in the string are lowercase and\n",
       "there is at least one cased character in the string.\n",
       "\u001b[1;31mType:\u001b[0m      method_descriptor\n"
      ]
     },
     "metadata": {},
     "output_type": "display_data"
    }
   ],
   "source": [
    "# Read the documentation\n",
    "?str.islower"
   ]
  },
  {
   "cell_type": "code",
   "execution_count": 77,
   "id": "82c00e65-c2c2-4706-8572-f286a00778a1",
   "metadata": {},
   "outputs": [
    {
     "data": {
      "text/plain": [
       "True"
      ]
     },
     "execution_count": 77,
     "metadata": {},
     "output_type": "execute_result"
    }
   ],
   "source": [
    "\"hello\".islower() # True"
   ]
  },
  {
   "cell_type": "code",
   "execution_count": 80,
   "id": "b3d872f7-c16c-44bb-8842-62f3efda671b",
   "metadata": {},
   "outputs": [
    {
     "data": {
      "text/plain": [
       "True"
      ]
     },
     "execution_count": 80,
     "metadata": {},
     "output_type": "execute_result"
    }
   ],
   "source": [
    "\"hello!\".islower() # True"
   ]
  },
  {
   "cell_type": "code",
   "execution_count": 79,
   "id": "d627d9b8-29f8-428e-ba39-6e96f7a38d6d",
   "metadata": {},
   "outputs": [
    {
     "data": {
      "text/plain": [
       "False"
      ]
     },
     "execution_count": 79,
     "metadata": {},
     "output_type": "execute_result"
    }
   ],
   "source": [
    "\"Hello\".islower() # False because of H"
   ]
  },
  {
   "cell_type": "code",
   "execution_count": 83,
   "id": "6f04c7df-a024-478f-8843-eb5596b11afd",
   "metadata": {},
   "outputs": [
    {
     "data": {
      "text/plain": [
       "False"
      ]
     },
     "execution_count": 83,
     "metadata": {},
     "output_type": "execute_result"
    }
   ],
   "source": [
    "\"012!@\".islower() # False because there is no cased-character"
   ]
  },
  {
   "cell_type": "markdown",
   "id": "c2ecb3f7-d226-4d41-b7ee-7b789fd4c167",
   "metadata": {},
   "source": [
    "**b) Check if ALL cased-characters in a string is in uppercase**"
   ]
  },
  {
   "cell_type": "code",
   "execution_count": 87,
   "id": "4ed9fe6d-91a9-48b5-a9e7-7d2a4bcbb2e3",
   "metadata": {},
   "outputs": [
    {
     "data": {
      "text/plain": [
       "True"
      ]
     },
     "execution_count": 87,
     "metadata": {},
     "output_type": "execute_result"
    }
   ],
   "source": [
    "\"HELLO\".isupper() # True"
   ]
  },
  {
   "cell_type": "code",
   "execution_count": 88,
   "id": "0a9fbbe1-8ceb-49ac-bbc1-e557a1c0084e",
   "metadata": {},
   "outputs": [
    {
     "data": {
      "text/plain": [
       "True"
      ]
     },
     "execution_count": 88,
     "metadata": {},
     "output_type": "execute_result"
    }
   ],
   "source": [
    "\"HELLO!@\".isupper() # True"
   ]
  },
  {
   "cell_type": "code",
   "execution_count": 89,
   "id": "52c03116-cac8-4428-9111-3f39bd041892",
   "metadata": {},
   "outputs": [
    {
     "data": {
      "text/plain": [
       "False"
      ]
     },
     "execution_count": 89,
     "metadata": {},
     "output_type": "execute_result"
    }
   ],
   "source": [
    "\"HELLo\".isupper() # False because of o"
   ]
  },
  {
   "cell_type": "code",
   "execution_count": 90,
   "id": "de2196a0-8289-4b8c-a70a-08cbb12d5fad",
   "metadata": {},
   "outputs": [
    {
     "data": {
      "text/plain": [
       "False"
      ]
     },
     "execution_count": 90,
     "metadata": {},
     "output_type": "execute_result"
    }
   ],
   "source": [
    "\"012!@\".isupper() # False because there is no cased character"
   ]
  },
  {
   "cell_type": "markdown",
   "id": "9dcdfa4f-c8c2-48ed-96f4-75e7a2d88675",
   "metadata": {},
   "source": [
    "**c) Check if the first character of each word is in uppercase and the rest is lowercase**"
   ]
  },
  {
   "cell_type": "code",
   "execution_count": 95,
   "id": "96c841d5-94fa-444e-92e1-f364defeea1e",
   "metadata": {},
   "outputs": [
    {
     "data": {
      "text/plain": [
       "True"
      ]
     },
     "execution_count": 95,
     "metadata": {},
     "output_type": "execute_result"
    }
   ],
   "source": [
    "\"Mr. John\".istitle() # True"
   ]
  },
  {
   "cell_type": "code",
   "execution_count": 98,
   "id": "7b8cb9f6-9f67-44dc-8f71-23824394d6dd",
   "metadata": {},
   "outputs": [
    {
     "data": {
      "text/plain": [
       "False"
      ]
     },
     "execution_count": 98,
     "metadata": {},
     "output_type": "execute_result"
    }
   ],
   "source": [
    "\"MR. John\".istitle() # False"
   ]
  },
  {
   "cell_type": "markdown",
   "id": "19ed02c7-6817-4a37-92ab-93244b0dcaab",
   "metadata": {},
   "source": [
    "**d) Check if all characters are letters**"
   ]
  },
  {
   "cell_type": "code",
   "execution_count": 100,
   "id": "22d9118e-bc91-442c-b875-3498b10d37b4",
   "metadata": {},
   "outputs": [
    {
     "data": {
      "text/plain": [
       "True"
      ]
     },
     "execution_count": 100,
     "metadata": {},
     "output_type": "execute_result"
    }
   ],
   "source": [
    "\"Hello\".isalpha() # True"
   ]
  },
  {
   "cell_type": "code",
   "execution_count": 103,
   "id": "65b1a794-0760-4df9-b53c-430ff055ded7",
   "metadata": {},
   "outputs": [
    {
     "data": {
      "text/plain": [
       "True"
      ]
     },
     "execution_count": 103,
     "metadata": {},
     "output_type": "execute_result"
    }
   ],
   "source": [
    "\"Chào\".isalpha() # True (all are Vietnamese letters)"
   ]
  },
  {
   "cell_type": "code",
   "execution_count": 101,
   "id": "4e4f8709-80d7-4f55-a322-318e04a1539c",
   "metadata": {},
   "outputs": [
    {
     "data": {
      "text/plain": [
       "False"
      ]
     },
     "execution_count": 101,
     "metadata": {},
     "output_type": "execute_result"
    }
   ],
   "source": [
    "\"Hello world\".isalpha() # False because of the space"
   ]
  },
  {
   "cell_type": "code",
   "execution_count": 102,
   "id": "ed189b39-6d82-4f47-b123-2639195e5795",
   "metadata": {},
   "outputs": [
    {
     "data": {
      "text/plain": [
       "False"
      ]
     },
     "execution_count": 102,
     "metadata": {},
     "output_type": "execute_result"
    }
   ],
   "source": [
    "\"No1\".isalpha() # Because of 1"
   ]
  },
  {
   "cell_type": "markdown",
   "id": "d60f7670-95a4-4919-8283-5b0fe4188fb8",
   "metadata": {},
   "source": [
    "**e) Check if all characters are digits `0-9`**"
   ]
  },
  {
   "cell_type": "code",
   "execution_count": 104,
   "id": "5964ec5a-296f-4cda-858f-bc2d65479882",
   "metadata": {},
   "outputs": [
    {
     "data": {
      "text/plain": [
       "True"
      ]
     },
     "execution_count": 104,
     "metadata": {},
     "output_type": "execute_result"
    }
   ],
   "source": [
    "\"1234\".isdigit()"
   ]
  },
  {
   "cell_type": "code",
   "execution_count": 106,
   "id": "51fcd760-e5d1-44e7-960e-53301e4ab0d7",
   "metadata": {},
   "outputs": [
    {
     "data": {
      "text/plain": [
       "False"
      ]
     },
     "execution_count": 106,
     "metadata": {},
     "output_type": "execute_result"
    }
   ],
   "source": [
    "\"012-345\".isdigit() # False because of the hyphen"
   ]
  },
  {
   "cell_type": "markdown",
   "id": "2d649a40-6d8c-4422-9a76-9c9d6ed548b9",
   "metadata": {},
   "source": [
    "**f) Check if all characters are letters and/or digits (alpha numeric)**"
   ]
  },
  {
   "cell_type": "code",
   "execution_count": 108,
   "id": "aa83e434-86a7-4065-9e6c-21ab17e8696d",
   "metadata": {},
   "outputs": [
    {
     "data": {
      "text/plain": [
       "True"
      ]
     },
     "execution_count": 108,
     "metadata": {},
     "output_type": "execute_result"
    }
   ],
   "source": [
    "\"Number1\".isalnum() # True"
   ]
  },
  {
   "cell_type": "code",
   "execution_count": 109,
   "id": "81e4da27-647b-4ea5-ad87-d6581290922c",
   "metadata": {},
   "outputs": [
    {
     "data": {
      "text/plain": [
       "False"
      ]
     },
     "execution_count": 109,
     "metadata": {},
     "output_type": "execute_result"
    }
   ],
   "source": [
    "\"Number 1\".isalnum() # False because of the space"
   ]
  },
  {
   "cell_type": "markdown",
   "id": "a300fa22-dd7a-4c1a-94c5-4daf873dcd0b",
   "metadata": {},
   "source": [
    "**g) Check if all characters are white spaces**\n",
    "\n",
    "Note that white spaces include space (` `), tab (`\\t`), and new line character (`\\n`)"
   ]
  },
  {
   "cell_type": "code",
   "execution_count": 137,
   "id": "5581f473-0342-4d51-872d-e8e7976c50df",
   "metadata": {},
   "outputs": [
    {
     "data": {
      "text/plain": [
       "True"
      ]
     },
     "execution_count": 137,
     "metadata": {},
     "output_type": "execute_result"
    }
   ],
   "source": [
    "\"    \".isspace() # True"
   ]
  },
  {
   "cell_type": "code",
   "execution_count": 138,
   "id": "85ac7b64-c51a-4883-98c5-d0d42e72b143",
   "metadata": {},
   "outputs": [
    {
     "data": {
      "text/plain": [
       "True"
      ]
     },
     "execution_count": 138,
     "metadata": {},
     "output_type": "execute_result"
    }
   ],
   "source": [
    "\" \\t\\n\".isspace() # True"
   ]
  },
  {
   "cell_type": "code",
   "execution_count": 140,
   "id": "74041cee-c504-428d-b974-777c7cf60cca",
   "metadata": {},
   "outputs": [
    {
     "data": {
      "text/plain": [
       "True"
      ]
     },
     "execution_count": 140,
     "metadata": {},
     "output_type": "execute_result"
    }
   ],
   "source": [
    "text = \"\"\"\n",
    "\n",
    "\n",
    "\"\"\"\n",
    "text.isspace() # True"
   ]
  },
  {
   "cell_type": "markdown",
   "id": "8b66e430-c3a7-43e5-872d-1b130da70b4f",
   "metadata": {},
   "source": [
    "**h) More interesting examples**"
   ]
  },
  {
   "cell_type": "code",
   "execution_count": 117,
   "id": "7e371512-d46b-4655-aa33-674de2da921b",
   "metadata": {},
   "outputs": [],
   "source": [
    "# Init a string\n",
    "s = \"The word WTO is short for World Trade Organization\""
   ]
  },
  {
   "cell_type": "code",
   "execution_count": 118,
   "id": "47eb68c2-3a0d-4775-a72c-a055f04be9d2",
   "metadata": {},
   "outputs": [
    {
     "data": {
      "text/plain": [
       "7"
      ]
     },
     "execution_count": 118,
     "metadata": {},
     "output_type": "execute_result"
    }
   ],
   "source": [
    "# Ex 1: count the number of capital letters\n",
    "num_caps = 0\n",
    "for c in s:\n",
    "    if c.isupper():\n",
    "        num_caps += 1\n",
    "num_caps"
   ]
  },
  {
   "cell_type": "code",
   "execution_count": 119,
   "id": "376aa8de-a976-4a0f-a933-25c64da67e4a",
   "metadata": {},
   "outputs": [
    {
     "data": {
      "text/plain": [
       "8"
      ]
     },
     "execution_count": 119,
     "metadata": {},
     "output_type": "execute_result"
    }
   ],
   "source": [
    "# Ex 2: count the number of spaces\n",
    "num_spaces = 0\n",
    "for c in s:\n",
    "    if c.isspace():\n",
    "        num_spaces += 1\n",
    "num_spaces"
   ]
  },
  {
   "cell_type": "markdown",
   "id": "2cd2e3e0-78bf-4ffc-9e26-5a857a670b47",
   "metadata": {},
   "source": [
    "#### Group 2: case transformations"
   ]
  },
  {
   "cell_type": "code",
   "execution_count": 123,
   "id": "1d224d73-ce97-488e-afb2-e5de2ad8492b",
   "metadata": {},
   "outputs": [
    {
     "data": {
      "text/plain": [
       "'Python is fUn.'"
      ]
     },
     "execution_count": 123,
     "metadata": {},
     "output_type": "execute_result"
    }
   ],
   "source": [
    "# Init\n",
    "s = \"Python is fUn.\"\n",
    "s"
   ]
  },
  {
   "cell_type": "code",
   "execution_count": 124,
   "id": "07dadea2-668d-403e-8092-ca153ec685a6",
   "metadata": {},
   "outputs": [
    {
     "data": {
      "text/plain": [
       "'PYTHON IS FUN.'"
      ]
     },
     "execution_count": 124,
     "metadata": {},
     "output_type": "execute_result"
    }
   ],
   "source": [
    "# Make uppercase\n",
    "s.upper()"
   ]
  },
  {
   "cell_type": "code",
   "execution_count": 125,
   "id": "2d56dcda-84a4-4cf3-b927-35c666a3fe76",
   "metadata": {},
   "outputs": [
    {
     "data": {
      "text/plain": [
       "'python is fun.'"
      ]
     },
     "execution_count": 125,
     "metadata": {},
     "output_type": "execute_result"
    }
   ],
   "source": [
    "# Make lowercase\n",
    "s.lower()"
   ]
  },
  {
   "cell_type": "code",
   "execution_count": 126,
   "id": "abae6679-fbe8-46ac-9b82-ec2cd31ea1de",
   "metadata": {},
   "outputs": [
    {
     "data": {
      "text/plain": [
       "'Python Is Fun.'"
      ]
     },
     "execution_count": 126,
     "metadata": {},
     "output_type": "execute_result"
    }
   ],
   "source": [
    "# Make a title \n",
    "s.title()"
   ]
  },
  {
   "cell_type": "code",
   "execution_count": 127,
   "id": "fbe4ac62-0350-477e-8b48-c22babcb040a",
   "metadata": {},
   "outputs": [
    {
     "data": {
      "text/plain": [
       "'Python is fun.'"
      ]
     },
     "execution_count": 127,
     "metadata": {},
     "output_type": "execute_result"
    }
   ],
   "source": [
    "# Make a scntence (Capitalize the first word only)\n",
    "s.capitalize()"
   ]
  },
  {
   "cell_type": "code",
   "execution_count": 128,
   "id": "cd856130-5de1-4750-8a17-f9878e91343e",
   "metadata": {},
   "outputs": [
    {
     "data": {
      "text/plain": [
       "'pYTHON IS FuN.'"
      ]
     },
     "execution_count": 128,
     "metadata": {},
     "output_type": "execute_result"
    }
   ],
   "source": [
    "# Swap case (lower -> upper, upper -> lower)\n",
    "s.swapcase()"
   ]
  },
  {
   "cell_type": "markdown",
   "id": "17786aa4-9bde-48ae-b009-9d22c77ba550",
   "metadata": {},
   "source": [
    "#### Group 3: substring checking"
   ]
  },
  {
   "cell_type": "code",
   "execution_count": 129,
   "id": "9b8ec4e9-6992-4e64-b0fe-92373510c6ba",
   "metadata": {},
   "outputs": [
    {
     "data": {
      "text/plain": [
       "'Python is fUn.'"
      ]
     },
     "execution_count": 129,
     "metadata": {},
     "output_type": "execute_result"
    }
   ],
   "source": [
    "# Init\n",
    "s = \"Python is fUn.\"\n",
    "s"
   ]
  },
  {
   "cell_type": "markdown",
   "id": "b2206ed4-6c2d-4f42-826a-2a1ee62556eb",
   "metadata": {},
   "source": [
    "**a) Contains**"
   ]
  },
  {
   "cell_type": "code",
   "execution_count": 130,
   "id": "5fed6596-f2d2-4c4c-a28c-65d0d8f46e46",
   "metadata": {},
   "outputs": [
    {
     "data": {
      "text/plain": [
       "True"
      ]
     },
     "execution_count": 130,
     "metadata": {},
     "output_type": "execute_result"
    }
   ],
   "source": [
    "# Check if \"Python\" is in s\n",
    "\"Python\" in s"
   ]
  },
  {
   "cell_type": "code",
   "execution_count": 131,
   "id": "0b7218e6-c9b3-4bca-996e-4d8f1b2a822f",
   "metadata": {},
   "outputs": [
    {
     "data": {
      "text/plain": [
       "False"
      ]
     },
     "execution_count": 131,
     "metadata": {},
     "output_type": "execute_result"
    }
   ],
   "source": [
    "# Check if \"python\" is in s\n",
    "\"python\" in s"
   ]
  },
  {
   "cell_type": "markdown",
   "id": "47cecca6-1373-4a4d-ad84-105764190506",
   "metadata": {},
   "source": [
    "**b) Starts with**"
   ]
  },
  {
   "cell_type": "code",
   "execution_count": 132,
   "id": "9d2cb100-3265-4d91-bd63-019af51c7319",
   "metadata": {},
   "outputs": [
    {
     "data": {
      "text/plain": [
       "True"
      ]
     },
     "execution_count": 132,
     "metadata": {},
     "output_type": "execute_result"
    }
   ],
   "source": [
    "# Check if s starts with \"Py\"\n",
    "s.startswith(\"Py\")"
   ]
  },
  {
   "cell_type": "code",
   "execution_count": 133,
   "id": "953fdac3-3239-452f-b3e7-ef5d217d3a5a",
   "metadata": {},
   "outputs": [
    {
     "data": {
      "text/plain": [
       "False"
      ]
     },
     "execution_count": 133,
     "metadata": {},
     "output_type": "execute_result"
    }
   ],
   "source": [
    "# Check if s starts with \"py\"\n",
    "s.startswith(\"py\")"
   ]
  },
  {
   "cell_type": "markdown",
   "id": "be640ee5-99cb-4030-871c-80f73c3057dd",
   "metadata": {},
   "source": [
    "**c) Ends with**"
   ]
  },
  {
   "cell_type": "code",
   "execution_count": 134,
   "id": "34d0b953-6d3b-43ab-8649-c685325bf03c",
   "metadata": {},
   "outputs": [
    {
     "data": {
      "text/plain": [
       "True"
      ]
     },
     "execution_count": 134,
     "metadata": {},
     "output_type": "execute_result"
    }
   ],
   "source": [
    "# Check if s ends with \".\"\n",
    "s.endswith(\".\")"
   ]
  },
  {
   "cell_type": "code",
   "execution_count": 135,
   "id": "d0ccf428-418c-49fa-b032-f6b7c714db9f",
   "metadata": {},
   "outputs": [
    {
     "data": {
      "text/plain": [
       "False"
      ]
     },
     "execution_count": 135,
     "metadata": {},
     "output_type": "execute_result"
    }
   ],
   "source": [
    "# Check if s ends with \"!\"\n",
    "s.endswith(\"!\")"
   ]
  },
  {
   "cell_type": "markdown",
   "id": "30ee7462-d1aa-40ee-8767-c19c611223a6",
   "metadata": {},
   "source": [
    "#### Group 4: white space handling"
   ]
  },
  {
   "cell_type": "code",
   "execution_count": 149,
   "id": "5a5e9f78-626c-4073-88f2-dd906fc224b9",
   "metadata": {},
   "outputs": [
    {
     "data": {
      "text/plain": [
       "'\\t   Hello\\t'"
      ]
     },
     "execution_count": 149,
     "metadata": {},
     "output_type": "execute_result"
    }
   ],
   "source": [
    "# Init a s tring\n",
    "s = \"\\t   Hello\\t\"\n",
    "s"
   ]
  },
  {
   "cell_type": "code",
   "execution_count": 150,
   "id": "9e5aced9-8036-456f-a212-898820e7f216",
   "metadata": {},
   "outputs": [
    {
     "data": {
      "text/plain": [
       "'Hello\\t'"
      ]
     },
     "execution_count": 150,
     "metadata": {},
     "output_type": "execute_result"
    }
   ],
   "source": [
    "# Remove leading white spaces (left strip)\n",
    "s.lstrip()"
   ]
  },
  {
   "cell_type": "code",
   "execution_count": 151,
   "id": "7d79af4f-7c6d-46db-9fcc-071151d41710",
   "metadata": {},
   "outputs": [
    {
     "data": {
      "text/plain": [
       "'\\t   Hello'"
      ]
     },
     "execution_count": 151,
     "metadata": {},
     "output_type": "execute_result"
    }
   ],
   "source": [
    "# Remove trailing white spaces (right strip)\n",
    "s.rstrip()"
   ]
  },
  {
   "cell_type": "code",
   "execution_count": 152,
   "id": "b8a5461a-6625-473e-8e4d-d6b535b39d44",
   "metadata": {},
   "outputs": [
    {
     "data": {
      "text/plain": [
       "'Hello'"
      ]
     },
     "execution_count": 152,
     "metadata": {},
     "output_type": "execute_result"
    }
   ],
   "source": [
    "# Remove spaces at both ends (strip)\n",
    "s.strip()"
   ]
  },
  {
   "cell_type": "markdown",
   "id": "6269eb4b-b73c-4a93-aef0-f73768d8c55a",
   "metadata": {},
   "source": [
    "#### Group 5: string padding\n",
    "- Padding a string `s` is adding a fill character to the left or the right of `s`\n",
    "- Normally we want `s` to have a fixed length\n",
    "- If `s` has not reach that fixed lenth, we want to fill in some character to achieve that goal\n",
    "- Ex: we want `'01'`, `'02'`, ..., `'11'`, `'12'` but the original data are `'1'`, `'2'`, ..., `'11'`, `'12'` "
   ]
  },
  {
   "cell_type": "code",
   "execution_count": 156,
   "id": "d5a0fbdc-aa0e-4c95-9838-f5893beb052e",
   "metadata": {},
   "outputs": [
    {
     "data": {
      "text/plain": [
       "'A'"
      ]
     },
     "execution_count": 156,
     "metadata": {},
     "output_type": "execute_result"
    }
   ],
   "source": [
    "# Init a string\n",
    "s = \"A\"\n",
    "s"
   ]
  },
  {
   "cell_type": "code",
   "execution_count": 161,
   "id": "040ce394-6b59-4688-8699-b2d8b2a48177",
   "metadata": {},
   "outputs": [
    {
     "data": {
      "text/plain": [
       "\u001b[1;31mSignature:\u001b[0m \u001b[0mstr\u001b[0m\u001b[1;33m.\u001b[0m\u001b[0mrjust\u001b[0m\u001b[1;33m(\u001b[0m\u001b[0mself\u001b[0m\u001b[1;33m,\u001b[0m \u001b[0mwidth\u001b[0m\u001b[1;33m,\u001b[0m \u001b[0mfillchar\u001b[0m\u001b[1;33m=\u001b[0m\u001b[1;34m' '\u001b[0m\u001b[1;33m,\u001b[0m \u001b[1;33m/\u001b[0m\u001b[1;33m)\u001b[0m\u001b[1;33m\u001b[0m\u001b[1;33m\u001b[0m\u001b[0m\n",
       "\u001b[1;31mDocstring:\u001b[0m\n",
       "Return a right-justified string of length width.\n",
       "\n",
       "Padding is done using the specified fill character (default is a space).\n",
       "\u001b[1;31mType:\u001b[0m      method_descriptor\n"
      ]
     },
     "metadata": {},
     "output_type": "display_data"
    }
   ],
   "source": [
    "# Read the document for justification\n",
    "?str.rjust"
   ]
  },
  {
   "cell_type": "code",
   "execution_count": 166,
   "id": "1b234d1d-baaf-4881-846e-bf0a202fc342",
   "metadata": {},
   "outputs": [
    {
     "data": {
      "text/plain": [
       "'00A'"
      ]
     },
     "execution_count": 166,
     "metadata": {},
     "output_type": "execute_result"
    }
   ],
   "source": [
    "# Pad 0's to the LEFT of s (right just) to get a string of length 3\n",
    "s.rjust(3, \"0\")"
   ]
  },
  {
   "cell_type": "code",
   "execution_count": 167,
   "id": "9485d69d-fd5b-43f4-b4af-f29bcfbb4666",
   "metadata": {},
   "outputs": [
    {
     "data": {
      "text/plain": [
       "'A00'"
      ]
     },
     "execution_count": 167,
     "metadata": {},
     "output_type": "execute_result"
    }
   ],
   "source": [
    "# Pad 0's to the RIGHT of s (left just) to get a string of length 3\n",
    "s.ljust(3, \"0\")"
   ]
  },
  {
   "cell_type": "code",
   "execution_count": 169,
   "id": "1b3b4933-c5be-4bee-bfb9-6bb81a2b8129",
   "metadata": {},
   "outputs": [
    {
     "data": {
      "text/plain": [
       "'00A'"
      ]
     },
     "execution_count": 169,
     "metadata": {},
     "output_type": "execute_result"
    }
   ],
   "source": [
    "# Since filling leading zeros is a common action\n",
    "# Python string has a method .zfill()\n",
    "# Ex: fill leading zeros to make a string of length 3\n",
    "s.zfill(3)"
   ]
  },
  {
   "cell_type": "code",
   "execution_count": 181,
   "id": "20c82eed-abfc-477a-a512-b43d933eaa1f",
   "metadata": {},
   "outputs": [
    {
     "name": "stdout",
     "output_type": "stream",
     "text": [
      "month_01\n",
      "month_02\n",
      "month_03\n",
      "month_04\n",
      "month_05\n",
      "month_06\n",
      "month_07\n",
      "month_08\n",
      "month_09\n",
      "month_10\n",
      "month_11\n",
      "month_12\n"
     ]
    }
   ],
   "source": [
    "# Print out 'month_01', 'month_02', ..., `month_12`\n",
    "for i in range(1, 13):\n",
    "    month = str(i).zfill(2)\n",
    "    print(\"month_\" + month)"
   ]
  },
  {
   "cell_type": "markdown",
   "id": "9a52ac58-cf68-41b9-955b-5cb8baa17b63",
   "metadata": {},
   "source": [
    "#### Group 6: string splitting & joining"
   ]
  },
  {
   "cell_type": "markdown",
   "id": "a34874de-a320-42bd-b4e7-87f7227e704b",
   "metadata": {},
   "source": [
    "**a) Split a string based on a given token**"
   ]
  },
  {
   "cell_type": "code",
   "execution_count": 183,
   "id": "336ca020-c962-4f75-b28e-3360d5e5f7a5",
   "metadata": {},
   "outputs": [
    {
     "data": {
      "text/plain": [
       "['How', 'are', 'you?', 'I', 'am', 'fine']"
      ]
     },
     "execution_count": 183,
     "metadata": {},
     "output_type": "execute_result"
    }
   ],
   "source": [
    "# Split a string by white spaces\n",
    "\"How are you?\\nI am fine\".split()"
   ]
  },
  {
   "cell_type": "code",
   "execution_count": 184,
   "id": "0499cd96-99ef-4cf8-b315-0dd799bd754c",
   "metadata": {},
   "outputs": [
    {
     "data": {
      "text/plain": [
       "['2022', '01', '01']"
      ]
     },
     "execution_count": 184,
     "metadata": {},
     "output_type": "execute_result"
    }
   ],
   "source": [
    "# Split a string by hyphens\n",
    "\"2022-01-01\".split(\"-\")"
   ]
  },
  {
   "cell_type": "code",
   "execution_count": 185,
   "id": "c0f7d301-1665-4ca0-96b7-ff2aa6003a68",
   "metadata": {},
   "outputs": [
    {
     "data": {
      "text/plain": [
       "['John Doe', 'john@example.com', 'UK']"
      ]
     },
     "execution_count": 185,
     "metadata": {},
     "output_type": "execute_result"
    }
   ],
   "source": [
    "# Split a string by a token\n",
    "\"John Doe||john@example.com||UK\".split(\"||\")"
   ]
  },
  {
   "cell_type": "markdown",
   "id": "006af949-ea80-4549-aa3f-0152ed62cfbe",
   "metadata": {},
   "source": [
    "**b) Split a string into partitions**"
   ]
  },
  {
   "cell_type": "code",
   "execution_count": 188,
   "id": "9c061374-0935-4b1b-b15c-56cb51e66fc8",
   "metadata": {},
   "outputs": [
    {
     "data": {
      "text/plain": [
       "('Math', ':', '90')"
      ]
     },
     "execution_count": 188,
     "metadata": {},
     "output_type": "execute_result"
    }
   ],
   "source": [
    "# Suppose s is \"Math:90\"\n",
    "# We want to split s into 3 parts based on the separator `:`\n",
    "\"Math:90\".partition(\":\")"
   ]
  },
  {
   "cell_type": "markdown",
   "id": "9912e307-82c9-439a-8c79-83df6d8d161e",
   "metadata": {},
   "source": [
    "**c) Join a list of string**"
   ]
  },
  {
   "cell_type": "code",
   "execution_count": 190,
   "id": "ab1934da-7afc-43e7-8516-7e221b5fd8e2",
   "metadata": {},
   "outputs": [],
   "source": [
    "# Init a list of fruits\n",
    "fruits = [\"Apple\", \"Banana\", \"Guava\", \"Watermelon\"]"
   ]
  },
  {
   "cell_type": "code",
   "execution_count": 191,
   "id": "cde3e86a-6ce1-4f0e-904e-e82bb8749fb3",
   "metadata": {},
   "outputs": [
    {
     "data": {
      "text/plain": [
       "'Apple,Banana,Guava,Watermelon'"
      ]
     },
     "execution_count": 191,
     "metadata": {},
     "output_type": "execute_result"
    }
   ],
   "source": [
    "# Join fruits using ,\n",
    "\",\".join(fruits)"
   ]
  },
  {
   "cell_type": "code",
   "execution_count": 196,
   "id": "11782ac7-e1d5-4d8a-953a-dcf9afd0720e",
   "metadata": {},
   "outputs": [
    {
     "data": {
      "text/plain": [
       "'Apple Banana Guava Watermelon'"
      ]
     },
     "execution_count": 196,
     "metadata": {},
     "output_type": "execute_result"
    }
   ],
   "source": [
    "# Join fruits using a space\n",
    "\" \".join(fruits)"
   ]
  },
  {
   "cell_type": "code",
   "execution_count": 195,
   "id": "72fe1b3f-5f53-4259-853f-519f442db8c1",
   "metadata": {},
   "outputs": [
    {
     "data": {
      "text/plain": [
       "'Apple--Banana--Guava--Watermelon'"
      ]
     },
     "execution_count": 195,
     "metadata": {},
     "output_type": "execute_result"
    }
   ],
   "source": [
    "# Join fruits using --\n",
    "\"--\".join(fruits)"
   ]
  },
  {
   "cell_type": "markdown",
   "id": "cd7b3e42-090d-4a8b-8bb9-7edaa0ed4f4d",
   "metadata": {},
   "source": [
    "#### Group 7: searching and replacing"
   ]
  },
  {
   "cell_type": "markdown",
   "id": "c933d71a-ac67-43a2-b583-63ef963d2e41",
   "metadata": {},
   "source": [
    "**a) Find a token in a string**\n",
    "- Since a string is a sequence, we can use `.index()`\n",
    "- However, `.index()` will raise an error if the token is not in the string\n",
    "- A safter way is to use `.find()`\n",
    "- It worsk the same way as `.index()` does, but if the token is not in the string, it will return `-1` instead of raising an error\n",
    "- `.find()` is available for strings only\n",
    "- To find from the right, use `.rfind()`"
   ]
  },
  {
   "cell_type": "code",
   "execution_count": 222,
   "id": "8c0cc639-8785-4a28-977a-f29b2c94b9e6",
   "metadata": {},
   "outputs": [],
   "source": [
    "# Init a string\n",
    "s = \"He is a good man from a good family\""
   ]
  },
  {
   "cell_type": "code",
   "execution_count": 223,
   "id": "b8ec4ddd-79a4-471a-ad19-b1fc93ad7a33",
   "metadata": {},
   "outputs": [
    {
     "data": {
      "text/plain": [
       "8"
      ]
     },
     "execution_count": 223,
     "metadata": {},
     "output_type": "execute_result"
    }
   ],
   "source": [
    "# Find 'good ' from the left \n",
    "s.find(\"good\")"
   ]
  },
  {
   "cell_type": "code",
   "execution_count": 224,
   "id": "55cbd910-8824-470f-ade5-f5f9aa54c03b",
   "metadata": {},
   "outputs": [
    {
     "data": {
      "text/plain": [
       "24"
      ]
     },
     "execution_count": 224,
     "metadata": {},
     "output_type": "execute_result"
    }
   ],
   "source": [
    "# Find 'good ' from the right \n",
    "s.rfind(\"good\")"
   ]
  },
  {
   "cell_type": "markdown",
   "id": "4b24b2b9-4578-437e-96ff-16fa11612f69",
   "metadata": {},
   "source": [
    "**b) Replace a pattern in a string**"
   ]
  },
  {
   "cell_type": "code",
   "execution_count": 227,
   "id": "326e3a8e-f969-4ece-b2ae-ea72e3d36df9",
   "metadata": {},
   "outputs": [
    {
     "data": {
      "text/plain": [
       "'He is a BAD man from a BAD family'"
      ]
     },
     "execution_count": 227,
     "metadata": {},
     "output_type": "execute_result"
    }
   ],
   "source": [
    "# Replace 'good' by 'BAD'\n",
    "s.replace(\"good\", \"BAD\")"
   ]
  },
  {
   "cell_type": "markdown",
   "id": "0c01647f-6fcc-47ef-81b6-52efe73e52f5",
   "metadata": {
    "tags": []
   },
   "source": [
    "## Formatted strings\n",
    "We already learn about this"
   ]
  },
  {
   "cell_type": "code",
   "execution_count": 200,
   "id": "84c393f7-48db-441f-b8be-bb80cc3a29ed",
   "metadata": {},
   "outputs": [],
   "source": [
    "# Init variables\n",
    "name = \"Jack\"\n",
    "city = \"New York\""
   ]
  },
  {
   "cell_type": "code",
   "execution_count": 204,
   "id": "60d7f039-d71a-4d0f-9d08-ddf3c83f40d5",
   "metadata": {},
   "outputs": [
    {
     "data": {
      "text/plain": [
       "'Jack is from New York'"
      ]
     },
     "execution_count": 204,
     "metadata": {},
     "output_type": "execute_result"
    }
   ],
   "source": [
    "# Use .format()\n",
    "# This works with every version of Python\n",
    "\"{} is from {}\".format(name, city)"
   ]
  },
  {
   "cell_type": "code",
   "execution_count": 205,
   "id": "5432c187-85b6-4513-b5f5-28854ac46fee",
   "metadata": {},
   "outputs": [
    {
     "data": {
      "text/plain": [
       "'Jack is from New York'"
      ]
     },
     "execution_count": 205,
     "metadata": {},
     "output_type": "execute_result"
    }
   ],
   "source": [
    "# Use string interpolation\n",
    "# This works with Python >= 3.6 only\n",
    "f\"{name} is from {city}\""
   ]
  },
  {
   "cell_type": "markdown",
   "id": "b52678d8-2daa-40a1-9404-18385b038ba4",
   "metadata": {},
   "source": [
    "For more advanced string formatting, check https://pyformat.info"
   ]
  },
  {
   "cell_type": "markdown",
   "id": "af6e7782-5a3a-450d-a0df-0cea7aced67a",
   "metadata": {},
   "source": [
    "## Summary\n",
    "**What is a string?**\n",
    "- An **immutable** sequence of Unicode characters\n",
    "- Python does NOT distinguish between characters and strings\n",
    "    - There is only the string type, there's no character type\n",
    "    - A single character is a string of length 1\n",
    "\n",
    "**Create a string**\n",
    "- Use `'`, `\"`, `'''`, or `\"\"\"` (they are all the same)\n",
    "- Triple quotes preserve new-line characters (thus, good for multi-line strings)\n",
    "\n",
    "**Index & slicing**\n",
    "- Same as lists and tuples\n",
    "- One exception\n",
    "    - Slice of length 1 in the `list` type is a list and is different from the element it contains\n",
    "    - Slice of length 1 in `str` type is the same as the single character contained in that slice\n",
    "\n",
    "**Iterate through a string**\n",
    "- Same as lists and tuples\n",
    "\n",
    "**Conversion to strings**\n",
    "- Use `str()` to convert an object to a string\n",
    "\n",
    "**Copying**\n",
    "- There's no shallow copying\n",
    "- Deep copying is not necessary because both the string and its elements are immutable\n",
    "- Thus make a copy of `s`, just use an assignment `t = s`\n",
    "\n",
    "**Order of characters**\n",
    "- Each character is encoded by an integer\n",
    "- Comparing characters is in fact comparing their integer codes\n",
    "- Use `ord()` to get the integer code of a character\n",
    "- Use `chr()` to get the character that an integer represents\n",
    "- Note that `A < Z` but `a > Z`\n",
    "\n",
    "**Operations on strings**\n",
    "- Regular operations: same as tuples\n",
    "- Special string operations\n",
    "    - Group 1: case checking \n",
    "        - Ex: `s.islower()`, `s.isupper()`, `s.isalnum()`\n",
    "    - Group 2: case transformations \n",
    "        - Ex: `s.upper()`, `s.lower()`\n",
    "    - Group 3: substring checking \n",
    "        - Ex: `\"A\" in s`, `s.startswith(\"A\")`, `s.endswith(\"A\")`\n",
    "    - Group 4: white space handling\n",
    "        - Ex: `s.lstrip()`, `s.rstrip()`, `s.strip()`\n",
    "    - Group 5: string padding\n",
    "        - Ex: `s.ljust(2, \"0\")`, `s.rjust(2, \"0\")`, `s.zfill(2)`\n",
    "    - Group 6: string splitting & joining\n",
    "        - Ex: `s.split()`, `s.partition(\":\")`, `\",\".joint(a_list)`\n",
    "    - Group 7: searching and replacing\n",
    "        - Ex: `s.find(\"A\")`, `s.rfind(\"A\")`, `s.replace(\"old\", \"new\")`\n",
    "- Other notes\n",
    "    - Cased characters: letters in a language. Ex: `o-O`, `a-A`, `ê-Ê`\n",
    "    - Non-cased characters: the rest. Ex: `0`, `1`, `.`, `?`, `-`\n",
    "    - For advanced string processing, check `re` module\n",
    "\n",
    "**Formatted strings**\n",
    "- `.format()` can be used for all version of Python\n",
    "- `f\"\"` can be used for Python `>= 3.6` only"
   ]
  }
 ],
 "metadata": {
  "kernelspec": {
   "display_name": "Python 3 (ipykernel)",
   "language": "python",
   "name": "python3"
  },
  "language_info": {
   "codemirror_mode": {
    "name": "ipython",
    "version": 3
   },
   "file_extension": ".py",
   "mimetype": "text/x-python",
   "name": "python",
   "nbconvert_exporter": "python",
   "pygments_lexer": "ipython3",
   "version": "3.9.12"
  }
 },
 "nbformat": 4,
 "nbformat_minor": 5
}
