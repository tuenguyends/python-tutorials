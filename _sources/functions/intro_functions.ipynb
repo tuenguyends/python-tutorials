{
 "cells": [
  {
   "cell_type": "markdown",
   "id": "fd5f6147-1ef6-4c7e-8d0b-edc39fad4bc7",
   "metadata": {},
   "source": [
    "# Introduction to functions\n",
    "Author: Tue Nguyen"
   ]
  },
  {
   "cell_type": "markdown",
   "id": "0eadd8b2-cdcc-4833-a095-e87c69ea5aa1",
   "metadata": {},
   "source": [
    "## Outline\n",
    "- Overview\n",
    "- Define and call a function\n",
    "- Params vs. arguments\n",
    "- Default parameters\n",
    "- Anonymous functions\n",
    "- Scope\n",
    "- Flexible arguments with `*args` and `**kwargs`\n",
    "- Documentation"
   ]
  },
  {
   "cell_type": "markdown",
   "id": "13f68002-3035-4459-914f-dcdd105ebe76",
   "metadata": {},
   "source": [
    "## Overview\n",
    "- Roughly speaking, a function takes some inputs, does something with them, and spits out an output\n",
    "- Benefits\n",
    "    - We define the logic once and reuse it as many times as we want\n",
    "    - Easier to maintain and improve because the logic is at a single place\n",
    "    - All lower-level details are abstracted away, making code more succinct and readable\n",
    "- Example\n",
    "    - Suppose you have to frequently extract numbers from text strings\n",
    "    - Instead of duplicating your code (potentially many lines) every time you do such a task, you can wrap your code into a function\n",
    "    - When you need to extract numbers from a text string, you just need to call the function (one line)\n",
    "    - Or when you need to improve your code, you have to make changes in one place (where the function is defined)"
   ]
  },
  {
   "cell_type": "markdown",
   "id": "40fcb09d-4ac1-4cc6-8b13-d92a9b283f32",
   "metadata": {},
   "source": [
    "## Define and call a function\n",
    "- A function must be defined before being used\n",
    "- We use `def`  to defined a function as follows\n",
    "    ```python\n",
    "    def function_name(params):\n",
    "      # Function body here\n",
    "    ```\n",
    "- Parameters (or params) are the inputs to the function\n",
    "- Parameters are optional (a function might have no parameter)\n",
    "- The function name follows the rules and conventions introduced in the earlier lessons\n",
    "- The function body contains statements that handle some logic\n",
    "- A function might explicitly return a value to where it is called using the keyword `return`\n",
    "- Otherwise, `None` will be returned by default\n",
    "- **Defining** a function means writing code that specify\n",
    "    - its name\n",
    "    - parameters that it possibly take\n",
    "    - what it does to the parameters\n",
    "    - what value it returns\n",
    "- **Calling** a function means evoke the function to do something\n",
    "- Defining vs. calling\n",
    "    - We define a function only once, but we can call it as many times as we want\n",
    "    - We use `def` when define a function, but not when we call it\n",
    "    - We cannot call a function that has not been defined yet\n",
    "    - When defining a function, the inputs in the parentheses are called **parameters**\n",
    "    - When calling a function, the inputs are called **arguments**\n",
    "- A function can \n",
    "    - take no param, one params, or many params\n",
    "    - explicitly return a value using return or implicitly return `None`"
   ]
  },
  {
   "cell_type": "markdown",
   "id": "83cde702-e5dc-4b1c-b0dc-32fedba3d8c4",
   "metadata": {},
   "source": [
    "### No params, no returns\n",
    "A function can have no params and returns nothing"
   ]
  },
  {
   "cell_type": "markdown",
   "id": "b2811be2-0e4e-4c73-a1a5-1211252a71be",
   "metadata": {},
   "source": [
    "**a) Ex 1: define a function**"
   ]
  },
  {
   "cell_type": "code",
   "execution_count": 3,
   "id": "89ab2405-5aad-46c5-902a-710645139bbe",
   "metadata": {},
   "outputs": [],
   "source": [
    "# Define a function that prints out \"Hi user\"\n",
    "def say_hi():\n",
    "    print(\"Hi user\")"
   ]
  },
  {
   "cell_type": "markdown",
   "id": "6ae2dd12-7f50-4085-bb6c-c3068c8ac575",
   "metadata": {},
   "source": [
    "Comments\n",
    "\n",
    "- The function name is `say_hi`\n",
    "- It takes has no params (empty parentheses)\n",
    "- It also returns nothing (no keyword `return`). Thus a `None` will be return by default\n",
    "- What it does is just prints out the line `\"Hi user\"`"
   ]
  },
  {
   "cell_type": "markdown",
   "id": "70d245b4-88b6-46e0-9c6d-fefc5ebdf853",
   "metadata": {},
   "source": [
    "**b) Ex 2: call a function**"
   ]
  },
  {
   "cell_type": "code",
   "execution_count": 5,
   "id": "9482c976-8760-456c-8ca2-4f3f8704506e",
   "metadata": {},
   "outputs": [
    {
     "name": "stdout",
     "output_type": "stream",
     "text": [
      "Hi user\n"
     ]
    }
   ],
   "source": [
    "# Now we call say_hi function defined above\n",
    "say_hi()"
   ]
  },
  {
   "cell_type": "markdown",
   "id": "a32c1920-3a88-4801-9cbe-29188a2b7ca5",
   "metadata": {},
   "source": [
    "Comments\n",
    "\n",
    "- We see `\"Hi user\"` printed out as expected\n",
    "- However, do not confuse this printed text with the returned value\n",
    "- This function return `None` by default\n",
    "- To see this, try to assign this function call to a variable"
   ]
  },
  {
   "cell_type": "code",
   "execution_count": 8,
   "id": "0eeb3b79-9cfd-43a2-b64a-1db9490e0eed",
   "metadata": {},
   "outputs": [
    {
     "name": "stdout",
     "output_type": "stream",
     "text": [
      "Hi user\n"
     ]
    }
   ],
   "source": [
    "# You see, the text \"Hi user\" is still printed out\n",
    "x = say_hi()"
   ]
  },
  {
   "cell_type": "code",
   "execution_count": 9,
   "id": "a8173444-6d2e-45ba-81c6-19fde1b25acb",
   "metadata": {},
   "outputs": [
    {
     "name": "stdout",
     "output_type": "stream",
     "text": [
      "None\n"
     ]
    }
   ],
   "source": [
    "# Now verify that x is indeed None\n",
    "print(x)"
   ]
  },
  {
   "cell_type": "markdown",
   "id": "a2c3b525-d307-4fde-9fda-3ec6c2aaf97d",
   "metadata": {},
   "source": [
    "### Has params, no return\n",
    "A function can have one or many params (separated by commas) and returns nothing"
   ]
  },
  {
   "cell_type": "markdown",
   "id": "05c17e45-12f2-43bd-99b3-a4c6090af29c",
   "metadata": {},
   "source": [
    "**a) Ex 1: one param, no return**"
   ]
  },
  {
   "cell_type": "code",
   "execution_count": 10,
   "id": "5575137f-ed24-4eb8-8402-b1c1a657f0a7",
   "metadata": {},
   "outputs": [],
   "source": [
    "# Define a function that takes a name and say hi to that name\n",
    "def say_hi(name):\n",
    "    print(f\"Hi {name}\")"
   ]
  },
  {
   "cell_type": "code",
   "execution_count": 14,
   "id": "c43c69e0-a1d1-4f51-b86d-5008cd6699f3",
   "metadata": {},
   "outputs": [
    {
     "name": "stdout",
     "output_type": "stream",
     "text": [
      "Hi Anna\n"
     ]
    }
   ],
   "source": [
    "# Call 1\n",
    "say_hi(\"Anna\")"
   ]
  },
  {
   "cell_type": "code",
   "execution_count": 15,
   "id": "5cead32d-ae1d-4aa7-bb4d-c5d3bb0de986",
   "metadata": {},
   "outputs": [
    {
     "name": "stdout",
     "output_type": "stream",
     "text": [
      "Hi Bob\n"
     ]
    }
   ],
   "source": [
    "# Call 2\n",
    "say_hi(\"Bob\")"
   ]
  },
  {
   "cell_type": "markdown",
   "id": "60fdebaa-315b-4dea-b9f0-68f6b771c089",
   "metadata": {},
   "source": [
    "**b) Ex 2: many params, no return**"
   ]
  },
  {
   "cell_type": "code",
   "execution_count": 16,
   "id": "efdf46a1-bf33-49fb-b306-64164af97890",
   "metadata": {},
   "outputs": [],
   "source": [
    "# Define a function that takes first_name, last_name, and sex\n",
    "# then print out a greeting\n",
    "def say_hi(first_name, last_name, sex):\n",
    "    # Specify title\n",
    "    if sex == \"M\":\n",
    "        title = \"Mr.\"\n",
    "    elif sex == \"F\":\n",
    "        title = \"Ms.\"\n",
    "    else:\n",
    "        title = \"Mr./Ms.\"\n",
    "        \n",
    "    # Say hi\n",
    "    print(f\"Hi {title} {first_name} {last_name}\")"
   ]
  },
  {
   "cell_type": "code",
   "execution_count": 17,
   "id": "5ff49210-20fe-42d6-9744-5870390242c6",
   "metadata": {},
   "outputs": [
    {
     "name": "stdout",
     "output_type": "stream",
     "text": [
      "Hi Mr. Bob Dylan\n"
     ]
    }
   ],
   "source": [
    "# Call 1\n",
    "say_hi(\"Bob\", \"Dylan\", \"M\")"
   ]
  },
  {
   "cell_type": "code",
   "execution_count": 18,
   "id": "66dd1ff4-74c6-48b5-a655-2524592434c0",
   "metadata": {},
   "outputs": [
    {
     "name": "stdout",
     "output_type": "stream",
     "text": [
      "Hi Ms. Sia Kate\n"
     ]
    }
   ],
   "source": [
    "# Call 2\n",
    "say_hi(\"Sia\", \"Kate\", \"F\")"
   ]
  },
  {
   "cell_type": "code",
   "execution_count": 19,
   "id": "ab2d4656-15f3-4020-8866-d987871b1091",
   "metadata": {},
   "outputs": [
    {
     "name": "stdout",
     "output_type": "stream",
     "text": [
      "Hi Mr./Ms. Johan Smith\n"
     ]
    }
   ],
   "source": [
    "# Call 3\n",
    "say_hi(\"Johan\", \"Smith\", \"N/A\")"
   ]
  },
  {
   "cell_type": "markdown",
   "id": "dc6eda40-a673-4fca-a1c6-21d3c16d69f0",
   "metadata": {},
   "source": [
    "### Has params, has return\n",
    "A function can have params and explicitly returns a value"
   ]
  },
  {
   "cell_type": "markdown",
   "id": "46ff8f77-501e-4054-adb0-f324020ba789",
   "metadata": {},
   "source": [
    "**a) Ex 1: add two numbers**"
   ]
  },
  {
   "cell_type": "code",
   "execution_count": 22,
   "id": "63926fdf-2e7e-4fe5-a6c5-e65031ff4849",
   "metadata": {},
   "outputs": [],
   "source": [
    "# Define a function that takes 2 number and returns their sum\n",
    "def add(a, b):\n",
    "    return a + b"
   ]
  },
  {
   "cell_type": "code",
   "execution_count": 23,
   "id": "c88e1213-70ca-4e7f-8cd1-59d9783b3851",
   "metadata": {},
   "outputs": [
    {
     "data": {
      "text/plain": [
       "5"
      ]
     },
     "execution_count": 23,
     "metadata": {},
     "output_type": "execute_result"
    }
   ],
   "source": [
    "# Call 1\n",
    "add(2, 3)"
   ]
  },
  {
   "cell_type": "code",
   "execution_count": 24,
   "id": "7b9eeb28-e723-4afc-b765-03c3e6c4682c",
   "metadata": {},
   "outputs": [
    {
     "data": {
      "text/plain": [
       "10"
      ]
     },
     "execution_count": 24,
     "metadata": {},
     "output_type": "execute_result"
    }
   ],
   "source": [
    "# Call 2\n",
    "add(-10, 20)"
   ]
  },
  {
   "cell_type": "markdown",
   "id": "c50b49fb-21ae-40c0-aa12-11dee16006b2",
   "metadata": {},
   "source": [
    "**b) Ex 2: filter bad customer**"
   ]
  },
  {
   "cell_type": "code",
   "execution_count": 27,
   "id": "9d822a03-cd76-486d-881c-9f51b1369932",
   "metadata": {},
   "outputs": [],
   "source": [
    "# Define a function that take a list of customers (cust)\n",
    "# another list of bad customers (bad_cust)\n",
    "# and return those who are in cust but not in bad_cust\n",
    "def filter_bad_cust(cust, bad_cust):\n",
    "    return [c for c in cust if c not in bad_cust]"
   ]
  },
  {
   "cell_type": "code",
   "execution_count": 28,
   "id": "0cfbfa9d-4ab6-4da2-b9f1-0e866c989ef5",
   "metadata": {},
   "outputs": [
    {
     "data": {
      "text/plain": [
       "['Jack', 'Tom', 'Andrew']"
      ]
     },
     "execution_count": 28,
     "metadata": {},
     "output_type": "execute_result"
    }
   ],
   "source": [
    "# Init cust and bad_cust\n",
    "cust = [\"Jack\", \"Bob\", \"Anna\", \"Tom\", \"Andrew\"]\n",
    "bad_cust = [\"Anna\", \"Bob\"]\n",
    "\n",
    "# Call the function\n",
    "good_cust = filter_bad_cust(cust, bad_cust)\n",
    "\n",
    "# Check the result\n",
    "good_cust"
   ]
  },
  {
   "cell_type": "markdown",
   "id": "02fdf042-6cc1-4c11-9efe-fb690ff74c45",
   "metadata": {},
   "source": [
    "**c) Ex 3: return more than one value**\n",
    "- Python does NOT allow for returning multiple values\n",
    "- However, you can use wrap the values you want to return in a collection such as a list or tuple, and return that collection"
   ]
  },
  {
   "cell_type": "code",
   "execution_count": 29,
   "id": "cac00f09-eeb4-4b95-a436-f37f97475a3a",
   "metadata": {},
   "outputs": [],
   "source": [
    "# Define a function that return the perimeter and area of a rectangle\n",
    "def compute_rect_peri_area(a, b):\n",
    "    peri = (a + b) * 2\n",
    "    area = a * b\n",
    "    return peri, area"
   ]
  },
  {
   "cell_type": "code",
   "execution_count": 30,
   "id": "8aa39f36-4fca-4960-ba38-e2f03935e8bc",
   "metadata": {},
   "outputs": [
    {
     "data": {
      "text/plain": [
       "(10, 6)"
      ]
     },
     "execution_count": 30,
     "metadata": {},
     "output_type": "execute_result"
    }
   ],
   "source": [
    "# Call 1: get a tuple back\n",
    "compute_rect_peri_area(2, 3)"
   ]
  },
  {
   "cell_type": "code",
   "execution_count": 31,
   "id": "097f9803-e5e1-4d9e-a937-ff820a825e3d",
   "metadata": {},
   "outputs": [
    {
     "name": "stdout",
     "output_type": "stream",
     "text": [
      "10\n",
      "6\n"
     ]
    }
   ],
   "source": [
    "# Call 2: unpack the result\n",
    "p, a = compute_rect_peri_area(2, 3)\n",
    "print(p)\n",
    "print(a)"
   ]
  },
  {
   "cell_type": "markdown",
   "id": "b6935ee4-2177-41f2-9ea6-43419cb37027",
   "metadata": {},
   "source": [
    "### Params vs. arguments\n",
    "To be updated"
   ]
  },
  {
   "cell_type": "markdown",
   "id": "daf78756-8e16-4b71-8106-b2a58e7115f8",
   "metadata": {},
   "source": [
    "## Anonymous functions\n",
    "To be updated"
   ]
  },
  {
   "cell_type": "markdown",
   "id": "68de5e17-9dad-4e03-b7ac-9547fed5d3dd",
   "metadata": {},
   "source": [
    "## Scope\n",
    "To be updated"
   ]
  },
  {
   "cell_type": "markdown",
   "id": "3ea5cc59-3e93-4f4e-b090-e942e8d26da7",
   "metadata": {},
   "source": [
    "## Flexible arguments\n",
    "To be updated"
   ]
  },
  {
   "cell_type": "markdown",
   "id": "d19446c4-4a22-4d4f-89aa-c53222267af9",
   "metadata": {},
   "source": [
    "## Documentation\n",
    "To be updated"
   ]
  }
 ],
 "metadata": {
  "kernelspec": {
   "display_name": "Python 3 (ipykernel)",
   "language": "python",
   "name": "python3"
  },
  "language_info": {
   "codemirror_mode": {
    "name": "ipython",
    "version": 3
   },
   "file_extension": ".py",
   "mimetype": "text/x-python",
   "name": "python",
   "nbconvert_exporter": "python",
   "pygments_lexer": "ipython3",
   "version": "3.9.12"
  }
 },
 "nbformat": 4,
 "nbformat_minor": 5
}
