{
 "cells": [
  {
   "cell_type": "markdown",
   "metadata": {},
   "source": [
    "# Naming rules and conventions"
   ]
  },
  {
   "cell_type": "markdown",
   "metadata": {},
   "source": [
    "> There are only two hard things in Computer Science: cache invalidation and naming things.\n",
    "> \n",
    "> (Phil Karlton)"
   ]
  },
  {
   "cell_type": "markdown",
   "metadata": {},
   "source": [
    "When writing a program, we often have to give names to many things such as variables, functions, classes, and modules. Thus, it is crucial to learn the rules and conventions.\n",
    "\n",
    "1. Rules are specifications that we MUST follow\n",
    "2. Convention is more like *suggestions* of best practices by experienced programmers and is widely accepted by the community. Thus, we are not required to follow, but we SHOULD.\n",
    "\n",
    "**Remarks**: For now, we only focus on variable names."
   ]
  },
  {
   "cell_type": "markdown",
   "metadata": {},
   "source": [
    "## Naming rules\n",
    "\n",
    "There are three rules when naming a variable\n",
    "\n",
    "1. A name only consists of characters from three groups: digits (`0-9`), letters (`a-z` and `A-Z`), and underscores (`_`)\n",
    "\n",
    "1. A name cannot start with a digit\n",
    "\n",
    "1. A name cannot coincide with one of Python's reserved words. Reserved words or keywords are words that have special meaning to Python (see the list below for the complete list)\n",
    "\n",
    "```python\n",
    "False       class       finally     is          return\n",
    "None        continue    for         lambda      try\n",
    "True        def         from        nonlocal    while\n",
    "and         del         global      not         with\n",
    "as          elif        if          or          yield\n",
    "assert      else        import      pass     \n",
    "break       except      in          raise\n",
    "```\n",
    "\n",
    "**Remarks**: \n",
    "\n",
    "1. For now, you don't have to remember all of these keywords. You will remember them as you progress.\n",
    "\n",
    "1. Python distinguishes between lowercase and uppercase. Thus, `firstname`, `FirstName`, and `FIRSTNAME` are different."
   ]
  },
  {
   "cell_type": "markdown",
   "metadata": {},
   "source": [
    "**Example 1: valid names**\n",
    "\n",
    "```python\n",
    "age\n",
    "num_jobs\n",
    "file_name\n",
    "_xyz\n",
    "```"
   ]
  },
  {
   "cell_type": "markdown",
   "metadata": {},
   "source": [
    "**Example 2: invalid name**\n",
    "\n",
    "```python\n",
    "warnings! # contains a special character !\n",
    "4oceans # starts with a digit\n",
    "break # coincides with break keyword\n",
    "```"
   ]
  },
  {
   "cell_type": "markdown",
   "metadata": {},
   "source": [
    "## Naming convention\n",
    "\n",
    "Here are some best practices to follow when naming.\n",
    "\n",
    "- Use all lowercase. Ex: `name` instead of `Name`\n",
    "\n",
    "- One exception: class names should start with a capital letter and follow by lowercase letters.\n",
    "\n",
    "- Use *snake_case* convention (i.e., separate words by underscores, look like a snake). Ex: `gross_profit` instead of `grossProfit` or `GrossProfit`.\n",
    "\n",
    "- Should be meaningful and easy to remember. Ex: `interest_rate` instead of `r` or `ir`.\n",
    "\n",
    "- Should have a reasonable length. Ex: `sales_apr` instead of `sales_data_for_april`\n",
    "\n",
    "- Avoid names of popular functions and modules. Ex: avoid `print`, `math`, or `collections`."
   ]
  },
  {
   "cell_type": "markdown",
   "metadata": {},
   "source": [
    "**Example 1: names having good styles**\n",
    "\n",
    "```python\n",
    "first_name\n",
    "cum_gpa\n",
    "class_rank\n",
    "```"
   ]
  },
  {
   "cell_type": "markdown",
   "metadata": {},
   "source": [
    "**Example 2: names having bad styles**\n",
    "\n",
    "```python\n",
    "fn # ambiguous\n",
    "FirstName # not snake case\n",
    "print # name of a popular function\n",
    "os # name of a popular module\n",
    "sys # name of a popular module\n",
    "salary_data_of_10000_households # too long\n",
    "```"
   ]
  }
 ],
 "metadata": {
  "kernelspec": {
   "display_name": "Python 3 (ipykernel)",
   "language": "python",
   "name": "python3"
  },
  "language_info": {
   "codemirror_mode": {
    "name": "ipython",
    "version": 3
   },
   "file_extension": ".py",
   "mimetype": "text/x-python",
   "name": "python",
   "nbconvert_exporter": "python",
   "pygments_lexer": "ipython3",
   "version": "3.9.7"
  }
 },
 "nbformat": 4,
 "nbformat_minor": 4
}
