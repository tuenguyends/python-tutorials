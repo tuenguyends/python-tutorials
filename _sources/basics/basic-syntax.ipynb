{
 "cells": [
  {
   "cell_type": "markdown",
   "id": "e9edca1c-9638-4334-8ae0-163e75f08165",
   "metadata": {},
   "source": [
    "# Python's basic syntax\n",
    "Author: Tue Nguyen"
   ]
  },
  {
   "cell_type": "markdown",
   "id": "ddfc7aa6-0bbf-41e1-8bd3-b8ab18ff7f99",
   "metadata": {},
   "source": [
    "## Outline\n",
    "- Math operations\n",
    "- Assignments\n",
    "- Literals\n",
    "- Expressions\n",
    "- Comments\n",
    "- Printing\n",
    "- Statements\n",
    "- Line continuation\n",
    "- Whitespaces\n",
    "- Indentation\n",
    "- Get help"
   ]
  },
  {
   "cell_type": "markdown",
   "id": "daec2fb2-1872-4b69-8bbb-311b71f59eb8",
   "metadata": {},
   "source": [
    "## Overview\n",
    "This tutorial aims to provide just some very basic syntax so that you can get started immediately\n",
    "\n",
    "It's like when you first learn a new language\n",
    "- You don't dive into learning grammar right away\n",
    "- Instead, you learn some basic vocabulary and simple sentences\n",
    "- This lecture serves such a purpose\n",
    "\n",
    "In the next lectures, you will learn Python in a more systematic way"
   ]
  },
  {
   "cell_type": "markdown",
   "id": "5ab4264e-6f42-43c1-9d67-7f5d52866e4c",
   "metadata": {},
   "source": [
    "## Math\n",
    "- You can use Python as a calculator to compute math expressions\n",
    "- Math operations are intuitive. Ex: ``+, -, *, /`"
   ]
  },
  {
   "cell_type": "code",
   "execution_count": 1,
   "id": "03736555-595e-4993-b738-06ef3e5555fe",
   "metadata": {},
   "outputs": [
    {
     "data": {
      "text/plain": [
       "5"
      ]
     },
     "execution_count": 1,
     "metadata": {},
     "output_type": "execute_result"
    }
   ],
   "source": [
    "# Addition\n",
    "2 + 3"
   ]
  },
  {
   "cell_type": "code",
   "execution_count": 2,
   "id": "ced65484-fa1b-431b-a212-a7d477d8d1b8",
   "metadata": {},
   "outputs": [
    {
     "data": {
      "text/plain": [
       "-1"
      ]
     },
     "execution_count": 2,
     "metadata": {},
     "output_type": "execute_result"
    }
   ],
   "source": [
    "# Subtraction\n",
    "2 - 3"
   ]
  },
  {
   "cell_type": "code",
   "execution_count": 3,
   "id": "a8993931-eaed-43c7-b2a7-93e965fd30d8",
   "metadata": {},
   "outputs": [
    {
     "data": {
      "text/plain": [
       "6"
      ]
     },
     "execution_count": 3,
     "metadata": {},
     "output_type": "execute_result"
    }
   ],
   "source": [
    "# Multiplication\n",
    "2 * 3"
   ]
  },
  {
   "cell_type": "code",
   "execution_count": 4,
   "id": "df9f93d1-9e0e-4830-8a27-b6515cb3a494",
   "metadata": {},
   "outputs": [
    {
     "data": {
      "text/plain": [
       "0.6666666666666666"
      ]
     },
     "execution_count": 4,
     "metadata": {},
     "output_type": "execute_result"
    }
   ],
   "source": [
    "# Division\n",
    "2 / 3"
   ]
  },
  {
   "cell_type": "code",
   "execution_count": 5,
   "id": "6794d2f4-e237-4a34-8672-edacbed05401",
   "metadata": {},
   "outputs": [
    {
     "data": {
      "text/plain": [
       "0"
      ]
     },
     "execution_count": 5,
     "metadata": {},
     "output_type": "execute_result"
    }
   ],
   "source": [
    "# Integer division\n",
    "2 // 3"
   ]
  },
  {
   "cell_type": "code",
   "execution_count": 6,
   "id": "2012bda7-a9a8-44ba-9f50-56f006c2aaa1",
   "metadata": {},
   "outputs": [
    {
     "data": {
      "text/plain": [
       "2"
      ]
     },
     "execution_count": 6,
     "metadata": {},
     "output_type": "execute_result"
    }
   ],
   "source": [
    "# Modulus (get the remainder)\n",
    "2 % 3"
   ]
  },
  {
   "cell_type": "code",
   "execution_count": 7,
   "id": "e37a7a44-4aa4-438b-b7d7-1f5233b93ff8",
   "metadata": {},
   "outputs": [
    {
     "data": {
      "text/plain": [
       "8"
      ]
     },
     "execution_count": 7,
     "metadata": {},
     "output_type": "execute_result"
    }
   ],
   "source": [
    "# Exponential (use `**`, not `^`)\n",
    "2**3"
   ]
  },
  {
   "cell_type": "code",
   "execution_count": 32,
   "id": "e3f2d984-a3df-47e9-83bc-2457669c308e",
   "metadata": {},
   "outputs": [
    {
     "data": {
      "text/plain": [
       "2653.2977051444223"
      ]
     },
     "execution_count": 32,
     "metadata": {},
     "output_type": "execute_result"
    }
   ],
   "source": [
    "# More complicated expressions\n",
    "# Use parentheses if needed\n",
    "1000 * (1 + 0.05)**20"
   ]
  },
  {
   "cell_type": "markdown",
   "id": "768f719a-e35d-41ff-a094-26aaa23dbef2",
   "metadata": {},
   "source": [
    "## Assignments"
   ]
  },
  {
   "cell_type": "markdown",
   "id": "1bea58c9-6f40-466b-b9f8-d8a05e6636ef",
   "metadata": {},
   "source": [
    "- An assignment assigns a value to a variable (will learn in detail later)\n",
    "- We use `=` to make an assignment\n",
    "- After an assignment, we can use the variable name to refer to its associated value"
   ]
  },
  {
   "cell_type": "code",
   "execution_count": 9,
   "id": "86b329ec-a0b1-40bc-b8b1-9bf27e129eb1",
   "metadata": {},
   "outputs": [],
   "source": [
    "# Assign a value 100 to variable x\n",
    "x = 1000"
   ]
  },
  {
   "cell_type": "code",
   "execution_count": 19,
   "id": "20f48ccf-8abd-485e-8669-d7e9477dd668",
   "metadata": {},
   "outputs": [
    {
     "data": {
      "text/plain": [
       "1500"
      ]
     },
     "execution_count": 19,
     "metadata": {},
     "output_type": "execute_result"
    }
   ],
   "source": [
    "# Use x as a reference to its associated value\n",
    "x + 500"
   ]
  },
  {
   "cell_type": "markdown",
   "id": "b76a131f-fb7e-403c-9e36-3f11a85ffc4f",
   "metadata": {},
   "source": [
    "## Literals"
   ]
  },
  {
   "cell_type": "markdown",
   "id": "6177927a-facc-4a4e-89d7-9bb0bf20c5ae",
   "metadata": {},
   "source": [
    "- A literal is a fixed or constant value\n",
    "- When you see it, it is *literally* the value it represents\n",
    "- No additional conversion is needed"
   ]
  },
  {
   "cell_type": "code",
   "execution_count": 12,
   "id": "2afef32e-fd19-4239-a240-8e09124d2591",
   "metadata": {},
   "outputs": [
    {
     "data": {
      "text/plain": [
       "1000"
      ]
     },
     "execution_count": 12,
     "metadata": {},
     "output_type": "execute_result"
    }
   ],
   "source": [
    "# Integer literal\n",
    "1000"
   ]
  },
  {
   "cell_type": "code",
   "execution_count": 13,
   "id": "38aa3c4a-5f7c-4504-b128-a1cd510e1b09",
   "metadata": {},
   "outputs": [
    {
     "data": {
      "text/plain": [
       "True"
      ]
     },
     "execution_count": 13,
     "metadata": {},
     "output_type": "execute_result"
    }
   ],
   "source": [
    "# Boolean literal\n",
    "True"
   ]
  },
  {
   "cell_type": "code",
   "execution_count": 14,
   "id": "f39eb467-03c5-4147-bcb4-3467c2fb7add",
   "metadata": {},
   "outputs": [
    {
     "data": {
      "text/plain": [
       "'This is a string'"
      ]
     },
     "execution_count": 14,
     "metadata": {},
     "output_type": "execute_result"
    }
   ],
   "source": [
    "# String literal\n",
    "\"This is a string\""
   ]
  },
  {
   "cell_type": "markdown",
   "id": "4ea6669f-6a04-4145-bd37-641ae2d37cf0",
   "metadata": {},
   "source": [
    "## Expressions\n",
    "- An expression is anything that can be evaluated as a value\n",
    "- It can be a combination of literals and variables, for example"
   ]
  },
  {
   "cell_type": "code",
   "execution_count": 21,
   "id": "23622345-a078-4638-b66a-e0e1df4742de",
   "metadata": {},
   "outputs": [
    {
     "data": {
      "text/plain": [
       "300"
      ]
     },
     "execution_count": 21,
     "metadata": {},
     "output_type": "execute_result"
    }
   ],
   "source": [
    "# Add 2 integers\n",
    "100 + 200"
   ]
  },
  {
   "cell_type": "code",
   "execution_count": 22,
   "id": "d6438828-9dba-4713-b9f1-d477d0279c71",
   "metadata": {},
   "outputs": [
    {
     "data": {
      "text/plain": [
       "'HelloWorld'"
      ]
     },
     "execution_count": 22,
     "metadata": {},
     "output_type": "execute_result"
    }
   ],
   "source": [
    "# Concatenate 2 strings\n",
    "\"Hello\" + \"World\" "
   ]
  },
  {
   "cell_type": "code",
   "execution_count": 15,
   "id": "75df6c2a-72cc-4411-a815-cf27a27c597f",
   "metadata": {},
   "outputs": [
    {
     "data": {
      "text/plain": [
       "1100"
      ]
     },
     "execution_count": 15,
     "metadata": {},
     "output_type": "execute_result"
    }
   ],
   "source": [
    "# Add an integer literal to a integer variable\n",
    "x + 100"
   ]
  },
  {
   "cell_type": "markdown",
   "id": "e5382276-6f24-4e2b-bba7-e7e189c7d22c",
   "metadata": {},
   "source": [
    "## Comments\n",
    "- Comments are used to document your code\n",
    "- Why? To help other people can understand what you are doing (if your code is not so obvious)\n",
    "- *Other people* also include *future you* because it is not uncommon that you will forget what you have done after a few weeks (or even days) \n",
    "- Comments are for *human-only* and are ignored by the interpreter\n",
    "- In Python, a comment starts with `#`"
   ]
  },
  {
   "cell_type": "code",
   "execution_count": 24,
   "id": "5b1f5437-7d99-4698-903b-a88db7d0143f",
   "metadata": {
    "tags": []
   },
   "outputs": [],
   "source": [
    "# This is a single-line comment"
   ]
  },
  {
   "cell_type": "code",
   "execution_count": 41,
   "id": "46159b32-4ad4-47bb-80d3-a7b5f3481c9c",
   "metadata": {},
   "outputs": [],
   "source": [
    "# This is also a comment\n",
    "# but it spans\n",
    "# on multiple lines"
   ]
  },
  {
   "cell_type": "markdown",
   "id": "b03cb601-4034-4204-98a6-76d786cae2e0",
   "metadata": {},
   "source": [
    "## Printing"
   ]
  },
  {
   "cell_type": "markdown",
   "id": "9e64d014-e5fb-49e9-9a57-eda6ba36e24a",
   "metadata": {},
   "source": [
    "- You can use `print()` function to print out values associated with a literal, a variable, or an expression\n",
    "- Roughly speaking, a function (will learn in detail later) \n",
    "    - takes some input (inside the parentheses)\n",
    "    - does something with the input\n",
    "    - and spits out some output"
   ]
  },
  {
   "cell_type": "code",
   "execution_count": 26,
   "id": "9e33cd4e-fcb1-4137-8ad4-080cbea180f5",
   "metadata": {},
   "outputs": [
    {
     "name": "stdout",
     "output_type": "stream",
     "text": [
      "1.25\n"
     ]
    }
   ],
   "source": [
    "# Print a number literal\n",
    "print(1.25)"
   ]
  },
  {
   "cell_type": "code",
   "execution_count": 27,
   "id": "4d3a8aba-e074-4f7b-b44a-fc6037d01afb",
   "metadata": {},
   "outputs": [
    {
     "name": "stdout",
     "output_type": "stream",
     "text": [
      "Hello\n"
     ]
    }
   ],
   "source": [
    "# Print a number literal using double quotes\n",
    "print(\"Hello\")"
   ]
  },
  {
   "cell_type": "code",
   "execution_count": 28,
   "id": "3dae8f75-67ee-48de-9ca6-61b384d4a920",
   "metadata": {},
   "outputs": [
    {
     "name": "stdout",
     "output_type": "stream",
     "text": [
      "Nice to meet you\n"
     ]
    }
   ],
   "source": [
    "# Print a number literal using single quotes\n",
    "print('Nice to meet you')"
   ]
  },
  {
   "cell_type": "code",
   "execution_count": 16,
   "id": "c4222b0a-f38c-4ff3-af6c-4e691790afc4",
   "metadata": {},
   "outputs": [
    {
     "name": "stdout",
     "output_type": "stream",
     "text": [
      "5\n"
     ]
    }
   ],
   "source": [
    "# Print a variable\n",
    "total = 2 + 3\n",
    "print(total)"
   ]
  },
  {
   "cell_type": "code",
   "execution_count": 17,
   "id": "2c0f86b9-d5ee-45d7-812b-97a9c268fc90",
   "metadata": {},
   "outputs": [
    {
     "name": "stdout",
     "output_type": "stream",
     "text": [
      "12\n"
     ]
    }
   ],
   "source": [
    "# Print an expression\n",
    "print(2**3 + 4)"
   ]
  },
  {
   "cell_type": "markdown",
   "id": "cebc1df3-2262-425f-b7a8-bfc347153988",
   "metadata": {},
   "source": [
    "## Statements\n",
    "- A statement is a complete instruction that Python can execute\n",
    "- It is like a full-sentence in English, for example"
   ]
  },
  {
   "cell_type": "code",
   "execution_count": 18,
   "id": "a1232e3e-48f3-44b9-8e86-95fc3c85a358",
   "metadata": {},
   "outputs": [],
   "source": [
    "# An assignment statement\n",
    "total = 2 + 3"
   ]
  },
  {
   "cell_type": "code",
   "execution_count": 32,
   "id": "e9a6513a-88ff-4186-9f59-681523f3cd2b",
   "metadata": {},
   "outputs": [
    {
     "name": "stdout",
     "output_type": "stream",
     "text": [
      "Good morning\n"
     ]
    }
   ],
   "source": [
    "# A print statement\n",
    "print(\"Good morning\")"
   ]
  },
  {
   "cell_type": "markdown",
   "id": "ce9500da-5010-4aa9-911c-6984fc5f353b",
   "metadata": {},
   "source": [
    "Warning\n",
    "\n",
    "- However, `total = ` is not a statement\n",
    "- You will get an error if you try to run it."
   ]
  },
  {
   "cell_type": "markdown",
   "id": "372116a9-4226-4ecb-ba9b-5cbf3b4381d5",
   "metadata": {},
   "source": [
    "Note 1: each statement *normally* sits on one line"
   ]
  },
  {
   "cell_type": "code",
   "execution_count": 35,
   "id": "fc93a846-892c-46ce-9f7b-0043c36e0b4b",
   "metadata": {},
   "outputs": [
    {
     "name": "stdout",
     "output_type": "stream",
     "text": [
      "Hello\n",
      "Good morning\n"
     ]
    }
   ],
   "source": [
    "print(\"Hello\")\n",
    "print(\"Good morning\")"
   ]
  },
  {
   "cell_type": "markdown",
   "id": "14bbcacf-f7fc-4763-b1e4-7dfd889a3323",
   "metadata": {},
   "source": [
    "Note 2: you can ends a statement with a semicolon\n",
    "\n",
    "- But it is not required\n",
    "- And it is not recommended as well (redudant + ugly)"
   ]
  },
  {
   "cell_type": "code",
   "execution_count": null,
   "id": "649a10cd-c101-4fa3-80de-258141594ea6",
   "metadata": {},
   "outputs": [],
   "source": [
    "# You can end a statement with ; \n",
    "# NOT recommended\n",
    "print(\"Hello\");\n",
    "print(\"Good morning\");"
   ]
  },
  {
   "cell_type": "markdown",
   "id": "4db9b8fd-104e-48c0-a37e-3977ed4303f1",
   "metadata": {},
   "source": [
    "Note 3: you can use semi-colins `;` to write muliple statement on 1 line\n",
    "\n",
    "- But you should NOT do so\n",
    "- It make your code less readable"
   ]
  },
  {
   "cell_type": "code",
   "execution_count": 20,
   "id": "d38986de-9b06-4dbe-a0ee-619962c72116",
   "metadata": {},
   "outputs": [
    {
     "name": "stdout",
     "output_type": "stream",
     "text": [
      "18\n"
     ]
    }
   ],
   "source": [
    "# Use ; to write multiple statements on 1 line\n",
    "# NOT recommended\n",
    "x = 5; y = 6; z = 7\n",
    "print(x + y + z)"
   ]
  },
  {
   "cell_type": "code",
   "execution_count": 21,
   "id": "98ad8ef9-d3d6-4466-a034-221663147a02",
   "metadata": {},
   "outputs": [
    {
     "name": "stdout",
     "output_type": "stream",
     "text": [
      "18\n"
     ]
    }
   ],
   "source": [
    "# A better alternative \n",
    "# write each statement on its own line\n",
    "x = 5\n",
    "y = 6\n",
    "z = 7\n",
    "\n",
    "print(x + y + z)"
   ]
  },
  {
   "cell_type": "markdown",
   "id": "e3fde143-6c7e-4269-9555-f6cf7e682cc7",
   "metadata": {},
   "source": [
    "## Line continuation\n",
    "- On some occasions, you might have to write a complex statement\n",
    "- And keeping everything in one line make it very ugly and hard to read. \n",
    "- If so, you can break it into multiple (shorter) lines in two ways\n",
    "    - Method 1: put a backslash `\\` at the end of each line\n",
    "    - Method 2: wrap your code in a pair of parentheses"
   ]
  },
  {
   "cell_type": "code",
   "execution_count": 22,
   "id": "bf6f7576-9c52-4cac-a72d-1f04dc883db3",
   "metadata": {},
   "outputs": [
    {
     "name": "stdout",
     "output_type": "stream",
     "text": [
      "45\n"
     ]
    }
   ],
   "source": [
    "# Method 1: use \\\n",
    "x = 1 + 2 + 3 +\\\n",
    "    4 + 5 + 6 +\\\n",
    "    7 + 8 + 9\n",
    "\n",
    "print(x)"
   ]
  },
  {
   "cell_type": "code",
   "execution_count": 23,
   "id": "fc7763ec-218c-45f7-a8bd-7268d4409d28",
   "metadata": {},
   "outputs": [
    {
     "name": "stdout",
     "output_type": "stream",
     "text": [
      "45\n"
     ]
    }
   ],
   "source": [
    "# Method 2: use ()\n",
    "x = (1 + 2 + 3 +\n",
    "    4 + 5 + 6 +\n",
    "    7 + 8 + 9)\n",
    "\n",
    "print(x)"
   ]
  },
  {
   "cell_type": "markdown",
   "id": "b8ed9447-8455-4776-bc5d-dfb6a49b6c51",
   "metadata": {},
   "source": [
    "## White spaces\n",
    "- White spaces include spaces, tabs, newlines, and blank lines\n",
    "- Often, whitespaces are ignored by Python's interpreter"
   ]
  },
  {
   "cell_type": "markdown",
   "id": "3878e4b9-3ba3-47ac-bedc-dd6edd4c1981",
   "metadata": {},
   "source": [
    "Ex 1: extra spaces don't count"
   ]
  },
  {
   "cell_type": "code",
   "execution_count": 40,
   "id": "5e552e85-835b-4980-9445-0d575b97300a",
   "metadata": {},
   "outputs": [
    {
     "name": "stdout",
     "output_type": "stream",
     "text": [
      "5\n",
      "5\n",
      "5\n"
     ]
    }
   ],
   "source": [
    "print(2+3)\n",
    "print(2 + 3)\n",
    "print(    2 +     3)"
   ]
  },
  {
   "cell_type": "markdown",
   "id": "36bc7d34-4f67-489f-964c-8485bcdd6160",
   "metadata": {},
   "source": [
    "Notes\n",
    "- All three statements print out the same result\n",
    "- However, the second line is considered to follow best practices\n",
    "- More on coding style guide in future lectures"
   ]
  },
  {
   "cell_type": "markdown",
   "id": "b660d3e3-f79d-4cf4-a2c9-3e4af51c4838",
   "metadata": {},
   "source": [
    "Ex 2: new lines and blank lines don't count either"
   ]
  },
  {
   "cell_type": "code",
   "execution_count": 24,
   "id": "54fff40c-6164-4124-863e-bb55feba7c34",
   "metadata": {},
   "outputs": [
    {
     "name": "stdout",
     "output_type": "stream",
     "text": [
      "14\n"
     ]
    }
   ],
   "source": [
    "# Snippet 1\n",
    "x = 2 + 3\n",
    "\n",
    "\n",
    "y = 4 + 5\n",
    "\n",
    "print(x + y)"
   ]
  },
  {
   "cell_type": "code",
   "execution_count": 23,
   "id": "2a1124ec-c26d-42bc-a9cd-a21b421a33dc",
   "metadata": {},
   "outputs": [
    {
     "name": "stdout",
     "output_type": "stream",
     "text": [
      "14\n"
     ]
    }
   ],
   "source": [
    "# Snippet 2\n",
    "x = 2 + 3\n",
    "y = 4 + 5\n",
    "print(x + y)"
   ]
  },
  {
   "cell_type": "markdown",
   "id": "951d3b8a-0384-4284-82eb-e7dbf6fe83aa",
   "metadata": {},
   "source": [
    "Notes:\n",
    "\n",
    "- Again, snippet 2 is better than snippet 1 in terms of coding style"
   ]
  },
  {
   "cell_type": "markdown",
   "id": "451de91a-c7e0-40e3-9713-3c9e0b83f08f",
   "metadata": {},
   "source": [
    "## Indentation\n",
    "- Indentation means the spaces at the beginning of each line\n",
    "- You use \n",
    "    - `Tab` to indent\n",
    "    - `Shift + Tab` to dedent\n",
    "- Unlike other languages, indentation does matter in Python\n",
    "    - Python uses indentation to indicate a code block \n",
    "    - It is similar to the use of curly brackets `{}` in other languages\n",
    "    \n",
    "- For now, remember the following\n",
    "    - Never indent your code if you dont have a reason\n",
    "    - Always indent the new line after a statement that ends with `:` such as\n",
    "        - An `if` statement\n",
    "        - A `for` or `while` statement"
   ]
  },
  {
   "cell_type": "markdown",
   "id": "7d573b81-7eba-4acf-94f5-479f7d3fd947",
   "metadata": {},
   "source": [
    "**a) Ex 1: try the following code (no error)**\n",
    "\n",
    "```python\n",
    "age = 30\n",
    "\n",
    "if age >= 21:\n",
    "    print(\"Congrats! You can buy vodka\")\n",
    "```\n",
    "\n",
    "**b) Ex 2: try the following code (error)**\n",
    "\n",
    "```python\n",
    "age = 30\n",
    "\n",
    "if age >= 21:\n",
    "print(\"Congrats! You can buy vodka\")\n",
    "```"
   ]
  },
  {
   "cell_type": "markdown",
   "id": "159f800a-cdbf-4f0d-9458-75f1fbf0814d",
   "metadata": {},
   "source": [
    "## Getting help\n",
    "- You need help when you face things that\n",
    "    - You don't know\n",
    "    - You know, but you forget the details\n",
    "- You can get help in 2 ways\n",
    "    - Internal documentation of Python using `?`\n",
    "    - Google (tips: add \"stackoverflow\" to the search queries)"
   ]
  },
  {
   "cell_type": "markdown",
   "id": "e473bd92-7820-4870-8d4c-36db8c494192",
   "metadata": {},
   "source": [
    "**a) Ex 1: get internal help using `?`**"
   ]
  },
  {
   "cell_type": "code",
   "execution_count": 27,
   "id": "06f6359b-4bd2-4847-8669-daa9bfa8756a",
   "metadata": {},
   "outputs": [
    {
     "data": {
      "text/plain": [
       "\u001b[1;31mDocstring:\u001b[0m\n",
       "print(value, ..., sep=' ', end='\\n', file=sys.stdout, flush=False)\n",
       "\n",
       "Prints the values to a stream, or to sys.stdout by default.\n",
       "Optional keyword arguments:\n",
       "file:  a file-like object (stream); defaults to the current sys.stdout.\n",
       "sep:   string inserted between values, default a space.\n",
       "end:   string appended after the last value, default a newline.\n",
       "flush: whether to forcibly flush the stream.\n",
       "\u001b[1;31mType:\u001b[0m      builtin_function_or_method\n"
      ]
     },
     "metadata": {},
     "output_type": "display_data"
    }
   ],
   "source": [
    "# Get help for print\n",
    "?print"
   ]
  },
  {
   "cell_type": "code",
   "execution_count": 28,
   "id": "b97e099b-9704-44b5-bd1d-15a3ac498619",
   "metadata": {},
   "outputs": [],
   "source": [
    "# Get help for abs"
   ]
  },
  {
   "cell_type": "code",
   "execution_count": 29,
   "id": "04647ad5-5504-4ffb-ae51-b3c55e08e896",
   "metadata": {},
   "outputs": [
    {
     "data": {
      "text/plain": [
       "\u001b[1;31mSignature:\u001b[0m \u001b[0mabs\u001b[0m\u001b[1;33m(\u001b[0m\u001b[0mx\u001b[0m\u001b[1;33m,\u001b[0m \u001b[1;33m/\u001b[0m\u001b[1;33m)\u001b[0m\u001b[1;33m\u001b[0m\u001b[1;33m\u001b[0m\u001b[0m\n",
       "\u001b[1;31mDocstring:\u001b[0m Return the absolute value of the argument.\n",
       "\u001b[1;31mType:\u001b[0m      builtin_function_or_method\n"
      ]
     },
     "metadata": {},
     "output_type": "display_data"
    }
   ],
   "source": [
    "?abs"
   ]
  },
  {
   "cell_type": "markdown",
   "id": "12c38aa2-79de-4ae1-98b6-7e26bf7ce5fb",
   "metadata": {},
   "source": [
    "**b) Ex 2: get help using Google**\n",
    "\n",
    "Try the following queries\n",
    "- Python compute absolute value stackoverflow\n",
    "- Python sort a list stackoverflow"
   ]
  },
  {
   "cell_type": "markdown",
   "id": "c5fc4527-3496-4f89-b12e-782a4c48e1a4",
   "metadata": {},
   "source": [
    "## Summary\n",
    "**Math**\n",
    "- Basic: `+, -, * /`\n",
    "- Modulus: `//, %`\n",
    "- Exponential: `**`\n",
    "- Use parentheses if needed"
   ]
  },
  {
   "cell_type": "markdown",
   "id": "fad58aab-ced1-4775-affc-38f0fbd91296",
   "metadata": {},
   "source": [
    "**Assigment**\n",
    "- Syntax: `variable_name = value`\n",
    "- After that, use the variable name to refer to the value"
   ]
  },
  {
   "cell_type": "markdown",
   "id": "dc867372-e309-48c0-8ccc-63daf2fc976c",
   "metadata": {},
   "source": [
    "**Literals**\n",
    "- Literals = fixed values\n",
    "- Ex: `1000` (integer literal), `True` (Boolean literal), `\"hello\"` (string literal)"
   ]
  },
  {
   "cell_type": "markdown",
   "id": "483ee468-e20c-4b30-93ba-c7677bb86dcb",
   "metadata": {},
   "source": [
    "**Expressions**\n",
    "- An expression = anything that can be evaluated as a value\n",
    "- Can be a combination of literals and variables"
   ]
  },
  {
   "cell_type": "markdown",
   "id": "d3678653-36b6-4221-abfb-d805282eea8a",
   "metadata": {},
   "source": [
    "**Comments**\n",
    "- Used for human and are ignored by Python\n",
    "- Start a comment with `#`\n",
    "- Comment can be on 1 line or multiple lines"
   ]
  },
  {
   "cell_type": "markdown",
   "id": "b260e50b-feb3-4738-bc21-8802c780391f",
   "metadata": {},
   "source": [
    "**Printing**\n",
    "- Use `print()`\n",
    "- `print()` accepts a literal, variable, expression"
   ]
  },
  {
   "cell_type": "markdown",
   "id": "ea82254a-2207-42b7-bd2d-63c9fb268e3f",
   "metadata": {},
   "source": [
    "**Statements**\n",
    "- A statement = a complete instruction that Python can execute\n",
    "    - `total = 2 + 3` is a statement\n",
    "    - `total =` is NOT a statement\n",
    "- Some best practices\n",
    "    - Write each statement on 1 line\n",
    "    - Never end a statement with `;`"
   ]
  },
  {
   "cell_type": "markdown",
   "id": "54a00c9c-d6e1-44be-abeb-88ee6c19b383",
   "metadata": {},
   "source": [
    "**Line continuation**\n",
    "- Used to break a long statement into smaller pieces (for readability)\n",
    "- Two ways: use `\\` or `()`"
   ]
  },
  {
   "cell_type": "markdown",
   "id": "8769e347-3f92-4edd-b7bd-d37f0d24fe14",
   "metadata": {},
   "source": [
    "**White spaces**\n",
    "- White spaces = spaces, tabs, newlines, and blank lines\n",
    "- Often, whitespaces are ignored by Python's interpreter\n",
    "- You whitespaces wisely to increase readability (more on next lectures)"
   ]
  },
  {
   "cell_type": "markdown",
   "id": "0de525aa-407b-4993-8d05-d1eceb278ae4",
   "metadata": {},
   "source": [
    "**Indentation**\n",
    "- Indetation DOES matters\n",
    "- Keyboard\n",
    "    - `Tab` to indent\n",
    "    - `Shift + Tab` to dedent\n",
    "- For now\n",
    "    - Never indent your code if you have no reason\n",
    "    - Always indent the new line after `:` of `if`, `for`, and `while` statements"
   ]
  },
  {
   "cell_type": "markdown",
   "id": "62c57bae-75d3-4f24-a49f-29b9d1eeec75",
   "metadata": {},
   "source": [
    "**Getting help**\n",
    "- Internal help: use `?` \n",
    "- Online help: Google with the following template `Python + key words + stackoverflow`"
   ]
  }
 ],
 "metadata": {
  "kernelspec": {
   "display_name": "Python 3 (ipykernel)",
   "language": "python",
   "name": "python3"
  },
  "language_info": {
   "codemirror_mode": {
    "name": "ipython",
    "version": 3
   },
   "file_extension": ".py",
   "mimetype": "text/x-python",
   "name": "python",
   "nbconvert_exporter": "python",
   "pygments_lexer": "ipython3",
   "version": "3.9.12"
  }
 },
 "nbformat": 4,
 "nbformat_minor": 5
}
