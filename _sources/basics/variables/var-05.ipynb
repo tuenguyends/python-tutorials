{
 "cells": [
  {
   "cell_type": "markdown",
   "id": "ec45cbac-1f3d-4719-82b1-3444e81888e8",
   "metadata": {},
   "source": [
    "# Summary"
   ]
  },
  {
   "cell_type": "markdown",
   "id": "9eba71d8-181b-4e93-ac00-f3b5f3c50eb8",
   "metadata": {},
   "source": [
    "Here is the key takeaway from this chapter\n",
    "\n",
    "1. Everything that contains value or data is an object.\n",
    "\n",
    "1. Variables are just symbolic names that make coding easier for humans. They don't contain values.\n",
    "\n",
    "1. We, as human beings, don't manipulate objects directly. Use get access to an object through its associated variable.\n",
    "\n",
    "1. Think of an object as a box, a value as what's inside the box, and a variable as the label pasted on the box.\n",
    "\n",
    "1. `y = x` never creates a new object. Instead, `y` is now pointing to the same object that `x` is pointing to.\n",
    "\n",
    "1. At one moment in time, there can be two labels pasted on the same box (as x and y in the last example). Thus, whether we call `print(x)` or `print(y)`, we get the same value back (because both variables are pointing to the same object)\n",
    "\n",
    "1. However, at one moment in time, one label can't be pasted on two different boxes. Because if so, when we call `print(x)`, Python cannot decide which box to open.\n",
    "\n",
    "1. When Python notices a box without any label, it will immediately summon the garbage collector to destroy that box and return the memory to the system.\n",
    "\n",
    "1. Be aware of Python interning behavior"
   ]
  }
 ],
 "metadata": {
  "kernelspec": {
   "display_name": "Python 3 (ipykernel)",
   "language": "python",
   "name": "python3"
  },
  "language_info": {
   "codemirror_mode": {
    "name": "ipython",
    "version": 3
   },
   "file_extension": ".py",
   "mimetype": "text/x-python",
   "name": "python",
   "nbconvert_exporter": "python",
   "pygments_lexer": "ipython3",
   "version": "3.9.7"
  }
 },
 "nbformat": 4,
 "nbformat_minor": 5
}
