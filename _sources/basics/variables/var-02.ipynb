{
 "cells": [
  {
   "cell_type": "markdown",
   "id": "e7edcb02-eb63-4780-aed8-ae0888ab182d",
   "metadata": {},
   "source": [
    "# Verifying the theory"
   ]
  },
  {
   "cell_type": "markdown",
   "id": "f7da5376-eb97-4971-81d2-37eae377b98e",
   "metadata": {},
   "source": [
    "**Example 1: ID of an object**"
   ]
  },
  {
   "cell_type": "code",
   "execution_count": 3,
   "id": "63804fab-c09b-45f5-ad01-d172e3f3e701",
   "metadata": {},
   "outputs": [],
   "source": [
    "x = 1000"
   ]
  },
  {
   "cell_type": "markdown",
   "id": "d5a19616-3f14-4613-b5ed-a6cabbc07d5e",
   "metadata": {},
   "source": [
    "Here, an object is created to hold `1000`, then it is linked to variable `x`. Now, we can access to value `1000` through the name `x`, for example"
   ]
  },
  {
   "cell_type": "code",
   "execution_count": 4,
   "id": "1594e8ef-89d6-429c-a2b9-d13438b6815d",
   "metadata": {},
   "outputs": [
    {
     "name": "stdout",
     "output_type": "stream",
     "text": [
      "1000\n"
     ]
    }
   ],
   "source": [
    "print(x)"
   ]
  },
  {
   "cell_type": "code",
   "execution_count": 5,
   "id": "6eed3b06-e744-4f1a-a80c-db185f0d0e22",
   "metadata": {},
   "outputs": [
    {
     "data": {
      "text/plain": [
       "1500"
      ]
     },
     "execution_count": 5,
     "metadata": {},
     "output_type": "execute_result"
    }
   ],
   "source": [
    "x + 500"
   ]
  },
  {
   "cell_type": "markdown",
   "id": "0f159a13-f089-4dba-9f0a-96c7b8505667",
   "metadata": {},
   "source": [
    "We can use the `id()` function to check the ID of the object that `x` is pointing to."
   ]
  },
  {
   "cell_type": "code",
   "execution_count": 6,
   "id": "6ddac4d7-b597-4447-a6e5-734c967d2092",
   "metadata": {},
   "outputs": [
    {
     "data": {
      "text/plain": [
       "2196092317008"
      ]
     },
     "execution_count": 6,
     "metadata": {},
     "output_type": "execute_result"
    }
   ],
   "source": [
    "id(x)"
   ]
  },
  {
   "cell_type": "markdown",
   "id": "ed75256d-40c8-4fb3-896f-30c17dd32006",
   "metadata": {},
   "source": [
    "**Example 2: values and objects are different**"
   ]
  },
  {
   "cell_type": "markdown",
   "id": "61033525-e6d7-42e3-a1d6-b35efe4c6ff1",
   "metadata": {},
   "source": [
    "Consider running two following assignments."
   ]
  },
  {
   "cell_type": "code",
   "execution_count": 41,
   "id": "705df7eb-6862-4469-86f2-6b2f4676edde",
   "metadata": {},
   "outputs": [],
   "source": [
    "x = 1000\n",
    "y = 1000"
   ]
  },
  {
   "cell_type": "markdown",
   "id": "27a44d1b-1d10-4d5c-a27f-d30cd4fc466f",
   "metadata": {},
   "source": [
    "Some might think Python will create a single object to hold `1000` and then link both `x` and `y` to that object. That's not true.\n",
    "\n",
    "Here, two assignments are handled separately. \n",
    "\n",
    "1. Python runs the first assignment, creates an object to hold `1000`, and links this object to `x`. \n",
    "\n",
    "1. Then Python moves to the second assignment, and creates another object to hold the same value `1000`. Although they share the same value, they are two different objects sitting at different slots in the memory. Python also links the second object to the variable `y`.\n",
    "\n",
    "Think of these two objects as two boxes (different objects) containing the same amount of gold (same value) and have two different labels (linked to different variables)"
   ]
  },
  {
   "cell_type": "markdown",
   "id": "c462c265-8a86-41ba-bfd8-365c80d6973a",
   "metadata": {},
   "source": [
    "Confirm `x` and `y` are pointing to two different objects."
   ]
  },
  {
   "cell_type": "code",
   "execution_count": 11,
   "id": "a2d7a5de-ac18-4d77-8a49-e9cbbf6c925f",
   "metadata": {},
   "outputs": [
    {
     "name": "stdout",
     "output_type": "stream",
     "text": [
      "2196092704368\n",
      "2196092704112\n"
     ]
    }
   ],
   "source": [
    "print(id(x))\n",
    "print(id(y))"
   ]
  },
  {
   "cell_type": "markdown",
   "id": "bfcbb706-2c9b-4682-ba73-cff8b7b32b63",
   "metadata": {},
   "source": [
    "We can also use the keyword `is` to check. `x is y` returns `False` if `x` and `y` are pointing to two different underlying objects and returns `True` if they are indeed pointing to the same object."
   ]
  },
  {
   "cell_type": "code",
   "execution_count": 42,
   "id": "a128f917-488f-4326-9da7-85a5098cb5f2",
   "metadata": {},
   "outputs": [
    {
     "data": {
      "text/plain": [
       "False"
      ]
     },
     "execution_count": 42,
     "metadata": {},
     "output_type": "execute_result"
    }
   ],
   "source": [
    "x is y"
   ]
  },
  {
   "cell_type": "markdown",
   "id": "cfc9a786-edfc-495c-8899-0cd9a2850c98",
   "metadata": {},
   "source": [
    "**Example 3: garbage collector**"
   ]
  },
  {
   "cell_type": "markdown",
   "id": "7c549922-52e5-42a8-95e2-c8082347e616",
   "metadata": {},
   "source": [
    "Now re-assign y to a new value, for example"
   ]
  },
  {
   "cell_type": "code",
   "execution_count": 13,
   "id": "35323a00-6df6-436f-8d83-83d048f66a01",
   "metadata": {},
   "outputs": [],
   "source": [
    "y = 2000"
   ]
  },
  {
   "cell_type": "markdown",
   "id": "22a9d559-36ee-42c8-b7bc-149b213f9398",
   "metadata": {},
   "source": [
    "Many think that the object stays unchanged, only the value `1000` is replaced by the new value `2000`. That's not true.\n",
    "\n",
    "As explained earlier, Python first evaluates the RHS and gets the value `1000`. It then creates a totally new box to hold `2000` and takes the label `y` from the old box and pastes it on the new box.\n",
    "\n",
    "Let's check the ID of y to confirm it's different from the ID  from the last run."
   ]
  },
  {
   "cell_type": "code",
   "execution_count": 14,
   "id": "c0d6c2a0-5d54-48c7-b4f3-a128cca05eb5",
   "metadata": {},
   "outputs": [
    {
     "data": {
      "text/plain": [
       "2196092704048"
      ]
     },
     "execution_count": 14,
     "metadata": {},
     "output_type": "execute_result"
    }
   ],
   "source": [
    "id(y)"
   ]
  },
  {
   "cell_type": "markdown",
   "id": "180a8ad4-d537-490d-ab4b-6b977995360b",
   "metadata": {},
   "source": [
    "So what happens with the old box? It is destroyed!\n",
    "\n",
    "When Python notices an object without any variable referring to it, Python will summons the *garbage collector* to destroy the object and return the memory to the system for future assignment.\n",
    "\n",
    "How can we verify that? Well, we can't (at least in the scope of this book). We, as human beings, can only have access to an object through the variable associated with it. If there is no such variable, then we can't."
   ]
  },
  {
   "cell_type": "markdown",
   "id": "86e421f7-1ed0-4532-b5e8-b647ebd7f452",
   "metadata": {},
   "source": [
    "**Example 4: when two variable pointing to the same object**"
   ]
  },
  {
   "cell_type": "markdown",
   "id": "c970539b-cf41-432a-92c4-55e872be4527",
   "metadata": {},
   "source": [
    "Now run the following assignment."
   ]
  },
  {
   "cell_type": "code",
   "execution_count": 15,
   "id": "fe1218e2-6dde-4fd1-a9f7-53e6bbf6c009",
   "metadata": {},
   "outputs": [],
   "source": [
    "y = x"
   ]
  },
  {
   "cell_type": "markdown",
   "id": "11c3d42f-06f8-41fd-9d2b-24f089251519",
   "metadata": {},
   "source": [
    "As usual, you might think that Python evaluates the RHS to come up with the value `1000` (because `x` is pointing to an object holding value `1000`). Then Python creates a new object for this value and linked it to `y`. Well, it's not true in this case.\n",
    "\n",
    "When the RHS contains only a single variable name, then no new object is created. The variable on the LHS is now pointing to the same underlying object that the variable on the RHS is pointing to.\n",
    "\n",
    "Let's verify that."
   ]
  },
  {
   "cell_type": "code",
   "execution_count": 16,
   "id": "9c136325-f9e6-41cd-b42a-57c6f865ccc7",
   "metadata": {},
   "outputs": [
    {
     "name": "stdout",
     "output_type": "stream",
     "text": [
      "2196092704368\n",
      "2196092704368\n",
      "True\n"
     ]
    }
   ],
   "source": [
    "print(id(x))\n",
    "print(id(y))\n",
    "print(x is y)"
   ]
  },
  {
   "cell_type": "markdown",
   "id": "e91e2716-514f-4729-81df-522f79350c97",
   "metadata": {},
   "source": [
    "As you can see, `x` and `y` are now two labels on the same box."
   ]
  }
 ],
 "metadata": {
  "kernelspec": {
   "display_name": "Python 3 (ipykernel)",
   "language": "python",
   "name": "python3"
  },
  "language_info": {
   "codemirror_mode": {
    "name": "ipython",
    "version": 3
   },
   "file_extension": ".py",
   "mimetype": "text/x-python",
   "name": "python",
   "nbconvert_exporter": "python",
   "pygments_lexer": "ipython3",
   "version": "3.9.7"
  }
 },
 "nbformat": 4,
 "nbformat_minor": 5
}
