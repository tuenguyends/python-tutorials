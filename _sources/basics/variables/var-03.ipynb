{
 "cells": [
  {
   "cell_type": "markdown",
   "id": "aa534d58-119e-4761-995f-b97ba01f4d28",
   "metadata": {},
   "source": [
    "# Python interning"
   ]
  },
  {
   "cell_type": "markdown",
   "id": "9eb42b34-61a5-452b-b687-54c53ac4eb79",
   "metadata": {},
   "source": [
    "We already verified that theory for some large numbers such as `1000` and `2000`. Now consider the following example."
   ]
  },
  {
   "cell_type": "code",
   "execution_count": 18,
   "id": "10d4c241-30ce-43a3-879a-5b28de877c10",
   "metadata": {},
   "outputs": [],
   "source": [
    "x = 10\n",
    "y = 10"
   ]
  },
  {
   "cell_type": "code",
   "execution_count": 19,
   "id": "45a5d21e-4047-41ba-8d34-661325179afa",
   "metadata": {},
   "outputs": [
    {
     "name": "stdout",
     "output_type": "stream",
     "text": [
      "2196011575888\n",
      "2196011575888\n",
      "True\n"
     ]
    }
   ],
   "source": [
    "print(id(x))\n",
    "print(id(y))\n",
    "print(x is y)"
   ]
  },
  {
   "cell_type": "markdown",
   "id": "c141a8a5-3b8c-49fe-9ad5-03070019fc5a",
   "metadata": {},
   "source": [
    "According to theory, `x` and `y` should be pointing to two distinct objects although they shared the same value. But from what you have seen above, it is not the case.\n",
    "\n",
    "This weird behavior (called Python interning) is due to some optimization decision of the Python core team which I will not discuss here. Basically, maintaining only one single copy helps save memory and make comparisons a lot faster. And the core team accepted this language inconsistency in exchange for performance.\n",
    "\n",
    "You can see Python interning behavior for small integers (normally from `-5` to `128`, but it depends on specific implementations) and for short strings."
   ]
  },
  {
   "cell_type": "code",
   "execution_count": 28,
   "id": "4d5437af-caa1-4e36-9005-ad03c44f9485",
   "metadata": {},
   "outputs": [
    {
     "name": "stdout",
     "output_type": "stream",
     "text": [
      "True\n"
     ]
    }
   ],
   "source": [
    "# Test with -5\n",
    "x = -5\n",
    "y = -5\n",
    "print(x is y)"
   ]
  },
  {
   "cell_type": "code",
   "execution_count": 29,
   "id": "36c849d3-feb8-4486-918b-b07e942fdbff",
   "metadata": {},
   "outputs": [
    {
     "name": "stdout",
     "output_type": "stream",
     "text": [
      "True\n"
     ]
    }
   ],
   "source": [
    "# Test with 128\n",
    "x = 128\n",
    "y = 128\n",
    "print(x is y)"
   ]
  },
  {
   "cell_type": "code",
   "execution_count": 30,
   "id": "22779092-7bf5-489e-910b-2817d03f427e",
   "metadata": {},
   "outputs": [
    {
     "name": "stdout",
     "output_type": "stream",
     "text": [
      "False\n"
     ]
    }
   ],
   "source": [
    "# Test with -10\n",
    "x = -10\n",
    "y = -10\n",
    "print(x is y)"
   ]
  },
  {
   "cell_type": "code",
   "execution_count": 37,
   "id": "b23dd639-c236-4983-a2d6-dc01de9d1a46",
   "metadata": {},
   "outputs": [
    {
     "name": "stdout",
     "output_type": "stream",
     "text": [
      "False\n"
     ]
    }
   ],
   "source": [
    "# Test with 300\n",
    "x = 300\n",
    "y = 300\n",
    "print(x is y)"
   ]
  },
  {
   "cell_type": "code",
   "execution_count": 38,
   "id": "b0ae1937-0e40-4cbb-9c69-5347f85a051b",
   "metadata": {},
   "outputs": [
    {
     "name": "stdout",
     "output_type": "stream",
     "text": [
      "True\n"
     ]
    }
   ],
   "source": [
    "# Test with a short string\n",
    "x = \"Hello\"\n",
    "y = \"Hello\"\n",
    "print(x is y)"
   ]
  },
  {
   "cell_type": "code",
   "execution_count": 39,
   "id": "2139d4c9-98cd-4de5-9b1e-b5918b4b07f6",
   "metadata": {},
   "outputs": [
    {
     "name": "stdout",
     "output_type": "stream",
     "text": [
      "False\n"
     ]
    }
   ],
   "source": [
    "# Test with a long string\n",
    "x = \"Hello. Nice to meet you.\"\n",
    "y = \"Hello. Nice to meet you.\"\n",
    "print(x is y)"
   ]
  },
  {
   "cell_type": "markdown",
   "id": "1bb82b59-393f-4358-b19d-8603950d829f",
   "metadata": {},
   "source": [
    "**Remarks**\n",
    "\n",
    "1. The theory is true *in general*, but be aware of Python interning behavior in some special cases\n",
    "1. Never compare identities of small integers and short strings\n",
    "1. In practice, you rarely compare identities, so it won't matter much"
   ]
  }
 ],
 "metadata": {
  "kernelspec": {
   "display_name": "Python 3 (ipykernel)",
   "language": "python",
   "name": "python3"
  },
  "language_info": {
   "codemirror_mode": {
    "name": "ipython",
    "version": 3
   },
   "file_extension": ".py",
   "mimetype": "text/x-python",
   "name": "python",
   "nbconvert_exporter": "python",
   "pygments_lexer": "ipython3",
   "version": "3.9.7"
  }
 },
 "nbformat": 4,
 "nbformat_minor": 5
}
