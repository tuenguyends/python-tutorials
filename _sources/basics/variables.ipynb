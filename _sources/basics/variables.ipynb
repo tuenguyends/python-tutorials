{
 "cells": [
  {
   "cell_type": "markdown",
   "id": "eedaa7e6-ce80-4469-9ca9-2a8deac84d1f",
   "metadata": {},
   "source": [
    "# Variables and assignments"
   ]
  },
  {
   "cell_type": "markdown",
   "id": "d31fa96e-79c3-4053-811f-4c1f065ad25b",
   "metadata": {},
   "source": [
    "## What is a variable?\n",
    "\n",
    "From the previous chapter, you know that a variable is created through an assignment, for example"
   ]
  },
  {
   "cell_type": "code",
   "execution_count": 1,
   "id": "e8943571-e1af-43af-919f-e3456b84c6e9",
   "metadata": {},
   "outputs": [],
   "source": [
    "x = 1000"
   ]
  },
  {
   "cell_type": "markdown",
   "id": "5d9c98e3-7892-4896-a6d8-dfee1385dca5",
   "metadata": {},
   "source": [
    "Here, `x` is a variable and `1000` is the value associated with `x`. Many people think that `x` *contains* `1000`, but it's not true.\n",
    "\n",
    "In Python, values are stored in *objects*, each of which occupies some slot in the memory. Variables are just symbolic names, through which we manipulate the underlying objects.\n",
    "\n",
    "We need variables because it is extremely complicated for us, as human beings, to deal with objects directly. Variables help abstract away all unnecessary technical complications and allow us to focus on solving our main problem at a higher level."
   ]
  },
  {
   "cell_type": "markdown",
   "id": "3eca4718-6b3f-4847-8d6b-3aa96ece756a",
   "metadata": {},
   "source": [
    "## Under the hood of an assignment\n",
    "\n",
    "Here is what happens when you run an assignment\n",
    "\n",
    "1. First, Python evaluates the right-hand side (RHS) first to come up with some value\n",
    "\n",
    "1. Then Python creates an object to hold this value. This object has an ID and occupies some slot in the memory.\n",
    "\n",
    "1. Next, Python creates an *association* (or a symbolic link) between this object and the variable on the left-hand side (LHS).\n",
    "\n",
    "1. From now on, you can use the variable name to refer to and manipulate the underlying object.\n",
    "\n",
    "You can think of the object as a box, the value as what's inside the box, and the variable as the label pasted on the box."
   ]
  },
  {
   "cell_type": "markdown",
   "id": "e7edcb02-eb63-4780-aed8-ae0888ab182d",
   "metadata": {},
   "source": [
    "## Verify the theory"
   ]
  },
  {
   "cell_type": "markdown",
   "id": "f7da5376-eb97-4971-81d2-37eae377b98e",
   "metadata": {},
   "source": [
    "**Example 1: ID of an object**"
   ]
  },
  {
   "cell_type": "code",
   "execution_count": 3,
   "id": "63804fab-c09b-45f5-ad01-d172e3f3e701",
   "metadata": {},
   "outputs": [],
   "source": [
    "x = 1000"
   ]
  },
  {
   "cell_type": "markdown",
   "id": "d5a19616-3f14-4613-b5ed-a6cabbc07d5e",
   "metadata": {},
   "source": [
    "Here, an object is created to hold `1000`, then it is linked to variable `x`. Now, we can access to value `1000` through the name `x`, for example"
   ]
  },
  {
   "cell_type": "code",
   "execution_count": 4,
   "id": "1594e8ef-89d6-429c-a2b9-d13438b6815d",
   "metadata": {},
   "outputs": [
    {
     "name": "stdout",
     "output_type": "stream",
     "text": [
      "1000\n"
     ]
    }
   ],
   "source": [
    "print(x)"
   ]
  },
  {
   "cell_type": "code",
   "execution_count": 5,
   "id": "6eed3b06-e744-4f1a-a80c-db185f0d0e22",
   "metadata": {},
   "outputs": [
    {
     "data": {
      "text/plain": [
       "1500"
      ]
     },
     "execution_count": 5,
     "metadata": {},
     "output_type": "execute_result"
    }
   ],
   "source": [
    "x + 500"
   ]
  },
  {
   "cell_type": "markdown",
   "id": "0f159a13-f089-4dba-9f0a-96c7b8505667",
   "metadata": {},
   "source": [
    "We can use the `id()` function to check the ID of the object that `x` is pointing to."
   ]
  },
  {
   "cell_type": "code",
   "execution_count": 6,
   "id": "6ddac4d7-b597-4447-a6e5-734c967d2092",
   "metadata": {},
   "outputs": [
    {
     "data": {
      "text/plain": [
       "2196092317008"
      ]
     },
     "execution_count": 6,
     "metadata": {},
     "output_type": "execute_result"
    }
   ],
   "source": [
    "id(x)"
   ]
  },
  {
   "cell_type": "markdown",
   "id": "ed75256d-40c8-4fb3-896f-30c17dd32006",
   "metadata": {},
   "source": [
    "**Example 2: values and objects are different**"
   ]
  },
  {
   "cell_type": "markdown",
   "id": "61033525-e6d7-42e3-a1d6-b35efe4c6ff1",
   "metadata": {},
   "source": [
    "Consider running two following assignments."
   ]
  },
  {
   "cell_type": "code",
   "execution_count": 41,
   "id": "705df7eb-6862-4469-86f2-6b2f4676edde",
   "metadata": {},
   "outputs": [],
   "source": [
    "x = 1000\n",
    "y = 1000"
   ]
  },
  {
   "cell_type": "markdown",
   "id": "27a44d1b-1d10-4d5c-a27f-d30cd4fc466f",
   "metadata": {},
   "source": [
    "Some might think Python will create a single object to hold `1000` and then link both `x` and `y` to that object. That's not true.\n",
    "\n",
    "Here, two assignments are handled separately. \n",
    "\n",
    "1. Python runs the first assignment, creates an object to hold `1000`, and links this object to `x`. \n",
    "\n",
    "1. Then Python moves to the second assignment, and creates another object to hold the same value `1000`. Although they share the same value, they are two different objects sitting at different slots in the memory. Python also links the second object to the variable `y`.\n",
    "\n",
    "Think of these two objects as two boxes (different objects) containing the same amount of gold (same value) and have two different labels (linked to different variables)"
   ]
  },
  {
   "cell_type": "markdown",
   "id": "c462c265-8a86-41ba-bfd8-365c80d6973a",
   "metadata": {},
   "source": [
    "Confirm `x` and `y` are pointing to two different objects."
   ]
  },
  {
   "cell_type": "code",
   "execution_count": 11,
   "id": "a2d7a5de-ac18-4d77-8a49-e9cbbf6c925f",
   "metadata": {},
   "outputs": [
    {
     "name": "stdout",
     "output_type": "stream",
     "text": [
      "2196092704368\n",
      "2196092704112\n"
     ]
    }
   ],
   "source": [
    "print(id(x))\n",
    "print(id(y))"
   ]
  },
  {
   "cell_type": "markdown",
   "id": "bfcbb706-2c9b-4682-ba73-cff8b7b32b63",
   "metadata": {},
   "source": [
    "We can also use the keyword `is` to check. `x is y` returns `False` if `x` and `y` are pointing to two different underlying objects and returns `True` if they are indeed pointing to the same object."
   ]
  },
  {
   "cell_type": "code",
   "execution_count": 42,
   "id": "a128f917-488f-4326-9da7-85a5098cb5f2",
   "metadata": {},
   "outputs": [
    {
     "data": {
      "text/plain": [
       "False"
      ]
     },
     "execution_count": 42,
     "metadata": {},
     "output_type": "execute_result"
    }
   ],
   "source": [
    "x is y"
   ]
  },
  {
   "cell_type": "markdown",
   "id": "cfc9a786-edfc-495c-8899-0cd9a2850c98",
   "metadata": {},
   "source": [
    "**Example 3: garbage collector**"
   ]
  },
  {
   "cell_type": "markdown",
   "id": "7c549922-52e5-42a8-95e2-c8082347e616",
   "metadata": {},
   "source": [
    "Now re-assign y to a new value, for example"
   ]
  },
  {
   "cell_type": "code",
   "execution_count": 13,
   "id": "35323a00-6df6-436f-8d83-83d048f66a01",
   "metadata": {},
   "outputs": [],
   "source": [
    "y = 2000"
   ]
  },
  {
   "cell_type": "markdown",
   "id": "22a9d559-36ee-42c8-b7bc-149b213f9398",
   "metadata": {},
   "source": [
    "Many think that the object stays unchanged, only the value `1000` is replaced by the new value `2000`. That's not true.\n",
    "\n",
    "As explained earlier, Python first evaluates the RHS and gets the value `1000`. It then creates a totally new box to hold `2000` and takes the label `y` from the old box and pastes it on the new box.\n",
    "\n",
    "Let's check the ID of y to confirm it's different from the ID  from the last run."
   ]
  },
  {
   "cell_type": "code",
   "execution_count": 14,
   "id": "c0d6c2a0-5d54-48c7-b4f3-a128cca05eb5",
   "metadata": {},
   "outputs": [
    {
     "data": {
      "text/plain": [
       "2196092704048"
      ]
     },
     "execution_count": 14,
     "metadata": {},
     "output_type": "execute_result"
    }
   ],
   "source": [
    "id(y)"
   ]
  },
  {
   "cell_type": "markdown",
   "id": "180a8ad4-d537-490d-ab4b-6b977995360b",
   "metadata": {},
   "source": [
    "So what happens with the old box? It is destroyed!\n",
    "\n",
    "When Python notices an object without any variable referring to it, Python will summons the *garbage collector* to destroy the object and return the memory to the system for future assignment.\n",
    "\n",
    "How can we verify that? Well, we can't (at least in the scope of this book). We, as human beings, can only have access to an object through the variable associated with it. If there is no such variable, then we can't."
   ]
  },
  {
   "cell_type": "markdown",
   "id": "86e421f7-1ed0-4532-b5e8-b647ebd7f452",
   "metadata": {},
   "source": [
    "**Example 4: when two variable pointing to the same object**"
   ]
  },
  {
   "cell_type": "markdown",
   "id": "c970539b-cf41-432a-92c4-55e872be4527",
   "metadata": {},
   "source": [
    "Now run the following assignment."
   ]
  },
  {
   "cell_type": "code",
   "execution_count": 15,
   "id": "fe1218e2-6dde-4fd1-a9f7-53e6bbf6c009",
   "metadata": {},
   "outputs": [],
   "source": [
    "y = x"
   ]
  },
  {
   "cell_type": "markdown",
   "id": "11c3d42f-06f8-41fd-9d2b-24f089251519",
   "metadata": {},
   "source": [
    "As usual, you might think that Python evaluates the RHS to come up with the value `1000` (because `x` is pointing to an object holding value `1000`). Then Python creates a new object for this value and linked it to `y`. Well, it's not true in this case.\n",
    "\n",
    "When the RHS contains only a single variable name, then no new object is created. The variable on the LHS is now pointing to the same underlying object that the variable on the RHS is pointing to.\n",
    "\n",
    "Let's verify that."
   ]
  },
  {
   "cell_type": "code",
   "execution_count": 16,
   "id": "9c136325-f9e6-41cd-b42a-57c6f865ccc7",
   "metadata": {},
   "outputs": [
    {
     "name": "stdout",
     "output_type": "stream",
     "text": [
      "2196092704368\n",
      "2196092704368\n",
      "True\n"
     ]
    }
   ],
   "source": [
    "print(id(x))\n",
    "print(id(y))\n",
    "print(x is y)"
   ]
  },
  {
   "cell_type": "markdown",
   "id": "e91e2716-514f-4729-81df-522f79350c97",
   "metadata": {},
   "source": [
    "As you can see, `x` and `y` are now two labels on the same box."
   ]
  },
  {
   "cell_type": "markdown",
   "id": "aa534d58-119e-4761-995f-b97ba01f4d28",
   "metadata": {},
   "source": [
    "## Python interning"
   ]
  },
  {
   "cell_type": "markdown",
   "id": "9eb42b34-61a5-452b-b687-54c53ac4eb79",
   "metadata": {},
   "source": [
    "We already verified that theory for some large numbers such as `1000` and `2000`. Now consider the following example."
   ]
  },
  {
   "cell_type": "code",
   "execution_count": 18,
   "id": "10d4c241-30ce-43a3-879a-5b28de877c10",
   "metadata": {},
   "outputs": [],
   "source": [
    "x = 10\n",
    "y = 10"
   ]
  },
  {
   "cell_type": "code",
   "execution_count": 19,
   "id": "45a5d21e-4047-41ba-8d34-661325179afa",
   "metadata": {},
   "outputs": [
    {
     "name": "stdout",
     "output_type": "stream",
     "text": [
      "2196011575888\n",
      "2196011575888\n",
      "True\n"
     ]
    }
   ],
   "source": [
    "print(id(x))\n",
    "print(id(y))\n",
    "print(x is y)"
   ]
  },
  {
   "cell_type": "markdown",
   "id": "c141a8a5-3b8c-49fe-9ad5-03070019fc5a",
   "metadata": {},
   "source": [
    "According to theory, `x` and `y` should be pointing to two distinct objects although they shared the same value. But from what you have seen above, it is not the case.\n",
    "\n",
    "This weird behavior (called Python interning) is due to some optimization decision of the Python core team which I will not discuss here. Basically, maintaining only one single copy helps save memory and make comparisons a lot faster. And the core team accepted this language inconsistency in exchange for performance.\n",
    "\n",
    "You can see Python interning behavior for small integers (normally from `-5` to `128`, but it depends on specific implementations) and for short strings."
   ]
  },
  {
   "cell_type": "code",
   "execution_count": 28,
   "id": "4d5437af-caa1-4e36-9005-ad03c44f9485",
   "metadata": {},
   "outputs": [
    {
     "name": "stdout",
     "output_type": "stream",
     "text": [
      "True\n"
     ]
    }
   ],
   "source": [
    "# Test with -5\n",
    "x = -5\n",
    "y = -5\n",
    "print(x is y)"
   ]
  },
  {
   "cell_type": "code",
   "execution_count": 29,
   "id": "36c849d3-feb8-4486-918b-b07e942fdbff",
   "metadata": {},
   "outputs": [
    {
     "name": "stdout",
     "output_type": "stream",
     "text": [
      "True\n"
     ]
    }
   ],
   "source": [
    "# Test with 128\n",
    "x = 128\n",
    "y = 128\n",
    "print(x is y)"
   ]
  },
  {
   "cell_type": "code",
   "execution_count": 30,
   "id": "22779092-7bf5-489e-910b-2817d03f427e",
   "metadata": {},
   "outputs": [
    {
     "name": "stdout",
     "output_type": "stream",
     "text": [
      "False\n"
     ]
    }
   ],
   "source": [
    "# Test with -10\n",
    "x = -10\n",
    "y = -10\n",
    "print(x is y)"
   ]
  },
  {
   "cell_type": "code",
   "execution_count": 37,
   "id": "b23dd639-c236-4983-a2d6-dc01de9d1a46",
   "metadata": {},
   "outputs": [
    {
     "name": "stdout",
     "output_type": "stream",
     "text": [
      "False\n"
     ]
    }
   ],
   "source": [
    "# Test with 300\n",
    "x = 300\n",
    "y = 300\n",
    "print(x is y)"
   ]
  },
  {
   "cell_type": "code",
   "execution_count": 38,
   "id": "b0ae1937-0e40-4cbb-9c69-5347f85a051b",
   "metadata": {},
   "outputs": [
    {
     "name": "stdout",
     "output_type": "stream",
     "text": [
      "True\n"
     ]
    }
   ],
   "source": [
    "# Test with a short string\n",
    "x = \"Hello\"\n",
    "y = \"Hello\"\n",
    "print(x is y)"
   ]
  },
  {
   "cell_type": "code",
   "execution_count": 39,
   "id": "2139d4c9-98cd-4de5-9b1e-b5918b4b07f6",
   "metadata": {},
   "outputs": [
    {
     "name": "stdout",
     "output_type": "stream",
     "text": [
      "False\n"
     ]
    }
   ],
   "source": [
    "# Test with a long string\n",
    "x = \"Hello. Nice to meet you.\"\n",
    "y = \"Hello. Nice to meet you.\"\n",
    "print(x is y)"
   ]
  },
  {
   "cell_type": "markdown",
   "id": "1bb82b59-393f-4358-b19d-8603950d829f",
   "metadata": {},
   "source": [
    "**Remarks**\n",
    "\n",
    "1. The theory is true *in general*, but be aware of Python interning behavior in some special cases\n",
    "1. Never compare identities of small integers and short strings\n",
    "1. In practice, you rarely compare identities, so it won't matter much"
   ]
  },
  {
   "cell_type": "markdown",
   "id": "8024d52c-340a-4c5c-a1d7-9b4872aa308d",
   "metadata": {},
   "source": [
    "## Summary"
   ]
  },
  {
   "cell_type": "markdown",
   "id": "46988520-2a60-4384-ade4-4addf6391010",
   "metadata": {},
   "source": [
    "Here is the key takeaway from this chapter\n",
    "\n",
    "1. Everything that contains value or data is an object.\n",
    "\n",
    "1. Variables are just symbolic names that make coding easier for humans. They don't contain values.\n",
    "\n",
    "1. We, as human beings, don't manipulate objects directly. Use get access to an object through its associated variable.\n",
    "\n",
    "1. Think of an object as a box, a value as what's inside the box, and a variable as the label pasted on the box.\n",
    "\n",
    "1. `y = x` never creates a new object. Instead, `y` is now pointing to the same object that `x` is pointing to.\n",
    "\n",
    "1. At one moment in time, there can be two labels pasted on the same box (as x and y in the last example). Thus, whether we call `print(x)` or `print(y)`, we get the same value back (because both variables are pointing to the same object)\n",
    "\n",
    "1. However, at one moment in time, one label can't be pasted on two different boxes. Because if so, when we call `print(x)`, Python cannot decide which box to open.\n",
    "\n",
    "1. When Python notices a box without any label, it will immediately summon the garbage collector to destroy that box and return the memory to the system.\n",
    "\n",
    "1. Be aware of Python interning behavior"
   ]
  },
  {
   "cell_type": "markdown",
   "id": "1798cd5e-c25c-4136-928c-56c38348fea8",
   "metadata": {},
   "source": [
    "## More on printing\n",
    "\n",
    "Now, you already gained some more understanding of how Python works. It's time to introduce some more useful tips for printing."
   ]
  },
  {
   "cell_type": "markdown",
   "id": "cf426c41-dae6-4ebb-a9f5-507b3beb0f3e",
   "metadata": {},
   "source": [
    "**Example 1: normal printing**"
   ]
  },
  {
   "cell_type": "code",
   "execution_count": 43,
   "id": "e2e166c8-48bb-4254-8888-8277ebbad2c8",
   "metadata": {},
   "outputs": [
    {
     "name": "stdout",
     "output_type": "stream",
     "text": [
      "Hello\n"
     ]
    }
   ],
   "source": [
    "# Print strings\n",
    "print(\"Hello\")"
   ]
  },
  {
   "cell_type": "code",
   "execution_count": 44,
   "id": "357680fa-a657-4de4-8ce9-9a2a0fe2314b",
   "metadata": {},
   "outputs": [
    {
     "name": "stdout",
     "output_type": "stream",
     "text": [
      "1000\n"
     ]
    }
   ],
   "source": [
    "# Print variables\n",
    "x = 1000\n",
    "print(x)"
   ]
  },
  {
   "cell_type": "code",
   "execution_count": 45,
   "id": "2b0c46fb-75cd-4f9c-9d4a-09c4e8a9c2fc",
   "metadata": {},
   "outputs": [
    {
     "name": "stdout",
     "output_type": "stream",
     "text": [
      "1500\n"
     ]
    }
   ],
   "source": [
    "# Print expressions\n",
    "print(x + 500)"
   ]
  },
  {
   "cell_type": "markdown",
   "id": "bfb3fd67-06bc-4606-86a1-23f5933d930a",
   "metadata": {},
   "source": [
    "**Example 2: print formatted string (1)**\n",
    "\n",
    "A formatted string is a string having some *placeholders* that will be filled by the values of some variables, for example"
   ]
  },
  {
   "cell_type": "code",
   "execution_count": 46,
   "id": "b43d3439-af3a-486b-8f2b-001020315ea4",
   "metadata": {},
   "outputs": [
    {
     "name": "stdout",
     "output_type": "stream",
     "text": [
      "I am Thor from Asgard\n"
     ]
    }
   ],
   "source": [
    "name = \"Thor\"\n",
    "place = \"Asgard\"\n",
    "s = \"I am {} from {}\".format(name, place)\n",
    "\n",
    "print(s)"
   ]
  },
  {
   "cell_type": "markdown",
   "id": "a6035c92-b628-4232-a918-770f73df5c8e",
   "metadata": {},
   "source": [
    "Here, the string `s` has two placeholders in it (denoted by `{}`), each of which will be filled with the values of `name` and `place` in that order."
   ]
  },
  {
   "cell_type": "markdown",
   "id": "8f4024ea-0913-4c2b-80b3-4087cf84b47b",
   "metadata": {},
   "source": [
    "**Example 2: print formatted string (2)**\n",
    "\n",
    "If you are using Python `>= 3.6`, you can use put the variable names inside the corresponding placeholders to achieve the same results. This behavior is called *string interpolation*.\n",
    "\n",
    "However, remember to put an `f` before the starting quote (`f` means *formatted*)."
   ]
  },
  {
   "cell_type": "code",
   "execution_count": 47,
   "id": "16c713d5-21e1-45b0-8dfd-3b92a902a340",
   "metadata": {},
   "outputs": [
    {
     "name": "stdout",
     "output_type": "stream",
     "text": [
      "This is Rob. He is 20 years old\n"
     ]
    }
   ],
   "source": [
    "age = 20\n",
    "name = \"Rob\"\n",
    "\n",
    "print(f\"This is {name}. He is {age} years old\")"
   ]
  }
 ],
 "metadata": {
  "kernelspec": {
   "display_name": "Python 3 (ipykernel)",
   "language": "python",
   "name": "python3"
  },
  "language_info": {
   "codemirror_mode": {
    "name": "ipython",
    "version": 3
   },
   "file_extension": ".py",
   "mimetype": "text/x-python",
   "name": "python",
   "nbconvert_exporter": "python",
   "pygments_lexer": "ipython3",
   "version": "3.9.7"
  }
 },
 "nbformat": 4,
 "nbformat_minor": 5
}
