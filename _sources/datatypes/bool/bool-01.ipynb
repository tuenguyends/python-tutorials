{
 "cells": [
  {
   "cell_type": "markdown",
   "id": "ad918e26-40bc-48b3-a3c4-0c9b4c6e81ca",
   "metadata": {},
   "source": [
    "# Overview"
   ]
  },
  {
   "cell_type": "markdown",
   "id": "1efbfa8e-6a70-4439-9c0d-1f5550f38e7f",
   "metadata": {},
   "source": [
    "Python uses `bool` to represent truth values. There are only two truth values: `True` and `False`. Remember that Python is case-sensitive, so using `true` or `false` will produce an error."
   ]
  },
  {
   "cell_type": "markdown",
   "id": "2bde7a85-1454-4bc0-89ad-0d416e2b330f",
   "metadata": {},
   "source": [
    "## Creating a bool variable\n",
    "\n",
    "We can create a `bool` variable through an assignment with either `True` or `False`."
   ]
  },
  {
   "cell_type": "code",
   "execution_count": 40,
   "id": "f9c16201-11ce-4d00-820d-9b0e29aa8254",
   "metadata": {},
   "outputs": [],
   "source": [
    "# Initialize two bool variables\n",
    "x = True\n",
    "y = False"
   ]
  },
  {
   "cell_type": "code",
   "execution_count": 3,
   "id": "839864a3-fe62-4dac-8e51-ae5f9a10ff5b",
   "metadata": {},
   "outputs": [
    {
     "name": "stdout",
     "output_type": "stream",
     "text": [
      "<class 'bool'>\n",
      "<class 'bool'>\n"
     ]
    }
   ],
   "source": [
    "# Check there type\n",
    "print(type(x))\n",
    "print(type(y))"
   ]
  },
  {
   "cell_type": "markdown",
   "id": "5ea5c8c7-b7c4-4b55-94c0-b37c04709102",
   "metadata": {},
   "source": [
    "You can also create a `bool` variable by assigning to it an expression that produces a `bool` value (normally through comparison)."
   ]
  },
  {
   "cell_type": "markdown",
   "id": "c68148ae-274f-43e2-82a4-63a1ba594d51",
   "metadata": {},
   "source": [
    "Examples"
   ]
  },
  {
   "cell_type": "code",
   "execution_count": 2,
   "id": "a69d2982-85e9-4cee-913f-330024f7b05a",
   "metadata": {},
   "outputs": [],
   "source": [
    "# Initalize two variable\n",
    "x = 1000\n",
    "y = 2000"
   ]
  },
  {
   "cell_type": "code",
   "execution_count": 3,
   "id": "87e759a5-12a4-4522-bbf2-0cc0bb282299",
   "metadata": {},
   "outputs": [
    {
     "data": {
      "text/plain": [
       "False"
      ]
     },
     "execution_count": 3,
     "metadata": {},
     "output_type": "execute_result"
    }
   ],
   "source": [
    "# Value-equality comparison\n",
    "x == y"
   ]
  },
  {
   "cell_type": "code",
   "execution_count": 4,
   "id": "285a1355-9a87-4404-a6f3-a83c7bd3bd48",
   "metadata": {},
   "outputs": [
    {
     "data": {
      "text/plain": [
       "True"
      ]
     },
     "execution_count": 4,
     "metadata": {},
     "output_type": "execute_result"
    }
   ],
   "source": [
    "# Value-inequality comparison\n",
    "x != y"
   ]
  },
  {
   "cell_type": "code",
   "execution_count": 5,
   "id": "fae81243-33ea-4f2c-95ed-4cfad97bcb8d",
   "metadata": {},
   "outputs": [
    {
     "data": {
      "text/plain": [
       "True"
      ]
     },
     "execution_count": 5,
     "metadata": {},
     "output_type": "execute_result"
    }
   ],
   "source": [
    "# Another way is to negate == with not\n",
    "not(x == y)"
   ]
  },
  {
   "cell_type": "code",
   "execution_count": 6,
   "id": "d2711410-37d3-43a6-ac5f-fffb2ff09ef2",
   "metadata": {},
   "outputs": [
    {
     "data": {
      "text/plain": [
       "False"
      ]
     },
     "execution_count": 6,
     "metadata": {},
     "output_type": "execute_result"
    }
   ],
   "source": [
    "# ID-equality comparison\n",
    "x is y"
   ]
  },
  {
   "cell_type": "code",
   "execution_count": 8,
   "id": "1588e8f6-215e-4915-9cbb-860df8f17ee8",
   "metadata": {},
   "outputs": [
    {
     "data": {
      "text/plain": [
       "True"
      ]
     },
     "execution_count": 8,
     "metadata": {},
     "output_type": "execute_result"
    }
   ],
   "source": [
    "# ID-inequality comparison\n",
    "x is not y"
   ]
  },
  {
   "cell_type": "code",
   "execution_count": 9,
   "id": "36a89f39-9f21-4dfb-b05f-c03e866390b5",
   "metadata": {},
   "outputs": [
    {
     "data": {
      "text/plain": [
       "False"
      ]
     },
     "execution_count": 9,
     "metadata": {},
     "output_type": "execute_result"
    }
   ],
   "source": [
    "# Greater than\n",
    "x > y"
   ]
  },
  {
   "cell_type": "code",
   "execution_count": 11,
   "id": "41efdc92-85a1-4527-a7ee-2bbb8e6aa7d0",
   "metadata": {},
   "outputs": [
    {
     "data": {
      "text/plain": [
       "False"
      ]
     },
     "execution_count": 11,
     "metadata": {},
     "output_type": "execute_result"
    }
   ],
   "source": [
    "# Greater than or equal\n",
    "x >= y"
   ]
  },
  {
   "cell_type": "code",
   "execution_count": 10,
   "id": "f495a210-c374-4eba-bfc5-99e5b2f43f77",
   "metadata": {},
   "outputs": [
    {
     "data": {
      "text/plain": [
       "True"
      ]
     },
     "execution_count": 10,
     "metadata": {},
     "output_type": "execute_result"
    }
   ],
   "source": [
    "# Less than\n",
    "x < y"
   ]
  },
  {
   "cell_type": "code",
   "execution_count": 12,
   "id": "b8dc315e-d568-46f9-aaaa-6b727687d503",
   "metadata": {},
   "outputs": [
    {
     "data": {
      "text/plain": [
       "True"
      ]
     },
     "execution_count": 12,
     "metadata": {},
     "output_type": "execute_result"
    }
   ],
   "source": [
    "# Less than ro equal\n",
    "x <= y"
   ]
  },
  {
   "cell_type": "markdown",
   "id": "c0bd638f-fe19-4b0f-a376-5e92947b5120",
   "metadata": {
    "tags": []
   },
   "source": [
    "## When use `bool`?\n",
    " \n",
    "A `bool` value is normally used as the condition for branching in an `if` statement (more on this in the *control flows* chapter). For now, consider the following simple example."
   ]
  },
  {
   "cell_type": "code",
   "execution_count": 13,
   "id": "36c1ae18-d015-46b4-8bc9-5af29de7c196",
   "metadata": {},
   "outputs": [
    {
     "name": "stdout",
     "output_type": "stream",
     "text": [
      "Passed\n"
     ]
    }
   ],
   "source": [
    "grade = 8\n",
    "\n",
    "if grade >= 4:\n",
    "    print(\"Passed\")\n",
    "else:\n",
    "    print(\"Failed\")"
   ]
  },
  {
   "cell_type": "markdown",
   "id": "8adaabfa-36ba-40e1-8dd2-b21bedcf0195",
   "metadata": {},
   "source": [
    "As you can see, `\"Passed\"` was printed out because `grade >= 4` produces `True` (since `8 > 4`), so Python executes the statements under `if`. \n",
    "\n",
    "If in the first line, we change `8` to `3`, then `grade >= 4` will produces `False`, and Python will run the statements under `else`.\n",
    "\n",
    "Let's confirm this."
   ]
  },
  {
   "cell_type": "code",
   "execution_count": 14,
   "id": "cb746ec1-a892-433f-9bda-fe92b1c8ef4a",
   "metadata": {},
   "outputs": [
    {
     "name": "stdout",
     "output_type": "stream",
     "text": [
      "Failed\n"
     ]
    }
   ],
   "source": [
    "grade = 3\n",
    "\n",
    "if grade >= 4:\n",
    "    print(\"Passed\")\n",
    "else:\n",
    "    print(\"Failed\")"
   ]
  }
 ],
 "metadata": {
  "kernelspec": {
   "display_name": "Python 3 (ipykernel)",
   "language": "python",
   "name": "python3"
  },
  "language_info": {
   "codemirror_mode": {
    "name": "ipython",
    "version": 3
   },
   "file_extension": ".py",
   "mimetype": "text/x-python",
   "name": "python",
   "nbconvert_exporter": "python",
   "pygments_lexer": "ipython3",
   "version": "3.9.7"
  }
 },
 "nbformat": 4,
 "nbformat_minor": 5
}
