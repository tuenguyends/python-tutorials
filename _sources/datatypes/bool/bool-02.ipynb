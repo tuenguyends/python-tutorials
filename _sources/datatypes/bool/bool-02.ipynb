{
 "cells": [
  {
   "cell_type": "markdown",
   "id": "8986e2e3-32c3-43e7-96bb-419189d52d91",
   "metadata": {},
   "source": [
    "# Typecasting\n",
    "\n",
    "Type-casting (or type coercion) is the action of converting a value of one type to another value of a different type based on a pre-defined conversion rule. Think of it as converting USD to Euro.\n",
    "\n",
    "To convert a value to `bool`, we use `bool()` function.\n",
    "\n",
    "When converting a value of another type to `bool`\n",
    "\n",
    "- `0`, `None`, and values considered as *empty* will produces `False`\n",
    "- None-zero and non-empty values will produce `True`\n",
    "\n",
    "Here are some examples."
   ]
  },
  {
   "cell_type": "markdown",
   "id": "feae073e-1368-492e-9937-0dc55d63fdac",
   "metadata": {},
   "source": [
    "From `NoneType`"
   ]
  },
  {
   "cell_type": "code",
   "execution_count": 17,
   "id": "c41796d7-d309-4302-9379-6dbb5571f7c0",
   "metadata": {},
   "outputs": [
    {
     "data": {
      "text/plain": [
       "False"
      ]
     },
     "execution_count": 17,
     "metadata": {},
     "output_type": "execute_result"
    }
   ],
   "source": [
    "bool(None)"
   ]
  },
  {
   "cell_type": "markdown",
   "id": "94f8c004-80dc-4374-a752-3e2ad23b36af",
   "metadata": {},
   "source": [
    "From `int`"
   ]
  },
  {
   "cell_type": "code",
   "execution_count": 18,
   "id": "8fd9d514-fd11-4733-8e15-8bae7697afd5",
   "metadata": {},
   "outputs": [
    {
     "data": {
      "text/plain": [
       "False"
      ]
     },
     "execution_count": 18,
     "metadata": {},
     "output_type": "execute_result"
    }
   ],
   "source": [
    "# Zero\n",
    "bool(0)"
   ]
  },
  {
   "cell_type": "code",
   "execution_count": 19,
   "id": "a6df461a-505a-4f07-af89-d8cda9781598",
   "metadata": {},
   "outputs": [
    {
     "data": {
      "text/plain": [
       "True"
      ]
     },
     "execution_count": 19,
     "metadata": {},
     "output_type": "execute_result"
    }
   ],
   "source": [
    "# Non-zero\n",
    "bool(-1)"
   ]
  },
  {
   "cell_type": "markdown",
   "id": "e9b618f5-24d2-4f6f-a10c-7fe86f29ea27",
   "metadata": {},
   "source": [
    "From `float`"
   ]
  },
  {
   "cell_type": "code",
   "execution_count": 22,
   "id": "0380bd02-d5b0-4264-8abe-046a30632416",
   "metadata": {},
   "outputs": [
    {
     "data": {
      "text/plain": [
       "False"
      ]
     },
     "execution_count": 22,
     "metadata": {},
     "output_type": "execute_result"
    }
   ],
   "source": [
    "# Zero\n",
    "bool(0.0)"
   ]
  },
  {
   "cell_type": "code",
   "execution_count": 21,
   "id": "4dcf99fd-0af8-4a01-a09a-35f7bed7b553",
   "metadata": {},
   "outputs": [
    {
     "data": {
      "text/plain": [
       "True"
      ]
     },
     "execution_count": 21,
     "metadata": {},
     "output_type": "execute_result"
    }
   ],
   "source": [
    "# Non-zero\n",
    "bool(1.23)"
   ]
  },
  {
   "cell_type": "markdown",
   "id": "cceec1fd-7af7-4614-b709-877e8a589f0d",
   "metadata": {},
   "source": [
    "From `list`"
   ]
  },
  {
   "cell_type": "code",
   "execution_count": 23,
   "id": "edae37b5-1ff1-4d1f-a77f-8824dd0addf8",
   "metadata": {},
   "outputs": [
    {
     "data": {
      "text/plain": [
       "False"
      ]
     },
     "execution_count": 23,
     "metadata": {},
     "output_type": "execute_result"
    }
   ],
   "source": [
    "# Empty list\n",
    "bool([])"
   ]
  },
  {
   "cell_type": "code",
   "execution_count": 24,
   "id": "c43abda3-4926-4468-8215-be628d56df0f",
   "metadata": {},
   "outputs": [
    {
     "data": {
      "text/plain": [
       "True"
      ]
     },
     "execution_count": 24,
     "metadata": {},
     "output_type": "execute_result"
    }
   ],
   "source": [
    "# Non-empty list\n",
    "bool([1, 2])"
   ]
  },
  {
   "cell_type": "markdown",
   "id": "e5f52714-d627-4ad5-bfee-0557b6819f95",
   "metadata": {},
   "source": [
    "From `str`"
   ]
  },
  {
   "cell_type": "code",
   "execution_count": 25,
   "id": "40b182bd-de94-4ca9-b5f3-473b782370bc",
   "metadata": {},
   "outputs": [
    {
     "data": {
      "text/plain": [
       "False"
      ]
     },
     "execution_count": 25,
     "metadata": {},
     "output_type": "execute_result"
    }
   ],
   "source": [
    "# Empty string\n",
    "bool(\"\")"
   ]
  },
  {
   "cell_type": "code",
   "execution_count": 26,
   "id": "811bdc9f-eb58-4bd3-8a10-043b9cdda077",
   "metadata": {},
   "outputs": [
    {
     "data": {
      "text/plain": [
       "True"
      ]
     },
     "execution_count": 26,
     "metadata": {},
     "output_type": "execute_result"
    }
   ],
   "source": [
    "# Non-empty string\n",
    "bool(\"Hello\")"
   ]
  },
  {
   "cell_type": "markdown",
   "id": "8a05bedc-9678-4f01-be70-664f9ba9bf90",
   "metadata": {},
   "source": [
    "Python sometimes does this conversion implicitly, for example, in a `if` statement where it expects a `bool` value to make a decision. Consider the following example."
   ]
  },
  {
   "cell_type": "code",
   "execution_count": 7,
   "id": "f539c446-40e3-4488-948a-7c9ef9a69eba",
   "metadata": {},
   "outputs": [
    {
     "name": "stdout",
     "output_type": "stream",
     "text": [
      "There is something\n"
     ]
    }
   ],
   "source": [
    "x = 12\n",
    "\n",
    "if x:\n",
    "    print(\"There is something\")\n",
    "else:\n",
    "    print(\"There is nothing\")"
   ]
  },
  {
   "cell_type": "markdown",
   "id": "8847da88-bb03-4606-b5ff-a1fae388924b",
   "metadata": {},
   "source": [
    "Here, in `if x`, Python expect a `True` or `False`, but we give it an integer `x`. Thus, Python tries to convert `x` to a `bool` and get `True` (because `bool(12)` gives `True`).\n",
    "\n",
    "Truy to change `12` to `None`, `0`, or `[]`, and you will see `\"There is nothing\"` printed out."
   ]
  },
  {
   "cell_type": "code",
   "execution_count": 8,
   "id": "496f8a5a-1ad1-4292-bb32-3800c2f15cb1",
   "metadata": {},
   "outputs": [
    {
     "name": "stdout",
     "output_type": "stream",
     "text": [
      "There is nothing\n"
     ]
    }
   ],
   "source": [
    "x = []\n",
    "\n",
    "if x:\n",
    "    print(\"There is something\")\n",
    "else:\n",
    "    print(\"There is nothing\")"
   ]
  }
 ],
 "metadata": {
  "kernelspec": {
   "display_name": "Python 3 (ipykernel)",
   "language": "python",
   "name": "python3"
  },
  "language_info": {
   "codemirror_mode": {
    "name": "ipython",
    "version": 3
   },
   "file_extension": ".py",
   "mimetype": "text/x-python",
   "name": "python",
   "nbconvert_exporter": "python",
   "pygments_lexer": "ipython3",
   "version": "3.9.7"
  }
 },
 "nbformat": 4,
 "nbformat_minor": 5
}
