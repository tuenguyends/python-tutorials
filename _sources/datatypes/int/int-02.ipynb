{
 "cells": [
  {
   "cell_type": "markdown",
   "id": "1bd49fc6-45e6-4aff-899d-05a84f5ad58a",
   "metadata": {},
   "source": [
    "# Operations on int"
   ]
  },
  {
   "cell_type": "markdown",
   "id": "56a1fd0a-0503-4bd4-953e-0376af55523f",
   "metadata": {},
   "source": [
    "## Arithmetic"
   ]
  },
  {
   "cell_type": "markdown",
   "id": "d881274d-0579-449b-9012-66cfc67dce2e",
   "metadata": {},
   "source": [
    "Addition, subtraction, multiplication"
   ]
  },
  {
   "cell_type": "code",
   "execution_count": 1,
   "id": "a4a5d999-79a1-4313-bb39-640a236f6256",
   "metadata": {},
   "outputs": [
    {
     "name": "stdout",
     "output_type": "stream",
     "text": [
      "5\n",
      "-1\n",
      "6\n"
     ]
    }
   ],
   "source": [
    "print(2 + 3)\n",
    "print(2 - 3)\n",
    "print(2 * 3)"
   ]
  },
  {
   "cell_type": "markdown",
   "id": "4c5b540f-70f2-4251-8d50-087f27330b67",
   "metadata": {},
   "source": [
    "Real division (return real numbers, or `float`)"
   ]
  },
  {
   "cell_type": "code",
   "execution_count": 2,
   "id": "ceea4995-11bd-48d5-9262-00b234230ba6",
   "metadata": {},
   "outputs": [
    {
     "data": {
      "text/plain": [
       "0.6666666666666666"
      ]
     },
     "execution_count": 2,
     "metadata": {},
     "output_type": "execute_result"
    }
   ],
   "source": [
    "2 / 3"
   ]
  },
  {
   "cell_type": "code",
   "execution_count": 3,
   "id": "5650ec51-b3a5-4d95-babd-6ab0d4bd102b",
   "metadata": {},
   "outputs": [
    {
     "data": {
      "text/plain": [
       "2.0"
      ]
     },
     "execution_count": 3,
     "metadata": {},
     "output_type": "execute_result"
    }
   ],
   "source": [
    "# Even 4 is divisible by 2\n",
    "# We still get a float back\n",
    "4 / 2"
   ]
  },
  {
   "cell_type": "markdown",
   "id": "05382557-327b-488e-8429-77dad34bbd4f",
   "metadata": {},
   "source": [
    "Integer division (get the quotient)"
   ]
  },
  {
   "cell_type": "code",
   "execution_count": 4,
   "id": "ce24da09-f2a3-4811-9f2c-e1a53941b796",
   "metadata": {},
   "outputs": [
    {
     "data": {
      "text/plain": [
       "0"
      ]
     },
     "execution_count": 4,
     "metadata": {},
     "output_type": "execute_result"
    }
   ],
   "source": [
    "2 // 3"
   ]
  },
  {
   "cell_type": "markdown",
   "id": "1c930c1b-2d5f-47cb-9ab6-f8de9b6d0d3c",
   "metadata": {},
   "source": [
    "Modulus (get the remainder)"
   ]
  },
  {
   "cell_type": "code",
   "execution_count": 5,
   "id": "dc63fa71-fd85-4750-ab29-8dae6d8cfc03",
   "metadata": {},
   "outputs": [
    {
     "data": {
      "text/plain": [
       "2"
      ]
     },
     "execution_count": 5,
     "metadata": {},
     "output_type": "execute_result"
    }
   ],
   "source": [
    "2 % 3"
   ]
  },
  {
   "cell_type": "markdown",
   "id": "05f3df6b-67f4-4f16-97e7-8fdd719ddd3e",
   "metadata": {},
   "source": [
    "Exponential"
   ]
  },
  {
   "cell_type": "code",
   "execution_count": 6,
   "id": "795bb042-a5d8-438e-be6d-cd85acae45f2",
   "metadata": {},
   "outputs": [
    {
     "data": {
      "text/plain": [
       "8"
      ]
     },
     "execution_count": 6,
     "metadata": {},
     "output_type": "execute_result"
    }
   ],
   "source": [
    "2**3"
   ]
  },
  {
   "cell_type": "markdown",
   "id": "94fea3f9-00f9-43bd-af1f-4bb76dd18383",
   "metadata": {},
   "source": [
    "Negation"
   ]
  },
  {
   "cell_type": "code",
   "execution_count": 7,
   "id": "576862fe-1412-466b-863c-67fa8ab4d879",
   "metadata": {},
   "outputs": [
    {
     "data": {
      "text/plain": [
       "-10"
      ]
     },
     "execution_count": 7,
     "metadata": {},
     "output_type": "execute_result"
    }
   ],
   "source": [
    "-10"
   ]
  },
  {
   "cell_type": "code",
   "execution_count": 8,
   "id": "ff43a583-182f-4477-b083-63cadc46da81",
   "metadata": {},
   "outputs": [
    {
     "name": "stdout",
     "output_type": "stream",
     "text": [
      "-10\n"
     ]
    }
   ],
   "source": [
    "x = 10\n",
    "print(-x)"
   ]
  },
  {
   "cell_type": "markdown",
   "id": "3e673e63-f21f-4482-8288-c934d3ac248d",
   "metadata": {},
   "source": [
    "Note that a `bool` is actually an integer under the hood with `True` and `False` equivalent to `1` and `0`. \n",
    "\n",
    "Let's confirm this."
   ]
  },
  {
   "cell_type": "code",
   "execution_count": 9,
   "id": "13a95d5d-21d5-46c3-9ca7-c98182adb878",
   "metadata": {},
   "outputs": [
    {
     "name": "stdout",
     "output_type": "stream",
     "text": [
      "True\n",
      "True\n"
     ]
    }
   ],
   "source": [
    "# Same value\n",
    "print(True == 1)\n",
    "print(False == 0)"
   ]
  },
  {
   "cell_type": "code",
   "execution_count": 10,
   "id": "e03bcf03-7361-4a4f-8f9b-ceb6743cd43a",
   "metadata": {},
   "outputs": [
    {
     "name": "stdout",
     "output_type": "stream",
     "text": [
      "True\n",
      "True\n"
     ]
    }
   ],
   "source": [
    "# Use isinstance\n",
    "print(isinstance(True, int))\n",
    "print(isinstance(False, int))"
   ]
  },
  {
   "cell_type": "markdown",
   "id": "bf9f0b51-b788-4b34-9e34-1c361603c6be",
   "metadata": {},
   "source": [
    "Thus, we can perform arithmetic on `bool` and `int`, and the result is *promoted* to type `int` (more general)"
   ]
  },
  {
   "cell_type": "code",
   "execution_count": 11,
   "id": "4020e980-4259-4f1a-bddb-daa29b0719ce",
   "metadata": {},
   "outputs": [
    {
     "name": "stdout",
     "output_type": "stream",
     "text": [
      "2\n",
      "<class 'int'>\n"
     ]
    }
   ],
   "source": [
    "# Bool plus bool\n",
    "x = True + True\n",
    "print(x)\n",
    "print(type(x))"
   ]
  },
  {
   "cell_type": "code",
   "execution_count": 12,
   "id": "c29be46a-610a-435a-90c9-0dfc932ea72f",
   "metadata": {},
   "outputs": [
    {
     "name": "stdout",
     "output_type": "stream",
     "text": [
      "6\n",
      "<class 'int'>\n"
     ]
    }
   ],
   "source": [
    "# Int plus bool\n",
    "x = 5 + True\n",
    "print(x)\n",
    "print(type(x))"
   ]
  },
  {
   "cell_type": "markdown",
   "id": "bd26d9e6-816f-487a-b408-fdfa7fbae073",
   "metadata": {},
   "source": [
    "## Comparision\n",
    "\n",
    "Comparisons on numbers (`int` or `float`) always return a `bool`. (Already covered in the previous chapter)"
   ]
  }
 ],
 "metadata": {
  "kernelspec": {
   "display_name": "Python 3 (ipykernel)",
   "language": "python",
   "name": "python3"
  },
  "language_info": {
   "codemirror_mode": {
    "name": "ipython",
    "version": 3
   },
   "file_extension": ".py",
   "mimetype": "text/x-python",
   "name": "python",
   "nbconvert_exporter": "python",
   "pygments_lexer": "ipython3",
   "version": "3.9.7"
  }
 },
 "nbformat": 4,
 "nbformat_minor": 5
}
