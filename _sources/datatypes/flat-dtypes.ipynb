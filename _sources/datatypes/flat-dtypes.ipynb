{
 "cells": [
  {
   "cell_type": "markdown",
   "id": "3636fe94-25e7-4d54-a844-b43ec3e92c6a",
   "metadata": {},
   "source": [
    "# Flat data types"
   ]
  },
  {
   "cell_type": "markdown",
   "id": "b6859bd8-aee0-43f2-ad83-68a64d82f22f",
   "metadata": {},
   "source": [
    "We can informally divide Python built-in data types into two groups: flat types and collection types. Roughly speaking, \n",
    "\n",
    "- A variable of a **flat type** is associated with an object that can contain only *one single element*.\n",
    "\n",
    "- A variable of a **colection type** is associated an object that can contain *potentially multiple elements*."
   ]
  },
  {
   "cell_type": "markdown",
   "id": "a91a8218-0a21-451b-bec2-5c0fd1888a7b",
   "metadata": {},
   "source": [
    "Within the scope of this book\n",
    "\n",
    "1. Flat types include: None type, truth values, integers, and real numbers. I will not cover complex numbers because as a data analyst/data scientist, you rarely use it.\n",
    "\n",
    "1. Collection types include lists, tuples, ranges, strings, dictionaries, and sets.\n",
    "\n",
    "1. Callable types such as function or class can be considered flat types. However, since they are so different from the ones mentioned above, I will not combine them in the \"Datatypes\" sections.\n",
    "\n",
    "Note that this classification of data type into flat and collection is informal rather than standard. Other people might not agree with me."
   ]
  },
  {
   "cell_type": "markdown",
   "id": "547b34af-c9ab-440d-a21f-82f122b1682d",
   "metadata": {},
   "source": [
    "Example 1: flat type examples"
   ]
  },
  {
   "cell_type": "code",
   "execution_count": 3,
   "id": "0a20d55d-5897-4846-b4c0-9d9e7c8a4c2f",
   "metadata": {},
   "outputs": [
    {
     "name": "stdout",
     "output_type": "stream",
     "text": [
      "5\n"
     ]
    }
   ],
   "source": [
    "# Int\n",
    "x = 5\n",
    "print(x)"
   ]
  },
  {
   "cell_type": "code",
   "execution_count": 5,
   "id": "ffcb83c0-7a86-4400-baeb-35af752b6a13",
   "metadata": {},
   "outputs": [
    {
     "name": "stdout",
     "output_type": "stream",
     "text": [
      "10.5\n"
     ]
    }
   ],
   "source": [
    "# Float\n",
    "x = 10.5\n",
    "print(x)"
   ]
  },
  {
   "cell_type": "markdown",
   "id": "3f87d643-dcdf-4d88-a2c1-4bf63d9698f8",
   "metadata": {},
   "source": [
    "Example 2: collection type examples"
   ]
  },
  {
   "cell_type": "code",
   "execution_count": 7,
   "id": "8117fad9-f3d6-4fa5-b996-5d0b04a502e6",
   "metadata": {},
   "outputs": [
    {
     "name": "stdout",
     "output_type": "stream",
     "text": [
      "[1, 2, 3]\n"
     ]
    }
   ],
   "source": [
    "# List\n",
    "x = [1, 2, 3]\n",
    "print(x)"
   ]
  },
  {
   "cell_type": "code",
   "execution_count": 8,
   "id": "3b61c95a-600d-48dc-81bc-c3fb4961c3c5",
   "metadata": {},
   "outputs": [
    {
     "name": "stdout",
     "output_type": "stream",
     "text": [
      "{1, 2, 3}\n"
     ]
    }
   ],
   "source": [
    "# Set\n",
    "x = {1, 2, 3}\n",
    "print(x)"
   ]
  },
  {
   "cell_type": "markdown",
   "id": "1ad98b0a-0d72-47f8-a1c0-ca1877e433e9",
   "metadata": {},
   "source": [
    "The next four chapters, from \"NoneType type\" to \"Real numbers\", belong to the flat types group."
   ]
  }
 ],
 "metadata": {
  "kernelspec": {
   "display_name": "Python 3 (ipykernel)",
   "language": "python",
   "name": "python3"
  },
  "language_info": {
   "codemirror_mode": {
    "name": "ipython",
    "version": 3
   },
   "file_extension": ".py",
   "mimetype": "text/x-python",
   "name": "python",
   "nbconvert_exporter": "python",
   "pygments_lexer": "ipython3",
   "version": "3.9.7"
  }
 },
 "nbformat": 4,
 "nbformat_minor": 5
}
