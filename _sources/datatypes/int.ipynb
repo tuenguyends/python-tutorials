{
 "cells": [
  {
   "cell_type": "markdown",
   "id": "f964cf01-01d7-4944-aeff-483b6d891cd2",
   "metadata": {},
   "source": [
    "# Integers"
   ]
  },
  {
   "cell_type": "markdown",
   "id": "b399b4e3-d9c5-473e-9e91-e27eb9678831",
   "metadata": {},
   "source": [
    "## Overview\n",
    "\n",
    "Python uses `int` to represent integers (or whole numbers) such as `10`, `100`, or `-30`.\n",
    "\n",
    "We can create an `int` variable through an assignment with an integer literal, for example"
   ]
  },
  {
   "cell_type": "code",
   "execution_count": 3,
   "id": "520b1ec7-171a-4b36-ac75-ac18bd1d757f",
   "metadata": {},
   "outputs": [
    {
     "name": "stdout",
     "output_type": "stream",
     "text": [
      "5\n"
     ]
    }
   ],
   "source": [
    "x = 5\n",
    "print(x)"
   ]
  },
  {
   "cell_type": "code",
   "execution_count": 2,
   "id": "5dcc7970-2b9a-4c56-968f-c1dcaa950292",
   "metadata": {},
   "outputs": [
    {
     "data": {
      "text/plain": [
       "int"
      ]
     },
     "execution_count": 2,
     "metadata": {},
     "output_type": "execute_result"
    }
   ],
   "source": [
    "type(x)"
   ]
  },
  {
   "cell_type": "markdown",
   "id": "0a853571-abbb-4a19-a849-5a9c07f8d9a7",
   "metadata": {},
   "source": [
    "We can also create an `int` variable through an assignment with an expression that produces an integer. Here are some examples of expressions producing integers."
   ]
  },
  {
   "cell_type": "code",
   "execution_count": 5,
   "id": "f5925b14-2c60-4e27-b6d7-2bd211c35ac7",
   "metadata": {},
   "outputs": [
    {
     "name": "stdout",
     "output_type": "stream",
     "text": [
      "15\n",
      "<class 'int'>\n"
     ]
    }
   ],
   "source": [
    "# Addition of integers\n",
    "x = 5 + 10\n",
    "print(x)\n",
    "print(type(x))"
   ]
  },
  {
   "cell_type": "code",
   "execution_count": 6,
   "id": "63c24abe-7e20-4eb7-97fc-d2dc8690045c",
   "metadata": {},
   "outputs": [
    {
     "name": "stdout",
     "output_type": "stream",
     "text": [
      "50\n",
      "<class 'int'>\n"
     ]
    }
   ],
   "source": [
    "# Multiplication of integers\n",
    "x = 5 * 10\n",
    "print(x)\n",
    "print(type(x))"
   ]
  },
  {
   "cell_type": "markdown",
   "id": "c7cd2dec-534d-4cc3-85b8-61b554f1676e",
   "metadata": {},
   "source": [
    "Integers in Python can be arbitrarily long (there is no *overflow* behavior as in some other languages)."
   ]
  },
  {
   "cell_type": "code",
   "execution_count": 7,
   "id": "d9b53b2b-7161-49c3-9bea-24c55b596b29",
   "metadata": {},
   "outputs": [
    {
     "name": "stdout",
     "output_type": "stream",
     "text": [
      "3565622255488771132323355767676856586585965999884384\n",
      "<class 'int'>\n"
     ]
    }
   ],
   "source": [
    "# A very long int\n",
    "x = 3565622255488771132323355767676856586585965999884384\n",
    "print(x)\n",
    "print(type(x))"
   ]
  },
  {
   "cell_type": "markdown",
   "id": "56c6590b-7c65-4341-9871-142b194e10d3",
   "metadata": {},
   "source": [
    "## When use `int`?\n",
    "\n",
    "We use `int` for values that should be integers such as age, years, number of children, etc."
   ]
  },
  {
   "cell_type": "markdown",
   "id": "df9f1866-6f4b-4895-bea6-567bca4e8f0d",
   "metadata": {},
   "source": [
    "## Typecasting\n",
    "\n",
    "Similar to what we have learned with `bool`, we use `int()` function to convert values from other types to `int`. However, not all values can be converted to `int` (only integer-like values can)."
   ]
  },
  {
   "cell_type": "markdown",
   "id": "b6593ce0-405a-4ca8-9462-4bcd21dbbcb6",
   "metadata": {},
   "source": [
    "Example 1: values that can be converted to `int`"
   ]
  },
  {
   "cell_type": "markdown",
   "id": "61be5682-aa22-4639-9772-f65fc0066ad9",
   "metadata": {},
   "source": [
    "From `bool`"
   ]
  },
  {
   "cell_type": "code",
   "execution_count": 11,
   "id": "df51ed97-b04b-417b-a9a1-4351f0ea2000",
   "metadata": {},
   "outputs": [
    {
     "data": {
      "text/plain": [
       "1"
      ]
     },
     "execution_count": 11,
     "metadata": {},
     "output_type": "execute_result"
    }
   ],
   "source": [
    "# True becomes 1\n",
    "int(True)"
   ]
  },
  {
   "cell_type": "code",
   "execution_count": 12,
   "id": "d3a70e65-f930-4932-be11-182aff5c8e4c",
   "metadata": {},
   "outputs": [
    {
     "data": {
      "text/plain": [
       "0"
      ]
     },
     "execution_count": 12,
     "metadata": {},
     "output_type": "execute_result"
    }
   ],
   "source": [
    "# False becomes 0\n",
    "int(False)"
   ]
  },
  {
   "cell_type": "markdown",
   "id": "99dcbbf4-b92e-444d-88d7-562b945998db",
   "metadata": {},
   "source": [
    "From `float`"
   ]
  },
  {
   "cell_type": "code",
   "execution_count": 13,
   "id": "59e04694-8867-46a5-a1b9-0f04fd04f766",
   "metadata": {},
   "outputs": [
    {
     "data": {
      "text/plain": [
       "12"
      ]
     },
     "execution_count": 13,
     "metadata": {},
     "output_type": "execute_result"
    }
   ],
   "source": [
    "# Decimal part is truncated\n",
    "int(12.34)"
   ]
  },
  {
   "cell_type": "markdown",
   "id": "fe11f4d4-d734-496d-9fda-af2a00d71236",
   "metadata": {},
   "source": [
    "From `str`"
   ]
  },
  {
   "cell_type": "code",
   "execution_count": 15,
   "id": "378941fd-3067-4847-859f-bc20a49b888b",
   "metadata": {},
   "outputs": [
    {
     "name": "stdout",
     "output_type": "stream",
     "text": [
      "10\n",
      "<class 'int'>\n"
     ]
    }
   ],
   "source": [
    "# Strings that look like an integer\n",
    "x = int(\"10\")\n",
    "print(x)\n",
    "print(type(x))"
   ]
  },
  {
   "cell_type": "code",
   "execution_count": 16,
   "id": "1ba22c49-be41-461f-a5d1-78935faab88a",
   "metadata": {},
   "outputs": [
    {
     "name": "stdout",
     "output_type": "stream",
     "text": [
      "-10\n",
      "<class 'int'>\n"
     ]
    }
   ],
   "source": [
    "# White spaces at two ends are ignored\n",
    "x = int(\"  -10 \")\n",
    "print(x)\n",
    "print(type(x))"
   ]
  },
  {
   "cell_type": "code",
   "execution_count": 17,
   "id": "fa1187f2-15f4-4f53-9af0-0c0cbf25191e",
   "metadata": {},
   "outputs": [
    {
     "name": "stdout",
     "output_type": "stream",
     "text": [
      "-10\n",
      "<class 'int'>\n"
     ]
    }
   ],
   "source": [
    "# Leading zeros are also ignored\n",
    "x = int(\"  -00010 \")\n",
    "print(x)\n",
    "print(type(x))"
   ]
  },
  {
   "cell_type": "markdown",
   "id": "5c1fe72d-32ea-411c-80e8-298437b12c21",
   "metadata": {},
   "source": [
    "However, strings like `\"1,000,000\"` (contains `,`) or `\"12.34\"` are not valid. Try them yourself to see errors."
   ]
  },
  {
   "cell_type": "markdown",
   "id": "1bd49fc6-45e6-4aff-899d-05a84f5ad58a",
   "metadata": {},
   "source": [
    "## Operations on `int`"
   ]
  },
  {
   "cell_type": "markdown",
   "id": "56a1fd0a-0503-4bd4-953e-0376af55523f",
   "metadata": {},
   "source": [
    "### Arithmetic"
   ]
  },
  {
   "cell_type": "markdown",
   "id": "d881274d-0579-449b-9012-66cfc67dce2e",
   "metadata": {},
   "source": [
    "Addition, subtraction, multiplication"
   ]
  },
  {
   "cell_type": "code",
   "execution_count": 19,
   "id": "a4a5d999-79a1-4313-bb39-640a236f6256",
   "metadata": {},
   "outputs": [
    {
     "name": "stdout",
     "output_type": "stream",
     "text": [
      "5\n",
      "-1\n",
      "6\n"
     ]
    }
   ],
   "source": [
    "print(2 + 3)\n",
    "print(2 - 3)\n",
    "print(2 * 3)"
   ]
  },
  {
   "cell_type": "markdown",
   "id": "4c5b540f-70f2-4251-8d50-087f27330b67",
   "metadata": {},
   "source": [
    "Real division (return real numbers, or `float`)"
   ]
  },
  {
   "cell_type": "code",
   "execution_count": 20,
   "id": "ceea4995-11bd-48d5-9262-00b234230ba6",
   "metadata": {},
   "outputs": [
    {
     "data": {
      "text/plain": [
       "0.6666666666666666"
      ]
     },
     "execution_count": 20,
     "metadata": {},
     "output_type": "execute_result"
    }
   ],
   "source": [
    "2 / 3"
   ]
  },
  {
   "cell_type": "code",
   "execution_count": 22,
   "id": "5650ec51-b3a5-4d95-babd-6ab0d4bd102b",
   "metadata": {},
   "outputs": [
    {
     "data": {
      "text/plain": [
       "2.0"
      ]
     },
     "execution_count": 22,
     "metadata": {},
     "output_type": "execute_result"
    }
   ],
   "source": [
    "# Even 4 is divisible by 2\n",
    "# We still get a float back\n",
    "4 / 2"
   ]
  },
  {
   "cell_type": "markdown",
   "id": "05382557-327b-488e-8429-77dad34bbd4f",
   "metadata": {},
   "source": [
    "Integer division (get the quotient)"
   ]
  },
  {
   "cell_type": "code",
   "execution_count": 24,
   "id": "ce24da09-f2a3-4811-9f2c-e1a53941b796",
   "metadata": {},
   "outputs": [
    {
     "data": {
      "text/plain": [
       "0"
      ]
     },
     "execution_count": 24,
     "metadata": {},
     "output_type": "execute_result"
    }
   ],
   "source": [
    "2 // 3"
   ]
  },
  {
   "cell_type": "markdown",
   "id": "1c930c1b-2d5f-47cb-9ab6-f8de9b6d0d3c",
   "metadata": {},
   "source": [
    "Modulus (get the remainder)"
   ]
  },
  {
   "cell_type": "code",
   "execution_count": 25,
   "id": "dc63fa71-fd85-4750-ab29-8dae6d8cfc03",
   "metadata": {},
   "outputs": [
    {
     "data": {
      "text/plain": [
       "2"
      ]
     },
     "execution_count": 25,
     "metadata": {},
     "output_type": "execute_result"
    }
   ],
   "source": [
    "2 % 3"
   ]
  },
  {
   "cell_type": "markdown",
   "id": "05f3df6b-67f4-4f16-97e7-8fdd719ddd3e",
   "metadata": {},
   "source": [
    "Exponential"
   ]
  },
  {
   "cell_type": "code",
   "execution_count": 26,
   "id": "795bb042-a5d8-438e-be6d-cd85acae45f2",
   "metadata": {},
   "outputs": [
    {
     "data": {
      "text/plain": [
       "8"
      ]
     },
     "execution_count": 26,
     "metadata": {},
     "output_type": "execute_result"
    }
   ],
   "source": [
    "2**3"
   ]
  },
  {
   "cell_type": "markdown",
   "id": "94fea3f9-00f9-43bd-af1f-4bb76dd18383",
   "metadata": {},
   "source": [
    "Negation"
   ]
  },
  {
   "cell_type": "code",
   "execution_count": 27,
   "id": "576862fe-1412-466b-863c-67fa8ab4d879",
   "metadata": {},
   "outputs": [
    {
     "data": {
      "text/plain": [
       "-10"
      ]
     },
     "execution_count": 27,
     "metadata": {},
     "output_type": "execute_result"
    }
   ],
   "source": [
    "-10"
   ]
  },
  {
   "cell_type": "code",
   "execution_count": 28,
   "id": "ff43a583-182f-4477-b083-63cadc46da81",
   "metadata": {},
   "outputs": [
    {
     "name": "stdout",
     "output_type": "stream",
     "text": [
      "-10\n"
     ]
    }
   ],
   "source": [
    "x = 10\n",
    "print(-x)"
   ]
  },
  {
   "cell_type": "markdown",
   "id": "3e673e63-f21f-4482-8288-c934d3ac248d",
   "metadata": {},
   "source": [
    "Note that a `bool` is actually an integer under the hood with `True` and `False` equivalent to `1` and `0`. \n",
    "\n",
    "Let's confirm this."
   ]
  },
  {
   "cell_type": "code",
   "execution_count": 30,
   "id": "13a95d5d-21d5-46c3-9ca7-c98182adb878",
   "metadata": {},
   "outputs": [
    {
     "name": "stdout",
     "output_type": "stream",
     "text": [
      "True\n",
      "True\n"
     ]
    }
   ],
   "source": [
    "# Same value\n",
    "print(True == 1)\n",
    "print(False == 0)"
   ]
  },
  {
   "cell_type": "code",
   "execution_count": 32,
   "id": "e03bcf03-7361-4a4f-8f9b-ceb6743cd43a",
   "metadata": {},
   "outputs": [
    {
     "name": "stdout",
     "output_type": "stream",
     "text": [
      "True\n",
      "True\n"
     ]
    }
   ],
   "source": [
    "# Use isinstance\n",
    "print(isinstance(True, int))\n",
    "print(isinstance(False, int))"
   ]
  },
  {
   "cell_type": "markdown",
   "id": "bf9f0b51-b788-4b34-9e34-1c361603c6be",
   "metadata": {},
   "source": [
    "Thus, we can perform arithmetic on `bool` and `int`, and the result is *promoted* to type `int` (more general)"
   ]
  },
  {
   "cell_type": "code",
   "execution_count": 34,
   "id": "4020e980-4259-4f1a-bddb-daa29b0719ce",
   "metadata": {},
   "outputs": [
    {
     "name": "stdout",
     "output_type": "stream",
     "text": [
      "2\n",
      "<class 'int'>\n"
     ]
    }
   ],
   "source": [
    "# Bool plus bool\n",
    "x = True + True\n",
    "print(x)\n",
    "print(type(x))"
   ]
  },
  {
   "cell_type": "code",
   "execution_count": 35,
   "id": "c29be46a-610a-435a-90c9-0dfc932ea72f",
   "metadata": {},
   "outputs": [
    {
     "name": "stdout",
     "output_type": "stream",
     "text": [
      "6\n",
      "<class 'int'>\n"
     ]
    }
   ],
   "source": [
    "# Int plus bool\n",
    "x = 5 + True\n",
    "print(x)\n",
    "print(type(x))"
   ]
  },
  {
   "cell_type": "markdown",
   "id": "bd26d9e6-816f-487a-b408-fdfa7fbae073",
   "metadata": {},
   "source": [
    "### Comparision\n",
    "\n",
    "Comparisons on numbers (`int` or `float`) always return a `bool`. (Already covered in the previous chapter)"
   ]
  },
  {
   "cell_type": "markdown",
   "id": "ab57feca-eb6d-4d99-aab8-f7df58799537",
   "metadata": {},
   "source": [
    "## Practice"
   ]
  },
  {
   "cell_type": "markdown",
   "id": "bf5c7cba-caea-49a6-af17-cce42f9f4af1",
   "metadata": {
    "jp-MarkdownHeadingCollapsed": true,
    "tags": []
   },
   "source": [
    "### Ex 1\n",
    "\n",
    "Do the following\n",
    "\n",
    "- Create a variable `x` with value `100`\n",
    "- Show its value and type\n",
    "\n",
    "\n",
    "### Ex 2\n",
    "\n",
    "Do the following\n",
    "\n",
    "- Create a variable `x` with value `10.5`\n",
    "- Show the value and type of `x`\n",
    "- Create a variable `y` by applying `int()` on `x`\n",
    "- Show the value and type of `y`\n",
    "\n",
    "### Ex 3\n",
    "\n",
    "Gives three examples that produce an integer"
   ]
  }
 ],
 "metadata": {
  "kernelspec": {
   "display_name": "Python 3 (ipykernel)",
   "language": "python",
   "name": "python3"
  },
  "language_info": {
   "codemirror_mode": {
    "name": "ipython",
    "version": 3
   },
   "file_extension": ".py",
   "mimetype": "text/x-python",
   "name": "python",
   "nbconvert_exporter": "python",
   "pygments_lexer": "ipython3",
   "version": "3.9.7"
  }
 },
 "nbformat": 4,
 "nbformat_minor": 5
}
