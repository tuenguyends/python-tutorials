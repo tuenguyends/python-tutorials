{
 "cells": [
  {
   "cell_type": "markdown",
   "id": "34cb81bf-4d2f-4933-817c-93779f173f3d",
   "metadata": {
    "tags": []
   },
   "source": [
    "# Real numbers"
   ]
  },
  {
   "cell_type": "markdown",
   "id": "182573a8-e0ba-4794-8e6c-d37e43ec8ff7",
   "metadata": {},
   "source": [
    "### 5.1. Tổng quan\n",
    "- Biểu diễn số thực.\n",
    "- Được hình thành từ phép gán với số thực hoặc biểu thức mà kết quả trả về là số thực.\n",
    "- Ép kiểu về int dùng hàm `float()`"
   ]
  },
  {
   "cell_type": "markdown",
   "id": "89807122-af55-444c-8349-4386f2a3ab51",
   "metadata": {},
   "source": [
    "### 5.2. Ví dụ thực hành"
   ]
  },
  {
   "cell_type": "markdown",
   "id": "bc77d648-1d56-4eca-aca3-fd5b30e42c8a",
   "metadata": {},
   "source": [
    "#### BÀI TẬP TỔNG QUÁT"
   ]
  },
  {
   "cell_type": "markdown",
   "id": "134a96b4-8257-4276-afac-2fbf631ebdef",
   "metadata": {},
   "source": [
    "Tạo biến thực `x` giá trị `100`. In ra giá trị và kiểu:"
   ]
  },
  {
   "cell_type": "code",
   "execution_count": 76,
   "id": "77757ae3-073c-4e20-95d3-7f12e54b5e1b",
   "metadata": {},
   "outputs": [],
   "source": [
    "x = 100."
   ]
  },
  {
   "cell_type": "code",
   "execution_count": 77,
   "id": "7519b7ee-649e-4e32-86ed-37fadb9f18bb",
   "metadata": {},
   "outputs": [
    {
     "data": {
      "text/plain": [
       "100.0"
      ]
     },
     "execution_count": 77,
     "metadata": {},
     "output_type": "execute_result"
    }
   ],
   "source": [
    "x"
   ]
  },
  {
   "cell_type": "code",
   "execution_count": 78,
   "id": "13184b5f-8ff3-4df1-9f05-e2d2d925de1a",
   "metadata": {},
   "outputs": [
    {
     "data": {
      "text/plain": [
       "float"
      ]
     },
     "execution_count": 78,
     "metadata": {},
     "output_type": "execute_result"
    }
   ],
   "source": [
    "type(x)"
   ]
  },
  {
   "cell_type": "markdown",
   "id": "4ef987af-054d-47ce-96df-dde84315cfb8",
   "metadata": {},
   "source": [
    "Tạo biến `x` là kết quả của phép chia thực `100` cho `5`. In ra giá trị, kiểu:"
   ]
  },
  {
   "cell_type": "code",
   "execution_count": 80,
   "id": "e902ef24-eb36-46e1-9243-7bf6d67390f3",
   "metadata": {},
   "outputs": [],
   "source": [
    "x = 100 / 5"
   ]
  },
  {
   "cell_type": "code",
   "execution_count": 81,
   "id": "03c488e6-94e2-4187-9940-6dee95767f57",
   "metadata": {},
   "outputs": [
    {
     "data": {
      "text/plain": [
       "20.0"
      ]
     },
     "execution_count": 81,
     "metadata": {},
     "output_type": "execute_result"
    }
   ],
   "source": [
    "x"
   ]
  },
  {
   "cell_type": "code",
   "execution_count": 82,
   "id": "8b6cb83c-0332-4585-9f5e-5505e6e7663b",
   "metadata": {},
   "outputs": [
    {
     "data": {
      "text/plain": [
       "float"
      ]
     },
     "execution_count": 82,
     "metadata": {},
     "output_type": "execute_result"
    }
   ],
   "source": [
    "type(x)"
   ]
  },
  {
   "cell_type": "markdown",
   "id": "9e79bed7-b0f1-4e6b-b124-725c960d4327",
   "metadata": {},
   "source": [
    "Dùng scientific notations (`e5` hoặc `E5` ứng với `10 ** 5`).  \n",
    "Tes thử với\n",
    "```python\n",
    "x = 35e3\n",
    "y = 12E4\n",
    "z = -87.7e100\n",
    "```"
   ]
  },
  {
   "cell_type": "code",
   "execution_count": null,
   "id": "7d312d42-3e16-4b35-aa4d-ce7787cee67f",
   "metadata": {},
   "outputs": [],
   "source": []
  },
  {
   "cell_type": "markdown",
   "id": "7079e3df-026e-4311-88f3-729f71d3e148",
   "metadata": {},
   "source": [
    "#### BÀI TẬP ÉP KIỂU"
   ]
  },
  {
   "cell_type": "markdown",
   "id": "51201b63-9d0e-46b1-8533-d705e1954cda",
   "metadata": {},
   "source": [
    "Ép từ kiểu `bool`: `True` ứng với `1.0`, `False` ứng với `0.0`"
   ]
  },
  {
   "cell_type": "code",
   "execution_count": 93,
   "id": "9dc6c149-71c9-443e-a9f1-9f3801854424",
   "metadata": {},
   "outputs": [
    {
     "data": {
      "text/plain": [
       "0.0"
      ]
     },
     "execution_count": 93,
     "metadata": {},
     "output_type": "execute_result"
    }
   ],
   "source": [
    "float(False)"
   ]
  },
  {
   "cell_type": "code",
   "execution_count": 95,
   "id": "2c963911-e80b-4af0-85c3-6550cd23d665",
   "metadata": {},
   "outputs": [
    {
     "data": {
      "text/plain": [
       "5.0"
      ]
     },
     "execution_count": 95,
     "metadata": {},
     "output_type": "execute_result"
    }
   ],
   "source": [
    "float(5)"
   ]
  },
  {
   "cell_type": "markdown",
   "id": "0a97afc5-6e58-4d4a-8bfc-4c6de0e8e6ac",
   "metadata": {},
   "source": [
    "Ép từ string, khoảng trắng sẽ được trimmed\n",
    "\n",
    "```python\n",
    "print(float(\"10.0\"))\n",
    "print(float(\" 10.\"))\n",
    "print(float(\"10.   \"))\n",
    "print(float(\"-10.   \"))\n",
    "```"
   ]
  },
  {
   "cell_type": "markdown",
   "id": "4376b415-890a-4526-9af4-8ad6f07620bb",
   "metadata": {},
   "source": [
    "Lưu ý, nếu string không phải dạng biểu diễn của 1 số `float` sẽ báo lỗi. VD: `\"12,000\"`"
   ]
  },
  {
   "cell_type": "markdown",
   "id": "7faac2f7-d9bc-4329-88a7-1d0b38b1fae1",
   "metadata": {},
   "source": [
    "### 5.4. Các phép toán trên kiểu `float`\n",
    "- Tương tự kiểu `int`\n",
    "    - Số học: `+, -, *, /, **`. Không có `//` và `%`.\n",
    "    - So sánh: `>, <, ==, !=`, ...\n",
    "\n",
    "- Lưu ý: tránh dùng số `//` và `%` cho số `float`."
   ]
  },
  {
   "cell_type": "markdown",
   "id": "c7645f01-a4d1-459c-bbb2-b8a8cd5331ab",
   "metadata": {},
   "source": [
    "## 6.  Math utilities"
   ]
  },
  {
   "cell_type": "code",
   "execution_count": 101,
   "id": "394f6d87-f6cc-414a-a67c-0c4b067177ca",
   "metadata": {},
   "outputs": [],
   "source": [
    "# Import package math\n",
    "import math"
   ]
  },
  {
   "cell_type": "code",
   "execution_count": 102,
   "id": "8fec92c6-fbeb-49d5-aea3-b24779c82dbd",
   "metadata": {},
   "outputs": [],
   "source": [
    "# Khởi tạo một biến x giá trị 25, biến y giá trị -4\n",
    "x = 25\n",
    "y = -4"
   ]
  },
  {
   "cell_type": "code",
   "execution_count": 104,
   "id": "231f3df1-b455-4c35-b023-91e0621bce7f",
   "metadata": {},
   "outputs": [
    {
     "data": {
      "text/plain": [
       "4"
      ]
     },
     "execution_count": 104,
     "metadata": {},
     "output_type": "execute_result"
    }
   ],
   "source": [
    "# Lấy giá trị tuyệt đối\n",
    "abs(y) # Absolute value"
   ]
  },
  {
   "cell_type": "code",
   "execution_count": 113,
   "id": "48b83659-3460-4d5f-916e-d06d4f7fe6b7",
   "metadata": {},
   "outputs": [
    {
     "data": {
      "text/plain": [
       "3.3333"
      ]
     },
     "execution_count": 113,
     "metadata": {},
     "output_type": "execute_result"
    }
   ],
   "source": [
    "# Round kết quả để có 3 chữ số thập phân\n",
    "# 10 / 3\n",
    "round(10 / 3, 4)"
   ]
  },
  {
   "cell_type": "code",
   "execution_count": 124,
   "id": "447b6480-5cdf-46dd-ac92-20c1d166b831",
   "metadata": {},
   "outputs": [
    {
     "data": {
      "text/plain": [
       "-5"
      ]
     },
     "execution_count": 124,
     "metadata": {},
     "output_type": "execute_result"
    }
   ],
   "source": [
    "math.ceil(-5.1)"
   ]
  },
  {
   "cell_type": "code",
   "execution_count": null,
   "id": "68a884c2-0e5b-4534-8406-852222508920",
   "metadata": {},
   "outputs": [],
   "source": [
    "round()\n",
    "int()\n",
    "math.ceil()\n",
    "math.floor()"
   ]
  },
  {
   "cell_type": "code",
   "execution_count": null,
   "id": "fb413941-0591-4364-a50c-562f1a83dba4",
   "metadata": {},
   "outputs": [],
   "source": [
    "# Round up kết quả lên số nguyên gần nhất (ceiling)\n",
    "# 10 / 3 vs. -10 / 3\n"
   ]
  },
  {
   "cell_type": "code",
   "execution_count": 126,
   "id": "480159a4-3b4b-4dfd-a6b7-38e4672b2137",
   "metadata": {},
   "outputs": [
    {
     "data": {
      "text/plain": [
       "-6"
      ]
     },
     "execution_count": 126,
     "metadata": {},
     "output_type": "execute_result"
    }
   ],
   "source": [
    "# Roudn down kết quả xuống số nguyên gần nhất\n",
    "# 10 / 3 vs. -10 / 3\n",
    "math.floor(-5.1)"
   ]
  },
  {
   "cell_type": "code",
   "execution_count": 128,
   "id": "558385cb-0373-43e4-9842-f615e85203af",
   "metadata": {},
   "outputs": [
    {
     "data": {
      "text/plain": [
       "2.0"
      ]
     },
     "execution_count": 128,
     "metadata": {},
     "output_type": "execute_result"
    }
   ],
   "source": [
    "# Lấy căn bậc 2 (sqrt)\n",
    "math.sqrt(4) # Square root"
   ]
  },
  {
   "cell_type": "code",
   "execution_count": 132,
   "id": "7384cf03-fe0e-4dd1-ae99-38aacade6473",
   "metadata": {},
   "outputs": [
    {
     "data": {
      "text/plain": [
       "5.0"
      ]
     },
     "execution_count": 132,
     "metadata": {},
     "output_type": "execute_result"
    }
   ],
   "source": [
    "125 ** (1/3)"
   ]
  },
  {
   "cell_type": "code",
   "execution_count": 134,
   "id": "4811616a-01a8-401c-8d09-aa6788e0d678",
   "metadata": {},
   "outputs": [
    {
     "name": "stdout",
     "output_type": "stream",
     "text": [
      "314.1592653589793\n"
     ]
    }
   ],
   "source": [
    "# Tính diện tích hình tròn bán kính là x\n",
    "x = 10\n",
    "area = math.pi * (x ** 2)\n",
    "print(area)"
   ]
  },
  {
   "cell_type": "code",
   "execution_count": 8,
   "id": "050f983e-e379-428b-bd8c-94a813adb22e",
   "metadata": {},
   "outputs": [
    {
     "data": {
      "text/plain": [
       "3.141592653589793"
      ]
     },
     "execution_count": 8,
     "metadata": {},
     "output_type": "execute_result"
    }
   ],
   "source": [
    "import math\n",
    "math.pi"
   ]
  },
  {
   "cell_type": "code",
   "execution_count": 135,
   "id": "9ada15d7-9305-4cf9-977d-717b4f7aa8d4",
   "metadata": {},
   "outputs": [
    {
     "data": {
      "text/plain": [
       "3.141592653589793"
      ]
     },
     "execution_count": 135,
     "metadata": {},
     "output_type": "execute_result"
    }
   ],
   "source": [
    "math.pi"
   ]
  },
  {
   "cell_type": "code",
   "execution_count": 136,
   "id": "9f9c2456-cc02-4186-bc3b-24007dd9e602",
   "metadata": {},
   "outputs": [
    {
     "data": {
      "text/plain": [
       "5.0"
      ]
     },
     "execution_count": 136,
     "metadata": {},
     "output_type": "execute_result"
    }
   ],
   "source": [
    "math.sqrt(25)"
   ]
  },
  {
   "cell_type": "code",
   "execution_count": 137,
   "id": "e4ce9b32-c309-45ec-b567-f7b30235f38a",
   "metadata": {},
   "outputs": [
    {
     "data": {
      "text/plain": [
       "3.141592653589793"
      ]
     },
     "execution_count": 137,
     "metadata": {},
     "output_type": "execute_result"
    }
   ],
   "source": [
    "math.pi # Attribute"
   ]
  },
  {
   "cell_type": "code",
   "execution_count": 139,
   "id": "9d14f67b-6e30-4923-9c34-852cf92bdd7b",
   "metadata": {
    "scrolled": true
   },
   "outputs": [
    {
     "data": {
      "text/plain": [
       "1.0"
      ]
     },
     "execution_count": 139,
     "metadata": {},
     "output_type": "execute_result"
    }
   ],
   "source": [
    "# Các hàm lượng giác (trig)\n",
    "math.sin(math.pi / 2)"
   ]
  },
  {
   "cell_type": "code",
   "execution_count": 140,
   "id": "b01a3c6f-0d0e-43ef-8901-ca873a584bf5",
   "metadata": {},
   "outputs": [
    {
     "data": {
      "text/plain": [
       "6.123233995736766e-17"
      ]
     },
     "execution_count": 140,
     "metadata": {},
     "output_type": "execute_result"
    }
   ],
   "source": [
    "math.cos(math.pi / 2)"
   ]
  },
  {
   "cell_type": "code",
   "execution_count": 141,
   "id": "81c068ba-944d-48b9-8d5c-9b4ab9853bee",
   "metadata": {},
   "outputs": [
    {
     "data": {
      "text/plain": [
       "314.1593"
      ]
     },
     "execution_count": 141,
     "metadata": {},
     "output_type": "execute_result"
    }
   ],
   "source": [
    "round(math.pi * 10 ** 2, 4)"
   ]
  },
  {
   "cell_type": "code",
   "execution_count": null,
   "id": "0c3d1ab5-509a-4143-b98e-6bd703e23691",
   "metadata": {},
   "outputs": [],
   "source": [
    "round(1)"
   ]
  }
 ],
 "metadata": {
  "kernelspec": {
   "display_name": "Python 3 (ipykernel)",
   "language": "python",
   "name": "python3"
  },
  "language_info": {
   "codemirror_mode": {
    "name": "ipython",
    "version": 3
   },
   "file_extension": ".py",
   "mimetype": "text/x-python",
   "name": "python",
   "nbconvert_exporter": "python",
   "pygments_lexer": "ipython3",
   "version": "3.9.7"
  }
 },
 "nbformat": 4,
 "nbformat_minor": 5
}
