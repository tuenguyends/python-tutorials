{
 "cells": [
  {
   "cell_type": "markdown",
   "id": "c76cc6df-f201-45cc-bfc4-70e10a440b6e",
   "metadata": {},
   "source": [
    "# Collection types"
   ]
  },
  {
   "cell_type": "markdown",
   "id": "4a8834a1-c1ec-4870-bf35-40684a981f42",
   "metadata": {},
   "source": [
    "TBU"
   ]
  },
  {
   "cell_type": "code",
   "execution_count": null,
   "id": "3827c964-cca9-4d86-8321-a5fee39eace7",
   "metadata": {},
   "outputs": [],
   "source": []
  }
 ],
 "metadata": {
  "kernelspec": {
   "display_name": "Python 3 (ipykernel)",
   "language": "python",
   "name": "python3"
  },
  "language_info": {
   "codemirror_mode": {
    "name": "ipython",
    "version": 3
   },
   "file_extension": ".py",
   "mimetype": "text/x-python",
   "name": "python",
   "nbconvert_exporter": "python",
   "pygments_lexer": "ipython3",
   "version": "3.9.7"
  }
 },
 "nbformat": 4,
 "nbformat_minor": 5
}
