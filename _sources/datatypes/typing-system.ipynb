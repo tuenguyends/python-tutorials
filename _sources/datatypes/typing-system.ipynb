{
 "cells": [
  {
   "cell_type": "markdown",
   "metadata": {},
   "source": [
    "# Python typing system"
   ]
  },
  {
   "cell_type": "markdown",
   "metadata": {},
   "source": [
    "## Overview\n",
    "\n",
    "We can categorize data into two major types: built-in and user-defined.\n",
    "\n",
    "1. Built-in types are is part of the language and are readily available when we installed Python\n",
    "\n",
    "1. User-defined types are built by programmers (based on the built-in types) to suit their needs for more complex applications.\n",
    "\n",
    "This book focuses mostly on the built-in types and some user-defined types developed by professional programmers. You won't learn to build your own user-defined types in this book. In fact, you rarely create user-defined types when working as a data analyst/scientist even at intermediate levels."
   ]
  },
  {
   "cell_type": "markdown",
   "metadata": {},
   "source": [
    "## Typing hierarchy\n",
    "\n",
    "The following picture illustrates a bird-eye view of Python's typing hierarchy. Note that the diagram is not complete. I only show common types that, based on my experience, are relevant and important.\n",
    "\n",
    "<img src=\"../_static/img/type-system.png\" width=\"400\">"
   ]
  },
  {
   "cell_type": "markdown",
   "metadata": {},
   "source": [
    "**None types** are used to represent the state of being undefined/unknown (both in datatype and in value). \n",
    "\n",
    "- Being undefined is not the same as being empty. A variable of `list` type can be an empty list, but it still has a type.\n",
    "- Python implementation: `NoneType`.\n",
    "\n",
    "**Numbers** are used to represent numeric values.\n",
    "\n",
    "- Python implementation: `int` (integers), `float` (real numbers), `complex` (complex numbers), `bool` (truth values).\n",
    "- Note that, in Python `bool` type is a sub-type of `int`. As you will see, `True` and `False` of `bool` is actually `1` and `0` of `int`.\n",
    "\n",
    "\n",
    "**Sequences** are used to represent an ordered collection of elements under the same name.\n",
    "\n",
    "- Python implementation: `list`, `tuple`, `range`, `str`\n",
    "- The order of the elements of the sequence matters.\n",
    "- We access an element of a sequence using the sequence name and the element's position (or index).\n",
    "\n",
    "\n",
    "**Mappings** are used to represent a collection of `key-value` pairs.\n",
    "\n",
    "- Python implementation: `dict` (dictionaries)\n",
    "- Example `student = {\"name\": \"Rob\", \"age\": 20}`\n",
    "- There is no instrinsic order in a mapping.\n",
    "- We access an element of a dictionary using the correspondiong  `key`.\n",
    "\n",
    "\n",
    "**Sets** are used to represent a set (as in mathematics)\n",
    "\n",
    "- Python implementation: `set`, `frozenset`.\n",
    "- Elements of sets are unique and are not ordered.\n",
    "- There is no way to access an element of a set. We can only check if a value is in a set or not.\n",
    "\n",
    "**Callable** types are *callable* (you call/invoke a function or a method to do something)\n",
    "\n",
    "- Python implementation: `builtin_function_or_method` (functions or methods), `type` (classes)\n",
    "\n",
    "\n",
    "> Note that there are other types that are not included in this chapter (and in this book). The main purpose is to provide the fundamentals, not to overwhelm you with types that you will never use."
   ]
  },
  {
   "cell_type": "markdown",
   "metadata": {},
   "source": [
    "## How to check type"
   ]
  },
  {
   "cell_type": "markdown",
   "metadata": {},
   "source": [
    "You can use `type()` function to check the type of a literal, expression, or variable."
   ]
  },
  {
   "cell_type": "markdown",
   "metadata": {},
   "source": [
    "**Example 1: check types of literals**"
   ]
  },
  {
   "cell_type": "code",
   "execution_count": 24,
   "metadata": {},
   "outputs": [
    {
     "data": {
      "text/plain": [
       "NoneType"
      ]
     },
     "execution_count": 24,
     "metadata": {},
     "output_type": "execute_result"
    }
   ],
   "source": [
    "# None literal\n",
    "type(None)"
   ]
  },
  {
   "cell_type": "code",
   "execution_count": 20,
   "metadata": {},
   "outputs": [
    {
     "data": {
      "text/plain": [
       "bool"
      ]
     },
     "execution_count": 20,
     "metadata": {},
     "output_type": "execute_result"
    }
   ],
   "source": [
    "# Bool literal\n",
    "type(True)"
   ]
  },
  {
   "cell_type": "code",
   "execution_count": 16,
   "metadata": {},
   "outputs": [
    {
     "data": {
      "text/plain": [
       "int"
      ]
     },
     "execution_count": 16,
     "metadata": {},
     "output_type": "execute_result"
    }
   ],
   "source": [
    "# Integer literal\n",
    "type(4)"
   ]
  },
  {
   "cell_type": "code",
   "execution_count": 18,
   "metadata": {},
   "outputs": [
    {
     "data": {
      "text/plain": [
       "float"
      ]
     },
     "execution_count": 18,
     "metadata": {},
     "output_type": "execute_result"
    }
   ],
   "source": [
    "# Real literal\n",
    "type(1.23)"
   ]
  },
  {
   "cell_type": "code",
   "execution_count": 22,
   "metadata": {},
   "outputs": [
    {
     "data": {
      "text/plain": [
       "complex"
      ]
     },
     "execution_count": 22,
     "metadata": {},
     "output_type": "execute_result"
    }
   ],
   "source": [
    "# Complex literal\n",
    "type(1 + 3j)"
   ]
  },
  {
   "cell_type": "code",
   "execution_count": 29,
   "metadata": {},
   "outputs": [
    {
     "data": {
      "text/plain": [
       "str"
      ]
     },
     "execution_count": 29,
     "metadata": {},
     "output_type": "execute_result"
    }
   ],
   "source": [
    "# String literal\n",
    "type(\"Hello\")"
   ]
  },
  {
   "cell_type": "code",
   "execution_count": 25,
   "metadata": {},
   "outputs": [
    {
     "data": {
      "text/plain": [
       "list"
      ]
     },
     "execution_count": 25,
     "metadata": {},
     "output_type": "execute_result"
    }
   ],
   "source": [
    "# List literal\n",
    "type([1, 2, 3])"
   ]
  },
  {
   "cell_type": "code",
   "execution_count": 26,
   "metadata": {},
   "outputs": [
    {
     "data": {
      "text/plain": [
       "tuple"
      ]
     },
     "execution_count": 26,
     "metadata": {},
     "output_type": "execute_result"
    }
   ],
   "source": [
    "# Tuple literal\n",
    "type((1, 2, 3))"
   ]
  },
  {
   "cell_type": "code",
   "execution_count": 27,
   "metadata": {},
   "outputs": [
    {
     "data": {
      "text/plain": [
       "set"
      ]
     },
     "execution_count": 27,
     "metadata": {},
     "output_type": "execute_result"
    }
   ],
   "source": [
    "# Set literal\n",
    "type({1, 2, 3})"
   ]
  },
  {
   "cell_type": "code",
   "execution_count": 28,
   "metadata": {},
   "outputs": [
    {
     "data": {
      "text/plain": [
       "dict"
      ]
     },
     "execution_count": 28,
     "metadata": {},
     "output_type": "execute_result"
    }
   ],
   "source": [
    "# Dictionary literal\n",
    "type({\"name\": \"Bob\", \"age\": 20})"
   ]
  },
  {
   "cell_type": "markdown",
   "metadata": {},
   "source": [
    "**Example 2: check types of variables**\n",
    "\n",
    "Almost the same as in the previous examples. This time, you use the variable names instead."
   ]
  },
  {
   "cell_type": "code",
   "execution_count": 30,
   "metadata": {},
   "outputs": [
    {
     "data": {
      "text/plain": [
       "int"
      ]
     },
     "execution_count": 30,
     "metadata": {},
     "output_type": "execute_result"
    }
   ],
   "source": [
    "# Integer variable\n",
    "x = 5\n",
    "type(x)"
   ]
  },
  {
   "cell_type": "code",
   "execution_count": 31,
   "metadata": {},
   "outputs": [
    {
     "data": {
      "text/plain": [
       "str"
      ]
     },
     "execution_count": 31,
     "metadata": {},
     "output_type": "execute_result"
    }
   ],
   "source": [
    "# String variable\n",
    "x = \"Hello. How are you?\"\n",
    "type(x)"
   ]
  },
  {
   "cell_type": "code",
   "execution_count": 32,
   "metadata": {},
   "outputs": [
    {
     "data": {
      "text/plain": [
       "list"
      ]
     },
     "execution_count": 32,
     "metadata": {},
     "output_type": "execute_result"
    }
   ],
   "source": [
    "# List variable\n",
    "scores = [\"A\", \"B\", \"C\"]\n",
    "type(scores)"
   ]
  },
  {
   "cell_type": "markdown",
   "metadata": {},
   "source": [
    "**Example 3: check types of expressions**\n",
    "\n",
    "When you check the type of an expression, Python will evaluate the expression and return the type of the result."
   ]
  },
  {
   "cell_type": "code",
   "execution_count": 33,
   "metadata": {},
   "outputs": [
    {
     "data": {
      "text/plain": [
       "int"
      ]
     },
     "execution_count": 33,
     "metadata": {},
     "output_type": "execute_result"
    }
   ],
   "source": [
    "# Int expression\n",
    "type(2 + 3)"
   ]
  },
  {
   "cell_type": "code",
   "execution_count": 36,
   "metadata": {},
   "outputs": [
    {
     "data": {
      "text/plain": [
       "float"
      ]
     },
     "execution_count": 36,
     "metadata": {},
     "output_type": "execute_result"
    }
   ],
   "source": [
    "# Float expression\n",
    "type(2.5 + 1.2)"
   ]
  },
  {
   "cell_type": "code",
   "execution_count": 37,
   "metadata": {},
   "outputs": [
    {
     "data": {
      "text/plain": [
       "str"
      ]
     },
     "execution_count": 37,
     "metadata": {},
     "output_type": "execute_result"
    }
   ],
   "source": [
    "type(\"Hello.\" + \" How are you\")"
   ]
  }
 ],
 "metadata": {
  "kernelspec": {
   "display_name": "Python 3 (ipykernel)",
   "language": "python",
   "name": "python3"
  },
  "language_info": {
   "codemirror_mode": {
    "name": "ipython",
    "version": 3
   },
   "file_extension": ".py",
   "mimetype": "text/x-python",
   "name": "python",
   "nbconvert_exporter": "python",
   "pygments_lexer": "ipython3",
   "version": "3.9.7"
  }
 },
 "nbformat": 4,
 "nbformat_minor": 4
}
