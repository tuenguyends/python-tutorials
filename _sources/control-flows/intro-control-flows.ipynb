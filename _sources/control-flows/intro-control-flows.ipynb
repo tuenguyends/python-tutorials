{
 "cells": [
  {
   "cell_type": "markdown",
   "id": "94ef7bd7-6a5e-4105-8352-9add9a6d473c",
   "metadata": {},
   "source": [
    "# Introduction to control flows\n",
    "\n",
    "Author: Tue Nguyen"
   ]
  },
  {
   "cell_type": "markdown",
   "id": "7921d444-37ec-46fb-b12c-09e17c711216",
   "metadata": {},
   "source": [
    "## Outline\n",
    "\n",
    "- What is a control flow?\n",
    "- Types of control flows in Python\n",
    "- Sequential flows\n",
    "- Branching flows\n",
    "- Looping flows"
   ]
  },
  {
   "cell_type": "markdown",
   "id": "99c77500-4d7f-4471-af2b-3e2a30f4a800",
   "metadata": {},
   "source": [
    "## What is a control flow\n",
    "- In programming, a control flow is the order in which the program's code executes\n",
    "- In Python, there are 3 types of control flows\n",
    "    - **Sequential:** execute linearly (top-down)\n",
    "    - **Branching:** check a condition and decide which action (branch) to execute\n",
    "    - **Looping:** repeat a block of code until some condition is met\n",
    "- We will learn each type of control flows in detail in the next lectures"
   ]
  },
  {
   "cell_type": "markdown",
   "id": "4303cb62-e2c1-47ea-8cb8-3462f61063ef",
   "metadata": {},
   "source": [
    "## Sequential flows\n",
    "- This is the default mode when you write Python code\n",
    "- The statements that are written first will be executed first"
   ]
  },
  {
   "cell_type": "code",
   "execution_count": 2,
   "id": "4296fe8f-173e-4a0b-9b8c-99a321e8aa05",
   "metadata": {},
   "outputs": [
    {
     "name": "stdout",
     "output_type": "stream",
     "text": [
      "This will run first\n",
      "This will run second\n"
     ]
    }
   ],
   "source": [
    "# Statements will be run in the order they are written\n",
    "print(\"This will run first\")\n",
    "print(\"This will run second\")"
   ]
  },
  {
   "cell_type": "markdown",
   "id": "38288107-ad88-4b6c-94a3-b1353a48dd2c",
   "metadata": {},
   "source": [
    "## Branching flows\n",
    "- A branching statement involves checking some condition and based on the checking result, Python will choose appropriate action (branch) to proceed\n",
    "- Branching in Python is implemented using the `if` statement which you are already familiar with\n",
    "- Python `3.10+` introduces another way to implement branching through the `match` statement\n",
    "- Let's consider some simple examples"
   ]
  },
  {
   "cell_type": "markdown",
   "id": "e61220d9-c1e6-41f5-a647-47e23e1bd039",
   "metadata": {},
   "source": [
    "**a) Ex 1: print `\"positive\"` if a number is positive**"
   ]
  },
  {
   "cell_type": "code",
   "execution_count": 10,
   "id": "4f958653-c1b3-4b07-b9b2-f17ff74fa069",
   "metadata": {},
   "outputs": [
    {
     "name": "stdout",
     "output_type": "stream",
     "text": [
      "positive\n"
     ]
    }
   ],
   "source": [
    "# Case 1: condition is True\n",
    "num = 3\n",
    "if num > 0:\n",
    "    print(\"positive\")"
   ]
  },
  {
   "cell_type": "code",
   "execution_count": 11,
   "id": "2bdf9375-158e-45f7-91be-971d0119ec20",
   "metadata": {},
   "outputs": [],
   "source": [
    "# Case 2: condition is False\n",
    "num = -10\n",
    "if num > 0:\n",
    "    print(\"positive\")"
   ]
  },
  {
   "cell_type": "markdown",
   "id": "b2c55e75-8788-4e60-b7e1-f142bf4599dc",
   "metadata": {},
   "source": [
    "**b) Ex 2: print `\"odd\"` if an integer is odd; otherwise, print `\"even\"`**"
   ]
  },
  {
   "cell_type": "code",
   "execution_count": 12,
   "id": "102a6118-23fe-48b2-bf69-8ff1e0470187",
   "metadata": {},
   "outputs": [
    {
     "name": "stdout",
     "output_type": "stream",
     "text": [
      "odd\n"
     ]
    }
   ],
   "source": [
    "# Case 1: condition is True\n",
    "num = 3\n",
    "if num % 2 != 0:\n",
    "    print(\"odd\")\n",
    "else:\n",
    "    print(\"even\")"
   ]
  },
  {
   "cell_type": "code",
   "execution_count": 9,
   "id": "397e846b-31bc-4474-8e5c-40e4e4eb707e",
   "metadata": {},
   "outputs": [
    {
     "name": "stdout",
     "output_type": "stream",
     "text": [
      "even\n"
     ]
    }
   ],
   "source": [
    "# Case 2: condition is False\n",
    "num = -10\n",
    "if num % 2 != 0:\n",
    "    print(\"odd\")\n",
    "else:\n",
    "    print(\"even\")"
   ]
  },
  {
   "cell_type": "markdown",
   "id": "1d340c69-adf5-4f24-8524-3b9639d39edb",
   "metadata": {},
   "source": [
    "## Looping flows\n",
    "- A loop statement repeats a block of code until some condition is met\n",
    "- In Python, we can write loops using `for` or `while`\n",
    "- We will learn them in detail in the next lectures\n",
    "- For now, just consider some simple examples with `for`"
   ]
  },
  {
   "cell_type": "code",
   "execution_count": 16,
   "id": "44ce88cc-fae8-4875-b323-a39fef8c5130",
   "metadata": {},
   "outputs": [
    {
     "data": {
      "text/plain": [
       "[1, 5, -3, -7, 0, 2]"
      ]
     },
     "execution_count": 16,
     "metadata": {},
     "output_type": "execute_result"
    }
   ],
   "source": [
    "# Init a list of numbers\n",
    "numbers = [1, 5, -3, -7, 0, 2]\n",
    "numbers"
   ]
  },
  {
   "cell_type": "code",
   "execution_count": 17,
   "id": "7a5d74fd-b8f3-4c57-bccd-e76827d55840",
   "metadata": {},
   "outputs": [
    {
     "name": "stdout",
     "output_type": "stream",
     "text": [
      "1\n",
      "5\n",
      "-3\n",
      "-7\n",
      "0\n",
      "2\n"
     ]
    }
   ],
   "source": [
    "# Ex 1: print all element\n",
    "# In this example, the print statement is repeated 6 times\n",
    "# The loop only ends when it reach the end of the list (the condition)\n",
    "for e in numbers:\n",
    "    print(e)"
   ]
  },
  {
   "cell_type": "code",
   "execution_count": 19,
   "id": "56fca9c0-6c1a-4063-ae2e-dca9cdd24345",
   "metadata": {},
   "outputs": [
    {
     "name": "stdout",
     "output_type": "stream",
     "text": [
      "1\n",
      "5\n",
      "2\n"
     ]
    }
   ],
   "source": [
    "# Ex 2: print out only positive numbers\n",
    "# In this example, we only see three elements being printed out\n",
    "# But the code block under for is still exectued 6 times\n",
    "# Python compare each element of numbers with 0 in each iteration\n",
    "# But only 3 times the condition for if is True\n",
    "# Thus, we only see three positive elements being printed out\n",
    "for e in numbers:\n",
    "    if e > 0:\n",
    "        print(e)"
   ]
  },
  {
   "cell_type": "markdown",
   "id": "f04a2c88-ee2d-47e6-bc11-eb8b49307346",
   "metadata": {},
   "source": [
    "## Summary\n",
    "- A control flow is the order in which the program's code executes\n",
    "- Python has 3 types of control flows\n",
    "    - Sequential\n",
    "        - Default mode\n",
    "        - Code executes linearly (top-down)\n",
    "    - Branching\n",
    "        - Check a condition and decide which action (branch) to execute\n",
    "        - Implement branching using `if` or `match`\n",
    "    - Loop\n",
    "        - Repeat a block of code until some condition is met\n",
    "        - Implementing loops using `for` or `while`"
   ]
  }
 ],
 "metadata": {
  "kernelspec": {
   "display_name": "Python 3 (ipykernel)",
   "language": "python",
   "name": "python3"
  },
  "language_info": {
   "codemirror_mode": {
    "name": "ipython",
    "version": 3
   },
   "file_extension": ".py",
   "mimetype": "text/x-python",
   "name": "python",
   "nbconvert_exporter": "python",
   "pygments_lexer": "ipython3",
   "version": "3.9.12"
  }
 },
 "nbformat": 4,
 "nbformat_minor": 5
}
