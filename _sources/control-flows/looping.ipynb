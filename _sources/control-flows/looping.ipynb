{
 "cells": [
  {
   "cell_type": "markdown",
   "id": "0e968c7e-9286-4a69-b5b8-923126fdbd23",
   "metadata": {},
   "source": [
    "# Looping\n",
    "\n",
    "Author: Tue Nguyen"
   ]
  },
  {
   "cell_type": "markdown",
   "id": "4edde2b6-5ce9-4c7d-9c70-1188ba17595f",
   "metadata": {},
   "source": [
    "## Outline\n",
    "- Overview about looping\n",
    "- `for` loops\n",
    "- `while` loops\n",
    "- Control loops with `next` and `continue`\n",
    "- Comprehensions"
   ]
  },
  {
   "cell_type": "markdown",
   "id": "dc6c719d-11a6-46bd-888f-6249c57ae97c",
   "metadata": {},
   "source": [
    "## Overview about looping\n",
    "- We often write programs to automate repetitive tasks\n",
    "- The benefits are\n",
    "    - We write a small chunk of code but can repeat it as many times as we want\n",
    "    - If we want to change something to the code logic, we only have to modify in one place\n",
    "    - This reduces the workload and make it less prone to errors\n",
    "- This repetition is called looping\n",
    "- In Python, we can do looping using `for` or `while`"
   ]
  },
  {
   "cell_type": "markdown",
   "id": "81ce88dd-8467-4d19-979c-d9ab723fbde6",
   "metadata": {},
   "source": [
    "## `for` loops\n",
    "\n",
    "### Basic `for` loops\n",
    "- You are already familiar with the basic use of the `for` loop\n",
    "- In this section, we will learn about it in more detail through more interesting examples\n",
    "- The template for the `for` loop is as follows\n",
    "\n",
    "```python\n",
    "for item in iterable:\n",
    "    # Do something\n",
    "```"
   ]
  },
  {
   "cell_type": "markdown",
   "id": "95e273d1-31ea-4868-9016-3d860839efa3",
   "metadata": {},
   "source": [
    "**a) Ex 1: say hello**\n",
    "\n",
    "Say hello to a list of people"
   ]
  },
  {
   "cell_type": "code",
   "execution_count": 1,
   "id": "0c15109b-24ec-4df7-994d-db3d5ee5f059",
   "metadata": {},
   "outputs": [
    {
     "name": "stdout",
     "output_type": "stream",
     "text": [
      "Hello John\n",
      "Hello Bob\n",
      "Hello Mary\n"
     ]
    }
   ],
   "source": [
    "# Init a list of people\n",
    "people = [\"John\", \"Bob\", \"Mary\"]\n",
    "\n",
    "# Write code to say hello to as many people as we want\n",
    "for p in people:\n",
    "    print(f\"Hello {p}\")"
   ]
  },
  {
   "cell_type": "markdown",
   "id": "21334815-60a3-43eb-8b09-1b6309244b6f",
   "metadata": {},
   "source": [
    "**b) Ex 2: looping with `enumerate`**\n",
    "\n",
    "- When iterating through an sequence, you might want to access both the value and the index of an element\n",
    "- You can do this with `enumerate()`\n",
    "- In each iteration, `enumerate()` returns a tuple of 2 entries\n",
    "    - First one is the index (counting from `0`)\n",
    "    - Second one is the current element of the sequence"
   ]
  },
  {
   "cell_type": "code",
   "execution_count": 2,
   "id": "740f7de2-ad4c-49c8-86b4-cfb1c2b5a8cc",
   "metadata": {},
   "outputs": [
    {
     "name": "stdout",
     "output_type": "stream",
     "text": [
      "Bill is ranked 1\n",
      "Peter is ranked 2\n",
      "Tony is ranked 3\n"
     ]
    }
   ],
   "source": [
    "# Init a list of players with higher-ranked ones first\n",
    "players = [\"Bill\", \"Peter\", \"Tony\"]\n",
    "\n",
    "# Print players with ranking\n",
    "for i, p in enumerate(players):\n",
    "    print(f\"{p} is ranked {i + 1}\")"
   ]
  },
  {
   "cell_type": "markdown",
   "id": "70fb33a6-f023-4eae-ab33-88c246b01af3",
   "metadata": {},
   "source": [
    "**c) Ex 3: cumulative sum**\n",
    "\n",
    "Compute the sum of elements from a list of numbers"
   ]
  },
  {
   "cell_type": "code",
   "execution_count": 3,
   "id": "b0c8aa45-655a-4eff-92f5-22daf17d1dda",
   "metadata": {},
   "outputs": [
    {
     "data": {
      "text/plain": [
       "41.5"
      ]
     },
     "execution_count": 3,
     "metadata": {},
     "output_type": "execute_result"
    }
   ],
   "source": [
    "# Init a list of numbers\n",
    "numbers = [1, 2, -2.5, 30, 4, 7]\n",
    "\n",
    "# Compute the sum of elements in numbers\n",
    "total = 0\n",
    "for n in numbers:\n",
    "    total += n\n",
    "\n",
    "# Print the result\n",
    "total"
   ]
  },
  {
   "cell_type": "code",
   "execution_count": 4,
   "id": "c18b4fd4-8384-41b0-a68c-ffe9c1805366",
   "metadata": {},
   "outputs": [
    {
     "data": {
      "text/plain": [
       "41.5"
      ]
     },
     "execution_count": 4,
     "metadata": {},
     "output_type": "execute_result"
    }
   ],
   "source": [
    "# We can double check out result using sum() function\n",
    "sum(numbers)"
   ]
  },
  {
   "cell_type": "markdown",
   "id": "c5802fef-debd-4c69-96ba-48b1cb051edd",
   "metadata": {},
   "source": [
    "**d) Ex 4: see what happens in each iteration**\n",
    "\n",
    "- In Ex 3, we only see the final result\n",
    "- However, we can write a program to see what happen under the hood by moving the `print` statement inside the loop"
   ]
  },
  {
   "cell_type": "code",
   "execution_count": 5,
   "id": "d658c2fb-d4e5-4627-b6cd-476832b46bdc",
   "metadata": {},
   "outputs": [
    {
     "name": "stdout",
     "output_type": "stream",
     "text": [
      "1\n",
      "3\n",
      "0.5\n",
      "30.5\n",
      "34.5\n",
      "41.5\n"
     ]
    }
   ],
   "source": [
    "# Init\n",
    "numbers = [1, 2, -2.5, 30, 4, 7]\n",
    "total = 0\n",
    "\n",
    "# Loop and print the state of total at each iteration\n",
    "for n in numbers:\n",
    "    total += n;\n",
    "    print(total)"
   ]
  },
  {
   "cell_type": "markdown",
   "id": "653155b2-da66-49cf-8408-a7c132fdf206",
   "metadata": {},
   "source": [
    "**e) Ex 5: compute factorial**\n",
    "\n",
    "Compute the factorial for a positive integer\n",
    "- Recall that the factorial of a positive number $n$ is $n! = 1\\times 2\\times \\dots \\times n$\n",
    "- If $n = 0$ then $n! = 1$\n",
    "- For simplicity, in this example, we write code for `n > 0` only"
   ]
  },
  {
   "cell_type": "code",
   "execution_count": 6,
   "id": "c9471d5e-83f9-496f-8871-ce32cf7dafdf",
   "metadata": {},
   "outputs": [
    {
     "data": {
      "text/plain": [
       "720"
      ]
     },
     "execution_count": 6,
     "metadata": {},
     "output_type": "execute_result"
    }
   ],
   "source": [
    "# Init a number n\n",
    "n = 6\n",
    "\n",
    "# Init a variable to for the factorial with value 1\n",
    "fact = 1\n",
    "\n",
    "# Loop through a range of ints from 1 to n\n",
    "# In each iteration, MULTIPLY the current element with fact\n",
    "for i in range(1, n + 1):\n",
    "    fact *= i\n",
    "    \n",
    "# Check the result\n",
    "fact"
   ]
  },
  {
   "cell_type": "markdown",
   "id": "fd3f551a-a3f3-4e86-90a9-53bea4d40950",
   "metadata": {},
   "source": [
    "**f) Ex 6: count the number of character of each type**\n",
    "\n",
    "Given a sentence in English, count the number of consonants, vowels, and non-cased (non-letter) characters"
   ]
  },
  {
   "cell_type": "code",
   "execution_count": 7,
   "id": "7379cfbb-4085-4c8e-8bae-87e927663857",
   "metadata": {},
   "outputs": [],
   "source": [
    "# Init a string\n",
    "s = \"Hi. How are you?\""
   ]
  },
  {
   "cell_type": "code",
   "execution_count": 8,
   "id": "97a6dbce-1851-4069-9d19-8451d48abda2",
   "metadata": {},
   "outputs": [
    {
     "name": "stdout",
     "output_type": "stream",
     "text": [
      "6 vowels\n",
      "5 consonants\n",
      "5 non-letter characters\n"
     ]
    }
   ],
   "source": [
    "# Snippet 1: use nested if\n",
    "# Init three counter variables\n",
    "n_consonants = 0\n",
    "n_vowels = 0\n",
    "n_non_letters = 0\n",
    "\n",
    "# Iterate through the lowercase version of s\n",
    "# and update the counters accordingly\n",
    "for c in s.lower():\n",
    "    if c.isalpha():\n",
    "        if c in \"ueoai\":\n",
    "            n_vowels += 1\n",
    "        else:\n",
    "            n_consonants += 1\n",
    "    else:\n",
    "        n_non_letters += 1\n",
    "        \n",
    "# Print results\n",
    "print(f\"{n_vowels} vowels\")\n",
    "print(f\"{n_consonants} consonants\")\n",
    "print(f\"{n_non_letters} non-letter characters\")"
   ]
  },
  {
   "cell_type": "code",
   "execution_count": 9,
   "id": "c13c574c-2e50-45a2-a771-94cf0fbe7949",
   "metadata": {},
   "outputs": [
    {
     "name": "stdout",
     "output_type": "stream",
     "text": [
      "6 vowels\n",
      "5 consonants\n",
      "5 non-letter characters\n"
     ]
    }
   ],
   "source": [
    "# Snippet 2: use if elif to avoid nested if\n",
    "# Init three counter variables\n",
    "n_consonants = 0\n",
    "n_vowels = 0\n",
    "n_non_letters = 0\n",
    "\n",
    "# Iterate through the lowercase version of s\n",
    "# and update the counters accordingly\n",
    "for c in s.lower():\n",
    "    if not c.isalpha():\n",
    "        n_non_letters += 1\n",
    "    elif c in \"ueoai\":\n",
    "        n_vowels += 1\n",
    "    else:\n",
    "        n_consonants += 1\n",
    "        \n",
    "# Print results\n",
    "print(f\"{n_vowels} vowels\")\n",
    "print(f\"{n_consonants} consonants\")\n",
    "print(f\"{n_non_letters} non-letter characters\")"
   ]
  },
  {
   "cell_type": "markdown",
   "id": "24d0b3c8-6632-4d6d-b1ec-460eaa34d47c",
   "metadata": {},
   "source": [
    "**g) Ex 7: extract numbers of each types**\n",
    "\n",
    "From a list of numbers, extract positive, negative, and zero elements into three lists"
   ]
  },
  {
   "cell_type": "code",
   "execution_count": 10,
   "id": "aae5bd35-dd2c-4dcc-bc80-6bb7368a868b",
   "metadata": {},
   "outputs": [
    {
     "name": "stdout",
     "output_type": "stream",
     "text": [
      "Positive numbers: [1, 2, 7, 9.5, 3.4]\n",
      "Negative numbers: [-1.5, -10, -5.5]\n",
      "Zeros numbers: [0, 0]\n"
     ]
    }
   ],
   "source": [
    "# Init a list of numbers\n",
    "x = [1, 2, -1.5, 0, 7, 9.5, -10, 0, 3.4, -5.5]\n",
    "\n",
    "# Init 3 variables to hold extracted elements\n",
    "pos = []\n",
    "neg = []\n",
    "zeros = []\n",
    "\n",
    "# Extract elements\n",
    "for e in x:\n",
    "    if e > 0:\n",
    "        pos.append(e)\n",
    "    elif e < 0:\n",
    "        neg.append(e)\n",
    "    else:\n",
    "        zeros.append(e)\n",
    "        \n",
    "# Print the result\n",
    "print(f\"Positive numbers: {pos}\")\n",
    "print(f\"Negative numbers: {neg}\")\n",
    "print(f\"Zeros numbers: {zeros}\")"
   ]
  },
  {
   "cell_type": "markdown",
   "id": "11afeded-02b7-4d32-8c0c-8ab6b39f75f1",
   "metadata": {},
   "source": [
    "### Nested `for` loops\n",
    "- We can write a `for` loop inside another `for` loop\n",
    "- This is called a nested `for` loop\n",
    "- However, be careful that computation can explodes very quickly if your program involves nested `for` loops\n",
    "- Ex: if the outer loop has $1,000$ iterations and the inner loop has $2,000$ iterations, then your program has to perform $2,000,000$ iterations in total"
   ]
  },
  {
   "cell_type": "markdown",
   "id": "d5125274-cf42-4eb2-9171-ca453662e691",
   "metadata": {},
   "source": [
    "**a) Ex 1: compute factorial for each integer in a list**\n",
    "\n",
    "Loop through a list of positive integers and at each iteration, print the factorial for that integer"
   ]
  },
  {
   "cell_type": "code",
   "execution_count": 11,
   "id": "55563087-c265-44b0-90be-ddf82d5f7b48",
   "metadata": {},
   "outputs": [
    {
     "name": "stdout",
     "output_type": "stream",
     "text": [
      "1! = 1\n",
      "3! = 6\n",
      "4! = 24\n",
      "6! = 720\n",
      "7! = 5040\n"
     ]
    }
   ],
   "source": [
    "# Init a list of positive integers\n",
    "numbers = [1, 3, 4, 6, 7]\n",
    "for n in numbers:\n",
    "    fact = 1\n",
    "    for i in range(1, n + 1):\n",
    "        fact *= i\n",
    "    print(f\"{n}! = {fact}\")"
   ]
  },
  {
   "cell_type": "markdown",
   "id": "6300594e-0eb6-4be2-9037-e07bfa5794cf",
   "metadata": {},
   "source": [
    "**b) Ex 2: print a triangle**\n",
    "\n",
    "Print out the following triangle\n",
    "\n",
    "```text\n",
    "0 1 2 3 4 5 6 7 8 9 \n",
    "1 2 3 4 5 6 7 8 9 \n",
    "2 3 4 5 6 7 8 9 \n",
    "3 4 5 6 7 8 9 \n",
    "4 5 6 7 8 9 \n",
    "5 6 7 8 9 \n",
    "6 7 8 9 \n",
    "7 8 9 \n",
    "8 9 \n",
    "9 \n",
    "```"
   ]
  },
  {
   "cell_type": "code",
   "execution_count": 14,
   "id": "b89e196c-c914-43ec-b109-94c068e6708f",
   "metadata": {},
   "outputs": [
    {
     "name": "stdout",
     "output_type": "stream",
     "text": [
      "0 1 2 3 4 5 6 7 8 9 \n",
      "1 2 3 4 5 6 7 8 9 \n",
      "2 3 4 5 6 7 8 9 \n",
      "3 4 5 6 7 8 9 \n",
      "4 5 6 7 8 9 \n",
      "5 6 7 8 9 \n",
      "6 7 8 9 \n",
      "7 8 9 \n",
      "8 9 \n",
      "9 \n"
     ]
    }
   ],
   "source": [
    "for i in range(10):\n",
    "    for j in range(i, 10):\n",
    "        print(j, end=\" \")\n",
    "    print(\"\")"
   ]
  },
  {
   "cell_type": "markdown",
   "id": "7c93e40d-4177-4a38-be67-377c4d1fa8b2",
   "metadata": {},
   "source": [
    "## `while` loops\n",
    "To be updated"
   ]
  }
 ],
 "metadata": {
  "kernelspec": {
   "display_name": "Python 3 (ipykernel)",
   "language": "python",
   "name": "python3"
  },
  "language_info": {
   "codemirror_mode": {
    "name": "ipython",
    "version": 3
   },
   "file_extension": ".py",
   "mimetype": "text/x-python",
   "name": "python",
   "nbconvert_exporter": "python",
   "pygments_lexer": "ipython3",
   "version": "3.9.12"
  }
 },
 "nbformat": 4,
 "nbformat_minor": 5
}
