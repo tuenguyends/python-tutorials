{
 "cells": [
  {
   "cell_type": "markdown",
   "id": "2f37675b-58dd-4880-9a60-5058366cfdd2",
   "metadata": {},
   "source": [
    "# Float type\n",
    "Author: Tue Nguyen"
   ]
  },
  {
   "cell_type": "markdown",
   "id": "c856e815-a4b6-400a-9d32-61c06bb1012b",
   "metadata": {},
   "source": [
    "## Overview\n",
    "This lecture covers the following topics\n",
    "\n",
    "- Why `float` type?\n",
    "- Why the name `float`?\n",
    "- How to get a `float`?\n",
    "- Conversion to `float`\n",
    "- When uses `float`?\n",
    "- Operations on `float`\n",
    "- Math utilities"
   ]
  },
  {
   "cell_type": "markdown",
   "id": "567582ac-dc96-4124-b389-e6084dc04757",
   "metadata": {},
   "source": [
    "## Why `float` type?\n",
    "- **Motivation:** used to represent reald numbers\n",
    "- **Real-life data:** salary, temperature, distance, sales, profit, price\n",
    "- **Python implementation:** \n",
    "    - Type: `float`\n",
    "    - Possible values: any real number\n",
    "- Note that `float` is just an approximation of the real line\n",
    "    - The set of real numbers is a continuum with no gap\n",
    "    - There's no way machines can represent such a precision\n",
    "    - Thus, be aware of round the inherent rounding error when dealing with `float`s"
   ]
  },
  {
   "cell_type": "markdown",
   "id": "ecfa9f76-efc3-4075-89de-7665fb16f490",
   "metadata": {},
   "source": [
    "## Why the name `float`?\n",
    "- Python uses float to represent real numbers such as `1.5`, `3.14`, or `2.7`\n",
    "- The name `float` came from the fact that real numbers are represented in the floating point format in computers\n",
    "    - Ex: `3.14` can be represented as `3.14`, `0.314 * 10^1`, or `31.4 * 10^(-1)`\n",
    "    - The decimal point can move around, thus the name **floating point**  \n",
    "- However, you can safely ignore this technical detail and think of a float just as a real number"
   ]
  },
  {
   "cell_type": "markdown",
   "id": "1bebe24d-96b7-4e3b-9808-19a982856baa",
   "metadata": {},
   "source": [
    "## How to get an `float`?"
   ]
  },
  {
   "cell_type": "markdown",
   "id": "5d520bca-e7b6-4e2d-bdeb-3a364f48f9b1",
   "metadata": {},
   "source": [
    "### Ex 1: from `float` literals"
   ]
  },
  {
   "cell_type": "code",
   "execution_count": 1,
   "id": "7d775f32-e7ea-4d48-bc8a-e75db013fcc4",
   "metadata": {},
   "outputs": [
    {
     "data": {
      "text/plain": [
       "float"
      ]
     },
     "execution_count": 1,
     "metadata": {},
     "output_type": "execute_result"
    }
   ],
   "source": [
    "# Normal float\n",
    "x = 10.5\n",
    "type(x)"
   ]
  },
  {
   "cell_type": "code",
   "execution_count": 2,
   "id": "b5c3f56d-bea0-425a-8780-8c014c7a71f0",
   "metadata": {},
   "outputs": [
    {
     "data": {
      "text/plain": [
       "float"
      ]
     },
     "execution_count": 2,
     "metadata": {},
     "output_type": "execute_result"
    }
   ],
   "source": [
    "# 10.0 is float, not integer\n",
    "x = 10.0\n",
    "type(x)"
   ]
  },
  {
   "cell_type": "code",
   "execution_count": 3,
   "id": "c15327a7-5672-4c21-a6ac-2c25909fd6d2",
   "metadata": {},
   "outputs": [
    {
     "data": {
      "text/plain": [
       "float"
      ]
     },
     "execution_count": 3,
     "metadata": {},
     "output_type": "execute_result"
    }
   ],
   "source": [
    "# 10. is short for 10.0\n",
    "x = 10.\n",
    "type(x)"
   ]
  },
  {
   "cell_type": "code",
   "execution_count": 7,
   "id": "5ed8fc02-3882-474a-8d33-ca6485cbef32",
   "metadata": {},
   "outputs": [
    {
     "data": {
      "text/plain": [
       "2000000.0"
      ]
     },
     "execution_count": 7,
     "metadata": {},
     "output_type": "execute_result"
    }
   ],
   "source": [
    "# Scientific notation, use e as 10^\n",
    "# Ex: 2 million\n",
    "2e6"
   ]
  },
  {
   "cell_type": "markdown",
   "id": "4741dc4f-21b8-440b-be03-2bcbddd2e46a",
   "metadata": {},
   "source": [
    "### Ex 2: from an expression that produces a `float`\n",
    "Here are some examples of expressions producing `int`s\n",
    "- Math operations between `float`s\n",
    "- A call to a function that returns an `float`\n",
    "- Typecasting to `float`"
   ]
  },
  {
   "cell_type": "markdown",
   "id": "02350c0e-ac39-443d-8c11-557ed36fe978",
   "metadata": {},
   "source": [
    "**Math operations between `int`s**"
   ]
  },
  {
   "cell_type": "code",
   "execution_count": 8,
   "id": "876fd099-d4e4-4ceb-a835-a16c93a7cdbc",
   "metadata": {},
   "outputs": [
    {
     "data": {
      "text/plain": [
       "13.0"
      ]
     },
     "execution_count": 8,
     "metadata": {},
     "output_type": "execute_result"
    }
   ],
   "source": [
    "# Add 2 floats -> float\n",
    "10.5 + 2.5"
   ]
  },
  {
   "cell_type": "code",
   "execution_count": 9,
   "id": "bf17dacd-d75e-4417-b0d4-fad32912f5ab",
   "metadata": {},
   "outputs": [
    {
     "data": {
      "text/plain": [
       "12.0"
      ]
     },
     "execution_count": 9,
     "metadata": {},
     "output_type": "execute_result"
    }
   ],
   "source": [
    "# Float + int -> float \n",
    "# Rule: result is promoted to the more general type\n",
    "# Here, float is more general than int\n",
    "10.0 + 2"
   ]
  },
  {
   "cell_type": "code",
   "execution_count": 10,
   "id": "8be61a9b-bcdd-4e63-bd74-1c565993b0bc",
   "metadata": {},
   "outputs": [
    {
     "data": {
      "text/plain": [
       "2.0"
      ]
     },
     "execution_count": 10,
     "metadata": {},
     "output_type": "execute_result"
    }
   ],
   "source": [
    "# Real division always produces float\n",
    "# Even the result is an integer mathematically\n",
    "4 / 2"
   ]
  },
  {
   "cell_type": "markdown",
   "id": "83bfdf05-414e-48b8-bc78-680a8e1ea210",
   "metadata": {},
   "source": [
    "**A call to a function producing an `float`**"
   ]
  },
  {
   "cell_type": "code",
   "execution_count": 13,
   "id": "db8b3a0c-09f2-4bca-820c-95e89385f5a8",
   "metadata": {},
   "outputs": [
    {
     "data": {
      "text/plain": [
       "3.33"
      ]
     },
     "execution_count": 13,
     "metadata": {},
     "output_type": "execute_result"
    }
   ],
   "source": [
    "round(10 / 3, 2)"
   ]
  },
  {
   "cell_type": "markdown",
   "id": "cff1ab32-664f-41f2-a394-bb2875e42d77",
   "metadata": {},
   "source": [
    "**Typecasting to `float`**\n",
    "\n",
    "- Use `float()` to convert a value to `float`\n",
    "- Conversion to `float` is NOT always"
   ]
  },
  {
   "cell_type": "code",
   "execution_count": 14,
   "id": "45743fe4-909f-4bb2-aaeb-87c86db81df5",
   "metadata": {},
   "outputs": [
    {
     "name": "stdout",
     "output_type": "stream",
     "text": [
      "1.0\n",
      "0.0\n"
     ]
    }
   ],
   "source": [
    "# From a bool to float\n",
    "# True -> 1.0\n",
    "# False -> 0.p\n",
    "print(float(True))\n",
    "print(float(False))"
   ]
  },
  {
   "cell_type": "code",
   "execution_count": 16,
   "id": "84dc668f-9417-465d-bb7d-c1d06c122990",
   "metadata": {},
   "outputs": [
    {
     "data": {
      "text/plain": [
       "2.0"
      ]
     },
     "execution_count": 16,
     "metadata": {},
     "output_type": "execute_result"
    }
   ],
   "source": [
    "# From int to float\n",
    "# The value is the same, but the type is now float\n",
    "float(2)"
   ]
  },
  {
   "cell_type": "code",
   "execution_count": 18,
   "id": "46ca39c0-1975-4e91-94d6-98242d087f50",
   "metadata": {},
   "outputs": [
    {
     "name": "stdout",
     "output_type": "stream",
     "text": [
      "1.5\n",
      "-1.5\n"
     ]
    }
   ],
   "source": [
    "# From str to float\n",
    "# Only strings that look like floats can be converted\n",
    "print(float(\"1.5\"))\n",
    "print(float(\"-1.5\"))"
   ]
  },
  {
   "cell_type": "code",
   "execution_count": 23,
   "id": "1d850a9f-76f0-4aac-9c0a-0faf475656ce",
   "metadata": {},
   "outputs": [
    {
     "name": "stdout",
     "output_type": "stream",
     "text": [
      "-1.5\n",
      "-1.5\n"
     ]
    }
   ],
   "source": [
    "# White space at two ends are ignored\n",
    "print(float(\"  -1.5      \"))\n",
    "print(float(\"  -1.5     \"))"
   ]
  },
  {
   "cell_type": "code",
   "execution_count": 27,
   "id": "79e08d82-157a-4896-90a2-c94dafed8bc4",
   "metadata": {},
   "outputs": [
    {
     "data": {
      "text/plain": [
       "-1.5"
      ]
     },
     "execution_count": 27,
     "metadata": {},
     "output_type": "execute_result"
    }
   ],
   "source": [
    "# Leading and ending zero is also ignored\n",
    "float(\"-01.50\")"
   ]
  },
  {
   "cell_type": "code",
   "execution_count": 28,
   "id": "58740cf9-1cef-4b93-bb74-591750ebcf4a",
   "metadata": {},
   "outputs": [],
   "source": [
    "# However, \"50,000.2\" can not be converted to float\n",
    "# Try them to see the errors"
   ]
  },
  {
   "cell_type": "markdown",
   "id": "71e9e41a-82f1-4c37-b1e8-1e1bd5264e0b",
   "metadata": {
    "tags": []
   },
   "source": [
    "## When uses `float`?\n",
    "Any time we need a real number"
   ]
  },
  {
   "cell_type": "markdown",
   "id": "5cafa465-b08f-48cb-909e-252f0020191a",
   "metadata": {},
   "source": [
    "## Operations on `float`\n",
    "- Math operations: `+, -, *, /, //, %, **`\n",
    "- Comparison operations: `==, !=, >=, <=, >, <, is, is not`"
   ]
  },
  {
   "cell_type": "markdown",
   "id": "12267605-05da-41b6-88f8-b01e10329ef1",
   "metadata": {},
   "source": [
    "## Math utilities\n",
    "- The Python standard libraries come with a module named `math` containing utilities for dealing with numbers\n",
    "- This section applies to numbers, thus to both `int` and `float`\n",
    "- You will learn more about modules later\n",
    "- For now, just follow some simple examples"
   ]
  },
  {
   "cell_type": "code",
   "execution_count": 38,
   "id": "748bc85f-b1e0-450e-8806-1243065bbc3d",
   "metadata": {},
   "outputs": [],
   "source": [
    "# To use math module, we need to import it\n",
    "# Then use the syntax math.<name> to \n",
    "# retrieve the constant or call the function we want to use\n",
    "import math"
   ]
  },
  {
   "cell_type": "markdown",
   "id": "fee328d5-2842-4832-8beb-d6332115dd84",
   "metadata": {},
   "source": [
    "**Useful constants**"
   ]
  },
  {
   "cell_type": "code",
   "execution_count": 39,
   "id": "3deb904b-3c06-4f04-948b-8380d1e2cf35",
   "metadata": {},
   "outputs": [
    {
     "data": {
      "text/plain": [
       "3.141592653589793"
      ]
     },
     "execution_count": 39,
     "metadata": {},
     "output_type": "execute_result"
    }
   ],
   "source": [
    "# Pi\n",
    "math.pi"
   ]
  },
  {
   "cell_type": "code",
   "execution_count": 40,
   "id": "3d9d19b0-71ea-45bf-ba56-0d7fae409f43",
   "metadata": {},
   "outputs": [
    {
     "data": {
      "text/plain": [
       "2.718281828459045"
      ]
     },
     "execution_count": 40,
     "metadata": {},
     "output_type": "execute_result"
    }
   ],
   "source": [
    "# Euler number\n",
    "math.e"
   ]
  },
  {
   "cell_type": "markdown",
   "id": "96baa9a3-d8d0-44aa-b2ae-0a3e29305304",
   "metadata": {},
   "source": [
    "**Ceiling:** round UP to the nearest integer"
   ]
  },
  {
   "cell_type": "code",
   "execution_count": 41,
   "id": "d10202d0-efad-4bea-9b5f-05cd672000c8",
   "metadata": {},
   "outputs": [
    {
     "data": {
      "text/plain": [
       "4"
      ]
     },
     "execution_count": 41,
     "metadata": {},
     "output_type": "execute_result"
    }
   ],
   "source": [
    "# With positive input\n",
    "math.ceil(3.333)"
   ]
  },
  {
   "cell_type": "code",
   "execution_count": 32,
   "id": "ef463142-5212-4a2d-a09f-c23131aadd9c",
   "metadata": {},
   "outputs": [
    {
     "data": {
      "text/plain": [
       "-3"
      ]
     },
     "execution_count": 32,
     "metadata": {},
     "output_type": "execute_result"
    }
   ],
   "source": [
    "# With negative input\n",
    "math.ceil(-3.333)"
   ]
  },
  {
   "cell_type": "markdown",
   "id": "f57178e4-f269-4f19-bd2e-58a8b4dcc45a",
   "metadata": {},
   "source": [
    "**Floor:** round DOWN to the nearest integer"
   ]
  },
  {
   "cell_type": "code",
   "execution_count": 33,
   "id": "e718ec26-4447-480d-85a1-c41980b36077",
   "metadata": {},
   "outputs": [
    {
     "data": {
      "text/plain": [
       "3"
      ]
     },
     "execution_count": 33,
     "metadata": {},
     "output_type": "execute_result"
    }
   ],
   "source": [
    "# With positive input\n",
    "math.floor(3.333)"
   ]
  },
  {
   "cell_type": "code",
   "execution_count": 35,
   "id": "b6eaed42-d9ec-4179-8c94-2f64ad206f6e",
   "metadata": {},
   "outputs": [
    {
     "data": {
      "text/plain": [
       "-4"
      ]
     },
     "execution_count": 35,
     "metadata": {},
     "output_type": "execute_result"
    }
   ],
   "source": [
    "# With negative input\n",
    "math.floor(-3.333)"
   ]
  },
  {
   "cell_type": "markdown",
   "id": "bdce66f8-2530-498e-842b-cf3485ea9a80",
   "metadata": {},
   "source": [
    "**Roots**"
   ]
  },
  {
   "cell_type": "code",
   "execution_count": 45,
   "id": "790cfee9-9a90-456b-9aeb-4d49bd9204ac",
   "metadata": {},
   "outputs": [
    {
     "data": {
      "text/plain": [
       "5.0"
      ]
     },
     "execution_count": 45,
     "metadata": {},
     "output_type": "execute_result"
    }
   ],
   "source": [
    "# Square root\n",
    "math.sqrt(25)"
   ]
  },
  {
   "cell_type": "code",
   "execution_count": 46,
   "id": "98c8a9c0-2782-4ce6-8a07-f30def938272",
   "metadata": {},
   "outputs": [
    {
     "data": {
      "text/plain": [
       "5.0"
      ]
     },
     "execution_count": 46,
     "metadata": {},
     "output_type": "execute_result"
    }
   ],
   "source": [
    "# Another way without using math\n",
    "25**(1/2)"
   ]
  },
  {
   "cell_type": "code",
   "execution_count": 47,
   "id": "1670d9cf-6515-4854-ae37-a9942c0c5d28",
   "metadata": {},
   "outputs": [
    {
     "data": {
      "text/plain": [
       "1.9036539387158786"
      ]
     },
     "execution_count": 47,
     "metadata": {},
     "output_type": "execute_result"
    }
   ],
   "source": [
    "# Fifth root\n",
    "25**(1/5)"
   ]
  },
  {
   "cell_type": "markdown",
   "id": "96338351-f507-4c63-83b9-3d99969969f9",
   "metadata": {},
   "source": [
    "**Trig functions**"
   ]
  },
  {
   "cell_type": "code",
   "execution_count": 43,
   "id": "c83f9d92-87f7-4693-abf5-f1e3e31be299",
   "metadata": {},
   "outputs": [
    {
     "data": {
      "text/plain": [
       "1.0"
      ]
     },
     "execution_count": 43,
     "metadata": {},
     "output_type": "execute_result"
    }
   ],
   "source": [
    "# Sine\n",
    "math.sin(math.pi / 2)"
   ]
  },
  {
   "cell_type": "code",
   "execution_count": 44,
   "id": "747f91fc-8a34-49d2-8a61-12038e46968b",
   "metadata": {},
   "outputs": [
    {
     "data": {
      "text/plain": [
       "6.123233995736766e-17"
      ]
     },
     "execution_count": 44,
     "metadata": {},
     "output_type": "execute_result"
    }
   ],
   "source": [
    "# Cosine\n",
    "# Now you see the rounding error\n",
    "math.cos(math.pi / 2)"
   ]
  },
  {
   "cell_type": "markdown",
   "id": "bda5c936-a9fa-45dd-bfea-f1e77b572b80",
   "metadata": {},
   "source": [
    "For the full list of what you can do with math, visit its official documentation page at https://docs.python.org/3/library/math.html"
   ]
  },
  {
   "cell_type": "markdown",
   "id": "5477c30c-ed99-4d1d-8ce7-d83a82091333",
   "metadata": {
    "tags": []
   },
   "source": [
    "## Summary\n",
    "**Why `float` type?**\n",
    "- Used to represent real numbers\n",
    "\n",
    "**Why the name `float`?**\n",
    "- Real numbers are represented in the floating-point format in computers\n",
    "\n",
    "**Conversion to `float`**\n",
    "- Use `float()`\n",
    "- Rules\n",
    "    - `bool` to `float`: `True` -> `1.0` and `False` -> `0.0`\n",
    "    - `int` to `float`: `2` -> `2.0`\n",
    "    - `str` to `float`: the string must look like a real number\n",
    "        - Whitespaces at two ends will be ignored\n",
    "        - Leading and ending zeros will be ignored\n",
    "    - Conversion to `float` is NOT ALWAYS possible\n",
    "\n",
    "**How to get an `float`?**\n",
    "- From `float` literals: `x = 10.5` or `x = 2e3`\n",
    "- From an expression that produces a `float` such as\n",
    "    - Math operations between `float`s: `10.5 + 2.5`\n",
    "    - Call a function that returns a `float`: `round(x, 2)`\n",
    "    - Typecasting: `float(x)`\n",
    "\n",
    "**When uses `float`?**\n",
    "- Any time we need a real number\n",
    "\n",
    "**Operations on `float`**\n",
    "- Math operations\n",
    "- Comparison operations\n",
    "\n",
    "**Math utils**\n",
    "- Import `math` module"
   ]
  },
  {
   "cell_type": "markdown",
   "id": "8332817d-18a1-449a-ab59-cad307e852f7",
   "metadata": {
    "tags": []
   },
   "source": [
    "## Practice\n",
    "### Exercise 1\n",
    "Do the following\n",
    "\n",
    "- Create `float` variable `x` with value `100`\n",
    "- Show its value and type\n",
    "\n",
    "\n",
    "### Exercise 2\n",
    "Do the following\n",
    "\n",
    "- Create a variable `x` from the division of `10` by `5`\n",
    "- Show the value and type of `x`\n",
    "\n",
    "### Exercise 3\n",
    "How to quickly create a value of `7.5` billion?\n",
    "\n",
    "### Exercise 4\n",
    "Use `math` module to compute\n",
    "\n",
    "- The area of a circle with a radius `5`\n",
    "- The hypotenuse of a right triangle with `3` and `4` being the lengths of the two other sides  "
   ]
  },
  {
   "cell_type": "code",
   "execution_count": null,
   "id": "1d407973-51c9-4299-85e3-1eace4df359e",
   "metadata": {},
   "outputs": [],
   "source": []
  }
 ],
 "metadata": {
  "kernelspec": {
   "display_name": "Python 3 (ipykernel)",
   "language": "python",
   "name": "python3"
  },
  "language_info": {
   "codemirror_mode": {
    "name": "ipython",
    "version": 3
   },
   "file_extension": ".py",
   "mimetype": "text/x-python",
   "name": "python",
   "nbconvert_exporter": "python",
   "pygments_lexer": "ipython3",
   "version": "3.9.12"
  }
 },
 "nbformat": 4,
 "nbformat_minor": 5
}
