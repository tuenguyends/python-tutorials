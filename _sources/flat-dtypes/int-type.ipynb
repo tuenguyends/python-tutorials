{
 "cells": [
  {
   "cell_type": "markdown",
   "id": "2f37675b-58dd-4880-9a60-5058366cfdd2",
   "metadata": {},
   "source": [
    "# Int type\n",
    "Author: Tue Nguyen"
   ]
  },
  {
   "cell_type": "markdown",
   "id": "c856e815-a4b6-400a-9d32-61c06bb1012b",
   "metadata": {},
   "source": [
    "## Overview\n",
    "This lecture covers the following topics\n",
    "\n",
    "- Why `int` type?\n",
    "- How to get an `int`?\n",
    "- Conversion to `int`\n",
    "- When uses `int`?\n",
    "- Operations on `int`"
   ]
  },
  {
   "cell_type": "markdown",
   "id": "567582ac-dc96-4124-b389-e6084dc04757",
   "metadata": {},
   "source": [
    "## Why `int` type?\n",
    "- **Motivation:** used to represent integers such as count values\n",
    "- **Real-life data:** number of children, years of educations, number of items purchased\n",
    "- **Python implementation:** \n",
    "    - Type: `int`\n",
    "    - Possible values: any integers"
   ]
  },
  {
   "cell_type": "markdown",
   "id": "1bebe24d-96b7-4e3b-9808-19a982856baa",
   "metadata": {},
   "source": [
    "## How to get an `int`?"
   ]
  },
  {
   "cell_type": "markdown",
   "id": "5d520bca-e7b6-4e2d-bdeb-3a364f48f9b1",
   "metadata": {},
   "source": [
    "### Ex 1: from `int` literals"
   ]
  },
  {
   "cell_type": "code",
   "execution_count": 1,
   "id": "7d775f32-e7ea-4d48-bc8a-e75db013fcc4",
   "metadata": {},
   "outputs": [
    {
     "name": "stdout",
     "output_type": "stream",
     "text": [
      "10\n",
      "<class 'int'>\n"
     ]
    }
   ],
   "source": [
    "# Init an int variable\n",
    "x = 10\n",
    "print(x)\n",
    "print(type(x))"
   ]
  },
  {
   "cell_type": "code",
   "execution_count": 2,
   "id": "b5c3f56d-bea0-425a-8780-8c014c7a71f0",
   "metadata": {},
   "outputs": [
    {
     "name": "stdout",
     "output_type": "stream",
     "text": [
      "3565622255488771132323355767676856586585965999884384\n",
      "<class 'int'>\n"
     ]
    }
   ],
   "source": [
    "# Integers in Python can be arbitrarily long \n",
    "# there is no overflow behavior as in some other languages\n",
    "x = 3565622255488771132323355767676856586585965999884384\n",
    "print(x)\n",
    "print(type(x))"
   ]
  },
  {
   "cell_type": "markdown",
   "id": "4741dc4f-21b8-440b-be03-2bcbddd2e46a",
   "metadata": {},
   "source": [
    "### Ex 2: from an expression that produces a `int`\n",
    "Here are some examples of expressions producing `int`s\n",
    "- Math operations between `int`s\n",
    "- A call to a function that returns an `int`\n",
    "- Typecasting to `int`"
   ]
  },
  {
   "cell_type": "markdown",
   "id": "02350c0e-ac39-443d-8c11-557ed36fe978",
   "metadata": {},
   "source": [
    "**Math operations between `int`s**"
   ]
  },
  {
   "cell_type": "code",
   "execution_count": 11,
   "id": "876fd099-d4e4-4ceb-a835-a16c93a7cdbc",
   "metadata": {},
   "outputs": [],
   "source": [
    "# Init two variable\n",
    "x = 4\n",
    "y = 2"
   ]
  },
  {
   "cell_type": "code",
   "execution_count": 12,
   "id": "bf17dacd-d75e-4417-b0d4-fad32912f5ab",
   "metadata": {},
   "outputs": [
    {
     "data": {
      "text/plain": [
       "6"
      ]
     },
     "execution_count": 12,
     "metadata": {},
     "output_type": "execute_result"
    }
   ],
   "source": [
    "# Addition\n",
    "x + y"
   ]
  },
  {
   "cell_type": "code",
   "execution_count": 13,
   "id": "e340d901-d5d8-4159-93b7-8b30de2ba879",
   "metadata": {},
   "outputs": [
    {
     "data": {
      "text/plain": [
       "2"
      ]
     },
     "execution_count": 13,
     "metadata": {},
     "output_type": "execute_result"
    }
   ],
   "source": [
    "# Subtraction\n",
    "x - y"
   ]
  },
  {
   "cell_type": "code",
   "execution_count": 14,
   "id": "8be61a9b-bcdd-4e63-bd74-1c565993b0bc",
   "metadata": {},
   "outputs": [
    {
     "data": {
      "text/plain": [
       "8"
      ]
     },
     "execution_count": 14,
     "metadata": {},
     "output_type": "execute_result"
    }
   ],
   "source": [
    "# Multiplication\n",
    "x * y"
   ]
  },
  {
   "cell_type": "code",
   "execution_count": 15,
   "id": "3dc5966d-35d6-4d5e-9c38-0e0952d037a6",
   "metadata": {},
   "outputs": [
    {
     "data": {
      "text/plain": [
       "16"
      ]
     },
     "execution_count": 15,
     "metadata": {},
     "output_type": "execute_result"
    }
   ],
   "source": [
    "# Exponential\n",
    "x**y"
   ]
  },
  {
   "cell_type": "code",
   "execution_count": 16,
   "id": "e3131f82-0ebe-432a-b535-ad9e85d98d08",
   "metadata": {},
   "outputs": [
    {
     "data": {
      "text/plain": [
       "2"
      ]
     },
     "execution_count": 16,
     "metadata": {},
     "output_type": "execute_result"
    }
   ],
   "source": [
    "# Integer division\n",
    "x // 2"
   ]
  },
  {
   "cell_type": "code",
   "execution_count": 17,
   "id": "e52d5d2c-ddad-4c43-af8f-5499082ebfa9",
   "metadata": {},
   "outputs": [
    {
     "data": {
      "text/plain": [
       "0"
      ]
     },
     "execution_count": 17,
     "metadata": {},
     "output_type": "execute_result"
    }
   ],
   "source": [
    "# Modulus\n",
    "x % 2"
   ]
  },
  {
   "cell_type": "markdown",
   "id": "83bfdf05-414e-48b8-bc78-680a8e1ea210",
   "metadata": {},
   "source": [
    "**A call to a function producing an `int`**"
   ]
  },
  {
   "cell_type": "code",
   "execution_count": 20,
   "id": "db8b3a0c-09f2-4bca-820c-95e89385f5a8",
   "metadata": {},
   "outputs": [
    {
     "data": {
      "text/plain": [
       "8"
      ]
     },
     "execution_count": 20,
     "metadata": {},
     "output_type": "execute_result"
    }
   ],
   "source": [
    "# Sum of a list of integers\n",
    "x = [1, 2, -2, 0, 7]\n",
    "sum(x)"
   ]
  },
  {
   "cell_type": "code",
   "execution_count": 21,
   "id": "a44db354-c579-4901-92ba-b811cd51d657",
   "metadata": {},
   "outputs": [
    {
     "data": {
      "text/plain": [
       "5"
      ]
     },
     "execution_count": 21,
     "metadata": {},
     "output_type": "execute_result"
    }
   ],
   "source": [
    "# Count the number of elements of a list\n",
    "len(x)"
   ]
  },
  {
   "cell_type": "markdown",
   "id": "cff1ab32-664f-41f2-a394-bb2875e42d77",
   "metadata": {},
   "source": [
    "**Typecasting to `int`**\n",
    "\n",
    "- Use `int()` to convert a value to `int`\n",
    "- Conversion to `int` is NOT always"
   ]
  },
  {
   "cell_type": "code",
   "execution_count": null,
   "id": "d8a63b74-32e1-420f-b41f-f876eb3ce1b6",
   "metadata": {},
   "outputs": [],
   "source": [
    "# From None to int\n",
    "# Not possible"
   ]
  },
  {
   "cell_type": "code",
   "execution_count": 23,
   "id": "45743fe4-909f-4bb2-aaeb-87c86db81df5",
   "metadata": {},
   "outputs": [
    {
     "name": "stdout",
     "output_type": "stream",
     "text": [
      "1\n",
      "0\n"
     ]
    }
   ],
   "source": [
    "# From a bool to int\n",
    "# True -> 1\n",
    "# False -> 0\n",
    "print(int(True))\n",
    "print(int(False))"
   ]
  },
  {
   "cell_type": "code",
   "execution_count": 26,
   "id": "84dc668f-9417-465d-bb7d-c1d06c122990",
   "metadata": {},
   "outputs": [
    {
     "data": {
      "text/plain": [
       "2"
      ]
     },
     "execution_count": 26,
     "metadata": {},
     "output_type": "execute_result"
    }
   ],
   "source": [
    "# From float to int\n",
    "# The decimal part will be truncated\n",
    "int(2.5)"
   ]
  },
  {
   "cell_type": "code",
   "execution_count": 29,
   "id": "46ca39c0-1975-4e91-94d6-98242d087f50",
   "metadata": {},
   "outputs": [
    {
     "name": "stdout",
     "output_type": "stream",
     "text": [
      "50\n",
      "-50\n"
     ]
    }
   ],
   "source": [
    "# From str to int\n",
    "# Only strings that look like integers can be converted\n",
    "print(int(\"50\"))\n",
    "print(int(\"-50\"))"
   ]
  },
  {
   "cell_type": "code",
   "execution_count": 31,
   "id": "1d850a9f-76f0-4aac-9c0a-0faf475656ce",
   "metadata": {},
   "outputs": [
    {
     "name": "stdout",
     "output_type": "stream",
     "text": [
      "50\n",
      "-50\n"
     ]
    }
   ],
   "source": [
    "# White space at two ends are ignored\n",
    "print(int(\"  50      \"))\n",
    "print(int(\"  -50      \"))"
   ]
  },
  {
   "cell_type": "code",
   "execution_count": 33,
   "id": "79e08d82-157a-4896-90a2-c94dafed8bc4",
   "metadata": {},
   "outputs": [
    {
     "data": {
      "text/plain": [
       "50"
      ]
     },
     "execution_count": 33,
     "metadata": {},
     "output_type": "execute_result"
    }
   ],
   "source": [
    "# Leading zeros are also ignored\n",
    "int(\"050\")"
   ]
  },
  {
   "cell_type": "code",
   "execution_count": 35,
   "id": "58740cf9-1cef-4b93-bb74-591750ebcf4a",
   "metadata": {},
   "outputs": [],
   "source": [
    "# However, \"50,000\" or \"50.0\" can not be converted to int\n",
    "# Try them to see the errors"
   ]
  },
  {
   "cell_type": "markdown",
   "id": "71e9e41a-82f1-4c37-b1e8-1e1bd5264e0b",
   "metadata": {
    "tags": []
   },
   "source": [
    "## When uses `int`?\n",
    "Any time we need an integer"
   ]
  },
  {
   "cell_type": "markdown",
   "id": "5cafa465-b08f-48cb-909e-252f0020191a",
   "metadata": {},
   "source": [
    "## Operations on `int`\n",
    "- Math operations: `+, -, *, /, //, %, **`\n",
    "- Comparison operations: `==, !=, >=, <=, >, <, is, is not`"
   ]
  },
  {
   "cell_type": "markdown",
   "id": "5477c30c-ed99-4d1d-8ce7-d83a82091333",
   "metadata": {},
   "source": [
    "## Summary\n",
    "**Why `int` type?**\n",
    "- Used to represent integers such as count values\n",
    "\n",
    "**Conversion to `int`**\n",
    "- Use `int()`\n",
    "- Rules\n",
    "    - `bool` to `int`: `True` -> `1` and `False` -> `0`\n",
    "    - `float` to `int`: the decimal part will be truncated\n",
    "    - `str` to `int`: the string must look like an integer\n",
    "        - Whitespaces at two ends will be ignored\n",
    "        - Leading zeros will be ignored\n",
    "    - Conversion to `int` is NOT ALWAYS possible\n",
    "\n",
    "**How to get an `int`?**\n",
    "- From `int` literals: `x = 1000`\n",
    "- From an expression that produces an `int` such as\n",
    "    - Math operations between `int`s: `500 + 200`\n",
    "    - Call a function that returns an `int`: `len(x)`\n",
    "    - Typecasting: `int(x)`\n",
    "\n",
    "**When uses `int`?**\n",
    "- Any time we need an integer\n",
    "\n",
    "**Operations on `int`**\n",
    "- Math operations\n",
    "- Comparison operations"
   ]
  },
  {
   "cell_type": "markdown",
   "id": "dd3e3c2b-6528-4751-afb3-204619b4d40d",
   "metadata": {
    "tags": []
   },
   "source": [
    "## Practice\n",
    "### Exercise 1\n",
    "\n",
    "Do the following\n",
    "- Create a variable `x` with value `100`\n",
    "- Show its value and type\n",
    "\n",
    "\n",
    "### Exercise 2\n",
    "\n",
    "Do the following\n",
    "- Create a variable `x` with value `10.5`\n",
    "- Show the value and type of `x`\n",
    "- Create a variable `y` by applying `int()` on `x`\n",
    "- Show the value and type of `y`\n",
    "\n",
    "### Exercise 3\n",
    "Gives three examples that produce an integer"
   ]
  }
 ],
 "metadata": {
  "kernelspec": {
   "display_name": "Python 3 (ipykernel)",
   "language": "python",
   "name": "python3"
  },
  "language_info": {
   "codemirror_mode": {
    "name": "ipython",
    "version": 3
   },
   "file_extension": ".py",
   "mimetype": "text/x-python",
   "name": "python",
   "nbconvert_exporter": "python",
   "pygments_lexer": "ipython3",
   "version": "3.9.12"
  }
 },
 "nbformat": 4,
 "nbformat_minor": 5
}
