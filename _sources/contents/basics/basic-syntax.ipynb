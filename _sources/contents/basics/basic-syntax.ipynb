{
 "cells": [
  {
   "cell_type": "markdown",
   "id": "9c1b74d4-2fdc-47b5-a0d9-ef74d86ccff6",
   "metadata": {},
   "source": [
    "# Python's basic syntax"
   ]
  },
  {
   "cell_type": "markdown",
   "id": "e1bdf761",
   "metadata": {},
   "source": [
    "This chapter aims to provide just some very basic syntax so that you can get started immediately. It's like when you first learn a new language. you don't dive into learning grammar right away. Instead, you learn some basic vocabulary and simple sentences. This chapter serves such a purpose. In the next chapters, you will learn Python in a more systematic way."
   ]
  },
  {
   "cell_type": "markdown",
   "id": "b79fd688-4542-45b0-92fc-88eaa4412d61",
   "metadata": {},
   "source": [
    "## Math\n",
    "\n",
    "You can use Python as a calculator to compute math expressions, for example"
   ]
  },
  {
   "cell_type": "markdown",
   "id": "c2b76833",
   "metadata": {},
   "source": [
    "Addition"
   ]
  },
  {
   "cell_type": "code",
   "execution_count": 3,
   "id": "62c25e80-29d0-40e6-9888-bdec49b64152",
   "metadata": {},
   "outputs": [
    {
     "data": {
      "text/plain": [
       "5"
      ]
     },
     "execution_count": 3,
     "metadata": {},
     "output_type": "execute_result"
    }
   ],
   "source": [
    "2 + 3"
   ]
  },
  {
   "cell_type": "markdown",
   "id": "3094fcbf",
   "metadata": {},
   "source": [
    "Subtraction"
   ]
  },
  {
   "cell_type": "code",
   "execution_count": 3,
   "id": "76023140-f3ba-488c-aad0-1dfa82f41da4",
   "metadata": {},
   "outputs": [
    {
     "data": {
      "text/plain": [
       "-1"
      ]
     },
     "execution_count": 3,
     "metadata": {},
     "output_type": "execute_result"
    }
   ],
   "source": [
    "2 - 3"
   ]
  },
  {
   "cell_type": "markdown",
   "id": "57d95a80",
   "metadata": {},
   "source": [
    "Multiplication"
   ]
  },
  {
   "cell_type": "code",
   "execution_count": 4,
   "id": "760fd0af-f02a-4384-abcc-ec1b1d504de8",
   "metadata": {},
   "outputs": [
    {
     "data": {
      "text/plain": [
       "6"
      ]
     },
     "execution_count": 4,
     "metadata": {},
     "output_type": "execute_result"
    }
   ],
   "source": [
    "2 * 3"
   ]
  },
  {
   "cell_type": "markdown",
   "id": "2ddd39f6",
   "metadata": {},
   "source": [
    "Division"
   ]
  },
  {
   "cell_type": "code",
   "execution_count": 5,
   "id": "a1e6461d-664b-4285-8de1-038ff52e0d66",
   "metadata": {},
   "outputs": [
    {
     "data": {
      "text/plain": [
       "0.6666666666666666"
      ]
     },
     "execution_count": 5,
     "metadata": {},
     "output_type": "execute_result"
    }
   ],
   "source": [
    "2 / 3"
   ]
  },
  {
   "cell_type": "markdown",
   "id": "1d32cddf",
   "metadata": {},
   "source": [
    "Integer division"
   ]
  },
  {
   "cell_type": "code",
   "execution_count": 5,
   "id": "cbddc11b-f1dc-4c19-9dac-0cc79dd7781b",
   "metadata": {},
   "outputs": [
    {
     "data": {
      "text/plain": [
       "0"
      ]
     },
     "execution_count": 5,
     "metadata": {},
     "output_type": "execute_result"
    }
   ],
   "source": [
    "2 // 3"
   ]
  },
  {
   "cell_type": "markdown",
   "id": "c90dab36",
   "metadata": {},
   "source": [
    "Modulus (get the remainder)"
   ]
  },
  {
   "cell_type": "code",
   "execution_count": 7,
   "id": "df6e002f",
   "metadata": {},
   "outputs": [
    {
     "data": {
      "text/plain": [
       "2"
      ]
     },
     "execution_count": 7,
     "metadata": {},
     "output_type": "execute_result"
    }
   ],
   "source": [
    "2 % 3"
   ]
  },
  {
   "cell_type": "markdown",
   "id": "8fd32435",
   "metadata": {},
   "source": [
    "Exponential (use `**`, not `^`)"
   ]
  },
  {
   "cell_type": "code",
   "execution_count": 8,
   "id": "83a5a9c6",
   "metadata": {},
   "outputs": [
    {
     "data": {
      "text/plain": [
       "8"
      ]
     },
     "execution_count": 8,
     "metadata": {},
     "output_type": "execute_result"
    }
   ],
   "source": [
    "2**3"
   ]
  },
  {
   "cell_type": "markdown",
   "id": "0c4f54ae",
   "metadata": {},
   "source": [
    "More complicated expressions"
   ]
  },
  {
   "cell_type": "code",
   "execution_count": 10,
   "id": "74800572",
   "metadata": {},
   "outputs": [
    {
     "data": {
      "text/plain": [
       "2653.2977051444223"
      ]
     },
     "execution_count": 10,
     "metadata": {},
     "output_type": "execute_result"
    }
   ],
   "source": [
    "1000 * (1 + 0.05)**20"
   ]
  },
  {
   "cell_type": "markdown",
   "id": "a1d42adb-fa26-4751-b047-bb4033df16de",
   "metadata": {},
   "source": [
    "## Assignments"
   ]
  },
  {
   "cell_type": "markdown",
   "id": "800038f8-b9f0-41fc-9d68-0f14a2700ac3",
   "metadata": {},
   "source": [
    "An assignment assigns a value to a variable, for example, the following assignment assigns value `1000` to variable `x` "
   ]
  },
  {
   "cell_type": "code",
   "execution_count": 12,
   "id": "bc6f1720-7c28-4d0a-a36c-cb06024991cb",
   "metadata": {},
   "outputs": [],
   "source": [
    "x = 1000"
   ]
  },
  {
   "cell_type": "markdown",
   "id": "3a88176f-17d4-4b23-b97a-49ddbd5d5283",
   "metadata": {},
   "source": [
    "You will learn more about assignments and variables in the next chapter. For now, all you need to know is that you can use the variable name to retrieve the value associated with it, for example"
   ]
  },
  {
   "cell_type": "code",
   "execution_count": 17,
   "id": "440f5731-a93f-45ef-b863-f55cf4f944bf",
   "metadata": {},
   "outputs": [
    {
     "data": {
      "text/plain": [
       "1500"
      ]
     },
     "execution_count": 17,
     "metadata": {},
     "output_type": "execute_result"
    }
   ],
   "source": [
    "x + 500"
   ]
  },
  {
   "cell_type": "markdown",
   "id": "d1453f44-2145-4bda-9d35-7b9044ba688e",
   "metadata": {},
   "source": [
    "## Literals"
   ]
  },
  {
   "cell_type": "markdown",
   "id": "9ba0670d-6190-420c-94d0-67a534e6e0e5",
   "metadata": {},
   "source": [
    "A literal is a fixed or constant value. When you see it, it is *literally* the value it represents. No additional conversion is needed, for example"
   ]
  },
  {
   "cell_type": "code",
   "execution_count": 18,
   "id": "e6b7ed7a-e220-409f-8e3f-7fd65cc3efb7",
   "metadata": {},
   "outputs": [
    {
     "data": {
      "text/plain": [
       "1000"
      ]
     },
     "execution_count": 18,
     "metadata": {},
     "output_type": "execute_result"
    }
   ],
   "source": [
    "1000"
   ]
  },
  {
   "cell_type": "code",
   "execution_count": 19,
   "id": "67466d8a-020d-4d0b-b90e-b2f5d2aa5b61",
   "metadata": {},
   "outputs": [
    {
     "data": {
      "text/plain": [
       "True"
      ]
     },
     "execution_count": 19,
     "metadata": {},
     "output_type": "execute_result"
    }
   ],
   "source": [
    "True"
   ]
  },
  {
   "cell_type": "code",
   "execution_count": 20,
   "id": "46605e0d-a8db-4de6-b3d0-25b7294e803b",
   "metadata": {},
   "outputs": [
    {
     "data": {
      "text/plain": [
       "'This is a string'"
      ]
     },
     "execution_count": 20,
     "metadata": {},
     "output_type": "execute_result"
    }
   ],
   "source": [
    "\"This is a string\""
   ]
  },
  {
   "cell_type": "markdown",
   "id": "b2f46b70-cc85-49df-a006-34e5948aeadc",
   "metadata": {},
   "source": [
    "## Expressions\n",
    "\n",
    "An expression is anything that can be evaluated as a value. It can be a combination of literals and variables, for example"
   ]
  },
  {
   "cell_type": "code",
   "execution_count": 21,
   "id": "faadfdf2-36cc-4f04-84d7-6de3d816e45d",
   "metadata": {},
   "outputs": [
    {
     "data": {
      "text/plain": [
       "300"
      ]
     },
     "execution_count": 21,
     "metadata": {},
     "output_type": "execute_result"
    }
   ],
   "source": [
    "100 + 200"
   ]
  },
  {
   "cell_type": "code",
   "execution_count": 22,
   "id": "308c1386-c8c7-428c-9cea-86cb1095d949",
   "metadata": {},
   "outputs": [
    {
     "data": {
      "text/plain": [
       "'HelloWorld'"
      ]
     },
     "execution_count": 22,
     "metadata": {},
     "output_type": "execute_result"
    }
   ],
   "source": [
    "\"Hello\" + \"World\" "
   ]
  },
  {
   "cell_type": "code",
   "execution_count": 23,
   "id": "d1c23761-bcf2-4ead-8236-e2f5365f1aa0",
   "metadata": {},
   "outputs": [
    {
     "data": {
      "text/plain": [
       "1100"
      ]
     },
     "execution_count": 23,
     "metadata": {},
     "output_type": "execute_result"
    }
   ],
   "source": [
    "x + 100"
   ]
  },
  {
   "cell_type": "markdown",
   "id": "6456a3d4-1d16-41a7-be60-caccfbaea4c5",
   "metadata": {},
   "source": [
    "## Comments\n",
    "\n",
    "Comments are used to document your code so that other people can understand what you are doing (if your code is not so obvious). *Other people* also include *future you* because it is not uncommon that you will forget what you have done after a few weeks (or even days). \n",
    "\n",
    "Comments are for *human-only* and are ignored by the interpreter. In Python, a comment starts with `#`"
   ]
  },
  {
   "cell_type": "code",
   "execution_count": 24,
   "id": "135c158f-ebb2-4cf7-a3a8-e5d55bc15bf2",
   "metadata": {
    "tags": []
   },
   "outputs": [],
   "source": [
    "# This is a single-line comment"
   ]
  },
  {
   "cell_type": "code",
   "execution_count": 41,
   "id": "9cd09ce1-9574-4d0b-b51e-5f0ee69fc417",
   "metadata": {},
   "outputs": [],
   "source": [
    "# This is also a comment\n",
    "# but it spans\n",
    "# on multiple lines"
   ]
  },
  {
   "cell_type": "markdown",
   "id": "f3253228-4782-4644-ab1c-57a874734d86",
   "metadata": {},
   "source": [
    "## Printing"
   ]
  },
  {
   "cell_type": "markdown",
   "id": "028eab09-5fe2-495a-9092-8ddb82e17c1b",
   "metadata": {},
   "source": [
    "You can use `print()` function to print out values associated with a literal, a variable, or an expression.\n",
    "\n",
    "Roughly speaking, a function takes some input (inside the parentheses), does something with the input, and spits out some output. You will learn about functions in detail later."
   ]
  },
  {
   "cell_type": "markdown",
   "id": "59784ae2-b37d-4a41-8e49-2dddb2283aa9",
   "metadata": {},
   "source": [
    "Print a number literal"
   ]
  },
  {
   "cell_type": "code",
   "execution_count": 26,
   "id": "b3206a90-c2b7-4da6-a7f7-2fcb04e96500",
   "metadata": {},
   "outputs": [
    {
     "name": "stdout",
     "output_type": "stream",
     "text": [
      "1.25\n"
     ]
    }
   ],
   "source": [
    "print(1.25)"
   ]
  },
  {
   "cell_type": "markdown",
   "id": "bc88c000-4c07-4816-9dec-ebf3b74de857",
   "metadata": {},
   "source": [
    "Print a string literal (note, you need to wrap strings in quotes, either single or double quotes)"
   ]
  },
  {
   "cell_type": "code",
   "execution_count": 27,
   "id": "985f3d05-0056-4cce-8df6-2f1173a72da8",
   "metadata": {},
   "outputs": [
    {
     "name": "stdout",
     "output_type": "stream",
     "text": [
      "Hello\n"
     ]
    }
   ],
   "source": [
    "print(\"Hello\")"
   ]
  },
  {
   "cell_type": "code",
   "execution_count": 28,
   "id": "2ddd3482-83f1-485d-bdc0-191d174cea7e",
   "metadata": {},
   "outputs": [
    {
     "name": "stdout",
     "output_type": "stream",
     "text": [
      "Nice to meet you\n"
     ]
    }
   ],
   "source": [
    "print('Nice to meet you')"
   ]
  },
  {
   "cell_type": "markdown",
   "id": "887f4a83",
   "metadata": {},
   "source": [
    "Print a variable"
   ]
  },
  {
   "cell_type": "code",
   "execution_count": 29,
   "id": "38c21d9a",
   "metadata": {},
   "outputs": [
    {
     "name": "stdout",
     "output_type": "stream",
     "text": [
      "5\n"
     ]
    }
   ],
   "source": [
    "total = 2 + 3\n",
    "print(total)"
   ]
  },
  {
   "cell_type": "markdown",
   "id": "f7946df9",
   "metadata": {},
   "source": [
    "Print an expression"
   ]
  },
  {
   "cell_type": "code",
   "execution_count": 30,
   "id": "9e75abf8-4c84-4b1d-882d-fd251fad913c",
   "metadata": {},
   "outputs": [
    {
     "name": "stdout",
     "output_type": "stream",
     "text": [
      "12\n"
     ]
    }
   ],
   "source": [
    "print(2**3 + 4)"
   ]
  },
  {
   "cell_type": "markdown",
   "id": "6c0ac5c7-3987-4859-80cd-cda47ef96c28",
   "metadata": {},
   "source": [
    "## Statements\n",
    "A statement is a complete instruction that Python can execute. It is like a full-sentence in English, for example"
   ]
  },
  {
   "cell_type": "code",
   "execution_count": 33,
   "id": "eef483c2-2cb1-42e8-b8b8-5bf6b8eb751e",
   "metadata": {},
   "outputs": [],
   "source": [
    "total = 2 + 3"
   ]
  },
  {
   "cell_type": "code",
   "execution_count": 32,
   "id": "0850a65a-fe82-41a7-9415-eefc93b29943",
   "metadata": {},
   "outputs": [
    {
     "name": "stdout",
     "output_type": "stream",
     "text": [
      "Good morning\n"
     ]
    }
   ],
   "source": [
    "print(\"Good morning\")"
   ]
  },
  {
   "cell_type": "markdown",
   "id": "124c1707-f2fc-4615-835c-1bb3d79ab371",
   "metadata": {},
   "source": [
    "However, `total = ` is not a statement. You will get an error if you try to run it."
   ]
  },
  {
   "cell_type": "markdown",
   "id": "e9e574e3-44e4-4843-94a0-119f5c46695a",
   "metadata": {},
   "source": [
    "Each statement *normally* sits on one line."
   ]
  },
  {
   "cell_type": "code",
   "execution_count": 35,
   "id": "d2691943-dfa3-4ed4-8849-5211fd754261",
   "metadata": {},
   "outputs": [
    {
     "name": "stdout",
     "output_type": "stream",
     "text": [
      "Hello\n",
      "Good morning\n"
     ]
    }
   ],
   "source": [
    "print(\"Hello\")\n",
    "print(\"Good morning\")"
   ]
  },
  {
   "cell_type": "markdown",
   "id": "5809097a-f994-44a6-b13f-46897583a36f",
   "metadata": {},
   "source": [
    "For users coming from other languages such as `C/C++`, you can end a statement with a semi-colon `;`, but you don't need to do so. In fact, you SHOULD NOT do so."
   ]
  },
  {
   "cell_type": "code",
   "execution_count": 36,
   "id": "ea2c7a54-fb97-42e2-843e-d0733ce8d145",
   "metadata": {},
   "outputs": [
    {
     "name": "stdout",
     "output_type": "stream",
     "text": [
      "Hello\n",
      "Good morning\n"
     ]
    }
   ],
   "source": [
    "# You can end a statement with ; \n",
    "# but it is not recommended\n",
    "print(\"Hello\");\n",
    "print(\"Good morning\");"
   ]
  },
  {
   "cell_type": "markdown",
   "id": "f46c4da3-4034-4b0a-b99a-2b66445caf61",
   "metadata": {},
   "source": [
    "We can also use `;` to write multiple statements on one line as in the example below"
   ]
  },
  {
   "cell_type": "code",
   "execution_count": 37,
   "id": "b02f4e44-d2e5-454e-a5e1-3ac9be65f469",
   "metadata": {},
   "outputs": [
    {
     "name": "stdout",
     "output_type": "stream",
     "text": [
      "18\n"
     ]
    }
   ],
   "source": [
    "x = 5; y = 6; z = 7\n",
    "print(x + y + z)"
   ]
  },
  {
   "cell_type": "markdown",
   "id": "9badca7d-87d8-4e23-9716-3ed6efeda1c6",
   "metadata": {},
   "source": [
    "However, this practice is discouraged because it reduces readability. It's best to keep each statement on its own line as follows"
   ]
  },
  {
   "cell_type": "code",
   "execution_count": 38,
   "id": "6048b72a-ae66-4c83-8a34-4b360463d048",
   "metadata": {},
   "outputs": [
    {
     "name": "stdout",
     "output_type": "stream",
     "text": [
      "18\n"
     ]
    }
   ],
   "source": [
    "x = 5\n",
    "y = 6\n",
    "z = 7\n",
    "\n",
    "print(x + y + z)"
   ]
  },
  {
   "cell_type": "markdown",
   "id": "4c622e15-d71b-44e4-824f-2cf50b068bb3",
   "metadata": {},
   "source": [
    "## Line continuation\n",
    "\n",
    "On some occasions, you might have to write a complex statement, and keeping everything in one line make it very ugly and hard to read. \n",
    "\n",
    "If so, you can break it into multiple (shorter) lines by putting a backslash `\\` at the end of each line. This backslash indicates that the statement will continue to the next line, for example"
   ]
  },
  {
   "cell_type": "code",
   "execution_count": 19,
   "id": "f510657f-faef-4b42-9dc2-afff54a88c06",
   "metadata": {},
   "outputs": [
    {
     "name": "stdout",
     "output_type": "stream",
     "text": [
      "45\n"
     ]
    }
   ],
   "source": [
    "x = 1 + 2 + 3 +\\\n",
    "    4 + 5 + 6 +\\\n",
    "    7 + 8 + 9\n",
    "\n",
    "print(x)"
   ]
  },
  {
   "cell_type": "markdown",
   "id": "36b07946-d052-4e5e-b20e-6d9cdf03f1e2",
   "metadata": {},
   "source": [
    "Another approach is to wrap it multi-line statement inside parentheses"
   ]
  },
  {
   "cell_type": "code",
   "execution_count": 39,
   "id": "edc96f26-d97c-464d-acaf-c5eab798ceff",
   "metadata": {},
   "outputs": [
    {
     "name": "stdout",
     "output_type": "stream",
     "text": [
      "45\n"
     ]
    }
   ],
   "source": [
    "x = (1 + 2 + 3 +\n",
    "    4 + 5 + 6 +\n",
    "    7 + 8 + 9)\n",
    "\n",
    "print(x)"
   ]
  },
  {
   "cell_type": "markdown",
   "id": "8f6bb669-76a7-43ad-a696-bccaf936896a",
   "metadata": {},
   "source": [
    "## White spaces\n",
    "\n",
    "White spaces include spaces, tabs, newlines, and blank lines. Often, whitespaces are ignored by the interpreter."
   ]
  },
  {
   "cell_type": "markdown",
   "id": "ec0ef653",
   "metadata": {},
   "source": [
    "Example 1: extra spaces don't count"
   ]
  },
  {
   "cell_type": "code",
   "execution_count": 40,
   "id": "e78b17a8-a819-40a5-a4d3-921db72bc28a",
   "metadata": {},
   "outputs": [
    {
     "name": "stdout",
     "output_type": "stream",
     "text": [
      "5\n",
      "5\n",
      "5\n"
     ]
    }
   ],
   "source": [
    "print(2+3)\n",
    "print(2 + 3)\n",
    "print(    2 +     3)"
   ]
  },
  {
   "cell_type": "markdown",
   "id": "3f41b6f3-9c15-4e60-a88d-fa7f9bde222c",
   "metadata": {},
   "source": [
    "As you can see, all three statements print out the same result. However, among them, the second line is considered to follow best practices (more on coding style guide in future lessons)"
   ]
  },
  {
   "cell_type": "markdown",
   "id": "00929b63-de78-4563-9221-a3926ee72e51",
   "metadata": {},
   "source": [
    "Example 2: new lines and blank lines don't count either"
   ]
  },
  {
   "cell_type": "code",
   "execution_count": 22,
   "id": "46ca6bc3-df3d-4739-9c17-c6a0e104e5f8",
   "metadata": {},
   "outputs": [
    {
     "name": "stdout",
     "output_type": "stream",
     "text": [
      "14\n"
     ]
    }
   ],
   "source": [
    "# Snippet 1\n",
    "x = 2 + 3\n",
    "\n",
    "\n",
    "y = 4 + 5\n",
    "\n",
    "print(x + y)"
   ]
  },
  {
   "cell_type": "code",
   "execution_count": 23,
   "id": "971be5bf-cd88-4113-a409-658dcaae3747",
   "metadata": {},
   "outputs": [
    {
     "name": "stdout",
     "output_type": "stream",
     "text": [
      "14\n"
     ]
    }
   ],
   "source": [
    "# Snippet 2\n",
    "x = 2 + 3\n",
    "y = 4 + 5\n",
    "print(x + y)"
   ]
  },
  {
   "cell_type": "markdown",
   "id": "086e39b8",
   "metadata": {},
   "source": [
    "Again, snippet 2 is better than snippet 1 in terms of coding style."
   ]
  },
  {
   "cell_type": "markdown",
   "id": "9d09f411-3b7f-4ed2-b356-12980660faab",
   "metadata": {},
   "source": [
    "## Indentation\n",
    "\n",
    "Indentation means the spaces at the beginning of each line. Unlike other languages, indentation does matter in Python. \n",
    "\n",
    "Python uses indentation to indicate a code block (similar to the use of curly brackets `{}` in other languages), and thus need to use properly.\n",
    "\n",
    "You can try to run two following snippets in your notebook and observe what happens.\n",
    "\n",
    "Snippet 1\n",
    "\n",
    "```python\n",
    "age = 30\n",
    "\n",
    "if age >= 21:\n",
    "    print(\"Congrats! You can buy vodka\")\n",
    "```\n",
    "\n",
    "And snippet 2\n",
    "```python\n",
    "age = 30\n",
    "\n",
    "if age >= 21:\n",
    "print(\"Congrats! You can buy vodka\")\n",
    "```\n",
    "\n",
    "You will learn about indentation later. For now, if there is no reason, never indent your code."
   ]
  },
  {
   "cell_type": "markdown",
   "id": "441ee0e0-8daf-4722-8cd6-7c34f26dd500",
   "metadata": {},
   "source": [
    "## Getting help\n",
    "\n",
    "If you encounter some function you don't know (or don't remember its details), you can invoke its documentation in two ways: using `?` or `help()`. They are the same, but `?` is more convenient."
   ]
  },
  {
   "cell_type": "markdown",
   "id": "089fa82f-a5b2-405d-bc2a-a9407d57b050",
   "metadata": {},
   "source": [
    "Example 1: using `?` to read documentation for `print()`"
   ]
  },
  {
   "cell_type": "code",
   "execution_count": 6,
   "id": "7347ed43-e7a8-4255-ad7a-27bb49e8687e",
   "metadata": {},
   "outputs": [
    {
     "data": {
      "text/plain": [
       "\u001b[1;31mDocstring:\u001b[0m\n",
       "print(value, ..., sep=' ', end='\\n', file=sys.stdout, flush=False)\n",
       "\n",
       "Prints the values to a stream, or to sys.stdout by default.\n",
       "Optional keyword arguments:\n",
       "file:  a file-like object (stream); defaults to the current sys.stdout.\n",
       "sep:   string inserted between values, default a space.\n",
       "end:   string appended after the last value, default a newline.\n",
       "flush: whether to forcibly flush the stream.\n",
       "\u001b[1;31mType:\u001b[0m      builtin_function_or_method\n"
      ]
     },
     "metadata": {},
     "output_type": "display_data"
    }
   ],
   "source": [
    "?print"
   ]
  },
  {
   "cell_type": "markdown",
   "id": "3470957c-93a7-40f1-be0f-74fb434151d5",
   "metadata": {},
   "source": [
    "Example 2: using `help()` to read documentation for `abs()`"
   ]
  },
  {
   "cell_type": "code",
   "execution_count": 7,
   "id": "029790b3-303c-4873-819b-8ead73d336df",
   "metadata": {},
   "outputs": [
    {
     "name": "stdout",
     "output_type": "stream",
     "text": [
      "Help on built-in function abs in module builtins:\n",
      "\n",
      "abs(x, /)\n",
      "    Return the absolute value of the argument.\n",
      "\n"
     ]
    }
   ],
   "source": [
    "help(abs)"
   ]
  }
 ],
 "metadata": {
  "kernelspec": {
   "display_name": "Python 3 (ipykernel)",
   "language": "python",
   "name": "python3"
  },
  "language_info": {
   "codemirror_mode": {
    "name": "ipython",
    "version": 3
   },
   "file_extension": ".py",
   "mimetype": "text/x-python",
   "name": "python",
   "nbconvert_exporter": "python",
   "pygments_lexer": "ipython3",
   "version": "3.9.7"
  }
 },
 "nbformat": 4,
 "nbformat_minor": 5
}
