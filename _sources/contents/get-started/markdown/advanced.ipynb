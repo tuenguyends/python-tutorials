{
 "cells": [
  {
   "cell_type": "markdown",
   "id": "0a655c68-d018-4aa6-8a79-167b14935d6f",
   "metadata": {
    "tags": [],
    "toc-hr-collapsed": true
   },
   "source": [
    "# Advanced Markdown syntax"
   ]
  },
  {
   "cell_type": "markdown",
   "id": "01a9fc97-660e-48f0-858d-5bb407424a42",
   "metadata": {},
   "source": [
    "## Blockquotes\n",
    "\n",
    "As the name suggests, block quotes are used for quotes or excerpts. You start a blockquote with `>`, for example\n",
    "\n",
    "```\n",
    "> My advice to you is to get married: if you find a good wife you’ll be happy; if not, you’ll become a philosopher (Socrates)\n",
    "```\n",
    "\n",
    "will look like this\n",
    "\n",
    "> My advice to you is to get married: if you find a good wife you’ll be happy; if not, you’ll become a philosopher (Socrates)\n",
    "    \n",
    "    \n",
    "For multi-paragraph block quotes, add a blank line between paragraphs and remember to start every line with `>` as in the following example\n",
    "\n",
    "```\n",
    "> My advice to you is to get married: if you find a good wife you’ll be happy; if not, you’ll become a philosopher (Socrates)\n",
    ">\n",
    "> Behind every great man is a woman rolling her eyes (Jim Carrey)\n",
    "```\n",
    "\n",
    "will look like this\n",
    "\n",
    "> My advice to you is to get married: if you find a good wife you’ll be happy; if not, you’ll become a philosopher (Socrates)\n",
    ">\n",
    "> Behind every great man is a woman rolling her eyes (Jim Carrey)"
   ]
  },
  {
   "cell_type": "markdown",
   "id": "96c212e9-aa4c-4824-a0ee-60519d21fe57",
   "metadata": {
    "tags": []
   },
   "source": [
    "## Images\n",
    "\n",
    "To insert an image, use the following syntax `![Caption](path_to_the_image)`. You can use an absolute or a relative path. \n",
    "\n",
    "Example\n",
    "\n",
    "```\n",
    "![Python logo](https://upload.wikimedia.org/wikipedia/commons/thumb/c/c3/Python-logo-notext.svg/242px-Python-logo-notext.svg.png)\n",
    "```\n",
    "will insert and display the following photo\n",
    "\n",
    "![Python logo](https://upload.wikimedia.org/wikipedia/commons/thumb/c/c3/Python-logo-notext.svg/242px-Python-logo-notext.svg.png)\n"
   ]
  },
  {
   "cell_type": "markdown",
   "id": "9cdb2c8b-a683-42dd-82e4-500b3b450be4",
   "metadata": {},
   "source": [
    "## Tables\n",
    "\n",
    "Here is an example of a table\n",
    "\n",
    "\n",
    "```\n",
    "| id | name       | email            |\n",
    "|----|------------|------------------|\n",
    "| 1  | John Doe   | john@gmail.com   |\n",
    "| 2  | Jane Smith | jane@hotmail.com |\n",
    "| 3  | Nam Tran   | nam@yahoo.com    |\n",
    "```\n",
    "\n",
    "\n",
    "| id | name       | email            |\n",
    "|----|------------|------------------|\n",
    "| 1  | John Doe   | john@gmail.com   |\n",
    "| 2  | Jane Smith | jane@hotmail.com |\n",
    "| 3  | Nam Nguyen | nam@yahoo.com    |\n",
    "\n",
    "However, my advice is not to type tables by yourself. Go to some website that offers a free Markdown table generator such as this one https://www.tablesgenerator.com/markdown_tables"
   ]
  },
  {
   "cell_type": "markdown",
   "id": "cc1565ba-c4a4-40ea-9382-bdae1ad8ae2f",
   "metadata": {},
   "source": [
    "## Emails\n",
    "\n",
    "Put your email inside `<>` and when someone clicks on the link, the default email app will be launched. \n",
    "\n",
    "Example\n",
    "\n",
    "```\n",
    "<pythonisfun@example.com>\n",
    "\n",
    "```\n",
    "\n",
    "will become this\n",
    "\n",
    "<pythonisfun@example.com>"
   ]
  },
  {
   "cell_type": "markdown",
   "id": "cd32aeb8-08e7-43a1-bb44-f4138b231eb4",
   "metadata": {},
   "source": [
    "## HTML\n",
    "\n",
    "You can also use HTML tags inside a Markdown file, and they will be parsed according to HTML rules\n",
    "\n",
    "Try the following example in your notebook\n",
    "\n",
    "```html\n",
    "<div>\n",
    "    <p>This is a paragraph</p>\n",
    "    <p>Next one will be an unordered list</p>\n",
    "    <ul>\n",
    "        <li>item 1</li>\n",
    "        <li><b>item 1 in bold</b></li>\n",
    "        <li><span style=\"color: red;\">item 3 in red</span></li>\n",
    "    </ul>\n",
    "</div>\n",
    "```"
   ]
  }
 ],
 "metadata": {
  "kernelspec": {
   "display_name": "Python 3 (ipykernel)",
   "language": "python",
   "name": "python3"
  },
  "language_info": {
   "codemirror_mode": {
    "name": "ipython",
    "version": 3
   },
   "file_extension": ".py",
   "mimetype": "text/x-python",
   "name": "python",
   "nbconvert_exporter": "python",
   "pygments_lexer": "ipython3",
   "version": "3.9.7"
  }
 },
 "nbformat": 4,
 "nbformat_minor": 5
}
