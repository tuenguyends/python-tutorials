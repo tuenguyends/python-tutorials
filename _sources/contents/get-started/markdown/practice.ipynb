{
 "cells": [
  {
   "cell_type": "markdown",
   "id": "1a9fb25a-3660-42ea-b3c7-81cf7a50ec44",
   "metadata": {},
   "source": [
    "# Practice"
   ]
  },
  {
   "cell_type": "markdown",
   "id": "af345bf7-caff-4b4c-989d-f6b1f1d981c6",
   "metadata": {},
   "source": [
    "TBU"
   ]
  }
 ],
 "metadata": {
  "kernelspec": {
   "display_name": "Python 3 (ipykernel)",
   "language": "python",
   "name": "python3"
  },
  "language_info": {
   "codemirror_mode": {
    "name": "ipython",
    "version": 3
   },
   "file_extension": ".py",
   "mimetype": "text/x-python",
   "name": "python",
   "nbconvert_exporter": "python",
   "pygments_lexer": "ipython3",
   "version": "3.9.7"
  }
 },
 "nbformat": 4,
 "nbformat_minor": 5
}
