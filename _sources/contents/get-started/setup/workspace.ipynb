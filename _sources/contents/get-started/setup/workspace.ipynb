{
 "cells": [
  {
   "cell_type": "markdown",
   "id": "70f57194-a12a-47f4-8c32-10e48a43bc50",
   "metadata": {},
   "source": [
    "# Create a workspace\n",
    "\n",
    "A **workspace** is just a folder/directory on your computer where you host stuff for a given project such as code files, data, output, documentation, etc. The workspace is sometimes called the **root** directory.\n",
    " \n",
    "Often, you will work on multiple projects, so it's best to have a parent folder for them, for example, `D:/ds_projects/`.\n",
    "\n",
    "\n",
    "Now go inside `D:/ds_projects/` and create a folder named `example/`, then go inside `example/` and create several sub-folders following the structure below.\n",
    "\n",
    "```\n",
    "example/\n",
    "    |____ data/\n",
    "    |____ nb/\n",
    "    |____ lib/\n",
    "    |____ out/\n",
    "    |____ docs/\n",
    "```\n",
    "\n",
    "Here, `data/` is for your data files. `nb/` is for your analytics notebooks. `lib/` is for your custom modules. `out/` is for output such as exported Excel files or graphs. `docs/` is for related documents.\n",
    "\n",
    "For simplicity, you only need the `nb/` folder in this tutorial. However, the structure suggested above is a good guideline for you when working on more complex projects in the future."
   ]
  }
 ],
 "metadata": {
  "kernelspec": {
   "display_name": "Python 3 (ipykernel)",
   "language": "python",
   "name": "python3"
  },
  "language_info": {
   "codemirror_mode": {
    "name": "ipython",
    "version": 3
   },
   "file_extension": ".py",
   "mimetype": "text/x-python",
   "name": "python",
   "nbconvert_exporter": "python",
   "pygments_lexer": "ipython3",
   "version": "3.9.7"
  }
 },
 "nbformat": 4,
 "nbformat_minor": 5
}
