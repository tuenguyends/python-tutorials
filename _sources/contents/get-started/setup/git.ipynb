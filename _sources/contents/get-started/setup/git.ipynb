{
 "cells": [
  {
   "cell_type": "markdown",
   "id": "b5ced665-a59d-4a6f-93c2-e94ed1d7cb14",
   "metadata": {},
   "source": [
    "# Git"
   ]
  },
  {
   "cell_type": "markdown",
   "id": "ca6e8801-fd20-44c7-8fff-83acf175e204",
   "metadata": {},
   "source": [
    "## What is Git?\n",
    "\n",
    "Git is a version control system used to track modifications to a source code repository. However, it's not the reason we install it here. We install Git to get Git Bash, a great command-line app that makes launching Jupyter Lab much easier.\n",
    "\n",
    "**Note** that only Windows users need to download and install Git. macOS and Linux have great native command-line apps already."
   ]
  },
  {
   "cell_type": "markdown",
   "id": "3870fb13-73fa-4544-b57a-73dbe78b84ba",
   "metadata": {},
   "source": [
    "## Download Git\n",
    "\n",
    "You can download Git at: https://git-scm.com, and of course, use Google if the domain has changed."
   ]
  },
  {
   "cell_type": "markdown",
   "id": "293714d5-3ecd-49cf-b5ff-9778716f0a23",
   "metadata": {},
   "source": [
    "## Install Git\n",
    "\n",
    "Just follow the instructions and accept all default options. No special modification is needed."
   ]
  }
 ],
 "metadata": {
  "kernelspec": {
   "display_name": "Python 3 (ipykernel)",
   "language": "python",
   "name": "python3"
  },
  "language_info": {
   "codemirror_mode": {
    "name": "ipython",
    "version": 3
   },
   "file_extension": ".py",
   "mimetype": "text/x-python",
   "name": "python",
   "nbconvert_exporter": "python",
   "pygments_lexer": "ipython3",
   "version": "3.9.7"
  }
 },
 "nbformat": 4,
 "nbformat_minor": 5
}
