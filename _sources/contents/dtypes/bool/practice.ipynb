{
 "cells": [
  {
   "cell_type": "markdown",
   "id": "810b6a70-be68-4cac-80ad-665ae36ab00d",
   "metadata": {},
   "source": [
    "# Practice"
   ]
  },
  {
   "cell_type": "markdown",
   "id": "0e326a85-bb65-47e7-a944-1e03a94fa78a",
   "metadata": {},
   "source": [
    "## Ex 1\n",
    "\n",
    "Do the following\n",
    "\n",
    "- Initialize a variable `x` with value `True`\n",
    "- Print the value associated with `x`\n",
    "- Print the data type of `x`\n",
    "\n",
    "## Ex 2\n",
    "\n",
    "Do the following\n",
    "\n",
    "- Initialize a variable `x` with value `10`\n",
    "- Initialize a variable `y` with a value from a comparison that checks whether `x` is greater than `5` or not\n",
    "- Print the value associated with `y`\n",
    "- Print the data type of `y`\n",
    "\n",
    "## Ex 3\n",
    "\n",
    "Do the following\n",
    "\n",
    "- Initialize a variable `x` with value `True`\n",
    "- Initialize a variable `y` with value `100`\n",
    "- Check if `x` is of type `bool` (Hint: type `?isinstance` to see how you can use it)\n",
    "- Similarly, check if `y` is of type `bool`\n",
    "\n",
    "## Ex 4\n",
    "\n",
    "Do the following\n",
    "\n",
    "- Initialize a variable `x` with value `7`\n",
    "- Check if `x` is greater than or equal to `5`. If true, print `\"Above average\"`. Otherwise, print `\"Below average\"`.\n",
    "\n",
    "## Ex 5\n",
    "\n",
    "Replicate Ex 4, but this time, use `not`\n",
    "\n",
    "## Ex 6\n",
    "Give three typecasting examples that produce `True` and three others that produce `False`.\n",
    "\n",
    "## Ex 7\n",
    "\n",
    "Do the following\n",
    "\n",
    "- Initialize a variable `x` with an arbitrary value\n",
    "- If `x` is even, print `\"Even\"`. Otherwise, print `\"Odd\"`\n",
    "- Try your code with different values of `x`\n",
    "\n",
    "## Ex 8\n",
    "\n",
    "Do the following\n",
    "\n",
    "- Replicate Ex 7, but this time assign `5.5` to `x`\n",
    "- What happens?\n",
    "- What is your opinion?"
   ]
  }
 ],
 "metadata": {
  "kernelspec": {
   "display_name": "Python 3 (ipykernel)",
   "language": "python",
   "name": "python3"
  },
  "language_info": {
   "codemirror_mode": {
    "name": "ipython",
    "version": 3
   },
   "file_extension": ".py",
   "mimetype": "text/x-python",
   "name": "python",
   "nbconvert_exporter": "python",
   "pygments_lexer": "ipython3",
   "version": "3.9.7"
  }
 },
 "nbformat": 4,
 "nbformat_minor": 5
}
