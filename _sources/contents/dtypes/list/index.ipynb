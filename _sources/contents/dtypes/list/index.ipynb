{
 "cells": [
  {
   "cell_type": "markdown",
   "metadata": {
    "tags": []
   },
   "source": [
    "# Index a list"
   ]
  },
  {
   "cell_type": "markdown",
   "metadata": {
    "toc-hr-collapsed": true
   },
   "source": [
    "Indexing a list means accessing one single element of a list. There are two type of indexing\n",
    "\n",
    "1. Indexing (read): access an element, read its value, but does not modify it\n",
    "1. Indexing (write): access an element, then modify it"
   ]
  },
  {
   "cell_type": "markdown",
   "metadata": {},
   "source": [
    "## Indexing - read\n",
    "\n",
    "First, let's initialize a list `x` with five elements `1, 2, 3, 4, 5`."
   ]
  },
  {
   "cell_type": "code",
   "execution_count": 1,
   "metadata": {},
   "outputs": [],
   "source": [
    "x = [1, 2, 3, 4, 5]"
   ]
  },
  {
   "cell_type": "markdown",
   "metadata": {},
   "source": [
    "We can index a list by counting from left to right (using positive index).\n",
    "\n",
    "- `0` means the 1st position\n",
    "- `2` means the 3rd position\n",
    "- `4` means the 5th position"
   ]
  },
  {
   "cell_type": "code",
   "execution_count": 2,
   "metadata": {},
   "outputs": [
    {
     "data": {
      "text/plain": [
       "1"
      ]
     },
     "execution_count": 2,
     "metadata": {},
     "output_type": "execute_result"
    }
   ],
   "source": [
    "# 1st element\n",
    "x[0]"
   ]
  },
  {
   "cell_type": "code",
   "execution_count": 3,
   "metadata": {},
   "outputs": [
    {
     "data": {
      "text/plain": [
       "3"
      ]
     },
     "execution_count": 3,
     "metadata": {},
     "output_type": "execute_result"
    }
   ],
   "source": [
    "# 3rd element\n",
    "x[2]"
   ]
  },
  {
   "cell_type": "code",
   "execution_count": 4,
   "metadata": {},
   "outputs": [
    {
     "data": {
      "text/plain": [
       "5"
      ]
     },
     "execution_count": 4,
     "metadata": {},
     "output_type": "execute_result"
    }
   ],
   "source": [
    "# Last element\n",
    "x[4]"
   ]
  },
  {
   "cell_type": "markdown",
   "metadata": {},
   "source": [
    "We can also index a list by counting from the right to left (using negative index)\n",
    "\n",
    "- `-1` means the last position\n",
    "- `-2` means the second-to-last position"
   ]
  },
  {
   "cell_type": "code",
   "execution_count": 5,
   "metadata": {},
   "outputs": [
    {
     "data": {
      "text/plain": [
       "5"
      ]
     },
     "execution_count": 5,
     "metadata": {},
     "output_type": "execute_result"
    }
   ],
   "source": [
    "# Last element\n",
    "x[-1]"
   ]
  },
  {
   "cell_type": "code",
   "execution_count": 6,
   "metadata": {},
   "outputs": [
    {
     "data": {
      "text/plain": [
       "4"
      ]
     },
     "execution_count": 6,
     "metadata": {},
     "output_type": "execute_result"
    }
   ],
   "source": [
    "# 2nd-to-last element\n",
    "x[-2]"
   ]
  },
  {
   "cell_type": "markdown",
   "metadata": {},
   "source": [
    "If we try to access outside the range of a list, we will get a `list index out of range` error. For example, try it yourself with `x[5]` (index the 6th element while the list `x` only has 5 elements)"
   ]
  },
  {
   "cell_type": "markdown",
   "metadata": {},
   "source": [
    "## Indexing - write\n",
    "Sometimes we might want to access an element of a list and change change it to a different value. We can do it through indexing and assignment."
   ]
  },
  {
   "cell_type": "code",
   "execution_count": 7,
   "metadata": {},
   "outputs": [
    {
     "name": "stdout",
     "output_type": "stream",
     "text": [
      "[1, 2, 3, 4, 5]\n"
     ]
    }
   ],
   "source": [
    "# First, intialize a list\n",
    "x = [1, 2, 3, 4, 5]\n",
    "print(x)"
   ]
  },
  {
   "cell_type": "code",
   "execution_count": 8,
   "metadata": {},
   "outputs": [
    {
     "name": "stdout",
     "output_type": "stream",
     "text": [
      "[1, 2, 99, 4, 5]\n"
     ]
    }
   ],
   "source": [
    "# Change the third element to 99\n",
    "x[2] = 99\n",
    "print(x)"
   ]
  },
  {
   "cell_type": "code",
   "execution_count": 9,
   "metadata": {},
   "outputs": [
    {
     "name": "stdout",
     "output_type": "stream",
     "text": [
      "[1, 2, 99, 4, 'Hello']\n"
     ]
    }
   ],
   "source": [
    "# Change the last element to \"Hello\"\n",
    "x[-1] = \"Hello\"\n",
    "print(x)"
   ]
  },
  {
   "cell_type": "code",
   "execution_count": 10,
   "metadata": {},
   "outputs": [
    {
     "name": "stdout",
     "output_type": "stream",
     "text": [
      "[1, 2, [40, 50], 4, 'Hello']\n"
     ]
    }
   ],
   "source": [
    "# Change the third element (again) to [40, 50]\n",
    "x[2] = [40, 50]\n",
    "print(x)"
   ]
  },
  {
   "cell_type": "markdown",
   "metadata": {},
   "source": [
    "Besides indexing an element and modifying it, we can also delete it from the list using `del` (short for \"delete\")."
   ]
  },
  {
   "cell_type": "code",
   "execution_count": 11,
   "metadata": {},
   "outputs": [
    {
     "name": "stdout",
     "output_type": "stream",
     "text": [
      "[1, 2, [40, 50], 4]\n"
     ]
    }
   ],
   "source": [
    "# Delete the last element\n",
    "del x[-1]\n",
    "print(x)"
   ]
  },
  {
   "cell_type": "markdown",
   "metadata": {},
   "source": [
    "Note: be careful when using del to delete multiple elements because after each `del`, the list is shorter by one element. So you need to adjust the counting accordingly. Let's see an example."
   ]
  },
  {
   "cell_type": "code",
   "execution_count": 12,
   "metadata": {},
   "outputs": [
    {
     "name": "stdout",
     "output_type": "stream",
     "text": [
      "[2, [40, 50]]\n"
     ]
    }
   ],
   "source": [
    "# Here you are trying to delete the 1st and 3rd elements\n",
    "# i.e., element 1 and [40, 50]\n",
    "# But after 1st element is deleted, \n",
    "# the original 3rd element now becomes 2nd element\n",
    "# so you end up deleting 4 instead of [40, 50]\n",
    "del x[0], x[2]\n",
    "print(x)"
   ]
  }
 ],
 "metadata": {
  "kernelspec": {
   "display_name": "Python 3 (ipykernel)",
   "language": "python",
   "name": "python3"
  },
  "language_info": {
   "codemirror_mode": {
    "name": "ipython",
    "version": 3
   },
   "file_extension": ".py",
   "mimetype": "text/x-python",
   "name": "python",
   "nbconvert_exporter": "python",
   "pygments_lexer": "ipython3",
   "version": "3.9.7"
  }
 },
 "nbformat": 4,
 "nbformat_minor": 4
}
