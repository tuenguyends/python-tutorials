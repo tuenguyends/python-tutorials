{
 "cells": [
  {
   "cell_type": "markdown",
   "metadata": {},
   "source": [
    "# Iterate through a list"
   ]
  },
  {
   "cell_type": "markdown",
   "metadata": {},
   "source": [
    "## Basic for loops\n",
    "We use a `for` loop to iterate through the elements of a list (`for` loop will be discussed in detail in the *control flows* chapter)"
   ]
  },
  {
   "cell_type": "code",
   "execution_count": 323,
   "metadata": {},
   "outputs": [
    {
     "name": "stdout",
     "output_type": "stream",
     "text": [
      "[1, 2, 3, 4, 5]\n"
     ]
    }
   ],
   "source": [
    "# First, initiate a list\n",
    "x = [1, 2, 3, 4, 5]\n",
    "print(x)"
   ]
  },
  {
   "cell_type": "markdown",
   "metadata": {},
   "source": [
    "Now, iterate through each element and print out its squares."
   ]
  },
  {
   "cell_type": "code",
   "execution_count": 108,
   "metadata": {},
   "outputs": [
    {
     "name": "stdout",
     "output_type": "stream",
     "text": [
      "1\n",
      "4\n",
      "9\n",
      "16\n",
      "25\n"
     ]
    }
   ],
   "source": [
    "for e in x:\n",
    "    print(e**2)"
   ]
  },
  {
   "cell_type": "markdown",
   "metadata": {},
   "source": [
    "Here is what happened under the hood\n",
    "\n",
    "- In the first iteration, `e` was assigned the first element of `x`. Thus, `print(e**2)` printed out `1`.\n",
    "\n",
    "- Python noticed that it had not reached the end of the list, so it move to the next iteration. This time, `e` was assigned the second element of `x`, which was `2`. Thus, `print(e**2)` printed out `4`.\n",
    "\n",
    "- The logic happened again and again until Python finished the fifth iteration. This time, it noticed that it already reached the end of the list, and the loop ended."
   ]
  },
  {
   "cell_type": "markdown",
   "metadata": {},
   "source": [
    "## Notes on indentation"
   ]
  },
  {
   "cell_type": "markdown",
   "metadata": {},
   "source": [
    "Notice the **indentation** in the above example. `print(e**2)` is *indented in* (indented to the right) one TAB. This indentation indicate that the indented block of code lie *inside* (not parallel to) the `for` loop. Thus, it will be executed in each iteration.\n",
    "\n",
    "Consider the two following examples."
   ]
  },
  {
   "cell_type": "code",
   "execution_count": 119,
   "metadata": {},
   "outputs": [
    {
     "name": "stdout",
     "output_type": "stream",
     "text": [
      "1\n",
      "4\n",
      "9\n",
      "16\n",
      "25\n"
     ]
    }
   ],
   "source": [
    "# Ex 1\n",
    "for e in x:\n",
    "    squared = e**2\n",
    "    print(squared)"
   ]
  },
  {
   "cell_type": "code",
   "execution_count": 121,
   "metadata": {},
   "outputs": [
    {
     "name": "stdout",
     "output_type": "stream",
     "text": [
      "25\n"
     ]
    }
   ],
   "source": [
    "# Ex 2\n",
    "for e in x:\n",
    "    squared = e**2\n",
    "print(squared)"
   ]
  },
  {
   "cell_type": "markdown",
   "metadata": {},
   "source": [
    "In Ex 1, both the assignment and print statement are executed 5 times (in 5 iterations). \n",
    "\n",
    "However, in Ex 2, only the assignment is executed 5 times (because it is inside the loop). The print statement is only excuted after the loop is done. And `squared` takes the value `25` from the last iteration, you see `25` printed out."
   ]
  },
  {
   "cell_type": "markdown",
   "metadata": {},
   "source": [
    "## Notes on temporary variables"
   ]
  },
  {
   "cell_type": "markdown",
   "metadata": {},
   "source": [
    "You should think of `e` as an temporary variable to get access to each element of the list `x`. Thus, you can use whatever name you want such as `i`, `j`, `element`. \n",
    "\n",
    "However, remember to use the same name in the statements within the `for` loop. Consider the following example."
   ]
  },
  {
   "cell_type": "code",
   "execution_count": 109,
   "metadata": {},
   "outputs": [
    {
     "name": "stdout",
     "output_type": "stream",
     "text": [
      "25\n",
      "25\n",
      "25\n",
      "25\n",
      "25\n"
     ]
    }
   ],
   "source": [
    "for i in x:\n",
    "    print(e**2)"
   ]
  },
  {
   "cell_type": "markdown",
   "metadata": {},
   "source": [
    "Here, Python iterated through all five element of `x`, and in each iteration, `i` is indeed take the value of the corresponding element of `x`. However, you mistakenly use `e**2` not `i**2` inside `print()`. And from the last example, when the loop finished, `e` assumed the last value of `x`, which was `5`. That's why in this example, you see `25` was printed out five times.\n",
    "\n",
    "Now, change `e` inside `print()` to `i` and you will see everything works correctly."
   ]
  },
  {
   "cell_type": "code",
   "execution_count": 110,
   "metadata": {},
   "outputs": [
    {
     "name": "stdout",
     "output_type": "stream",
     "text": [
      "1\n",
      "4\n",
      "9\n",
      "16\n",
      "25\n"
     ]
    }
   ],
   "source": [
    "for i in x:\n",
    "    print(i**2)"
   ]
  },
  {
   "cell_type": "markdown",
   "metadata": {},
   "source": [
    "## Some more examples\n",
    "Let's do some more examples with lists using `for` loops."
   ]
  },
  {
   "cell_type": "markdown",
   "metadata": {},
   "source": [
    "**Ex 1**: print out the following text\n",
    "\n",
    "```\n",
    "1 squared = 1\n",
    "2 squared = 4\n",
    "...\n",
    "10 squared = 100\n",
    "```"
   ]
  },
  {
   "cell_type": "code",
   "execution_count": 111,
   "metadata": {
    "scrolled": true
   },
   "outputs": [
    {
     "name": "stdout",
     "output_type": "stream",
     "text": [
      "1 squared = 1\n",
      "2 squared = 4\n",
      "3 squared = 9\n",
      "4 squared = 16\n",
      "5 squared = 25\n",
      "6 squared = 36\n",
      "7 squared = 49\n",
      "8 squared = 64\n",
      "9 squared = 81\n",
      "10 squared = 100\n"
     ]
    }
   ],
   "source": [
    "x = [1, 2, 3, 4, 5, 6, 7, 8, 9, 10]\n",
    "\n",
    "for e in x:\n",
    "    print(f\"{e} squared = {e**2}\")"
   ]
  },
  {
   "cell_type": "markdown",
   "metadata": {},
   "source": [
    "**Example 2**: \n",
    "\n",
    "Create a list `x = [1, 2, -7, 8, -9, -4, 10, 30]` and then\n",
    "\n",
    "- Print out only positive values of `x`\n",
    "- Print out only even values of `x`\n",
    "- Print out only positive and even values of `x`"
   ]
  },
  {
   "cell_type": "code",
   "execution_count": 112,
   "metadata": {},
   "outputs": [
    {
     "name": "stdout",
     "output_type": "stream",
     "text": [
      "[1, 2, -7, 8, -9, -4, 10, 30]\n"
     ]
    }
   ],
   "source": [
    "# Intiate a list\n",
    "x = [1, 2, -7, 8, -9, -4, 10, 30]\n",
    "print(x)"
   ]
  },
  {
   "cell_type": "markdown",
   "metadata": {},
   "source": [
    "a) Print out positive values\n",
    "\n",
    "- We loop through each element of `x`\n",
    "- At each iteration, check if the element is greater than 0\n",
    "- If yes (`True`), print the element\n",
    "- If no (`False`), do nothing"
   ]
  },
  {
   "cell_type": "code",
   "execution_count": 113,
   "metadata": {},
   "outputs": [
    {
     "name": "stdout",
     "output_type": "stream",
     "text": [
      "1\n",
      "2\n",
      "8\n",
      "10\n",
      "30\n"
     ]
    }
   ],
   "source": [
    "for e in x:\n",
    "    if e > 0:\n",
    "        print(e)"
   ]
  },
  {
   "cell_type": "markdown",
   "metadata": {},
   "source": [
    "b) Print out even values\n",
    "\n",
    "- We loop through each element of `x`\n",
    "- At each iteration, check if the element is divisible by `2`\n",
    "- If yes (`True`), print the element\n",
    "- If no (`False`), do nothing"
   ]
  },
  {
   "cell_type": "code",
   "execution_count": 115,
   "metadata": {},
   "outputs": [
    {
     "name": "stdout",
     "output_type": "stream",
     "text": [
      "2\n",
      "8\n",
      "-4\n",
      "10\n",
      "30\n"
     ]
    }
   ],
   "source": [
    "for e in x:\n",
    "    if e % 2 == 0:\n",
    "        print(e)"
   ]
  },
  {
   "cell_type": "markdown",
   "metadata": {},
   "source": [
    "c) Print out only positive and even values\n",
    "\n",
    "- Combine condition in a) and b) using `and`"
   ]
  },
  {
   "cell_type": "code",
   "execution_count": 116,
   "metadata": {},
   "outputs": [
    {
     "name": "stdout",
     "output_type": "stream",
     "text": [
      "2\n",
      "8\n",
      "10\n",
      "30\n"
     ]
    }
   ],
   "source": [
    "for e in x:\n",
    "    if (e > 0) and (e % 2 == 0):\n",
    "        print(e)"
   ]
  },
  {
   "cell_type": "markdown",
   "metadata": {},
   "source": [
    "**Example 3:** Count the number of students who passed from the list of scores `[1, 2, 7, 9, 10, 10, 3, 4, 8]` (assume that passing mean score `>=4`)"
   ]
  },
  {
   "cell_type": "code",
   "execution_count": 125,
   "metadata": {},
   "outputs": [
    {
     "name": "stdout",
     "output_type": "stream",
     "text": [
      "6\n"
     ]
    }
   ],
   "source": [
    "# Initialize scores list\n",
    "scores = [1, 2, 7, 9, 10, 10, 3, 4, 8]\n",
    "\n",
    "# Initialize the number of students who passed\n",
    "num_passed = 0\n",
    "\n",
    "for s in scores:\n",
    "    if s >= 4:\n",
    "        # If we find a pass\n",
    "        # then increase num_passed by 1\n",
    "        num_passed = num_passed + 1\n",
    "        \n",
    "# After the loop is done,\n",
    "# let's check how many passes we have counted\n",
    "print(num_passed)"
   ]
  }
 ],
 "metadata": {
  "kernelspec": {
   "display_name": "Python 3 (ipykernel)",
   "language": "python",
   "name": "python3"
  },
  "language_info": {
   "codemirror_mode": {
    "name": "ipython",
    "version": 3
   },
   "file_extension": ".py",
   "mimetype": "text/x-python",
   "name": "python",
   "nbconvert_exporter": "python",
   "pygments_lexer": "ipython3",
   "version": "3.9.7"
  }
 },
 "nbformat": 4,
 "nbformat_minor": 4
}
