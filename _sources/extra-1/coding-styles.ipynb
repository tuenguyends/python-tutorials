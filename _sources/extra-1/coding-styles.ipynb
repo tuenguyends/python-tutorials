{
 "cells": [
  {
   "cell_type": "markdown",
   "id": "45ca56d4-73f6-49e8-b1e4-9fcebe8ad843",
   "metadata": {},
   "source": [
    "# Coding styles"
   ]
  },
  {
   "cell_type": "markdown",
   "id": "1bf08084-333f-46bf-9a78-51551271947e",
   "metadata": {},
   "source": [
    "To be updated"
   ]
  }
 ],
 "metadata": {
  "kernelspec": {
   "display_name": "Python 3 (ipykernel)",
   "language": "python",
   "name": "python3"
  },
  "language_info": {
   "codemirror_mode": {
    "name": "ipython",
    "version": 3
   },
   "file_extension": ".py",
   "mimetype": "text/x-python",
   "name": "python",
   "nbconvert_exporter": "python",
   "pygments_lexer": "ipython3",
   "version": "3.9.7"
  }
 },
 "nbformat": 4,
 "nbformat_minor": 5
}
