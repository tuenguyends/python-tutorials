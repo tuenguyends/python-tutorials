{
 "cells": [
  {
   "cell_type": "markdown",
   "id": "eedaa7e6-ce80-4469-9ca9-2a8deac84d1f",
   "metadata": {},
   "source": [
    "# Variables and assignments"
   ]
  },
  {
   "cell_type": "markdown",
   "id": "d31fa96e-79c3-4053-811f-4c1f065ad25b",
   "metadata": {},
   "source": [
    "To be updated shortly"
   ]
  }
 ],
 "metadata": {
  "kernelspec": {
   "display_name": "Python 3 (ipykernel)",
   "language": "python",
   "name": "python3"
  },
  "language_info": {
   "codemirror_mode": {
    "name": "ipython",
    "version": 3
   },
   "file_extension": ".py",
   "mimetype": "text/x-python",
   "name": "python",
   "nbconvert_exporter": "python",
   "pygments_lexer": "ipython3",
   "version": "3.9.7"
  }
 },
 "nbformat": 4,
 "nbformat_minor": 5
}
