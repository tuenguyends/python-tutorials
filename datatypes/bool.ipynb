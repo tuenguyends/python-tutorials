{
 "cells": [
  {
   "cell_type": "markdown",
   "id": "772bd7c2-48db-49f7-875a-4d23c7342d76",
   "metadata": {},
   "source": [
    "# Truth values"
   ]
  },
  {
   "cell_type": "markdown",
   "id": "1efbfa8e-6a70-4439-9c0d-1f5550f38e7f",
   "metadata": {},
   "source": [
    "## Overview\n",
    "\n",
    "Python uses `bool` to represent truth values. There are only two truth values: `True` and `False`. Remember that Python is case-sensitive, so using `true` or `false` will produce an error.\n",
    "\n",
    "To create a `bool` variable, simply assign `True` or `False` to it."
   ]
  },
  {
   "cell_type": "code",
   "execution_count": 40,
   "id": "f9c16201-11ce-4d00-820d-9b0e29aa8254",
   "metadata": {},
   "outputs": [],
   "source": [
    "# Initialize two bool variables\n",
    "x = True\n",
    "y = False"
   ]
  },
  {
   "cell_type": "code",
   "execution_count": 3,
   "id": "839864a3-fe62-4dac-8e51-ae5f9a10ff5b",
   "metadata": {},
   "outputs": [
    {
     "name": "stdout",
     "output_type": "stream",
     "text": [
      "<class 'bool'>\n",
      "<class 'bool'>\n"
     ]
    }
   ],
   "source": [
    "# Check there type\n",
    "print(type(x))\n",
    "print(type(y))"
   ]
  },
  {
   "cell_type": "markdown",
   "id": "5ea5c8c7-b7c4-4b55-94c0-b37c04709102",
   "metadata": {},
   "source": [
    "You can also create a `bool` variable by assigning to it an expression that produces a `bool` value (normally through comparison)."
   ]
  },
  {
   "cell_type": "markdown",
   "id": "c68148ae-274f-43e2-82a4-63a1ba594d51",
   "metadata": {},
   "source": [
    "Examples"
   ]
  },
  {
   "cell_type": "code",
   "execution_count": 2,
   "id": "a69d2982-85e9-4cee-913f-330024f7b05a",
   "metadata": {},
   "outputs": [],
   "source": [
    "# Initalize two variable\n",
    "x = 1000\n",
    "y = 2000"
   ]
  },
  {
   "cell_type": "code",
   "execution_count": 3,
   "id": "87e759a5-12a4-4522-bbf2-0cc0bb282299",
   "metadata": {},
   "outputs": [
    {
     "data": {
      "text/plain": [
       "False"
      ]
     },
     "execution_count": 3,
     "metadata": {},
     "output_type": "execute_result"
    }
   ],
   "source": [
    "# Value-equality comparison\n",
    "x == y"
   ]
  },
  {
   "cell_type": "code",
   "execution_count": 4,
   "id": "285a1355-9a87-4404-a6f3-a83c7bd3bd48",
   "metadata": {},
   "outputs": [
    {
     "data": {
      "text/plain": [
       "True"
      ]
     },
     "execution_count": 4,
     "metadata": {},
     "output_type": "execute_result"
    }
   ],
   "source": [
    "# Value-inequality comparison\n",
    "x != y"
   ]
  },
  {
   "cell_type": "code",
   "execution_count": 5,
   "id": "fae81243-33ea-4f2c-95ed-4cfad97bcb8d",
   "metadata": {},
   "outputs": [
    {
     "data": {
      "text/plain": [
       "True"
      ]
     },
     "execution_count": 5,
     "metadata": {},
     "output_type": "execute_result"
    }
   ],
   "source": [
    "# Another way is to negate == with not\n",
    "not(x == y)"
   ]
  },
  {
   "cell_type": "code",
   "execution_count": 6,
   "id": "d2711410-37d3-43a6-ac5f-fffb2ff09ef2",
   "metadata": {},
   "outputs": [
    {
     "data": {
      "text/plain": [
       "False"
      ]
     },
     "execution_count": 6,
     "metadata": {},
     "output_type": "execute_result"
    }
   ],
   "source": [
    "# ID-equality comparison\n",
    "x is y"
   ]
  },
  {
   "cell_type": "code",
   "execution_count": 8,
   "id": "1588e8f6-215e-4915-9cbb-860df8f17ee8",
   "metadata": {},
   "outputs": [
    {
     "data": {
      "text/plain": [
       "True"
      ]
     },
     "execution_count": 8,
     "metadata": {},
     "output_type": "execute_result"
    }
   ],
   "source": [
    "# ID-inequality comparison\n",
    "x is not y"
   ]
  },
  {
   "cell_type": "code",
   "execution_count": 9,
   "id": "36a89f39-9f21-4dfb-b05f-c03e866390b5",
   "metadata": {},
   "outputs": [
    {
     "data": {
      "text/plain": [
       "False"
      ]
     },
     "execution_count": 9,
     "metadata": {},
     "output_type": "execute_result"
    }
   ],
   "source": [
    "# Greater than\n",
    "x > y"
   ]
  },
  {
   "cell_type": "code",
   "execution_count": 11,
   "id": "41efdc92-85a1-4527-a7ee-2bbb8e6aa7d0",
   "metadata": {},
   "outputs": [
    {
     "data": {
      "text/plain": [
       "False"
      ]
     },
     "execution_count": 11,
     "metadata": {},
     "output_type": "execute_result"
    }
   ],
   "source": [
    "# Greater than or equal\n",
    "x >= y"
   ]
  },
  {
   "cell_type": "code",
   "execution_count": 10,
   "id": "f495a210-c374-4eba-bfc5-99e5b2f43f77",
   "metadata": {},
   "outputs": [
    {
     "data": {
      "text/plain": [
       "True"
      ]
     },
     "execution_count": 10,
     "metadata": {},
     "output_type": "execute_result"
    }
   ],
   "source": [
    "# Less than\n",
    "x < y"
   ]
  },
  {
   "cell_type": "code",
   "execution_count": 12,
   "id": "b8dc315e-d568-46f9-aaaa-6b727687d503",
   "metadata": {},
   "outputs": [
    {
     "data": {
      "text/plain": [
       "True"
      ]
     },
     "execution_count": 12,
     "metadata": {},
     "output_type": "execute_result"
    }
   ],
   "source": [
    "# Less than ro equal\n",
    "x <= y"
   ]
  },
  {
   "cell_type": "markdown",
   "id": "c0bd638f-fe19-4b0f-a376-5e92947b5120",
   "metadata": {
    "tags": []
   },
   "source": [
    "## When use `bool`?\n",
    " \n",
    "A `bool` value is normally used as the condition for branching in an `if` statement (more on this in the *control flows* chapter). For now, consider the following simple example."
   ]
  },
  {
   "cell_type": "code",
   "execution_count": 13,
   "id": "36c1ae18-d015-46b4-8bc9-5af29de7c196",
   "metadata": {},
   "outputs": [
    {
     "name": "stdout",
     "output_type": "stream",
     "text": [
      "Passed\n"
     ]
    }
   ],
   "source": [
    "grade = 8\n",
    "\n",
    "if grade >= 4:\n",
    "    print(\"Passed\")\n",
    "else:\n",
    "    print(\"Failed\")"
   ]
  },
  {
   "cell_type": "markdown",
   "id": "8adaabfa-36ba-40e1-8dd2-b21bedcf0195",
   "metadata": {},
   "source": [
    "As you can see, `\"Passed\"` was printed out because `grade >= 4` produces `True` (since `8 > 4`), so Python executes the statements under `if`. \n",
    "\n",
    "If in the first line, we change `8` to `3`, then `grade >= 4` will produces `False`, and Python will run the statements under `else`.\n",
    "\n",
    "Let's confirm this."
   ]
  },
  {
   "cell_type": "code",
   "execution_count": 14,
   "id": "cb746ec1-a892-433f-9bda-fe92b1c8ef4a",
   "metadata": {},
   "outputs": [
    {
     "name": "stdout",
     "output_type": "stream",
     "text": [
      "Failed\n"
     ]
    }
   ],
   "source": [
    "grade = 3\n",
    "\n",
    "if grade >= 4:\n",
    "    print(\"Passed\")\n",
    "else:\n",
    "    print(\"Failed\")"
   ]
  },
  {
   "cell_type": "markdown",
   "id": "8986e2e3-32c3-43e7-96bb-419189d52d91",
   "metadata": {},
   "source": [
    "## Typecasting\n",
    "\n",
    "Type-casting (or type coercion) is the action of converting a value of one type to another value of a different type based on a pre-defined conversion rule. Think of it as converting USD to Euro.\n",
    "\n",
    "To convert a value to `bool`, we use `bool()` function.\n",
    "\n",
    "When converting a value of another type to `bool`\n",
    "\n",
    "- `0`, `None`, and values considered as *empty* will produces `False`\n",
    "- None-zero and non-empty values will produce `True`\n",
    "\n",
    "Here are some examples."
   ]
  },
  {
   "cell_type": "markdown",
   "id": "feae073e-1368-492e-9937-0dc55d63fdac",
   "metadata": {},
   "source": [
    "From `NoneType`"
   ]
  },
  {
   "cell_type": "code",
   "execution_count": 17,
   "id": "c41796d7-d309-4302-9379-6dbb5571f7c0",
   "metadata": {},
   "outputs": [
    {
     "data": {
      "text/plain": [
       "False"
      ]
     },
     "execution_count": 17,
     "metadata": {},
     "output_type": "execute_result"
    }
   ],
   "source": [
    "bool(None)"
   ]
  },
  {
   "cell_type": "markdown",
   "id": "94f8c004-80dc-4374-a752-3e2ad23b36af",
   "metadata": {},
   "source": [
    "From `int`"
   ]
  },
  {
   "cell_type": "code",
   "execution_count": 18,
   "id": "8fd9d514-fd11-4733-8e15-8bae7697afd5",
   "metadata": {},
   "outputs": [
    {
     "data": {
      "text/plain": [
       "False"
      ]
     },
     "execution_count": 18,
     "metadata": {},
     "output_type": "execute_result"
    }
   ],
   "source": [
    "# Zero\n",
    "bool(0)"
   ]
  },
  {
   "cell_type": "code",
   "execution_count": 19,
   "id": "a6df461a-505a-4f07-af89-d8cda9781598",
   "metadata": {},
   "outputs": [
    {
     "data": {
      "text/plain": [
       "True"
      ]
     },
     "execution_count": 19,
     "metadata": {},
     "output_type": "execute_result"
    }
   ],
   "source": [
    "# Non-zero\n",
    "bool(-1)"
   ]
  },
  {
   "cell_type": "markdown",
   "id": "e9b618f5-24d2-4f6f-a10c-7fe86f29ea27",
   "metadata": {},
   "source": [
    "From `float`"
   ]
  },
  {
   "cell_type": "code",
   "execution_count": 22,
   "id": "0380bd02-d5b0-4264-8abe-046a30632416",
   "metadata": {},
   "outputs": [
    {
     "data": {
      "text/plain": [
       "False"
      ]
     },
     "execution_count": 22,
     "metadata": {},
     "output_type": "execute_result"
    }
   ],
   "source": [
    "# Zero\n",
    "bool(0.0)"
   ]
  },
  {
   "cell_type": "code",
   "execution_count": 21,
   "id": "4dcf99fd-0af8-4a01-a09a-35f7bed7b553",
   "metadata": {},
   "outputs": [
    {
     "data": {
      "text/plain": [
       "True"
      ]
     },
     "execution_count": 21,
     "metadata": {},
     "output_type": "execute_result"
    }
   ],
   "source": [
    "# Non-zero\n",
    "bool(1.23)"
   ]
  },
  {
   "cell_type": "markdown",
   "id": "cceec1fd-7af7-4614-b709-877e8a589f0d",
   "metadata": {},
   "source": [
    "From `list`"
   ]
  },
  {
   "cell_type": "code",
   "execution_count": 23,
   "id": "edae37b5-1ff1-4d1f-a77f-8824dd0addf8",
   "metadata": {},
   "outputs": [
    {
     "data": {
      "text/plain": [
       "False"
      ]
     },
     "execution_count": 23,
     "metadata": {},
     "output_type": "execute_result"
    }
   ],
   "source": [
    "# Empty list\n",
    "bool([])"
   ]
  },
  {
   "cell_type": "code",
   "execution_count": 24,
   "id": "c43abda3-4926-4468-8215-be628d56df0f",
   "metadata": {},
   "outputs": [
    {
     "data": {
      "text/plain": [
       "True"
      ]
     },
     "execution_count": 24,
     "metadata": {},
     "output_type": "execute_result"
    }
   ],
   "source": [
    "# Non-empty list\n",
    "bool([1, 2])"
   ]
  },
  {
   "cell_type": "markdown",
   "id": "e5f52714-d627-4ad5-bfee-0557b6819f95",
   "metadata": {},
   "source": [
    "From `str`"
   ]
  },
  {
   "cell_type": "code",
   "execution_count": 25,
   "id": "40b182bd-de94-4ca9-b5f3-473b782370bc",
   "metadata": {},
   "outputs": [
    {
     "data": {
      "text/plain": [
       "False"
      ]
     },
     "execution_count": 25,
     "metadata": {},
     "output_type": "execute_result"
    }
   ],
   "source": [
    "# Empty string\n",
    "bool(\"\")"
   ]
  },
  {
   "cell_type": "code",
   "execution_count": 26,
   "id": "811bdc9f-eb58-4bd3-8a10-043b9cdda077",
   "metadata": {},
   "outputs": [
    {
     "data": {
      "text/plain": [
       "True"
      ]
     },
     "execution_count": 26,
     "metadata": {},
     "output_type": "execute_result"
    }
   ],
   "source": [
    "# Non-empty string\n",
    "bool(\"Hello\")"
   ]
  },
  {
   "cell_type": "markdown",
   "id": "b55b0bd0-f4a7-4f06-9b20-7f20676a5eae",
   "metadata": {},
   "source": [
    "## Operations on `bool`\n",
    "\n",
    "Since `bool` type is also simple, there are not many operations on them. Normally we only perform logical operations (`and`, `or`, `not`) on `bool` values."
   ]
  },
  {
   "cell_type": "markdown",
   "id": "a0a910b2-8c84-4077-bf60-28d8c19d2344",
   "metadata": {},
   "source": [
    "**Logical `and`**\n",
    "\n",
    "`x and y` operation returns `True` only when both `x` and `y` are `True`. Otherwise, it returns `False`."
   ]
  },
  {
   "cell_type": "code",
   "execution_count": 31,
   "id": "6b251c4e-5598-49a4-b872-5993a00e0c59",
   "metadata": {},
   "outputs": [
    {
     "data": {
      "text/plain": [
       "True"
      ]
     },
     "execution_count": 31,
     "metadata": {},
     "output_type": "execute_result"
    }
   ],
   "source": [
    "True and True"
   ]
  },
  {
   "cell_type": "code",
   "execution_count": 32,
   "id": "d0c62f80-b804-48b7-a9b4-8fe1b27031ed",
   "metadata": {},
   "outputs": [
    {
     "data": {
      "text/plain": [
       "False"
      ]
     },
     "execution_count": 32,
     "metadata": {},
     "output_type": "execute_result"
    }
   ],
   "source": [
    "True and False"
   ]
  },
  {
   "cell_type": "code",
   "execution_count": 33,
   "id": "2b130a00-406c-49cc-a67c-0003deec1403",
   "metadata": {},
   "outputs": [
    {
     "data": {
      "text/plain": [
       "False"
      ]
     },
     "execution_count": 33,
     "metadata": {},
     "output_type": "execute_result"
    }
   ],
   "source": [
    "False and True"
   ]
  },
  {
   "cell_type": "code",
   "execution_count": 34,
   "id": "c6cf4c6d-6b63-4acf-9e1b-3ca605b555d3",
   "metadata": {},
   "outputs": [
    {
     "data": {
      "text/plain": [
       "False"
      ]
     },
     "execution_count": 34,
     "metadata": {},
     "output_type": "execute_result"
    }
   ],
   "source": [
    "False and False"
   ]
  },
  {
   "cell_type": "markdown",
   "id": "e0cd5d6b-8327-4f40-a3e4-0b7a5c699d81",
   "metadata": {},
   "source": [
    "`True and True` might look weird, but think of it as the results of some comparison as in the following example."
   ]
  },
  {
   "cell_type": "code",
   "execution_count": 9,
   "id": "82750b2f-882d-4881-bf02-5425cc03caf6",
   "metadata": {},
   "outputs": [
    {
     "name": "stdout",
     "output_type": "stream",
     "text": [
      "Too young or too old for the job\n"
     ]
    }
   ],
   "source": [
    "age = 70\n",
    "\n",
    "if (age >= 20) and (age <= 50):\n",
    "    print(\"Proceed to the interview round\")\n",
    "else:\n",
    "    print(\"Too young or too old for the job\")"
   ]
  },
  {
   "cell_type": "markdown",
   "id": "d02a4cc6-588c-488b-a1a9-b96dc7fed276",
   "metadata": {},
   "source": [
    "In the example above, `age >= 20` gives `True` but `age <= 50` give `False`. Thus,`(age >= 20) and (age <= 50)` is equivalent to `True and False`, and we get `False` in the end. "
   ]
  },
  {
   "cell_type": "markdown",
   "id": "810b6a70-be68-4cac-80ad-665ae36ab00d",
   "metadata": {},
   "source": [
    "## Practice"
   ]
  },
  {
   "cell_type": "markdown",
   "id": "0e326a85-bb65-47e7-a944-1e03a94fa78a",
   "metadata": {},
   "source": [
    "### Ex 1\n",
    "\n",
    "Do the following\n",
    "\n",
    "- Initialize a variable `x` with value `True`\n",
    "- Print the value associated with `x`\n",
    "- Print the data type of `x`\n",
    "\n",
    "### Ex 2\n",
    "\n",
    "Do the following\n",
    "\n",
    "- Initialize a variable `x` with value `10`\n",
    "- Initialize a variable `y` with a value from a comparison that checks whether `x` is greater than `5` or not\n",
    "- Print the value associated with `y`\n",
    "- Print the data type of `y`\n",
    "\n",
    "### Ex 3\n",
    "\n",
    "Do the following\n",
    "\n",
    "- Initialize a variable `x` with value `True`\n",
    "- Initialize a variable `y` with value `100`\n",
    "- Check if `x` is of type `bool` (Hint: type `?isinstance` to see how you can use it)\n",
    "- Similarly, check if `y` is of type `bool`\n",
    "\n",
    "### Ex 4\n",
    "\n",
    "Do the following\n",
    "\n",
    "- Initialize a variable `x` with value `7`\n",
    "- Check if `x` is greater than or equal to `5`. If true, print `\"Above average\"`. Otherwise, print `\"Below average\"`.\n",
    "\n",
    "### Ex 5\n",
    "\n",
    "Replicate Ex 4, but this time, use `not`\n",
    "\n",
    "### Ex 6\n",
    "Give three typecasting examples that produce `True` and three others that produce `False`.\n",
    "\n",
    "### Ex 7\n",
    "\n",
    "Do the following\n",
    "\n",
    "- Initialize a variable `x` with an arbitrary value\n",
    "- If `x` is even, print `\"Even\"`. Otherwise, print `\"Odd\"`\n",
    "- Try your code with different values of `x`\n",
    "\n",
    "### Ex 8\n",
    "\n",
    "Do the following\n",
    "\n",
    "- Replicate Ex 7, but this time assign `5.5` to `x`\n",
    "- What happens?\n",
    "- What is your opinion?"
   ]
  },
  {
   "cell_type": "code",
   "execution_count": null,
   "id": "43661700-9add-4450-a39d-3203beef3bd6",
   "metadata": {},
   "outputs": [],
   "source": []
  }
 ],
 "metadata": {
  "kernelspec": {
   "display_name": "Python 3 (ipykernel)",
   "language": "python",
   "name": "python3"
  },
  "language_info": {
   "codemirror_mode": {
    "name": "ipython",
    "version": 3
   },
   "file_extension": ".py",
   "mimetype": "text/x-python",
   "name": "python",
   "nbconvert_exporter": "python",
   "pygments_lexer": "ipython3",
   "version": "3.9.7"
  }
 },
 "nbformat": 4,
 "nbformat_minor": 5
}
