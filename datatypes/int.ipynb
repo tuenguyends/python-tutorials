{
 "cells": [
  {
   "cell_type": "markdown",
   "id": "f964cf01-01d7-4944-aeff-483b6d891cd2",
   "metadata": {},
   "source": [
    "# Integers"
   ]
  },
  {
   "cell_type": "markdown",
   "id": "b399b4e3-d9c5-473e-9e91-e27eb9678831",
   "metadata": {},
   "source": [
    "## Overview\n",
    "- Là số nguyên (integers), dương hoặc âm, không có phần thập phân.\n",
    "- Độ dài vô hạn. \n",
    "- Được hình thành từ phép gán với số nguyên hoặc biểu thức mà kết quả trả về là số nguyên.\n",
    "- Ép kiểu về `int` dùng hàm `int()`"
   ]
  },
  {
   "cell_type": "markdown",
   "id": "e2d6fb17-d4d2-49c2-a7ff-48aac1fd1d1e",
   "metadata": {},
   "source": [
    "### 4.2. Ví dụ thực hành"
   ]
  },
  {
   "cell_type": "markdown",
   "id": "6334fc9c-faf3-45ac-9840-7029974ef2c1",
   "metadata": {},
   "source": [
    "#### BÀI TẬP TỔNG QUÁT"
   ]
  },
  {
   "cell_type": "markdown",
   "id": "0d4a27a6-5a22-4336-a014-521efa4950b6",
   "metadata": {},
   "source": [
    "#### VD1: số nguyên dương\n",
    "Tạo biến `x`, gán giá trị `100`.  \n",
    "In giá trị và kiểu của `x`."
   ]
  },
  {
   "cell_type": "code",
   "execution_count": 14,
   "id": "4675cee2-7760-44fb-896d-ff735b51c2ea",
   "metadata": {},
   "outputs": [],
   "source": [
    "# Tạo biến\n",
    "x = 100"
   ]
  },
  {
   "cell_type": "code",
   "execution_count": 17,
   "id": "c445b5b0-6529-45be-a9bf-8fc0f1fccbde",
   "metadata": {},
   "outputs": [
    {
     "name": "stdout",
     "output_type": "stream",
     "text": [
      "100\n"
     ]
    }
   ],
   "source": [
    "# In giá trị\n",
    "print(x)"
   ]
  },
  {
   "cell_type": "code",
   "execution_count": 18,
   "id": "e7e4a018-397c-4f6f-afeb-9f063beb07ac",
   "metadata": {},
   "outputs": [
    {
     "data": {
      "text/plain": [
       "int"
      ]
     },
     "execution_count": 18,
     "metadata": {},
     "output_type": "execute_result"
    }
   ],
   "source": [
    "# In kiểu\n",
    "type(x)"
   ]
  },
  {
   "cell_type": "markdown",
   "id": "b7c0eed8-119a-418c-b5e3-407c3df37243",
   "metadata": {},
   "source": [
    "#### VD2: số nguyên âm\n",
    "Tạo biến `x`, gán giá trị `-123`.\n",
    "\n",
    "In giá trị và kiểu của `x`."
   ]
  },
  {
   "cell_type": "code",
   "execution_count": 19,
   "id": "90e0f3b5-47b4-4df9-851c-529cd61e660c",
   "metadata": {},
   "outputs": [],
   "source": [
    "# Tạo biến\n",
    "x = -123 # Literal"
   ]
  },
  {
   "cell_type": "code",
   "execution_count": 20,
   "id": "c7a2975f-50b0-467a-a4a6-bfe4d9da65ae",
   "metadata": {},
   "outputs": [
    {
     "data": {
      "text/plain": [
       "-123"
      ]
     },
     "execution_count": 20,
     "metadata": {},
     "output_type": "execute_result"
    }
   ],
   "source": [
    "# In giá trị\n",
    "x"
   ]
  },
  {
   "cell_type": "code",
   "execution_count": 21,
   "id": "21d592b6-e5b5-4d90-8768-d5e546322b44",
   "metadata": {},
   "outputs": [
    {
     "data": {
      "text/plain": [
       "int"
      ]
     },
     "execution_count": 21,
     "metadata": {},
     "output_type": "execute_result"
    }
   ],
   "source": [
    "# In kiểu\n",
    "type(x)"
   ]
  },
  {
   "cell_type": "markdown",
   "id": "5412d930-29fe-4bd5-a502-9ab733201ba8",
   "metadata": {},
   "source": [
    "#### VD3: Số nguyên độ dài tùy ý\n",
    "\n",
    "Python cho phép số nguyên với độ dài tùy ý. Không bị overflow như một số ngôn ngữ khác."
   ]
  },
  {
   "cell_type": "markdown",
   "id": "4dc21691-b09c-41d4-be05-6f06d7bfb177",
   "metadata": {},
   "source": [
    "Khởi tạo biến `x` với giá trị: `35656222554887711323233557676768565865859659`"
   ]
  },
  {
   "cell_type": "code",
   "execution_count": 23,
   "id": "76084bc0-8792-41b8-8a7e-8f6b0c37c5fc",
   "metadata": {},
   "outputs": [],
   "source": [
    "x = 3565622255488771132323355767676856586585965999884384"
   ]
  },
  {
   "cell_type": "markdown",
   "id": "7363f9e6-3bd5-481f-9e0f-05f8ad644a73",
   "metadata": {},
   "source": [
    "In giá trị và kiểu của `x`:"
   ]
  },
  {
   "cell_type": "code",
   "execution_count": 24,
   "id": "4ebb9e65-f735-4d22-90c6-651a1cb3a922",
   "metadata": {},
   "outputs": [
    {
     "data": {
      "text/plain": [
       "3565622255488771132323355767676856586585965999884384"
      ]
     },
     "execution_count": 24,
     "metadata": {},
     "output_type": "execute_result"
    }
   ],
   "source": [
    "x"
   ]
  },
  {
   "cell_type": "code",
   "execution_count": 25,
   "id": "97bcc329-0509-4b51-96ac-0f2c8c489ab0",
   "metadata": {},
   "outputs": [
    {
     "data": {
      "text/plain": [
       "int"
      ]
     },
     "execution_count": 25,
     "metadata": {},
     "output_type": "execute_result"
    }
   ],
   "source": [
    "type(x)"
   ]
  },
  {
   "cell_type": "markdown",
   "id": "e606dfa7-b2d4-4dcb-b865-bc0a91ff3093",
   "metadata": {},
   "source": [
    "#### VD 4: Phép gán biểu thức mà kết quả trả về là số nguyên "
   ]
  },
  {
   "cell_type": "code",
   "execution_count": 26,
   "id": "6e947cb3-0d21-436e-8932-b46ea7be8fb5",
   "metadata": {},
   "outputs": [],
   "source": [
    "x = 5 // 2 # Expression"
   ]
  },
  {
   "cell_type": "code",
   "execution_count": 4,
   "id": "fb606060-e4df-4ba1-88dc-c47c684df4e3",
   "metadata": {},
   "outputs": [
    {
     "data": {
      "text/plain": [
       "125"
      ]
     },
     "execution_count": 4,
     "metadata": {},
     "output_type": "execute_result"
    }
   ],
   "source": [
    "5**3"
   ]
  },
  {
   "cell_type": "markdown",
   "id": "67431150-59d1-4360-add1-519fce3a59ad",
   "metadata": {},
   "source": [
    "#### BÀI TẬP ÉP KIỂU\n",
    "\n",
    "Ép về `int` dùng `int()`.  \n",
    "Tuy nhiên không phải kiểu nào cũng ép được về `int`."
   ]
  },
  {
   "cell_type": "markdown",
   "id": "93defc99-b212-4962-85b3-105187f4d5d5",
   "metadata": {},
   "source": [
    "**Ép `bool` -> `int`**"
   ]
  },
  {
   "cell_type": "markdown",
   "id": "5db7effb-cc4a-4d17-a29c-cda95a90b09b",
   "metadata": {},
   "source": [
    "Ép các giá trị `True` và `False` về `int`:"
   ]
  },
  {
   "cell_type": "code",
   "execution_count": 6,
   "id": "99e538eb-e1a6-4107-8377-4279016287d7",
   "metadata": {},
   "outputs": [
    {
     "data": {
      "text/plain": [
       "1"
      ]
     },
     "execution_count": 6,
     "metadata": {},
     "output_type": "execute_result"
    }
   ],
   "source": [
    "int(True)"
   ]
  },
  {
   "cell_type": "code",
   "execution_count": 28,
   "id": "e1d37b88-5bc2-4aad-a930-639c95612ae9",
   "metadata": {},
   "outputs": [
    {
     "data": {
      "text/plain": [
       "1"
      ]
     },
     "execution_count": 28,
     "metadata": {},
     "output_type": "execute_result"
    }
   ],
   "source": [
    "# True -> int\n",
    "int(True)"
   ]
  },
  {
   "cell_type": "code",
   "execution_count": 29,
   "id": "f1a08020-3d03-42f3-86d7-e37ea10c1a63",
   "metadata": {},
   "outputs": [
    {
     "data": {
      "text/plain": [
       "0"
      ]
     },
     "execution_count": 29,
     "metadata": {},
     "output_type": "execute_result"
    }
   ],
   "source": [
    "# False -> int\n",
    "int(False)"
   ]
  },
  {
   "cell_type": "markdown",
   "id": "07025c21-e143-4378-97c6-26772564056c",
   "metadata": {},
   "source": [
    "**Ép `float` -> `int`**"
   ]
  },
  {
   "cell_type": "markdown",
   "id": "b4d62c87-95c6-407f-a663-32f98f57953d",
   "metadata": {},
   "source": [
    "Tạo `x` với giá trị `10.99`. In ra giá trị và kiểu của `x`:"
   ]
  },
  {
   "cell_type": "code",
   "execution_count": 31,
   "id": "73fd238d-7c87-4e99-8de5-7fa0385f874f",
   "metadata": {},
   "outputs": [],
   "source": [
    "# Tạo biến\n",
    "x = 10.99"
   ]
  },
  {
   "cell_type": "code",
   "execution_count": 32,
   "id": "24f574aa-d2c1-4408-a37e-fbe9b6ea375b",
   "metadata": {},
   "outputs": [
    {
     "data": {
      "text/plain": [
       "10.99"
      ]
     },
     "execution_count": 32,
     "metadata": {},
     "output_type": "execute_result"
    }
   ],
   "source": [
    "# In giá trị\n",
    "x"
   ]
  },
  {
   "cell_type": "code",
   "execution_count": 34,
   "id": "887786f2-d245-44c8-adb8-fd9dab053b30",
   "metadata": {},
   "outputs": [
    {
     "data": {
      "text/plain": [
       "float"
      ]
     },
     "execution_count": 34,
     "metadata": {},
     "output_type": "execute_result"
    }
   ],
   "source": [
    "# In kiểu\n",
    "type(x)"
   ]
  },
  {
   "cell_type": "markdown",
   "id": "55a3ea5c-9fab-462d-9bf1-7ff4b5dcb7c6",
   "metadata": {},
   "source": [
    "Tạo `y` bằng cách ép `x` về `int`.  \n",
    "In ra giá trị và kiểu của `y`.  \n",
    "Note: để ý kết quả sẽ bị chặt cụt phần thập phân."
   ]
  },
  {
   "cell_type": "code",
   "execution_count": null,
   "id": "c998ef98-9037-41ab-b69b-f7d1f958290d",
   "metadata": {},
   "outputs": [],
   "source": [
    "y = x # Alias"
   ]
  },
  {
   "cell_type": "code",
   "execution_count": 35,
   "id": "5992b7a9-4ab8-4f04-a482-2733a441e205",
   "metadata": {},
   "outputs": [],
   "source": [
    "y = int(x) # 10"
   ]
  },
  {
   "cell_type": "code",
   "execution_count": 36,
   "id": "6180d81d-2908-4911-8eb0-bfcac1a0c664",
   "metadata": {},
   "outputs": [
    {
     "data": {
      "text/plain": [
       "10"
      ]
     },
     "execution_count": 36,
     "metadata": {},
     "output_type": "execute_result"
    }
   ],
   "source": [
    "y"
   ]
  },
  {
   "cell_type": "code",
   "execution_count": 37,
   "id": "c24411d4-b9da-4dca-ac0b-9bdcf7cc1e34",
   "metadata": {},
   "outputs": [
    {
     "data": {
      "text/plain": [
       "int"
      ]
     },
     "execution_count": 37,
     "metadata": {},
     "output_type": "execute_result"
    }
   ],
   "source": [
    "type(y)"
   ]
  },
  {
   "cell_type": "markdown",
   "id": "92b109a4-4e1d-4f00-ac7d-bde2b019df31",
   "metadata": {},
   "source": [
    "**Ép `str` -> `int`**\n",
    "\n",
    "Tuy nhiên \n",
    "\n",
    "1. String phải là có dạng một số nguyên hợp lệ (chỉ chứa chữ số từ 0-9, không có ký tự khác, ngoại trừ khoảng trắng được cho phép ở 2 đầu)\n",
    "1. Ký tự `\"0\"` đứng ở đầu sẽ được bỏ đi."
   ]
  },
  {
   "cell_type": "code",
   "execution_count": null,
   "id": "c7c0a070-f26b-4796-ae37-f535bdb9cdd7",
   "metadata": {},
   "outputs": [],
   "source": [
    "# Ép từ string, khoảng trắng sẽ được trimmed\n",
    "print(int(\"10\"))\n",
    "print(int(\" 10\"))\n",
    "print(int(\"10   \"))\n",
    "print(int(\" -10  \"))\n",
    "print(int(\"001\"))"
   ]
  },
  {
   "cell_type": "markdown",
   "id": "778c75f6-2f56-4787-a169-d1c0c38304dd",
   "metadata": {},
   "source": [
    "#### BÀI TẬP CÁC PHÉP TOÁN SỐ HỌC\n",
    "(Arithmetic)"
   ]
  },
  {
   "cell_type": "markdown",
   "id": "e7cfc322-b81a-4514-82f5-57b33ae3bdde",
   "metadata": {},
   "source": [
    "Đầu tiên khởi tạo 2 biến kiểu int `x = 15` và `y = 4`"
   ]
  },
  {
   "cell_type": "code",
   "execution_count": 50,
   "id": "13763b2c-9f26-4ffd-93a1-0dc3b44bb37f",
   "metadata": {},
   "outputs": [],
   "source": [
    "x = 15\n",
    "y = 4"
   ]
  },
  {
   "cell_type": "markdown",
   "id": "ea8264a9-0d40-489c-b201-4aa829429f4c",
   "metadata": {},
   "source": [
    "Cộng `x` và `y`"
   ]
  },
  {
   "cell_type": "code",
   "execution_count": 52,
   "id": "d7b3a1a5-fb58-4ecf-9a16-38d2db03224a",
   "metadata": {},
   "outputs": [
    {
     "data": {
      "text/plain": [
       "19"
      ]
     },
     "execution_count": 52,
     "metadata": {},
     "output_type": "execute_result"
    }
   ],
   "source": [
    "x + y"
   ]
  },
  {
   "cell_type": "markdown",
   "id": "2cacd2bb-ef70-45bf-aaef-a966c821d807",
   "metadata": {},
   "source": [
    "Trừ `x` cho `y`"
   ]
  },
  {
   "cell_type": "code",
   "execution_count": 53,
   "id": "74b31cef-1b8c-4447-ab28-4d816ad2e0d2",
   "metadata": {},
   "outputs": [
    {
     "data": {
      "text/plain": [
       "11"
      ]
     },
     "execution_count": 53,
     "metadata": {},
     "output_type": "execute_result"
    }
   ],
   "source": [
    "x - y"
   ]
  },
  {
   "cell_type": "markdown",
   "id": "d979b329-f049-411c-8078-22f0455e294b",
   "metadata": {},
   "source": [
    "Chia thực `x` cho `y`"
   ]
  },
  {
   "cell_type": "code",
   "execution_count": 54,
   "id": "ad874559-95da-4cd8-852a-feebcd9250ee",
   "metadata": {},
   "outputs": [
    {
     "data": {
      "text/plain": [
       "3.75"
      ]
     },
     "execution_count": 54,
     "metadata": {},
     "output_type": "execute_result"
    }
   ],
   "source": [
    "x / y"
   ]
  },
  {
   "cell_type": "markdown",
   "id": "b64935f4-d196-4aa2-a37c-0a1ef72af6f9",
   "metadata": {},
   "source": [
    "Chia nguyên `x` cho `y`"
   ]
  },
  {
   "cell_type": "code",
   "execution_count": 55,
   "id": "906682dc-7371-44dd-9bf3-0bbc78508aee",
   "metadata": {},
   "outputs": [
    {
     "data": {
      "text/plain": [
       "3"
      ]
     },
     "execution_count": 55,
     "metadata": {},
     "output_type": "execute_result"
    }
   ],
   "source": [
    "x // y"
   ]
  },
  {
   "cell_type": "markdown",
   "id": "a0180e9d-3555-4aea-b4f6-4d8e3961a54a",
   "metadata": {},
   "source": [
    "Chia dư `x` cho `y`"
   ]
  },
  {
   "cell_type": "code",
   "execution_count": 56,
   "id": "6e362afd-05d3-480c-8cbb-6ae89f2dfd15",
   "metadata": {},
   "outputs": [
    {
     "data": {
      "text/plain": [
       "3"
      ]
     },
     "execution_count": 56,
     "metadata": {},
     "output_type": "execute_result"
    }
   ],
   "source": [
    "x % y"
   ]
  },
  {
   "cell_type": "markdown",
   "id": "7f2a35d9-fc69-44c4-a816-86bd124d2e30",
   "metadata": {},
   "source": [
    "Đảo dấu `x`"
   ]
  },
  {
   "cell_type": "code",
   "execution_count": 59,
   "id": "58271bb0-2818-48be-b957-339daa3e4204",
   "metadata": {},
   "outputs": [
    {
     "data": {
      "text/plain": [
       "-15"
      ]
     },
     "execution_count": 59,
     "metadata": {},
     "output_type": "execute_result"
    }
   ],
   "source": [
    "-x"
   ]
  },
  {
   "cell_type": "markdown",
   "id": "4a7753ad-ca9c-4994-8bcc-e67f70fa0a7f",
   "metadata": {},
   "source": [
    "`x` mũ `y`"
   ]
  },
  {
   "cell_type": "code",
   "execution_count": 64,
   "id": "47c0f5b1-d48e-4e41-909f-167a808f66b2",
   "metadata": {},
   "outputs": [
    {
     "data": {
      "text/plain": [
       "32"
      ]
     },
     "execution_count": 64,
     "metadata": {},
     "output_type": "execute_result"
    }
   ],
   "source": [
    "2 ** 5"
   ]
  },
  {
   "cell_type": "markdown",
   "id": "f20af848-6f18-4722-ad0c-f33bfab91f48",
   "metadata": {},
   "source": [
    "#### BÀI TẬP PHÉP TOÁN SO SÁNH\n",
    "(Comparison)"
   ]
  },
  {
   "cell_type": "markdown",
   "id": "8f8da4b5-fbcd-4189-8c63-9be00d6d49e5",
   "metadata": {},
   "source": [
    "Tạo 3 biến `x`, `y`, `z` với giá trị lần lượt là `3`, `5`, `3`"
   ]
  },
  {
   "cell_type": "code",
   "execution_count": 65,
   "id": "9b9db7b7-ec83-413a-956f-532b89826d0d",
   "metadata": {},
   "outputs": [],
   "source": [
    "x = 3\n",
    "y = 5\n",
    "z = 3"
   ]
  },
  {
   "cell_type": "markdown",
   "id": "2e191718-8cba-4b8d-9214-3f3db9533951",
   "metadata": {},
   "source": [
    "So sánh xem `x` có bằng `z`:"
   ]
  },
  {
   "cell_type": "code",
   "execution_count": 66,
   "id": "105e8ca4-fe54-4039-a5f0-ee5a2efbb1dd",
   "metadata": {},
   "outputs": [
    {
     "data": {
      "text/plain": [
       "True"
      ]
     },
     "execution_count": 66,
     "metadata": {},
     "output_type": "execute_result"
    }
   ],
   "source": [
    "x == z"
   ]
  },
  {
   "cell_type": "markdown",
   "id": "22546189-4752-4a6b-bf1b-0f805364e3f2",
   "metadata": {},
   "source": [
    "So sánh xem `x` có bằng `y`:"
   ]
  },
  {
   "cell_type": "code",
   "execution_count": 67,
   "id": "90074b01-f0fe-4e9e-b206-101098bd9394",
   "metadata": {},
   "outputs": [
    {
     "data": {
      "text/plain": [
       "False"
      ]
     },
     "execution_count": 67,
     "metadata": {},
     "output_type": "execute_result"
    }
   ],
   "source": [
    "x == y"
   ]
  },
  {
   "cell_type": "markdown",
   "id": "d985cfbe-7fbb-4bdc-b8af-f43dd39044ff",
   "metadata": {},
   "source": [
    "So sánh xem `x` có lớn hơn hoặc bằng `z`:"
   ]
  },
  {
   "cell_type": "code",
   "execution_count": 68,
   "id": "37976393-cf70-4633-b1ac-af1cd455a273",
   "metadata": {},
   "outputs": [
    {
     "data": {
      "text/plain": [
       "False"
      ]
     },
     "execution_count": 68,
     "metadata": {},
     "output_type": "execute_result"
    }
   ],
   "source": [
    "x > z"
   ]
  },
  {
   "cell_type": "markdown",
   "id": "6d75fc55-fe48-4208-9f2f-e3d57da72260",
   "metadata": {},
   "source": [
    "Thử với các phép tán khác `!=, >, <, >=, ...`"
   ]
  }
 ],
 "metadata": {
  "kernelspec": {
   "display_name": "Python 3 (ipykernel)",
   "language": "python",
   "name": "python3"
  },
  "language_info": {
   "codemirror_mode": {
    "name": "ipython",
    "version": 3
   },
   "file_extension": ".py",
   "mimetype": "text/x-python",
   "name": "python",
   "nbconvert_exporter": "python",
   "pygments_lexer": "ipython3",
   "version": "3.9.7"
  }
 },
 "nbformat": 4,
 "nbformat_minor": 5
}
