{
 "cells": [
  {
   "cell_type": "markdown",
   "id": "3636fe94-25e7-4d54-a844-b43ec3e92c6a",
   "metadata": {},
   "source": [
    "# Flat types"
   ]
  },
  {
   "cell_type": "markdown",
   "id": "b6859bd8-aee0-43f2-ad83-68a64d82f22f",
   "metadata": {},
   "source": [
    "To be updated"
   ]
  },
  {
   "cell_type": "markdown",
   "id": "df56df59-b738-4829-afaa-d981aaa00177",
   "metadata": {},
   "source": [
    "## 3. Kiểu `bool`"
   ]
  },
  {
   "cell_type": "markdown",
   "id": "798b72b3-4cda-45e0-8283-821b13ec1858",
   "metadata": {},
   "source": [
    "### 3.1. Tổng quan\n",
    "\n",
    "Biểu diễn 2 giá trị `True` hoặc `False`.  \n",
    "Thường được dùng để làm điều kiện kiểm tra để ra quyết định trong chương trình. Ví dụ:\n",
    "\n",
    "```python\n",
    "if scores >= 4:\n",
    "    print(\"Passed\")\n",
    "else:\n",
    "    print(\"Failed\")\n",
    "```"
   ]
  },
  {
   "cell_type": "markdown",
   "id": "b156ae33-b9ff-4f1e-b19a-ddc6152d8b6d",
   "metadata": {},
   "source": [
    "Được hình thành từ:\n",
    "\n",
    "- Phép gán với `True`/`False`.\n",
    "- Hoặc phép gán với biểu thức mà kết quả trả về kiểu bool."
   ]
  },
  {
   "cell_type": "code",
   "execution_count": null,
   "id": "3d821d7a-965d-4e36-873b-e50dc3f3a1eb",
   "metadata": {},
   "outputs": [],
   "source": [
    "# VD 1\n",
    "x = True\n",
    "type(x)"
   ]
  },
  {
   "cell_type": "code",
   "execution_count": null,
   "id": "a78160e5-79ce-4c3c-b7df-cc08b7975077",
   "metadata": {},
   "outputs": [],
   "source": [
    "# VD 2\n",
    "x = 10\n",
    "y = x < 0\n",
    "type(y)"
   ]
  },
  {
   "cell_type": "markdown",
   "id": "8e0487ef-6779-49ec-ae8c-62a2a5200496",
   "metadata": {},
   "source": [
    "- Các toán tử so sánh thông dụng mà kết quả trả về là kiểu bool:\n",
    "    - `==`: bằng\n",
    "    - `!=`: khác\n",
    "    - `>`: lớn hơn\n",
    "    - `>=`: lớn hơn hoặc bằng\n",
    "    - `<`: nhỏ hơn\n",
    "    - `<=`: nhỏ hơn hoặc bằng\n",
    "    - `is`: kiểm tra same identity"
   ]
  },
  {
   "cell_type": "markdown",
   "id": "e78e2780-cc71-433f-b907-acc55bfbc474",
   "metadata": {},
   "source": [
    "Ví dụ:"
   ]
  },
  {
   "cell_type": "code",
   "execution_count": null,
   "id": "1d5941f2-a668-4044-b9c4-7c98e456cffc",
   "metadata": {},
   "outputs": [],
   "source": [
    "print(3 == 3)\n",
    "print(3 == 5)"
   ]
  },
  {
   "cell_type": "code",
   "execution_count": null,
   "id": "e34ee0c5-5a1f-49e3-be25-d158e05208bf",
   "metadata": {},
   "outputs": [],
   "source": [
    "x = 7\n",
    "print(x > 6)\n",
    "print(x <= 6)"
   ]
  },
  {
   "cell_type": "code",
   "execution_count": null,
   "id": "b6f2002c-0daa-4577-84a1-92a9f737d46d",
   "metadata": {},
   "outputs": [],
   "source": [
    "x = 5\n",
    "y = \"Hello\"\n",
    "print(x is y)"
   ]
  },
  {
   "cell_type": "markdown",
   "id": "fd28b1b3-a3c2-4bc5-ba59-ca7a86ba9e46",
   "metadata": {},
   "source": [
    "**Ép kiểu** (type-casting, type coersion) về bool dùng `bool()`\n",
    "\n",
    "- Giá trị `0, None`, string rỗng sẽ ứng với `False`\n",
    "- Giá trị khác `0`, khác `None`, ... sẽ ứng với `True`"
   ]
  },
  {
   "cell_type": "markdown",
   "id": "337c9dd9-3208-46ab-aa07-acf8c404d151",
   "metadata": {},
   "source": [
    "**Ép `NoneType` -> `bool`**"
   ]
  },
  {
   "cell_type": "code",
   "execution_count": null,
   "id": "83e8b60c-d96c-4ad8-b0d4-c46c338fbdf2",
   "metadata": {},
   "outputs": [],
   "source": [
    "# VD 1\n",
    "x = None\n",
    "y = bool(x)\n",
    "\n",
    "print(y)\n",
    "print(type(y))"
   ]
  },
  {
   "cell_type": "markdown",
   "id": "9f63c3f9-f54b-4b40-b504-41d0985e1b0f",
   "metadata": {},
   "source": [
    "**Ép `int` -> `bool`**"
   ]
  },
  {
   "cell_type": "code",
   "execution_count": null,
   "id": "a688b35c-1b47-43dc-b912-103cdf53f5ac",
   "metadata": {},
   "outputs": [],
   "source": [
    "# VD 1\n",
    "x = 0\n",
    "y = bool(x)\n",
    "\n",
    "print(y)\n",
    "print(type(y))"
   ]
  },
  {
   "cell_type": "code",
   "execution_count": null,
   "id": "79a2c7fc-2b8e-45e6-adc3-ba3e44076bc9",
   "metadata": {},
   "outputs": [],
   "source": [
    "# VD 2\n",
    "x = 100\n",
    "y = bool(x)\n",
    "\n",
    "print(y)\n",
    "print(type(y))"
   ]
  },
  {
   "cell_type": "markdown",
   "id": "66854e77-f79b-4a2c-9933-915c2e63dc70",
   "metadata": {},
   "source": [
    "**Ép `str` -> `bool`**"
   ]
  },
  {
   "cell_type": "code",
   "execution_count": null,
   "id": "3b04a539-7368-499c-ab30-d02eb1ece0ae",
   "metadata": {},
   "outputs": [],
   "source": [
    "# VD 1\n",
    "x = \"\"\n",
    "y = bool(x)\n",
    "\n",
    "print(y)\n",
    "print(type(y))"
   ]
  },
  {
   "cell_type": "code",
   "execution_count": null,
   "id": "9e0e95dd-5e00-4031-bf91-a3c50edabe64",
   "metadata": {},
   "outputs": [],
   "source": [
    "# VD 2\n",
    "x = \"Hello\"\n",
    "y = bool(x)\n",
    "\n",
    "print(y)\n",
    "print(type(y))"
   ]
  },
  {
   "cell_type": "markdown",
   "id": "e7d42c4a-1f26-4fd7-9467-13be02d385f5",
   "metadata": {},
   "source": [
    "#### Other"
   ]
  },
  {
   "cell_type": "code",
   "execution_count": null,
   "id": "ce10146a-8160-42b7-9336-72a98e6442ed",
   "metadata": {},
   "outputs": [],
   "source": [
    "# VD 4\n",
    "x = [1, 2, 3, 4]\n",
    "y = bool(x)\n",
    "\n",
    "print(y)\n",
    "print(type(y))"
   ]
  },
  {
   "cell_type": "markdown",
   "id": "698f8119-164b-4a61-a5e6-23ea9cbfe9a4",
   "metadata": {},
   "source": [
    "### 3.2 Ví dụ thực hành"
   ]
  },
  {
   "cell_type": "markdown",
   "id": "9229fc91-6bdc-4b98-81a5-94c0f413e0c5",
   "metadata": {},
   "source": [
    "#### BÀI TẬP TỔNG QUÁT"
   ]
  },
  {
   "cell_type": "markdown",
   "id": "e1f50a83-7a92-469b-b9d7-7edbd64515d8",
   "metadata": {},
   "source": [
    "#### Practice 1"
   ]
  },
  {
   "cell_type": "markdown",
   "id": "deb54bcb-9c12-4bd6-b78d-fbb8c352cf7c",
   "metadata": {},
   "source": [
    "Tạo biến `x`, gán giá trị `True` (nhớ viết đúng chính tả, hoa thường):"
   ]
  },
  {
   "cell_type": "code",
   "execution_count": null,
   "id": "789d86c1-053f-41ed-a76d-7859affb70f0",
   "metadata": {},
   "outputs": [],
   "source": []
  },
  {
   "cell_type": "markdown",
   "id": "a6f457de-289b-4dce-947c-4c1bfdadcfef",
   "metadata": {},
   "source": [
    "In ra giá trị của `x`:"
   ]
  },
  {
   "cell_type": "code",
   "execution_count": null,
   "id": "8c2185f4-00eb-40f8-9e8d-66ad3acaec59",
   "metadata": {},
   "outputs": [],
   "source": []
  },
  {
   "cell_type": "markdown",
   "id": "d261967b-6def-4503-83db-25f93cdc2482",
   "metadata": {},
   "source": [
    "In ra kiểu của `x`:"
   ]
  },
  {
   "cell_type": "code",
   "execution_count": null,
   "id": "5d065125-bc22-4aa0-ac97-beaa078ad810",
   "metadata": {},
   "outputs": [],
   "source": []
  },
  {
   "cell_type": "markdown",
   "id": "eb75b142-613e-49fb-bee8-a390b24cfd6e",
   "metadata": {},
   "source": [
    "#### Practice 2"
   ]
  },
  {
   "cell_type": "markdown",
   "id": "488ececa-a427-414c-9d36-44e60f92687a",
   "metadata": {},
   "source": [
    "Tạo biến `x`, gán giá trị `10`:"
   ]
  },
  {
   "cell_type": "code",
   "execution_count": null,
   "id": "45b72251-7b41-4afb-89c2-94de0a05abf4",
   "metadata": {},
   "outputs": [],
   "source": []
  },
  {
   "cell_type": "markdown",
   "id": "0e0b6293-36b5-4be8-91ea-37a5f7846fb6",
   "metadata": {},
   "source": [
    "Tạo biến `y`, gán giá trị là phép so sánh **kiểm tra xem `x` có lớn hơn `5` hay không**:"
   ]
  },
  {
   "cell_type": "code",
   "execution_count": null,
   "id": "6469594c-fdb7-4c16-81cb-621737120c0a",
   "metadata": {},
   "outputs": [],
   "source": []
  },
  {
   "cell_type": "markdown",
   "id": "56d5cd8a-54dc-4146-9aaf-93c70ccfd82d",
   "metadata": {},
   "source": [
    "In giá trị và kiểu của `y`:"
   ]
  },
  {
   "cell_type": "code",
   "execution_count": null,
   "id": "44e2de5c-3522-4df4-99ee-389592355ee0",
   "metadata": {},
   "outputs": [],
   "source": []
  },
  {
   "cell_type": "code",
   "execution_count": null,
   "id": "5b79b383-6022-46ea-bcaa-7a71891848b5",
   "metadata": {},
   "outputs": [],
   "source": []
  },
  {
   "cell_type": "markdown",
   "id": "b84515c6-8107-43a3-9fc1-735a1ca2303c",
   "metadata": {},
   "source": [
    "#### Practice 3"
   ]
  },
  {
   "cell_type": "markdown",
   "id": "b1dbe94b-b91b-4b7b-b782-5ee9aeaddafe",
   "metadata": {},
   "source": [
    "Tạo biến `x`, gán giá trị `10`:"
   ]
  },
  {
   "cell_type": "code",
   "execution_count": null,
   "id": "68a6cabf-f567-465e-9c5e-4e3742c9ec63",
   "metadata": {},
   "outputs": [],
   "source": []
  },
  {
   "cell_type": "markdown",
   "id": "c33330f3-2ced-4f4c-a811-b0fe79a5c827",
   "metadata": {},
   "source": [
    "Kiểm tra xem `x` có phải là một số nguyên (kiểu `int`) hay không:  \n",
    "Gợi ý dùng hàm `isinstance()`.   \n",
    "Dùng `?insinstanceof` để đọc documentation về cách sử dụng của hàm."
   ]
  },
  {
   "cell_type": "code",
   "execution_count": null,
   "id": "dae94614-c859-462e-8962-6609dc7d1740",
   "metadata": {},
   "outputs": [],
   "source": []
  },
  {
   "cell_type": "markdown",
   "id": "27c4b8a4-7c81-43e5-a28d-ce65000239b0",
   "metadata": {},
   "source": [
    "Kiểm tra xem `x` có phải kiểu `bool` không:"
   ]
  },
  {
   "cell_type": "code",
   "execution_count": null,
   "id": "e23840f8-9b2b-4469-b8fe-45dc118a1088",
   "metadata": {},
   "outputs": [],
   "source": []
  },
  {
   "cell_type": "markdown",
   "id": "263c2d06-c5de-41d6-928a-4027d0441d86",
   "metadata": {},
   "source": [
    "#### Practice 4"
   ]
  },
  {
   "cell_type": "markdown",
   "id": "f7df65d9-7a42-4220-ab82-6fa46cb942ee",
   "metadata": {},
   "source": [
    "Tạo biến `x`, gán giá trị `10`:"
   ]
  },
  {
   "cell_type": "code",
   "execution_count": null,
   "id": "569c1b5e-a60e-451d-bc54-4b94f51c5fcb",
   "metadata": {},
   "outputs": [],
   "source": []
  },
  {
   "cell_type": "markdown",
   "id": "b346122f-5a02-4db9-86e7-c4978fac3205",
   "metadata": {},
   "source": [
    "Dùng `if` để kiểm tra xem `x` có phải là số nguyên không.  \n",
    "Nếu đúng, in ra `x is an integer`  \n",
    "Nếu không đúng, in ra `x is NOT an integer`"
   ]
  },
  {
   "cell_type": "code",
   "execution_count": null,
   "id": "28ae50bc-3697-4d51-a6e4-84f959ea9074",
   "metadata": {},
   "outputs": [],
   "source": []
  },
  {
   "cell_type": "code",
   "execution_count": null,
   "id": "74d8a8fc-9060-442f-94cb-3cdcaba0ed73",
   "metadata": {},
   "outputs": [],
   "source": []
  },
  {
   "cell_type": "markdown",
   "id": "916eda67-8488-4b96-b39b-e12a67156a45",
   "metadata": {},
   "source": [
    "Làm lại ví dụ trên, nhưng điều kiện kiểm tra là **x có không phải là một số nguyên hay không**:"
   ]
  },
  {
   "cell_type": "code",
   "execution_count": null,
   "id": "f11f7d83-e9f5-4d80-80b7-4c834d66f10f",
   "metadata": {},
   "outputs": [],
   "source": []
  },
  {
   "cell_type": "code",
   "execution_count": null,
   "id": "0597ba15-5c2c-4b09-8ec7-3e637c2666b8",
   "metadata": {},
   "outputs": [],
   "source": []
  },
  {
   "cell_type": "markdown",
   "id": "61dedcf8-1a2a-4aab-b2fc-cd53cd9ca960",
   "metadata": {},
   "source": [
    "#### BÀI TẬP ÉP KIỂU"
   ]
  },
  {
   "cell_type": "markdown",
   "id": "f405fb74-40a3-4fe8-b41b-2e4d572aa8b8",
   "metadata": {},
   "source": [
    "#### Practice 1"
   ]
  },
  {
   "cell_type": "markdown",
   "id": "9ef7bbd2-7e9e-4329-9c53-fadef43b0827",
   "metadata": {},
   "source": [
    "Lấy 3 ví dụ ép kiểu ra kết quả `False`:"
   ]
  },
  {
   "cell_type": "code",
   "execution_count": null,
   "id": "a33d2ae5-ecc2-44e6-ab50-424bb5d17e09",
   "metadata": {},
   "outputs": [],
   "source": []
  },
  {
   "cell_type": "markdown",
   "id": "0510c3c0-2bb2-43d4-bc87-72606a649e74",
   "metadata": {},
   "source": [
    "#### Practice 2"
   ]
  },
  {
   "cell_type": "markdown",
   "id": "387a5711-d224-4739-99a7-8d89fe4a108f",
   "metadata": {},
   "source": [
    "#### Lấy 3 ví dụ ép kiểu ra kết quả `True`:"
   ]
  },
  {
   "cell_type": "code",
   "execution_count": null,
   "id": "ed6bf7f6-ef06-4a11-8d6c-da92b7dec120",
   "metadata": {},
   "outputs": [],
   "source": []
  },
  {
   "cell_type": "markdown",
   "id": "c0822e08-83cb-477c-a384-a987f11994b4",
   "metadata": {},
   "source": [
    "#### CÁC VÍ DỤ KHÁC"
   ]
  },
  {
   "cell_type": "markdown",
   "id": "37ae1ec2-32b1-431d-858d-eac8490089a9",
   "metadata": {},
   "source": [
    "#### Practice 1"
   ]
  },
  {
   "cell_type": "markdown",
   "id": "743b95f8-0073-4ebe-9b37-7c0b8914a344",
   "metadata": {},
   "source": [
    "Tạo biến `x`, gán giá trị là một số nguyên tùy ý:"
   ]
  },
  {
   "cell_type": "code",
   "execution_count": null,
   "id": "09404787-bec9-408d-90e6-408c633c36e9",
   "metadata": {},
   "outputs": [],
   "source": []
  },
  {
   "cell_type": "markdown",
   "id": "c2a1a0d0-0abb-4e17-8217-73c7f7b5447d",
   "metadata": {},
   "source": [
    "Dùng `if` kiểm tra và in ra `\"Odd\"` nếu là số lẻ và `\"Even\"` nếu là số chẵn:"
   ]
  },
  {
   "cell_type": "code",
   "execution_count": null,
   "id": "b8919989-4904-4c43-bc0c-e1c3f113a2e6",
   "metadata": {},
   "outputs": [],
   "source": []
  },
  {
   "cell_type": "code",
   "execution_count": null,
   "id": "4d281982-5f1c-4c6b-9e5c-3b6636afd3bd",
   "metadata": {},
   "outputs": [],
   "source": []
  },
  {
   "cell_type": "markdown",
   "id": "2f000cbf-0afa-49c4-9305-8d2e4ca434a8",
   "metadata": {},
   "source": [
    "**Làm thêm:**:\n",
    "\n",
    "1. Thử gán lại `x` với số nguyên khác và chạy lại đoạn code kiểm tra chẵn lẻ.\n",
    "1. Thử gán `x` bằng `5.5`. Chạy lại đoạn code kiểm tra chẵn lẻ. Cần lưu ý gì?"
   ]
  },
  {
   "cell_type": "code",
   "execution_count": null,
   "id": "0138dfdc-9265-46b6-8e72-b5953ed50df5",
   "metadata": {},
   "outputs": [],
   "source": []
  },
  {
   "cell_type": "code",
   "execution_count": null,
   "id": "3ce33b6c-c5ce-4580-80a0-3df86bfd8c78",
   "metadata": {},
   "outputs": [],
   "source": []
  },
  {
   "cell_type": "markdown",
   "id": "755f0f56-f8dd-4782-bc1d-33f8c34cd559",
   "metadata": {},
   "source": [
    "#### Practice 2"
   ]
  },
  {
   "cell_type": "markdown",
   "id": "fe510086-1335-49ea-919c-c762c03ddad9",
   "metadata": {},
   "source": [
    "Kiểm tra chẵn lẻ dùng cách ép kiểu (thử với trường hợp `x = 5` và `x = -2`):  \n",
    "\n",
    "Gợi ý: \n",
    "- Lệnh `if` expect biểu thức mà kết quả trả về là `bool`.\n",
    "- Nếu kết quả trả về khác `bool` thì sẽ được tự động ép về `bool`."
   ]
  },
  {
   "cell_type": "code",
   "execution_count": 2,
   "id": "01400a27-bcc4-4b64-9146-c575532a022c",
   "metadata": {},
   "outputs": [
    {
     "name": "stdout",
     "output_type": "stream",
     "text": [
      "Even\n"
     ]
    }
   ],
   "source": [
    "x = -2\n",
    "\n",
    "if x % 2:\n",
    "    print(\"Odd\")\n",
    "else:\n",
    "    print(\"Even\")"
   ]
  },
  {
   "cell_type": "markdown",
   "id": "3e63b9d6-e12e-4abe-acf7-a18545394ae1",
   "metadata": {},
   "source": [
    "## 4. Kiểu `int`"
   ]
  },
  {
   "cell_type": "markdown",
   "id": "ee2ab35b-bdd0-45b7-8d8c-10416e17056e",
   "metadata": {},
   "source": [
    "### 4.1. Tổng quan\n",
    "- Là số nguyên (integers), dương hoặc âm, không có phần thập phân.\n",
    "- Độ dài vô hạn. \n",
    "- Được hình thành từ phép gán với số nguyên hoặc biểu thức mà kết quả trả về là số nguyên.\n",
    "- Ép kiểu về `int` dùng hàm `int()`"
   ]
  },
  {
   "cell_type": "markdown",
   "id": "44a6925c-26ed-4e8b-a670-b8f0503bb4bd",
   "metadata": {},
   "source": [
    "### 4.2. Ví dụ thực hành"
   ]
  },
  {
   "cell_type": "markdown",
   "id": "fd4f8891-bc0c-42b4-8eef-c4d6a8eed3a5",
   "metadata": {},
   "source": [
    "#### BÀI TẬP TỔNG QUÁT"
   ]
  },
  {
   "cell_type": "markdown",
   "id": "f33b9d7e-0a3b-4d6f-ad99-03b579a8724f",
   "metadata": {},
   "source": [
    "#### VD1: số nguyên dương\n",
    "Tạo biến `x`, gán giá trị `100`.  \n",
    "In giá trị và kiểu của `x`."
   ]
  },
  {
   "cell_type": "code",
   "execution_count": 14,
   "id": "83c00e07-e0f8-4395-bf61-be70725cd6c2",
   "metadata": {},
   "outputs": [],
   "source": [
    "# Tạo biến\n",
    "x = 100"
   ]
  },
  {
   "cell_type": "code",
   "execution_count": 17,
   "id": "59d64635-9405-4b26-8bf0-094e19fd7217",
   "metadata": {},
   "outputs": [
    {
     "name": "stdout",
     "output_type": "stream",
     "text": [
      "100\n"
     ]
    }
   ],
   "source": [
    "# In giá trị\n",
    "print(x)"
   ]
  },
  {
   "cell_type": "code",
   "execution_count": 18,
   "id": "873cc099-91cd-42a9-a144-04f253bf8a36",
   "metadata": {},
   "outputs": [
    {
     "data": {
      "text/plain": [
       "int"
      ]
     },
     "execution_count": 18,
     "metadata": {},
     "output_type": "execute_result"
    }
   ],
   "source": [
    "# In kiểu\n",
    "type(x)"
   ]
  },
  {
   "cell_type": "markdown",
   "id": "2cc31de4-8aad-4297-afb1-ae7c89987a56",
   "metadata": {},
   "source": [
    "#### VD2: số nguyên âm\n",
    "Tạo biến `x`, gán giá trị `-123`.\n",
    "\n",
    "In giá trị và kiểu của `x`."
   ]
  },
  {
   "cell_type": "code",
   "execution_count": 19,
   "id": "3310d948-63ea-451a-977f-67ebae56ddde",
   "metadata": {},
   "outputs": [],
   "source": [
    "# Tạo biến\n",
    "x = -123 # Literal"
   ]
  },
  {
   "cell_type": "code",
   "execution_count": 20,
   "id": "2f7aa00c-94ed-4590-84f5-8fa772f11684",
   "metadata": {},
   "outputs": [
    {
     "data": {
      "text/plain": [
       "-123"
      ]
     },
     "execution_count": 20,
     "metadata": {},
     "output_type": "execute_result"
    }
   ],
   "source": [
    "# In giá trị\n",
    "x"
   ]
  },
  {
   "cell_type": "code",
   "execution_count": 21,
   "id": "1c252c84-b0d1-4fa0-a197-cff515d6fd09",
   "metadata": {},
   "outputs": [
    {
     "data": {
      "text/plain": [
       "int"
      ]
     },
     "execution_count": 21,
     "metadata": {},
     "output_type": "execute_result"
    }
   ],
   "source": [
    "# In kiểu\n",
    "type(x)"
   ]
  },
  {
   "cell_type": "markdown",
   "id": "b277a442-86b8-49d4-885d-b2a46e5916bd",
   "metadata": {},
   "source": [
    "#### VD3: Số nguyên độ dài tùy ý\n",
    "\n",
    "Python cho phép số nguyên với độ dài tùy ý. Không bị overflow như một số ngôn ngữ khác."
   ]
  },
  {
   "cell_type": "markdown",
   "id": "fd85a4bc-a466-4f17-864d-5567bb3b1884",
   "metadata": {},
   "source": [
    "Khởi tạo biến `x` với giá trị: `35656222554887711323233557676768565865859659`"
   ]
  },
  {
   "cell_type": "code",
   "execution_count": 23,
   "id": "9721582c-ffe6-4373-bc81-de6c160b3d21",
   "metadata": {},
   "outputs": [],
   "source": [
    "x = 3565622255488771132323355767676856586585965999884384"
   ]
  },
  {
   "cell_type": "markdown",
   "id": "1a27cbc5-4f79-4e6d-8692-c0a9f0f6f3c6",
   "metadata": {},
   "source": [
    "In giá trị và kiểu của `x`:"
   ]
  },
  {
   "cell_type": "code",
   "execution_count": 24,
   "id": "aa5ab3c8-d028-4121-b957-d610de3aba55",
   "metadata": {},
   "outputs": [
    {
     "data": {
      "text/plain": [
       "3565622255488771132323355767676856586585965999884384"
      ]
     },
     "execution_count": 24,
     "metadata": {},
     "output_type": "execute_result"
    }
   ],
   "source": [
    "x"
   ]
  },
  {
   "cell_type": "code",
   "execution_count": 25,
   "id": "631ef36f-1ec5-4586-aa9a-384e83927806",
   "metadata": {},
   "outputs": [
    {
     "data": {
      "text/plain": [
       "int"
      ]
     },
     "execution_count": 25,
     "metadata": {},
     "output_type": "execute_result"
    }
   ],
   "source": [
    "type(x)"
   ]
  },
  {
   "cell_type": "markdown",
   "id": "fbe4d665-800c-490d-b1ba-50168bdbb842",
   "metadata": {},
   "source": [
    "#### VD 4: Phép gán biểu thức mà kết quả trả về là số nguyên "
   ]
  },
  {
   "cell_type": "code",
   "execution_count": 26,
   "id": "6b5649f0-4fff-407a-87a2-e700334093f7",
   "metadata": {},
   "outputs": [],
   "source": [
    "x = 5 // 2 # Expression"
   ]
  },
  {
   "cell_type": "code",
   "execution_count": 4,
   "id": "d7e559ef-b05c-4561-bfcb-dd7431d7bdaf",
   "metadata": {},
   "outputs": [
    {
     "data": {
      "text/plain": [
       "125"
      ]
     },
     "execution_count": 4,
     "metadata": {},
     "output_type": "execute_result"
    }
   ],
   "source": [
    "5**3"
   ]
  },
  {
   "cell_type": "markdown",
   "id": "22f6fb6b-f930-4309-8117-618eec592362",
   "metadata": {},
   "source": [
    "#### BÀI TẬP ÉP KIỂU\n",
    "\n",
    "Ép về `int` dùng `int()`.  \n",
    "Tuy nhiên không phải kiểu nào cũng ép được về `int`."
   ]
  },
  {
   "cell_type": "markdown",
   "id": "a8b653b9-d560-4cc3-87bc-a3f8ec168f0e",
   "metadata": {},
   "source": [
    "**Ép `bool` -> `int`**"
   ]
  },
  {
   "cell_type": "markdown",
   "id": "8204d8f4-8219-4145-b2ec-50028b5b8a41",
   "metadata": {},
   "source": [
    "Ép các giá trị `True` và `False` về `int`:"
   ]
  },
  {
   "cell_type": "code",
   "execution_count": 6,
   "id": "7442b89f-876f-4c55-986c-70afb63742a3",
   "metadata": {},
   "outputs": [
    {
     "data": {
      "text/plain": [
       "1"
      ]
     },
     "execution_count": 6,
     "metadata": {},
     "output_type": "execute_result"
    }
   ],
   "source": [
    "int(True)"
   ]
  },
  {
   "cell_type": "code",
   "execution_count": 28,
   "id": "d5f7cd7e-2733-451b-ba05-ac08e76e9e6f",
   "metadata": {},
   "outputs": [
    {
     "data": {
      "text/plain": [
       "1"
      ]
     },
     "execution_count": 28,
     "metadata": {},
     "output_type": "execute_result"
    }
   ],
   "source": [
    "# True -> int\n",
    "int(True)"
   ]
  },
  {
   "cell_type": "code",
   "execution_count": 29,
   "id": "6e7a1e5a-16f5-43ff-ba2d-6c9098b31041",
   "metadata": {},
   "outputs": [
    {
     "data": {
      "text/plain": [
       "0"
      ]
     },
     "execution_count": 29,
     "metadata": {},
     "output_type": "execute_result"
    }
   ],
   "source": [
    "# False -> int\n",
    "int(False)"
   ]
  },
  {
   "cell_type": "markdown",
   "id": "6346a34f-8a21-465d-be40-0bf00276e28e",
   "metadata": {},
   "source": [
    "**Ép `float` -> `int`**"
   ]
  },
  {
   "cell_type": "markdown",
   "id": "71540ae9-da08-482a-90f5-d224aa5d8986",
   "metadata": {},
   "source": [
    "Tạo `x` với giá trị `10.99`. In ra giá trị và kiểu của `x`:"
   ]
  },
  {
   "cell_type": "code",
   "execution_count": 31,
   "id": "565aad3d-4de8-45d9-834c-877b0234d042",
   "metadata": {},
   "outputs": [],
   "source": [
    "# Tạo biến\n",
    "x = 10.99"
   ]
  },
  {
   "cell_type": "code",
   "execution_count": 32,
   "id": "2d305736-5c38-4bad-a1de-bc0dc0b61e94",
   "metadata": {},
   "outputs": [
    {
     "data": {
      "text/plain": [
       "10.99"
      ]
     },
     "execution_count": 32,
     "metadata": {},
     "output_type": "execute_result"
    }
   ],
   "source": [
    "# In giá trị\n",
    "x"
   ]
  },
  {
   "cell_type": "code",
   "execution_count": 34,
   "id": "13890f75-b740-4b7f-bfd0-07a90fb5894c",
   "metadata": {},
   "outputs": [
    {
     "data": {
      "text/plain": [
       "float"
      ]
     },
     "execution_count": 34,
     "metadata": {},
     "output_type": "execute_result"
    }
   ],
   "source": [
    "# In kiểu\n",
    "type(x)"
   ]
  },
  {
   "cell_type": "markdown",
   "id": "cc87d514-bad9-40f7-a613-2a1ce81216c5",
   "metadata": {},
   "source": [
    "Tạo `y` bằng cách ép `x` về `int`.  \n",
    "In ra giá trị và kiểu của `y`.  \n",
    "Note: để ý kết quả sẽ bị chặt cụt phần thập phân."
   ]
  },
  {
   "cell_type": "code",
   "execution_count": null,
   "id": "24ca1d00-859d-4a8b-924a-b1ef85f08520",
   "metadata": {},
   "outputs": [],
   "source": [
    "y = x # Alias"
   ]
  },
  {
   "cell_type": "code",
   "execution_count": 35,
   "id": "f11ebc55-b7be-4a11-a464-1a04a0dbed0a",
   "metadata": {},
   "outputs": [],
   "source": [
    "y = int(x) # 10"
   ]
  },
  {
   "cell_type": "code",
   "execution_count": 36,
   "id": "4c9ca093-6955-4331-ae70-a0a22d598f5e",
   "metadata": {},
   "outputs": [
    {
     "data": {
      "text/plain": [
       "10"
      ]
     },
     "execution_count": 36,
     "metadata": {},
     "output_type": "execute_result"
    }
   ],
   "source": [
    "y"
   ]
  },
  {
   "cell_type": "code",
   "execution_count": 37,
   "id": "039a2fea-2197-4b26-a9fb-342fe370b992",
   "metadata": {},
   "outputs": [
    {
     "data": {
      "text/plain": [
       "int"
      ]
     },
     "execution_count": 37,
     "metadata": {},
     "output_type": "execute_result"
    }
   ],
   "source": [
    "type(y)"
   ]
  },
  {
   "cell_type": "markdown",
   "id": "70390dae-925d-41a8-9e8e-81f8043ab31f",
   "metadata": {},
   "source": [
    "**Ép `str` -> `int`**\n",
    "\n",
    "Tuy nhiên \n",
    "\n",
    "1. String phải là có dạng một số nguyên hợp lệ (chỉ chứa chữ số từ 0-9, không có ký tự khác, ngoại trừ khoảng trắng được cho phép ở 2 đầu)\n",
    "1. Ký tự `\"0\"` đứng ở đầu sẽ được bỏ đi."
   ]
  },
  {
   "cell_type": "code",
   "execution_count": null,
   "id": "3ae14131-3216-4331-bd9e-bdb20a1952b1",
   "metadata": {},
   "outputs": [],
   "source": [
    "# Ép từ string, khoảng trắng sẽ được trimmed\n",
    "print(int(\"10\"))\n",
    "print(int(\" 10\"))\n",
    "print(int(\"10   \"))\n",
    "print(int(\" -10  \"))\n",
    "print(int(\"001\"))"
   ]
  },
  {
   "cell_type": "markdown",
   "id": "243c2c95-bc24-445a-8312-625da7775128",
   "metadata": {},
   "source": [
    "#### BÀI TẬP CÁC PHÉP TOÁN SỐ HỌC\n",
    "(Arithmetic)"
   ]
  },
  {
   "cell_type": "markdown",
   "id": "f5b4fb4f-3b57-4b3f-82fa-f59de65483df",
   "metadata": {},
   "source": [
    "Đầu tiên khởi tạo 2 biến kiểu int `x = 15` và `y = 4`"
   ]
  },
  {
   "cell_type": "code",
   "execution_count": 50,
   "id": "9ecccaa5-e9d1-4b7e-9d6a-61bfd6cd48e5",
   "metadata": {},
   "outputs": [],
   "source": [
    "x = 15\n",
    "y = 4"
   ]
  },
  {
   "cell_type": "markdown",
   "id": "38cf8474-5631-488b-a269-124c2d872af9",
   "metadata": {},
   "source": [
    "Cộng `x` và `y`"
   ]
  },
  {
   "cell_type": "code",
   "execution_count": 52,
   "id": "16c721ba-d179-486c-8802-077633784be3",
   "metadata": {},
   "outputs": [
    {
     "data": {
      "text/plain": [
       "19"
      ]
     },
     "execution_count": 52,
     "metadata": {},
     "output_type": "execute_result"
    }
   ],
   "source": [
    "x + y"
   ]
  },
  {
   "cell_type": "markdown",
   "id": "18d729da-c1c1-4788-9c66-2a5bf29c6843",
   "metadata": {},
   "source": [
    "Trừ `x` cho `y`"
   ]
  },
  {
   "cell_type": "code",
   "execution_count": 53,
   "id": "8a66ff18-dae3-4055-ba5e-76026d7d826c",
   "metadata": {},
   "outputs": [
    {
     "data": {
      "text/plain": [
       "11"
      ]
     },
     "execution_count": 53,
     "metadata": {},
     "output_type": "execute_result"
    }
   ],
   "source": [
    "x - y"
   ]
  },
  {
   "cell_type": "markdown",
   "id": "904a0cf1-155b-4868-8fd8-dfa8527274e2",
   "metadata": {},
   "source": [
    "Chia thực `x` cho `y`"
   ]
  },
  {
   "cell_type": "code",
   "execution_count": 54,
   "id": "0fc0e8aa-74e6-49aa-afbe-f57a87e19273",
   "metadata": {},
   "outputs": [
    {
     "data": {
      "text/plain": [
       "3.75"
      ]
     },
     "execution_count": 54,
     "metadata": {},
     "output_type": "execute_result"
    }
   ],
   "source": [
    "x / y"
   ]
  },
  {
   "cell_type": "markdown",
   "id": "723fa1e1-b491-454e-8f81-06e434c41033",
   "metadata": {},
   "source": [
    "Chia nguyên `x` cho `y`"
   ]
  },
  {
   "cell_type": "code",
   "execution_count": 55,
   "id": "5f6511ad-ad8b-41be-87f8-aa24b31aea0f",
   "metadata": {},
   "outputs": [
    {
     "data": {
      "text/plain": [
       "3"
      ]
     },
     "execution_count": 55,
     "metadata": {},
     "output_type": "execute_result"
    }
   ],
   "source": [
    "x // y"
   ]
  },
  {
   "cell_type": "markdown",
   "id": "13878ef7-6bcb-43f4-88af-68d497b61218",
   "metadata": {},
   "source": [
    "Chia dư `x` cho `y`"
   ]
  },
  {
   "cell_type": "code",
   "execution_count": 56,
   "id": "4bed44d3-0374-4ded-841f-009560ddd3bf",
   "metadata": {},
   "outputs": [
    {
     "data": {
      "text/plain": [
       "3"
      ]
     },
     "execution_count": 56,
     "metadata": {},
     "output_type": "execute_result"
    }
   ],
   "source": [
    "x % y"
   ]
  },
  {
   "cell_type": "markdown",
   "id": "c8b3db2f-a743-44fa-8f71-7630e2ac7a66",
   "metadata": {},
   "source": [
    "Đảo dấu `x`"
   ]
  },
  {
   "cell_type": "code",
   "execution_count": 59,
   "id": "89932a8f-316e-474f-9d4c-74f7f9a6cce5",
   "metadata": {},
   "outputs": [
    {
     "data": {
      "text/plain": [
       "-15"
      ]
     },
     "execution_count": 59,
     "metadata": {},
     "output_type": "execute_result"
    }
   ],
   "source": [
    "-x"
   ]
  },
  {
   "cell_type": "markdown",
   "id": "f2260685-f59f-45c5-8da2-f3720daa77fe",
   "metadata": {},
   "source": [
    "`x` mũ `y`"
   ]
  },
  {
   "cell_type": "code",
   "execution_count": 64,
   "id": "a2f7af15-e708-4d9e-bb5b-80556e72189f",
   "metadata": {},
   "outputs": [
    {
     "data": {
      "text/plain": [
       "32"
      ]
     },
     "execution_count": 64,
     "metadata": {},
     "output_type": "execute_result"
    }
   ],
   "source": [
    "2 ** 5"
   ]
  },
  {
   "cell_type": "markdown",
   "id": "750ab138-0914-4799-8ff2-075715be8b50",
   "metadata": {},
   "source": [
    "#### BÀI TẬP PHÉP TOÁN SO SÁNH\n",
    "(Comparison)"
   ]
  },
  {
   "cell_type": "markdown",
   "id": "20516492-4619-4e7b-bece-58ee9a3f8608",
   "metadata": {},
   "source": [
    "Tạo 3 biến `x`, `y`, `z` với giá trị lần lượt là `3`, `5`, `3`"
   ]
  },
  {
   "cell_type": "code",
   "execution_count": 65,
   "id": "2680e03d-8bd1-4f7b-932a-21b8497eef01",
   "metadata": {},
   "outputs": [],
   "source": [
    "x = 3\n",
    "y = 5\n",
    "z = 3"
   ]
  },
  {
   "cell_type": "markdown",
   "id": "a56264a5-5c57-415e-bf49-c1eae9329bac",
   "metadata": {},
   "source": [
    "So sánh xem `x` có bằng `z`:"
   ]
  },
  {
   "cell_type": "code",
   "execution_count": 66,
   "id": "c0fc6c61-7e97-4560-8a04-7cbce0d853ef",
   "metadata": {},
   "outputs": [
    {
     "data": {
      "text/plain": [
       "True"
      ]
     },
     "execution_count": 66,
     "metadata": {},
     "output_type": "execute_result"
    }
   ],
   "source": [
    "x == z"
   ]
  },
  {
   "cell_type": "markdown",
   "id": "9eb73d68-76ff-4c2b-853c-6ac2f022c438",
   "metadata": {},
   "source": [
    "So sánh xem `x` có bằng `y`:"
   ]
  },
  {
   "cell_type": "code",
   "execution_count": 67,
   "id": "d13ef870-8efa-4f5a-8335-43edfbf9efcc",
   "metadata": {},
   "outputs": [
    {
     "data": {
      "text/plain": [
       "False"
      ]
     },
     "execution_count": 67,
     "metadata": {},
     "output_type": "execute_result"
    }
   ],
   "source": [
    "x == y"
   ]
  },
  {
   "cell_type": "markdown",
   "id": "49e7a06a-db79-4893-8ea9-a93fb65cd34a",
   "metadata": {},
   "source": [
    "So sánh xem `x` có lớn hơn hoặc bằng `z`:"
   ]
  },
  {
   "cell_type": "code",
   "execution_count": 68,
   "id": "397717c6-44f5-4a28-b274-b30e08e73a11",
   "metadata": {},
   "outputs": [
    {
     "data": {
      "text/plain": [
       "False"
      ]
     },
     "execution_count": 68,
     "metadata": {},
     "output_type": "execute_result"
    }
   ],
   "source": [
    "x > z"
   ]
  },
  {
   "cell_type": "markdown",
   "id": "37617df2-a21b-4532-99df-39b8fbaa9a03",
   "metadata": {},
   "source": [
    "Thử với các phép tán khác `!=, >, <, >=, ...`"
   ]
  },
  {
   "cell_type": "markdown",
   "id": "87bbbaa2-da84-412f-ba4e-4b6fba00f58d",
   "metadata": {},
   "source": [
    "## 5. Kiểu `float`\n",
    "(Real)"
   ]
  },
  {
   "cell_type": "markdown",
   "id": "de7b275c-8b2f-4fd0-a3c4-904acccc74f3",
   "metadata": {},
   "source": [
    "### 5.1. Tổng quan\n",
    "- Biểu diễn số thực.\n",
    "- Được hình thành từ phép gán với số thực hoặc biểu thức mà kết quả trả về là số thực.\n",
    "- Ép kiểu về int dùng hàm `float()`"
   ]
  },
  {
   "cell_type": "markdown",
   "id": "cea7728e-3009-4d30-bf62-2980f9a26409",
   "metadata": {},
   "source": [
    "### 5.2. Ví dụ thực hành"
   ]
  },
  {
   "cell_type": "markdown",
   "id": "438c8372-e082-4df8-b9d3-cd32bfd1b879",
   "metadata": {},
   "source": [
    "#### BÀI TẬP TỔNG QUÁT"
   ]
  },
  {
   "cell_type": "markdown",
   "id": "454c3aae-697c-4638-8aca-25a621d75946",
   "metadata": {},
   "source": [
    "Tạo biến thực `x` giá trị `100`. In ra giá trị và kiểu:"
   ]
  },
  {
   "cell_type": "code",
   "execution_count": 76,
   "id": "882a1d25-1374-4841-8601-a981e55e60a4",
   "metadata": {},
   "outputs": [],
   "source": [
    "x = 100."
   ]
  },
  {
   "cell_type": "code",
   "execution_count": 77,
   "id": "a38cbce8-e560-4a84-896e-b2f430260654",
   "metadata": {},
   "outputs": [
    {
     "data": {
      "text/plain": [
       "100.0"
      ]
     },
     "execution_count": 77,
     "metadata": {},
     "output_type": "execute_result"
    }
   ],
   "source": [
    "x"
   ]
  },
  {
   "cell_type": "code",
   "execution_count": 78,
   "id": "3c2abed6-138c-4a86-8f63-adb61a07fe2e",
   "metadata": {},
   "outputs": [
    {
     "data": {
      "text/plain": [
       "float"
      ]
     },
     "execution_count": 78,
     "metadata": {},
     "output_type": "execute_result"
    }
   ],
   "source": [
    "type(x)"
   ]
  },
  {
   "cell_type": "markdown",
   "id": "c94803ba-d6c0-4e7a-b824-0e1032743036",
   "metadata": {},
   "source": [
    "Tạo biến `x` là kết quả của phép chia thực `100` cho `5`. In ra giá trị, kiểu:"
   ]
  },
  {
   "cell_type": "code",
   "execution_count": 80,
   "id": "eb0b936d-cf09-4ed1-a05e-1487e428eb33",
   "metadata": {},
   "outputs": [],
   "source": [
    "x = 100 / 5"
   ]
  },
  {
   "cell_type": "code",
   "execution_count": 81,
   "id": "5c7c40f4-12ac-42d9-81f1-88ec706720d8",
   "metadata": {},
   "outputs": [
    {
     "data": {
      "text/plain": [
       "20.0"
      ]
     },
     "execution_count": 81,
     "metadata": {},
     "output_type": "execute_result"
    }
   ],
   "source": [
    "x"
   ]
  },
  {
   "cell_type": "code",
   "execution_count": 82,
   "id": "6919d712-d1ff-403a-8ff3-558be7bb2a05",
   "metadata": {},
   "outputs": [
    {
     "data": {
      "text/plain": [
       "float"
      ]
     },
     "execution_count": 82,
     "metadata": {},
     "output_type": "execute_result"
    }
   ],
   "source": [
    "type(x)"
   ]
  },
  {
   "cell_type": "markdown",
   "id": "945f1d7d-d9ae-4504-b1b1-d8902ab20ba9",
   "metadata": {},
   "source": [
    "Dùng scientific notations (`e5` hoặc `E5` ứng với `10 ** 5`).  \n",
    "Tes thử với\n",
    "```python\n",
    "x = 35e3\n",
    "y = 12E4\n",
    "z = -87.7e100\n",
    "```"
   ]
  },
  {
   "cell_type": "code",
   "execution_count": null,
   "id": "262fe1f3-5c9e-4b6b-8e62-de558ddf2cbb",
   "metadata": {},
   "outputs": [],
   "source": []
  },
  {
   "cell_type": "markdown",
   "id": "f5ac4d4a-a9a9-439c-9f1a-c6b98fc8eafa",
   "metadata": {},
   "source": [
    "#### BÀI TẬP ÉP KIỂU"
   ]
  },
  {
   "cell_type": "markdown",
   "id": "b9d27337-c6c8-40ee-99b1-0ffe32383786",
   "metadata": {},
   "source": [
    "Ép từ kiểu `bool`: `True` ứng với `1.0`, `False` ứng với `0.0`"
   ]
  },
  {
   "cell_type": "code",
   "execution_count": 93,
   "id": "b015a699-0f46-4c7f-91ab-6783fe699133",
   "metadata": {},
   "outputs": [
    {
     "data": {
      "text/plain": [
       "0.0"
      ]
     },
     "execution_count": 93,
     "metadata": {},
     "output_type": "execute_result"
    }
   ],
   "source": [
    "float(False)"
   ]
  },
  {
   "cell_type": "code",
   "execution_count": 95,
   "id": "f46019de-9c49-488b-8952-f97c11bbcf0a",
   "metadata": {},
   "outputs": [
    {
     "data": {
      "text/plain": [
       "5.0"
      ]
     },
     "execution_count": 95,
     "metadata": {},
     "output_type": "execute_result"
    }
   ],
   "source": [
    "float(5)"
   ]
  },
  {
   "cell_type": "markdown",
   "id": "1f9817e7-8bd0-4cb5-ab47-5e4e198373b8",
   "metadata": {},
   "source": [
    "Ép từ string, khoảng trắng sẽ được trimmed\n",
    "\n",
    "```python\n",
    "print(float(\"10.0\"))\n",
    "print(float(\" 10.\"))\n",
    "print(float(\"10.   \"))\n",
    "print(float(\"-10.   \"))\n",
    "```"
   ]
  },
  {
   "cell_type": "markdown",
   "id": "cea49720-425e-4697-9b77-e1e0078d4d89",
   "metadata": {},
   "source": [
    "Lưu ý, nếu string không phải dạng biểu diễn của 1 số `float` sẽ báo lỗi. VD: `\"12,000\"`"
   ]
  },
  {
   "cell_type": "markdown",
   "id": "5a05b87a-0f76-4d93-b509-8a27b8062682",
   "metadata": {},
   "source": [
    "### 5.4. Các phép toán trên kiểu `float`\n",
    "- Tương tự kiểu `int`\n",
    "    - Số học: `+, -, *, /, **`. Không có `//` và `%`.\n",
    "    - So sánh: `>, <, ==, !=`, ...\n",
    "\n",
    "- Lưu ý: tránh dùng số `//` và `%` cho số `float`."
   ]
  },
  {
   "cell_type": "markdown",
   "id": "24b6bd3d-b067-4f32-87ba-0ae3e3f23698",
   "metadata": {},
   "source": [
    "## 6.  Math utilities"
   ]
  },
  {
   "cell_type": "code",
   "execution_count": 101,
   "id": "2af6713b-6e6a-4f17-be1a-942d6cdc7259",
   "metadata": {},
   "outputs": [],
   "source": [
    "# Import package math\n",
    "import math"
   ]
  },
  {
   "cell_type": "code",
   "execution_count": 102,
   "id": "2e4aad53-807c-4f33-8c61-7df06de273ef",
   "metadata": {},
   "outputs": [],
   "source": [
    "# Khởi tạo một biến x giá trị 25, biến y giá trị -4\n",
    "x = 25\n",
    "y = -4"
   ]
  },
  {
   "cell_type": "code",
   "execution_count": 104,
   "id": "d88c7308-8ce4-4102-825a-5ddc5db34e78",
   "metadata": {},
   "outputs": [
    {
     "data": {
      "text/plain": [
       "4"
      ]
     },
     "execution_count": 104,
     "metadata": {},
     "output_type": "execute_result"
    }
   ],
   "source": [
    "# Lấy giá trị tuyệt đối\n",
    "abs(y) # Absolute value"
   ]
  },
  {
   "cell_type": "code",
   "execution_count": 113,
   "id": "2e2a5af0-f64c-44bf-bc21-ab0ab88022e1",
   "metadata": {},
   "outputs": [
    {
     "data": {
      "text/plain": [
       "3.3333"
      ]
     },
     "execution_count": 113,
     "metadata": {},
     "output_type": "execute_result"
    }
   ],
   "source": [
    "# Round kết quả để có 3 chữ số thập phân\n",
    "# 10 / 3\n",
    "round(10 / 3, 4)"
   ]
  },
  {
   "cell_type": "code",
   "execution_count": 124,
   "id": "85286c78-9d11-4d8d-ad94-c7b2302d7f85",
   "metadata": {},
   "outputs": [
    {
     "data": {
      "text/plain": [
       "-5"
      ]
     },
     "execution_count": 124,
     "metadata": {},
     "output_type": "execute_result"
    }
   ],
   "source": [
    "math.ceil(-5.1)"
   ]
  },
  {
   "cell_type": "code",
   "execution_count": null,
   "id": "c2d57a17-7c30-41fa-8e30-bfec211933f8",
   "metadata": {},
   "outputs": [],
   "source": [
    "round()\n",
    "int()\n",
    "math.ceil()\n",
    "math.floor()"
   ]
  },
  {
   "cell_type": "code",
   "execution_count": null,
   "id": "4d4506b6-b8a9-4fc5-8015-669acc40aa25",
   "metadata": {},
   "outputs": [],
   "source": [
    "# Round up kết quả lên số nguyên gần nhất (ceiling)\n",
    "# 10 / 3 vs. -10 / 3\n"
   ]
  },
  {
   "cell_type": "code",
   "execution_count": 126,
   "id": "ba56e566-9031-455c-b20b-22dbd62b1942",
   "metadata": {},
   "outputs": [
    {
     "data": {
      "text/plain": [
       "-6"
      ]
     },
     "execution_count": 126,
     "metadata": {},
     "output_type": "execute_result"
    }
   ],
   "source": [
    "# Roudn down kết quả xuống số nguyên gần nhất\n",
    "# 10 / 3 vs. -10 / 3\n",
    "math.floor(-5.1)"
   ]
  },
  {
   "cell_type": "code",
   "execution_count": 128,
   "id": "b5f7c020-d87b-4b1c-a35c-82e554fa6591",
   "metadata": {},
   "outputs": [
    {
     "data": {
      "text/plain": [
       "2.0"
      ]
     },
     "execution_count": 128,
     "metadata": {},
     "output_type": "execute_result"
    }
   ],
   "source": [
    "# Lấy căn bậc 2 (sqrt)\n",
    "math.sqrt(4) # Square root"
   ]
  },
  {
   "cell_type": "code",
   "execution_count": 132,
   "id": "a330f34f-e6cf-41cd-89ed-5152dbfe3b76",
   "metadata": {},
   "outputs": [
    {
     "data": {
      "text/plain": [
       "5.0"
      ]
     },
     "execution_count": 132,
     "metadata": {},
     "output_type": "execute_result"
    }
   ],
   "source": [
    "125 ** (1/3)"
   ]
  },
  {
   "cell_type": "code",
   "execution_count": 134,
   "id": "2f9cca4d-bb87-407f-90f7-dbf00de9a4e0",
   "metadata": {},
   "outputs": [
    {
     "name": "stdout",
     "output_type": "stream",
     "text": [
      "314.1592653589793\n"
     ]
    }
   ],
   "source": [
    "# Tính diện tích hình tròn bán kính là x\n",
    "x = 10\n",
    "area = math.pi * (x ** 2)\n",
    "print(area)"
   ]
  },
  {
   "cell_type": "code",
   "execution_count": 8,
   "id": "4b9bba14-3501-4392-958b-c4ba0b16dd30",
   "metadata": {},
   "outputs": [
    {
     "data": {
      "text/plain": [
       "3.141592653589793"
      ]
     },
     "execution_count": 8,
     "metadata": {},
     "output_type": "execute_result"
    }
   ],
   "source": [
    "import math\n",
    "math.pi"
   ]
  },
  {
   "cell_type": "code",
   "execution_count": 135,
   "id": "0ada2f01-21d8-4485-abb3-1b926d474714",
   "metadata": {},
   "outputs": [
    {
     "data": {
      "text/plain": [
       "3.141592653589793"
      ]
     },
     "execution_count": 135,
     "metadata": {},
     "output_type": "execute_result"
    }
   ],
   "source": [
    "math.pi"
   ]
  },
  {
   "cell_type": "code",
   "execution_count": 136,
   "id": "21ff17b4-a099-4942-b834-ab01927fb9c3",
   "metadata": {},
   "outputs": [
    {
     "data": {
      "text/plain": [
       "5.0"
      ]
     },
     "execution_count": 136,
     "metadata": {},
     "output_type": "execute_result"
    }
   ],
   "source": [
    "math.sqrt(25)"
   ]
  },
  {
   "cell_type": "code",
   "execution_count": 137,
   "id": "0d79c2af-1cbc-478c-a99f-610adb3323da",
   "metadata": {},
   "outputs": [
    {
     "data": {
      "text/plain": [
       "3.141592653589793"
      ]
     },
     "execution_count": 137,
     "metadata": {},
     "output_type": "execute_result"
    }
   ],
   "source": [
    "math.pi # Attribute"
   ]
  },
  {
   "cell_type": "code",
   "execution_count": 139,
   "id": "e2d61fef-2ee3-4776-a7b9-59b63e3bca40",
   "metadata": {
    "scrolled": true
   },
   "outputs": [
    {
     "data": {
      "text/plain": [
       "1.0"
      ]
     },
     "execution_count": 139,
     "metadata": {},
     "output_type": "execute_result"
    }
   ],
   "source": [
    "# Các hàm lượng giác (trig)\n",
    "math.sin(math.pi / 2)"
   ]
  },
  {
   "cell_type": "code",
   "execution_count": 140,
   "id": "dfa4587b-9c55-44ac-a83d-cb988786d88d",
   "metadata": {},
   "outputs": [
    {
     "data": {
      "text/plain": [
       "6.123233995736766e-17"
      ]
     },
     "execution_count": 140,
     "metadata": {},
     "output_type": "execute_result"
    }
   ],
   "source": [
    "math.cos(math.pi / 2)"
   ]
  },
  {
   "cell_type": "code",
   "execution_count": 141,
   "id": "2b000315-f66f-4a0f-bf8a-2306b6972919",
   "metadata": {},
   "outputs": [
    {
     "data": {
      "text/plain": [
       "314.1593"
      ]
     },
     "execution_count": 141,
     "metadata": {},
     "output_type": "execute_result"
    }
   ],
   "source": [
    "round(math.pi * 10 ** 2, 4)"
   ]
  },
  {
   "cell_type": "code",
   "execution_count": null,
   "id": "3231e86a-0694-47c5-a837-9b689a9a8f77",
   "metadata": {},
   "outputs": [],
   "source": [
    "round(1)"
   ]
  }
 ],
 "metadata": {
  "kernelspec": {
   "display_name": "Python 3 (ipykernel)",
   "language": "python",
   "name": "python3"
  },
  "language_info": {
   "codemirror_mode": {
    "name": "ipython",
    "version": 3
   },
   "file_extension": ".py",
   "mimetype": "text/x-python",
   "name": "python",
   "nbconvert_exporter": "python",
   "pygments_lexer": "ipython3",
   "version": "3.9.7"
  }
 },
 "nbformat": 4,
 "nbformat_minor": 5
}
