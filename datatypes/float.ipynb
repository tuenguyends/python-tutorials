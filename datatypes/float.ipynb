{
 "cells": [
  {
   "cell_type": "markdown",
   "id": "34cb81bf-4d2f-4933-817c-93779f173f3d",
   "metadata": {
    "tags": []
   },
   "source": [
    "# Real numbers"
   ]
  },
  {
   "cell_type": "markdown",
   "id": "182573a8-e0ba-4794-8e6c-d37e43ec8ff7",
   "metadata": {},
   "source": [
    "## Overview\n",
    "\n",
    "Python uses `float` to represent real numbers such as `1.5`, `3.14`, or `2.7`.\n",
    "\n",
    "We can create a `float` variable through an assignment with a real number literal, for example"
   ]
  },
  {
   "cell_type": "code",
   "execution_count": 3,
   "id": "7e3b405a-500f-45d6-b38b-2a0003878e07",
   "metadata": {},
   "outputs": [
    {
     "name": "stdout",
     "output_type": "stream",
     "text": [
      "1.5\n",
      "<class 'float'>\n"
     ]
    }
   ],
   "source": [
    "x = 1.5\n",
    "print(x)\n",
    "print(type(x))"
   ]
  },
  {
   "cell_type": "markdown",
   "id": "fea82423-fd67-4550-85a7-5d6b4b90482c",
   "metadata": {},
   "source": [
    "Note that `5.0` and `5` are of different types"
   ]
  },
  {
   "cell_type": "code",
   "execution_count": 4,
   "id": "fab167c0-2a7c-4f5e-81ef-7683b424b984",
   "metadata": {},
   "outputs": [
    {
     "data": {
      "text/plain": [
       "int"
      ]
     },
     "execution_count": 4,
     "metadata": {},
     "output_type": "execute_result"
    }
   ],
   "source": [
    "type(5)"
   ]
  },
  {
   "cell_type": "code",
   "execution_count": 5,
   "id": "77e9e3b8-cb04-4336-834a-647db8e900f3",
   "metadata": {},
   "outputs": [
    {
     "data": {
      "text/plain": [
       "float"
      ]
     },
     "execution_count": 5,
     "metadata": {},
     "output_type": "execute_result"
    }
   ],
   "source": [
    "type(5.0)"
   ]
  },
  {
   "cell_type": "markdown",
   "id": "54ec8750-6a59-4366-9e00-4fd1f825abe6",
   "metadata": {},
   "source": [
    "Although they are equal in value"
   ]
  },
  {
   "cell_type": "code",
   "execution_count": 6,
   "id": "253025ea-c7dd-4743-9c68-f294bdba83a6",
   "metadata": {},
   "outputs": [
    {
     "data": {
      "text/plain": [
       "True"
      ]
     },
     "execution_count": 6,
     "metadata": {},
     "output_type": "execute_result"
    }
   ],
   "source": [
    "5 == 5.0"
   ]
  },
  {
   "cell_type": "markdown",
   "id": "d60a11b6-a03d-423c-8942-12f2431f81a0",
   "metadata": {},
   "source": [
    "Also, `5.`, `5.0`, and `5.000` are all the same"
   ]
  },
  {
   "cell_type": "code",
   "execution_count": 7,
   "id": "9c440f62-172f-4677-9e5f-ecc95745cc87",
   "metadata": {},
   "outputs": [
    {
     "name": "stdout",
     "output_type": "stream",
     "text": [
      "5.0\n",
      "5.0\n",
      "5.0\n"
     ]
    }
   ],
   "source": [
    "print(5.)\n",
    "print(5.0)\n",
    "print(5.000)"
   ]
  },
  {
   "cell_type": "markdown",
   "id": "bdac113f-08df-461c-9f34-bf47036e52ea",
   "metadata": {},
   "source": [
    "Similarly, `0.5` and `.5` are the same"
   ]
  },
  {
   "cell_type": "code",
   "execution_count": 8,
   "id": "3e09f20b-0cd7-46b6-9905-61de1501c73c",
   "metadata": {},
   "outputs": [
    {
     "name": "stdout",
     "output_type": "stream",
     "text": [
      "0.5\n",
      "0.5\n"
     ]
    }
   ],
   "source": [
    "print(0.5)\n",
    "print(.5)"
   ]
  },
  {
   "cell_type": "markdown",
   "id": "e750c9d2-6180-449f-880b-b979c6747e8b",
   "metadata": {},
   "source": [
    "We can also create a `float` variable through an assignment with an expression that produces a `float`, for example"
   ]
  },
  {
   "cell_type": "code",
   "execution_count": 9,
   "id": "c178ab48-3756-4aa8-86d7-862f66d718fc",
   "metadata": {},
   "outputs": [
    {
     "data": {
      "text/plain": [
       "5.2"
      ]
     },
     "execution_count": 9,
     "metadata": {},
     "output_type": "execute_result"
    }
   ],
   "source": [
    "1.5 + 3.7"
   ]
  },
  {
   "cell_type": "code",
   "execution_count": 10,
   "id": "500544ad-c732-428a-a5ea-75cf677496f8",
   "metadata": {},
   "outputs": [
    {
     "data": {
      "text/plain": [
       "0.6666666666666666"
      ]
     },
     "execution_count": 10,
     "metadata": {},
     "output_type": "execute_result"
    }
   ],
   "source": [
    "2 / 3"
   ]
  },
  {
   "cell_type": "markdown",
   "id": "84fb2a4d-145e-4087-bfa4-964c01b78a8d",
   "metadata": {},
   "source": [
    "Another way to create a `float` is to use *scientific notation*"
   ]
  },
  {
   "cell_type": "code",
   "execution_count": 12,
   "id": "e82ccfdb-e076-46c6-94d4-930504158788",
   "metadata": {},
   "outputs": [
    {
     "data": {
      "text/plain": [
       "1000.0"
      ]
     },
     "execution_count": 12,
     "metadata": {},
     "output_type": "execute_result"
    }
   ],
   "source": [
    "# One thousand\n",
    "1e3"
   ]
  },
  {
   "cell_type": "code",
   "execution_count": 13,
   "id": "7dedc1bd-7dc8-49ca-9ab1-ffee24eeefab",
   "metadata": {},
   "outputs": [
    {
     "data": {
      "text/plain": [
       "10000000.0"
      ]
     },
     "execution_count": 13,
     "metadata": {},
     "output_type": "execute_result"
    }
   ],
   "source": [
    "# Ten million\n",
    "10e6"
   ]
  },
  {
   "cell_type": "code",
   "execution_count": 15,
   "id": "e47432e8-8924-457e-ac82-ad558ddc72c6",
   "metadata": {},
   "outputs": [
    {
     "data": {
      "text/plain": [
       "1230000000.0"
      ]
     },
     "execution_count": 15,
     "metadata": {},
     "output_type": "execute_result"
    }
   ],
   "source": [
    "# 1.23 billion\n",
    "1.23e9"
   ]
  },
  {
   "cell_type": "markdown",
   "id": "937c9079-0e33-4c0f-947a-952c80220208",
   "metadata": {
    "tags": []
   },
   "source": [
    "## When use `float`?\n",
    "\n",
    "For storing real numbers in general. In many applications, we often treat `5.0` (`float`) and `5` (`int`) as if they are the same."
   ]
  },
  {
   "cell_type": "markdown",
   "id": "77a94fb1-845a-4ffd-a0f2-614dcd364bb0",
   "metadata": {},
   "source": [
    "## Typecasting\n",
    "\n",
    "We use `float()` function to convert values from other types to `float`. However, not all values can be converted to `float` (only float-like values can)."
   ]
  },
  {
   "cell_type": "markdown",
   "id": "a7c2d4fd-e9ab-4a84-a658-d2c54b9fb2dd",
   "metadata": {},
   "source": [
    "Example 1: values that can be converted to `float`"
   ]
  },
  {
   "cell_type": "markdown",
   "id": "27a90b77-fc91-40ea-a557-8a12196807a4",
   "metadata": {},
   "source": [
    "From `bool`"
   ]
  },
  {
   "cell_type": "code",
   "execution_count": 16,
   "id": "f7d6316a-dae5-45a2-948b-70dae010d040",
   "metadata": {},
   "outputs": [
    {
     "data": {
      "text/plain": [
       "1.0"
      ]
     },
     "execution_count": 16,
     "metadata": {},
     "output_type": "execute_result"
    }
   ],
   "source": [
    "# True becomes 1.0\n",
    "float(True)"
   ]
  },
  {
   "cell_type": "code",
   "execution_count": 17,
   "id": "9cd5e055-3a9a-4658-a035-ac6f3c49605e",
   "metadata": {},
   "outputs": [
    {
     "data": {
      "text/plain": [
       "0.0"
      ]
     },
     "execution_count": 17,
     "metadata": {},
     "output_type": "execute_result"
    }
   ],
   "source": [
    "# False becomes 0.0\n",
    "float(False)"
   ]
  },
  {
   "cell_type": "markdown",
   "id": "14cad51c-00f4-481e-8364-f012763b2335",
   "metadata": {},
   "source": [
    "From `int`"
   ]
  },
  {
   "cell_type": "code",
   "execution_count": 20,
   "id": "df246ae5-3d32-4748-bab2-139e3d1704ee",
   "metadata": {},
   "outputs": [
    {
     "data": {
      "text/plain": [
       "12.0"
      ]
     },
     "execution_count": 20,
     "metadata": {},
     "output_type": "execute_result"
    }
   ],
   "source": [
    "# Just change the type\n",
    "float(12)"
   ]
  },
  {
   "cell_type": "markdown",
   "id": "60f9f683-41f0-4c31-8a85-cbfa0b4935c1",
   "metadata": {},
   "source": [
    "From `str`"
   ]
  },
  {
   "cell_type": "code",
   "execution_count": 22,
   "id": "d7598e18-f949-4115-9f54-8d56d8d33dcc",
   "metadata": {},
   "outputs": [
    {
     "name": "stdout",
     "output_type": "stream",
     "text": [
      "10.5\n",
      "<class 'float'>\n"
     ]
    }
   ],
   "source": [
    "# Strings that look like a float\n",
    "x = float(\"10.5\")\n",
    "print(x)\n",
    "print(type(x))"
   ]
  },
  {
   "cell_type": "code",
   "execution_count": 23,
   "id": "5cf783e2-990a-477b-b66a-08a5adc44e0e",
   "metadata": {},
   "outputs": [
    {
     "name": "stdout",
     "output_type": "stream",
     "text": [
      "-10.5\n",
      "<class 'float'>\n"
     ]
    }
   ],
   "source": [
    "# White spaces at two ends are ignored\n",
    "x = float(\"  -10.5 \")\n",
    "print(x)\n",
    "print(type(x))"
   ]
  },
  {
   "cell_type": "code",
   "execution_count": 24,
   "id": "239aa157-b2c1-472c-b6a6-b396f46918e2",
   "metadata": {},
   "outputs": [
    {
     "name": "stdout",
     "output_type": "stream",
     "text": [
      "-10.0\n",
      "<class 'float'>\n"
     ]
    }
   ],
   "source": [
    "# Leading zeros are also ignored\n",
    "x = float(\"  -00010 \")\n",
    "print(x)\n",
    "print(type(x))"
   ]
  },
  {
   "cell_type": "markdown",
   "id": "8ac28aeb-ae92-4829-b12d-83ab50322e68",
   "metadata": {},
   "source": [
    "However, strings like `\"1,000,000.123\"` (contains `,`) are not valid. Try it yourself to see the error."
   ]
  },
  {
   "cell_type": "markdown",
   "id": "f9cb349f-9cb7-4f7a-8072-70ab190fe59b",
   "metadata": {
    "tags": [],
    "toc-hr-collapsed": true
   },
   "source": [
    "## Operations on `float`"
   ]
  },
  {
   "cell_type": "markdown",
   "id": "4aa26d31-02dc-4ea8-9046-fba175ed528f",
   "metadata": {},
   "source": [
    "### Arithmetic\n",
    "\n",
    "Same as with integers. However, we cannot perform `//` and `%` on `float` values, because they are only mathematically meaningful for integers.\n",
    "\n",
    "Here are some simple examples"
   ]
  },
  {
   "cell_type": "code",
   "execution_count": 25,
   "id": "79f6240c-2ded-4268-b0a3-7d89bd5e0641",
   "metadata": {},
   "outputs": [
    {
     "data": {
      "text/plain": [
       "5.2"
      ]
     },
     "execution_count": 25,
     "metadata": {},
     "output_type": "execute_result"
    }
   ],
   "source": [
    "# Float plus float yields float\n",
    "1.5 + 3.7"
   ]
  },
  {
   "cell_type": "code",
   "execution_count": 29,
   "id": "8637a573-4af6-49b7-86b8-730961688fbf",
   "metadata": {},
   "outputs": [
    {
     "data": {
      "text/plain": [
       "6.0"
      ]
     },
     "execution_count": 29,
     "metadata": {},
     "output_type": "execute_result"
    }
   ],
   "source": [
    "# Int plus float yields float\n",
    "# result is promoted to a more general type\n",
    "5 + 1.0"
   ]
  },
  {
   "cell_type": "code",
   "execution_count": 27,
   "id": "d4a6dffb-d37f-48a2-a378-6abfd7d100dd",
   "metadata": {},
   "outputs": [
    {
     "data": {
      "text/plain": [
       "5.0"
      ]
     },
     "execution_count": 27,
     "metadata": {},
     "output_type": "execute_result"
    }
   ],
   "source": [
    "# Compute square root\n",
    "# by raising to power 0.5\n",
    "25**(0.5)"
   ]
  },
  {
   "cell_type": "code",
   "execution_count": 33,
   "id": "738421fd-b1ca-4ba3-8583-1cae28a9667a",
   "metadata": {},
   "outputs": [
    {
     "data": {
      "text/plain": [
       "3.333"
      ]
     },
     "execution_count": 33,
     "metadata": {},
     "output_type": "execute_result"
    }
   ],
   "source": [
    "# Rounding\n",
    "round(10 / 3, 3)"
   ]
  },
  {
   "cell_type": "code",
   "execution_count": 34,
   "id": "72f5219d-5491-4526-adb4-2fd44e0c47ab",
   "metadata": {},
   "outputs": [
    {
     "name": "stdout",
     "output_type": "stream",
     "text": [
      "10.5\n",
      "10.5\n"
     ]
    }
   ],
   "source": [
    "# Get absolute values\n",
    "print(abs(10.5))\n",
    "print(abs(-10.5))"
   ]
  },
  {
   "cell_type": "markdown",
   "id": "f9de4f6e-157f-462e-a22d-e987bff9f6c8",
   "metadata": {},
   "source": [
    "### Comparision\n",
    "\n",
    "Comparisons on numbers (`int` or `float`) always return a `bool`. (Already covered in the previous chapter)"
   ]
  },
  {
   "cell_type": "markdown",
   "id": "eec516ae-4a4d-4fa6-bbd1-ae8a7689b7f2",
   "metadata": {
    "tags": []
   },
   "source": [
    "## Math utilities\n",
    "\n",
    "Note: this section applies to numbers, thus to both `int` and `float`.\n",
    "\n",
    "The Python standard libraries come with a module named `math` containing utilities for dealing with numbers. You will learn more about modules later. For now, just follow some simple examples.\n",
    "\n",
    "To use `math` module, we need to import it. Then use the syntax `math.<name_of_function>` to call the function we want to use."
   ]
  },
  {
   "cell_type": "code",
   "execution_count": 30,
   "id": "394f6d87-f6cc-414a-a67c-0c4b067177ca",
   "metadata": {},
   "outputs": [],
   "source": [
    "# Import module math\n",
    "import math"
   ]
  },
  {
   "cell_type": "markdown",
   "id": "7e8e003e-9e4a-4a59-a65d-54607d4eb096",
   "metadata": {},
   "source": [
    "Ceiling function - round UP to the nearest integer.  \n",
    "(if you are not sure, get help using `?` such as `?math.ceil`)"
   ]
  },
  {
   "cell_type": "code",
   "execution_count": 35,
   "id": "67cb28df-6d4e-4caf-ab7f-78f3df1e5d61",
   "metadata": {},
   "outputs": [
    {
     "data": {
      "text/plain": [
       "4"
      ]
     },
     "execution_count": 35,
     "metadata": {},
     "output_type": "execute_result"
    }
   ],
   "source": [
    "# With positive value\n",
    "math.ceil(3.333)"
   ]
  },
  {
   "cell_type": "code",
   "execution_count": 36,
   "id": "b74d8069-3070-45f1-bde1-de7104b2e3fe",
   "metadata": {},
   "outputs": [
    {
     "data": {
      "text/plain": [
       "-3"
      ]
     },
     "execution_count": 36,
     "metadata": {},
     "output_type": "execute_result"
    }
   ],
   "source": [
    "# With negative value\n",
    "math.ceil(-3.333)"
   ]
  },
  {
   "cell_type": "markdown",
   "id": "201c35d7-3ddb-4bf6-9f10-b5dd4a114336",
   "metadata": {},
   "source": [
    "Floor function - round DOWN to the nearest integer."
   ]
  },
  {
   "cell_type": "code",
   "execution_count": 38,
   "id": "94e9aaba-ea39-4666-842e-6d8b99cc35f1",
   "metadata": {},
   "outputs": [
    {
     "data": {
      "text/plain": [
       "3"
      ]
     },
     "execution_count": 38,
     "metadata": {},
     "output_type": "execute_result"
    }
   ],
   "source": [
    "# With positive value\n",
    "math.floor(3.333)"
   ]
  },
  {
   "cell_type": "code",
   "execution_count": 39,
   "id": "4d6c9292-5617-48d3-9206-60dd97a3a2fb",
   "metadata": {},
   "outputs": [
    {
     "data": {
      "text/plain": [
       "-4"
      ]
     },
     "execution_count": 39,
     "metadata": {},
     "output_type": "execute_result"
    }
   ],
   "source": [
    "# With negative value\n",
    "math.floor(-3.333)"
   ]
  },
  {
   "cell_type": "markdown",
   "id": "5d33b850-0c34-4364-b28b-78a47f9df2fe",
   "metadata": {},
   "source": [
    "`math` also provides useful constants, for example"
   ]
  },
  {
   "cell_type": "code",
   "execution_count": 43,
   "id": "4811616a-01a8-401c-8d09-aa6788e0d678",
   "metadata": {},
   "outputs": [
    {
     "data": {
      "text/plain": [
       "3.141592653589793"
      ]
     },
     "execution_count": 43,
     "metadata": {},
     "output_type": "execute_result"
    }
   ],
   "source": [
    "# Constant pi\n",
    "math.pi"
   ]
  },
  {
   "cell_type": "code",
   "execution_count": 44,
   "id": "050f983e-e379-428b-bd8c-94a813adb22e",
   "metadata": {},
   "outputs": [
    {
     "data": {
      "text/plain": [
       "2.718281828459045"
      ]
     },
     "execution_count": 44,
     "metadata": {},
     "output_type": "execute_result"
    }
   ],
   "source": [
    "# Constant e\n",
    "math.e"
   ]
  },
  {
   "cell_type": "markdown",
   "id": "32affd7b-59fb-47c6-b516-68b3943a609e",
   "metadata": {},
   "source": [
    "Trigonometry functions"
   ]
  },
  {
   "cell_type": "code",
   "execution_count": 46,
   "id": "9d14f67b-6e30-4923-9c34-852cf92bdd7b",
   "metadata": {
    "scrolled": true
   },
   "outputs": [
    {
     "data": {
      "text/plain": [
       "1.0"
      ]
     },
     "execution_count": 46,
     "metadata": {},
     "output_type": "execute_result"
    }
   ],
   "source": [
    "# Sin pi/2 => 1\n",
    "math.sin(math.pi / 2)"
   ]
  },
  {
   "cell_type": "code",
   "execution_count": 47,
   "id": "b01a3c6f-0d0e-43ef-8901-ca873a584bf5",
   "metadata": {},
   "outputs": [
    {
     "data": {
      "text/plain": [
       "6.123233995736766e-17"
      ]
     },
     "execution_count": 47,
     "metadata": {},
     "output_type": "execute_result"
    }
   ],
   "source": [
    "# Cos pi / 2 => 0\n",
    "# Note that the result is not 0\n",
    "# but very close (due to approximation error)\n",
    "math.cos(math.pi / 2)"
   ]
  },
  {
   "cell_type": "markdown",
   "id": "1ecfd457-953f-4cad-81c6-e0858a3e9873",
   "metadata": {},
   "source": [
    "For the full list of what you can do with `math`, visit its official documentation page at https://docs.python.org/3/library/math.html"
   ]
  },
  {
   "cell_type": "markdown",
   "id": "a1f4e39c-4c52-4b02-b4ae-93befd3e6a1d",
   "metadata": {},
   "source": [
    "## Practice"
   ]
  },
  {
   "cell_type": "markdown",
   "id": "324a03d6-623b-483a-bade-35e6c0d5b7d5",
   "metadata": {
    "tags": []
   },
   "source": [
    "### Ex 1\n",
    "\n",
    "Do the following\n",
    "\n",
    "- Create `float` variable `x` with value `100`\n",
    "- Show its value and type\n",
    "\n",
    "\n",
    "### Ex 2\n",
    "\n",
    "Do the following\n",
    "\n",
    "- Create a variable `x` from the division of `10` by `5`\n",
    "- Show the value and type of `x`\n",
    "\n",
    "### Ex 3\n",
    "\n",
    "How to quickly create a value of `7.5` billion?\n",
    "\n",
    "### Ex 4\n",
    "\n",
    "Use `math` module to compute\n",
    "\n",
    "- The area of a circle with a radius `5`\n",
    "- The hypotenuse of a right triangle with `3` and `4` being the lengths of the two other sides  "
   ]
  }
 ],
 "metadata": {
  "kernelspec": {
   "display_name": "Python 3 (ipykernel)",
   "language": "python",
   "name": "python3"
  },
  "language_info": {
   "codemirror_mode": {
    "name": "ipython",
    "version": 3
   },
   "file_extension": ".py",
   "mimetype": "text/x-python",
   "name": "python",
   "nbconvert_exporter": "python",
   "pygments_lexer": "ipython3",
   "version": "3.9.7"
  }
 },
 "nbformat": 4,
 "nbformat_minor": 5
}
