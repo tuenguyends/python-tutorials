{
 "cells": [
  {
   "cell_type": "markdown",
   "id": "b55b0bd0-f4a7-4f06-9b20-7f20676a5eae",
   "metadata": {
    "tags": []
   },
   "source": [
    "# Operations on bool\n",
    "\n",
    "Since `bool` type is also simple, there are not many operations on them. Normally we only perform logical operations (`and`, `or`, `not`) on `bool` values."
   ]
  },
  {
   "cell_type": "markdown",
   "id": "a0a910b2-8c84-4077-bf60-28d8c19d2344",
   "metadata": {},
   "source": [
    "## Logical `and`\n",
    "\n",
    "`x and y` operation returns `True` only when both `x` and `y` are `True`. Otherwise, it returns `False`. \n",
    "\n",
    "Think of this as \"both must be true\"."
   ]
  },
  {
   "cell_type": "code",
   "execution_count": 31,
   "id": "6b251c4e-5598-49a4-b872-5993a00e0c59",
   "metadata": {},
   "outputs": [
    {
     "data": {
      "text/plain": [
       "True"
      ]
     },
     "execution_count": 31,
     "metadata": {},
     "output_type": "execute_result"
    }
   ],
   "source": [
    "True and True"
   ]
  },
  {
   "cell_type": "code",
   "execution_count": 32,
   "id": "d0c62f80-b804-48b7-a9b4-8fe1b27031ed",
   "metadata": {},
   "outputs": [
    {
     "data": {
      "text/plain": [
       "False"
      ]
     },
     "execution_count": 32,
     "metadata": {},
     "output_type": "execute_result"
    }
   ],
   "source": [
    "True and False"
   ]
  },
  {
   "cell_type": "code",
   "execution_count": 33,
   "id": "2b130a00-406c-49cc-a67c-0003deec1403",
   "metadata": {},
   "outputs": [
    {
     "data": {
      "text/plain": [
       "False"
      ]
     },
     "execution_count": 33,
     "metadata": {},
     "output_type": "execute_result"
    }
   ],
   "source": [
    "False and True"
   ]
  },
  {
   "cell_type": "code",
   "execution_count": 34,
   "id": "c6cf4c6d-6b63-4acf-9e1b-3ca605b555d3",
   "metadata": {},
   "outputs": [
    {
     "data": {
      "text/plain": [
       "False"
      ]
     },
     "execution_count": 34,
     "metadata": {},
     "output_type": "execute_result"
    }
   ],
   "source": [
    "False and False"
   ]
  },
  {
   "cell_type": "markdown",
   "id": "e0cd5d6b-8327-4f40-a3e4-0b7a5c699d81",
   "metadata": {},
   "source": [
    "`True and True` might look weird, but think of it as the results of some comparison as in the following example."
   ]
  },
  {
   "cell_type": "code",
   "execution_count": 9,
   "id": "82750b2f-882d-4881-bf02-5425cc03caf6",
   "metadata": {},
   "outputs": [
    {
     "name": "stdout",
     "output_type": "stream",
     "text": [
      "Too young or too old for the job\n"
     ]
    }
   ],
   "source": [
    "age = 70\n",
    "\n",
    "if (age >= 20) and (age <= 50):\n",
    "    print(\"Proceed to the interview round\")\n",
    "else:\n",
    "    print(\"Too young or too old for the job\")"
   ]
  },
  {
   "cell_type": "markdown",
   "id": "d02a4cc6-588c-488b-a1a9-b96dc7fed276",
   "metadata": {},
   "source": [
    "In the example above, `age >= 20` gives `True` but `age <= 50` give `False`. Thus,`(age >= 20) and (age <= 50)` is equivalent to `True and False`, and we get `False` in the end. "
   ]
  },
  {
   "cell_type": "markdown",
   "id": "c3716f97-f260-4872-b95f-4a194bf7646f",
   "metadata": {
    "tags": []
   },
   "source": [
    "## Logical `or`\n",
    "\n",
    "`x or y` returns `False` only when both `x` and `y` are `False`. Otherwise, it returns `True`.\n",
    "\n",
    "Think of this as \"at least one must be true\"."
   ]
  },
  {
   "cell_type": "code",
   "execution_count": 1,
   "id": "10c45a0a-ff90-45c7-8f37-2a2ba4fceb0a",
   "metadata": {},
   "outputs": [
    {
     "data": {
      "text/plain": [
       "True"
      ]
     },
     "execution_count": 1,
     "metadata": {},
     "output_type": "execute_result"
    }
   ],
   "source": [
    "True or True"
   ]
  },
  {
   "cell_type": "code",
   "execution_count": 2,
   "id": "76bc982b-74ef-4c4c-b028-2a903daaa33b",
   "metadata": {},
   "outputs": [
    {
     "data": {
      "text/plain": [
       "True"
      ]
     },
     "execution_count": 2,
     "metadata": {},
     "output_type": "execute_result"
    }
   ],
   "source": [
    "True or False"
   ]
  },
  {
   "cell_type": "code",
   "execution_count": 3,
   "id": "193c9edb-56f3-46d5-b3a0-c4ee2ab4980d",
   "metadata": {},
   "outputs": [
    {
     "data": {
      "text/plain": [
       "True"
      ]
     },
     "execution_count": 3,
     "metadata": {},
     "output_type": "execute_result"
    }
   ],
   "source": [
    "False or True"
   ]
  },
  {
   "cell_type": "code",
   "execution_count": 4,
   "id": "a4243f7c-2c47-4dda-9002-ac1fae937c32",
   "metadata": {},
   "outputs": [
    {
     "data": {
      "text/plain": [
       "False"
      ]
     },
     "execution_count": 4,
     "metadata": {},
     "output_type": "execute_result"
    }
   ],
   "source": [
    "False or False"
   ]
  },
  {
   "cell_type": "markdown",
   "id": "8e222674-0da7-4099-8413-120d0957c0ff",
   "metadata": {
    "tags": []
   },
   "source": [
    "## Logical `not`\n",
    "\n",
    "`not x` returns `False` if `x` is `True` and `True` if `x` is `False`.\n",
    "\n",
    "Think of this as \"just the opposite of `x`\"."
   ]
  },
  {
   "cell_type": "code",
   "execution_count": 5,
   "id": "6f9f6522-b934-40e4-81e9-d5f7b1f446b4",
   "metadata": {},
   "outputs": [
    {
     "data": {
      "text/plain": [
       "False"
      ]
     },
     "execution_count": 5,
     "metadata": {},
     "output_type": "execute_result"
    }
   ],
   "source": [
    "not True"
   ]
  },
  {
   "cell_type": "code",
   "execution_count": 6,
   "id": "8e091d2c-9791-483f-bc7a-e9a8ff0ad795",
   "metadata": {},
   "outputs": [
    {
     "data": {
      "text/plain": [
       "True"
      ]
     },
     "execution_count": 6,
     "metadata": {},
     "output_type": "execute_result"
    }
   ],
   "source": [
    "not False"
   ]
  }
 ],
 "metadata": {
  "kernelspec": {
   "display_name": "Python 3 (ipykernel)",
   "language": "python",
   "name": "python3"
  },
  "language_info": {
   "codemirror_mode": {
    "name": "ipython",
    "version": 3
   },
   "file_extension": ".py",
   "mimetype": "text/x-python",
   "name": "python",
   "nbconvert_exporter": "python",
   "pygments_lexer": "ipython3",
   "version": "3.9.7"
  }
 },
 "nbformat": 4,
 "nbformat_minor": 5
}
