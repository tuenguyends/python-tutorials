{
 "cells": [
  {
   "cell_type": "markdown",
   "id": "f9cb349f-9cb7-4f7a-8072-70ab190fe59b",
   "metadata": {
    "tags": [],
    "toc-hr-collapsed": true
   },
   "source": [
    "# Operations on float"
   ]
  },
  {
   "cell_type": "markdown",
   "id": "4aa26d31-02dc-4ea8-9046-fba175ed528f",
   "metadata": {},
   "source": [
    "## Arithmetic\n",
    "\n",
    "Same as with integers. However, we cannot perform `//` and `%` on `float` values, because they are only mathematically meaningful for integers.\n",
    "\n",
    "Here are some simple examples"
   ]
  },
  {
   "cell_type": "code",
   "execution_count": 25,
   "id": "79f6240c-2ded-4268-b0a3-7d89bd5e0641",
   "metadata": {},
   "outputs": [
    {
     "data": {
      "text/plain": [
       "5.2"
      ]
     },
     "execution_count": 25,
     "metadata": {},
     "output_type": "execute_result"
    }
   ],
   "source": [
    "# Float plus float yields float\n",
    "1.5 + 3.7"
   ]
  },
  {
   "cell_type": "code",
   "execution_count": 29,
   "id": "8637a573-4af6-49b7-86b8-730961688fbf",
   "metadata": {},
   "outputs": [
    {
     "data": {
      "text/plain": [
       "6.0"
      ]
     },
     "execution_count": 29,
     "metadata": {},
     "output_type": "execute_result"
    }
   ],
   "source": [
    "# Int plus float yields float\n",
    "# result is promoted to a more general type\n",
    "5 + 1.0"
   ]
  },
  {
   "cell_type": "code",
   "execution_count": 27,
   "id": "d4a6dffb-d37f-48a2-a378-6abfd7d100dd",
   "metadata": {},
   "outputs": [
    {
     "data": {
      "text/plain": [
       "5.0"
      ]
     },
     "execution_count": 27,
     "metadata": {},
     "output_type": "execute_result"
    }
   ],
   "source": [
    "# Compute square root\n",
    "# by raising to power 0.5\n",
    "25**(0.5)"
   ]
  },
  {
   "cell_type": "code",
   "execution_count": 33,
   "id": "738421fd-b1ca-4ba3-8583-1cae28a9667a",
   "metadata": {},
   "outputs": [
    {
     "data": {
      "text/plain": [
       "3.333"
      ]
     },
     "execution_count": 33,
     "metadata": {},
     "output_type": "execute_result"
    }
   ],
   "source": [
    "# Rounding\n",
    "round(10 / 3, 3)"
   ]
  },
  {
   "cell_type": "code",
   "execution_count": 34,
   "id": "72f5219d-5491-4526-adb4-2fd44e0c47ab",
   "metadata": {},
   "outputs": [
    {
     "name": "stdout",
     "output_type": "stream",
     "text": [
      "10.5\n",
      "10.5\n"
     ]
    }
   ],
   "source": [
    "# Get absolute values\n",
    "print(abs(10.5))\n",
    "print(abs(-10.5))"
   ]
  },
  {
   "cell_type": "markdown",
   "id": "f9de4f6e-157f-462e-a22d-e987bff9f6c8",
   "metadata": {},
   "source": [
    "## Comparision\n",
    "\n",
    "Comparisons on numbers (`int` or `float`) always return a `bool`. (Already covered in the previous chapter)"
   ]
  },
  {
   "cell_type": "markdown",
   "id": "eec516ae-4a4d-4fa6-bbd1-ae8a7689b7f2",
   "metadata": {
    "tags": []
   },
   "source": [
    "## Math utilities\n",
    "\n",
    "Note: this section applies to numbers, thus to both `int` and `float`.\n",
    "\n",
    "The Python standard libraries come with a module named `math` containing utilities for dealing with numbers. You will learn more about modules later. For now, just follow some simple examples.\n",
    "\n",
    "To use `math` module, we need to import it. Then use the syntax `math.<name_of_function>` to call the function we want to use."
   ]
  },
  {
   "cell_type": "code",
   "execution_count": 30,
   "id": "394f6d87-f6cc-414a-a67c-0c4b067177ca",
   "metadata": {},
   "outputs": [],
   "source": [
    "# Import module math\n",
    "import math"
   ]
  },
  {
   "cell_type": "markdown",
   "id": "7e8e003e-9e4a-4a59-a65d-54607d4eb096",
   "metadata": {},
   "source": [
    "Ceiling function - round UP to the nearest integer.  \n",
    "(if you are not sure, get help using `?` such as `?math.ceil`)"
   ]
  },
  {
   "cell_type": "code",
   "execution_count": 35,
   "id": "67cb28df-6d4e-4caf-ab7f-78f3df1e5d61",
   "metadata": {},
   "outputs": [
    {
     "data": {
      "text/plain": [
       "4"
      ]
     },
     "execution_count": 35,
     "metadata": {},
     "output_type": "execute_result"
    }
   ],
   "source": [
    "# With positive value\n",
    "math.ceil(3.333)"
   ]
  },
  {
   "cell_type": "code",
   "execution_count": 36,
   "id": "b74d8069-3070-45f1-bde1-de7104b2e3fe",
   "metadata": {},
   "outputs": [
    {
     "data": {
      "text/plain": [
       "-3"
      ]
     },
     "execution_count": 36,
     "metadata": {},
     "output_type": "execute_result"
    }
   ],
   "source": [
    "# With negative value\n",
    "math.ceil(-3.333)"
   ]
  },
  {
   "cell_type": "markdown",
   "id": "201c35d7-3ddb-4bf6-9f10-b5dd4a114336",
   "metadata": {},
   "source": [
    "Floor function - round DOWN to the nearest integer."
   ]
  },
  {
   "cell_type": "code",
   "execution_count": 38,
   "id": "94e9aaba-ea39-4666-842e-6d8b99cc35f1",
   "metadata": {},
   "outputs": [
    {
     "data": {
      "text/plain": [
       "3"
      ]
     },
     "execution_count": 38,
     "metadata": {},
     "output_type": "execute_result"
    }
   ],
   "source": [
    "# With positive value\n",
    "math.floor(3.333)"
   ]
  },
  {
   "cell_type": "code",
   "execution_count": 39,
   "id": "4d6c9292-5617-48d3-9206-60dd97a3a2fb",
   "metadata": {},
   "outputs": [
    {
     "data": {
      "text/plain": [
       "-4"
      ]
     },
     "execution_count": 39,
     "metadata": {},
     "output_type": "execute_result"
    }
   ],
   "source": [
    "# With negative value\n",
    "math.floor(-3.333)"
   ]
  },
  {
   "cell_type": "markdown",
   "id": "5d33b850-0c34-4364-b28b-78a47f9df2fe",
   "metadata": {},
   "source": [
    "`math` also provides useful constants, for example"
   ]
  },
  {
   "cell_type": "code",
   "execution_count": 43,
   "id": "4811616a-01a8-401c-8d09-aa6788e0d678",
   "metadata": {},
   "outputs": [
    {
     "data": {
      "text/plain": [
       "3.141592653589793"
      ]
     },
     "execution_count": 43,
     "metadata": {},
     "output_type": "execute_result"
    }
   ],
   "source": [
    "# Constant pi\n",
    "math.pi"
   ]
  },
  {
   "cell_type": "code",
   "execution_count": 44,
   "id": "050f983e-e379-428b-bd8c-94a813adb22e",
   "metadata": {},
   "outputs": [
    {
     "data": {
      "text/plain": [
       "2.718281828459045"
      ]
     },
     "execution_count": 44,
     "metadata": {},
     "output_type": "execute_result"
    }
   ],
   "source": [
    "# Constant e\n",
    "math.e"
   ]
  },
  {
   "cell_type": "markdown",
   "id": "32affd7b-59fb-47c6-b516-68b3943a609e",
   "metadata": {},
   "source": [
    "Trigonometry functions"
   ]
  },
  {
   "cell_type": "code",
   "execution_count": 46,
   "id": "9d14f67b-6e30-4923-9c34-852cf92bdd7b",
   "metadata": {
    "scrolled": true
   },
   "outputs": [
    {
     "data": {
      "text/plain": [
       "1.0"
      ]
     },
     "execution_count": 46,
     "metadata": {},
     "output_type": "execute_result"
    }
   ],
   "source": [
    "# Sin pi/2 => 1\n",
    "math.sin(math.pi / 2)"
   ]
  },
  {
   "cell_type": "code",
   "execution_count": 47,
   "id": "b01a3c6f-0d0e-43ef-8901-ca873a584bf5",
   "metadata": {},
   "outputs": [
    {
     "data": {
      "text/plain": [
       "6.123233995736766e-17"
      ]
     },
     "execution_count": 47,
     "metadata": {},
     "output_type": "execute_result"
    }
   ],
   "source": [
    "# Cos pi / 2 => 0\n",
    "# Note that the result is not 0\n",
    "# but very close (due to approximation error)\n",
    "math.cos(math.pi / 2)"
   ]
  },
  {
   "cell_type": "markdown",
   "id": "1ecfd457-953f-4cad-81c6-e0858a3e9873",
   "metadata": {},
   "source": [
    "For the full list of what you can do with `math`, visit its official documentation page at https://docs.python.org/3/library/math.html"
   ]
  }
 ],
 "metadata": {
  "kernelspec": {
   "display_name": "Python 3 (ipykernel)",
   "language": "python",
   "name": "python3"
  },
  "language_info": {
   "codemirror_mode": {
    "name": "ipython",
    "version": 3
   },
   "file_extension": ".py",
   "mimetype": "text/x-python",
   "name": "python",
   "nbconvert_exporter": "python",
   "pygments_lexer": "ipython3",
   "version": "3.9.7"
  }
 },
 "nbformat": 4,
 "nbformat_minor": 5
}
