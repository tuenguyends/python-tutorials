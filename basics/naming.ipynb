{
 "cells": [
  {
   "cell_type": "markdown",
   "id": "ae86feb9-4674-4fa5-8829-e537de80b136",
   "metadata": {},
   "source": [
    "# Naming rules and conventions\n",
    "\n",
    "Author: Tue Nguyen"
   ]
  },
  {
   "cell_type": "markdown",
   "id": "2970c7fd-f5fa-4353-a16b-41ec65a7bd17",
   "metadata": {},
   "source": [
    "> There are only two hard things in Computer Science: cache invalidation and naming things.\n",
    "> \n",
    "> (Phil Karlton)"
   ]
  },
  {
   "cell_type": "markdown",
   "id": "9150af50-22aa-482d-b5c0-7c07e1fd8e6e",
   "metadata": {},
   "source": [
    "## Overview\n",
    "- When writing a program, we often have to give names to many things\n",
    "- Ex: variables, functions, classes, and modules\n",
    "- Thus, it is crucial to learn the rules and conventions\n",
    "    - **Rules** are specifications that we MUST follow\n",
    "    - **Conventions** are more like *suggestions* of best practices by experienced programmers and are widely accepted by the community. Thus, we are not required to follow, but we SHOULD.\n",
    "- For now, we only focus on variable names. Naming for other things is similar"
   ]
  },
  {
   "cell_type": "markdown",
   "id": "ec7af116-9c8d-4f83-8774-ff42f305c783",
   "metadata": {},
   "source": [
    "## Naming rules\n",
    "There are 3 rules when naming a variable\n",
    "\n",
    "- Can consist characters from 3 following groups only \n",
    "    - Digits (`0-9`)\n",
    "    - Latin letters (`a-z` and `A-Z`)\n",
    "    - Underscores (`_`)\n",
    "- Cannot start with a digit\n",
    "- Cannot coincide with one of Python's reserved words\n",
    "\n",
    "Reserved words or keywords are words that have special meaning to Python (see the list below)\n",
    "\n",
    "```python\n",
    "False       class       finally     is          return\n",
    "None        continue    for         lambda      try\n",
    "True        def         from        nonlocal    while\n",
    "and         del         global      not         with\n",
    "as          elif        if          or          yield\n",
    "assert      else        import      pass     \n",
    "break       except      in          raise\n",
    "```\n",
    "\n",
    "Notes\n",
    "- For now, you don't have to remember all of these keywords. You will remember them as you progress\n",
    "- Python is case-sensitive, meaning that it distinguishes between lowercase and uppercase. Thus, `firstname`, `FirstName`, and `FIRSTNAME` are different"
   ]
  },
  {
   "cell_type": "markdown",
   "id": "e4409688-62f6-466d-ba67-418c86407055",
   "metadata": {},
   "source": [
    "**a) Ex 1: valid names**\n",
    "\n",
    "```python\n",
    "age\n",
    "num_jobs\n",
    "file_name\n",
    "_xyz\n",
    "```"
   ]
  },
  {
   "cell_type": "markdown",
   "id": "8e01bb56-7e59-4fae-afc6-bd0d5dac621f",
   "metadata": {},
   "source": [
    "**b) Ex2: invalid name**\n",
    "\n",
    "```python\n",
    "warnings! # contains a special character !\n",
    "4oceans # starts with a digit\n",
    "break # coincides with break keyword\n",
    "```"
   ]
  },
  {
   "cell_type": "markdown",
   "id": "fb7e3033-4290-4327-be45-c16940816f4e",
   "metadata": {},
   "source": [
    "## Naming convention\n",
    "Here are some best practices to follow when naming\n",
    "- Use all lowercase\n",
    "    - Ex: `name` instead of `Name` or `NAME`\n",
    "- Follow `snake_case` convention \n",
    "    - Word are separated by `_` so that the name looks like a snake\n",
    "    - Ex: `gross_profit`, `first_name`, `top_score`\n",
    "- One exception: class names should follow `CamelCase` \n",
    "    - Start each word in the name with a capital letter followed by lower letter so that the name looks like a camel with humps\n",
    "    - Ex: `Person`, `BankAccount`\n",
    "- Should be meaningful and easy to remember\n",
    "    - Ex: `interest_rate` instead of `r` or `ir`\n",
    "- Should have a reasonable length\n",
    "    - Ex: `sales_apr` instead of `sales_data_for_april`\n",
    "- Avoid names of popular functions and modules\n",
    "    - Ex: avoid `print`, `math`, or `collections`"
   ]
  },
  {
   "cell_type": "markdown",
   "id": "b97227e1-3f47-4a39-a40e-764c5cc38ed0",
   "metadata": {},
   "source": [
    "**a) Ex 1: names having good styles**\n",
    "\n",
    "```python\n",
    "first_name\n",
    "cum_gpa\n",
    "class_rank\n",
    "```"
   ]
  },
  {
   "cell_type": "markdown",
   "id": "f8ec4dbd-fba6-48d4-b910-4e1075c404d1",
   "metadata": {},
   "source": [
    "**b) Example 2: names having bad styles**\n",
    "\n",
    "```python\n",
    "fn # ambiguous\n",
    "FirstName # not snake case\n",
    "print # name of a popular function\n",
    "os # name of a popular module\n",
    "sys # name of a popular module\n",
    "salary_data_of_10000_households # too long\n",
    "```"
   ]
  },
  {
   "cell_type": "markdown",
   "id": "a9038298-c438-434e-a8b2-d98cb56b4b6f",
   "metadata": {},
   "source": [
    "## Summary\n",
    "\n",
    "**Naming rules**\n",
    "- Can consist characters from 3 following groups only \n",
    "    - Digits (`0-9`)\n",
    "    - Latin letters (`a-z` and `A-Z`)\n",
    "    - Underscores (`_`)\n",
    "- Cannot start with a digit\n",
    "- Cannot coincide with one of Python's reserved words\n",
    "\n",
    "**Naming convention**\n",
    "- Use all lowercase\n",
    "- Follow `snake_case` convention \n",
    "- One exception: class names should follow `CamelCase` \n",
    "- Should be meaningful and easy to remember\n",
    "- Should have a reasonable length\n",
    "- Avoid names of popular functions and modules"
   ]
  },
  {
   "cell_type": "code",
   "execution_count": null,
   "id": "a7e788d5-5c1b-496f-9bbd-bcbab05ee274",
   "metadata": {},
   "outputs": [],
   "source": []
  }
 ],
 "metadata": {
  "kernelspec": {
   "display_name": "Python 3 (ipykernel)",
   "language": "python",
   "name": "python3"
  },
  "language_info": {
   "codemirror_mode": {
    "name": "ipython",
    "version": 3
   },
   "file_extension": ".py",
   "mimetype": "text/x-python",
   "name": "python",
   "nbconvert_exporter": "python",
   "pygments_lexer": "ipython3",
   "version": "3.9.12"
  }
 },
 "nbformat": 4,
 "nbformat_minor": 5
}
