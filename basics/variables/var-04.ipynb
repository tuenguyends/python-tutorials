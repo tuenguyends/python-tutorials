{
 "cells": [
  {
   "cell_type": "markdown",
   "id": "9126bcff-5156-4fbc-ae31-e0986d9172ec",
   "metadata": {},
   "source": [
    "# Formatted printing"
   ]
  },
  {
   "cell_type": "markdown",
   "id": "b48120a5-a83e-4cd0-99ac-6af890a38abf",
   "metadata": {},
   "source": [
    "Now, you already gained some more understanding of how Python works. It's time to introduce some more useful tips for printing."
   ]
  },
  {
   "cell_type": "markdown",
   "id": "32896fd5-886c-4fa8-83d9-2cb15b1cf618",
   "metadata": {},
   "source": [
    "**Example 1: normal printing**"
   ]
  },
  {
   "cell_type": "code",
   "execution_count": 43,
   "id": "e2e166c8-48bb-4254-8888-8277ebbad2c8",
   "metadata": {},
   "outputs": [
    {
     "name": "stdout",
     "output_type": "stream",
     "text": [
      "Hello\n"
     ]
    }
   ],
   "source": [
    "# Print strings\n",
    "print(\"Hello\")"
   ]
  },
  {
   "cell_type": "code",
   "execution_count": 44,
   "id": "357680fa-a657-4de4-8ce9-9a2a0fe2314b",
   "metadata": {},
   "outputs": [
    {
     "name": "stdout",
     "output_type": "stream",
     "text": [
      "1000\n"
     ]
    }
   ],
   "source": [
    "# Print variables\n",
    "x = 1000\n",
    "print(x)"
   ]
  },
  {
   "cell_type": "code",
   "execution_count": 45,
   "id": "2b0c46fb-75cd-4f9c-9d4a-09c4e8a9c2fc",
   "metadata": {},
   "outputs": [
    {
     "name": "stdout",
     "output_type": "stream",
     "text": [
      "1500\n"
     ]
    }
   ],
   "source": [
    "# Print expressions\n",
    "print(x + 500)"
   ]
  },
  {
   "cell_type": "markdown",
   "id": "37f79d48-e625-4847-abd1-31a0911bcac0",
   "metadata": {},
   "source": [
    "**Example 2: print formatted string (1)**\n",
    "\n",
    "A formatted string is a string having some *placeholders* that will be filled by the values of some variables, for example"
   ]
  },
  {
   "cell_type": "code",
   "execution_count": 46,
   "id": "b43d3439-af3a-486b-8f2b-001020315ea4",
   "metadata": {},
   "outputs": [
    {
     "name": "stdout",
     "output_type": "stream",
     "text": [
      "I am Thor from Asgard\n"
     ]
    }
   ],
   "source": [
    "name = \"Thor\"\n",
    "place = \"Asgard\"\n",
    "s = \"I am {} from {}\".format(name, place)\n",
    "\n",
    "print(s)"
   ]
  },
  {
   "cell_type": "markdown",
   "id": "0eb3d89b-92f2-4f18-a960-81786879f855",
   "metadata": {},
   "source": [
    "Here, the string `s` has two placeholders in it (denoted by `{}`), each of which will be filled with the values of `name` and `place` in that order."
   ]
  },
  {
   "cell_type": "markdown",
   "id": "50a0318d-bdd3-41c4-9017-74ac08a1be3d",
   "metadata": {},
   "source": [
    "**Example 2: print formatted string (2)**\n",
    "\n",
    "If you are using Python `>= 3.6`, you can use put the variable names inside the corresponding placeholders to achieve the same results. This behavior is called *string interpolation*.\n",
    "\n",
    "However, remember to put an `f` before the starting quote (`f` means *formatted*)."
   ]
  },
  {
   "cell_type": "code",
   "execution_count": 47,
   "id": "16c713d5-21e1-45b0-8dfd-3b92a902a340",
   "metadata": {},
   "outputs": [
    {
     "name": "stdout",
     "output_type": "stream",
     "text": [
      "This is Rob. He is 20 years old\n"
     ]
    }
   ],
   "source": [
    "age = 20\n",
    "name = \"Rob\"\n",
    "\n",
    "print(f\"This is {name}. He is {age} years old\")"
   ]
  }
 ],
 "metadata": {
  "kernelspec": {
   "display_name": "Python 3 (ipykernel)",
   "language": "python",
   "name": "python3"
  },
  "language_info": {
   "codemirror_mode": {
    "name": "ipython",
    "version": 3
   },
   "file_extension": ".py",
   "mimetype": "text/x-python",
   "name": "python",
   "nbconvert_exporter": "python",
   "pygments_lexer": "ipython3",
   "version": "3.9.7"
  }
 },
 "nbformat": 4,
 "nbformat_minor": 5
}
