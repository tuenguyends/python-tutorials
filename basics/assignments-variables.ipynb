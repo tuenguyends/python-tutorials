{
 "cells": [
  {
   "cell_type": "markdown",
   "id": "21e74cbb-6610-41a4-a781-41b8278f311d",
   "metadata": {},
   "source": [
    "# Variables and assignments\n",
    "Author: Tue Nguyen"
   ]
  },
  {
   "cell_type": "markdown",
   "id": "874783e0-68ae-4c26-88a2-7c8b4db7c96f",
   "metadata": {},
   "source": [
    "## Overview\n",
    "This lecture covers the following topics\n",
    "\n",
    "- Assignments, variables, objects, and values\n",
    "- Equality comparison\n",
    "- Object identities\n",
    "- Python interning\n",
    "- Formatted printing"
   ]
  },
  {
   "cell_type": "markdown",
   "id": "ec84181e-d046-45ca-bf84-b7090e82fbef",
   "metadata": {},
   "source": [
    "## Variables, assignments, objects, and values\n",
    "Main points\n",
    "\n",
    "- From last tutorial, we know a variable is created through an assignment\n",
    "- Ex: `x = 1000`\n",
    "    - `x`: variable name\n",
    "    - `1000`: value\n",
    "- Warning: many people think that `x` contains value `1000`. It's NOT true\n",
    "- Under the hood \n",
    "    - First, Python evaluates the right hand side (RHS) of the assignment and comes up with **value** `1000`\n",
    "    - Python then creates an **object** in the memory to hold that value\n",
    "    - Finally, Python links the object to a variable named `x` on the left hand side (LHS)\n",
    "- You should think as follows\n",
    "    - Object = a box\n",
    "    - Value = what's inside the box\n",
    "    - Variable = a label pasted on the box\n",
    "    - We use the label the retrieve the thing inside the box\n",
    "- Why use variables?\n",
    "    - It is extremely complicated for us, as human beings, to deal with objects directly\n",
    "    - Variables help \n",
    "        - Abstract away all unnecessary technical complications\n",
    "        - Allow us to focus on solving our main problem at a higher level"
   ]
  },
  {
   "cell_type": "markdown",
   "id": "07b80acc-5d40-47d9-8c1a-995245a694da",
   "metadata": {},
   "source": [
    "## Equality comparision\n",
    "Main points\n",
    "- In Python, `=` is used for assignment, not comparision\n",
    "- To check if two things are equal (in terms of value), we use `==`\n",
    "    - If they are indeed equal, `True` will be returned\n",
    "    - Otherwise, `False` will be returned"
   ]
  },
  {
   "cell_type": "code",
   "execution_count": 2,
   "id": "b9333026-614a-456d-a658-5e1f6c085ce1",
   "metadata": {},
   "outputs": [
    {
     "data": {
      "text/plain": [
       "1000"
      ]
     },
     "execution_count": 2,
     "metadata": {},
     "output_type": "execute_result"
    }
   ],
   "source": [
    "# Init a variable\n",
    "x = 1000\n",
    "x"
   ]
  },
  {
   "cell_type": "code",
   "execution_count": 15,
   "id": "4ec822d6-cef1-4b77-87aa-e73dcb05e9d2",
   "metadata": {},
   "outputs": [
    {
     "data": {
      "text/plain": [
       "True"
      ]
     },
     "execution_count": 15,
     "metadata": {},
     "output_type": "execute_result"
    }
   ],
   "source": [
    "# Check if x is equal to 1000\n",
    "x == 1000"
   ]
  },
  {
   "cell_type": "code",
   "execution_count": 16,
   "id": "dc872b54-8f0f-40ae-8c3e-d27598b750da",
   "metadata": {},
   "outputs": [
    {
     "data": {
      "text/plain": [
       "False"
      ]
     },
     "execution_count": 16,
     "metadata": {},
     "output_type": "execute_result"
    }
   ],
   "source": [
    "# Check if x is equal to 50\n",
    "x == 50"
   ]
  },
  {
   "cell_type": "code",
   "execution_count": 17,
   "id": "f1454cd2-dd5a-4a36-87ee-a8c0a8a3fc17",
   "metadata": {},
   "outputs": [
    {
     "data": {
      "text/plain": [
       "False"
      ]
     },
     "execution_count": 17,
     "metadata": {},
     "output_type": "execute_result"
    }
   ],
   "source": [
    "# Check if x is equal to \"abc\"\n",
    "x == \"abc\""
   ]
  },
  {
   "cell_type": "markdown",
   "id": "91308689-54c9-4468-86a4-5e6fb013c63e",
   "metadata": {},
   "source": [
    "## Object identity"
   ]
  },
  {
   "cell_type": "markdown",
   "id": "6637c64f-79a7-4c6d-987a-8845fbd0abc2",
   "metadata": {},
   "source": [
    "Main points\n",
    "- In Python, everything is an **object**\n",
    "- Each object has an **unique ID** (like a person has an ID)\n",
    "- We use `id(x)` to get the ID of the object that variable `x` is pointing to\n",
    "- We might say \"ID of `x`\" but the correct sentence should be \"ID of the object associated with `x`\"\n",
    "\n",
    "Some notes on saying\n",
    "- We might say \"ID of `x`\" but the **correct** sentence should be \"ID of the object associated with `x`\"\n",
    "- Suppose `id(x)` gives us `2350614735152`, then we say\n",
    "    - \"`x` is **pointing** to the object with ID `2350614735152`\"\n",
    "    - \"`x` is **referring** to the object with ID `2350614735152`\"\n",
    "- In the statement `x = 1000`, we say \n",
    "    - \"`x` is assigned value `1000`\"\n",
    "    - \"`1000` is assigned to `x`\"\n",
    "    - NOT: \"`x` is assigned to `1000`\"\n",
    "- On the first assignment on `x` we use the word **initialize** (or **init** for short)\n",
    "- On the next assignment on `x` we use the word **assign**\n",
    "- "
   ]
  },
  {
   "cell_type": "markdown",
   "id": "76027caa-3863-4ac5-9bce-a812256292f0",
   "metadata": {},
   "source": [
    "### Ex 1: get ID"
   ]
  },
  {
   "cell_type": "code",
   "execution_count": 8,
   "id": "595656ab-a517-4820-80b1-33906f2b4abe",
   "metadata": {},
   "outputs": [],
   "source": [
    "# Init a variable\n",
    "x = 1000"
   ]
  },
  {
   "cell_type": "code",
   "execution_count": 9,
   "id": "f0718a5e-336f-4a35-823f-0e74db444d09",
   "metadata": {},
   "outputs": [
    {
     "data": {
      "text/plain": [
       "1000"
      ]
     },
     "execution_count": 9,
     "metadata": {},
     "output_type": "execute_result"
    }
   ],
   "source": [
    "# View the value associated with x\n",
    "x"
   ]
  },
  {
   "cell_type": "code",
   "execution_count": 11,
   "id": "bba23623-4666-443a-a3b7-72830428fa3f",
   "metadata": {},
   "outputs": [
    {
     "data": {
      "text/plain": [
       "2350736858032"
      ]
     },
     "execution_count": 11,
     "metadata": {},
     "output_type": "execute_result"
    }
   ],
   "source": [
    "# View ID of the object associated with x\n",
    "# Note: the value you see might differ between Python sessions\n",
    "id(x)"
   ]
  },
  {
   "cell_type": "markdown",
   "id": "12882189-d548-40bc-999f-0fdaa53f9346",
   "metadata": {},
   "source": [
    "### Ex 2: two assignments\n",
    "Two assignments are handled separately"
   ]
  },
  {
   "cell_type": "code",
   "execution_count": 12,
   "id": "c0baab63-2303-4d0f-a903-d8b62b9ff5b4",
   "metadata": {},
   "outputs": [],
   "source": [
    "# Assignments\n",
    "x = 1000\n",
    "y = 1000"
   ]
  },
  {
   "cell_type": "code",
   "execution_count": 13,
   "id": "fd99271d-8649-4e2b-b68a-719c3bfff831",
   "metadata": {},
   "outputs": [
    {
     "name": "stdout",
     "output_type": "stream",
     "text": [
      "1000\n",
      "1000\n"
     ]
    }
   ],
   "source": [
    "# View values\n",
    "print(x)\n",
    "print(y)"
   ]
  },
  {
   "cell_type": "code",
   "execution_count": 14,
   "id": "2ac90631-fd2d-4e42-a22a-b78d6b70dd6d",
   "metadata": {},
   "outputs": [
    {
     "name": "stdout",
     "output_type": "stream",
     "text": [
      "2350736856912\n",
      "2350736857008\n"
     ]
    }
   ],
   "source": [
    "# View ID\n",
    "print(id(x))\n",
    "print(id(y))"
   ]
  },
  {
   "cell_type": "code",
   "execution_count": 18,
   "id": "4234c0f5-3ac4-4f05-a51c-d10ae16e1c7a",
   "metadata": {},
   "outputs": [
    {
     "data": {
      "text/plain": [
       "True"
      ]
     },
     "execution_count": 18,
     "metadata": {},
     "output_type": "execute_result"
    }
   ],
   "source": [
    "# Compare values\n",
    "x == y"
   ]
  },
  {
   "cell_type": "code",
   "execution_count": 19,
   "id": "6dc0500a-3546-4965-ab8f-a3f942284e8d",
   "metadata": {},
   "outputs": [
    {
     "data": {
      "text/plain": [
       "False"
      ]
     },
     "execution_count": 19,
     "metadata": {},
     "output_type": "execute_result"
    }
   ],
   "source": [
    "# Compare IDs\n",
    "id(x) == id(y)"
   ]
  },
  {
   "cell_type": "markdown",
   "id": "3c3580b4-6090-481e-8780-adad852d1fa2",
   "metadata": {},
   "source": [
    "**Why different ID?**\n",
    "- First assignment\n",
    "    - Python evaluates RHS, comes up with value `1000`, and creates an object to hold that value\n",
    "    - Then Python links that object to variable `x`\n",
    "- Second assignment\n",
    "    - Python evaluates RHS, also comes up with value `1000`, but it creates another different object to hold that value\n",
    "    - Then Python links that object to variable `y`\n",
    "- Thus, different objects have different IDs\n",
    "- Think of it this way: there are two boxes (objects) containing the same thing (values) and having two different labels (variables)"
   ]
  },
  {
   "cell_type": "markdown",
   "id": "87f893a5-3740-4d9a-961d-e01969dcdcdb",
   "metadata": {},
   "source": [
    "### Ex 3: compare identities"
   ]
  },
  {
   "cell_type": "code",
   "execution_count": 22,
   "id": "f0e012b5-221e-429d-b0c6-0789a7b68141",
   "metadata": {},
   "outputs": [
    {
     "data": {
      "text/plain": [
       "False"
      ]
     },
     "execution_count": 22,
     "metadata": {},
     "output_type": "execute_result"
    }
   ],
   "source": [
    "# Method 1: we can check if x and y are pointing to the same object\n",
    "# using == as in the previous example\n",
    "id(x) == id(y)"
   ]
  },
  {
   "cell_type": "code",
   "execution_count": 23,
   "id": "777f7e00-4b2e-4198-a018-3bb5c5ca1bd6",
   "metadata": {},
   "outputs": [
    {
     "data": {
      "text/plain": [
       "False"
      ]
     },
     "execution_count": 23,
     "metadata": {},
     "output_type": "execute_result"
    }
   ],
   "source": [
    "# Method 2: we can do the same thing using keyword is\n",
    "x is y"
   ]
  },
  {
   "cell_type": "markdown",
   "id": "25e9ef8a-1fa5-4e76-8059-08489169a2bf",
   "metadata": {},
   "source": [
    "### Ex 4: garbage collector"
   ]
  },
  {
   "cell_type": "code",
   "execution_count": 24,
   "id": "e22211eb-0ba5-4ae3-b917-6e895acc9705",
   "metadata": {},
   "outputs": [],
   "source": [
    "# Now re-assign y to 2000\n",
    "y = 2000"
   ]
  },
  {
   "cell_type": "code",
   "execution_count": 27,
   "id": "3f4cbc2f-3550-451c-a038-89bf08572f9e",
   "metadata": {},
   "outputs": [
    {
     "data": {
      "text/plain": [
       "2000"
      ]
     },
     "execution_count": 27,
     "metadata": {},
     "output_type": "execute_result"
    }
   ],
   "source": [
    "# Print value of y\n",
    "y"
   ]
  },
  {
   "cell_type": "code",
   "execution_count": 28,
   "id": "2423ae4f-7efd-476b-8f56-63d97e772d33",
   "metadata": {},
   "outputs": [
    {
     "data": {
      "text/plain": [
       "2350736858128"
      ]
     },
     "execution_count": 28,
     "metadata": {},
     "output_type": "execute_result"
    }
   ],
   "source": [
    "# Print ID of y\n",
    "id(y)"
   ]
  },
  {
   "cell_type": "markdown",
   "id": "1b236d3c-ee98-4014-9743-18707ad58382",
   "metadata": {},
   "source": [
    "**What just happened?**\n",
    "\n",
    "- When we run `x = 2000`, Python evaluates RHS, comes up with value `2000`, and creates an object with ID shown above to hold the value\n",
    "- Python detect `y` is already linked to a different object, so it delete the current link, and re-link y to the new object\n",
    "- That's why when we print `x` or `id(x)` we get new values\n",
    "\n",
    "**What happened to the old object?**\n",
    "- When Python detect an object with no variables referring to it, Python will summon the **garbage collector** to destroy that object and release memory to the system for future assignments\n",
    "- How can we verify it? We can't because we only have access to an object through its associated with it"
   ]
  },
  {
   "cell_type": "markdown",
   "id": "72ed5974-61c4-4964-85cc-9be87767362c",
   "metadata": {},
   "source": [
    "### Ex 5: assignment to avariable\n",
    "An assignment to a variable will not create a new object"
   ]
  },
  {
   "cell_type": "code",
   "execution_count": 29,
   "id": "c694882c-8d3e-4cfe-a71d-b6d63367c4a6",
   "metadata": {},
   "outputs": [],
   "source": [
    "# Now assign x to z\n",
    "z = x"
   ]
  },
  {
   "cell_type": "code",
   "execution_count": 31,
   "id": "0f78a5f6-ac33-4344-a5c4-17e14ac861b6",
   "metadata": {},
   "outputs": [
    {
     "name": "stdout",
     "output_type": "stream",
     "text": [
      "1000\n",
      "1000\n"
     ]
    }
   ],
   "source": [
    "# They will have the same value\n",
    "print(x)\n",
    "print(z)"
   ]
  },
  {
   "cell_type": "code",
   "execution_count": 33,
   "id": "b67c34d3-1ca0-4f3f-8527-40430df53007",
   "metadata": {},
   "outputs": [
    {
     "name": "stdout",
     "output_type": "stream",
     "text": [
      "2350736856912\n",
      "2350736856912\n",
      "True\n"
     ]
    }
   ],
   "source": [
    "# But they also pointing to the same underlying object\n",
    "print(id(x))\n",
    "print(id(z))\n",
    "print(x is z)"
   ]
  },
  {
   "cell_type": "markdown",
   "id": "a3ebc48c-a372-4e65-a16e-72ba3ddfa597",
   "metadata": {},
   "source": [
    "**What happened?**\n",
    "- When the RHS of an assignment is just a variable name, no new object is created\n",
    "- You can think of it as we have two labels pasted on the same box\n",
    "- Either we use `x` or `z`, we get the same thing back\n"
   ]
  },
  {
   "cell_type": "markdown",
   "id": "da7257dc-a22b-4c7b-ba96-0de7763bb24d",
   "metadata": {},
   "source": [
    "### Ex 6: assignment to an expression involving a variable\n",
    "If the RHS is an expression involving a variable, then a new object is created as usual"
   ]
  },
  {
   "cell_type": "code",
   "execution_count": 34,
   "id": "3f90961d-f01b-4473-8dad-32c4b622063f",
   "metadata": {},
   "outputs": [],
   "source": [
    "# Assign x + 500 to variable t\n",
    "# Python will evaluates the RHS to come up with 1500\n",
    "# then create an object to hold this value\n",
    "# and finally link this object to variable t\n",
    "t = x + 500"
   ]
  },
  {
   "cell_type": "code",
   "execution_count": 35,
   "id": "4766855e-c723-4d5d-af98-51d5c739fecc",
   "metadata": {},
   "outputs": [
    {
     "name": "stdout",
     "output_type": "stream",
     "text": [
      "1000\n",
      "1500\n"
     ]
    }
   ],
   "source": [
    "# Print values\n",
    "print(x)\n",
    "print(t)"
   ]
  },
  {
   "cell_type": "code",
   "execution_count": 36,
   "id": "4ce2d4db-a18e-4f37-811e-4369c363c600",
   "metadata": {},
   "outputs": [
    {
     "name": "stdout",
     "output_type": "stream",
     "text": [
      "2350736856912\n",
      "2350737916144\n",
      "False\n"
     ]
    }
   ],
   "source": [
    "# Print IDs\n",
    "print(id(x))\n",
    "print(id(t))\n",
    "print(x is t)"
   ]
  },
  {
   "cell_type": "markdown",
   "id": "41f86118-0d7d-429c-b034-b41a57588a40",
   "metadata": {},
   "source": [
    "### Ex 7: garbage collector only destroys objects with no reference"
   ]
  },
  {
   "cell_type": "code",
   "execution_count": 41,
   "id": "7f90dd4a-eefe-4ea0-8bd5-553a33a23246",
   "metadata": {},
   "outputs": [
    {
     "name": "stdout",
     "output_type": "stream",
     "text": [
      "2350736856912\n",
      "2350737916912\n",
      "False\n"
     ]
    }
   ],
   "source": [
    "# In Ex 5, we know x and z are pointing to the same object\n",
    "print(id(x))\n",
    "print(id(z))\n",
    "print(x is z)"
   ]
  },
  {
   "cell_type": "code",
   "execution_count": 42,
   "id": "a4d12d8a-d82a-40cd-882d-7686743e2b85",
   "metadata": {},
   "outputs": [],
   "source": [
    "# Now re-assign 3000 to z\n",
    "# Python will delete the binding between z and the current object\n",
    "# and establish a new binding between z and the object holding 3000 \n",
    "z = 3000"
   ]
  },
  {
   "cell_type": "code",
   "execution_count": 44,
   "id": "125db25e-1541-4196-8d8d-1e17bb7166d5",
   "metadata": {},
   "outputs": [
    {
     "name": "stdout",
     "output_type": "stream",
     "text": [
      "False\n"
     ]
    }
   ],
   "source": [
    "# Check ID of z\n",
    "id(z)\n",
    "print(x is z)"
   ]
  },
  {
   "cell_type": "code",
   "execution_count": 45,
   "id": "ada34feb-c813-4bd7-9f68-a263e2b018cd",
   "metadata": {},
   "outputs": [
    {
     "name": "stdout",
     "output_type": "stream",
     "text": [
      "1000\n",
      "2350736856912\n"
     ]
    }
   ],
   "source": [
    "# What happened to the old object that z was pointing to?\n",
    "# It still exists because x is still pointing to it\n",
    "# In short, only boxes without a label will be destroyed\n",
    "print(x)\n",
    "print(id(x))"
   ]
  },
  {
   "cell_type": "markdown",
   "id": "f7d05729-43b7-40ea-914f-3d3ad3472f8b",
   "metadata": {},
   "source": [
    "## Python interning"
   ]
  },
  {
   "cell_type": "markdown",
   "id": "e7a24a80-8528-4a59-89c5-1d7baa4b71b8",
   "metadata": {},
   "source": [
    "- We already saw that the **theory** works for some large numbers such as `1000` and `2000`\n",
    "- But for the theory is NOT true for every case\n",
    "- Consider the following example"
   ]
  },
  {
   "cell_type": "code",
   "execution_count": 46,
   "id": "13e90794-c7ee-4675-ad25-72d99837dca3",
   "metadata": {},
   "outputs": [],
   "source": [
    "# In principle, 2 assignmens below will create 2 different objects\n",
    "# Thus, x and y should be 2 labels pasted on 2 different boxes\n",
    "x = 10\n",
    "y = 10"
   ]
  },
  {
   "cell_type": "code",
   "execution_count": 47,
   "id": "d8095bd9-4065-40cd-8903-8514f40781f6",
   "metadata": {},
   "outputs": [
    {
     "name": "stdout",
     "output_type": "stream",
     "text": [
      "10\n",
      "10\n",
      "True\n"
     ]
    }
   ],
   "source": [
    "# It seems true when we compare the values\n",
    "print(x)\n",
    "print(y)\n",
    "print(x == y)"
   ]
  },
  {
   "cell_type": "code",
   "execution_count": 48,
   "id": "1bd67eae-e956-468f-a23d-2253dfcb5b16",
   "metadata": {},
   "outputs": [
    {
     "name": "stdout",
     "output_type": "stream",
     "text": [
      "2350614735440\n",
      "2350614735440\n",
      "True\n"
     ]
    }
   ],
   "source": [
    "# But in fact, x and y are pointing to the same object\n",
    "print(id(x))\n",
    "print(id(y))\n",
    "print(x is y)"
   ]
  },
  {
   "cell_type": "markdown",
   "id": "3dacfb1b-d5d7-4e6e-8f18-8ebad49b3a69",
   "metadata": {},
   "source": [
    "**What happened?**\n",
    "- This weird behavior (called Python interning) is due to some optimization decision of the Python core team (which I will not discuss here)\n",
    "- Basically, maintaining only one single copy helps save memory and make comparisons a lot faster\n",
    "- And the core team accepted this language inconsistency in exchange for performance\n",
    "- You can see Python interning behavior for small integers (normally from `-5` to `128`, but it depends on specific implementations) and for short strings\n",
    "- Key take away: never compare identities for small integers and short strings"
   ]
  },
  {
   "cell_type": "markdown",
   "id": "95ce3aa9-75ea-4861-8c02-0394a23d0395",
   "metadata": {},
   "source": [
    "### Ex 1: test with integers"
   ]
  },
  {
   "cell_type": "code",
   "execution_count": 28,
   "id": "6c6a0ada-be45-403c-b97d-1fb8c537d7f4",
   "metadata": {},
   "outputs": [
    {
     "name": "stdout",
     "output_type": "stream",
     "text": [
      "True\n"
     ]
    }
   ],
   "source": [
    "# Test with -5\n",
    "x = -5\n",
    "y = -5\n",
    "print(x is y)"
   ]
  },
  {
   "cell_type": "code",
   "execution_count": 29,
   "id": "c2565430-54cc-43b7-b00b-fef9edbbb8b8",
   "metadata": {},
   "outputs": [
    {
     "name": "stdout",
     "output_type": "stream",
     "text": [
      "True\n"
     ]
    }
   ],
   "source": [
    "# Test with 128\n",
    "x = 128\n",
    "y = 128\n",
    "print(x is y)"
   ]
  },
  {
   "cell_type": "code",
   "execution_count": 30,
   "id": "8d4b8d71-fbe4-4f9c-810a-7a6ee87be8ee",
   "metadata": {},
   "outputs": [
    {
     "name": "stdout",
     "output_type": "stream",
     "text": [
      "False\n"
     ]
    }
   ],
   "source": [
    "# Test with -10\n",
    "x = -10\n",
    "y = -10\n",
    "print(x is y)?"
   ]
  },
  {
   "cell_type": "code",
   "execution_count": 37,
   "id": "c4fd5b91-5067-4866-b831-c489da8e90f8",
   "metadata": {},
   "outputs": [
    {
     "name": "stdout",
     "output_type": "stream",
     "text": [
      "False\n"
     ]
    }
   ],
   "source": [
    "# Test with 300\n",
    "x = 300\n",
    "y = 300\n",
    "print(x is y)"
   ]
  },
  {
   "cell_type": "markdown",
   "id": "0a0c6533-81be-4acf-83c7-20f548a1999c",
   "metadata": {},
   "source": [
    "### Ex 2: test with strings"
   ]
  },
  {
   "cell_type": "code",
   "execution_count": 38,
   "id": "4b812d0d-f968-4d21-90e1-f5d7cd7d6197",
   "metadata": {},
   "outputs": [
    {
     "name": "stdout",
     "output_type": "stream",
     "text": [
      "True\n"
     ]
    }
   ],
   "source": [
    "# Test with a short string\n",
    "x = \"Hello\"\n",
    "y = \"Hello\"\n",
    "print(x is y)"
   ]
  },
  {
   "cell_type": "code",
   "execution_count": 39,
   "id": "1ae7e775-c861-4235-ba9e-a17a38349dd4",
   "metadata": {},
   "outputs": [
    {
     "name": "stdout",
     "output_type": "stream",
     "text": [
      "False\n"
     ]
    }
   ],
   "source": [
    "# Test with a long string\n",
    "x = \"Hello. Nice to meet you.\"\n",
    "y = \"Hello. Nice to meet you.\"\n",
    "print(x is y)"
   ]
  },
  {
   "cell_type": "markdown",
   "id": "df4e2b01-40a8-4c49-83ec-8fd978ed22ba",
   "metadata": {},
   "source": [
    "**Remarks**\n",
    "\n",
    "- The theory is true *in general*, but be aware of Python interning behavior in some special cases\n",
    "- Never compare identities of small integers and short strings\n",
    "- In practice, you rarely compare identities, so it won't matter much"
   ]
  },
  {
   "cell_type": "markdown",
   "id": "947cd385-80d9-4084-8ce5-a426be0a4a32",
   "metadata": {},
   "source": [
    "## Formatted printing"
   ]
  },
  {
   "cell_type": "markdown",
   "id": "875c5dc0-a0aa-4a63-8add-918896024be4",
   "metadata": {},
   "source": [
    "Now, you already gained some more understanding of how Python works. It's time to introduce some more useful tips for printing."
   ]
  },
  {
   "cell_type": "markdown",
   "id": "b5870c9f-6b2b-417e-9038-5bc5e857fe22",
   "metadata": {},
   "source": [
    "### Normal printing"
   ]
  },
  {
   "cell_type": "code",
   "execution_count": 43,
   "id": "9ab81b0c-2471-4601-85ba-c1a7190e6b4c",
   "metadata": {},
   "outputs": [
    {
     "name": "stdout",
     "output_type": "stream",
     "text": [
      "Hello\n"
     ]
    }
   ],
   "source": [
    "# Print strings\n",
    "print(\"Hello\")"
   ]
  },
  {
   "cell_type": "code",
   "execution_count": 44,
   "id": "93ef2698-119c-45b5-8e18-b7f7c5b92395",
   "metadata": {},
   "outputs": [
    {
     "name": "stdout",
     "output_type": "stream",
     "text": [
      "1000\n"
     ]
    }
   ],
   "source": [
    "# Print variables\n",
    "x = 1000\n",
    "print(x)"
   ]
  },
  {
   "cell_type": "code",
   "execution_count": 45,
   "id": "e16daccf-82ad-4a58-84b1-67248105c11d",
   "metadata": {},
   "outputs": [
    {
     "name": "stdout",
     "output_type": "stream",
     "text": [
      "1500\n"
     ]
    }
   ],
   "source": [
    "# Print expressions\n",
    "print(x + 500)"
   ]
  },
  {
   "cell_type": "markdown",
   "id": "648204e9-cfbf-4768-8388-32a2e7c08296",
   "metadata": {},
   "source": [
    "### Formatted printing\n",
    "A formatted string is a string having some *placeholders* that will be filled by the values of some variables"
   ]
  },
  {
   "cell_type": "markdown",
   "id": "d0a17a84-7e4c-46ba-97a8-66abe2cf5881",
   "metadata": {},
   "source": [
    "#### Ex 1: use `.format()`"
   ]
  },
  {
   "cell_type": "code",
   "execution_count": 46,
   "id": "876187d7-471f-46b3-bfcd-90f66ca07a94",
   "metadata": {},
   "outputs": [
    {
     "name": "stdout",
     "output_type": "stream",
     "text": [
      "I am Thor from Asgard\n"
     ]
    }
   ],
   "source": [
    "name = \"Thor\"\n",
    "place = \"Asgard\"\n",
    "s = \"I am {} from {}\".format(name, place)\n",
    "\n",
    "print(s)"
   ]
  },
  {
   "cell_type": "markdown",
   "id": "3240c474-4ae1-4992-a216-5416d86093fc",
   "metadata": {},
   "source": [
    "**What happened?**\n",
    "- Here, the string `s` has two placeholders in it (denoted by `{}`)\n",
    "- Each placeholder will be filled with the values of `name` and `place` respectively"
   ]
  },
  {
   "cell_type": "markdown",
   "id": "21948338-9a78-47e3-883a-3523af0af415",
   "metadata": {},
   "source": [
    "#### Ex 2: use string interpolation\n",
    "- Avaiable for Python `>= 3.6` only\n",
    "- You place an `f` (meaning \"formatted\") before the beginning quote and put the variable names inside the corresponding placeholders\n",
    "- This behavior is called string interpolation"
   ]
  },
  {
   "cell_type": "code",
   "execution_count": 49,
   "id": "497e3ec0-56e5-4ff1-8f22-5cd402f4d93e",
   "metadata": {},
   "outputs": [
    {
     "name": "stdout",
     "output_type": "stream",
     "text": [
      "This is Rob. He is 20 years old\n"
     ]
    }
   ],
   "source": [
    "age = 20\n",
    "name = \"Rob\"\n",
    "\n",
    "print(f\"This is {name}. He is {age} years old\")"
   ]
  },
  {
   "cell_type": "markdown",
   "id": "03c7b05a-6fd4-45d1-9106-6471c70b8af0",
   "metadata": {},
   "source": [
    "## Summary\n",
    "\n",
    "\n",
    "**Assignments, variables, objects, and values**\n",
    "- Syntax: `variable_name = value`\n",
    "- How an assignment works\n",
    "    - Python always evaluates the RHS first\n",
    "    - Comes up with a value\n",
    "    - Creates an object to hold the value\n",
    "    - And finally links the object to a variable name on the LHS\n",
    "- Variables are just symbolic names; they don't contain values\n",
    "- Only objects contain values\n",
    "- We, as human beings, don't manipulate object directly but through variables\n",
    "\n",
    "**The box model**\n",
    "- Object = a box\n",
    "- Value = what's inside the box\n",
    "- Variable = label pasted on the box\n",
    "- At a given point in time\n",
    "    - A box can have multiple label pasted on it\n",
    "    - But a label can be pasted on one box only (because if not, when we use the variable, Python cannot decide know which box to open)\n",
    "\n",
    "**Object identity**\n",
    "- Everything that contains value or data is an object\n",
    "- In Python, almost everything is an object\n",
    "- An object have a unique ID\n",
    "- Use `id(x)` to get ID of the object associated with `x`\n",
    "\n",
    "**Equality comparision**\n",
    "- Use `=` for assignments\n",
    "- Use `==` to compare values\n",
    "- Use `is` to comapre identities\n",
    "\n",
    "**Various types of assignment**\n",
    "- `x = 1000` and `y = 1000` will creates two different objects although `x` and `y` have the same value\n",
    "- `z = x` will not create a new object: `x` and `z` now are referring to the same object\n",
    "- When re-use a variable `x` in a new assignment, Python will delete the binding between `x` and the old object and establish a new binding between `x` and the new object\n",
    "\n",
    "**Garbage collector**\n",
    "- When Python notices a box without any label, it will immediately summon the garbage collector to destroy that box and return the memory to the system\n",
    "- Only objects without references will be destroyed\n",
    "\n",
    "**Python interning**\n",
    "- When assigning the same small integer or short string to two different variables `x` and `y`, then it might be that only one object is created and both `x` and `y` are pointing to that object\n",
    "- This is called Python interning behavior\n",
    "- Python interning happens in assignment with \n",
    "    - Small integers (normally from `-5` to `128`)\n",
    "    - Short strings\n",
    "\n",
    "**Formatted printing**\n",
    "- When a print statement involve a formatted string, it is called formatted printing\n",
    "- A formatted string has some placeholders in it that will be filled with values of some variables\n",
    "- Two syntaxes\n",
    "    - Use `.format()`: `s = \"I am {} from {}\".format(name, place)`\n",
    "    - Use string interpolation: `s = f\"This is {name}. He is {age} years old\"`\n",
    "\n",
    "**Other notes**\n",
    "- The theory on assignment is true in general\n",
    "- Just be aware of Python interning behavior\n",
    "- Never compare identity of small integers and short strings\n",
    "- In practice, you rarely compare identities, so it won't matter much"
   ]
  }
 ],
 "metadata": {
  "kernelspec": {
   "display_name": "Python 3 (ipykernel)",
   "language": "python",
   "name": "python3"
  },
  "language_info": {
   "codemirror_mode": {
    "name": "ipython",
    "version": 3
   },
   "file_extension": ".py",
   "mimetype": "text/x-python",
   "name": "python",
   "nbconvert_exporter": "python",
   "pygments_lexer": "ipython3",
   "version": "3.9.12"
  }
 },
 "nbformat": 4,
 "nbformat_minor": 5
}
