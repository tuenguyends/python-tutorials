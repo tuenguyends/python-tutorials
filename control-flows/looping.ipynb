{
 "cells": [
  {
   "cell_type": "markdown",
   "id": "0e968c7e-9286-4a69-b5b8-923126fdbd23",
   "metadata": {},
   "source": [
    "# Looping\n",
    "\n",
    "Author: Tue Nguyen"
   ]
  },
  {
   "cell_type": "markdown",
   "id": "4edde2b6-5ce9-4c7d-9c70-1188ba17595f",
   "metadata": {},
   "source": [
    "## Outline\n",
    "- Overview\n",
    "- `for` loops\n",
    "- `while` loops\n",
    "- Control loops with `next` and `continue`\n",
    "- Infinite loops\n",
    "- Comprehensions"
   ]
  },
  {
   "cell_type": "markdown",
   "id": "dc6c719d-11a6-46bd-888f-6249c57ae97c",
   "metadata": {},
   "source": [
    "## Overview\n",
    "- We often write programs to automate repetitive tasks\n",
    "- The benefits are\n",
    "    - We write a small chunk of code but can repeat it as many times as we want\n",
    "    - If we want to change something to the code logic, we only have to make modifications in one place\n",
    "    - This reduces the workload and makes it less prone to errors\n",
    "- This repetition is called looping\n",
    "- In Python, we can do looping using `for` or `while`"
   ]
  },
  {
   "cell_type": "markdown",
   "id": "81ce88dd-8467-4d19-979c-d9ab723fbde6",
   "metadata": {},
   "source": [
    "## `for` loops\n",
    "\n",
    "### Basic `for` loops\n",
    "- You are already familiar with the basic use of the `for` loop\n",
    "- In this section, we will learn about it in more detail through more interesting examples\n",
    "- The template for the `for` loop is as follows\n",
    "\n",
    "```python\n",
    "for item in iterable:\n",
    "    # Do something\n",
    "```"
   ]
  },
  {
   "cell_type": "markdown",
   "id": "95e273d1-31ea-4868-9016-3d860839efa3",
   "metadata": {},
   "source": [
    "**a) Ex 1: say hello**\n",
    "\n",
    "Say hello to a list of people"
   ]
  },
  {
   "cell_type": "code",
   "execution_count": 1,
   "id": "0c15109b-24ec-4df7-994d-db3d5ee5f059",
   "metadata": {},
   "outputs": [
    {
     "name": "stdout",
     "output_type": "stream",
     "text": [
      "Hello John\n",
      "Hello Bob\n",
      "Hello Mary\n"
     ]
    }
   ],
   "source": [
    "# Init a list of people\n",
    "people = [\"John\", \"Bob\", \"Mary\"]\n",
    "\n",
    "# Write code to say hello to as many people as we want\n",
    "for p in people:\n",
    "    print(f\"Hello {p}\")"
   ]
  },
  {
   "cell_type": "markdown",
   "id": "21334815-60a3-43eb-8b09-1b6309244b6f",
   "metadata": {},
   "source": [
    "**b) Ex 2: looping with `enumerate`**\n",
    "\n",
    "- When iterating through a sequence, you might want to access both the value and the index of an element\n",
    "- You can do this with `enumerate()`\n",
    "- In each iteration, `enumerate()` returns a tuple of 2 entries\n",
    "    - The first one is the index (counting from `0`)\n",
    "    - The second one is the current element of the sequence"
   ]
  },
  {
   "cell_type": "code",
   "execution_count": 2,
   "id": "740f7de2-ad4c-49c8-86b4-cfb1c2b5a8cc",
   "metadata": {},
   "outputs": [
    {
     "name": "stdout",
     "output_type": "stream",
     "text": [
      "Bill is ranked 1\n",
      "Peter is ranked 2\n",
      "Tony is ranked 3\n"
     ]
    }
   ],
   "source": [
    "# Init a list of players with higher-ranked ones first\n",
    "players = [\"Bill\", \"Peter\", \"Tony\"]\n",
    "\n",
    "# Print players with ranking\n",
    "for i, p in enumerate(players):\n",
    "    print(f\"{p} is ranked {i + 1}\")"
   ]
  },
  {
   "cell_type": "markdown",
   "id": "70fb33a6-f023-4eae-ab33-88c246b01af3",
   "metadata": {},
   "source": [
    "**c) Ex 3: compute a cumulative sum**\n",
    "\n",
    "Compute the sum of elements from a list of numbers"
   ]
  },
  {
   "cell_type": "code",
   "execution_count": 3,
   "id": "b0c8aa45-655a-4eff-92f5-22daf17d1dda",
   "metadata": {},
   "outputs": [
    {
     "data": {
      "text/plain": [
       "41.5"
      ]
     },
     "execution_count": 3,
     "metadata": {},
     "output_type": "execute_result"
    }
   ],
   "source": [
    "# Init a list of numbers\n",
    "numbers = [1, 2, -2.5, 30, 4, 7]\n",
    "\n",
    "# Compute the sum of elements in numbers\n",
    "total = 0\n",
    "for n in numbers:\n",
    "    total += n\n",
    "\n",
    "# Print the result\n",
    "total"
   ]
  },
  {
   "cell_type": "code",
   "execution_count": 4,
   "id": "c18b4fd4-8384-41b0-a68c-ffe9c1805366",
   "metadata": {},
   "outputs": [
    {
     "data": {
      "text/plain": [
       "41.5"
      ]
     },
     "execution_count": 4,
     "metadata": {},
     "output_type": "execute_result"
    }
   ],
   "source": [
    "# We can double check out result using sum() function\n",
    "sum(numbers)"
   ]
  },
  {
   "cell_type": "markdown",
   "id": "c5802fef-debd-4c69-96ba-48b1cb051edd",
   "metadata": {},
   "source": [
    "**d) Ex 4: see what happens in each iteration**\n",
    "\n",
    "- In Ex 3, we only see the final result\n",
    "- However, we can write a program to see what happens under the hood by moving the `print` statement inside the loop"
   ]
  },
  {
   "cell_type": "code",
   "execution_count": 5,
   "id": "d658c2fb-d4e5-4627-b6cd-476832b46bdc",
   "metadata": {},
   "outputs": [
    {
     "name": "stdout",
     "output_type": "stream",
     "text": [
      "1\n",
      "3\n",
      "0.5\n",
      "30.5\n",
      "34.5\n",
      "41.5\n"
     ]
    }
   ],
   "source": [
    "# Init\n",
    "numbers = [1, 2, -2.5, 30, 4, 7]\n",
    "total = 0\n",
    "\n",
    "# Loop and print the state of total at each iteration\n",
    "for n in numbers:\n",
    "    total += n;\n",
    "    print(total)"
   ]
  },
  {
   "cell_type": "markdown",
   "id": "653155b2-da66-49cf-8408-a7c132fdf206",
   "metadata": {},
   "source": [
    "**e) Ex 5: compute factorial**\n",
    "\n",
    "Compute the factorial for a positive integer\n",
    "- Recall that the factorial of a positive number $n$ is $n! = 1\\times 2\\times \\dots \\times n$\n",
    "- If $n = 0$ then $n! = 1$\n",
    "- For simplicity, in this example, we write code for `n > 0` only"
   ]
  },
  {
   "cell_type": "code",
   "execution_count": 6,
   "id": "c9471d5e-83f9-496f-8871-ce32cf7dafdf",
   "metadata": {},
   "outputs": [
    {
     "data": {
      "text/plain": [
       "720"
      ]
     },
     "execution_count": 6,
     "metadata": {},
     "output_type": "execute_result"
    }
   ],
   "source": [
    "# Init a number n\n",
    "n = 6\n",
    "\n",
    "# Init a variable to for the factorial with value 1\n",
    "fact = 1\n",
    "\n",
    "# Loop through a range of ints from 1 to n\n",
    "# In each iteration, MULTIPLY the current element with fact\n",
    "for i in range(1, n + 1):\n",
    "    fact *= i\n",
    "    \n",
    "# Check the result\n",
    "fact"
   ]
  },
  {
   "cell_type": "markdown",
   "id": "fd3f551a-a3f3-4e86-90a9-53bea4d40950",
   "metadata": {},
   "source": [
    "**f) Ex 6: count the number of characters of each type**\n",
    "\n",
    "Given a sentence in English, count the number of consonants, vowels, and non-cased (non-letter) characters"
   ]
  },
  {
   "cell_type": "code",
   "execution_count": 7,
   "id": "7379cfbb-4085-4c8e-8bae-87e927663857",
   "metadata": {},
   "outputs": [],
   "source": [
    "# Init a string\n",
    "s = \"Hi. How are you?\""
   ]
  },
  {
   "cell_type": "code",
   "execution_count": 8,
   "id": "97a6dbce-1851-4069-9d19-8451d48abda2",
   "metadata": {},
   "outputs": [
    {
     "name": "stdout",
     "output_type": "stream",
     "text": [
      "6 vowels\n",
      "5 consonants\n",
      "5 non-letter characters\n"
     ]
    }
   ],
   "source": [
    "# Snippet 1: use nested if\n",
    "# Init three counter variables\n",
    "n_consonants = 0\n",
    "n_vowels = 0\n",
    "n_non_letters = 0\n",
    "\n",
    "# Iterate through the lowercase version of s\n",
    "# and update the counters accordingly\n",
    "for c in s.lower():\n",
    "    if c.isalpha():\n",
    "        if c in \"ueoai\":\n",
    "            n_vowels += 1\n",
    "        else:\n",
    "            n_consonants += 1\n",
    "    else:\n",
    "        n_non_letters += 1\n",
    "        \n",
    "# Print results\n",
    "print(f\"{n_vowels} vowels\")\n",
    "print(f\"{n_consonants} consonants\")\n",
    "print(f\"{n_non_letters} non-letter characters\")"
   ]
  },
  {
   "cell_type": "code",
   "execution_count": 9,
   "id": "c13c574c-2e50-45a2-a771-94cf0fbe7949",
   "metadata": {},
   "outputs": [
    {
     "name": "stdout",
     "output_type": "stream",
     "text": [
      "6 vowels\n",
      "5 consonants\n",
      "5 non-letter characters\n"
     ]
    }
   ],
   "source": [
    "# Snippet 2: use if elif to avoid nested if\n",
    "# Init three counter variables\n",
    "n_consonants = 0\n",
    "n_vowels = 0\n",
    "n_non_letters = 0\n",
    "\n",
    "# Iterate through the lowercase version of s\n",
    "# and update the counters accordingly\n",
    "for c in s.lower():\n",
    "    if not c.isalpha():\n",
    "        n_non_letters += 1\n",
    "    elif c in \"ueoai\":\n",
    "        n_vowels += 1\n",
    "    else:\n",
    "        n_consonants += 1\n",
    "        \n",
    "# Print results\n",
    "print(f\"{n_vowels} vowels\")\n",
    "print(f\"{n_consonants} consonants\")\n",
    "print(f\"{n_non_letters} non-letter characters\")"
   ]
  },
  {
   "cell_type": "markdown",
   "id": "24d0b3c8-6632-4d6d-b1ec-460eaa34d47c",
   "metadata": {},
   "source": [
    "**g) Ex 7: extract numbers of each types**\n",
    "\n",
    "From a list of numbers, extract positive, negative, and zero elements into three lists"
   ]
  },
  {
   "cell_type": "code",
   "execution_count": 10,
   "id": "aae5bd35-dd2c-4dcc-bc80-6bb7368a868b",
   "metadata": {},
   "outputs": [
    {
     "name": "stdout",
     "output_type": "stream",
     "text": [
      "Positive numbers: [1, 2, 7, 9.5, 3.4]\n",
      "Negative numbers: [-1.5, -10, -5.5]\n",
      "Zeros numbers: [0, 0]\n"
     ]
    }
   ],
   "source": [
    "# Init a list of numbers\n",
    "x = [1, 2, -1.5, 0, 7, 9.5, -10, 0, 3.4, -5.5]\n",
    "\n",
    "# Init 3 variables to hold extracted elements\n",
    "pos = []\n",
    "neg = []\n",
    "zeros = []\n",
    "\n",
    "# Extract elements\n",
    "for e in x:\n",
    "    if e > 0:\n",
    "        pos.append(e)\n",
    "    elif e < 0:\n",
    "        neg.append(e)\n",
    "    else:\n",
    "        zeros.append(e)\n",
    "        \n",
    "# Print the result\n",
    "print(f\"Positive numbers: {pos}\")\n",
    "print(f\"Negative numbers: {neg}\")\n",
    "print(f\"Zeros numbers: {zeros}\")"
   ]
  },
  {
   "cell_type": "markdown",
   "id": "11afeded-02b7-4d32-8c0c-8ab6b39f75f1",
   "metadata": {},
   "source": [
    "### Nested `for` loops\n",
    "- We can write a `for` loop inside another `for` loop\n",
    "- This is called a nested `for` loop\n",
    "- However, be careful that computation can explode very quickly if your program involves nested `for` loops\n",
    "- Ex: if the outer loop has $1,000$ iterations and the inner loop has $2,000$ iterations, then your program has to perform $2,000,000$ iterations in total"
   ]
  },
  {
   "cell_type": "markdown",
   "id": "d5125274-cf42-4eb2-9171-ca453662e691",
   "metadata": {},
   "source": [
    "**a) Ex 1: compute factorial for each integer in a list**\n",
    "\n",
    "Loop through a list of positive integers, and at each iteration, print the factorial of that integer"
   ]
  },
  {
   "cell_type": "code",
   "execution_count": 11,
   "id": "55563087-c265-44b0-90be-ddf82d5f7b48",
   "metadata": {},
   "outputs": [
    {
     "name": "stdout",
     "output_type": "stream",
     "text": [
      "1! = 1\n",
      "3! = 6\n",
      "4! = 24\n",
      "6! = 720\n",
      "7! = 5040\n"
     ]
    }
   ],
   "source": [
    "# Init a list of positive integers\n",
    "numbers = [1, 3, 4, 6, 7]\n",
    "for n in numbers:\n",
    "    fact = 1\n",
    "    for i in range(1, n + 1):\n",
    "        fact *= i\n",
    "    print(f\"{n}! = {fact}\")"
   ]
  },
  {
   "cell_type": "markdown",
   "id": "6300594e-0eb6-4be2-9037-e07bfa5794cf",
   "metadata": {},
   "source": [
    "**b) Ex 2: print a triangle**\n",
    "\n",
    "Print out the following triangle\n",
    "\n",
    "```text\n",
    "0 1 2 3 4 5 6 7 8 9 \n",
    "1 2 3 4 5 6 7 8 9 \n",
    "2 3 4 5 6 7 8 9 \n",
    "3 4 5 6 7 8 9 \n",
    "4 5 6 7 8 9 \n",
    "5 6 7 8 9 \n",
    "6 7 8 9 \n",
    "7 8 9 \n",
    "8 9 \n",
    "9 \n",
    "```"
   ]
  },
  {
   "cell_type": "code",
   "execution_count": 12,
   "id": "b89e196c-c914-43ec-b109-94c068e6708f",
   "metadata": {},
   "outputs": [
    {
     "name": "stdout",
     "output_type": "stream",
     "text": [
      "0 1 2 3 4 5 6 7 8 9 \n",
      "1 2 3 4 5 6 7 8 9 \n",
      "2 3 4 5 6 7 8 9 \n",
      "3 4 5 6 7 8 9 \n",
      "4 5 6 7 8 9 \n",
      "5 6 7 8 9 \n",
      "6 7 8 9 \n",
      "7 8 9 \n",
      "8 9 \n",
      "9 \n"
     ]
    }
   ],
   "source": [
    "for i in range(10):\n",
    "    for j in range(i, 10):\n",
    "        print(j, end=\" \")\n",
    "    print(\"\")"
   ]
  },
  {
   "cell_type": "markdown",
   "id": "acdb7fc3-ff65-44fb-a896-6d29b6fd8688",
   "metadata": {},
   "source": [
    "## `while` loops"
   ]
  },
  {
   "cell_type": "markdown",
   "id": "7c93e40d-4177-4a38-be67-377c4d1fa8b2",
   "metadata": {},
   "source": [
    "### Basic `while` loops\n",
    "- Another way to repeat a block of code in Python is to use a `while` loop\n",
    "- The template is as follows\n",
    "\n",
    "```python\n",
    "while condition:\n",
    "    # Do something\n",
    "```\n",
    "\n",
    "- Here is how a `while` loop works\n",
    "    - First, Python evaluates `condition`\n",
    "    - If `False`, Python skip the code inside `while` and proceed to the next statement after `while`\n",
    "    - If `True`, Python executes the code inside `while`, and after that Python goes back to check `condition`\n",
    "    - As long as `condition` is still `True`, Python continues repeating the code inside `while`"
   ]
  },
  {
   "cell_type": "markdown",
   "id": "733b3d53-e08f-416b-b14c-c45b28cfe16f",
   "metadata": {},
   "source": [
    "**a) Ex 1: compute the sum of numbers in a list**\n",
    "\n",
    "- In an earlier example, we saw how to use a `for` loop to compute the sum of a list of numbers\n",
    "- We can also use a `while` loop to achieve the same thing"
   ]
  },
  {
   "cell_type": "code",
   "execution_count": 2,
   "id": "61a21f54-d93f-418e-9394-56e6021302ba",
   "metadata": {},
   "outputs": [
    {
     "data": {
      "text/plain": [
       "[1, 2, 10, -5]"
      ]
     },
     "execution_count": 2,
     "metadata": {},
     "output_type": "execute_result"
    }
   ],
   "source": [
    "# Init a list\n",
    "x = [1, 2, 10, -5]\n",
    "x"
   ]
  },
  {
   "cell_type": "code",
   "execution_count": 5,
   "id": "0978067e-2080-482a-8739-e771f5032296",
   "metadata": {},
   "outputs": [
    {
     "name": "stdout",
     "output_type": "stream",
     "text": [
      "8\n"
     ]
    }
   ],
   "source": [
    "# Compute the sum\n",
    "i = 0\n",
    "total = 0\n",
    "\n",
    "while i < len(x):\n",
    "    # Add x[i] to the total\n",
    "    total += x[i]\n",
    "    \n",
    "    # Important: increase i \n",
    "    # to move to the next element\n",
    "    i += 1\n",
    "    \n",
    "# Check the result\n",
    "print(total)"
   ]
  },
  {
   "cell_type": "markdown",
   "id": "139293fc-2a33-40af-bdf9-5a3a22f53f7d",
   "metadata": {},
   "source": [
    "What happened?\n",
    "\n",
    "- First, we initiate 2 variables\n",
    "    - `i`: to track the iterations\n",
    "    - `total`: to accumlate the sum of elements of `x`\n",
    "- In the first iteration\n",
    "    - At the beginning, `i = 0` and `total = 0`\n",
    "    - Condition `i < len(x)` is true because `len(x)` is `4`\n",
    "    - Thus, Python executes the code inside `while`\n",
    "    - The statement `total += x[i]` add `x[0]` to `total`, and now `total` is `1`\n",
    "    - The statement `i += 1` increase by `1` and now `i` is `1`\n",
    "    - There's no more statements so Python moves to the next iteration\n",
    "- In the second iteration\n",
    "    - At the beginning, `i = 1` and `total = 1`\n",
    "    - Python checks the condition `i < len(x)` and sees that it is still true\n",
    "    - Thus, Python executes the code inside `while` and at the end `total` is updated to `3` and `i` is updated to `2`\n",
    "- This process continues until the 4th iteration is done\n",
    "- After the 4th iteration, `i = 4` and `total = 8`\n",
    "- Python checks the condition `is < len(x)` as usual and it gets a `False` (because `4 < 4` is false)\n",
    "- Since the condition is false, the loop terminates\n",
    "- **Important:** people often forget to increase the counter (`i += 1`) and this leads to an infinite loop (because the condition is always true)"
   ]
  },
  {
   "cell_type": "markdown",
   "id": "f5c36c16-d618-4637-ad9d-86e90c69455b",
   "metadata": {},
   "source": [
    "**b) Ex 2: redo Ex 1 with ``.pop()``**"
   ]
  },
  {
   "cell_type": "code",
   "execution_count": 1,
   "id": "9c775089-90d8-4af3-9e2b-44aed1b4806c",
   "metadata": {},
   "outputs": [
    {
     "data": {
      "text/plain": [
       "8"
      ]
     },
     "execution_count": 1,
     "metadata": {},
     "output_type": "execute_result"
    }
   ],
   "source": [
    "# Init a list\n",
    "x = [1, 2, 10, -5]\n",
    "\n",
    "# Compute the sum\n",
    "total = 0\n",
    "while x:\n",
    "    total += x.pop()\n",
    "    \n",
    "# Check the result\n",
    "total"
   ]
  },
  {
   "cell_type": "markdown",
   "id": "4057ef6b-4af9-4e6e-a8ec-5997415a215e",
   "metadata": {},
   "source": [
    "What happened?\n",
    "\n",
    "- First, we initiate a list with 4 elements\n",
    "- In the first iteration of the `while` loop\n",
    "    - Python converts `x` to `bool` and gets a `True` (because the list is non-empty)\n",
    "    - Since the condition is true, Python executes the statement inside `while`\n",
    "    - The last element of `x` (which is `-5`) is popped out and added to `total`\n",
    "    - `x` now has 3 elements\n",
    "- In the second iteration\n",
    "    - Python repeats checking the condition and still gets a `True` (because `x` is still non-empty)\n",
    "    - And the last element of `x` (which is `10` now) is added to `total`\n",
    "    - `x` now has 2 elements\n",
    "- The above process is repeated until `x` becomes an empty list\n",
    "    - When Python checks the condition, this empty list is converted to `False`\n",
    "    - The loop ends"
   ]
  },
  {
   "cell_type": "markdown",
   "id": "8507e190-54a5-4423-bce7-f509f2cf80c1",
   "metadata": {},
   "source": [
    "### Nested while loops\n",
    "- Similar to `for`, we can also nest another `while` or `for` loop inside a `while loop`\n",
    "- Just be aware that the computation can explode with nested loops"
   ]
  },
  {
   "cell_type": "markdown",
   "id": "45f22411-2a33-4783-bb58-a2e0cb2979d7",
   "metadata": {},
   "source": [
    "## Control loops with `break` and `continue`\n",
    "- The `break` keyword terminates the entire loop and moves the execution to the statement after the loop\n",
    "- The `continue` keyword just skips the current iteration and moves the execution to the next iteration (if any)"
   ]
  },
  {
   "cell_type": "markdown",
   "id": "c504c260-e636-40fc-8677-69088d137cd7",
   "metadata": {},
   "source": [
    "### `break`"
   ]
  },
  {
   "cell_type": "markdown",
   "id": "330c6de9-744b-478b-a7a6-8a24c84b15f8",
   "metadata": {},
   "source": [
    "Ex: print elements of a list of and stop until encountering the first negative number"
   ]
  },
  {
   "cell_type": "code",
   "execution_count": 12,
   "id": "4ab1d212-f761-4037-b9af-6b42148844f8",
   "metadata": {},
   "outputs": [
    {
     "data": {
      "text/plain": [
       "[1, 2, 0, -3, 7, 4, -5, 8]"
      ]
     },
     "execution_count": 12,
     "metadata": {},
     "output_type": "execute_result"
    }
   ],
   "source": [
    "# Init a list\n",
    "x = [1, 2, 0, -3, 7, 4, -5, 8]\n",
    "x"
   ]
  },
  {
   "cell_type": "code",
   "execution_count": 4,
   "id": "15a89924-7e52-475e-9737-2b75b096bb29",
   "metadata": {},
   "outputs": [
    {
     "name": "stdout",
     "output_type": "stream",
     "text": [
      "1\n",
      "2\n",
      "0\n",
      "-3\n"
     ]
    }
   ],
   "source": [
    "# Case 1: also print out the first negative numbers\n",
    "for e in x:\n",
    "    print(e)\n",
    "    if e < 0:\n",
    "        break"
   ]
  },
  {
   "cell_type": "markdown",
   "id": "0601c007-7d8f-4bd9-ba16-753477401e41",
   "metadata": {},
   "source": [
    "Explanation\n",
    "\n",
    "- In the above code, Python iterates through each element of `x` from left to right\n",
    "- In each iteration, Python prints out the element and then checks if the element is negative\n",
    "- We can see that in the 4th iteration, this checking condition is true (because `-3 < 0`)\n",
    "- Thus, the loop ends after 4 iterations"
   ]
  },
  {
   "cell_type": "code",
   "execution_count": 7,
   "id": "f0e901b5-69f8-43af-9d43-4c53e8a565ae",
   "metadata": {},
   "outputs": [
    {
     "name": "stdout",
     "output_type": "stream",
     "text": [
      "1\n",
      "2\n",
      "0\n"
     ]
    }
   ],
   "source": [
    "# Case 2: do not print out the first negative numbers\n",
    "# All we need to do is to do the checking first\n",
    "# If we encounter the first negative number, the loop ends immediately\n",
    "# and this negative number will never be printed out\n",
    "for e in x:\n",
    "    if e < 0:\n",
    "        break\n",
    "    print(e)"
   ]
  },
  {
   "cell_type": "markdown",
   "id": "fbf04ba3-3f0a-4bff-ba21-c9903555a5df",
   "metadata": {},
   "source": [
    "### `continue`\n",
    "\n",
    "Ex: print out positive numbers only"
   ]
  },
  {
   "cell_type": "code",
   "execution_count": 8,
   "id": "f9447f71-f0e4-4ec9-8434-9bd5c5cef0dd",
   "metadata": {},
   "outputs": [
    {
     "data": {
      "text/plain": [
       "[1, 2, 0, -3, 7, 4, -5, 8]"
      ]
     },
     "execution_count": 8,
     "metadata": {},
     "output_type": "execute_result"
    }
   ],
   "source": [
    "# Init a list\n",
    "x = [1, 2, 0, -3, 7, 4, -5, 8]\n",
    "x"
   ]
  },
  {
   "cell_type": "code",
   "execution_count": 11,
   "id": "b7c22847-cbb9-4c31-8cc4-97697a3d1894",
   "metadata": {},
   "outputs": [
    {
     "name": "stdout",
     "output_type": "stream",
     "text": [
      "1\n",
      "2\n",
      "7\n",
      "4\n",
      "8\n"
     ]
    }
   ],
   "source": [
    "# Print out only positive numbers\n",
    "for e in x:\n",
    "    if e <= 0:\n",
    "        continue\n",
    "    print(e)"
   ]
  },
  {
   "cell_type": "markdown",
   "id": "c2c817dd-47da-45f5-809e-891bcc3a2c96",
   "metadata": {},
   "source": [
    "Explanation\n",
    "\n",
    "- In each iteration, Python checks if the current element `e` is non-negative or not\n",
    "- If true (`e` is non-negative), then Python will execute the `continue` statement which ignores everything after the `if` (in this case, the `print` statement) and move to the next iteration\n",
    "- If false (`e` is indeed positive), then Python will execute sequentially and print out the element\n",
    "- Thus, unlike `break`, `continue` just skips some code but does not terminate the loop"
   ]
  },
  {
   "cell_type": "code",
   "execution_count": 14,
   "id": "1662c8af-536b-4192-ae4d-80c2d9891144",
   "metadata": {},
   "outputs": [
    {
     "name": "stdout",
     "output_type": "stream",
     "text": [
      "1\n",
      "2\n",
      "7\n",
      "4\n",
      "8\n"
     ]
    }
   ],
   "source": [
    "# Of course, we can solve the above example without using continue\n",
    "for e in x:\n",
    "    if e > 0:\n",
    "        print(e)"
   ]
  },
  {
   "cell_type": "markdown",
   "id": "33f27e79-247c-49e1-acce-ce444d480463",
   "metadata": {},
   "source": [
    "## Infinite loops\n",
    "- Sometimes we are not sure how many iterations will be needed to accomplish a task\n",
    "- Thus, we use a `while` loop with `True` as the condition\n",
    "- This loop will repeat potentially forever\n",
    "- To avoid that, we put an `if` statement inside the loop to break it when some condition is met"
   ]
  },
  {
   "cell_type": "markdown",
   "id": "9f9342b0-4301-4858-981f-16f720b02d7d",
   "metadata": {},
   "source": [
    "**Ex: guess a number**\n",
    "- Suppose you have to randomly choose an integer from 0 to 5\n",
    "- My secrete number is 3\n",
    "- If the number you choose coincide with my secrete number, the program ends\n",
    "- Otherwise, you repeat the choosing again until your number and mine are the same\n",
    "- As you might see, this loop potentially repeats forever"
   ]
  },
  {
   "cell_type": "code",
   "execution_count": 81,
   "id": "87049a85-794d-4e0a-acef-8d18b36ad35d",
   "metadata": {},
   "outputs": [],
   "source": [
    "# First we need to import random module\n",
    "# We might also need to set a seed for reproducibility\n",
    "# (you can safely ignore this for now)\n",
    "import random\n",
    "random.seed(1)"
   ]
  },
  {
   "cell_type": "code",
   "execution_count": 82,
   "id": "e9e455b4-2c43-4fa1-a42b-9e8074e8529e",
   "metadata": {},
   "outputs": [
    {
     "name": "stdout",
     "output_type": "stream",
     "text": [
      "Your guess: 1\n",
      "Your guess: 4\n",
      "Your guess: 0\n",
      "Your guess: 2\n",
      "Your guess: 0\n",
      "Your guess: 3\n",
      "You guessed correctly\n"
     ]
    }
   ],
   "source": [
    "# Init \n",
    "secrete_num = 3\n",
    "\n",
    "# Guess\n",
    "while True:\n",
    "    guess = random.randint(0, 5)\n",
    "    print(f\"Your guess: {guess}\")\n",
    "    \n",
    "    if guess == secrete_num:\n",
    "        print(\"You guessed correctly\")\n",
    "        break"
   ]
  },
  {
   "cell_type": "markdown",
   "id": "0a9ef640-ef2d-453b-943a-a8e124ac3a9e",
   "metadata": {},
   "source": [
    "## Comprehensions\n",
    "- Comprehension is a quick way to create an iterable without using a loop\n",
    "- Let's consider the following example: \"generate a list of squares of positive integers less than 10\""
   ]
  },
  {
   "cell_type": "code",
   "execution_count": 15,
   "id": "e7bd2f9f-2bde-4e3d-b0ba-b775be6cf870",
   "metadata": {},
   "outputs": [
    {
     "data": {
      "text/plain": [
       "[0, 1, 4, 9, 16, 25, 36, 49, 64]"
      ]
     },
     "execution_count": 15,
     "metadata": {},
     "output_type": "execute_result"
    }
   ],
   "source": [
    "# Method 1: use a for loop\n",
    "squares = []\n",
    "for i in range(9):\n",
    "    squares.append(i*i)\n",
    "    \n",
    "squares"
   ]
  },
  {
   "cell_type": "code",
   "execution_count": 17,
   "id": "ed44d156-7121-4251-b2bf-fae3f0a99a62",
   "metadata": {},
   "outputs": [
    {
     "data": {
      "text/plain": [
       "[0, 1, 4, 9, 16, 25, 36, 49, 64]"
      ]
     },
     "execution_count": 17,
     "metadata": {},
     "output_type": "execute_result"
    }
   ],
   "source": [
    "# Method 2: use list comp\n",
    "squares = [i*i for i in range(9)]\n",
    "squares"
   ]
  },
  {
   "cell_type": "markdown",
   "id": "8e8f8b60-4613-4726-9450-53343e51c7fc",
   "metadata": {},
   "source": [
    "### List comprehensions\n",
    "- Create a list without using a loop\n",
    "- Syntax: `[expr for item in iterable if condition]`\n",
    "- The `if` part is optional"
   ]
  },
  {
   "cell_type": "markdown",
   "id": "5b2d8030-abc5-493c-ad26-2850a7ccaae3",
   "metadata": {},
   "source": [
    "**a) Ex 1: extract `grade >= 5` from a list of grades**"
   ]
  },
  {
   "cell_type": "code",
   "execution_count": 19,
   "id": "a5f16d8f-5923-45b7-8a61-f22728a70f85",
   "metadata": {},
   "outputs": [
    {
     "data": {
      "text/plain": [
       "[7, 8, 5, 6.5, 10, 9.5]"
      ]
     },
     "execution_count": 19,
     "metadata": {},
     "output_type": "execute_result"
    }
   ],
   "source": [
    "# Init a list of grades\n",
    "grades = [1, 3, 2.5, 7, 8, 5, 6.5, 0, 10, 9.5, 2]\n",
    "\n",
    "# Extract passing grade\n",
    "passing_grades = [g for g in grades if g >= 5]\n",
    "\n",
    "# Check the result\n",
    "passing_grades"
   ]
  },
  {
   "cell_type": "markdown",
   "id": "1e5dc942-58c2-4017-9009-43229b9d8891",
   "metadata": {},
   "source": [
    "**b) Ex 2: extract customers with names starting with `\"A\"`**"
   ]
  },
  {
   "cell_type": "code",
   "execution_count": 20,
   "id": "3d599afd-aa96-4bb5-ab2f-674f458e54a1",
   "metadata": {},
   "outputs": [
    {
     "data": {
      "text/plain": [
       "['Anna', 'Alexander', 'andrew']"
      ]
     },
     "execution_count": 20,
     "metadata": {},
     "output_type": "execute_result"
    }
   ],
   "source": [
    "# Init a list of customers\n",
    "customers = [\"Anna\", \"Bob\", \"Jack\", \"Alexander\", \"tom\", \"andrew\"]\n",
    "\n",
    "# Extract customers whose names start with \"A\" (case-insensitive)\n",
    "customers_a = [c for c in customers if c.lower().startswith(\"a\")]\n",
    "\n",
    "# Check the result\n",
    "customers_a"
   ]
  },
  {
   "cell_type": "markdown",
   "id": "edf17854-bac5-4bf4-999c-b7d136a65424",
   "metadata": {},
   "source": [
    "**c) Ex 3: create a list of absolute paths from a list of file names**"
   ]
  },
  {
   "cell_type": "code",
   "execution_count": 27,
   "id": "58f4e6e9-c45f-450a-9f6f-5b546d01087e",
   "metadata": {},
   "outputs": [
    {
     "data": {
      "text/plain": [
       "['D:/projects/proj_1/data.csv',\n",
       " 'D:/projects/proj_1/report.docx',\n",
       " 'D:/projects/proj_1/slides.ppt',\n",
       " 'D:/projects/proj_1/analysis.ipynb']"
      ]
     },
     "execution_count": 27,
     "metadata": {},
     "output_type": "execute_result"
    }
   ],
   "source": [
    "# Init\n",
    "file_names = [\"data.csv\", \"report.docx\", \"slides.ppt\", \"analysis.ipynb\"]\n",
    "dir_path = \"D:/projects/proj_1/\"\n",
    "\n",
    "# Create absolute paths\n",
    "abs_paths = [dir_path + f for f in file_names]\n",
    "\n",
    "# Check the result\n",
    "abs_paths"
   ]
  },
  {
   "cell_type": "markdown",
   "id": "c2a7f5cb-efe0-49a3-9ad4-d7c00e8ab0ef",
   "metadata": {},
   "source": [
    "### Tuple comprehensions\n",
    "- Similar to list comp, however, the output is a generator instead of a tuple (for optimization purposes)\n",
    "- Syntax: `(expr for item in iterable if condition)`\n",
    "- The `if` part is also optional\n",
    "- To see the actual elements of the result, we can convert it to a tuple using `tuple()`\n",
    "- No need for examples"
   ]
  },
  {
   "cell_type": "markdown",
   "id": "7cb50fee-5c9c-474c-85b3-c2dc0f24200e",
   "metadata": {},
   "source": [
    "### Dict comprehensions\n",
    "- Dic comp is a quick way to create a dict without using a loop\n",
    "- Syntax: `(expr_key: expr_value for item in iterable if condition)`\n",
    "- The `if` part is also optional"
   ]
  },
  {
   "cell_type": "markdown",
   "id": "0310cb0f-7955-4cf0-a22d-5e5bdd0627a7",
   "metadata": {},
   "source": [
    "**a) Ex 1: create a dict of `lowercase: uppercase`**\n",
    "\n",
    "- Suppose we have a sentence with words separated by spaces\n",
    "- Create a dict with words in lowercase as keys and words in uppercase as values"
   ]
  },
  {
   "cell_type": "code",
   "execution_count": 40,
   "id": "ef512fbe-ec12-4f05-8a39-fd9d656aab6a",
   "metadata": {},
   "outputs": [
    {
     "data": {
      "text/plain": [
       "{'i': 'I', 'want': 'WANT', 'to': 'TO', 'learn': 'LEARN', 'python': 'PYTHON'}"
      ]
     },
     "execution_count": 40,
     "metadata": {},
     "output_type": "execute_result"
    }
   ],
   "source": [
    "# Init a sentence\n",
    "s = \"I want to learn Python\"\n",
    "\n",
    "# Create the dict\n",
    "d = {w.lower(): w.upper() for w in s.split()}\n",
    "\n",
    "# Check the result\n",
    "d"
   ]
  },
  {
   "cell_type": "markdown",
   "id": "0283732c-8b82-4768-8c79-17b36b228502",
   "metadata": {},
   "source": [
    "**b) Ex 2: extract high-income individuals**\n",
    "\n",
    "- Suppose we have a dict of people with IDs as keys and incomes as values\n",
    "- Extract those with `income >= 100,000`"
   ]
  },
  {
   "cell_type": "code",
   "execution_count": 39,
   "id": "e7b3802c-e921-4bd6-948e-cbd20b9dbe64",
   "metadata": {},
   "outputs": [
    {
     "data": {
      "text/plain": [
       "{'ID03': 105000.0, 'ID05': 125000.0}"
      ]
     },
     "execution_count": 39,
     "metadata": {},
     "output_type": "execute_result"
    }
   ],
   "source": [
    "# Init a dict\n",
    "people = {\"ID01\": 50e3, \"ID02\": 72e3, \"ID03\": 105e3, \"ID04\": 35e3, \"ID05\": 125e3}\n",
    "\n",
    "# Extract high-income individuals\n",
    "high_income = {k: v for k, v in people.items() if v >= 100e3}\n",
    "\n",
    "# Check the result\n",
    "high_income"
   ]
  },
  {
   "cell_type": "markdown",
   "id": "6d2761fc-d0c8-4e52-8271-a7853524af41",
   "metadata": {},
   "source": [
    "**c) Ex 3: create a dict of letters with their counts**\n",
    "- Suppose we have a string\n",
    "- Create a dict with each letter as a key and its number of occurrences as values"
   ]
  },
  {
   "cell_type": "code",
   "execution_count": 41,
   "id": "e6738191-3dc3-4eed-a993-182287e73bd8",
   "metadata": {},
   "outputs": [
    {
     "data": {
      "text/plain": [
       "{'l': 2, 'e': 1, 'H': 1, 'o': 1}"
      ]
     },
     "execution_count": 41,
     "metadata": {},
     "output_type": "execute_result"
    }
   ],
   "source": [
    "# Init a string\n",
    "s = \"Hello\"\n",
    "\n",
    "# Create the dict\n",
    "d = {k: s.count(k) for k in set(s)}\n",
    "\n",
    "# Check the result\n",
    "d"
   ]
  },
  {
   "cell_type": "markdown",
   "id": "85d7aa96-3255-4228-86ca-cfa6b1ac73e4",
   "metadata": {},
   "source": [
    "**d) Ex 4: create a dict by zipping lists**\n",
    "\n",
    "- Suppose we have a list of drinks and another list of prices for the drinks\n",
    "- Create a dict with drinks as keys and prices as values"
   ]
  },
  {
   "cell_type": "code",
   "execution_count": 42,
   "id": "ee51631b-8623-4cca-831d-51a9a954bb19",
   "metadata": {},
   "outputs": [
    {
     "data": {
      "text/plain": [
       "{'Cappuccino': 1.5, 'Americano': 1.2, 'Espresso': 1.6, 'Macchiato': 2.0}"
      ]
     },
     "execution_count": 42,
     "metadata": {},
     "output_type": "execute_result"
    }
   ],
   "source": [
    "# Init drinks and prices\n",
    "drinks = [\"Cappuccino\", \"Americano\", \"Espresso\", \"Macchiato\"]\n",
    "prices = [1.5, 1.2, 1.6, 2.]\n",
    "\n",
    "# Create a dict with drinks as keys and prices as values\n",
    "d = {d: p for d, p in zip(drinks, prices)}\n",
    "\n",
    "# Check the result\n",
    "d"
   ]
  },
  {
   "cell_type": "markdown",
   "id": "1004a004-1c1b-4539-af7f-4e88c976d9ae",
   "metadata": {},
   "source": [
    "## Summary\n",
    "**Overview**\n",
    "- Looping is repeating a block of code multiple times for the purpose of automating repetitive tasks\n",
    "- Benefits\n",
    "    - Write once, run as many times as we want\n",
    "    - If we want to modify something, we have to make changes in one place\n",
    "    - This reduces manual work and makes it less prone to errors\n",
    "- In Python, we can do looping using `for` or `while`\n",
    "\n",
    "**`for` loops**\n",
    "- Syntax\n",
    "  ```python\n",
    "  for item in iterable:\n",
    "      # Do something\n",
    "  ```\n",
    "- Each element of `iterable` will be visited once from left to right\n",
    "- Each visit is called an iteration\n",
    "- We can access both the elements and the corresponding indices using `enumerate()`\n",
    "- A `for` loop can be nested in another `for` loop (be aware of computation explosion)\n",
    "\n",
    "**`while` loops**\n",
    "- Syntax\n",
    "  ```python\n",
    "  while condition:\n",
    "      # Do something\n",
    "  ```\n",
    "- As long as `condition` is true, the code block inside `while` is still executed (each execution is an iteration)\n",
    "- When `condition` is false, the loop ends\n",
    "- The `while` loop is often used when we are not sure how many iterations are needed (as in the case of an infinite loop)\n",
    "\n",
    "**`break` and `continue`**\n",
    "- The `break` keyword terminates the entire loop and moves the execution to the statement after the loop\n",
    "- The `continue` keyword just skips the current iteration and moves the execution to the next iteration (if any)\n",
    "- For `break`, it is possible that the loop does not iterate over all elements of the iterable. However, for `continue`, every element of the iterable is visited\n",
    "\n",
    "**Infinite loops**\n",
    "- We use an infinite loop (`while True:`) when we are not sure how many iterations will be needed to accomplish a task\n",
    "- Remember to put an `if` statement inside the loop to check for the exit condition\n",
    "\n",
    "**Comprehensions**\n",
    "- Comprehension is a quick way to create an iterable without using a loops\n",
    "- We have\n",
    "    - List comprehensions\n",
    "    - Tuple comprehensions\n",
    "    - Dict comprehensions\n",
    "- Note that comprehensions are not meant to replace loops"
   ]
  }
 ],
 "metadata": {
  "kernelspec": {
   "display_name": "Python 3 (ipykernel)",
   "language": "python",
   "name": "python3"
  },
  "language_info": {
   "codemirror_mode": {
    "name": "ipython",
    "version": 3
   },
   "file_extension": ".py",
   "mimetype": "text/x-python",
   "name": "python",
   "nbconvert_exporter": "python",
   "pygments_lexer": "ipython3",
   "version": "3.9.12"
  }
 },
 "nbformat": 4,
 "nbformat_minor": 5
}
