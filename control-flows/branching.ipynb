{
 "cells": [
  {
   "cell_type": "markdown",
   "id": "0e968c7e-9286-4a69-b5b8-923126fdbd23",
   "metadata": {},
   "source": [
    "# Branching\n",
    "\n",
    "Author: Tue Nguyen"
   ]
  },
  {
   "cell_type": "markdown",
   "id": "1a7b7693-c555-4619-aed6-de21a5e6592a",
   "metadata": {},
   "source": [
    "## Outline\n",
    "- Overview about branching\n",
    "- `if` statements\n",
    "- `match` statements"
   ]
  },
  {
   "cell_type": "markdown",
   "id": "6b73937a-e888-4653-b7c3-8e97c4da5a34",
   "metadata": {},
   "source": [
    "## Overview about branching\n",
    "- When driving a car you often have to consider your current situations and make decision accordingly\n",
    "- Examples\n",
    "    - If the traffic light is red, you stop. If it's green you go\n",
    "    - If it is raining, you drive slowly and carefully\n",
    "- You do the same when programming: making your decisions based on the current state of your program\n",
    "- This is called **branching**\n",
    "- In Python, you do branching using `if` statements\n",
    "- From Python `3.10`, you have another way to do braching using `match` statements"
   ]
  },
  {
   "cell_type": "markdown",
   "id": "c6c39462-21de-4333-a92c-145411731644",
   "metadata": {},
   "source": [
    "## `if` statements\n",
    "You can write an `if` statement in 4 fashions\n",
    "- `if`\n",
    "- `if else`\n",
    "- `if elif`\n",
    "- `if elif else`"
   ]
  },
  {
   "cell_type": "markdown",
   "id": "25d14dd4-eb82-47a7-8fe5-6c4da74cf3db",
   "metadata": {},
   "source": [
    "### Syntax 1: `if`\n",
    "The template for this syntax is as follows\n",
    "```python\n",
    "if condition:\n",
    "    # do something\n",
    "```\n",
    "\n",
    "Here\n",
    "- `condition` is often an expression that produces a `bool` value (i.e., `True` or `False`)\n",
    "- If `condition` is not readily in the `bool` type, Python will do a conversion to `bool` implicitly\n",
    "- If `condition` is `True`, Python executes the code block inside `if`\n",
    "- Otherwise, Python skip to the next statements after `if`"
   ]
  },
  {
   "cell_type": "code",
   "execution_count": 4,
   "id": "fb961291-a0ae-48ce-a411-b6fbf64dabf5",
   "metadata": {},
   "outputs": [
    {
     "data": {
      "text/plain": [
       "[1, 2, -3, 0, -2, 7, 11]"
      ]
     },
     "execution_count": 4,
     "metadata": {},
     "output_type": "execute_result"
    }
   ],
   "source": [
    "# Init a list of integers\n",
    "numbers = [1, 2, -3, 0, -2, 7, 11]\n",
    "numbers"
   ]
  },
  {
   "cell_type": "markdown",
   "id": "b2907e83-76e6-459f-8438-88fc3e75227d",
   "metadata": {},
   "source": [
    "**a) Ex 1: print positive integers only**"
   ]
  },
  {
   "cell_type": "code",
   "execution_count": 9,
   "id": "5defbc1e-6aac-4b5d-b561-4670b5259dd3",
   "metadata": {},
   "outputs": [
    {
     "name": "stdout",
     "output_type": "stream",
     "text": [
      "1\n",
      "2\n",
      "7\n",
      "11\n"
     ]
    }
   ],
   "source": [
    "for n in numbers:\n",
    "    if n > 0:\n",
    "        print(n)"
   ]
  },
  {
   "cell_type": "markdown",
   "id": "a1a86e18-a10c-4cb0-9016-b757f5df8cda",
   "metadata": {},
   "source": [
    "What happened?\n",
    "\n",
    "- In each iteration of the `for` loop, Python compare the current element with `0`\n",
    "- This comparison produces `True` if `n` is positive and `False` if `n` is NOT positive\n",
    "- If `n` is positive, Python executes the print statement and the element is printed out\n",
    "- If not, Python will skip the print statement and move to the statement after `if` (if any)\n",
    "- However, in this example, there is no statement after `if`, and Python notices that it has not reached the last iteration\n",
    "- Thus, Python moves to the next iteration and repeat the logic above"
   ]
  },
  {
   "cell_type": "markdown",
   "id": "d43934c5-e2a7-414b-be04-13040e776041",
   "metadata": {},
   "source": [
    "**b) Ex 2: print odd integers only**"
   ]
  },
  {
   "cell_type": "code",
   "execution_count": 13,
   "id": "3b858fba-c42f-47de-a49c-8ab432fddb01",
   "metadata": {},
   "outputs": [
    {
     "name": "stdout",
     "output_type": "stream",
     "text": [
      "1\n",
      "-3\n",
      "7\n",
      "11\n"
     ]
    }
   ],
   "source": [
    "for n in numbers:\n",
    "    if n % 2 != 0:\n",
    "        print(n)"
   ]
  },
  {
   "cell_type": "markdown",
   "id": "f53a4c55-a56f-4f11-82a0-c71a6e04884e",
   "metadata": {},
   "source": [
    "**c) Ex 3: redo Ex 2 with implicit typecasting**"
   ]
  },
  {
   "cell_type": "code",
   "execution_count": 20,
   "id": "da5332a5-f6a4-40fe-9fc7-458ff289275c",
   "metadata": {},
   "outputs": [
    {
     "name": "stdout",
     "output_type": "stream",
     "text": [
      "1\n",
      "-3\n",
      "7\n",
      "11\n"
     ]
    }
   ],
   "source": [
    "for n in numbers:\n",
    "    if n % 2:\n",
    "        print(n)"
   ]
  },
  {
   "cell_type": "markdown",
   "id": "78ca1832-714e-4436-b2c6-31d2de4dee52",
   "metadata": {},
   "source": [
    "What happened?\n",
    "\n",
    "- In Ex 3, in each iteration Python computes `n % 2` and comes up with an integer, which is the remainder when dividing `n` by `2`\n",
    "- However, `if` expects a `bool`, so Python tries to convert the remainder to `bool`\n",
    "- For example, in the first iteration\n",
    "    - `n` takes the value `1`, thus `n % 2` gives `1`\n",
    "    - `bool(1)` produces `True` so the condition is `True` and Python executes the code inside `if` (the `print` statement) and you see `1` is printed out\n",
    "- In the second iteration\n",
    "    - `n` takes the value `2`, thus `n % 2` gives `0`\n",
    "    - `bool(0)` produces `False` so the conditio is `False`, and Python skips the print statement\n",
    "- In general\n",
    "    - When `n` is odd, `n % 2` gives `1` (equivalent to `True`)\n",
    "    - When `n` is even, `n % 2` gives `0` (equivalent to `False`)\n",
    "    - Thus we can write the condition as just `n % 2` instead of `n % 2 != 0`\n",
    "- However, I recommend using the style in Ex 2 rather than in Ex 3 because it is more readable"
   ]
  },
  {
   "cell_type": "markdown",
   "id": "cc85b6c4-8685-447d-8e5b-ebd4ca0e5f48",
   "metadata": {},
   "source": [
    "**Ex 4: print even numbers only using implicit typecasting**"
   ]
  },
  {
   "cell_type": "code",
   "execution_count": 21,
   "id": "a9aa121d-e44f-44e9-8e05-a84271c7bb50",
   "metadata": {},
   "outputs": [
    {
     "name": "stdout",
     "output_type": "stream",
     "text": [
      "2\n",
      "0\n",
      "-2\n"
     ]
    }
   ],
   "source": [
    "# All we need to do is to negate the condition in Ex 3\n",
    "for n in numbers:\n",
    "    if not (n % 2):\n",
    "        print(n)"
   ]
  },
  {
   "cell_type": "markdown",
   "id": "43d04060-2e6a-4b4c-9090-bff08abca1d2",
   "metadata": {},
   "source": [
    "**Ex 5: redo Ex 4 in a more readable way**"
   ]
  },
  {
   "cell_type": "code",
   "execution_count": 17,
   "id": "b2429e21-7c88-42f4-a6a5-ba2d6daeae0d",
   "metadata": {},
   "outputs": [
    {
     "name": "stdout",
     "output_type": "stream",
     "text": [
      "2\n",
      "0\n",
      "-2\n"
     ]
    }
   ],
   "source": [
    "for n in numbers:\n",
    "    if n % 2 == 0:\n",
    "        print(n)"
   ]
  },
  {
   "cell_type": "markdown",
   "id": "1ff6d4e9-0614-4940-b79b-ae19a7b6b4fe",
   "metadata": {},
   "source": [
    "### Syntax 2: `if else`\n",
    "The template for this syntax is as follows\n",
    "```python\n",
    "if condition:\n",
    "    # do A\n",
    "else:\n",
    "    # do B\n",
    "```\n",
    "\n",
    "Here\n",
    "- If `condition` is `True`, Python executes the code block inside `if`\n",
    "- Otherwise, Python executes the code block inside `else`\n"
   ]
  },
  {
   "cell_type": "markdown",
   "id": "67de61df-333a-443a-a7fc-53eb811c1bf0",
   "metadata": {},
   "source": [
    "**a) Ex 1: print if a person can buy alcohol**\n",
    "Suppose that only those who is 18 or older can buy alcohol"
   ]
  },
  {
   "cell_type": "code",
   "execution_count": 25,
   "id": "e8521404-7623-4e86-a6a1-7aec96c7866a",
   "metadata": {},
   "outputs": [
    {
     "name": "stdout",
     "output_type": "stream",
     "text": [
      "Congrats! You can buy alcohol\n"
     ]
    }
   ],
   "source": [
    "# Case 1: can buy\n",
    "age = 20\n",
    "\n",
    "if age >= 18:\n",
    "    print(\"Congrats! You can buy alcohol\")\n",
    "else:\n",
    "    print(\"Sorry! You cannot buy alcohol\")"
   ]
  },
  {
   "cell_type": "code",
   "execution_count": 26,
   "id": "d5e66ec5-5f3b-4796-b636-5aea7e735999",
   "metadata": {},
   "outputs": [
    {
     "name": "stdout",
     "output_type": "stream",
     "text": [
      "Sorry! You cannot buy alcohol\n"
     ]
    }
   ],
   "source": [
    "# Case 2: cannot buy\n",
    "age = 10\n",
    "\n",
    "if age >= 18:\n",
    "    print(\"Congrats! You can buy alcohol\")\n",
    "else:\n",
    "    print(\"Sorry! You cannot buy alcohol\")"
   ]
  },
  {
   "cell_type": "markdown",
   "id": "0160e582-c311-4b9a-b95b-8d5ce3de8214",
   "metadata": {},
   "source": [
    "**a) Ex 2: count numbers of odd and even integers**"
   ]
  },
  {
   "cell_type": "code",
   "execution_count": 24,
   "id": "92eab686-0fcb-4d2a-b69f-2b07224ac9e7",
   "metadata": {},
   "outputs": [
    {
     "name": "stdout",
     "output_type": "stream",
     "text": [
      "3 even integers\n",
      "4 odd integers\n"
     ]
    }
   ],
   "source": [
    "# Init a list of integers\n",
    "numbers = [1, 2, -3, 0, -2, 7, 11]\n",
    "numbers\n",
    "\n",
    "# Init a counter for each type of integers\n",
    "# One for odd and the other for event\n",
    "num_odd = 0\n",
    "num_even = 0\n",
    "\n",
    "# Iterate through numbers\n",
    "# If the element is even, increase num_even by 1\n",
    "# Otherwise, increase num_odd by 1\n",
    "for n in numbers:\n",
    "    if n % 2 == 0:\n",
    "        num_even += 1\n",
    "    else:\n",
    "        num_odd += 1\n",
    "        \n",
    "# Print out the results\n",
    "print(f\"{num_even} even integers\")\n",
    "print(f\"{num_odd} odd integers\")"
   ]
  },
  {
   "cell_type": "markdown",
   "id": "43d0824a-2321-4a2a-886c-ebf86a0250ec",
   "metadata": {},
   "source": [
    "### Syntax 3: `if elif`\n",
    "\n",
    "The template for this syntax is as follows\n",
    "```python\n",
    "if condition_1:\n",
    "    # do A\n",
    "elif condition_2:\n",
    "    # do B\n",
    "```\n",
    "\n",
    "Here\n",
    "- If `condition_1` is `True`, Python executes `do A`\n",
    "- Otherwise, Python proceeds to check `condition_2` in the `elif` part\n",
    "    - If `condition_2` is true, Python executes `do B`\n",
    "    - Otherwise, Python move to the next statement after this `if elif` block\n",
    "- Notes\n",
    "    - `elif` is short for `else if`\n",
    "    - If `condition_2` is evalued only when `condition_1` is `False`"
   ]
  },
  {
   "cell_type": "markdown",
   "id": "2a328cd3-b17b-417c-8f4f-38b6c45ceabf",
   "metadata": {},
   "source": [
    "**Ex 1) single `elif`**\n",
    "Check the weather and make decision as follows\n",
    "- If it is sunny, go to the beach\n",
    "- If it is NOT sunny, then check if it is cloudy\n",
    "    - If yes, go to the park\n",
    "    - Otherwise, do nothing"
   ]
  },
  {
   "cell_type": "code",
   "execution_count": 39,
   "id": "44b6fd40-24fc-4f29-a6fd-a590281845f0",
   "metadata": {},
   "outputs": [
    {
     "name": "stdout",
     "output_type": "stream",
     "text": [
      "Go to the beach\n"
     ]
    }
   ],
   "source": [
    "# Case 1: sunny\n",
    "weather = \"sunny\"\n",
    "\n",
    "if weather == \"sunny\":\n",
    "    print(\"Go to the beach\")\n",
    "elif weather == \"cloudy\":\n",
    "    print(\"Go to the park\")"
   ]
  },
  {
   "cell_type": "code",
   "execution_count": 40,
   "id": "21bf2b91-46e6-44bd-a8de-a6904137c1c8",
   "metadata": {},
   "outputs": [
    {
     "name": "stdout",
     "output_type": "stream",
     "text": [
      "Go to the park\n"
     ]
    }
   ],
   "source": [
    "# Case 2: cloudy\n",
    "weather = \"cloudy\"\n",
    "\n",
    "if weather == \"sunny\":\n",
    "    print(\"Go to the beach\")\n",
    "elif weather == \"cloudy\":\n",
    "    print(\"Go to the park\")"
   ]
  },
  {
   "cell_type": "code",
   "execution_count": 41,
   "id": "164518b4-3757-46d4-8d61-3cd0be929cac",
   "metadata": {},
   "outputs": [],
   "source": [
    "# Case 3: raining\n",
    "# You will see nothing printed out\n",
    "weather = \"raining\"\n",
    "\n",
    "if weather == \"sunny\":\n",
    "    print(\"Go to the beach\")\n",
    "elif weather == \"cloudy\":\n",
    "    print(\"Go to the park\")"
   ]
  },
  {
   "cell_type": "markdown",
   "id": "fbef9b6c-90de-4751-9a5d-8e40643b2ca9",
   "metadata": {},
   "source": [
    "**b) Ex 2: multiple `elif`**\n",
    "- Sometimes you might want to check a series of conditions\n",
    "- If the previous condition is false, we check the next one and so on\n",
    "- Consider the following example: given the month, print the quarter its belongs to"
   ]
  },
  {
   "cell_type": "code",
   "execution_count": 32,
   "id": "f9b3375b-a87d-4bce-a780-f37915688ceb",
   "metadata": {},
   "outputs": [
    {
     "name": "stdout",
     "output_type": "stream",
     "text": [
      "Quarter 1\n"
     ]
    }
   ],
   "source": [
    "# Case 1: quarter 1\n",
    "month = 2\n",
    "\n",
    "if month in (1, 2, 3):\n",
    "    print(\"Quarter 1\")\n",
    "elif month in (4, 5, 6):\n",
    "    print(\"Quarter 2\")\n",
    "elif month in (7, 8, 9):\n",
    "    print(\"Quater 3\")\n",
    "elif month in (10, 11, 12):\n",
    "    print(\"Quarter 3\")"
   ]
  },
  {
   "cell_type": "code",
   "execution_count": 34,
   "id": "4189ed18-bec0-4c44-9ca5-3fa445e2b366",
   "metadata": {},
   "outputs": [
    {
     "name": "stdout",
     "output_type": "stream",
     "text": [
      "Quarter 4\n"
     ]
    }
   ],
   "source": [
    "# Case 2: quarter 4\n",
    "month = 11\n",
    "\n",
    "if month in (1, 2, 3):\n",
    "    print(\"Quarter 1\")\n",
    "elif month in (4, 5, 6):\n",
    "    print(\"Quarter 2\")\n",
    "elif month in (7, 8, 9):\n",
    "    print(\"Quater 3\")\n",
    "elif month in (10, 11, 12):\n",
    "    print(\"Quarter 4\")"
   ]
  },
  {
   "cell_type": "markdown",
   "id": "4dc03698-737c-4d48-b4a5-ff99b5be6d74",
   "metadata": {},
   "source": [
    "### Syntax 4: `if elif else`\n",
    "The template for this syntax is as follows\n",
    "```python\n",
    "if condition_1:\n",
    "    # do A\n",
    "elif condition_2:\n",
    "    # do B\n",
    "else:\n",
    "    # do C\n",
    "```\n",
    "\n",
    "Here\n",
    "- If `condition_1` is `True`, Python executes `do A`\n",
    "- Otherwise, Python proceeds to check `condition_2` in the `elif` part\n",
    "    - If `condition_2` is true, Python executes `do B`\n",
    "    - Otherwise, Python executes `do C`\n",
    "- The `else` part is called a **catch-all**, and it is the default decision when all the checking conditions fail"
   ]
  },
  {
   "cell_type": "markdown",
   "id": "2c1e136c-5884-4cb6-8fac-1003a98f9b55",
   "metadata": {},
   "source": [
    "**Ex: redo the weather example above**\n",
    "\n",
    "Suppose that we go to the beach when sunny, go to the park when cloudy, and stay at home in other cases"
   ]
  },
  {
   "cell_type": "code",
   "execution_count": 36,
   "id": "0f6be62e-702b-4c37-aa22-18fd1b24a749",
   "metadata": {},
   "outputs": [
    {
     "name": "stdout",
     "output_type": "stream",
     "text": [
      "Go to the beach\n"
     ]
    }
   ],
   "source": [
    "# Case 1: sunny\n",
    "weather = \"sunny\"\n",
    "\n",
    "if weather == \"sunny\":\n",
    "    print(\"Go to the beach\")\n",
    "elif weather == \"cloudy\":\n",
    "    print(\"Go to the park\")\n",
    "else:\n",
    "    print(\"Stay at home\")"
   ]
  },
  {
   "cell_type": "code",
   "execution_count": 37,
   "id": "8d9196d7-771f-40d9-8109-0f87d2f4588d",
   "metadata": {},
   "outputs": [
    {
     "name": "stdout",
     "output_type": "stream",
     "text": [
      "Go to the park\n"
     ]
    }
   ],
   "source": [
    "# Case 2: cloudy\n",
    "weather = \"cloudy\"\n",
    "\n",
    "if weather == \"sunny\":\n",
    "    print(\"Go to the beach\")\n",
    "elif weather == \"cloudy\":\n",
    "    print(\"Go to the park\")\n",
    "else:\n",
    "    print(\"Stay at home\")"
   ]
  },
  {
   "cell_type": "code",
   "execution_count": 38,
   "id": "076221c1-2e1e-4092-a004-33df28de3750",
   "metadata": {},
   "outputs": [
    {
     "name": "stdout",
     "output_type": "stream",
     "text": [
      "Stay at home\n"
     ]
    }
   ],
   "source": [
    "# Case 3: raining\n",
    "weather = \"raining\"\n",
    "\n",
    "if weather == \"sunny\":\n",
    "    print(\"Go to the beach\")\n",
    "elif weather == \"cloudy\":\n",
    "    print(\"Go to the park\")\n",
    "else:\n",
    "    print(\"Stay at home\")"
   ]
  },
  {
   "cell_type": "markdown",
   "id": "4f7b888f-88fe-45d4-861c-091d83b3f944",
   "metadata": {},
   "source": [
    "### Nested `if` statements\n",
    "- You can write an `if` statement inside another `if` statement\n",
    "- We call it a nested `if` statment"
   ]
  },
  {
   "cell_type": "markdown",
   "id": "e9b11afb-2233-473b-baed-6f49324e75d7",
   "metadata": {},
   "source": [
    "**Ex 1: check validity of grade and print passing status**\n",
    "\n",
    "Suppose we want to write a program that does the following\n",
    "- Check if a grade is valid (between `0` and `10`)\n",
    "- If valid\n",
    "    - Print `\"Passed\"` if `grade >= 4`\n",
    "    - Otherwise, print `\"Failed\"`\n",
    "- If not valid, print out `\"Invalid grade\"`"
   ]
  },
  {
   "cell_type": "code",
   "execution_count": 43,
   "id": "9aabdba2-23cd-4944-af4c-ea73a4190769",
   "metadata": {},
   "outputs": [
    {
     "name": "stdout",
     "output_type": "stream",
     "text": [
      "Passed\n"
     ]
    }
   ],
   "source": [
    "# Case 1: Passed\n",
    "grade = 7\n",
    "\n",
    "if (grade >= 0) and (grade <= 10):\n",
    "    if grade >= 4:\n",
    "        print(\"Passed\")\n",
    "    else:\n",
    "        print(\"Failed\")\n",
    "else:\n",
    "    print(\"Invalid grade\")"
   ]
  },
  {
   "cell_type": "code",
   "execution_count": 45,
   "id": "67eb76de-66bd-479f-8b3d-0b53fbc555b4",
   "metadata": {},
   "outputs": [
    {
     "name": "stdout",
     "output_type": "stream",
     "text": [
      "Failed\n"
     ]
    }
   ],
   "source": [
    "# Case 2: Failed\n",
    "grade = 3\n",
    "\n",
    "if (grade >= 0) and (grade <= 10):\n",
    "    if grade >= 4:\n",
    "        print(\"Passed\")\n",
    "    else:\n",
    "        print(\"Failed\")\n",
    "else:\n",
    "    print(\"Invalid grade\")"
   ]
  },
  {
   "cell_type": "code",
   "execution_count": 46,
   "id": "7f1c5c9a-94fe-4d7b-8ba5-dccac01038b2",
   "metadata": {},
   "outputs": [
    {
     "name": "stdout",
     "output_type": "stream",
     "text": [
      "Invalid grade\n"
     ]
    }
   ],
   "source": [
    "# Case 3: Invalid grade\n",
    "grade = 15\n",
    "\n",
    "if (grade >= 0) and (grade <= 10):\n",
    "    if grade >= 4:\n",
    "        print(\"Passed\")\n",
    "    else:\n",
    "        print(\"Failed\")\n",
    "else:\n",
    "    print(\"Invalid grade\")"
   ]
  },
  {
   "cell_type": "markdown",
   "id": "ac6417a4-44f9-4288-acbb-24c64bda3f94",
   "metadata": {},
   "source": [
    "**b) Ex 2: redo Ex 1 using a flat `if`**\n",
    "- Usually (not always) we don't want nested structures because they reduce readability\n",
    "- We can avoid nested `if` statements using `if elif else` as follows"
   ]
  },
  {
   "cell_type": "code",
   "execution_count": 47,
   "id": "5e97be9b-3697-4eed-8b21-d42a12bf571d",
   "metadata": {},
   "outputs": [
    {
     "name": "stdout",
     "output_type": "stream",
     "text": [
      "Passed\n"
     ]
    }
   ],
   "source": [
    "# Case 1: Passed\n",
    "grade = 7\n",
    "\n",
    "if (grade >= 0) and (grade < 4):\n",
    "    print(\"Failed\")\n",
    "elif grade <= 10:\n",
    "    print(\"Passed\")\n",
    "else:\n",
    "    print(\"Invalid grade\")"
   ]
  },
  {
   "cell_type": "code",
   "execution_count": 48,
   "id": "25f3eb37-ac04-4ab1-ad49-36582b6a642a",
   "metadata": {},
   "outputs": [
    {
     "name": "stdout",
     "output_type": "stream",
     "text": [
      "Failed\n"
     ]
    }
   ],
   "source": [
    "# Case 1: Failed\n",
    "grade = 3\n",
    "\n",
    "if (grade >= 0) and (grade < 4):\n",
    "    print(\"Failed\")\n",
    "elif grade <= 10:\n",
    "    print(\"Passed\")\n",
    "else:\n",
    "    print(\"Invalid grade\")"
   ]
  },
  {
   "cell_type": "code",
   "execution_count": 49,
   "id": "7de61aec-958f-4c6f-9df9-ba5fcf18748a",
   "metadata": {},
   "outputs": [
    {
     "name": "stdout",
     "output_type": "stream",
     "text": [
      "Invalid grade\n"
     ]
    }
   ],
   "source": [
    "# Case 1: Invalid grade\n",
    "grade = 15\n",
    "\n",
    "if (grade >= 0) and (grade < 4):\n",
    "    print(\"Failed\")\n",
    "elif grade <= 10:\n",
    "    print(\"Passed\")\n",
    "else:\n",
    "    print(\"Invalid grade\")"
   ]
  },
  {
   "cell_type": "markdown",
   "id": "6c3f8e97-2dfe-4369-919b-de8b67a55488",
   "metadata": {},
   "source": [
    "## `match` statement\n",
    "Will be updated when Anaconda upgrades to Python `3.10`"
   ]
  },
  {
   "cell_type": "markdown",
   "id": "e35b323a-c130-4cda-bb78-c468c1b10016",
   "metadata": {},
   "source": [
    "## Summary\n",
    "**Branching**\n",
    "- Making a decision based on evaluating a condition\n",
    "- In Python, we do branching with `if` statements\n",
    "- From Python `3.10+`, we can do branching with `match` statement\n",
    "\n",
    "**`if` statements**\n",
    "- There are 4 styles to write an `if` statement\n",
    "    - `if`\n",
    "    - `if else`\n",
    "    - `if elif`\n",
    "    - `if elif else`\n",
    "- The `if` part is required, but other parts (`elif`, `else`) are optional\n",
    "- The `condition` is normally a `bool` expression\n",
    "- If `condition` is not a `bool`, Python will do an implicit conversion to `bool`\n",
    "- We can write nested `if` statements but try to avoid nested structures if possible\n",
    "\n",
    "**`match` statements**\n",
    "- To be updated"
   ]
  },
  {
   "cell_type": "markdown",
   "id": "e28bcd39-488f-440c-a170-fde9b3f59ef6",
   "metadata": {},
   "source": [
    "## Practice\n",
    "To be updated"
   ]
  }
 ],
 "metadata": {
  "kernelspec": {
   "display_name": "Python 3 (ipykernel)",
   "language": "python",
   "name": "python3"
  },
  "language_info": {
   "codemirror_mode": {
    "name": "ipython",
    "version": 3
   },
   "file_extension": ".py",
   "mimetype": "text/x-python",
   "name": "python",
   "nbconvert_exporter": "python",
   "pygments_lexer": "ipython3",
   "version": "3.9.12"
  }
 },
 "nbformat": 4,
 "nbformat_minor": 5
}
