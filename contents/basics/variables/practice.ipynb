{
 "cells": [
  {
   "cell_type": "markdown",
   "id": "8cd2ef67-cfe9-4bbd-9d43-39b59d146605",
   "metadata": {},
   "source": [
    "# Practice"
   ]
  },
  {
   "cell_type": "markdown",
   "id": "cf5cb8de-82a7-4c6a-9643-c1b0507f17e9",
   "metadata": {},
   "source": [
    "TBU"
   ]
  }
 ],
 "metadata": {
  "kernelspec": {
   "display_name": "Python 3 (ipykernel)",
   "language": "python",
   "name": "python3"
  },
  "language_info": {
   "codemirror_mode": {
    "name": "ipython",
    "version": 3
   },
   "file_extension": ".py",
   "mimetype": "text/x-python",
   "name": "python",
   "nbconvert_exporter": "python",
   "pygments_lexer": "ipython3",
   "version": "3.9.7"
  }
 },
 "nbformat": 4,
 "nbformat_minor": 5
}
