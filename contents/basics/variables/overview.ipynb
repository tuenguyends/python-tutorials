{
 "cells": [
  {
   "cell_type": "markdown",
   "id": "eedaa7e6-ce80-4469-9ca9-2a8deac84d1f",
   "metadata": {},
   "source": [
    "# Overview"
   ]
  },
  {
   "cell_type": "markdown",
   "id": "d31fa96e-79c3-4053-811f-4c1f065ad25b",
   "metadata": {},
   "source": [
    "## What is a variable?\n",
    "\n",
    "From the previous chapter, you know that a variable is created through an assignment, for example"
   ]
  },
  {
   "cell_type": "code",
   "execution_count": 1,
   "id": "e8943571-e1af-43af-919f-e3456b84c6e9",
   "metadata": {},
   "outputs": [],
   "source": [
    "x = 1000"
   ]
  },
  {
   "cell_type": "markdown",
   "id": "5d9c98e3-7892-4896-a6d8-dfee1385dca5",
   "metadata": {},
   "source": [
    "Here, `x` is a variable and `1000` is the value associated with `x`. Many people think that `x` *contains* `1000`, but it's not true.\n",
    "\n",
    "In Python, values are stored in *objects*, each of which occupies some slot in the memory. Variables are just symbolic names, through which we manipulate the underlying objects.\n",
    "\n",
    "We need variables because it is extremely complicated for us, as human beings, to deal with objects directly. Variables help abstract away all unnecessary technical complications and allow us to focus on solving our main problem at a higher level."
   ]
  },
  {
   "cell_type": "markdown",
   "id": "3eca4718-6b3f-4847-8d6b-3aa96ece756a",
   "metadata": {},
   "source": [
    "## Under the hood of an assignment\n",
    "\n",
    "Here is what happens when you run an assignment\n",
    "\n",
    "1. First, Python evaluates the right-hand side (RHS) first to come up with some value\n",
    "\n",
    "1. Then Python creates an object to hold this value. This object has an ID and occupies some slot in the memory.\n",
    "\n",
    "1. Next, Python creates an *association* (or a symbolic link) between this object and the variable on the left-hand side (LHS).\n",
    "\n",
    "1. From now on, you can use the variable name to refer to and manipulate the underlying object.\n",
    "\n",
    "You can think of the object as a box, the value as what's inside the box, and the variable as the label pasted on the box."
   ]
  }
 ],
 "metadata": {
  "kernelspec": {
   "display_name": "Python 3 (ipykernel)",
   "language": "python",
   "name": "python3"
  },
  "language_info": {
   "codemirror_mode": {
    "name": "ipython",
    "version": 3
   },
   "file_extension": ".py",
   "mimetype": "text/x-python",
   "name": "python",
   "nbconvert_exporter": "python",
   "pygments_lexer": "ipython3",
   "version": "3.9.7"
  }
 },
 "nbformat": 4,
 "nbformat_minor": 5
}
