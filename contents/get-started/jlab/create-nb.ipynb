{
 "cells": [
  {
   "cell_type": "markdown",
   "id": "1243bba8-c1f9-49ba-9a31-325faceb875a",
   "metadata": {},
   "source": [
    "# Create a notebook"
   ]
  },
  {
   "cell_type": "markdown",
   "id": "c227b5a1-3a08-495b-9b73-aceda1862ef1",
   "metadata": {},
   "source": [
    "## Start Jupyter Lab\n",
    "\n",
    "Now you can launch Jupyter lab and start coding. First, go inside the root folder of your project, right-click on a blank space, and choose `Git Bash Here`.\n",
    "\n",
    "A Git Bash terminal opens (this is why we installed Git in the previous chapter). Type the following command and hit `Enter`\n",
    "\n",
    "```bash\n",
    "jupyter lab\n",
    "```\n",
    "\n",
    "Jupyter Lab will be launched via a new tab on your default browser. For a better experience, I recommend you set a modern browser such as Chrome or Microsoft Edge as your default browser.\n",
    "\n",
    "The picture below shows an example of using Jupyter Lab for a Python project."
   ]
  },
  {
   "cell_type": "markdown",
   "id": "b0174721-f1f0-4e0e-95cd-f61436d61c6d",
   "metadata": {},
   "source": [
    "![Jupyter Lab interface](../../../_static/img/jlab_interface.png)"
   ]
  },
  {
   "cell_type": "markdown",
   "id": "9b36bc34-efcc-47aa-922e-e323154bcfbf",
   "metadata": {},
   "source": [
    "## Create your first notebook\n",
    "\n",
    "Your project can contain only a single notebook or a collection of notebooks, depending on the complexity of your analysis. \n",
    "\n",
    "Each notebook is a piece of analysis that contains code and explanatory text. As you can see in the left panel in the picture above, there are 6 notebooks (files with extensions `.ipynb`)\n",
    "\n",
    "Now, right-click the big rectangle button with a plus sign on the left panel. A launcher panel will appear on the right listing several options that allow you to create a new notebook, text file, or terminal. \n",
    "\n",
    "To create a new notebook, choose `Python 3 (ipykernel)` as shown in the picture below."
   ]
  },
  {
   "cell_type": "markdown",
   "id": "f015f13d-bbd4-4bf8-9b5e-d2a84bd9172a",
   "metadata": {},
   "source": [
    "<img src=\"../../../_static/img/new_nb.png\" width=\"500px\">"
   ]
  },
  {
   "cell_type": "markdown",
   "id": "05972721-451c-4052-a550-01593ec2ab3a",
   "metadata": {},
   "source": [
    "Right-click on the file name and rename it to `first_analysis.ipynb`"
   ]
  }
 ],
 "metadata": {
  "kernelspec": {
   "display_name": "Python 3 (ipykernel)",
   "language": "python",
   "name": "python3"
  },
  "language_info": {
   "codemirror_mode": {
    "name": "ipython",
    "version": 3
   },
   "file_extension": ".py",
   "mimetype": "text/x-python",
   "name": "python",
   "nbconvert_exporter": "python",
   "pygments_lexer": "ipython3",
   "version": "3.9.7"
  },
  "toc-autonumbering": true
 },
 "nbformat": 4,
 "nbformat_minor": 5
}
