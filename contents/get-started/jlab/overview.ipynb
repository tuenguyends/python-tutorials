{
 "cells": [
  {
   "cell_type": "markdown",
   "id": "319ecd03-546d-4d16-ba3f-b20d5e6fc0b1",
   "metadata": {},
   "source": [
    "# Overview"
   ]
  },
  {
   "cell_type": "markdown",
   "id": "d1fb4a82-d249-462b-b0a9-d4ec8ac46873",
   "metadata": {},
   "source": [
    "## What is Jupyter Lab?\n",
    "\n",
    "Jupyter Lab is an integrated development environment (IDE) commonly used for interactive coding with languages such as Python, R, and Julia. In fact, **Jupyter** is an acronym for **Ju**lia-**Py**thon-**R**. You can also you Jupyter Lab with other scripting languages such as Matlab or Octave.\n",
    "\n",
    "**What is an IDE?** An IDE is simply a text editor with some features that make coding easier and more efficient such as\n",
    "\n",
    "- Syntax highlighting\n",
    "- File organization/navigation\n",
    "- Code execution\n",
    "- Integrated terminal\n",
    "- Debugger\n",
    "\n",
    "Jupyter Lab is the next generation of Jupyter Notebook (the older version). Besides full support for Jupyter Notebook, Jupyter Lab offers a better GUI and many more features/enhancements that boost your productivity."
   ]
  },
  {
   "cell_type": "markdown",
   "id": "d3279875-aaed-4fe4-a43b-16bc064ba4e3",
   "metadata": {},
   "source": [
    "## Other IDEs\n",
    "\n",
    "Jupyter Lab is not the only IDE for Python, but in my opinion, it is the best for data-related tasks. Other popular IDEs include\n",
    "\n",
    "- Pycharm\n",
    "- Spyder\n",
    "- Visual Studio Code\n",
    "- Zeppelin"
   ]
  },
  {
   "cell_type": "markdown",
   "id": "76b66d98-ea24-4f91-a362-7c0cf032ef22",
   "metadata": {},
   "source": [
    "## Installation\n",
    "\n",
    "You don't need to install Jupyter Lab because it comes with Anaconda's standard installation, which you already installed in the previous chapter."
   ]
  }
 ],
 "metadata": {
  "kernelspec": {
   "display_name": "Python 3 (ipykernel)",
   "language": "python",
   "name": "python3"
  },
  "language_info": {
   "codemirror_mode": {
    "name": "ipython",
    "version": 3
   },
   "file_extension": ".py",
   "mimetype": "text/x-python",
   "name": "python",
   "nbconvert_exporter": "python",
   "pygments_lexer": "ipython3",
   "version": "3.9.7"
  },
  "toc-autonumbering": true
 },
 "nbformat": 4,
 "nbformat_minor": 5
}
