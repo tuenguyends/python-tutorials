{
 "cells": [
  {
   "cell_type": "markdown",
   "id": "34c354a6-3ad1-4e1d-bbc1-6fd81daa1460",
   "metadata": {},
   "source": [
    "# Working with a notebook"
   ]
  },
  {
   "cell_type": "markdown",
   "id": "e37cf7a6-fb9a-4bd4-bfc8-9b3db2abad96",
   "metadata": {},
   "source": [
    "## Markdown and code cells\n",
    "A notebook consists of editable cells (meaning that you can write into those cells). \n",
    "\n",
    "The reason for breaking our code into multiple cells is for better management: easier to maintain and debug.\n",
    "\n",
    "\n",
    "There are two types of cells in a notebook\n",
    "\n",
    "- Code cells: used for writing Python code, thus what you write must conform to Python syntax. If not, you will get an error when the cell is executed.\n",
    "\n",
    "- Markdown cells: used for writing explanatory text (like what you are reading now). You can write whatever you want, there will be no error.\n",
    "\n",
    "\n",
    "**Markdown** (will be discussed in the next chapter) specifies a simple set of rules that allow you to format your text similar to what you do with Microsoft Word (but much more limited), for example\n",
    "\n",
    "- Headings\n",
    "- Bullet points\n",
    "- **Bold text**\n",
    "- *Italic text*\n",
    "- `code fences`\n",
    "- Math formula $E = mc^2$\n",
    "\n",
    "By default, a newly created cell will be a code cell. \n",
    "\n",
    "- To convert a cell to a Markdown cell, use `Esc + M`. \n",
    "- To convert it back to a Code cell, use `Esc + Y`. "
   ]
  },
  {
   "cell_type": "markdown",
   "id": "249376b3-c615-4e4f-a5e7-e676c3b7b5ea",
   "metadata": {},
   "source": [
    "## Run a cell\n",
    "\n",
    "When you finish writing, you need to run or execute it to tell Jupyter Lab to process and render what you write.\n",
    "\n",
    "- For a code cell: Jupyter Lab calls Python to evaluate and run your code. You might get an error if you did something wrong.\n",
    "\n",
    "- For a Markdown cell: Python just renders the text according to Markdown's rules. There will be no error.\n",
    "\n",
    "\n",
    "There are three ways to run a cell, and they are the same for both code cells and Markdown cells\n",
    "\n",
    "- `Ctrl + Enter`: run the current cell and stay at that cell\n",
    "- `Shift + Enter`: run the current cell and move to the next cell\n",
    "- `Alt + Enter`: run the current cell, then insert a new cell below and move to that cell"
   ]
  },
  {
   "cell_type": "markdown",
   "id": "b3852824-4a03-483f-a38a-ac12a38941ec",
   "metadata": {},
   "source": [
    "Example 1: run a code cell"
   ]
  },
  {
   "cell_type": "code",
   "execution_count": 1,
   "id": "e14b330b-263b-492a-8e8f-e1e0172cc67f",
   "metadata": {},
   "outputs": [
    {
     "name": "stdout",
     "output_type": "stream",
     "text": [
      "Hello. How are you?\n",
      "5\n"
     ]
    }
   ],
   "source": [
    "print(\"Hello. How are you?\")\n",
    "print(2 + 3)"
   ]
  },
  {
   "cell_type": "markdown",
   "id": "50f64979-4d7c-42d7-b303-b02db0e6a419",
   "metadata": {},
   "source": [
    "Example 2: run a Markdown cell with the following content\n",
    "\n",
    "```\n",
    "- item 1\n",
    "- **item 3**\n",
    "- *item 4*\n",
    "- $y = \\frac{1}{2}\\int e^{2x}dx$\n",
    "```"
   ]
  },
  {
   "cell_type": "markdown",
   "id": "54e33fca-0ea5-4e91-9974-f9f1dfd5f8e4",
   "metadata": {},
   "source": [
    "Here is what you will see\n",
    "\n",
    "- item 1\n",
    "- **item 3**\n",
    "- *item 4*\n",
    "- $y = \\frac{1}{2}\\int e^{2x}dx$"
   ]
  },
  {
   "cell_type": "markdown",
   "id": "add35b55-3fe8-4682-a4b0-da907cd8784d",
   "metadata": {},
   "source": [
    "## Command vs. editing mode\n",
    "\n",
    "There are two modes when working with a notebook: editing and command.\n",
    "\n",
    "Editing mode: you are in the editing mode when you are typing something inside a cell, and what you do is mostly just writing. \n",
    "\n",
    "Command mode: you are in the command mode when you perform actions on the whole cell (and potentially on multiple cells) such as\n",
    "\n",
    "- Delete, copy, cut a cell\n",
    "- Paste a cell below another cell\n",
    "- Add a cell above or below another cell\n",
    "\n",
    "To activate the command mode, you hit `Esc` and then press another key to perform an action you wish. For example, `Esc + A` will add a new cell above the current cell (see the next section for a complete list of actions)\n",
    "\n",
    "To activate the editing mode on a cell, you simply double-click on that cell and start typing."
   ]
  },
  {
   "cell_type": "markdown",
   "id": "5e172b60-7d40-4196-a7c9-85af904c7e7d",
   "metadata": {},
   "source": [
    "## Shortcuts in command mode\n",
    "\n",
    "The following are common keyboard shortcuts to work on a notebook in the command mode. There are equivalent GUI options that allow you to accomplish the same things with your mouse. However, I highly recommend using shortcuts because they will allow you to code a lot faster.\n",
    "\n",
    "- Add a cell **Above** the current cell: `Esc + A`\n",
    "- Add a cell **Below** the current cell: `Esc + B`\n",
    "- **Delete** the current cell: `Esc + DD`\n",
    "- **Copy** the current cell: `Esc + C`\n",
    "- **Cut** the current cell: `Esc + X`\n",
    "- **Paste** a cell in the clipboard *below* the current cell: `Esc + V`\n",
    "- **Undo** last action: `Esc + Z`\n",
    "- Convert a cell to a **Markdown** cell: `Esc + M`\n",
    "- Convert a cell to a **Code** cell: `Esc + Y`"
   ]
  }
 ],
 "metadata": {
  "kernelspec": {
   "display_name": "Python 3 (ipykernel)",
   "language": "python",
   "name": "python3"
  },
  "language_info": {
   "codemirror_mode": {
    "name": "ipython",
    "version": 3
   },
   "file_extension": ".py",
   "mimetype": "text/x-python",
   "name": "python",
   "nbconvert_exporter": "python",
   "pygments_lexer": "ipython3",
   "version": "3.9.7"
  },
  "toc-autonumbering": true
 },
 "nbformat": 4,
 "nbformat_minor": 5
}
