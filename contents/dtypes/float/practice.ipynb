{
 "cells": [
  {
   "cell_type": "markdown",
   "id": "a1f4e39c-4c52-4b02-b4ae-93befd3e6a1d",
   "metadata": {},
   "source": [
    "# Practice"
   ]
  },
  {
   "cell_type": "markdown",
   "id": "324a03d6-623b-483a-bade-35e6c0d5b7d5",
   "metadata": {
    "tags": []
   },
   "source": [
    "## Ex 1\n",
    "\n",
    "Do the following\n",
    "\n",
    "- Create `float` variable `x` with value `100`\n",
    "- Show its value and type\n",
    "\n",
    "\n",
    "## Ex 2\n",
    "\n",
    "Do the following\n",
    "\n",
    "- Create a variable `x` from the division of `10` by `5`\n",
    "- Show the value and type of `x`\n",
    "\n",
    "## Ex 3\n",
    "\n",
    "How to quickly create a value of `7.5` billion?\n",
    "\n",
    "## Ex 4\n",
    "\n",
    "Use `math` module to compute\n",
    "\n",
    "- The area of a circle with a radius `5`\n",
    "- The hypotenuse of a right triangle with `3` and `4` being the lengths of the two other sides  "
   ]
  }
 ],
 "metadata": {
  "kernelspec": {
   "display_name": "Python 3 (ipykernel)",
   "language": "python",
   "name": "python3"
  },
  "language_info": {
   "codemirror_mode": {
    "name": "ipython",
    "version": 3
   },
   "file_extension": ".py",
   "mimetype": "text/x-python",
   "name": "python",
   "nbconvert_exporter": "python",
   "pygments_lexer": "ipython3",
   "version": "3.9.7"
  }
 },
 "nbformat": 4,
 "nbformat_minor": 5
}
