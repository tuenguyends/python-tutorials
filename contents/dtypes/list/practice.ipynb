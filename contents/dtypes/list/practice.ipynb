{
 "cells": [
  {
   "cell_type": "markdown",
   "id": "66cbb189-bd4c-457b-a223-e33e5c5435f6",
   "metadata": {},
   "source": [
    "# Practice"
   ]
  },
  {
   "cell_type": "markdown",
   "id": "3d270d1e-97f2-461c-87bf-00eba207f18a",
   "metadata": {},
   "source": [
    "TBU"
   ]
  }
 ],
 "metadata": {
  "kernelspec": {
   "display_name": "Python 3 (ipykernel)",
   "language": "python",
   "name": "python3"
  },
  "language_info": {
   "codemirror_mode": {
    "name": "ipython",
    "version": 3
   },
   "file_extension": ".py",
   "mimetype": "text/x-python",
   "name": "python",
   "nbconvert_exporter": "python",
   "pygments_lexer": "ipython3",
   "version": "3.9.7"
  }
 },
 "nbformat": 4,
 "nbformat_minor": 5
}
