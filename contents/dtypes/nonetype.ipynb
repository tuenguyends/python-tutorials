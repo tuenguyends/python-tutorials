{
 "cells": [
  {
   "cell_type": "markdown",
   "id": "5483a5cd-4abd-490c-bc8b-7109eaf39c60",
   "metadata": {},
   "source": [
    "# NoneType type"
   ]
  },
  {
   "cell_type": "markdown",
   "id": "a2b1dc57-204a-4946-82ba-43b8ed7e7a48",
   "metadata": {
    "tags": []
   },
   "source": [
    "## Overview\n",
    "`NoneType` is used to represent the state of being undefined/unknown. Python uses the keyword `None` to represent this special value.\n",
    "\n",
    "To create a variable of `NoneType`, simply assign `None` to it, for example"
   ]
  },
  {
   "cell_type": "code",
   "execution_count": 15,
   "id": "83ae72c0-e7eb-478b-afd3-2914048b62c5",
   "metadata": {},
   "outputs": [],
   "source": [
    "x = None"
   ]
  },
  {
   "cell_type": "code",
   "execution_count": 16,
   "id": "b12f52a6-98cd-41e8-88fa-5553c6807fa7",
   "metadata": {},
   "outputs": [
    {
     "data": {
      "text/plain": [
       "NoneType"
      ]
     },
     "execution_count": 16,
     "metadata": {},
     "output_type": "execute_result"
    }
   ],
   "source": [
    "type(x)"
   ]
  },
  {
   "cell_type": "markdown",
   "id": "47570953-c4c3-4837-b678-5b438217b1a5",
   "metadata": {},
   "source": [
    "When you evaluate `None` on a code cell of Jupyter Lab, you will not see anything printed out."
   ]
  },
  {
   "cell_type": "code",
   "execution_count": 17,
   "id": "e8031282-c23b-46b6-9094-6cc2fa4b791e",
   "metadata": {},
   "outputs": [],
   "source": [
    "x"
   ]
  },
  {
   "cell_type": "markdown",
   "id": "f6dad027-fa76-4ad8-ae71-a9758b9423b2",
   "metadata": {},
   "source": [
    "To display `None` you have to explicitly print it out using `print()`."
   ]
  },
  {
   "cell_type": "code",
   "execution_count": null,
   "id": "c34446a9-6954-4aaf-b37b-97ff6c01dab3",
   "metadata": {},
   "outputs": [
    {
     "name": "stdout",
     "output_type": "stream",
     "text": [
      "None\n"
     ]
    }
   ],
   "source": [
    "print(x)"
   ]
  },
  {
   "cell_type": "markdown",
   "id": "c292a116-3949-44bd-998a-57b93e08a846",
   "metadata": {
    "tags": []
   },
   "source": [
    "You can also create a `NoneType` variable by assign to it an expression that produces `None`, for example"
   ]
  },
  {
   "cell_type": "code",
   "execution_count": 22,
   "id": "6ff09374-4374-465f-99ab-de5782db68b1",
   "metadata": {},
   "outputs": [
    {
     "name": "stdout",
     "output_type": "stream",
     "text": [
      "Hello\n"
     ]
    }
   ],
   "source": [
    "x = print(\"Hello\")"
   ]
  },
  {
   "cell_type": "markdown",
   "id": "86aba1a4-df68-4c55-9fc3-9ef99d62d94e",
   "metadata": {},
   "source": [
    "Many misunderstand that x will assume the value `\"Hello\"` after the above assignment. It's not true. \n",
    "\n",
    "`\"Hello\"` is what `print` prints out, it's not what `print` returns. You will learn more about function later. For now, just accept that `print` prints out `\"Hello\"`, but after the printing is done, it returns something else to the place where it is called. This returned value is `None`.\n",
    "\n",
    "Let's confirm it."
   ]
  },
  {
   "cell_type": "code",
   "execution_count": 22,
   "id": "a9a12d5f-678a-436b-8271-3a88b447d50e",
   "metadata": {},
   "outputs": [
    {
     "data": {
      "text/plain": [
       "NoneType"
      ]
     },
     "execution_count": 22,
     "metadata": {},
     "output_type": "execute_result"
    }
   ],
   "source": [
    "type(x)"
   ]
  },
  {
   "cell_type": "markdown",
   "id": "d51ef23f-3d72-4436-ade8-f04ede140374",
   "metadata": {},
   "source": [
    "## When use `NoneType`?\n",
    "\n",
    "`NoneType` is normally used as a return option of a function to indicate that the function already did what you asked, but it couldn't find anything that makes sense.\n",
    "\n",
    "Suppose we have a string `s` as follows."
   ]
  },
  {
   "cell_type": "code",
   "execution_count": 8,
   "id": "34623d9c-256c-4a39-8d8c-c7fda9f8144a",
   "metadata": {},
   "outputs": [],
   "source": [
    "s = \"This is a dog\""
   ]
  },
  {
   "cell_type": "markdown",
   "id": "1e474d61-bbed-40d0-af81-0c3630784e8e",
   "metadata": {},
   "source": [
    "Now, suppose we want to check if some other string is contained in `s`. We can use `re.search()` function of module `re`.\n",
    "\n",
    "First, we need to import module `re` to use its `search` function."
   ]
  },
  {
   "cell_type": "code",
   "execution_count": 11,
   "id": "a6a46048-d5da-42a6-bfaa-4ac30836ef1f",
   "metadata": {},
   "outputs": [],
   "source": [
    "import re"
   ]
  },
  {
   "cell_type": "markdown",
   "id": "d4641160-6a26-40ae-90a0-87ef6bd97191",
   "metadata": {},
   "source": [
    "Now, check if `\"cat\"` is in `s`."
   ]
  },
  {
   "cell_type": "code",
   "execution_count": 15,
   "id": "d3c66163-a381-471d-88a4-82520d543c0e",
   "metadata": {},
   "outputs": [
    {
     "name": "stdout",
     "output_type": "stream",
     "text": [
      "None\n",
      "<class 'NoneType'>\n"
     ]
    }
   ],
   "source": [
    "find = re.search(\"cat\", s)\n",
    "\n",
    "print(find)\n",
    "print(type(find))"
   ]
  },
  {
   "cell_type": "markdown",
   "id": "1ddf53ab-e917-4efa-a794-acfa5ae1e92b",
   "metadata": {},
   "source": [
    "As you can see, the result is `None` because there is no `\"cat\"` in `s`. Now, try to search for `\"dog\"`."
   ]
  },
  {
   "cell_type": "code",
   "execution_count": 16,
   "id": "737aad65-2475-4bd9-84d4-2ac04d175e73",
   "metadata": {},
   "outputs": [
    {
     "name": "stdout",
     "output_type": "stream",
     "text": [
      "<re.Match object; span=(10, 13), match='dog'>\n",
      "<class 're.Match'>\n"
     ]
    }
   ],
   "source": [
    "find = re.search(\"dog\", s)\n",
    "\n",
    "print(find)\n",
    "print(type(find))"
   ]
  },
  {
   "cell_type": "markdown",
   "id": "73ef2bec-22c9-40cf-b665-e2f69704c1bd",
   "metadata": {},
   "source": [
    "As you can see, this time, `re.search()` found something, and it did not return `None`. Instead, it returned a `re.Match` object that contain the relevant information about the search result."
   ]
  },
  {
   "cell_type": "markdown",
   "id": "fe3cf245-c850-44db-893d-d5e76935a4fa",
   "metadata": {
    "jp-MarkdownHeadingCollapsed": true,
    "tags": []
   },
   "source": [
    "## Operations on `NoneType`\n",
    "\n",
    "There is not much we can do with `NoneType` because it is so simple. The most commonly used operation is to check if a variable is actually `None`. To do this, we perform a comparison using `is`."
   ]
  },
  {
   "cell_type": "code",
   "execution_count": 19,
   "id": "6423b6c4-16d1-4405-af44-99cfd5fee2dd",
   "metadata": {},
   "outputs": [],
   "source": [
    "x = None"
   ]
  },
  {
   "cell_type": "code",
   "execution_count": 20,
   "id": "1285ad4a-1f6b-47d1-9ff3-bce9548c5cee",
   "metadata": {},
   "outputs": [
    {
     "data": {
      "text/plain": [
       "True"
      ]
     },
     "execution_count": 20,
     "metadata": {},
     "output_type": "execute_result"
    }
   ],
   "source": [
    "# Check if x is None\n",
    "x is None"
   ]
  },
  {
   "cell_type": "code",
   "execution_count": 21,
   "id": "d3e14382-25d3-4dbc-9c08-f3e8c4a46f3e",
   "metadata": {},
   "outputs": [
    {
     "data": {
      "text/plain": [
       "False"
      ]
     },
     "execution_count": 21,
     "metadata": {},
     "output_type": "execute_result"
    }
   ],
   "source": [
    "# Check if x is not None\n",
    "x is not None"
   ]
  },
  {
   "cell_type": "markdown",
   "id": "6af45ea4-6945-469e-a36b-ee84628d13ca",
   "metadata": {},
   "source": [
    "**Remarks**: \n",
    "\n",
    "1. We can also compare using `==`, but it is not recommended. For a detailed explanation, read [here](https://stackoverflow.com/questions/3257919/what-is-the-difference-between-is-none-and-none/3257957#3257957).\n",
    "\n",
    "2. For now, you might not appreciate `NoneType` much. But you will after gaining an adequate knowledge about Python."
   ]
  }
 ],
 "metadata": {
  "kernelspec": {
   "display_name": "Python 3 (ipykernel)",
   "language": "python",
   "name": "python3"
  },
  "language_info": {
   "codemirror_mode": {
    "name": "ipython",
    "version": 3
   },
   "file_extension": ".py",
   "mimetype": "text/x-python",
   "name": "python",
   "nbconvert_exporter": "python",
   "pygments_lexer": "ipython3",
   "version": "3.9.7"
  }
 },
 "nbformat": 4,
 "nbformat_minor": 5
}
