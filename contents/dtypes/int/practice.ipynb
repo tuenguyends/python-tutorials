{
 "cells": [
  {
   "cell_type": "markdown",
   "id": "ab57feca-eb6d-4d99-aab8-f7df58799537",
   "metadata": {},
   "source": [
    "# Practice"
   ]
  },
  {
   "cell_type": "markdown",
   "id": "bf5c7cba-caea-49a6-af17-cce42f9f4af1",
   "metadata": {
    "tags": []
   },
   "source": [
    "## Ex 1\n",
    "\n",
    "Do the following\n",
    "\n",
    "- Create a variable `x` with value `100`\n",
    "- Show its value and type\n",
    "\n",
    "\n",
    "## Ex 2\n",
    "\n",
    "Do the following\n",
    "\n",
    "- Create a variable `x` with value `10.5`\n",
    "- Show the value and type of `x`\n",
    "- Create a variable `y` by applying `int()` on `x`\n",
    "- Show the value and type of `y`\n",
    "\n",
    "## Ex 3\n",
    "\n",
    "Gives three examples that produce an integer"
   ]
  }
 ],
 "metadata": {
  "kernelspec": {
   "display_name": "Python 3 (ipykernel)",
   "language": "python",
   "name": "python3"
  },
  "language_info": {
   "codemirror_mode": {
    "name": "ipython",
    "version": 3
   },
   "file_extension": ".py",
   "mimetype": "text/x-python",
   "name": "python",
   "nbconvert_exporter": "python",
   "pygments_lexer": "ipython3",
   "version": "3.9.7"
  }
 },
 "nbformat": 4,
 "nbformat_minor": 5
}
