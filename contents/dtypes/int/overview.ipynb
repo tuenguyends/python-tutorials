{
 "cells": [
  {
   "cell_type": "markdown",
   "id": "f964cf01-01d7-4944-aeff-483b6d891cd2",
   "metadata": {},
   "source": [
    "# Overview"
   ]
  },
  {
   "cell_type": "markdown",
   "id": "6ae2ba29-54df-4497-b41f-ed0c7eb01f84",
   "metadata": {},
   "source": [
    "Python uses `int` to represent integers (or whole numbers) such as `10`, `100`, or `-30`."
   ]
  },
  {
   "cell_type": "markdown",
   "id": "b399b4e3-d9c5-473e-9e91-e27eb9678831",
   "metadata": {},
   "source": [
    "## Create an integer\n",
    "\n",
    "We can create an `int` variable through an assignment with an integer literal, for example"
   ]
  },
  {
   "cell_type": "code",
   "execution_count": 1,
   "id": "520b1ec7-171a-4b36-ac75-ac18bd1d757f",
   "metadata": {},
   "outputs": [
    {
     "name": "stdout",
     "output_type": "stream",
     "text": [
      "5\n"
     ]
    }
   ],
   "source": [
    "x = 5\n",
    "print(x)"
   ]
  },
  {
   "cell_type": "code",
   "execution_count": 2,
   "id": "5dcc7970-2b9a-4c56-968f-c1dcaa950292",
   "metadata": {},
   "outputs": [
    {
     "data": {
      "text/plain": [
       "int"
      ]
     },
     "execution_count": 2,
     "metadata": {},
     "output_type": "execute_result"
    }
   ],
   "source": [
    "type(x)"
   ]
  },
  {
   "cell_type": "markdown",
   "id": "0a853571-abbb-4a19-a849-5a9c07f8d9a7",
   "metadata": {},
   "source": [
    "We can also create an `int` variable through an assignment with an expression that produces an integer. Here are some examples of expressions producing integers."
   ]
  },
  {
   "cell_type": "code",
   "execution_count": 3,
   "id": "f5925b14-2c60-4e27-b6d7-2bd211c35ac7",
   "metadata": {},
   "outputs": [
    {
     "name": "stdout",
     "output_type": "stream",
     "text": [
      "15\n",
      "<class 'int'>\n"
     ]
    }
   ],
   "source": [
    "# Addition of integers\n",
    "x = 5 + 10\n",
    "print(x)\n",
    "print(type(x))"
   ]
  },
  {
   "cell_type": "code",
   "execution_count": 4,
   "id": "63c24abe-7e20-4eb7-97fc-d2dc8690045c",
   "metadata": {},
   "outputs": [
    {
     "name": "stdout",
     "output_type": "stream",
     "text": [
      "50\n",
      "<class 'int'>\n"
     ]
    }
   ],
   "source": [
    "# Multiplication of integers\n",
    "x = 5 * 10\n",
    "print(x)\n",
    "print(type(x))"
   ]
  },
  {
   "cell_type": "markdown",
   "id": "c7cd2dec-534d-4cc3-85b8-61b554f1676e",
   "metadata": {},
   "source": [
    "Integers in Python can be arbitrarily long (there is no *overflow* behavior as in some other languages)."
   ]
  },
  {
   "cell_type": "code",
   "execution_count": 5,
   "id": "d9b53b2b-7161-49c3-9bea-24c55b596b29",
   "metadata": {},
   "outputs": [
    {
     "name": "stdout",
     "output_type": "stream",
     "text": [
      "3565622255488771132323355767676856586585965999884384\n",
      "<class 'int'>\n"
     ]
    }
   ],
   "source": [
    "# A very long int\n",
    "x = 3565622255488771132323355767676856586585965999884384\n",
    "print(x)\n",
    "print(type(x))"
   ]
  },
  {
   "cell_type": "markdown",
   "id": "56c6590b-7c65-4341-9871-142b194e10d3",
   "metadata": {},
   "source": [
    "## When use int?\n",
    "\n",
    "We use `int` for values that should be integers such as age, years, number of children, etc."
   ]
  },
  {
   "cell_type": "markdown",
   "id": "df9f1866-6f4b-4895-bea6-567bca4e8f0d",
   "metadata": {},
   "source": [
    "## Typecasting\n",
    "\n",
    "Similar to what we have learned with `bool`, we use `int()` function to convert values from other types to `int`. However, not all values can be converted to `int` (only integer-like values can)."
   ]
  },
  {
   "cell_type": "markdown",
   "id": "b6593ce0-405a-4ca8-9462-4bcd21dbbcb6",
   "metadata": {},
   "source": [
    "Example 1: values that can be converted to `int`"
   ]
  },
  {
   "cell_type": "markdown",
   "id": "61be5682-aa22-4639-9772-f65fc0066ad9",
   "metadata": {},
   "source": [
    "From `bool`"
   ]
  },
  {
   "cell_type": "code",
   "execution_count": 6,
   "id": "df51ed97-b04b-417b-a9a1-4351f0ea2000",
   "metadata": {},
   "outputs": [
    {
     "data": {
      "text/plain": [
       "1"
      ]
     },
     "execution_count": 6,
     "metadata": {},
     "output_type": "execute_result"
    }
   ],
   "source": [
    "# True becomes 1\n",
    "int(True)"
   ]
  },
  {
   "cell_type": "code",
   "execution_count": 7,
   "id": "d3a70e65-f930-4932-be11-182aff5c8e4c",
   "metadata": {},
   "outputs": [
    {
     "data": {
      "text/plain": [
       "0"
      ]
     },
     "execution_count": 7,
     "metadata": {},
     "output_type": "execute_result"
    }
   ],
   "source": [
    "# False becomes 0\n",
    "int(False)"
   ]
  },
  {
   "cell_type": "markdown",
   "id": "99dcbbf4-b92e-444d-88d7-562b945998db",
   "metadata": {},
   "source": [
    "From `float`"
   ]
  },
  {
   "cell_type": "code",
   "execution_count": 8,
   "id": "59e04694-8867-46a5-a1b9-0f04fd04f766",
   "metadata": {},
   "outputs": [
    {
     "data": {
      "text/plain": [
       "12"
      ]
     },
     "execution_count": 8,
     "metadata": {},
     "output_type": "execute_result"
    }
   ],
   "source": [
    "# Decimal part is truncated\n",
    "int(12.34)"
   ]
  },
  {
   "cell_type": "markdown",
   "id": "fe11f4d4-d734-496d-9fda-af2a00d71236",
   "metadata": {},
   "source": [
    "From `str`"
   ]
  },
  {
   "cell_type": "code",
   "execution_count": 9,
   "id": "378941fd-3067-4847-859f-bc20a49b888b",
   "metadata": {},
   "outputs": [
    {
     "name": "stdout",
     "output_type": "stream",
     "text": [
      "10\n",
      "<class 'int'>\n"
     ]
    }
   ],
   "source": [
    "# Strings that look like an integer\n",
    "x = int(\"10\")\n",
    "print(x)\n",
    "print(type(x))"
   ]
  },
  {
   "cell_type": "code",
   "execution_count": 10,
   "id": "1ba22c49-be41-461f-a5d1-78935faab88a",
   "metadata": {},
   "outputs": [
    {
     "name": "stdout",
     "output_type": "stream",
     "text": [
      "-10\n",
      "<class 'int'>\n"
     ]
    }
   ],
   "source": [
    "# White spaces at two ends are ignored\n",
    "x = int(\"  -10 \")\n",
    "print(x)\n",
    "print(type(x))"
   ]
  },
  {
   "cell_type": "code",
   "execution_count": 11,
   "id": "fa1187f2-15f4-4f53-9af0-0c0cbf25191e",
   "metadata": {},
   "outputs": [
    {
     "name": "stdout",
     "output_type": "stream",
     "text": [
      "-10\n",
      "<class 'int'>\n"
     ]
    }
   ],
   "source": [
    "# Leading zeros are also ignored\n",
    "x = int(\"  -00010 \")\n",
    "print(x)\n",
    "print(type(x))"
   ]
  },
  {
   "cell_type": "markdown",
   "id": "5c1fe72d-32ea-411c-80e8-298437b12c21",
   "metadata": {},
   "source": [
    "However, strings like `\"1,000,000\"` (contains `,`) or `\"12.34\"` are not valid. Try them yourself to see errors."
   ]
  }
 ],
 "metadata": {
  "kernelspec": {
   "display_name": "Python 3 (ipykernel)",
   "language": "python",
   "name": "python3"
  },
  "language_info": {
   "codemirror_mode": {
    "name": "ipython",
    "version": 3
   },
   "file_extension": ".py",
   "mimetype": "text/x-python",
   "name": "python",
   "nbconvert_exporter": "python",
   "pygments_lexer": "ipython3",
   "version": "3.9.7"
  }
 },
 "nbformat": 4,
 "nbformat_minor": 5
}
