{
 "cells": [
  {
   "cell_type": "markdown",
   "id": "c76cc6df-f201-45cc-bfc4-70e10a440b6e",
   "metadata": {},
   "source": [
    "# Collection types"
   ]
  },
  {
   "cell_type": "markdown",
   "id": "696c0fcf-20c9-4398-a93d-a28ac7f41820",
   "metadata": {},
   "source": [
    "## Motivation\n",
    "As you can see from previous chapters, flat types such as `int` or `float` only allow a single element. Thus, if we want to store the prices of, says, 100 products, we need 100 variables, from `product_1` to `product_100`. This is an ugly solution, and it's also not optimal. What if we have 20 more products next week? We will need 20 more variables, and this might break some other programs or analyses that were designed to deal with the original 100 variables only.\n",
    "\n",
    "We need some more flexible data structures that can handle a *collection* of elements under the same name, for example, a list or a dictionary.\n",
    "\n",
    "We will learn about these data structures in detail in the next chapters. For now, just take a look at some simple examples to see the benefits that a list could bring (don't try to understand the technical details at the moment)."
   ]
  },
  {
   "cell_type": "markdown",
   "id": "6f15abbe-79d7-4d48-8f64-4a8ab708b3ce",
   "metadata": {},
   "source": [
    "First, we create a list with 5 elements to store the prices of 5 products."
   ]
  },
  {
   "cell_type": "code",
   "execution_count": 8,
   "id": "7a758af0-9c71-4bf0-9a26-658849769713",
   "metadata": {},
   "outputs": [],
   "source": [
    "products = [100, 200, 50, 120, 80]"
   ]
  },
  {
   "cell_type": "markdown",
   "id": "5c4c03c4-dc83-46ae-b3cb-d25ffb0f8fe4",
   "metadata": {},
   "source": [
    "To see all elements at once, just print out the list."
   ]
  },
  {
   "cell_type": "code",
   "execution_count": 11,
   "id": "8e51f7fd-fb6b-4299-804f-7780e2557a8e",
   "metadata": {},
   "outputs": [
    {
     "data": {
      "text/plain": [
       "[100, 200, 50, 120, 80]"
      ]
     },
     "execution_count": 11,
     "metadata": {},
     "output_type": "execute_result"
    }
   ],
   "source": [
    "products"
   ]
  },
  {
   "cell_type": "markdown",
   "id": "23650e44-acec-457c-8c49-2a3c7790048d",
   "metadata": {},
   "source": [
    "To access a specific element, we use the variable name and the element's position (Python starts counting from `0`)"
   ]
  },
  {
   "cell_type": "code",
   "execution_count": 12,
   "id": "d075a7e9-4413-42bb-967a-0ac4b98beb51",
   "metadata": {},
   "outputs": [
    {
     "data": {
      "text/plain": [
       "100"
      ]
     },
     "execution_count": 12,
     "metadata": {},
     "output_type": "execute_result"
    }
   ],
   "source": [
    "# First element\n",
    "products[0]"
   ]
  },
  {
   "cell_type": "code",
   "execution_count": 14,
   "id": "d0d47119-e853-4cca-8e31-5dcedcb75eb4",
   "metadata": {},
   "outputs": [
    {
     "data": {
      "text/plain": [
       "50"
      ]
     },
     "execution_count": 14,
     "metadata": {},
     "output_type": "execute_result"
    }
   ],
   "source": [
    "# Third element\n",
    "products[2]"
   ]
  },
  {
   "cell_type": "markdown",
   "id": "322e3ca6-39e3-4db5-b362-a51c70741aa9",
   "metadata": {},
   "source": [
    "Suppose, due to inflation, we want to increase the of all products by 5%. It's very simple."
   ]
  },
  {
   "cell_type": "code",
   "execution_count": 20,
   "id": "36e6da2c-e553-4f25-a36f-24ae50eb900c",
   "metadata": {},
   "outputs": [
    {
     "data": {
      "text/plain": [
       "[105.0, 210.0, 52.5, 126.0, 84.0]"
      ]
     },
     "execution_count": 20,
     "metadata": {},
     "output_type": "execute_result"
    }
   ],
   "source": [
    "[1.05*x for x in products]"
   ]
  },
  {
   "cell_type": "markdown",
   "id": "80ba6e44-69e2-486c-b3d5-208c9708edb1",
   "metadata": {},
   "source": [
    "Or we can filter the list to get products whose prices `>= 100` only."
   ]
  },
  {
   "cell_type": "code",
   "execution_count": 21,
   "id": "1bfd31ff-7b27-434c-853b-e82972f283e1",
   "metadata": {},
   "outputs": [
    {
     "data": {
      "text/plain": [
       "[100, 200, 120]"
      ]
     },
     "execution_count": 21,
     "metadata": {},
     "output_type": "execute_result"
    }
   ],
   "source": [
    "[x for x in products if x >= 100]"
   ]
  },
  {
   "cell_type": "markdown",
   "id": "ffb95eb5-8daf-4e30-a1f6-9f3fe0c1dd25",
   "metadata": {},
   "source": [
    "We can also add more elements into the list."
   ]
  },
  {
   "cell_type": "code",
   "execution_count": 22,
   "id": "6660c42e-6d8d-47b2-8827-c0ec65116fe0",
   "metadata": {},
   "outputs": [
    {
     "name": "stdout",
     "output_type": "stream",
     "text": [
      "[100, 200, 50, 120, 80, 25, 75]\n"
     ]
    }
   ],
   "source": [
    "products.extend([25, 75])\n",
    "print(products)"
   ]
  },
  {
   "cell_type": "markdown",
   "id": "bb21a4bd-ae13-433c-bb3d-6a74ca77a4e8",
   "metadata": {},
   "source": [
    "Or remove some element"
   ]
  },
  {
   "cell_type": "code",
   "execution_count": 23,
   "id": "e12ea4b6-d250-4afa-8eb8-f9586133ec57",
   "metadata": {},
   "outputs": [
    {
     "name": "stdout",
     "output_type": "stream",
     "text": [
      "[100, 200, 50, 120, 80, 25]\n"
     ]
    }
   ],
   "source": [
    "# Remove element with value 75\n",
    "products.remove(75)\n",
    "print(products)"
   ]
  },
  {
   "cell_type": "markdown",
   "id": "b216076c-ee93-41fd-8e2f-207cef861ddc",
   "metadata": {},
   "source": [
    "## Collection types hierarchy\n",
    "\n",
    "Collection types can be divided further into 3 groups: sequences, mappings, and sets as shown below\n",
    "\n",
    "- Sequences\n",
    "    - Lists\n",
    "    - Tuples\n",
    "    - Ranges\n",
    "    - Strings\n",
    "    \n",
    "- Mappings\n",
    "    - Dictionaries\n",
    "    \n",
    "- Sets\n",
    "    - Sets\n",
    "    - Frozen sets"
   ]
  },
  {
   "cell_type": "code",
   "execution_count": null,
   "id": "7d709bb6-f241-492d-b9a5-6c502fc08fef",
   "metadata": {},
   "outputs": [],
   "source": []
  }
 ],
 "metadata": {
  "kernelspec": {
   "display_name": "Python 3 (ipykernel)",
   "language": "python",
   "name": "python3"
  },
  "language_info": {
   "codemirror_mode": {
    "name": "ipython",
    "version": 3
   },
   "file_extension": ".py",
   "mimetype": "text/x-python",
   "name": "python",
   "nbconvert_exporter": "python",
   "pygments_lexer": "ipython3",
   "version": "3.9.7"
  }
 },
 "nbformat": 4,
 "nbformat_minor": 5
}
