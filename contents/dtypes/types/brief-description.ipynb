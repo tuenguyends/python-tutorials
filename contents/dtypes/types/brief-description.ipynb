{
 "cells": [
  {
   "cell_type": "markdown",
   "metadata": {},
   "source": [
    "# Brief description of data types"
   ]
  },
  {
   "cell_type": "markdown",
   "metadata": {},
   "source": [
    "**None types** are used to represent the state of being undefined/unknown (both in datatype and in value). \n",
    "\n",
    "- Being undefined is not the same as being empty. A variable of `list` type can be an empty list, but it still has a type.\n",
    "- Python implementation: `NoneType`.\n",
    "\n",
    "**Numbers** are used to represent numeric values.\n",
    "\n",
    "- Python implementation: `int` (integers), `float` (real numbers), `complex` (complex numbers), `bool` (truth values).\n",
    "- Note that, in Python `bool` type is a sub-type of `int`. As you will see, `True` and `False` of `bool` is actually `1` and `0` of `int`.\n",
    "\n",
    "\n",
    "**Sequences** are used to represent an ordered collection of elements under the same name.\n",
    "\n",
    "- Python implementation: `list`, `tuple`, `range`, `str`\n",
    "- The order of the elements of the sequence matters.\n",
    "- We access an element of a sequence using the sequence name and the element's position (or index).\n",
    "\n",
    "\n",
    "**Mappings** are used to represent a collection of `key-value` pairs.\n",
    "\n",
    "- Python implementation: `dict` (dictionaries)\n",
    "- Example `student = {\"name\": \"Rob\", \"age\": 20}`\n",
    "- There is no instrinsic order in a mapping.\n",
    "- We access an element of a dictionary using the correspondiong  `key`.\n",
    "\n",
    "\n",
    "**Sets** are used to represent a set (as in mathematics)\n",
    "\n",
    "- Python implementation: `set`, `frozenset`.\n",
    "- Elements of sets are unique and are not ordered.\n",
    "- There is no way to access an element of a set. We can only check if a value is in a set or not.\n",
    "\n",
    "**Callable** types are *callable* (you call/invoke a function or a method to do something)\n",
    "\n",
    "- Python implementation: `builtin_function_or_method` (functions or methods), `type` (classes)\n",
    "\n",
    "\n",
    "> Note that there are other types that are not included in this chapter (and in this book). The main purpose is to provide the fundamentals, not to overwhelm you with types that you will never use."
   ]
  }
 ],
 "metadata": {
  "kernelspec": {
   "display_name": "Python 3 (ipykernel)",
   "language": "python",
   "name": "python3"
  },
  "language_info": {
   "codemirror_mode": {
    "name": "ipython",
    "version": 3
   },
   "file_extension": ".py",
   "mimetype": "text/x-python",
   "name": "python",
   "nbconvert_exporter": "python",
   "pygments_lexer": "ipython3",
   "version": "3.9.7"
  }
 },
 "nbformat": 4,
 "nbformat_minor": 4
}
