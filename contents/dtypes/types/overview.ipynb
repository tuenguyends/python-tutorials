{
 "cells": [
  {
   "cell_type": "markdown",
   "metadata": {},
   "source": [
    "# Overview"
   ]
  },
  {
   "cell_type": "markdown",
   "metadata": {},
   "source": [
    "We can categorize data into two major types: built-in and user-defined.\n",
    "\n",
    "1. Built-in types are is part of the language and are readily available when we installed Python\n",
    "\n",
    "1. User-defined types are built by programmers (based on the built-in types) to suit their needs for more complex applications.\n",
    "\n",
    "This book focuses mostly on the built-in types and some user-defined types developed by professional programmers. You won't learn to build your own user-defined types in this book. In fact, you rarely create user-defined types when working as a data analyst/scientist even at intermediate levels."
   ]
  },
  {
   "cell_type": "markdown",
   "metadata": {},
   "source": [
    "The following picture illustrates a bird-eye view of Python's typing hierarchy. Note that the diagram is not complete. I only show common types that, based on my experience, are relevant and important.\n",
    "\n",
    "<img src=\"../../../_static/img/type-system.png\" width=\"400\">"
   ]
  }
 ],
 "metadata": {
  "kernelspec": {
   "display_name": "Python 3 (ipykernel)",
   "language": "python",
   "name": "python3"
  },
  "language_info": {
   "codemirror_mode": {
    "name": "ipython",
    "version": 3
   },
   "file_extension": ".py",
   "mimetype": "text/x-python",
   "name": "python",
   "nbconvert_exporter": "python",
   "pygments_lexer": "ipython3",
   "version": "3.9.7"
  }
 },
 "nbformat": 4,
 "nbformat_minor": 4
}
