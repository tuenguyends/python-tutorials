{
 "cells": [
  {
   "cell_type": "markdown",
   "id": "c334edb5-db89-497a-ace6-2eb1300f2b1f",
   "metadata": {},
   "source": [
    "# DIctionaries"
   ]
  },
  {
   "cell_type": "markdown",
   "id": "28cdd9a5-56ff-4e1e-abe8-6d1ba855ad8d",
   "metadata": {},
   "source": [
    "To be updated"
   ]
  }
 ],
 "metadata": {
  "kernelspec": {
   "display_name": "Python 3 (ipykernel)",
   "language": "python",
   "name": "python3"
  },
  "language_info": {
   "codemirror_mode": {
    "name": "ipython",
    "version": 3
   },
   "file_extension": ".py",
   "mimetype": "text/x-python",
   "name": "python",
   "nbconvert_exporter": "python",
   "pygments_lexer": "ipython3",
   "version": "3.9.7"
  }
 },
 "nbformat": 4,
 "nbformat_minor": 5
}
