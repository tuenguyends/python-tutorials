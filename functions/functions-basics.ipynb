{
 "cells": [
  {
   "cell_type": "markdown",
   "id": "fd5f6147-1ef6-4c7e-8d0b-edc39fad4bc7",
   "metadata": {},
   "source": [
    "# Functions - basics\n",
    "Author: Tue Nguyen"
   ]
  },
  {
   "cell_type": "markdown",
   "id": "0eadd8b2-cdcc-4833-a095-e87c69ea5aa1",
   "metadata": {},
   "source": [
    "## Outline\n",
    "- Overview\n",
    "- Define and call a function\n",
    "- Parameters vs. arguments\n",
    "- Default arguments"
   ]
  },
  {
   "cell_type": "markdown",
   "id": "13f68002-3035-4459-914f-dcdd105ebe76",
   "metadata": {},
   "source": [
    "## Overview\n",
    "- Roughly speaking, a function takes some inputs, does something with them, and spits out an output\n",
    "- Benefits\n",
    "    - We define the logic once and reuse it as many times as we want\n",
    "    - Easier to maintain and improve because the logic is in a single place\n",
    "    - All lower-level details are abstracted away, making code more succinct and readable\n",
    "- Example\n",
    "    - Suppose you have to frequently extract numbers from text strings\n",
    "    - Instead of duplicating your code (potentially many lines) every time you do such a task, you can wrap your code into a function\n",
    "    - When you need to extract numbers from a text string, you just need to call the function (one line)\n",
    "    - Or when you need to improve your code, you have to make changes in one place (where the function is defined)"
   ]
  },
  {
   "cell_type": "markdown",
   "id": "40fcb09d-4ac1-4cc6-8b13-d92a9b283f32",
   "metadata": {},
   "source": [
    "## Define and call a function\n",
    "- A function must be defined before being used\n",
    "- We use `def`  to define a function as follows\n",
    "    ```python\n",
    "    def function_name(params):\n",
    "      # Function body here\n",
    "    ```\n",
    "- Parameters (or params) are the inputs to the function\n",
    "- Parameters are optional (a function might have no parameter)\n",
    "- The function name follows the rules and conventions introduced in the earlier lessons\n",
    "- The function body contains statements that handle some logic\n",
    "- A function might explicitly return a value to where it is called using the keyword `return`\n",
    "- Otherwise, `None` will be returned by default\n",
    "- **Defining** a function means writing code that specify\n",
    "    - its name\n",
    "    - parameters that it possibly take\n",
    "    - what it does to the parameters\n",
    "    - what value it returns\n",
    "- **Calling** a function means evoke the function to do something\n",
    "- Defining vs. calling\n",
    "    - We define a function only once, but we can call it as many times as we want\n",
    "    - We use `def` when define a function, but not when we call it\n",
    "    - We cannot call a function that has not been defined yet\n",
    "    - When defining a function, the inputs in the parentheses are called **parameters**\n",
    "    - When calling a function, the inputs are called **arguments**\n",
    "- A function can \n",
    "    - take no param, one params, or many params\n",
    "    - explicitly return a value using return or implicitly return `None`"
   ]
  },
  {
   "cell_type": "markdown",
   "id": "83cde702-e5dc-4b1c-b0dc-32fedba3d8c4",
   "metadata": {},
   "source": [
    "### No param, no return\n",
    "A function can have no params and returns nothing"
   ]
  },
  {
   "cell_type": "markdown",
   "id": "b2811be2-0e4e-4c73-a1a5-1211252a71be",
   "metadata": {},
   "source": [
    "**a) Ex 1: define a function**"
   ]
  },
  {
   "cell_type": "code",
   "execution_count": 3,
   "id": "89ab2405-5aad-46c5-902a-710645139bbe",
   "metadata": {},
   "outputs": [],
   "source": [
    "# Define a function that prints out \"Hi user\"\n",
    "def say_hi():\n",
    "    print(\"Hi user\")"
   ]
  },
  {
   "cell_type": "markdown",
   "id": "6ae2dd12-7f50-4085-bb6c-c3068c8ac575",
   "metadata": {},
   "source": [
    "Comments\n",
    "\n",
    "- The function name is `say_hi`\n",
    "- It takes has no params (empty parentheses)\n",
    "- It also returns nothing (no keyword `return`). Thus a `None` will be return by default\n",
    "- What it does is just prints out the line `\"Hi user\"`"
   ]
  },
  {
   "cell_type": "markdown",
   "id": "70d245b4-88b6-46e0-9c6d-fefc5ebdf853",
   "metadata": {},
   "source": [
    "**b) Ex 2: call a function**"
   ]
  },
  {
   "cell_type": "code",
   "execution_count": 5,
   "id": "9482c976-8760-456c-8ca2-4f3f8704506e",
   "metadata": {},
   "outputs": [
    {
     "name": "stdout",
     "output_type": "stream",
     "text": [
      "Hi user\n"
     ]
    }
   ],
   "source": [
    "# Now we call say_hi function defined above\n",
    "say_hi()"
   ]
  },
  {
   "cell_type": "markdown",
   "id": "a32c1920-3a88-4801-9cbe-29188a2b7ca5",
   "metadata": {},
   "source": [
    "Comments\n",
    "\n",
    "- We see `\"Hi user\"` printed out as expected\n",
    "- However, do not confuse this printed text with the returned value\n",
    "- This function return `None` by default\n",
    "- To see this, try to assign this function call to a variable"
   ]
  },
  {
   "cell_type": "code",
   "execution_count": 8,
   "id": "0eeb3b79-9cfd-43a2-b64a-1db9490e0eed",
   "metadata": {},
   "outputs": [
    {
     "name": "stdout",
     "output_type": "stream",
     "text": [
      "Hi user\n"
     ]
    }
   ],
   "source": [
    "# You see, the text \"Hi user\" is still printed out\n",
    "x = say_hi()"
   ]
  },
  {
   "cell_type": "code",
   "execution_count": 9,
   "id": "a8173444-6d2e-45ba-81c6-19fde1b25acb",
   "metadata": {},
   "outputs": [
    {
     "name": "stdout",
     "output_type": "stream",
     "text": [
      "None\n"
     ]
    }
   ],
   "source": [
    "# Now verify that x is indeed None\n",
    "print(x)"
   ]
  },
  {
   "cell_type": "markdown",
   "id": "a2c3b525-d307-4fde-9fda-3ec6c2aaf97d",
   "metadata": {},
   "source": [
    "### Has params, no return\n",
    "A function can have one or many params (separated by commas) and returns nothing"
   ]
  },
  {
   "cell_type": "markdown",
   "id": "05c17e45-12f2-43bd-99b3-a4c6090af29c",
   "metadata": {},
   "source": [
    "**a) Ex 1: one param, no return**"
   ]
  },
  {
   "cell_type": "code",
   "execution_count": 10,
   "id": "5575137f-ed24-4eb8-8402-b1c1a657f0a7",
   "metadata": {},
   "outputs": [],
   "source": [
    "# Define a function that takes a name and say hi to that name\n",
    "def say_hi(name):\n",
    "    print(f\"Hi {name}\")"
   ]
  },
  {
   "cell_type": "code",
   "execution_count": 14,
   "id": "c43c69e0-a1d1-4f51-b86d-5008cd6699f3",
   "metadata": {},
   "outputs": [
    {
     "name": "stdout",
     "output_type": "stream",
     "text": [
      "Hi Anna\n"
     ]
    }
   ],
   "source": [
    "# Call 1\n",
    "say_hi(\"Anna\")"
   ]
  },
  {
   "cell_type": "code",
   "execution_count": 15,
   "id": "5cead32d-ae1d-4aa7-bb4d-c5d3bb0de986",
   "metadata": {},
   "outputs": [
    {
     "name": "stdout",
     "output_type": "stream",
     "text": [
      "Hi Bob\n"
     ]
    }
   ],
   "source": [
    "# Call 2\n",
    "say_hi(\"Bob\")"
   ]
  },
  {
   "cell_type": "markdown",
   "id": "60fdebaa-315b-4dea-b9f0-68f6b771c089",
   "metadata": {},
   "source": [
    "**b) Ex 2: many params, no return**"
   ]
  },
  {
   "cell_type": "code",
   "execution_count": 16,
   "id": "efdf46a1-bf33-49fb-b306-64164af97890",
   "metadata": {},
   "outputs": [],
   "source": [
    "# Define a function that takes first_name, last_name, and sex\n",
    "# then print out a greeting\n",
    "def say_hi(first_name, last_name, sex):\n",
    "    # Specify title\n",
    "    if sex == \"M\":\n",
    "        title = \"Mr.\"\n",
    "    elif sex == \"F\":\n",
    "        title = \"Ms.\"\n",
    "    else:\n",
    "        title = \"Mr./Ms.\"\n",
    "        \n",
    "    # Say hi\n",
    "    print(f\"Hi {title} {first_name} {last_name}\")"
   ]
  },
  {
   "cell_type": "code",
   "execution_count": 17,
   "id": "5ff49210-20fe-42d6-9744-5870390242c6",
   "metadata": {},
   "outputs": [
    {
     "name": "stdout",
     "output_type": "stream",
     "text": [
      "Hi Mr. Bob Dylan\n"
     ]
    }
   ],
   "source": [
    "# Call 1\n",
    "say_hi(\"Bob\", \"Dylan\", \"M\")"
   ]
  },
  {
   "cell_type": "code",
   "execution_count": 18,
   "id": "66dd1ff4-74c6-48b5-a655-2524592434c0",
   "metadata": {},
   "outputs": [
    {
     "name": "stdout",
     "output_type": "stream",
     "text": [
      "Hi Ms. Sia Kate\n"
     ]
    }
   ],
   "source": [
    "# Call 2\n",
    "say_hi(\"Sia\", \"Kate\", \"F\")"
   ]
  },
  {
   "cell_type": "code",
   "execution_count": 19,
   "id": "ab2d4656-15f3-4020-8866-d987871b1091",
   "metadata": {},
   "outputs": [
    {
     "name": "stdout",
     "output_type": "stream",
     "text": [
      "Hi Mr./Ms. Johan Smith\n"
     ]
    }
   ],
   "source": [
    "# Call 3\n",
    "say_hi(\"Johan\", \"Smith\", \"N/A\")"
   ]
  },
  {
   "cell_type": "markdown",
   "id": "dc6eda40-a673-4fca-a1c6-21d3c16d69f0",
   "metadata": {},
   "source": [
    "### Has params, has return\n",
    "A function can have params and explicitly returns a value"
   ]
  },
  {
   "cell_type": "markdown",
   "id": "46ff8f77-501e-4054-adb0-f324020ba789",
   "metadata": {},
   "source": [
    "**a) Ex 1: add two numbers**"
   ]
  },
  {
   "cell_type": "code",
   "execution_count": 22,
   "id": "63926fdf-2e7e-4fe5-a6c5-e65031ff4849",
   "metadata": {},
   "outputs": [],
   "source": [
    "# Define a function that takes 2 number and returns their sum\n",
    "def add(a, b):\n",
    "    return a + b"
   ]
  },
  {
   "cell_type": "code",
   "execution_count": 23,
   "id": "c88e1213-70ca-4e7f-8cd1-59d9783b3851",
   "metadata": {},
   "outputs": [
    {
     "data": {
      "text/plain": [
       "5"
      ]
     },
     "execution_count": 23,
     "metadata": {},
     "output_type": "execute_result"
    }
   ],
   "source": [
    "# Call 1\n",
    "add(2, 3)"
   ]
  },
  {
   "cell_type": "code",
   "execution_count": 24,
   "id": "7b9eeb28-e723-4afc-b765-03c3e6c4682c",
   "metadata": {},
   "outputs": [
    {
     "data": {
      "text/plain": [
       "10"
      ]
     },
     "execution_count": 24,
     "metadata": {},
     "output_type": "execute_result"
    }
   ],
   "source": [
    "# Call 2\n",
    "add(-10, 20)"
   ]
  },
  {
   "cell_type": "markdown",
   "id": "c50b49fb-21ae-40c0-aa12-11dee16006b2",
   "metadata": {},
   "source": [
    "**b) Ex 2: filter bad customer**"
   ]
  },
  {
   "cell_type": "code",
   "execution_count": 27,
   "id": "9d822a03-cd76-486d-881c-9f51b1369932",
   "metadata": {},
   "outputs": [],
   "source": [
    "# Define a function that take a list of customers (cust)\n",
    "# another list of bad customers (bad_cust)\n",
    "# and return those who are in cust but not in bad_cust\n",
    "def filter_bad_cust(cust, bad_cust):\n",
    "    return [c for c in cust if c not in bad_cust]"
   ]
  },
  {
   "cell_type": "code",
   "execution_count": 28,
   "id": "0cfbfa9d-4ab6-4da2-b9f1-0e866c989ef5",
   "metadata": {},
   "outputs": [
    {
     "data": {
      "text/plain": [
       "['Jack', 'Tom', 'Andrew']"
      ]
     },
     "execution_count": 28,
     "metadata": {},
     "output_type": "execute_result"
    }
   ],
   "source": [
    "# Init cust and bad_cust\n",
    "cust = [\"Jack\", \"Bob\", \"Anna\", \"Tom\", \"Andrew\"]\n",
    "bad_cust = [\"Anna\", \"Bob\"]\n",
    "\n",
    "# Call the function\n",
    "good_cust = filter_bad_cust(cust, bad_cust)\n",
    "\n",
    "# Check the result\n",
    "good_cust"
   ]
  },
  {
   "cell_type": "markdown",
   "id": "02fdf042-6cc1-4c11-9efe-fb690ff74c45",
   "metadata": {},
   "source": [
    "**c) Ex 3: return more than one value**\n",
    "- Python does NOT allow for returning multiple values\n",
    "- However, you can use wrap the values you want to return in a collection such as a list or tuple, and return that collection"
   ]
  },
  {
   "cell_type": "code",
   "execution_count": 29,
   "id": "cac00f09-eeb4-4b95-a436-f37f97475a3a",
   "metadata": {},
   "outputs": [],
   "source": [
    "# Define a function that return the perimeter and area of a rectangle\n",
    "def compute_rect_peri_area(a, b):\n",
    "    peri = (a + b) * 2\n",
    "    area = a * b\n",
    "    return peri, area"
   ]
  },
  {
   "cell_type": "code",
   "execution_count": 30,
   "id": "8aa39f36-4fca-4960-ba38-e2f03935e8bc",
   "metadata": {},
   "outputs": [
    {
     "data": {
      "text/plain": [
       "(10, 6)"
      ]
     },
     "execution_count": 30,
     "metadata": {},
     "output_type": "execute_result"
    }
   ],
   "source": [
    "# Call 1: get a tuple back\n",
    "compute_rect_peri_area(2, 3)"
   ]
  },
  {
   "cell_type": "code",
   "execution_count": 31,
   "id": "097f9803-e5e1-4d9e-a937-ff820a825e3d",
   "metadata": {},
   "outputs": [
    {
     "name": "stdout",
     "output_type": "stream",
     "text": [
      "10\n",
      "6\n"
     ]
    }
   ],
   "source": [
    "# Call 2: unpack the result\n",
    "p, a = compute_rect_peri_area(2, 3)\n",
    "print(p)\n",
    "print(a)"
   ]
  },
  {
   "cell_type": "markdown",
   "id": "b6935ee4-2177-41f2-9ea6-43419cb37027",
   "metadata": {},
   "source": [
    "## Params vs. arguments\n",
    "- Params are named variables appearing in the function's signature when we define a function\n",
    "    - They specify inputs that the function expects to receive when it is actually called\n",
    "    - The function uses the params inside its body as regular variables\n",
    "- Arguments are actual values that are passed to the function when we call it\n",
    "    - The order in which we pass the arguments must match that of the params\n",
    "    - When we call a function and supply arguments, Python will assign the value of the arguments to the corresponding parameters and use those values to perform the logic inside the function body\n",
    "- For now, if a function has `N` params, we must supply `N` arguments when calling it"
   ]
  },
  {
   "cell_type": "markdown",
   "id": "60ce84c9-a164-4eab-9f18-2a3bf62b3529",
   "metadata": {},
   "source": [
    "**a) Ex 1: params**"
   ]
  },
  {
   "cell_type": "code",
   "execution_count": 13,
   "id": "43a71a16-fde9-4175-9f1a-a58c227adb62",
   "metadata": {},
   "outputs": [],
   "source": [
    "# Define a funtion\n",
    "def say_hi(first_name, last_name):\n",
    "    print(f\"Hi {first_name} {last_name}\")"
   ]
  },
  {
   "cell_type": "markdown",
   "id": "bad0e0b9-6fe6-459a-a90d-25e226c121be",
   "metadata": {},
   "source": [
    "Comments\n",
    "\n",
    "- The `say_hi` function has 2 params `first_name` and `last_name`\n",
    "- These two params are used in the `print` statement inside the function body"
   ]
  },
  {
   "cell_type": "markdown",
   "id": "fd905f8a-3171-461a-b592-a862d4e65f84",
   "metadata": {},
   "source": [
    "**b) Ex 2: argument**"
   ]
  },
  {
   "cell_type": "code",
   "execution_count": 14,
   "id": "11464175-888c-4fa3-adbf-9629bfd8c421",
   "metadata": {},
   "outputs": [
    {
     "name": "stdout",
     "output_type": "stream",
     "text": [
      "Hi John Doe\n"
     ]
    }
   ],
   "source": [
    "# Call 1\n",
    "first = \"John\"\n",
    "last = \"Doe\"\n",
    "say_hi(first, last)"
   ]
  },
  {
   "cell_type": "markdown",
   "id": "fa5c5e1f-7525-4465-8920-39352371a9fc",
   "metadata": {},
   "source": [
    "Comments\n",
    "\n",
    "- In the above function call, we pass two variables as the arguments to `say_hi` function\n",
    "    - `first` as the first argument\n",
    "    - `last` as the second argument\n",
    "- Based on the order in the function's signature in Ex 1, Python does the following\n",
    "    - assign the value of `first` (which is `\"John\"`) to param `first_name`\n",
    "    - assign the value of `last` (which is `\"Doe\"`) to param `last_name`\n",
    "    - then execute the body using those values\n",
    "    - and we see `\"Hi John Doe\"` printed out"
   ]
  },
  {
   "cell_type": "code",
   "execution_count": 15,
   "id": "e4abc8ce-2d2f-4aa8-b13c-63de05df7a9f",
   "metadata": {},
   "outputs": [
    {
     "name": "stdout",
     "output_type": "stream",
     "text": [
      "Hi John Doe\n"
     ]
    }
   ],
   "source": [
    "# Call 2\n",
    "say_hi(\"John\", \"Doe\")"
   ]
  },
  {
   "cell_type": "markdown",
   "id": "f3305661-b945-4561-915b-46a268b081b2",
   "metadata": {},
   "source": [
    "Comments\n",
    "\n",
    "- Similar to Call 1, here we pass `\"John\"` and `\"Doe\"` to `say_hi` directly\n",
    "- The function uses those values inside its body and we see the same result printed out"
   ]
  },
  {
   "cell_type": "markdown",
   "id": "c498dbab-683c-450c-a95a-a27ef5bbaf17",
   "metadata": {},
   "source": [
    "**c) Ex 3: not enough arguments**\n",
    "\n",
    "- Try to `say_hi(\"John\")` or `say_hi(\"Doe\")` and you will get an error\n",
    "- The error looks like this `say_hi() missing 1 required positional argument: 'last_name'`\n",
    "- This means that\n",
    "    - The function `say_hi` expects 2 arguments, but you supplied only one\n",
    "    - Based on the order, this one will goes to the first param (`first_name`)\n",
    "    - Thus, you missed the argument for the second param (`last_name`)"
   ]
  },
  {
   "cell_type": "markdown",
   "id": "42360aff-f6d9-4614-a6ee-6267fd852cd6",
   "metadata": {},
   "source": [
    "## Default arguments\n",
    "- Parameters allow us to customize the behavior of a function\n",
    "- The more params, the more flexible we have\n",
    "- However, more parameters also cause more problems\n",
    "    - Suppose the function has 10 params, then we have to supply 10 arguments in every call\n",
    "    - We also have to remember the correct order when passing the arguments\n",
    "- One solution is to use default values for some parameters to avoid passing too many arguments in each call\n",
    "    - The default values are set when we define the function\n",
    "    - In a function call, if we don't supply the corresponding argument, then the default values will be used instead\n",
    "    - These default values are called **default arguments**\n",
    "    - Note that all parameters that have default values must be specified to the rightmost of the param list in the function's signature"
   ]
  },
  {
   "cell_type": "markdown",
   "id": "afc3bad2-3997-47cd-9882-fedb8c8cd058",
   "metadata": {},
   "source": [
    "**a) Ex 1: greeting**\n",
    "- Suppose we want to say hi to a user using his/her username\n",
    "- If the user has logged in, then we want to print out `\"Hi {username}\"`\n",
    "- However, if the user has not logged in (we do not know the user name), then we want to print out `\"Hi user\"`\n",
    "- A good convention: unlike in assignments, there is no space around `=` in the function signature"
   ]
  },
  {
   "cell_type": "code",
   "execution_count": 30,
   "id": "098ff74b-8bfc-4b6e-9bef-468ab39e4d27",
   "metadata": {},
   "outputs": [],
   "source": [
    "# Define the function\n",
    "def say_hi(username=\"user\"):\n",
    "    print(f\"Hi {username}\")"
   ]
  },
  {
   "cell_type": "code",
   "execution_count": 31,
   "id": "df214938-f704-4f94-985a-f3c6f917cb75",
   "metadata": {},
   "outputs": [
    {
     "name": "stdout",
     "output_type": "stream",
     "text": [
      "Hi user\n"
     ]
    }
   ],
   "source": [
    "# Call 1: if we don't supply the argument for the username\n",
    "# then say_hi will use the value \"user\"\n",
    "# We will not get an error\n",
    "say_hi()"
   ]
  },
  {
   "cell_type": "code",
   "execution_count": 32,
   "id": "b8a31bc7-e115-4c0a-9869-a2107d422523",
   "metadata": {},
   "outputs": [
    {
     "name": "stdout",
     "output_type": "stream",
     "text": [
      "Hi Tom\n"
     ]
    }
   ],
   "source": [
    "# Call 1: if we do supply the argument for username\n",
    "# then say_hi will use the value we provided\n",
    "say_hi(\"Tom\")"
   ]
  },
  {
   "cell_type": "markdown",
   "id": "de16206f-ba1d-4041-b3f3-370b703cc769",
   "metadata": {},
   "source": [
    "**b) Ex 2: make a student record**\n",
    "- Suppose we want to write a function that take the following information from a student\n",
    "    - Name\n",
    "    - ID\n",
    "    - Level (BS, MS, or PhD)\n",
    "    - Country (Italy, US, ...)\n",
    "- The function will return those in a dictionary of 4 elements\n",
    "- Suppose that for some reason, most of the students are undergraduates (`level=\"BS\"`) and from Italy (`country=\"Italy\"`)\n",
    "- Thus, we can set default arguments for `level` and `country` to reduce unnecessary manual work"
   ]
  },
  {
   "cell_type": "code",
   "execution_count": 17,
   "id": "12809fc0-ad16-4017-a007-bfbd010eeec3",
   "metadata": {},
   "outputs": [],
   "source": [
    "# Define the function\n",
    "def get_student_info(name, std_id, level=\"BS\", country=\"Italy\"):\n",
    "    return {\n",
    "        \"name\": name, \n",
    "        \"id\": std_id, \n",
    "        \"level\": level, \n",
    "        \"country\": country\n",
    "    }"
   ]
  },
  {
   "cell_type": "code",
   "execution_count": 19,
   "id": "a47f72e4-64ae-4766-98db-99ba6653f639",
   "metadata": {},
   "outputs": [
    {
     "data": {
      "text/plain": [
       "{'name': 'Alessandro', 'id': 220001, 'level': 'BS', 'country': 'Italy'}"
      ]
     },
     "execution_count": 19,
     "metadata": {},
     "output_type": "execute_result"
    }
   ],
   "source": [
    "# Call 1: Alessandro with ID 220001 from Italy studying BS\n",
    "get_student_info(\"Alessandro\", 220001)"
   ]
  },
  {
   "cell_type": "code",
   "execution_count": 21,
   "id": "9fb9ae70-25bb-430f-951e-8299d7a6c387",
   "metadata": {},
   "outputs": [
    {
     "data": {
      "text/plain": [
       "{'name': 'Alessandro', 'id': 220002, 'level': 'MS', 'country': 'Italy'}"
      ]
     },
     "execution_count": 21,
     "metadata": {},
     "output_type": "execute_result"
    }
   ],
   "source": [
    "# Call 2: Giovanni with ID 220002 from Italy studying MS\n",
    "get_student_info(\"Alessandro\", 220002, \"MS\")"
   ]
  },
  {
   "cell_type": "code",
   "execution_count": 33,
   "id": "f6679cb9-36c7-4647-9f44-d3671fc19ee8",
   "metadata": {},
   "outputs": [
    {
     "data": {
      "text/plain": [
       "{'name': 'Alessandro', 'id': 22003, 'level': 'BS', 'country': 'US'}"
      ]
     },
     "execution_count": 33,
     "metadata": {},
     "output_type": "execute_result"
    }
   ],
   "source": [
    "# Call 3: John with ID 220003 from US studying BS\n",
    "# This time, since country is specified after level,\n",
    "# you have to pass \"US\" as a keyword argument using country=\"BS\"\n",
    "# If you pass (\"Alessandro\", 220001, \"US\") \n",
    "# then Python will understand \"US\" is the value passed to level\n",
    "get_student_info(\"Alessandro\", 22003, country=\"US\")"
   ]
  },
  {
   "cell_type": "code",
   "execution_count": 25,
   "id": "7acef445-db3d-4bfb-a0e0-3e18570c1dfc",
   "metadata": {},
   "outputs": [
    {
     "data": {
      "text/plain": [
       "{'name': 'Tue', 'id': 22004, 'level': 'MS', 'country': 'Vietnam'}"
      ]
     },
     "execution_count": 25,
     "metadata": {},
     "output_type": "execute_result"
    }
   ],
   "source": [
    "# Call 4: Tue with ID 220004 from Vietnam studying MS\n",
    "get_student_info(\"Tue\", 22004, \"MS\", \"Vietnam\")"
   ]
  },
  {
   "cell_type": "code",
   "execution_count": 28,
   "id": "bb7ca0ab-4fb7-4892-b727-1a2cfa16b6a1",
   "metadata": {},
   "outputs": [
    {
     "data": {
      "text/plain": [
       "{'name': 'Tue', 'id': 22004, 'level': 'MS', 'country': 'Vietnam'}"
      ]
     },
     "execution_count": 28,
     "metadata": {},
     "output_type": "execute_result"
    }
   ],
   "source": [
    "# Call 5: if using keyword arguments\n",
    "# you can swap the order of default arguments\n",
    "get_student_info(\"Tue\", 22004, country=\"Vietnam\", level=\"MS\")"
   ]
  },
  {
   "cell_type": "markdown",
   "id": "7432f9c3-4d9c-4566-8547-8f650f602e77",
   "metadata": {},
   "source": [
    "## Summary\n",
    "**Overview**\n",
    "- Roughly speaking, a function takes some inputs, does something with them, and spits out an output\n",
    "- Benefits\n",
    "    - We define the logic once and reuse it as many times as we want\n",
    "    - Easier to maintain and improve because the logic is in a single place\n",
    "    - All lower-level details are abstracted away, making code more succinct and readable\n",
    "\n",
    "**Define and call a function**\n",
    "- A function must be defined before being used\n",
    "- We use `def`  to define a function as follows\n",
    "    ```python\n",
    "    def function_name(params):\n",
    "      # Function body here\n",
    "    ```\n",
    "- Parameters (or params) are the inputs to the function\n",
    "- Parameters are optional (a function might have no parameter)\n",
    "- The function name follows the rules and conventions introduced in the earlier lessons\n",
    "- The function body contains statements that handle some logic\n",
    "- A function might explicitly return a value to where it is called using the keyword `return`\n",
    "- Otherwise, `None` will be returned by default\n",
    "- **Defining** a function means writing code that specify\n",
    "    - its name\n",
    "    - parameters that it possibly take\n",
    "    - what it does to the parameters\n",
    "    - what value it returns\n",
    "- **Calling** a function means evoking the function to do something\n",
    "- Defining vs. calling\n",
    "    - We define a function only once, but we can call it as many times as we want\n",
    "    - We use `def` when define a function, but not when we call it\n",
    "    - We cannot call a function that has not been defined yet\n",
    "    - When defining a function, the inputs in the parentheses are called **parameters**\n",
    "    - When calling a function, the inputs are called **arguments**\n",
    "- A function can \n",
    "    - take no param, one param, or many params\n",
    "    - explicitly return a value using return or implicitly return `None`\n",
    "\n",
    "**Params vs. arguments**\n",
    "- Params are named variables appearing in the function's signature when we define a function\n",
    "- Arguments are actual values that are passed to the function when we call it\n",
    "- When passing arguments and the number of arguments and the order they are passed must match that of parameters\n",
    "\n",
    "**Default arguments**\n",
    "- We can set default values to some parameters to avoid passing unnecessary information\n",
    "- Syntax\n",
    "  ```python\n",
    "  def f(a1, a2, ...., b1=v1, b2=v2, ...):\n",
    "      # Body\n",
    "  ```\n",
    "- Params with default values must be specified to the rightmost of the param list\n",
    "- A good convention: there is no space around `=` in the function signature\n",
    "- You can use keyword arguments to skip passing arguments for `b1`. Ex `f(a1, a2, ..., b2=v2)`\n",
    "- When passing arguments using keyword arguments, you can swap the order of default arguments. Ex: `f(a1, a2, ..., b2=v2, b1=v1)`"
   ]
  }
 ],
 "metadata": {
  "kernelspec": {
   "display_name": "Python 3 (ipykernel)",
   "language": "python",
   "name": "python3"
  },
  "language_info": {
   "codemirror_mode": {
    "name": "ipython",
    "version": 3
   },
   "file_extension": ".py",
   "mimetype": "text/x-python",
   "name": "python",
   "nbconvert_exporter": "python",
   "pygments_lexer": "ipython3",
   "version": "3.9.12"
  }
 },
 "nbformat": 4,
 "nbformat_minor": 5
}
