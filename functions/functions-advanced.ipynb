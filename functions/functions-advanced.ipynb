{
 "cells": [
  {
   "cell_type": "markdown",
   "id": "d4096ab5-698a-4617-b913-1b5be9644ca7",
   "metadata": {},
   "source": [
    "# Functions - advanced\n",
    "Author: Tue Nguyen"
   ]
  },
  {
   "cell_type": "markdown",
   "id": "73d163d1-e180-4d1b-bdef-5f85bf3b7eed",
   "metadata": {
    "tags": []
   },
   "source": [
    "## Outline\n",
    "- Lambda functions\n",
    "- Scope of variables\n",
    "- Flexible arguments\n",
    "- Document a function"
   ]
  },
  {
   "cell_type": "markdown",
   "id": "a2ddd11b-84b6-4350-9878-e6952152b6e1",
   "metadata": {},
   "source": [
    "## Lambda functions\n",
    "- We use `def` to define regular functions\n",
    "- We use `lambda` quickly define simple functions (normally in one line)\n",
    "- Sometimes, we want to quickly define a function without a name (thinking of a name may be time-consuming)\n",
    "    - They are called anonymous functions\n",
    "    - We define anonymous functions using `lambda`\n",
    "    - Anonymous functions are used to support other operations such as sorting and filtering"
   ]
  },
  {
   "cell_type": "markdown",
   "id": "4c75ef20-71ce-4c36-8094-863ece846960",
   "metadata": {},
   "source": [
    "### Named lambda functions\n",
    "- Syntax: `func_name = lambda params: code`\n",
    "- `code` can be a statement or an expression\n",
    "- No need to use `return` because Python will return the value of the expression"
   ]
  },
  {
   "cell_type": "markdown",
   "id": "8079f465-a93c-4f7f-8a05-75afda44ea30",
   "metadata": {},
   "source": [
    "**a) Ex 1: greeting**"
   ]
  },
  {
   "cell_type": "code",
   "execution_count": 1,
   "id": "a9b9a275-593b-44fa-a317-ca42ec88e293",
   "metadata": {},
   "outputs": [],
   "source": [
    "# Define the function\n",
    "say_hi = lambda name: print(f\"Hi {name}\")"
   ]
  },
  {
   "cell_type": "code",
   "execution_count": 3,
   "id": "d72028a1-4c23-4de0-a3ae-ede1fdc44f03",
   "metadata": {},
   "outputs": [
    {
     "name": "stdout",
     "output_type": "stream",
     "text": [
      "Hi Tom\n"
     ]
    }
   ],
   "source": [
    "# Call\n",
    "say_hi(\"Tom\")"
   ]
  },
  {
   "cell_type": "markdown",
   "id": "b4e29ffc-7635-40f8-8f7a-b87e1b78d5d6",
   "metadata": {},
   "source": [
    "**b) Ex 2: add 2 numbers**"
   ]
  },
  {
   "cell_type": "code",
   "execution_count": 4,
   "id": "1c832bda-d4f4-4d16-91ba-0b95bba8bdba",
   "metadata": {},
   "outputs": [],
   "source": [
    "# Define\n",
    "add = lambda a, b: a + b"
   ]
  },
  {
   "cell_type": "code",
   "execution_count": 5,
   "id": "3db3cd8d-e2ea-4b6f-9df6-7d66edc506c6",
   "metadata": {},
   "outputs": [
    {
     "data": {
      "text/plain": [
       "5"
      ]
     },
     "execution_count": 5,
     "metadata": {},
     "output_type": "execute_result"
    }
   ],
   "source": [
    "# Call\n",
    "add(2, 3)"
   ]
  },
  {
   "cell_type": "markdown",
   "id": "20686b1d-e42b-4499-9be8-3b31fa4aea80",
   "metadata": {},
   "source": [
    "**Ex 3: $f(x) = x^2 + 2x + 5$**"
   ]
  },
  {
   "cell_type": "code",
   "execution_count": 6,
   "id": "46576c1c-57ad-424f-9890-9a5872346ebd",
   "metadata": {},
   "outputs": [],
   "source": [
    "# Define\n",
    "f = lambda x: x**2 + 2*x + 5"
   ]
  },
  {
   "cell_type": "code",
   "execution_count": 9,
   "id": "eca534d0-71c3-4201-8f90-b3b7c424fb09",
   "metadata": {},
   "outputs": [
    {
     "data": {
      "text/plain": [
       "8"
      ]
     },
     "execution_count": 9,
     "metadata": {},
     "output_type": "execute_result"
    }
   ],
   "source": [
    "# Call\n",
    "f(1)"
   ]
  },
  {
   "cell_type": "markdown",
   "id": "84facda9-8735-408e-b33a-9104d5cccef5",
   "metadata": {},
   "source": [
    "**Ex 4: $g(x, y) = x^2 + 2xy + 3y^2$**"
   ]
  },
  {
   "cell_type": "code",
   "execution_count": 11,
   "id": "a4dfa85c-68b2-4e11-92dc-26ce932ce6dc",
   "metadata": {},
   "outputs": [],
   "source": [
    "# Define\n",
    "g = lambda x, y: x**2 + 2*x*y + 3*y**2"
   ]
  },
  {
   "cell_type": "code",
   "execution_count": 13,
   "id": "5f6124b8-f6ff-484a-a12c-6ee4ae167add",
   "metadata": {},
   "outputs": [
    {
     "data": {
      "text/plain": [
       "11"
      ]
     },
     "execution_count": 13,
     "metadata": {},
     "output_type": "execute_result"
    }
   ],
   "source": [
    "# Call\n",
    "g(2, 1)"
   ]
  },
  {
   "cell_type": "markdown",
   "id": "c1db2152-5768-4eaf-9228-b40a8e293976",
   "metadata": {},
   "source": [
    "### Anonymous lambda function\n",
    "- Syntax: `lambda params: code`\n",
    "- An anonymous function cannot stand on its own but must be used in another operation such as sorting or filter"
   ]
  },
  {
   "cell_type": "markdown",
   "id": "d2b3bba9-6483-4664-8ae1-ed22d7314d4e",
   "metadata": {},
   "source": [
    "**a) Ex 1: sorting**\n",
    "- Suppose we have a list of students\n",
    "    - Each element of this list is a tuple of 2 entries\n",
    "    - The first entry is the student's name\n",
    "    - The second entry is the student grade\n",
    "- We might want to sort the student by name or grade"
   ]
  },
  {
   "cell_type": "code",
   "execution_count": 17,
   "id": "f077a9a4-d036-428c-96a1-266bfcd4e781",
   "metadata": {},
   "outputs": [
    {
     "data": {
      "text/plain": [
       "[('John', 6), ('Alex', 5.5), ('Jane', 9), ('Peter', 8)]"
      ]
     },
     "execution_count": 17,
     "metadata": {},
     "output_type": "execute_result"
    }
   ],
   "source": [
    "# Init the list of students\n",
    "students = [(\"John\", 6), (\"Alex\", 5.5), (\"Jane\", 9), (\"Peter\", 8)]\n",
    "students"
   ]
  },
  {
   "cell_type": "code",
   "execution_count": 22,
   "id": "2c5b1083-dcbd-4951-9a6e-a3c3654b25b4",
   "metadata": {},
   "outputs": [
    {
     "data": {
      "text/plain": [
       "[('Alex', 5.5), ('Jane', 9), ('John', 6), ('Peter', 8)]"
      ]
     },
     "execution_count": 22,
     "metadata": {},
     "output_type": "execute_result"
    }
   ],
   "source": [
    "# Case 1: Sort by name (ascending order)\n",
    "sorted(students, key=lambda x: x[0])"
   ]
  },
  {
   "cell_type": "markdown",
   "id": "4744d06f-e7bc-4e7c-8819-5ddd90209342",
   "metadata": {},
   "source": [
    "Comments\n",
    "\n",
    "- The function `sorted` will sort the list `students` by `key`\n",
    "- `key` expects a function that does something to each element of the list and returns a value for that element\n",
    "- `sorted` will then sort `students` based on those returned values\n",
    "- In the above example, `key=lambda x: x[0]` means that\n",
    "    - Iterate through each element of the list `students` using variable `x`\n",
    "    - At each element, return the first entry of `x` (or `x[0]`)\n",
    "    - Then sort the list `students` by those first entries\n",
    "- As a result, you can see the list `students` is sorted by name in the ascending order"
   ]
  },
  {
   "cell_type": "code",
   "execution_count": 23,
   "id": "15e8acdf-e113-411b-8e11-03fd970b3fa4",
   "metadata": {},
   "outputs": [
    {
     "data": {
      "text/plain": [
       "[('Peter', 8), ('John', 6), ('Jane', 9), ('Alex', 5.5)]"
      ]
     },
     "execution_count": 23,
     "metadata": {},
     "output_type": "execute_result"
    }
   ],
   "source": [
    "# Case 2: Sort by name (descendin order)\n",
    "# Just pass reverse=True\n",
    "sorted(students, key=lambda x: x[0], reverse=True)"
   ]
  },
  {
   "cell_type": "code",
   "execution_count": 25,
   "id": "9a15fd15-8a1c-4e5d-98a5-37a3b0c7096d",
   "metadata": {},
   "outputs": [
    {
     "data": {
      "text/plain": [
       "[('Alex', 5.5), ('John', 6), ('Peter', 8), ('Jane', 9)]"
      ]
     },
     "execution_count": 25,
     "metadata": {},
     "output_type": "execute_result"
    }
   ],
   "source": [
    "# Case 3: Sort by grade (ascending order)\n",
    "# Very similar to Case 1\n",
    "# Just need to change the expression to x[1]\n",
    "sorted(students, key=lambda x: x[1])"
   ]
  },
  {
   "cell_type": "markdown",
   "id": "2d968966-52f6-4530-96de-4bf123a78ff8",
   "metadata": {},
   "source": [
    "**Remarks**\n",
    "\n",
    "- For now, the use of lambda functions is very limited including\n",
    "    - Quickly define short and simple functions\n",
    "    - Define anonymous function to use in `sorted`\n",
    "- However, anonymous lambda functions will be very convenient for real-life data manipulation when used with `pandas` (which will be discussed in a separate series)"
   ]
  },
  {
   "cell_type": "markdown",
   "id": "dd7f3c51-529d-49b6-b067-716929253bd0",
   "metadata": {},
   "source": [
    "## Scope of variables\n",
    "To be updated"
   ]
  },
  {
   "cell_type": "markdown",
   "id": "f19644b2-e886-430a-99f7-59b9f2c5dee7",
   "metadata": {},
   "source": [
    "## Flexible arguments\n",
    "To be updated"
   ]
  },
  {
   "cell_type": "markdown",
   "id": "83d6426e-dbec-4394-9bab-adab45c3fd1a",
   "metadata": {},
   "source": [
    "## Document a function\n",
    "To be updated"
   ]
  }
 ],
 "metadata": {
  "kernelspec": {
   "display_name": "Python 3 (ipykernel)",
   "language": "python",
   "name": "python3"
  },
  "language_info": {
   "codemirror_mode": {
    "name": "ipython",
    "version": 3
   },
   "file_extension": ".py",
   "mimetype": "text/x-python",
   "name": "python",
   "nbconvert_exporter": "python",
   "pygments_lexer": "ipython3",
   "version": "3.9.12"
  }
 },
 "nbformat": 4,
 "nbformat_minor": 5
}
