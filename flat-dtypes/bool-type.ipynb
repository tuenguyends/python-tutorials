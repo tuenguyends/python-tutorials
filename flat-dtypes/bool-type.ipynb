{
 "cells": [
  {
   "cell_type": "markdown",
   "id": "330b1bac-2c7f-49d4-a3b5-a7ef5e68f37d",
   "metadata": {},
   "source": [
    "# Bool type\n",
    "Author: Tue Nguyen"
   ]
  },
  {
   "cell_type": "markdown",
   "id": "9092c6cb-a6ac-4a57-8345-92393e92097c",
   "metadata": {},
   "source": [
    "## Overview\n",
    "This lecture covers the following topics\n",
    "\n",
    "- Why `bool` type?\n",
    "- How to get a `bool`?\n",
    "- Conversion to `bool`\n",
    "- When uses `bool`?\n",
    "- Operations on `bool`"
   ]
  },
  {
   "cell_type": "markdown",
   "id": "e660c8f0-d3c6-455c-9327-fb0528d43327",
   "metadata": {},
   "source": [
    "## Why `bool` type?\n",
    "- **Motivation:** used to represent binary data\n",
    "- **Real-life data:** True/False, Yes/No, Success/Failure, Male/Female, Good/Bad\n",
    "- **Python implementation:** \n",
    "    - Type: `bool`\n",
    "    - Possible values: `True` and `False`\n",
    "- Note that Python is case-sensitive. Thus, `True`, `TRUE`, and `true` are different"
   ]
  },
  {
   "cell_type": "markdown",
   "id": "30044b51-2257-4996-98b8-2e7cd9dd7e9b",
   "metadata": {},
   "source": [
    "## How to get a `bool`?"
   ]
  },
  {
   "cell_type": "markdown",
   "id": "45447bab-c0a6-4ad7-a61c-94be3b6a11da",
   "metadata": {},
   "source": [
    "### Ex 1: from `True` and `False` literals"
   ]
  },
  {
   "cell_type": "code",
   "execution_count": 3,
   "id": "9285d062-9435-4ae6-b720-c1d141460315",
   "metadata": {},
   "outputs": [],
   "source": [
    "# Init two bool variables\n",
    "x = True\n",
    "y = False"
   ]
  },
  {
   "cell_type": "code",
   "execution_count": 4,
   "id": "d4103eb5-fcf2-43b3-9f41-3b19759708e4",
   "metadata": {},
   "outputs": [
    {
     "name": "stdout",
     "output_type": "stream",
     "text": [
      "True\n",
      "False\n"
     ]
    }
   ],
   "source": [
    "# Print values\n",
    "print(x)\n",
    "print(y)"
   ]
  },
  {
   "cell_type": "code",
   "execution_count": 5,
   "id": "6b34a679-e882-41d2-b0f6-def44d3284b5",
   "metadata": {},
   "outputs": [
    {
     "name": "stdout",
     "output_type": "stream",
     "text": [
      "<class 'bool'>\n",
      "<class 'bool'>\n"
     ]
    }
   ],
   "source": [
    "# Print types\n",
    "print(type(x))\n",
    "print(type(y))"
   ]
  },
  {
   "cell_type": "markdown",
   "id": "8647d764-285e-4904-8813-e263e5157bcc",
   "metadata": {},
   "source": [
    "### Ex 2: from an expression that produces a `bool`\n",
    "A `bool` is often produced from \n",
    "\n",
    "- A comparison\n",
    "- A call to a function that returns a `bool`"
   ]
  },
  {
   "cell_type": "markdown",
   "id": "8bb232e2-a9f5-44f9-a3df-eca66029d846",
   "metadata": {},
   "source": [
    "**Get a `bool` from a comparison**"
   ]
  },
  {
   "cell_type": "code",
   "execution_count": 9,
   "id": "dbbcaec8-2262-40b1-b61a-ad667ad85c9f",
   "metadata": {},
   "outputs": [],
   "source": [
    "# Init two variable\n",
    "x = 1000\n",
    "y = 2000"
   ]
  },
  {
   "cell_type": "code",
   "execution_count": 10,
   "id": "0c9fdb39-86ac-4bf0-a934-093bfd0e3287",
   "metadata": {},
   "outputs": [
    {
     "data": {
      "text/plain": [
       "False"
      ]
     },
     "execution_count": 10,
     "metadata": {},
     "output_type": "execute_result"
    }
   ],
   "source": [
    "# Check equal\n",
    "x == y"
   ]
  },
  {
   "cell_type": "code",
   "execution_count": 12,
   "id": "95b6d2ed-4842-45d0-95c5-55d95278e528",
   "metadata": {},
   "outputs": [
    {
     "data": {
      "text/plain": [
       "True"
      ]
     },
     "execution_count": 12,
     "metadata": {},
     "output_type": "execute_result"
    }
   ],
   "source": [
    "# Check NOT equal\n",
    "x != y"
   ]
  },
  {
   "cell_type": "code",
   "execution_count": 13,
   "id": "680a714e-f3cc-4169-9e22-ff75a3fc6fdf",
   "metadata": {},
   "outputs": [
    {
     "data": {
      "text/plain": [
       "True"
      ]
     },
     "execution_count": 13,
     "metadata": {},
     "output_type": "execute_result"
    }
   ],
   "source": [
    "# Another way to check NOT equal\n",
    "not(x == y)"
   ]
  },
  {
   "cell_type": "code",
   "execution_count": 14,
   "id": "8ef331f6-87b0-4808-bbfc-80eca422d24e",
   "metadata": {},
   "outputs": [
    {
     "data": {
      "text/plain": [
       "False"
      ]
     },
     "execution_count": 14,
     "metadata": {},
     "output_type": "execute_result"
    }
   ],
   "source": [
    "# Check if IDs are the same\n",
    "x is y"
   ]
  },
  {
   "cell_type": "code",
   "execution_count": 8,
   "id": "935f515b-9d14-46f4-a663-9522eff4b99c",
   "metadata": {},
   "outputs": [
    {
     "data": {
      "text/plain": [
       "True"
      ]
     },
     "execution_count": 8,
     "metadata": {},
     "output_type": "execute_result"
    }
   ],
   "source": [
    "# Check if IDs are NOT the same\n",
    "x is not y"
   ]
  },
  {
   "cell_type": "code",
   "execution_count": 15,
   "id": "f2a01796-3cf6-480b-a16f-4e9e85ecc8ae",
   "metadata": {},
   "outputs": [
    {
     "data": {
      "text/plain": [
       "False"
      ]
     },
     "execution_count": 15,
     "metadata": {},
     "output_type": "execute_result"
    }
   ],
   "source": [
    "# Check greater than\n",
    "x > y"
   ]
  },
  {
   "cell_type": "code",
   "execution_count": 11,
   "id": "ba0d140b-26f9-49f5-bd1c-3e65c124f8b7",
   "metadata": {},
   "outputs": [
    {
     "data": {
      "text/plain": [
       "False"
      ]
     },
     "execution_count": 11,
     "metadata": {},
     "output_type": "execute_result"
    }
   ],
   "source": [
    "# Check greater than or equal\n",
    "x >= y"
   ]
  },
  {
   "cell_type": "code",
   "execution_count": 10,
   "id": "0b840d68-4636-4d2e-a4d6-49b4b10b2405",
   "metadata": {},
   "outputs": [
    {
     "data": {
      "text/plain": [
       "True"
      ]
     },
     "execution_count": 10,
     "metadata": {},
     "output_type": "execute_result"
    }
   ],
   "source": [
    "# Check less than\n",
    "x < y"
   ]
  },
  {
   "cell_type": "code",
   "execution_count": 16,
   "id": "77140a3f-ecd3-4dc0-a92b-5a0e3baffaf0",
   "metadata": {},
   "outputs": [
    {
     "data": {
      "text/plain": [
       "True"
      ]
     },
     "execution_count": 16,
     "metadata": {},
     "output_type": "execute_result"
    }
   ],
   "source": [
    "# Check less than ro equal\n",
    "x <= y"
   ]
  },
  {
   "cell_type": "markdown",
   "id": "b4753732-8d87-4e4a-b897-56ab21b9b676",
   "metadata": {},
   "source": [
    "**Get a `bool` from a function call**"
   ]
  },
  {
   "cell_type": "code",
   "execution_count": 18,
   "id": "8c7c4cb1-7954-43c7-9344-f7f388740dd4",
   "metadata": {},
   "outputs": [],
   "source": [
    "# Init 2 strings\n",
    "s1 = \"Hello\"\n",
    "s2 = \"HELLO\""
   ]
  },
  {
   "cell_type": "code",
   "execution_count": 19,
   "id": "9eb84c25-0135-4733-b5af-83ca3e2d894e",
   "metadata": {},
   "outputs": [
    {
     "data": {
      "text/plain": [
       "False"
      ]
     },
     "execution_count": 19,
     "metadata": {},
     "output_type": "execute_result"
    }
   ],
   "source": [
    "# Check if all chacters in s1 are uppercase\n",
    "s1.isupper()"
   ]
  },
  {
   "cell_type": "code",
   "execution_count": 20,
   "id": "ce0bd467-a9c9-4ab4-8393-ac262e9e3bb6",
   "metadata": {},
   "outputs": [
    {
     "data": {
      "text/plain": [
       "True"
      ]
     },
     "execution_count": 20,
     "metadata": {},
     "output_type": "execute_result"
    }
   ],
   "source": [
    "# Check if all chacters in s2 are uppercase\n",
    "s2.isupper()"
   ]
  },
  {
   "cell_type": "markdown",
   "id": "8831c4cc-9aa2-4256-91cc-512e63632145",
   "metadata": {},
   "source": [
    "## Conversion to `bool`\n",
    "- Type conversion is the action of converting a value of one type to a different type\n",
    "- Other names: typecasting,type-coercion\n",
    "- Think of it as converting USD to Euro\n",
    "- To convert a value to `bool`, we use `bool()` function.\n",
    "- Some rules to remember when converting a value of another type to `bool`\n",
    "    -   `0`, `None`, and values considered as \"empty\" will produce `False`\n",
    "    -   None-zero and non-empty values will produce `True`"
   ]
  },
  {
   "cell_type": "markdown",
   "id": "75888335-cbe7-4486-a8fb-34d8077353cb",
   "metadata": {},
   "source": [
    "### Ex 1: from `NoneType`"
   ]
  },
  {
   "cell_type": "code",
   "execution_count": 42,
   "id": "c320e1e8-59b1-4baf-8478-3fa742087c46",
   "metadata": {},
   "outputs": [
    {
     "data": {
      "text/plain": [
       "False"
      ]
     },
     "execution_count": 42,
     "metadata": {},
     "output_type": "execute_result"
    }
   ],
   "source": [
    "bool(None)"
   ]
  },
  {
   "cell_type": "markdown",
   "id": "c93d7522-4ddc-42f8-85a3-c025340a714b",
   "metadata": {},
   "source": [
    "### Ex 2: from `int`"
   ]
  },
  {
   "cell_type": "code",
   "execution_count": 43,
   "id": "b007098f-d30f-4da2-bc68-dc036887d918",
   "metadata": {},
   "outputs": [
    {
     "data": {
      "text/plain": [
       "False"
      ]
     },
     "execution_count": 43,
     "metadata": {},
     "output_type": "execute_result"
    }
   ],
   "source": [
    "bool(0)"
   ]
  },
  {
   "cell_type": "code",
   "execution_count": 44,
   "id": "856ff7ca-1712-44c7-b613-9d79f3781304",
   "metadata": {},
   "outputs": [
    {
     "data": {
      "text/plain": [
       "True"
      ]
     },
     "execution_count": 44,
     "metadata": {},
     "output_type": "execute_result"
    }
   ],
   "source": [
    "bool(100)"
   ]
  },
  {
   "cell_type": "code",
   "execution_count": 45,
   "id": "e1ce97d1-9ca4-4e28-a33d-53a8634b5d76",
   "metadata": {},
   "outputs": [
    {
     "data": {
      "text/plain": [
       "True"
      ]
     },
     "execution_count": 45,
     "metadata": {},
     "output_type": "execute_result"
    }
   ],
   "source": [
    "bool(-20)"
   ]
  },
  {
   "cell_type": "markdown",
   "id": "b8d326e8-44a1-4390-a4f2-df1e7e37b24b",
   "metadata": {},
   "source": [
    "### Ex 3: from `float`"
   ]
  },
  {
   "cell_type": "code",
   "execution_count": 46,
   "id": "cfe57623-9188-4c2b-b218-a90c3cffc7fe",
   "metadata": {},
   "outputs": [
    {
     "data": {
      "text/plain": [
       "False"
      ]
     },
     "execution_count": 46,
     "metadata": {},
     "output_type": "execute_result"
    }
   ],
   "source": [
    "bool(0.0)"
   ]
  },
  {
   "cell_type": "code",
   "execution_count": 47,
   "id": "8c1cee4f-26e5-49fa-a5a6-693ca0923de4",
   "metadata": {},
   "outputs": [
    {
     "data": {
      "text/plain": [
       "True"
      ]
     },
     "execution_count": 47,
     "metadata": {},
     "output_type": "execute_result"
    }
   ],
   "source": [
    "bool(1.5)"
   ]
  },
  {
   "cell_type": "code",
   "execution_count": 48,
   "id": "a253b471-0d14-4827-a058-339ace32e6a3",
   "metadata": {},
   "outputs": [
    {
     "data": {
      "text/plain": [
       "True"
      ]
     },
     "execution_count": 48,
     "metadata": {},
     "output_type": "execute_result"
    }
   ],
   "source": [
    "bool(1.2)"
   ]
  },
  {
   "cell_type": "markdown",
   "id": "f1cf46da-2702-476e-b605-49a4fba3d318",
   "metadata": {},
   "source": [
    "### Ex 3: from collections"
   ]
  },
  {
   "cell_type": "code",
   "execution_count": 51,
   "id": "c5dedf34-19f9-47ad-b796-4c72060ca8f6",
   "metadata": {},
   "outputs": [
    {
     "data": {
      "text/plain": [
       "False"
      ]
     },
     "execution_count": 51,
     "metadata": {},
     "output_type": "execute_result"
    }
   ],
   "source": [
    "# Empty list\n",
    "bool([])"
   ]
  },
  {
   "cell_type": "code",
   "execution_count": 52,
   "id": "ddd4bf9e-4371-459a-83f9-bc0d2f30dcf3",
   "metadata": {},
   "outputs": [
    {
     "data": {
      "text/plain": [
       "False"
      ]
     },
     "execution_count": 52,
     "metadata": {},
     "output_type": "execute_result"
    }
   ],
   "source": [
    "# Empty dict\n",
    "bool({})"
   ]
  },
  {
   "cell_type": "code",
   "execution_count": 55,
   "id": "27c8fba7-f041-4707-a955-c116cafa67d6",
   "metadata": {},
   "outputs": [
    {
     "data": {
      "text/plain": [
       "False"
      ]
     },
     "execution_count": 55,
     "metadata": {},
     "output_type": "execute_result"
    }
   ],
   "source": [
    "# Empty string\n",
    "bool(\"\")"
   ]
  },
  {
   "cell_type": "code",
   "execution_count": 53,
   "id": "590660e7-412a-4b5c-9556-837ed57053d4",
   "metadata": {},
   "outputs": [
    {
     "data": {
      "text/plain": [
       "True"
      ]
     },
     "execution_count": 53,
     "metadata": {},
     "output_type": "execute_result"
    }
   ],
   "source": [
    "# Non-empty list\n",
    "bool([1, 2, 3])"
   ]
  },
  {
   "cell_type": "code",
   "execution_count": 54,
   "id": "e06c2283-426c-4735-b94c-88ba124a934c",
   "metadata": {},
   "outputs": [
    {
     "data": {
      "text/plain": [
       "True"
      ]
     },
     "execution_count": 54,
     "metadata": {},
     "output_type": "execute_result"
    }
   ],
   "source": [
    "# Non-empty dict\n",
    "bool({\"name\": \"John\", \"age\": 20})"
   ]
  },
  {
   "cell_type": "code",
   "execution_count": 56,
   "id": "d378c838-322b-46e3-bfde-5ce11892e308",
   "metadata": {},
   "outputs": [
    {
     "data": {
      "text/plain": [
       "True"
      ]
     },
     "execution_count": 56,
     "metadata": {},
     "output_type": "execute_result"
    }
   ],
   "source": [
    "# Non-empty string\n",
    "bool(\"hello\")"
   ]
  },
  {
   "cell_type": "markdown",
   "id": "4687cb24-684f-407e-bc94-916e2a5283f1",
   "metadata": {},
   "source": [
    "### Ex 4: implicit typecasting\n",
    "- Python sometimes does this conversion **implicitly**\n",
    "- Ex: in a `if` statement where it expects a bool value to make a decision\n",
    "- Consider the following example"
   ]
  },
  {
   "cell_type": "code",
   "execution_count": 57,
   "id": "9e8e4d2f-758b-42d1-a15e-ac3c89ff0242",
   "metadata": {},
   "outputs": [
    {
     "name": "stdout",
     "output_type": "stream",
     "text": [
      "There is no student\n"
     ]
    }
   ],
   "source": [
    "students = []\n",
    "if students:\n",
    "    print(\"There is at least 1 student\")\n",
    "else:\n",
    "    print(\"There is no student\")"
   ]
  },
  {
   "cell_type": "markdown",
   "id": "7c2ff5f9-08dc-485b-b4a3-fb9b0d8424a2",
   "metadata": {},
   "source": [
    "**What happened?**\n",
    "- Here, `if` expect a `bool`, but it receives an empty list\n",
    "- Thus, Python converts this empty list to bool and ends up a `False`\n",
    "- Since the condition is `False`, Python execute the statement under `else`"
   ]
  },
  {
   "cell_type": "markdown",
   "id": "9294a78e-1d21-436d-b783-0214a6a0c9e5",
   "metadata": {
    "tags": []
   },
   "source": [
    "## When use `bool`?\n",
    " \n",
    "- A `bool` is normally used as the condition for branching in an `if` statement\n",
    "- We will learn more about `if` later in the \"Control flows\" sections\n",
    "- For now, consider the following simple example"
   ]
  },
  {
   "cell_type": "code",
   "execution_count": 21,
   "id": "7ae87749-a996-4f95-8b9e-4003962bbad0",
   "metadata": {},
   "outputs": [
    {
     "name": "stdout",
     "output_type": "stream",
     "text": [
      "Passed\n"
     ]
    }
   ],
   "source": [
    "grade = 8\n",
    "\n",
    "if grade >= 4:\n",
    "    print(\"Passed\")\n",
    "else:\n",
    "    print(\"Failed\")"
   ]
  },
  {
   "cell_type": "markdown",
   "id": "ca1e71d8-56dd-4b3f-b326-9993bfc04710",
   "metadata": {},
   "source": [
    "**What happened?**\n",
    "- As you can see, `\"Passed\"` was printed out because `grade >= 4` produces `True` (since `8 > 4`)\n",
    "- so Python executes the statements under `if`\n",
    "- If we change `8` to `3`, then `grade >= 4` will produces `False`, and Python will run the statements under `else`\n",
    "- Let's confirm this"
   ]
  },
  {
   "cell_type": "code",
   "execution_count": 22,
   "id": "fc19b237-1d6c-43ff-8f62-5c1cb29b2474",
   "metadata": {},
   "outputs": [
    {
     "name": "stdout",
     "output_type": "stream",
     "text": [
      "Failed\n"
     ]
    }
   ],
   "source": [
    "grade = 3\n",
    "\n",
    "if grade >= 4:\n",
    "    print(\"Passed\")\n",
    "else:\n",
    "    print(\"Failed\")"
   ]
  },
  {
   "cell_type": "markdown",
   "id": "0f8a4d50-14fb-4036-9109-8187fe4de7f3",
   "metadata": {},
   "source": [
    "## Operations on `bool`\n",
    "- Since `bool` type is also so simple, there are not much operations\n",
    "- Here is all you need to know \n",
    "    - Logical operations\n",
    "    - Since `bool` is a sub-type of `int`, we can also perform\n",
    "        - Math operations\n",
    "        - Comparison operations"
   ]
  },
  {
   "cell_type": "markdown",
   "id": "c684706d-7409-45a7-8ede-0787c2aaf81d",
   "metadata": {},
   "source": [
    "### Ex 1: logical operations\n",
    "There are 2 logical operators: `and`, `or`, `not`"
   ]
  },
  {
   "cell_type": "markdown",
   "id": "4b45645a-8e3f-41b1-8695-57e071e65411",
   "metadata": {},
   "source": [
    "**Simple examples on `bool` literals**"
   ]
  },
  {
   "cell_type": "code",
   "execution_count": 59,
   "id": "938c79b8-852e-4974-8d37-30faa9c60528",
   "metadata": {},
   "outputs": [
    {
     "data": {
      "text/plain": [
       "True"
      ]
     },
     "execution_count": 59,
     "metadata": {},
     "output_type": "execute_result"
    }
   ],
   "source": [
    "True and True"
   ]
  },
  {
   "cell_type": "code",
   "execution_count": 60,
   "id": "58e95bc8-3273-4ff2-8622-9f23442be401",
   "metadata": {},
   "outputs": [
    {
     "data": {
      "text/plain": [
       "False"
      ]
     },
     "execution_count": 60,
     "metadata": {},
     "output_type": "execute_result"
    }
   ],
   "source": [
    "True and False"
   ]
  },
  {
   "cell_type": "code",
   "execution_count": 61,
   "id": "bc7d1969-00da-4621-82e6-811c28db075f",
   "metadata": {},
   "outputs": [
    {
     "data": {
      "text/plain": [
       "True"
      ]
     },
     "execution_count": 61,
     "metadata": {},
     "output_type": "execute_result"
    }
   ],
   "source": [
    "True or True"
   ]
  },
  {
   "cell_type": "code",
   "execution_count": 62,
   "id": "a6e2bf0e-94ce-47ec-8e04-74e04013aafb",
   "metadata": {},
   "outputs": [
    {
     "data": {
      "text/plain": [
       "True"
      ]
     },
     "execution_count": 62,
     "metadata": {},
     "output_type": "execute_result"
    }
   ],
   "source": [
    "True or False"
   ]
  },
  {
   "cell_type": "code",
   "execution_count": 63,
   "id": "32dd6ef1-ecd8-4673-985a-2aa9db38ab92",
   "metadata": {},
   "outputs": [
    {
     "data": {
      "text/plain": [
       "False"
      ]
     },
     "execution_count": 63,
     "metadata": {},
     "output_type": "execute_result"
    }
   ],
   "source": [
    "not True"
   ]
  },
  {
   "cell_type": "code",
   "execution_count": 64,
   "id": "f9c48b97-732d-4494-9c54-5e2d55028d68",
   "metadata": {},
   "outputs": [
    {
     "data": {
      "text/plain": [
       "True"
      ]
     },
     "execution_count": 64,
     "metadata": {},
     "output_type": "execute_result"
    }
   ],
   "source": [
    "not False"
   ]
  },
  {
   "cell_type": "markdown",
   "id": "4d171647-61e8-4414-941c-1bc935622e1d",
   "metadata": {},
   "source": [
    "**More interesting examples on `bool` expression**"
   ]
  },
  {
   "cell_type": "code",
   "execution_count": 67,
   "id": "a25b1eeb-b97a-429a-bd85-bbb874fae622",
   "metadata": {},
   "outputs": [],
   "source": [
    "# Init 2 variables\n",
    "age = 18\n",
    "health = \"bad\""
   ]
  },
  {
   "cell_type": "code",
   "execution_count": 69,
   "id": "47925596-5321-4805-955a-6605a3dd50dd",
   "metadata": {},
   "outputs": [
    {
     "name": "stdout",
     "output_type": "stream",
     "text": [
      "Sorry. You cannot buy a vodka\n"
     ]
    }
   ],
   "source": [
    "# Rule 1: if age >= 18 AND good health, then you can buy a vodka\n",
    "if (age >= 18) and (health == \"good\"):\n",
    "    print(\"Congrats. You can buy a vodka\")\n",
    "else:\n",
    "    print(\"Sorry. You cannot buy a vodka\")"
   ]
  },
  {
   "cell_type": "code",
   "execution_count": 70,
   "id": "4fa027fb-d318-413e-b68c-fef5ea1a1566",
   "metadata": {},
   "outputs": [
    {
     "name": "stdout",
     "output_type": "stream",
     "text": [
      "Congrats. You can buy a vodka\n"
     ]
    }
   ],
   "source": [
    "# Rule 2: if age >= 18 OR good health, then you can buy a vodka\n",
    "if (age >= 18) or (health == \"good\"):\n",
    "    print(\"Congrats. You can buy a vodka\")\n",
    "else:\n",
    "    print(\"Sorry. You cannot buy a vodka\")"
   ]
  },
  {
   "cell_type": "markdown",
   "id": "e4398f29-9cc5-4680-9592-46273ee889db",
   "metadata": {},
   "source": [
    "### Ex 2: treat `bool` values as integers\n",
    "Remember \n",
    "\n",
    "- `True` is equivalent to `1`\n",
    "- `False` is equivalent to `0`"
   ]
  },
  {
   "cell_type": "code",
   "execution_count": 38,
   "id": "a81c0a40-a7f1-4cb9-8cd2-41bf7eecd281",
   "metadata": {},
   "outputs": [
    {
     "data": {
      "text/plain": [
       "2"
      ]
     },
     "execution_count": 38,
     "metadata": {},
     "output_type": "execute_result"
    }
   ],
   "source": [
    "# True + True\n",
    "True + True"
   ]
  },
  {
   "cell_type": "code",
   "execution_count": 39,
   "id": "f854d639-f005-4a61-aa44-8e6ee48b090b",
   "metadata": {},
   "outputs": [
    {
     "data": {
      "text/plain": [
       "1"
      ]
     },
     "execution_count": 39,
     "metadata": {},
     "output_type": "execute_result"
    }
   ],
   "source": [
    "# True + False\n",
    "True + False"
   ]
  },
  {
   "cell_type": "code",
   "execution_count": 40,
   "id": "1ee8775f-b66f-43e5-8c63-bc59af9d1be4",
   "metadata": {},
   "outputs": [
    {
     "data": {
      "text/plain": [
       "True"
      ]
     },
     "execution_count": 40,
     "metadata": {},
     "output_type": "execute_result"
    }
   ],
   "source": [
    "# True > False\n",
    "True > False"
   ]
  },
  {
   "cell_type": "markdown",
   "id": "48c1ac3d-e8ea-4b40-b192-a8dd9f34c322",
   "metadata": {},
   "source": [
    "## Summary\n",
    "**Why `bool` type?**\n",
    "- Used to represent binary data\n",
    "- Used as conditions in branching statements\n",
    "\n",
    "**Conversion to `bool`**\n",
    "- Use `bool()`\n",
    "- Rules\n",
    "    - `0` and empty values will produces `False`\n",
    "    - Non-zero and non-empty values will produce `True`\n",
    "- Sometimes Python does implicit type conversion to `bool` as in an `if` statement\n",
    "\n",
    "**How to get a `bool`?**\n",
    "- From `True` or `False` literals\n",
    "- From an expression that produces a `bool` such as\n",
    "    - Comparison: `==, !=, >=, <=, >, <, is, is not`\n",
    "    - Typecasting: `bool(x)`\n",
    "    - Logical operations on `bool`s: `(age >= 18) and (health == \"good\"`\n",
    "    - A call to a function that returns a `bool`: `x.isupper()`, `isinstance(x, float)`\n",
    "\n",
    "**When uses `bool`?**\n",
    "- When representing binary data\n",
    "- As conditions in branching statements\n",
    "\n",
    "**Operations on `bool`**\n",
    "- Logical operations: `and`, `or`, `not`\n",
    "- Other math and logical operations when `bool` values are treated as `int` values"
   ]
  },
  {
   "cell_type": "markdown",
   "id": "edc68c82-97d1-4d37-ba95-135bd8788ef4",
   "metadata": {},
   "source": [
    "## Practice\n",
    "### Exercise 1\n",
    "Do the following\n",
    "\n",
    "- Initialize a variable `x` with value `True`\n",
    "- Print the value associated with `x`\n",
    "- Print the data type of `x`\n",
    "\n",
    "### Exercise 2\n",
    "Do the following\n",
    "\n",
    "- Initialize a variable `x` with value `10`\n",
    "- Initialize a variable `y` with a value from a comparison that checks whether `x` is greater than `5` or not\n",
    "- Print the value associated with `y`\n",
    "- Print the data type of `y`\n",
    "\n",
    "### Exercise 3\n",
    "Do the following\n",
    "\n",
    "- Initialize a variable `x` with value `True`\n",
    "- Initialize a variable `y` with value `100`\n",
    "- Check if `x` is of type `bool` (Hint: type `?isinstance` to see how you can use it)\n",
    "- Similarly, check if `y` is of type `bool`\n",
    "\n",
    "### Exercise 4\n",
    "Do the following\n",
    "\n",
    "- Initialize a variable `x` with value `7`\n",
    "- Check if `x` is greater than or equal to `5`. If true, print `\"Above average\"`. Otherwise, print `\"Below average\"`.\n",
    "\n",
    "### Exercise 5\n",
    "Replicate Ex 4, but this time, use `not`\n",
    "\n",
    "### Exercise 6\n",
    "Give three typecasting examples that produce `True` and three others that produce `False`.\n",
    "\n",
    "### Exercise 7\n",
    "Do the following\n",
    "\n",
    "- Initialize a variable `x` with an arbitrary value\n",
    "- If `x` is even, print `\"Even\"`. Otherwise, print `\"Odd\"`\n",
    "- Try your code with different values of `x`\n",
    "\n",
    "### Exercise 8\n",
    "Do the following\n",
    "\n",
    "- Replicate Ex 7, but this time assign `5.5` to `x`\n",
    "- What happens?\n",
    "- What is your opinion?"
   ]
  }
 ],
 "metadata": {
  "kernelspec": {
   "display_name": "Python 3 (ipykernel)",
   "language": "python",
   "name": "python3"
  },
  "language_info": {
   "codemirror_mode": {
    "name": "ipython",
    "version": 3
   },
   "file_extension": ".py",
   "mimetype": "text/x-python",
   "name": "python",
   "nbconvert_exporter": "python",
   "pygments_lexer": "ipython3",
   "version": "3.9.12"
  }
 },
 "nbformat": 4,
 "nbformat_minor": 5
}
