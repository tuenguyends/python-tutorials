{
 "cells": [
  {
   "cell_type": "markdown",
   "id": "b1d9d513-e41e-47b5-bde0-bc10d855d08a",
   "metadata": {},
   "source": [
    "# NoneType type\n",
    "Author: Tue Nguyen"
   ]
  },
  {
   "cell_type": "markdown",
   "id": "a5ef0ceb-55c9-4d4a-b3d8-6e601344d9e6",
   "metadata": {},
   "source": [
    "## Outline\n",
    "- Why `NoneType` type?\n",
    "- How to get a `NoneType`?\n",
    "- When uses `NoneType`?\n",
    "- Operations on `NoneType`"
   ]
  },
  {
   "cell_type": "markdown",
   "id": "326e9850-6bb4-4f10-8ae2-d58da579c6a5",
   "metadata": {},
   "source": [
    "## Why `NoneType` type?\n",
    "- **Motivation:** used to represent the state of being unknown/undefined in both data kind and data value\n",
    "    - Note that being undefined is NOT the same as being empty\n",
    "    - An empty list still belong to the list type\n",
    "- **Real-life data:** unknown values, missing values\n",
    "- **Python implementation:** \n",
    "    - Type: `NoneType`\n",
    "    - Possible values: `None`"
   ]
  },
  {
   "cell_type": "markdown",
   "id": "c035421d-8444-41d2-8dbc-b9ee63f4fda5",
   "metadata": {
    "tags": []
   },
   "source": [
    "## How to get a `NoneType`?"
   ]
  },
  {
   "cell_type": "markdown",
   "id": "c71629b2-08e2-4b7c-a0bd-2c3f95f5ed99",
   "metadata": {},
   "source": [
    "**a) Ex 1: from the `None` literal**"
   ]
  },
  {
   "cell_type": "code",
   "execution_count": 67,
   "id": "6b8336ba-d16c-4ba5-9549-040368117585",
   "metadata": {},
   "outputs": [],
   "source": [
    "# Assign None to x\n",
    "x = None"
   ]
  },
  {
   "cell_type": "code",
   "execution_count": 68,
   "id": "25e134f8-7958-4df4-95e0-d4c514eecd57",
   "metadata": {},
   "outputs": [
    {
     "data": {
      "text/plain": [
       "NoneType"
      ]
     },
     "execution_count": 68,
     "metadata": {},
     "output_type": "execute_result"
    }
   ],
   "source": [
    "# Check type\n",
    "type(x)"
   ]
  },
  {
   "cell_type": "markdown",
   "id": "39fe47fb-9ae6-4a29-af72-38e5d6a42d59",
   "metadata": {},
   "source": [
    "Notes\n",
    "- When you evaluate `None` on a code cell of Jupyter Lab, you will not see anything printed out\n",
    "- To display `None` you have to explicitly print it out using `print()`"
   ]
  },
  {
   "cell_type": "code",
   "execution_count": 3,
   "id": "209d20cc-2791-48b1-ba90-3bb6708b0897",
   "metadata": {},
   "outputs": [],
   "source": [
    "# None value will not show up this way\n",
    "x"
   ]
  },
  {
   "cell_type": "code",
   "execution_count": 4,
   "id": "6811bc31-36f3-4367-bea9-1e46bb8ed568",
   "metadata": {},
   "outputs": [
    {
     "name": "stdout",
     "output_type": "stream",
     "text": [
      "None\n"
     ]
    }
   ],
   "source": [
    "# Explicity print out the None value\n",
    "print(x)"
   ]
  },
  {
   "cell_type": "markdown",
   "id": "9ee2c95f-b7b3-4b42-9bc4-8ce29ee32727",
   "metadata": {
    "tags": []
   },
   "source": [
    "**b) Ex 2: from an expression that produces `None`**"
   ]
  },
  {
   "cell_type": "code",
   "execution_count": 69,
   "id": "e01f62f3-48a8-4e3e-970f-b5a5ec836803",
   "metadata": {},
   "outputs": [
    {
     "name": "stdout",
     "output_type": "stream",
     "text": [
      "Hello\n"
     ]
    }
   ],
   "source": [
    "# A print statement returns None\n",
    "# Thus, after the assignment, x will be None, not Hello\n",
    "x = print(\"Hello\")"
   ]
  },
  {
   "cell_type": "markdown",
   "id": "557b40d0-c40c-4cfa-9121-afa9c197a1af",
   "metadata": {},
   "source": [
    "**Notes**\n",
    "\n",
    "- Many people misunderstand that x will assume the value `\"Hello\"` after the above assignment\n",
    "- It's NOT true\n",
    "- `\"Hello\"` is what `print` prints out, it's not what `print` returns\n",
    "- You will learn more about function later. For now, just accept that \n",
    "    - `print` prints out `\"Hello\"`\n",
    "    - But after the printing is done, it returns something else to the place where it is called\n",
    "    - This returned value is `None`"
   ]
  },
  {
   "cell_type": "code",
   "execution_count": 70,
   "id": "14a35929-5f2c-4332-b46c-4b4b3c41ad2b",
   "metadata": {},
   "outputs": [
    {
     "name": "stdout",
     "output_type": "stream",
     "text": [
      "None\n",
      "<class 'NoneType'>\n"
     ]
    }
   ],
   "source": [
    "# Let's confirm that x is indeed None\n",
    "print(x)\n",
    "print(type(x))"
   ]
  },
  {
   "cell_type": "markdown",
   "id": "4799629f-2de4-4015-a4dc-8b5d6fa40d5f",
   "metadata": {},
   "source": [
    "## When uses `NoneType`?\n",
    "\n",
    "- The advantages of using `NoneType` might not be obvious at this stage\n",
    "- But it will become clear as learn more about Python\n",
    "- `NoneType` is normally used as a return option of a function to indicate that the function already did what you asked, but it couldn't find anything that makes sense\n",
    "- Let's consider an example"
   ]
  },
  {
   "cell_type": "code",
   "execution_count": 24,
   "id": "50ceb558-03a0-4a31-aeb5-ea270412ae43",
   "metadata": {},
   "outputs": [],
   "source": [
    "# Init a string\n",
    "s = \"This is a dog\""
   ]
  },
  {
   "cell_type": "code",
   "execution_count": 25,
   "id": "11d787b6-eb2e-4cab-8a07-7f0ac3cc4e54",
   "metadata": {},
   "outputs": [],
   "source": [
    "# Now, suppose we want to check if some other string is contained in `s`\n",
    "# We can use re.search() function of module re\n",
    "# Thus, we need to import module re` to use its search function\n",
    "import re"
   ]
  },
  {
   "cell_type": "code",
   "execution_count": 38,
   "id": "7e063463-88f2-4b1c-a0a3-fc68976ca8a1",
   "metadata": {},
   "outputs": [
    {
     "data": {
      "text/plain": [
       "\u001b[1;31mSignature:\u001b[0m \u001b[0mre\u001b[0m\u001b[1;33m.\u001b[0m\u001b[0msearch\u001b[0m\u001b[1;33m(\u001b[0m\u001b[0mpattern\u001b[0m\u001b[1;33m,\u001b[0m \u001b[0mstring\u001b[0m\u001b[1;33m,\u001b[0m \u001b[0mflags\u001b[0m\u001b[1;33m=\u001b[0m\u001b[1;36m0\u001b[0m\u001b[1;33m)\u001b[0m\u001b[1;33m\u001b[0m\u001b[1;33m\u001b[0m\u001b[0m\n",
       "\u001b[1;31mDocstring:\u001b[0m\n",
       "Scan through string looking for a match to the pattern, returning\n",
       "a Match object, or None if no match was found.\n",
       "\u001b[1;31mFile:\u001b[0m      c:\\users\\nguye\\anaconda3\\lib\\re.py\n",
       "\u001b[1;31mType:\u001b[0m      function\n"
      ]
     },
     "metadata": {},
     "output_type": "display_data"
    }
   ],
   "source": [
    "# You can read the document for re.search for more details\n",
    "?re.search"
   ]
  },
  {
   "cell_type": "code",
   "execution_count": 64,
   "id": "229631fd-127a-418d-9d35-55605e31178f",
   "metadata": {},
   "outputs": [
    {
     "name": "stdout",
     "output_type": "stream",
     "text": [
      "None\n",
      "<class 'NoneType'>\n"
     ]
    }
   ],
   "source": [
    "# We try to search for 'cat' is in s\n",
    "found = re.search(\"cat\", s)\n",
    "\n",
    "# Since 'cat' is not in s, re.search returns None \n",
    "# to indicate that it couldn't find anything\n",
    "print(found)\n",
    "print(type(found))"
   ]
  },
  {
   "cell_type": "code",
   "execution_count": 27,
   "id": "202640f8-da78-4d93-8f3b-870004e22351",
   "metadata": {},
   "outputs": [
    {
     "name": "stdout",
     "output_type": "stream",
     "text": [
      "<re.Match object; span=(10, 13), match='dog'>\n",
      "<class 're.Match'>\n"
     ]
    }
   ],
   "source": [
    "# Now, try to search for 'dog' in s\n",
    "found = re.search(\"dog\", s)\n",
    "\n",
    "# Since 'dog' is indeed in s\n",
    "# re.search returns something different from None\n",
    "# which is a re.Match object that contains the position of the match\n",
    "print(found)\n",
    "print(type(found))"
   ]
  },
  {
   "cell_type": "markdown",
   "id": "c2f9fed1-a105-46c4-bec8-fbbc88695462",
   "metadata": {
    "tags": []
   },
   "source": [
    "## Operations on `NoneType`\n",
    "\n",
    "- There is not much we can do with `NoneType` because it is so simple\n",
    "- The most commonly used operation is to check if a variable is actually `None`\n",
    "- To do this, we perform a comparison using `is`"
   ]
  },
  {
   "cell_type": "markdown",
   "id": "b9d170cf-67f0-4ad3-84d0-7d2e9f435972",
   "metadata": {},
   "source": [
    "**a) Ex 1: simple examples**"
   ]
  },
  {
   "cell_type": "code",
   "execution_count": 28,
   "id": "e7d6274c-d7bc-43aa-ad92-1cc4ec2b701e",
   "metadata": {},
   "outputs": [],
   "source": [
    "# Init two variables\n",
    "x = None\n",
    "y = 10"
   ]
  },
  {
   "cell_type": "code",
   "execution_count": 29,
   "id": "66cd400b-0f09-4fe7-af4d-3a2af35032dc",
   "metadata": {},
   "outputs": [
    {
     "data": {
      "text/plain": [
       "True"
      ]
     },
     "execution_count": 29,
     "metadata": {},
     "output_type": "execute_result"
    }
   ],
   "source": [
    "# Check if x is None\n",
    "x is None"
   ]
  },
  {
   "cell_type": "code",
   "execution_count": 30,
   "id": "3c6b1618-0a18-4805-8bee-722cafbbd962",
   "metadata": {},
   "outputs": [
    {
     "data": {
      "text/plain": [
       "False"
      ]
     },
     "execution_count": 30,
     "metadata": {},
     "output_type": "execute_result"
    }
   ],
   "source": [
    "# Check if y is None\n",
    "y is None"
   ]
  },
  {
   "cell_type": "code",
   "execution_count": 31,
   "id": "7861ff5d-8592-48c4-b18f-57f3de47c536",
   "metadata": {},
   "outputs": [
    {
     "data": {
      "text/plain": [
       "False"
      ]
     },
     "execution_count": 31,
     "metadata": {},
     "output_type": "execute_result"
    }
   ],
   "source": [
    "# Check if x is NOT None\n",
    "x is not None"
   ]
  },
  {
   "cell_type": "code",
   "execution_count": 32,
   "id": "f3a77c0d-d765-4433-85eb-cb92f1da5a32",
   "metadata": {},
   "outputs": [
    {
     "data": {
      "text/plain": [
       "True"
      ]
     },
     "execution_count": 32,
     "metadata": {},
     "output_type": "execute_result"
    }
   ],
   "source": [
    "# Check if y is NOT None\n",
    "y is not None"
   ]
  },
  {
   "cell_type": "markdown",
   "id": "3f122032-90cb-4d09-ab01-fe3be0575256",
   "metadata": {},
   "source": [
    "**b) Ex 2: more interesting examples**"
   ]
  },
  {
   "cell_type": "code",
   "execution_count": 34,
   "id": "b8d57ade-d8dc-4ae6-ba38-672ad1019646",
   "metadata": {},
   "outputs": [],
   "source": [
    "# Init a string\n",
    "s = \"This is a dog\""
   ]
  },
  {
   "cell_type": "markdown",
   "id": "3619c176-2ef7-4f34-9f30-ad59f35bdc19",
   "metadata": {},
   "source": [
    "b1) Find 'dog' in `s`"
   ]
  },
  {
   "cell_type": "code",
   "execution_count": 41,
   "id": "5763056e-8399-47cc-92e4-9b629fa2b02e",
   "metadata": {},
   "outputs": [],
   "source": [
    "# Search for 'dog'\n",
    "substr = \"dog\"\n",
    "found = re.search(substr, s)"
   ]
  },
  {
   "cell_type": "code",
   "execution_count": 61,
   "id": "2cdb6f5f-bc2c-46c2-bf56-86b8019b0c6e",
   "metadata": {},
   "outputs": [
    {
     "name": "stdout",
     "output_type": "stream",
     "text": [
      "Found dog in s beginning at 10 and ending at 13\n"
     ]
    }
   ],
   "source": [
    "# If found, print out the starting and ending indices\n",
    "# Otherwise, print not found\n",
    "if found is None:\n",
    "    print(f\"'{substr}' is not in s\")\n",
    "else:\n",
    "    start = found.start()\n",
    "    end = found.end()\n",
    "    print(f\"Found {substr} in s beginning at {start} and ending at {end}\")"
   ]
  },
  {
   "cell_type": "markdown",
   "id": "4d843641-7785-47e4-86dd-d5bd56e6d5da",
   "metadata": {},
   "source": [
    "b2) Find 'cat' in `s`"
   ]
  },
  {
   "cell_type": "code",
   "execution_count": 62,
   "id": "83ae8f49-5838-4798-a398-ed9f1a881ff2",
   "metadata": {},
   "outputs": [],
   "source": [
    "# Same as above, but now we search for 'cat'\n",
    "substr = \"cat\"\n",
    "found = re.search(substr, s)"
   ]
  },
  {
   "cell_type": "code",
   "execution_count": 63,
   "id": "bd5e64d3-163f-41ce-a26f-83471ffba59e",
   "metadata": {},
   "outputs": [
    {
     "name": "stdout",
     "output_type": "stream",
     "text": [
      "'cat' is not in s\n"
     ]
    }
   ],
   "source": [
    "# If found, print out the starting and ending indices\n",
    "# Otherwise, print not found\n",
    "if found is None:\n",
    "    print(f\"'{substr}' is not in s\")\n",
    "else:\n",
    "    start = found.start()\n",
    "    end = found.end()\n",
    "    print(f\"Found {substr} in s beginning at {start} and ending at {end}\")"
   ]
  },
  {
   "cell_type": "markdown",
   "id": "6fc44ea5-722b-43b2-9a21-e3bef95ece17",
   "metadata": {},
   "source": [
    "**Remarks**: \n",
    "\n",
    "- We can also use `==` instead of `is` to check if a variable is `None`\n",
    "- But it is NOT recommended\n",
    "- For a detailed explanation, read [here](https://stackoverflow.com/questions/3257919/what-is-the-difference-between-is-none-and-none/3257957#3257957)."
   ]
  },
  {
   "cell_type": "markdown",
   "id": "50086778-a650-47e5-84b6-c62dfa7d3335",
   "metadata": {},
   "source": [
    "## Summary\n",
    "**Why `NoneType`?**\n",
    "- Used to represent unknown or missing data\n",
    "- Use as a returned value of a function to indicate something. Ex: not found, or the function just does something and doesn't really return anything so it returns `None` by default\n",
    "\n",
    "**How get a `NoneType`**\n",
    "- From the `None` literal\n",
    "    - Ex: `x = None`\n",
    "- From an expression that produces `None`\n",
    "    - Ex: `x = re.search(\"cat\", \"This is a dog\")`\n",
    "\n",
    "**When uses `NoneType`?**\n",
    "- Used to represent unknown or missing data\n",
    "- Use as a returned value of a function to indicate something\n",
    "\n",
    "**Operations on `NoneType`?**\n",
    "- Check if a variable is or is NOT `None`\n",
    "    - Ex 1: `x is None`\n",
    "    - Ex 2: `x is not None`\n",
    "- We can use `==` instead of `is`, but this practice is NOT recommended"
   ]
  },
  {
   "cell_type": "markdown",
   "id": "20597e7a-7ab1-4258-bb73-00eb89b63333",
   "metadata": {},
   "source": [
    "## Practice\n",
    "To be updated"
   ]
  }
 ],
 "metadata": {
  "kernelspec": {
   "display_name": "Python 3 (ipykernel)",
   "language": "python",
   "name": "python3"
  },
  "language_info": {
   "codemirror_mode": {
    "name": "ipython",
    "version": 3
   },
   "file_extension": ".py",
   "mimetype": "text/x-python",
   "name": "python",
   "nbconvert_exporter": "python",
   "pygments_lexer": "ipython3",
   "version": "3.9.12"
  }
 },
 "nbformat": 4,
 "nbformat_minor": 5
}
